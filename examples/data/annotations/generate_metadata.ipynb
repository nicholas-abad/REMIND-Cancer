{
 "cells": [
  {
   "cell_type": "code",
   "execution_count": 11,
   "metadata": {},
   "outputs": [],
   "source": [
    "import pandas as pd"
   ]
  },
  {
   "cell_type": "code",
   "execution_count": 12,
   "metadata": {},
   "outputs": [],
   "source": [
    "path_to_metadata = \"/Users/nicholasabad/Desktop/workspace/REMIND-Cancer/examples/data/annotations/metadata_with_local.csv\"\n",
    "\n",
    "folder_of_snv_data = \"/your/absolute/path/here\""
   ]
  },
  {
   "cell_type": "code",
   "execution_count": 13,
   "metadata": {},
   "outputs": [
    {
     "data": {
      "text/html": [
       "<div>\n",
       "<style scoped>\n",
       "    .dataframe tbody tr th:only-of-type {\n",
       "        vertical-align: middle;\n",
       "    }\n",
       "\n",
       "    .dataframe tbody tr th {\n",
       "        vertical-align: top;\n",
       "    }\n",
       "\n",
       "    .dataframe thead th {\n",
       "        text-align: right;\n",
       "    }\n",
       "</style>\n",
       "<table border=\"1\" class=\"dataframe\">\n",
       "  <thead>\n",
       "    <tr style=\"text-align: right;\">\n",
       "      <th></th>\n",
       "      <th>pid</th>\n",
       "      <th>tumor_origin</th>\n",
       "      <th>path_to_wgs_file</th>\n",
       "      <th>cohort</th>\n",
       "      <th>ge_data_available</th>\n",
       "    </tr>\n",
       "  </thead>\n",
       "  <tbody>\n",
       "    <tr>\n",
       "      <th>0</th>\n",
       "      <td>pid0</td>\n",
       "      <td>primary_tumor</td>\n",
       "      <td>/Users/nicholasabad/Desktop/workspace/REMIND-C...</td>\n",
       "      <td>some_fictional_cohort</td>\n",
       "      <td>True</td>\n",
       "    </tr>\n",
       "    <tr>\n",
       "      <th>1</th>\n",
       "      <td>pid1</td>\n",
       "      <td>primary_tumor</td>\n",
       "      <td>/Users/nicholasabad/Desktop/workspace/REMIND-C...</td>\n",
       "      <td>some_fictional_cohort</td>\n",
       "      <td>True</td>\n",
       "    </tr>\n",
       "    <tr>\n",
       "      <th>2</th>\n",
       "      <td>pid2</td>\n",
       "      <td>primary_tumor</td>\n",
       "      <td>/Users/nicholasabad/Desktop/workspace/REMIND-C...</td>\n",
       "      <td>some_fictional_cohort</td>\n",
       "      <td>True</td>\n",
       "    </tr>\n",
       "    <tr>\n",
       "      <th>3</th>\n",
       "      <td>pid3</td>\n",
       "      <td>primary_tumor</td>\n",
       "      <td>/Users/nicholasabad/Desktop/workspace/REMIND-C...</td>\n",
       "      <td>some_fictional_cohort</td>\n",
       "      <td>True</td>\n",
       "    </tr>\n",
       "    <tr>\n",
       "      <th>4</th>\n",
       "      <td>pid4</td>\n",
       "      <td>primary_tumor</td>\n",
       "      <td>/Users/nicholasabad/Desktop/workspace/REMIND-C...</td>\n",
       "      <td>some_fictional_cohort</td>\n",
       "      <td>True</td>\n",
       "    </tr>\n",
       "  </tbody>\n",
       "</table>\n",
       "</div>"
      ],
      "text/plain": [
       "    pid   tumor_origin                                   path_to_wgs_file  \\\n",
       "0  pid0  primary_tumor  /Users/nicholasabad/Desktop/workspace/REMIND-C...   \n",
       "1  pid1  primary_tumor  /Users/nicholasabad/Desktop/workspace/REMIND-C...   \n",
       "2  pid2  primary_tumor  /Users/nicholasabad/Desktop/workspace/REMIND-C...   \n",
       "3  pid3  primary_tumor  /Users/nicholasabad/Desktop/workspace/REMIND-C...   \n",
       "4  pid4  primary_tumor  /Users/nicholasabad/Desktop/workspace/REMIND-C...   \n",
       "\n",
       "                  cohort  ge_data_available  \n",
       "0  some_fictional_cohort               True  \n",
       "1  some_fictional_cohort               True  \n",
       "2  some_fictional_cohort               True  \n",
       "3  some_fictional_cohort               True  \n",
       "4  some_fictional_cohort               True  "
      ]
     },
     "execution_count": 13,
     "metadata": {},
     "output_type": "execute_result"
    }
   ],
   "source": [
    "metadata = pd.read_csv(path_to_metadata)\n",
    "metadata.head()"
   ]
  },
  {
   "cell_type": "code",
   "execution_count": 14,
   "metadata": {},
   "outputs": [
    {
     "data": {
      "text/plain": [
       "'/Users/nicholasabad/Desktop/workspace/REMIND-Cancer/examples/data/snv_data/pid0_wgs_snv_file.vcf'"
      ]
     },
     "execution_count": 14,
     "metadata": {},
     "output_type": "execute_result"
    }
   ],
   "source": [
    "metadata.iloc[0][\"path_to_wgs_file\"]"
   ]
  },
  {
   "cell_type": "code",
   "execution_count": 15,
   "metadata": {},
   "outputs": [],
   "source": [
    "metadata[\"path_to_wgs_file\"] = metadata[\"path_to_wgs_file\"].str.replace(\n",
    "    \"/Users/nicholasabad/Desktop/workspace/REMIND-Cancer/examples/data/snv_data/\",\n",
    "    folder_of_snv_data if folder_of_snv_data.endswith(\"/\") else folder_of_snv_data + \"/\"\n",
    ")"
   ]
  },
  {
   "cell_type": "code",
   "execution_count": 17,
   "metadata": {},
   "outputs": [],
   "source": [
    "# metadata.to_csv(\n",
    "#     path_to_metadata,\n",
    "#     sep=\",\", index=False\n",
    "# )"
   ]
  }
 ],
 "metadata": {
  "kernelspec": {
   "display_name": "remind-cancer",
   "language": "python",
   "name": "python3"
  },
  "language_info": {
   "codemirror_mode": {
    "name": "ipython",
    "version": 3
   },
   "file_extension": ".py",
   "mimetype": "text/x-python",
   "name": "python",
   "nbconvert_exporter": "python",
   "pygments_lexer": "ipython3",
   "version": "3.11.5"
  }
 },
 "nbformat": 4,
 "nbformat_minor": 2
}
