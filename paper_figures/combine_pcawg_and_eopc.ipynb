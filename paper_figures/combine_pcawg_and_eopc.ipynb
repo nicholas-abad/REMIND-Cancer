{
 "cells": [
  {
   "cell_type": "code",
   "execution_count": 1,
   "metadata": {},
   "outputs": [],
   "source": [
    "import pandas as pd"
   ]
  },
  {
   "cell_type": "markdown",
   "metadata": {},
   "source": [
    "### Combine the expression data"
   ]
  },
  {
   "cell_type": "code",
   "execution_count": 2,
   "metadata": {},
   "outputs": [
    {
     "data": {
      "text/plain": [
       "(1120, 52443)"
      ]
     },
     "execution_count": 2,
     "metadata": {},
     "output_type": "execute_result"
    }
   ],
   "source": [
    "pcawg_expression = pd.read_csv(\"/Users/nicholasabad/Desktop/workspace/data/FINAL_18July2024/PCAWG/ge_data/raw_fpkm_dataframe.tsv\", delimiter=\"\\t\")\n",
    "pcawg_expression.shape"
   ]
  },
  {
   "cell_type": "code",
   "execution_count": 6,
   "metadata": {},
   "outputs": [
    {
     "data": {
      "text/html": [
       "<div>\n",
       "<style scoped>\n",
       "    .dataframe tbody tr th:only-of-type {\n",
       "        vertical-align: middle;\n",
       "    }\n",
       "\n",
       "    .dataframe tbody tr th {\n",
       "        vertical-align: top;\n",
       "    }\n",
       "\n",
       "    .dataframe thead th {\n",
       "        text-align: right;\n",
       "    }\n",
       "</style>\n",
       "<table border=\"1\" class=\"dataframe\">\n",
       "  <thead>\n",
       "    <tr style=\"text-align: right;\">\n",
       "      <th></th>\n",
       "      <th>pid</th>\n",
       "      <th>TSPAN6</th>\n",
       "      <th>TNMD</th>\n",
       "      <th>DPM1</th>\n",
       "      <th>SCYL3</th>\n",
       "      <th>C1orf112</th>\n",
       "      <th>FGR</th>\n",
       "      <th>CFH</th>\n",
       "      <th>FUCA2</th>\n",
       "      <th>GCLC</th>\n",
       "      <th>...</th>\n",
       "      <th>AC099676.1</th>\n",
       "      <th>AL391069.4</th>\n",
       "      <th>AL354760.1</th>\n",
       "      <th>OR6R2P</th>\n",
       "      <th>AL139339.2</th>\n",
       "      <th>AC096992.2</th>\n",
       "      <th>AC104836.1</th>\n",
       "      <th>AC008264.2</th>\n",
       "      <th>AP000229.1</th>\n",
       "      <th>AC098479.1</th>\n",
       "    </tr>\n",
       "  </thead>\n",
       "  <tbody>\n",
       "    <tr>\n",
       "      <th>0</th>\n",
       "      <td>301d6ce3-4099-4c1d-8e50-c04b7ce91450</td>\n",
       "      <td>42.801706</td>\n",
       "      <td>0.023809</td>\n",
       "      <td>40.826042</td>\n",
       "      <td>3.824377</td>\n",
       "      <td>1.393597</td>\n",
       "      <td>2.570979</td>\n",
       "      <td>14.970286</td>\n",
       "      <td>35.315739</td>\n",
       "      <td>6.212179</td>\n",
       "      <td>...</td>\n",
       "      <td>2.129609</td>\n",
       "      <td>0.000000</td>\n",
       "      <td>0.357695</td>\n",
       "      <td>0.000000</td>\n",
       "      <td>0.029173</td>\n",
       "      <td>0.819470</td>\n",
       "      <td>0.474345</td>\n",
       "      <td>0.020548</td>\n",
       "      <td>0.018754</td>\n",
       "      <td>0.497831</td>\n",
       "    </tr>\n",
       "    <tr>\n",
       "      <th>1</th>\n",
       "      <td>418a3dec-96ff-4719-becb-e1a8260cce2f</td>\n",
       "      <td>20.576539</td>\n",
       "      <td>0.000000</td>\n",
       "      <td>31.967953</td>\n",
       "      <td>1.641200</td>\n",
       "      <td>2.710276</td>\n",
       "      <td>1.533044</td>\n",
       "      <td>1.999336</td>\n",
       "      <td>25.263176</td>\n",
       "      <td>4.445696</td>\n",
       "      <td>...</td>\n",
       "      <td>0.766492</td>\n",
       "      <td>0.000000</td>\n",
       "      <td>0.071198</td>\n",
       "      <td>0.000000</td>\n",
       "      <td>0.069681</td>\n",
       "      <td>0.883531</td>\n",
       "      <td>0.000000</td>\n",
       "      <td>0.016360</td>\n",
       "      <td>0.082124</td>\n",
       "      <td>0.000000</td>\n",
       "    </tr>\n",
       "    <tr>\n",
       "      <th>2</th>\n",
       "      <td>c66c92d5-df65-46e6-861d-d8a98808e6a3</td>\n",
       "      <td>33.762429</td>\n",
       "      <td>0.031363</td>\n",
       "      <td>13.993789</td>\n",
       "      <td>3.205493</td>\n",
       "      <td>1.080782</td>\n",
       "      <td>2.063978</td>\n",
       "      <td>2.207287</td>\n",
       "      <td>23.094198</td>\n",
       "      <td>4.540533</td>\n",
       "      <td>...</td>\n",
       "      <td>8.415797</td>\n",
       "      <td>0.000000</td>\n",
       "      <td>1.806190</td>\n",
       "      <td>0.000000</td>\n",
       "      <td>0.230570</td>\n",
       "      <td>1.184408</td>\n",
       "      <td>0.351472</td>\n",
       "      <td>0.162406</td>\n",
       "      <td>0.012352</td>\n",
       "      <td>2.131273</td>\n",
       "    </tr>\n",
       "    <tr>\n",
       "      <th>3</th>\n",
       "      <td>448fe471-3f4e-4dc8-a4e0-6f147dc93abe</td>\n",
       "      <td>53.874615</td>\n",
       "      <td>0.000000</td>\n",
       "      <td>49.946929</td>\n",
       "      <td>3.367238</td>\n",
       "      <td>2.717748</td>\n",
       "      <td>2.028673</td>\n",
       "      <td>9.927689</td>\n",
       "      <td>22.887132</td>\n",
       "      <td>7.315506</td>\n",
       "      <td>...</td>\n",
       "      <td>0.937876</td>\n",
       "      <td>0.032026</td>\n",
       "      <td>0.215617</td>\n",
       "      <td>0.000000</td>\n",
       "      <td>0.117234</td>\n",
       "      <td>0.512267</td>\n",
       "      <td>0.166794</td>\n",
       "      <td>0.016515</td>\n",
       "      <td>0.015073</td>\n",
       "      <td>0.150045</td>\n",
       "    </tr>\n",
       "    <tr>\n",
       "      <th>4</th>\n",
       "      <td>94108975-b7a0-40ba-ad39-e44cc62e8cc0</td>\n",
       "      <td>40.339663</td>\n",
       "      <td>0.000000</td>\n",
       "      <td>59.177781</td>\n",
       "      <td>21.175272</td>\n",
       "      <td>10.082878</td>\n",
       "      <td>3.381186</td>\n",
       "      <td>27.355329</td>\n",
       "      <td>24.862478</td>\n",
       "      <td>10.233835</td>\n",
       "      <td>...</td>\n",
       "      <td>4.195511</td>\n",
       "      <td>0.086828</td>\n",
       "      <td>0.811905</td>\n",
       "      <td>0.034804</td>\n",
       "      <td>0.095353</td>\n",
       "      <td>1.488043</td>\n",
       "      <td>0.242253</td>\n",
       "      <td>0.067163</td>\n",
       "      <td>0.040865</td>\n",
       "      <td>0.406796</td>\n",
       "    </tr>\n",
       "  </tbody>\n",
       "</table>\n",
       "<p>5 rows × 52443 columns</p>\n",
       "</div>"
      ],
      "text/plain": [
       "                                    pid     TSPAN6      TNMD       DPM1  \\\n",
       "0  301d6ce3-4099-4c1d-8e50-c04b7ce91450  42.801706  0.023809  40.826042   \n",
       "1  418a3dec-96ff-4719-becb-e1a8260cce2f  20.576539  0.000000  31.967953   \n",
       "2  c66c92d5-df65-46e6-861d-d8a98808e6a3  33.762429  0.031363  13.993789   \n",
       "3  448fe471-3f4e-4dc8-a4e0-6f147dc93abe  53.874615  0.000000  49.946929   \n",
       "4  94108975-b7a0-40ba-ad39-e44cc62e8cc0  40.339663  0.000000  59.177781   \n",
       "\n",
       "       SCYL3   C1orf112       FGR        CFH      FUCA2       GCLC  ...  \\\n",
       "0   3.824377   1.393597  2.570979  14.970286  35.315739   6.212179  ...   \n",
       "1   1.641200   2.710276  1.533044   1.999336  25.263176   4.445696  ...   \n",
       "2   3.205493   1.080782  2.063978   2.207287  23.094198   4.540533  ...   \n",
       "3   3.367238   2.717748  2.028673   9.927689  22.887132   7.315506  ...   \n",
       "4  21.175272  10.082878  3.381186  27.355329  24.862478  10.233835  ...   \n",
       "\n",
       "   AC099676.1  AL391069.4  AL354760.1    OR6R2P  AL139339.2  AC096992.2  \\\n",
       "0    2.129609    0.000000    0.357695  0.000000    0.029173    0.819470   \n",
       "1    0.766492    0.000000    0.071198  0.000000    0.069681    0.883531   \n",
       "2    8.415797    0.000000    1.806190  0.000000    0.230570    1.184408   \n",
       "3    0.937876    0.032026    0.215617  0.000000    0.117234    0.512267   \n",
       "4    4.195511    0.086828    0.811905  0.034804    0.095353    1.488043   \n",
       "\n",
       "   AC104836.1  AC008264.2  AP000229.1  AC098479.1  \n",
       "0    0.474345    0.020548    0.018754    0.497831  \n",
       "1    0.000000    0.016360    0.082124    0.000000  \n",
       "2    0.351472    0.162406    0.012352    2.131273  \n",
       "3    0.166794    0.016515    0.015073    0.150045  \n",
       "4    0.242253    0.067163    0.040865    0.406796  \n",
       "\n",
       "[5 rows x 52443 columns]"
      ]
     },
     "execution_count": 6,
     "metadata": {},
     "output_type": "execute_result"
    }
   ],
   "source": [
    "pcawg_expression.rename({\"Unnamed: 0\": \"pid\"}, axis=1, inplace=True)\n",
    "pcawg_expression.head()"
   ]
  },
  {
   "cell_type": "code",
   "execution_count": 4,
   "metadata": {},
   "outputs": [
    {
     "data": {
      "text/plain": [
       "(23, 51490)"
      ]
     },
     "execution_count": 4,
     "metadata": {},
     "output_type": "execute_result"
    }
   ],
   "source": [
    "eopc_expression = pd.read_csv(\"/Users/nicholasabad/Desktop/workspace/REMIND-Cancer/paper_figures/data/eopc_de_fpkm.csv\")\n",
    "eopc_expression.shape"
   ]
  },
  {
   "cell_type": "code",
   "execution_count": 8,
   "metadata": {},
   "outputs": [],
   "source": [
    "eopc_expression.rename({\"Patient_ID\": \"pid\"}, axis=1, inplace=True)"
   ]
  },
  {
   "cell_type": "code",
   "execution_count": 18,
   "metadata": {},
   "outputs": [],
   "source": [
    "pcawg_and_eopc = pd.concat([pcawg_expression, eopc_expression])\n",
    "pcawg_and_eopc.fillna(0, inplace=True)\n"
   ]
  },
  {
   "cell_type": "code",
   "execution_count": 19,
   "metadata": {},
   "outputs": [],
   "source": [
    "pcawg_and_eopc.to_csv(\"/Users/nicholasabad/Desktop/workspace/REMIND-Cancer/paper_figures/data/pcawg_and_eopc_fpkm.tsv\", sep=\"\\t\", index=False)\n"
   ]
  }
 ],
 "metadata": {
  "kernelspec": {
   "display_name": "psnv-hunter",
   "language": "python",
   "name": "python3"
  },
  "language_info": {
   "codemirror_mode": {
    "name": "ipython",
    "version": 3
   },
   "file_extension": ".py",
   "mimetype": "text/x-python",
   "name": "python",
   "nbconvert_exporter": "python",
   "pygments_lexer": "ipython3",
   "version": "3.11.11"
  }
 },
 "nbformat": 4,
 "nbformat_minor": 2
}
