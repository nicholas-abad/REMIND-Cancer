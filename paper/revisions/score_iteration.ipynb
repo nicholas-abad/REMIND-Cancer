{
 "cells": [
  {
   "cell_type": "code",
   "execution_count": 2,
   "id": "923483ba",
   "metadata": {},
   "outputs": [],
   "source": [
    "import pandas as pd\n",
    "import numpy as np\n",
    "import plotly.graph_objects as go\n",
    "import json\n",
    "\n",
    "from copy import deepcopy\n",
    "\n",
    "from tqdm.notebook import tqdm"
   ]
  },
  {
   "cell_type": "code",
   "execution_count": 3,
   "id": "39efc0dd",
   "metadata": {},
   "outputs": [
    {
     "data": {
      "text/plain": [
       "(1000, 29)"
      ]
     },
     "execution_count": 3,
     "metadata": {},
     "output_type": "execute_result"
    }
   ],
   "source": [
    "data = pd.read_excel(\"../supplement/SupplementalTable7_top1000_pSNVs.xlsx\", skiprows=1)\n",
    "data.shape"
   ]
  },
  {
   "cell_type": "code",
   "execution_count": 4,
   "id": "2b061866",
   "metadata": {},
   "outputs": [
    {
     "data": {
      "text/plain": [
       "POS    \n",
       "1295228    28\n",
       "1295250     7\n",
       "1294883     1\n",
       "1295149     1\n",
       "Name: count, dtype: int64"
      ]
     },
     "execution_count": 4,
     "metadata": {},
     "output_type": "execute_result"
    }
   ],
   "source": [
    "# Check the number of TERT, RALY and CDC20 mutations.\n",
    "data[data[\"GENE\"] == \"TERT\"].value_counts([\"POS\"])"
   ]
  },
  {
   "cell_type": "code",
   "execution_count": 5,
   "id": "57ab1372",
   "metadata": {},
   "outputs": [
    {
     "data": {
      "text/plain": [
       "POS     \n",
       "32580927    4\n",
       "32580916    1\n",
       "Name: count, dtype: int64"
      ]
     },
     "execution_count": 5,
     "metadata": {},
     "output_type": "execute_result"
    }
   ],
   "source": [
    "data[data[\"GENE\"] == \"RALY\"].value_counts([\"POS\"])"
   ]
  },
  {
   "cell_type": "code",
   "execution_count": 6,
   "id": "806a1f32",
   "metadata": {},
   "outputs": [
    {
     "data": {
      "text/plain": [
       "POS     \n",
       "43824528    1\n",
       "43824529    1\n",
       "Name: count, dtype: int64"
      ]
     },
     "execution_count": 6,
     "metadata": {},
     "output_type": "execute_result"
    }
   ],
   "source": [
    "data[data[\"GENE\"] == \"CDC20\"].value_counts([\"POS\"])"
   ]
  },
  {
   "cell_type": "code",
   "execution_count": 65,
   "id": "40600891",
   "metadata": {},
   "outputs": [],
   "source": [
    "# Get the rank sum of the mutations.\n",
    "def get_rank_sum(gene_data, gene, position):\n",
    "    \"\"\"\n",
    "    Get the rank sum of the mutations for a given gene.\n",
    "    \"\"\"\n",
    "    gene_data[\"ranking\"] = data.index + 1\n",
    "    gene_data = gene_data[\n",
    "        (gene_data[\"GENE\"] == gene) & \n",
    "        (gene_data[\"POS\"] == position)\n",
    "    ]\n",
    "\n",
    "    return np.sum(gene_data[\"ranking\"])"
   ]
  },
  {
   "cell_type": "code",
   "execution_count": 8,
   "id": "b2622533",
   "metadata": {},
   "outputs": [],
   "source": [
    "def _add_remind_cancer_score(\n",
    "    dataframe: pd.DataFrame,\n",
    "    remind_cancer_scoring_weights: dict,\n",
    "    ge_column: str\n",
    "):\n",
    "    for idx, row in dataframe.iterrows():\n",
    "        # (1) Genomic.\n",
    "        # Transcription Factors\n",
    "        created_tf_weight = np.min([\n",
    "            float(row[\"num_created_tfs_passing_tf_expression_threshold\"]) *\n",
    "            remind_cancer_scoring_weights[\"genomic\"][\"tfbs\"][\"creation_weight_per_tfbs\"],\n",
    "            remind_cancer_scoring_weights[\"genomic\"][\"tfbs\"][\"creation_weight_maximum\"]\n",
    "        ])\n",
    "\n",
    "        destroyed_tf_weight = np.min([\n",
    "            float(row[\"num_destroyed_tfs_passing_tf_expression_threshold\"]) *\n",
    "            remind_cancer_scoring_weights[\"genomic\"][\"tfbs\"][\"destruction_weight_per_tfbs\"],\n",
    "            remind_cancer_scoring_weights[\"genomic\"][\"tfbs\"][\"destruction_weight_maximum\"]\n",
    "        ])\n",
    "\n",
    "        # Recurrence\n",
    "        recurrence_weight = np.min([\n",
    "            float(row[\"num_recurrent_mutations\"]) *\n",
    "            remind_cancer_scoring_weights[\"genomic\"][\"recurrence\"][\"weight_per_recurrent_mutation\"],\n",
    "            remind_cancer_scoring_weights[\"genomic\"][\"recurrence\"][\"weight_maximum\"]\n",
    "        ])\n",
    "\n",
    "        # Purity\n",
    "        try:\n",
    "            purity_weight = remind_cancer_scoring_weights[\"genomic\"][\"purity\"][\"purity_weight\"] if float(\n",
    "                row[\"ICGC_Estimated_Purity\"]) >= remind_cancer_scoring_weights[\"genomic\"][\"purity\"][\"purity_threshold_for_weight\"] else 0\n",
    "        except:\n",
    "            # print(\n",
    "            #     f\"Purity of {row['ICGC_Estimated_Purity']} does not work. Setting score to 0.\")\n",
    "            purity_weight = 0\n",
    "\n",
    "        # Allele Frequency\n",
    "        try:\n",
    "            af_weight = remind_cancer_scoring_weights[\"genomic\"][\"allele_frequency\"][\"af_weight\"] if float(\n",
    "                row[\"allele_frequency\"]) >= remind_cancer_scoring_weights[\"genomic\"][\"allele_frequency\"][\"af_threshold_for_weight\"] else 0\n",
    "        except:\n",
    "            # print(\n",
    "            #     f\"Allele frequency of {row['allele_frequency']} does not work. Setting score to 0.\")\n",
    "            af_weight = 0\n",
    "\n",
    "        # (2) Transcriptomic\n",
    "        # Gene Expression\n",
    "        gene_expression_weight = np.min([\n",
    "            float(row[ge_column]) *\n",
    "            remind_cancer_scoring_weights[\"transcriptomic\"][\"gene_expression\"][\"weight_per_unit_of_expression\"],\n",
    "            remind_cancer_scoring_weights[\"transcriptomic\"][\"gene_expression\"][\"weight_maximum\"]\n",
    "        ])\n",
    "\n",
    "        # (3) Annotations\n",
    "        # CGC\n",
    "        cgc_weight = bool(row[\"within_cgc_list\"]) * \\\n",
    "            remind_cancer_scoring_weights[\"annotations\"][\"cgc\"][\"weight\"]\n",
    "\n",
    "        # Open Chromatin\n",
    "        open_chromatin_weight = bool(\n",
    "            row[\"open_chromatin\"]) * remind_cancer_scoring_weights[\"annotations\"][\"open_chromatin\"][\"weight\"]\n",
    "\n",
    "        dataframe.loc[idx, \"score_v2\"] = np.round(\n",
    "            np.sum([\n",
    "                created_tf_weight,\n",
    "                destroyed_tf_weight,\n",
    "                recurrence_weight,\n",
    "                purity_weight,\n",
    "                af_weight,\n",
    "                gene_expression_weight,\n",
    "                cgc_weight,\n",
    "                open_chromatin_weight\n",
    "            ]), 2)\n",
    "\n",
    "    dataframe = dataframe.sort_values(\"score_v2\", ascending=False)\n",
    "\n",
    "    return dataframe\n",
    "\n",
    "with open(\"../../examples/results/configuration_file.json\", \"r\") as f:\n",
    "    scoring_weights = json.load(f)\n",
    "    scoring_weights = scoring_weights[\"REMIND-Cancer_scoring_weights\"]\n",
    "\n",
    "data = _add_remind_cancer_score(\n",
    "    dataframe=data,\n",
    "    remind_cancer_scoring_weights=scoring_weights,\n",
    "    ge_column=\"FPKM_Z_score\"\n",
    ")"
   ]
  },
  {
   "cell_type": "code",
   "execution_count": null,
   "id": "c763b668",
   "metadata": {},
   "outputs": [],
   "source": []
  },
  {
   "cell_type": "code",
   "execution_count": 143,
   "id": "aeeb1a1a",
   "metadata": {},
   "outputs": [
    {
     "data": {
      "text/plain": [
       "{'genomic': {'tfbs': {'creation_weight_per_tfbs': 2,\n",
       "   'creation_weight_maximum': 6,\n",
       "   'destruction_weight_per_tfbs': 2,\n",
       "   'destruction_weight_maximum': 6},\n",
       "  'recurrence': {'weight_per_recurrent_mutation': 5, 'weight_maximum': 25},\n",
       "  'purity': {'purity_threshold_for_weight': 0.25, 'purity_weight': 10},\n",
       "  'allele_frequency': {'af_threshold_for_weight': 0.3, 'af_weight': 10}},\n",
       " 'transcriptomic': {'gene_expression': {'weight_per_unit_of_expression': 5,\n",
       "   'weight_maximum': 25}},\n",
       " 'annotations': {'open_chromatin': {'weight': 20}, 'cgc': {'weight': 15}}}"
      ]
     },
     "execution_count": 143,
     "metadata": {},
     "output_type": "execute_result"
    }
   ],
   "source": [
    "scoring_weights"
   ]
  },
  {
   "cell_type": "code",
   "execution_count": 155,
   "id": "000257e1",
   "metadata": {},
   "outputs": [
    {
     "data": {
      "application/vnd.jupyter.widget-view+json": {
       "model_id": "8b3613e111c5468b9584e124c04fcdc0",
       "version_major": 2,
       "version_minor": 0
      },
      "text/plain": [
       "Calculating scores for TERT at position 1295228:   0%|          | 0/100 [00:00<?, ?it/s]"
      ]
     },
     "metadata": {},
     "output_type": "display_data"
    },
    {
     "data": {
      "application/vnd.jupyter.widget-view+json": {
       "model_id": "365b2547720a40a4a9f0bf342029cf6c",
       "version_major": 2,
       "version_minor": 0
      },
      "text/plain": [
       "Calculating scores for TERT at position 1295250:   0%|          | 0/100 [00:00<?, ?it/s]"
      ]
     },
     "metadata": {},
     "output_type": "display_data"
    },
    {
     "data": {
      "application/vnd.jupyter.widget-view+json": {
       "model_id": "1f2724a21e054fad8ae127c55052c7cd",
       "version_major": 2,
       "version_minor": 0
      },
      "text/plain": [
       "Calculating scores for RALY at position 32580927:   0%|          | 0/100 [00:00<?, ?it/s]"
      ]
     },
     "metadata": {},
     "output_type": "display_data"
    },
    {
     "data": {
      "application/vnd.jupyter.widget-view+json": {
       "model_id": "45061773849746318f36f64d1e61c6ae",
       "version_major": 2,
       "version_minor": 0
      },
      "text/plain": [
       "Calculating scores for CDC20 at position 43824529:   0%|          | 0/100 [00:00<?, ?it/s]"
      ]
     },
     "metadata": {},
     "output_type": "display_data"
    },
    {
     "data": {
      "application/vnd.plotly.v1+json": {
       "config": {
        "plotlyServerURL": "https://plot.ly"
       },
       "data": [
        {
         "marker": {
          "color": "red",
          "size": 10
         },
         "mode": "lines",
         "name": "TERT 1295228",
         "type": "scatter",
         "x": {
          "bdata": "AAAAAAAA8D8AAAAAAAAAQAAAAAAAAAhAAAAAAAAAEEAAAAAAAAAUQAAAAAAAABhAAAAAAAAAHEAAAAAAAAAgQAAAAAAAACJAAAAAAAAAJEAAAAAAAAAmQAAAAAAAAChAAAAAAAAAKkAAAAAAAAAsQAAAAAAAAC5AAAAAAAAAMEAAAAAAAAAxQAAAAAAAADJAAAAAAAAAM0AAAAAAAAA0QAAAAAAAADVAAAAAAAAANkAAAAAAAAA3QAAAAAAAADhAAAAAAAAAOUAAAAAAAAA6QAAAAAAAADtAAAAAAAAAPEAAAAAAAAA9QAAAAAAAAD5AAAAAAAAAP0AAAAAAAABAQAAAAAAAgEBAAAAAAAAAQUAAAAAAAIBBQAAAAAAAAEJAAAAAAACAQkAAAAAAAABDQAAAAAAAgENAAAAAAAAAREAAAAAAAIBEQAAAAAAAAEVAAAAAAACARUAAAAAAAABGQAAAAAAAgEZAAAAAAAAAR0AAAAAAAIBHQAAAAAAAAEhAAAAAAACASEAAAAAAAABJQAAAAAAAgElAAAAAAAAASkAAAAAAAIBKQAAAAAAAAEtAAAAAAACAS0AAAAAAAABMQAAAAAAAgExAAAAAAAAATUAAAAAAAIBNQAAAAAAAAE5AAAAAAACATkAAAAAAAABPQAAAAAAAgE9AAAAAAAAAUEAAAAAAAEBQQAAAAAAAgFBAAAAAAADAUEAAAAAAAABRQAAAAAAAQFFAAAAAAACAUUAAAAAAAMBRQAAAAAAAAFJAAAAAAABAUkAAAAAAAIBSQAAAAAAAwFJAAAAAAAAAU0AAAAAAAEBTQAAAAAAAgFNAAAAAAADAU0AAAAAAAABUQAAAAAAAQFRAAAAAAACAVEAAAAAAAMBUQAAAAAAAAFVAAAAAAABAVUAAAAAAAIBVQAAAAAAAwFVAAAAAAAAAVkAAAAAAAEBWQAAAAAAAgFZAAAAAAADAVkAAAAAAAABXQAAAAAAAQFdAAAAAAACAV0AAAAAAAMBXQAAAAAAAAFhAAAAAAABAWEAAAAAAAIBYQAAAAAAAwFhAAAAAAAAAWUA=",
          "dtype": "f8"
         },
         "y": [
          1491,
          1576,
          1703,
          1773,
          1860,
          1956,
          2050,
          2206,
          2296,
          2344,
          2400,
          2492,
          2580,
          2640,
          2707,
          2747,
          2772,
          2832,
          2899,
          2986,
          3072,
          3165,
          3304,
          3395,
          3447,
          3447,
          3447,
          3447,
          3447,
          3447,
          3447,
          3447,
          3447,
          3447,
          3447,
          3447,
          3447,
          3447,
          3447,
          3447,
          3447,
          3447,
          3447,
          3447,
          3447,
          3447,
          3447,
          3447,
          3447,
          3447,
          3447,
          3447,
          3447,
          3447,
          3447,
          3447,
          3447,
          3447,
          3447,
          3447,
          3447,
          3447,
          3447,
          3447,
          3447,
          3447,
          3447,
          3447,
          3447,
          3447,
          3447,
          3447,
          3447,
          3447,
          3447,
          3447,
          3447,
          3447,
          3447,
          3447,
          3447,
          3447,
          3447,
          3447,
          3447,
          3447,
          3447,
          3447,
          3447,
          3447,
          3447,
          3447,
          3447,
          3447,
          3447,
          3447,
          3447,
          3447,
          3447,
          3447
         ]
        },
        {
         "marker": {
          "color": "blue",
          "size": 10
         },
         "mode": "lines",
         "name": "TERT 1295250",
         "type": "scatter",
         "x": {
          "bdata": "AAAAAAAA8D8AAAAAAAAAQAAAAAAAAAhAAAAAAAAAEEAAAAAAAAAUQAAAAAAAABhAAAAAAAAAHEAAAAAAAAAgQAAAAAAAACJAAAAAAAAAJEAAAAAAAAAmQAAAAAAAAChAAAAAAAAAKkAAAAAAAAAsQAAAAAAAAC5AAAAAAAAAMEAAAAAAAAAxQAAAAAAAADJAAAAAAAAAM0AAAAAAAAA0QAAAAAAAADVAAAAAAAAANkAAAAAAAAA3QAAAAAAAADhAAAAAAAAAOUAAAAAAAAA6QAAAAAAAADtAAAAAAAAAPEAAAAAAAAA9QAAAAAAAAD5AAAAAAAAAP0AAAAAAAABAQAAAAAAAgEBAAAAAAAAAQUAAAAAAAIBBQAAAAAAAAEJAAAAAAACAQkAAAAAAAABDQAAAAAAAgENAAAAAAAAAREAAAAAAAIBEQAAAAAAAAEVAAAAAAACARUAAAAAAAABGQAAAAAAAgEZAAAAAAAAAR0AAAAAAAIBHQAAAAAAAAEhAAAAAAACASEAAAAAAAABJQAAAAAAAgElAAAAAAAAASkAAAAAAAIBKQAAAAAAAAEtAAAAAAACAS0AAAAAAAABMQAAAAAAAgExAAAAAAAAATUAAAAAAAIBNQAAAAAAAAE5AAAAAAACATkAAAAAAAABPQAAAAAAAgE9AAAAAAAAAUEAAAAAAAEBQQAAAAAAAgFBAAAAAAADAUEAAAAAAAABRQAAAAAAAQFFAAAAAAACAUUAAAAAAAMBRQAAAAAAAAFJAAAAAAABAUkAAAAAAAIBSQAAAAAAAwFJAAAAAAAAAU0AAAAAAAEBTQAAAAAAAgFNAAAAAAADAU0AAAAAAAABUQAAAAAAAQFRAAAAAAACAVEAAAAAAAMBUQAAAAAAAAFVAAAAAAABAVUAAAAAAAIBVQAAAAAAAwFVAAAAAAAAAVkAAAAAAAEBWQAAAAAAAgFZAAAAAAADAVkAAAAAAAABXQAAAAAAAQFdAAAAAAACAV0AAAAAAAMBXQAAAAAAAAFhAAAAAAABAWEAAAAAAAIBYQAAAAAAAwFhAAAAAAAAAWUA=",
          "dtype": "f8"
         },
         "y": [
          537,
          565,
          610,
          631,
          653,
          683,
          714,
          764,
          792,
          803,
          824,
          855,
          878,
          890,
          911,
          929,
          938,
          936,
          963,
          986,
          1011,
          1040,
          1089,
          1121,
          1141,
          1141,
          1141,
          1141,
          1141,
          1141,
          1141,
          1141,
          1141,
          1141,
          1141,
          1141,
          1141,
          1141,
          1141,
          1141,
          1141,
          1141,
          1141,
          1141,
          1141,
          1141,
          1141,
          1141,
          1141,
          1141,
          1141,
          1141,
          1141,
          1141,
          1141,
          1141,
          1141,
          1141,
          1141,
          1141,
          1141,
          1141,
          1141,
          1141,
          1141,
          1141,
          1141,
          1141,
          1141,
          1141,
          1141,
          1141,
          1141,
          1141,
          1141,
          1141,
          1141,
          1141,
          1141,
          1141,
          1141,
          1141,
          1141,
          1141,
          1141,
          1141,
          1141,
          1141,
          1141,
          1141,
          1141,
          1141,
          1141,
          1141,
          1141,
          1141,
          1141,
          1141,
          1141,
          1141
         ]
        },
        {
         "marker": {
          "color": "green",
          "size": 10
         },
         "mode": "lines",
         "name": "RALY 32580927",
         "type": "scatter",
         "x": {
          "bdata": "AAAAAAAA8D8AAAAAAAAAQAAAAAAAAAhAAAAAAAAAEEAAAAAAAAAUQAAAAAAAABhAAAAAAAAAHEAAAAAAAAAgQAAAAAAAACJAAAAAAAAAJEAAAAAAAAAmQAAAAAAAAChAAAAAAAAAKkAAAAAAAAAsQAAAAAAAAC5AAAAAAAAAMEAAAAAAAAAxQAAAAAAAADJAAAAAAAAAM0AAAAAAAAA0QAAAAAAAADVAAAAAAAAANkAAAAAAAAA3QAAAAAAAADhAAAAAAAAAOUAAAAAAAAA6QAAAAAAAADtAAAAAAAAAPEAAAAAAAAA9QAAAAAAAAD5AAAAAAAAAP0AAAAAAAABAQAAAAAAAgEBAAAAAAAAAQUAAAAAAAIBBQAAAAAAAAEJAAAAAAACAQkAAAAAAAABDQAAAAAAAgENAAAAAAAAAREAAAAAAAIBEQAAAAAAAAEVAAAAAAACARUAAAAAAAABGQAAAAAAAgEZAAAAAAAAAR0AAAAAAAIBHQAAAAAAAAEhAAAAAAACASEAAAAAAAABJQAAAAAAAgElAAAAAAAAASkAAAAAAAIBKQAAAAAAAAEtAAAAAAACAS0AAAAAAAABMQAAAAAAAgExAAAAAAAAATUAAAAAAAIBNQAAAAAAAAE5AAAAAAACATkAAAAAAAABPQAAAAAAAgE9AAAAAAAAAUEAAAAAAAEBQQAAAAAAAgFBAAAAAAADAUEAAAAAAAABRQAAAAAAAQFFAAAAAAACAUUAAAAAAAMBRQAAAAAAAAFJAAAAAAABAUkAAAAAAAIBSQAAAAAAAwFJAAAAAAAAAU0AAAAAAAEBTQAAAAAAAgFNAAAAAAADAU0AAAAAAAABUQAAAAAAAQFRAAAAAAACAVEAAAAAAAMBUQAAAAAAAAFVAAAAAAABAVUAAAAAAAIBVQAAAAAAAwFVAAAAAAAAAVkAAAAAAAEBWQAAAAAAAgFZAAAAAAADAVkAAAAAAAABXQAAAAAAAQFdAAAAAAACAV0AAAAAAAMBXQAAAAAAAAFhAAAAAAABAWEAAAAAAAIBYQAAAAAAAwFhAAAAAAAAAWUA=",
          "dtype": "f8"
         },
         "y": [
          2434,
          758,
          800,
          834,
          856,
          890,
          914,
          959,
          973,
          989,
          1009,
          1025,
          1042,
          1061,
          1065,
          1074,
          1081,
          1086,
          1083,
          1098,
          1109,
          1130,
          1143,
          1145,
          1145,
          1145,
          1145,
          1145,
          1145,
          1145,
          1145,
          1145,
          1145,
          1145,
          1145,
          1145,
          1145,
          1145,
          1145,
          1145,
          1145,
          1145,
          1145,
          1145,
          1145,
          1145,
          1145,
          1145,
          1145,
          1145,
          1145,
          1145,
          1145,
          1145,
          1145,
          1145,
          1145,
          1145,
          1145,
          1145,
          1145,
          1145,
          1145,
          1145,
          1145,
          1145,
          1145,
          1145,
          1145,
          1145,
          1145,
          1145,
          1145,
          1145,
          1145,
          1145,
          1145,
          1145,
          1145,
          1145,
          1145,
          1145,
          1145,
          1145,
          1145,
          1145,
          1145,
          1145,
          1145,
          1145,
          1145,
          1145,
          1145,
          1145,
          1145,
          1145,
          1145,
          1145,
          1145,
          1145
         ]
        },
        {
         "marker": {
          "color": "yellow",
          "size": 10
         },
         "mode": "lines",
         "name": "CDC20 43824529",
         "type": "scatter",
         "x": {
          "bdata": "AAAAAAAA8D8AAAAAAAAAQAAAAAAAAAhAAAAAAAAAEEAAAAAAAAAUQAAAAAAAABhAAAAAAAAAHEAAAAAAAAAgQAAAAAAAACJAAAAAAAAAJEAAAAAAAAAmQAAAAAAAAChAAAAAAAAAKkAAAAAAAAAsQAAAAAAAAC5AAAAAAAAAMEAAAAAAAAAxQAAAAAAAADJAAAAAAAAAM0AAAAAAAAA0QAAAAAAAADVAAAAAAAAANkAAAAAAAAA3QAAAAAAAADhAAAAAAAAAOUAAAAAAAAA6QAAAAAAAADtAAAAAAAAAPEAAAAAAAAA9QAAAAAAAAD5AAAAAAAAAP0AAAAAAAABAQAAAAAAAgEBAAAAAAAAAQUAAAAAAAIBBQAAAAAAAAEJAAAAAAACAQkAAAAAAAABDQAAAAAAAgENAAAAAAAAAREAAAAAAAIBEQAAAAAAAAEVAAAAAAACARUAAAAAAAABGQAAAAAAAgEZAAAAAAAAAR0AAAAAAAIBHQAAAAAAAAEhAAAAAAACASEAAAAAAAABJQAAAAAAAgElAAAAAAAAASkAAAAAAAIBKQAAAAAAAAEtAAAAAAACAS0AAAAAAAABMQAAAAAAAgExAAAAAAAAATUAAAAAAAIBNQAAAAAAAAE5AAAAAAACATkAAAAAAAABPQAAAAAAAgE9AAAAAAAAAUEAAAAAAAEBQQAAAAAAAgFBAAAAAAADAUEAAAAAAAABRQAAAAAAAQFFAAAAAAACAUUAAAAAAAMBRQAAAAAAAAFJAAAAAAABAUkAAAAAAAIBSQAAAAAAAwFJAAAAAAAAAU0AAAAAAAEBTQAAAAAAAgFNAAAAAAADAU0AAAAAAAABUQAAAAAAAQFRAAAAAAACAVEAAAAAAAMBUQAAAAAAAAFVAAAAAAABAVUAAAAAAAIBVQAAAAAAAwFVAAAAAAAAAVkAAAAAAAEBWQAAAAAAAgFZAAAAAAADAVkAAAAAAAABXQAAAAAAAQFdAAAAAAACAV0AAAAAAAMBXQAAAAAAAAFhAAAAAAABAWEAAAAAAAIBYQAAAAAAAwFhAAAAAAAAAWUA=",
          "dtype": "f8"
         },
         "y": [
          946,
          323,
          203,
          216,
          227,
          234,
          243,
          254,
          259,
          267,
          271,
          277,
          279,
          288,
          298,
          301,
          301,
          301,
          301,
          301,
          301,
          301,
          301,
          301,
          301,
          301,
          301,
          301,
          301,
          301,
          301,
          301,
          301,
          301,
          301,
          301,
          301,
          301,
          301,
          301,
          301,
          301,
          301,
          301,
          301,
          301,
          301,
          301,
          301,
          301,
          301,
          301,
          301,
          301,
          301,
          301,
          301,
          301,
          301,
          301,
          301,
          301,
          301,
          301,
          301,
          301,
          301,
          301,
          301,
          301,
          301,
          301,
          301,
          301,
          301,
          301,
          301,
          301,
          301,
          301,
          301,
          301,
          301,
          301,
          301,
          301,
          301,
          301,
          301,
          301,
          301,
          301,
          301,
          301,
          301,
          301,
          301,
          301,
          301,
          301
         ]
        }
       ],
       "layout": {
        "annotations": [
         {
          "showarrow": false,
          "text": "Original Weight: 5",
          "x": 5,
          "xanchor": "left",
          "xref": "x",
          "y": 1,
          "yanchor": "top",
          "yref": "y domain"
         }
        ],
        "shapes": [
         {
          "line": {
           "color": "red",
           "dash": "dash",
           "width": 1
          },
          "type": "line",
          "x0": 0,
          "x1": 1,
          "xref": "x domain",
          "y0": 406,
          "y1": 406,
          "yref": "y"
         },
         {
          "line": {
           "color": "blue",
           "dash": "dash",
           "width": 1
          },
          "type": "line",
          "x0": 0,
          "x1": 1,
          "xref": "x domain",
          "y0": 28,
          "y1": 28,
          "yref": "y"
         },
         {
          "line": {
           "color": "green",
           "dash": "dash",
           "width": 1
          },
          "type": "line",
          "x0": 0,
          "x1": 1,
          "xref": "x domain",
          "y0": 10,
          "y1": 10,
          "yref": "y"
         },
         {
          "line": {
           "color": "yellow",
           "dash": "dash",
           "width": 1
          },
          "type": "line",
          "x0": 0,
          "x1": 1,
          "xref": "x domain",
          "y0": 1,
          "y1": 1,
          "yref": "y"
         },
         {
          "line": {
           "color": "black",
           "dash": "dash",
           "width": 2
          },
          "type": "line",
          "x0": 5,
          "x1": 5,
          "xref": "x",
          "y0": 0,
          "y1": 1,
          "yref": "y domain"
         }
        ],
        "showlegend": true,
        "template": {
         "data": {
          "bar": [
           {
            "error_x": {
             "color": "#2a3f5f"
            },
            "error_y": {
             "color": "#2a3f5f"
            },
            "marker": {
             "line": {
              "color": "#E5ECF6",
              "width": 0.5
             },
             "pattern": {
              "fillmode": "overlay",
              "size": 10,
              "solidity": 0.2
             }
            },
            "type": "bar"
           }
          ],
          "barpolar": [
           {
            "marker": {
             "line": {
              "color": "#E5ECF6",
              "width": 0.5
             },
             "pattern": {
              "fillmode": "overlay",
              "size": 10,
              "solidity": 0.2
             }
            },
            "type": "barpolar"
           }
          ],
          "carpet": [
           {
            "aaxis": {
             "endlinecolor": "#2a3f5f",
             "gridcolor": "white",
             "linecolor": "white",
             "minorgridcolor": "white",
             "startlinecolor": "#2a3f5f"
            },
            "baxis": {
             "endlinecolor": "#2a3f5f",
             "gridcolor": "white",
             "linecolor": "white",
             "minorgridcolor": "white",
             "startlinecolor": "#2a3f5f"
            },
            "type": "carpet"
           }
          ],
          "choropleth": [
           {
            "colorbar": {
             "outlinewidth": 0,
             "ticks": ""
            },
            "type": "choropleth"
           }
          ],
          "contour": [
           {
            "colorbar": {
             "outlinewidth": 0,
             "ticks": ""
            },
            "colorscale": [
             [
              0,
              "#0d0887"
             ],
             [
              0.1111111111111111,
              "#46039f"
             ],
             [
              0.2222222222222222,
              "#7201a8"
             ],
             [
              0.3333333333333333,
              "#9c179e"
             ],
             [
              0.4444444444444444,
              "#bd3786"
             ],
             [
              0.5555555555555556,
              "#d8576b"
             ],
             [
              0.6666666666666666,
              "#ed7953"
             ],
             [
              0.7777777777777778,
              "#fb9f3a"
             ],
             [
              0.8888888888888888,
              "#fdca26"
             ],
             [
              1,
              "#f0f921"
             ]
            ],
            "type": "contour"
           }
          ],
          "contourcarpet": [
           {
            "colorbar": {
             "outlinewidth": 0,
             "ticks": ""
            },
            "type": "contourcarpet"
           }
          ],
          "heatmap": [
           {
            "colorbar": {
             "outlinewidth": 0,
             "ticks": ""
            },
            "colorscale": [
             [
              0,
              "#0d0887"
             ],
             [
              0.1111111111111111,
              "#46039f"
             ],
             [
              0.2222222222222222,
              "#7201a8"
             ],
             [
              0.3333333333333333,
              "#9c179e"
             ],
             [
              0.4444444444444444,
              "#bd3786"
             ],
             [
              0.5555555555555556,
              "#d8576b"
             ],
             [
              0.6666666666666666,
              "#ed7953"
             ],
             [
              0.7777777777777778,
              "#fb9f3a"
             ],
             [
              0.8888888888888888,
              "#fdca26"
             ],
             [
              1,
              "#f0f921"
             ]
            ],
            "type": "heatmap"
           }
          ],
          "histogram": [
           {
            "marker": {
             "pattern": {
              "fillmode": "overlay",
              "size": 10,
              "solidity": 0.2
             }
            },
            "type": "histogram"
           }
          ],
          "histogram2d": [
           {
            "colorbar": {
             "outlinewidth": 0,
             "ticks": ""
            },
            "colorscale": [
             [
              0,
              "#0d0887"
             ],
             [
              0.1111111111111111,
              "#46039f"
             ],
             [
              0.2222222222222222,
              "#7201a8"
             ],
             [
              0.3333333333333333,
              "#9c179e"
             ],
             [
              0.4444444444444444,
              "#bd3786"
             ],
             [
              0.5555555555555556,
              "#d8576b"
             ],
             [
              0.6666666666666666,
              "#ed7953"
             ],
             [
              0.7777777777777778,
              "#fb9f3a"
             ],
             [
              0.8888888888888888,
              "#fdca26"
             ],
             [
              1,
              "#f0f921"
             ]
            ],
            "type": "histogram2d"
           }
          ],
          "histogram2dcontour": [
           {
            "colorbar": {
             "outlinewidth": 0,
             "ticks": ""
            },
            "colorscale": [
             [
              0,
              "#0d0887"
             ],
             [
              0.1111111111111111,
              "#46039f"
             ],
             [
              0.2222222222222222,
              "#7201a8"
             ],
             [
              0.3333333333333333,
              "#9c179e"
             ],
             [
              0.4444444444444444,
              "#bd3786"
             ],
             [
              0.5555555555555556,
              "#d8576b"
             ],
             [
              0.6666666666666666,
              "#ed7953"
             ],
             [
              0.7777777777777778,
              "#fb9f3a"
             ],
             [
              0.8888888888888888,
              "#fdca26"
             ],
             [
              1,
              "#f0f921"
             ]
            ],
            "type": "histogram2dcontour"
           }
          ],
          "mesh3d": [
           {
            "colorbar": {
             "outlinewidth": 0,
             "ticks": ""
            },
            "type": "mesh3d"
           }
          ],
          "parcoords": [
           {
            "line": {
             "colorbar": {
              "outlinewidth": 0,
              "ticks": ""
             }
            },
            "type": "parcoords"
           }
          ],
          "pie": [
           {
            "automargin": true,
            "type": "pie"
           }
          ],
          "scatter": [
           {
            "fillpattern": {
             "fillmode": "overlay",
             "size": 10,
             "solidity": 0.2
            },
            "type": "scatter"
           }
          ],
          "scatter3d": [
           {
            "line": {
             "colorbar": {
              "outlinewidth": 0,
              "ticks": ""
             }
            },
            "marker": {
             "colorbar": {
              "outlinewidth": 0,
              "ticks": ""
             }
            },
            "type": "scatter3d"
           }
          ],
          "scattercarpet": [
           {
            "marker": {
             "colorbar": {
              "outlinewidth": 0,
              "ticks": ""
             }
            },
            "type": "scattercarpet"
           }
          ],
          "scattergeo": [
           {
            "marker": {
             "colorbar": {
              "outlinewidth": 0,
              "ticks": ""
             }
            },
            "type": "scattergeo"
           }
          ],
          "scattergl": [
           {
            "marker": {
             "colorbar": {
              "outlinewidth": 0,
              "ticks": ""
             }
            },
            "type": "scattergl"
           }
          ],
          "scattermap": [
           {
            "marker": {
             "colorbar": {
              "outlinewidth": 0,
              "ticks": ""
             }
            },
            "type": "scattermap"
           }
          ],
          "scattermapbox": [
           {
            "marker": {
             "colorbar": {
              "outlinewidth": 0,
              "ticks": ""
             }
            },
            "type": "scattermapbox"
           }
          ],
          "scatterpolar": [
           {
            "marker": {
             "colorbar": {
              "outlinewidth": 0,
              "ticks": ""
             }
            },
            "type": "scatterpolar"
           }
          ],
          "scatterpolargl": [
           {
            "marker": {
             "colorbar": {
              "outlinewidth": 0,
              "ticks": ""
             }
            },
            "type": "scatterpolargl"
           }
          ],
          "scatterternary": [
           {
            "marker": {
             "colorbar": {
              "outlinewidth": 0,
              "ticks": ""
             }
            },
            "type": "scatterternary"
           }
          ],
          "surface": [
           {
            "colorbar": {
             "outlinewidth": 0,
             "ticks": ""
            },
            "colorscale": [
             [
              0,
              "#0d0887"
             ],
             [
              0.1111111111111111,
              "#46039f"
             ],
             [
              0.2222222222222222,
              "#7201a8"
             ],
             [
              0.3333333333333333,
              "#9c179e"
             ],
             [
              0.4444444444444444,
              "#bd3786"
             ],
             [
              0.5555555555555556,
              "#d8576b"
             ],
             [
              0.6666666666666666,
              "#ed7953"
             ],
             [
              0.7777777777777778,
              "#fb9f3a"
             ],
             [
              0.8888888888888888,
              "#fdca26"
             ],
             [
              1,
              "#f0f921"
             ]
            ],
            "type": "surface"
           }
          ],
          "table": [
           {
            "cells": {
             "fill": {
              "color": "#EBF0F8"
             },
             "line": {
              "color": "white"
             }
            },
            "header": {
             "fill": {
              "color": "#C8D4E3"
             },
             "line": {
              "color": "white"
             }
            },
            "type": "table"
           }
          ]
         },
         "layout": {
          "annotationdefaults": {
           "arrowcolor": "#2a3f5f",
           "arrowhead": 0,
           "arrowwidth": 1
          },
          "autotypenumbers": "strict",
          "coloraxis": {
           "colorbar": {
            "outlinewidth": 0,
            "ticks": ""
           }
          },
          "colorscale": {
           "diverging": [
            [
             0,
             "#8e0152"
            ],
            [
             0.1,
             "#c51b7d"
            ],
            [
             0.2,
             "#de77ae"
            ],
            [
             0.3,
             "#f1b6da"
            ],
            [
             0.4,
             "#fde0ef"
            ],
            [
             0.5,
             "#f7f7f7"
            ],
            [
             0.6,
             "#e6f5d0"
            ],
            [
             0.7,
             "#b8e186"
            ],
            [
             0.8,
             "#7fbc41"
            ],
            [
             0.9,
             "#4d9221"
            ],
            [
             1,
             "#276419"
            ]
           ],
           "sequential": [
            [
             0,
             "#0d0887"
            ],
            [
             0.1111111111111111,
             "#46039f"
            ],
            [
             0.2222222222222222,
             "#7201a8"
            ],
            [
             0.3333333333333333,
             "#9c179e"
            ],
            [
             0.4444444444444444,
             "#bd3786"
            ],
            [
             0.5555555555555556,
             "#d8576b"
            ],
            [
             0.6666666666666666,
             "#ed7953"
            ],
            [
             0.7777777777777778,
             "#fb9f3a"
            ],
            [
             0.8888888888888888,
             "#fdca26"
            ],
            [
             1,
             "#f0f921"
            ]
           ],
           "sequentialminus": [
            [
             0,
             "#0d0887"
            ],
            [
             0.1111111111111111,
             "#46039f"
            ],
            [
             0.2222222222222222,
             "#7201a8"
            ],
            [
             0.3333333333333333,
             "#9c179e"
            ],
            [
             0.4444444444444444,
             "#bd3786"
            ],
            [
             0.5555555555555556,
             "#d8576b"
            ],
            [
             0.6666666666666666,
             "#ed7953"
            ],
            [
             0.7777777777777778,
             "#fb9f3a"
            ],
            [
             0.8888888888888888,
             "#fdca26"
            ],
            [
             1,
             "#f0f921"
            ]
           ]
          },
          "colorway": [
           "#636efa",
           "#EF553B",
           "#00cc96",
           "#ab63fa",
           "#FFA15A",
           "#19d3f3",
           "#FF6692",
           "#B6E880",
           "#FF97FF",
           "#FECB52"
          ],
          "font": {
           "color": "#2a3f5f"
          },
          "geo": {
           "bgcolor": "white",
           "lakecolor": "white",
           "landcolor": "#E5ECF6",
           "showlakes": true,
           "showland": true,
           "subunitcolor": "white"
          },
          "hoverlabel": {
           "align": "left"
          },
          "hovermode": "closest",
          "mapbox": {
           "style": "light"
          },
          "paper_bgcolor": "white",
          "plot_bgcolor": "#E5ECF6",
          "polar": {
           "angularaxis": {
            "gridcolor": "white",
            "linecolor": "white",
            "ticks": ""
           },
           "bgcolor": "#E5ECF6",
           "radialaxis": {
            "gridcolor": "white",
            "linecolor": "white",
            "ticks": ""
           }
          },
          "scene": {
           "xaxis": {
            "backgroundcolor": "#E5ECF6",
            "gridcolor": "white",
            "gridwidth": 2,
            "linecolor": "white",
            "showbackground": true,
            "ticks": "",
            "zerolinecolor": "white"
           },
           "yaxis": {
            "backgroundcolor": "#E5ECF6",
            "gridcolor": "white",
            "gridwidth": 2,
            "linecolor": "white",
            "showbackground": true,
            "ticks": "",
            "zerolinecolor": "white"
           },
           "zaxis": {
            "backgroundcolor": "#E5ECF6",
            "gridcolor": "white",
            "gridwidth": 2,
            "linecolor": "white",
            "showbackground": true,
            "ticks": "",
            "zerolinecolor": "white"
           }
          },
          "shapedefaults": {
           "line": {
            "color": "#2a3f5f"
           }
          },
          "ternary": {
           "aaxis": {
            "gridcolor": "white",
            "linecolor": "white",
            "ticks": ""
           },
           "baxis": {
            "gridcolor": "white",
            "linecolor": "white",
            "ticks": ""
           },
           "bgcolor": "#E5ECF6",
           "caxis": {
            "gridcolor": "white",
            "linecolor": "white",
            "ticks": ""
           }
          },
          "title": {
           "x": 0.05
          },
          "xaxis": {
           "automargin": true,
           "gridcolor": "white",
           "linecolor": "white",
           "ticks": "",
           "title": {
            "standoff": 15
           },
           "zerolinecolor": "white",
           "zerolinewidth": 2
          },
          "yaxis": {
           "automargin": true,
           "gridcolor": "white",
           "linecolor": "white",
           "ticks": "",
           "title": {
            "standoff": 15
           },
           "zerolinecolor": "white",
           "zerolinewidth": 2
          }
         }
        },
        "title": {
         "text": "Iterrating through <b>Recurrence Weight</b> Scoring"
        },
        "xaxis": {
         "title": {
          "text": "Recurrence Weight"
         }
        },
        "yaxis": {
         "title": {
          "text": "Sum of Ranking of Mutations"
         }
        }
       }
      }
     },
     "metadata": {},
     "output_type": "display_data"
    },
    {
     "data": {
      "application/vnd.jupyter.widget-view+json": {
       "model_id": "67de9f1d42b94b60a44dc930e2a9ab77",
       "version_major": 2,
       "version_minor": 0
      },
      "text/plain": [
       "Calculating scores for TERT at position 1295228:   0%|          | 0/100 [00:00<?, ?it/s]"
      ]
     },
     "metadata": {},
     "output_type": "display_data"
    },
    {
     "data": {
      "application/vnd.jupyter.widget-view+json": {
       "model_id": "c2851300ef63488c801af6eb0c9e818f",
       "version_major": 2,
       "version_minor": 0
      },
      "text/plain": [
       "Calculating scores for TERT at position 1295250:   0%|          | 0/100 [00:00<?, ?it/s]"
      ]
     },
     "metadata": {},
     "output_type": "display_data"
    },
    {
     "data": {
      "application/vnd.jupyter.widget-view+json": {
       "model_id": "9c81c8814bc84971a71db1d24853533f",
       "version_major": 2,
       "version_minor": 0
      },
      "text/plain": [
       "Calculating scores for RALY at position 32580927:   0%|          | 0/100 [00:00<?, ?it/s]"
      ]
     },
     "metadata": {},
     "output_type": "display_data"
    },
    {
     "data": {
      "application/vnd.jupyter.widget-view+json": {
       "model_id": "cc5c2032ed4b4ea982a6a2fc6c08bc63",
       "version_major": 2,
       "version_minor": 0
      },
      "text/plain": [
       "Calculating scores for CDC20 at position 43824529:   0%|          | 0/100 [00:00<?, ?it/s]"
      ]
     },
     "metadata": {},
     "output_type": "display_data"
    },
    {
     "data": {
      "application/vnd.plotly.v1+json": {
       "config": {
        "plotlyServerURL": "https://plot.ly"
       },
       "data": [
        {
         "marker": {
          "color": "red",
          "size": 10
         },
         "mode": "lines",
         "name": "TERT 1295228",
         "type": "scatter",
         "x": {
          "bdata": "AAAAAAAA8D8AAAAAAAAAQAAAAAAAAAhAAAAAAAAAEEAAAAAAAAAUQAAAAAAAABhAAAAAAAAAHEAAAAAAAAAgQAAAAAAAACJAAAAAAAAAJEAAAAAAAAAmQAAAAAAAAChAAAAAAAAAKkAAAAAAAAAsQAAAAAAAAC5AAAAAAAAAMEAAAAAAAAAxQAAAAAAAADJAAAAAAAAAM0AAAAAAAAA0QAAAAAAAADVAAAAAAAAANkAAAAAAAAA3QAAAAAAAADhAAAAAAAAAOUAAAAAAAAA6QAAAAAAAADtAAAAAAAAAPEAAAAAAAAA9QAAAAAAAAD5AAAAAAAAAP0AAAAAAAABAQAAAAAAAgEBAAAAAAAAAQUAAAAAAAIBBQAAAAAAAAEJAAAAAAACAQkAAAAAAAABDQAAAAAAAgENAAAAAAAAAREAAAAAAAIBEQAAAAAAAAEVAAAAAAACARUAAAAAAAABGQAAAAAAAgEZAAAAAAAAAR0AAAAAAAIBHQAAAAAAAAEhAAAAAAACASEAAAAAAAABJQAAAAAAAgElAAAAAAAAASkAAAAAAAIBKQAAAAAAAAEtAAAAAAACAS0AAAAAAAABMQAAAAAAAgExAAAAAAAAATUAAAAAAAIBNQAAAAAAAAE5AAAAAAACATkAAAAAAAABPQAAAAAAAgE9AAAAAAAAAUEAAAAAAAEBQQAAAAAAAgFBAAAAAAADAUEAAAAAAAABRQAAAAAAAQFFAAAAAAACAUUAAAAAAAMBRQAAAAAAAAFJAAAAAAABAUkAAAAAAAIBSQAAAAAAAwFJAAAAAAAAAU0AAAAAAAEBTQAAAAAAAgFNAAAAAAADAU0AAAAAAAABUQAAAAAAAQFRAAAAAAACAVEAAAAAAAMBUQAAAAAAAAFVAAAAAAABAVUAAAAAAAIBVQAAAAAAAwFVAAAAAAAAAVkAAAAAAAEBWQAAAAAAAgFZAAAAAAADAVkAAAAAAAABXQAAAAAAAQFdAAAAAAACAV0AAAAAAAMBXQAAAAAAAAFhAAAAAAABAWEAAAAAAAIBYQAAAAAAAwFhAAAAAAAAAWUA=",
          "dtype": "f8"
         },
         "y": [
          1075,
          1101,
          1277,
          1535,
          1860,
          2270,
          2656,
          2988,
          3361,
          3762,
          4079,
          4356,
          4417,
          4619,
          4550,
          4627,
          4759,
          4900,
          4958,
          4952,
          4968,
          4966,
          4776,
          4825,
          4726,
          4747,
          4772,
          4694,
          4671,
          4531,
          4431,
          4448,
          4473,
          4237,
          4234,
          4211,
          4212,
          4226,
          4170,
          4106,
          4116,
          4073,
          4102,
          4015,
          3945,
          3904,
          3920,
          3938,
          3802,
          3771,
          3768,
          3762,
          3725,
          3725,
          3716,
          3721,
          3731,
          3634,
          3617,
          3609,
          3602,
          3570,
          3572,
          3578,
          3578,
          3579,
          3377,
          3364,
          3240,
          3241,
          3187,
          3201,
          3194,
          3175,
          3182,
          3146,
          3157,
          3129,
          3133,
          3132,
          3122,
          3134,
          3132,
          3130,
          3133,
          3138,
          3143,
          3095,
          2981,
          2990,
          2992,
          2986,
          2977,
          2971,
          2977,
          2979,
          2990,
          2953,
          2967,
          2933
         ]
        },
        {
         "marker": {
          "color": "blue",
          "size": 10
         },
         "mode": "lines",
         "name": "TERT 1295250",
         "type": "scatter",
         "x": {
          "bdata": "AAAAAAAA8D8AAAAAAAAAQAAAAAAAAAhAAAAAAAAAEEAAAAAAAAAUQAAAAAAAABhAAAAAAAAAHEAAAAAAAAAgQAAAAAAAACJAAAAAAAAAJEAAAAAAAAAmQAAAAAAAAChAAAAAAAAAKkAAAAAAAAAsQAAAAAAAAC5AAAAAAAAAMEAAAAAAAAAxQAAAAAAAADJAAAAAAAAAM0AAAAAAAAA0QAAAAAAAADVAAAAAAAAANkAAAAAAAAA3QAAAAAAAADhAAAAAAAAAOUAAAAAAAAA6QAAAAAAAADtAAAAAAAAAPEAAAAAAAAA9QAAAAAAAAD5AAAAAAAAAP0AAAAAAAABAQAAAAAAAgEBAAAAAAAAAQUAAAAAAAIBBQAAAAAAAAEJAAAAAAACAQkAAAAAAAABDQAAAAAAAgENAAAAAAAAAREAAAAAAAIBEQAAAAAAAAEVAAAAAAACARUAAAAAAAABGQAAAAAAAgEZAAAAAAAAAR0AAAAAAAIBHQAAAAAAAAEhAAAAAAACASEAAAAAAAABJQAAAAAAAgElAAAAAAAAASkAAAAAAAIBKQAAAAAAAAEtAAAAAAACAS0AAAAAAAABMQAAAAAAAgExAAAAAAAAATUAAAAAAAIBNQAAAAAAAAE5AAAAAAACATkAAAAAAAABPQAAAAAAAgE9AAAAAAAAAUEAAAAAAAEBQQAAAAAAAgFBAAAAAAADAUEAAAAAAAABRQAAAAAAAQFFAAAAAAACAUUAAAAAAAMBRQAAAAAAAAFJAAAAAAABAUkAAAAAAAIBSQAAAAAAAwFJAAAAAAAAAU0AAAAAAAEBTQAAAAAAAgFNAAAAAAADAU0AAAAAAAABUQAAAAAAAQFRAAAAAAACAVEAAAAAAAMBUQAAAAAAAAFVAAAAAAABAVUAAAAAAAIBVQAAAAAAAwFVAAAAAAAAAVkAAAAAAAEBWQAAAAAAAgFZAAAAAAADAVkAAAAAAAABXQAAAAAAAQFdAAAAAAACAV0AAAAAAAMBXQAAAAAAAAFhAAAAAAABAWEAAAAAAAIBYQAAAAAAAwFhAAAAAAAAAWUA=",
          "dtype": "f8"
         },
         "y": [
          260,
          297,
          379,
          491,
          653,
          826,
          1009,
          1189,
          1374,
          1516,
          1616,
          1697,
          1760,
          1798,
          1864,
          1813,
          1868,
          1900,
          1923,
          1949,
          1959,
          1973,
          2003,
          1842,
          1829,
          1847,
          1853,
          1849,
          1862,
          1827,
          1828,
          1836,
          1845,
          1841,
          1851,
          1860,
          1862,
          1863,
          1850,
          1855,
          1859,
          1826,
          1830,
          1834,
          1790,
          1790,
          1762,
          1721,
          1706,
          1707,
          1715,
          1718,
          1725,
          1724,
          1714,
          1699,
          1703,
          1716,
          1702,
          1678,
          1688,
          1689,
          1663,
          1665,
          1673,
          1671,
          1658,
          1667,
          1667,
          1662,
          1641,
          1600,
          1604,
          1605,
          1579,
          1595,
          1553,
          1537,
          1541,
          1533,
          1534,
          1530,
          1526,
          1524,
          1527,
          1525,
          1524,
          1524,
          1524,
          1457,
          1457,
          1460,
          1460,
          1462,
          1425,
          1425,
          1425,
          1419,
          1409,
          1409
         ]
        },
        {
         "marker": {
          "color": "green",
          "size": 10
         },
         "mode": "lines",
         "name": "RALY 32580927",
         "type": "scatter",
         "x": {
          "bdata": "AAAAAAAA8D8AAAAAAAAAQAAAAAAAAAhAAAAAAAAAEEAAAAAAAAAUQAAAAAAAABhAAAAAAAAAHEAAAAAAAAAgQAAAAAAAACJAAAAAAAAAJEAAAAAAAAAmQAAAAAAAAChAAAAAAAAAKkAAAAAAAAAsQAAAAAAAAC5AAAAAAAAAMEAAAAAAAAAxQAAAAAAAADJAAAAAAAAAM0AAAAAAAAA0QAAAAAAAADVAAAAAAAAANkAAAAAAAAA3QAAAAAAAADhAAAAAAAAAOUAAAAAAAAA6QAAAAAAAADtAAAAAAAAAPEAAAAAAAAA9QAAAAAAAAD5AAAAAAAAAP0AAAAAAAABAQAAAAAAAgEBAAAAAAAAAQUAAAAAAAIBBQAAAAAAAAEJAAAAAAACAQkAAAAAAAABDQAAAAAAAgENAAAAAAAAAREAAAAAAAIBEQAAAAAAAAEVAAAAAAACARUAAAAAAAABGQAAAAAAAgEZAAAAAAAAAR0AAAAAAAIBHQAAAAAAAAEhAAAAAAACASEAAAAAAAABJQAAAAAAAgElAAAAAAAAASkAAAAAAAIBKQAAAAAAAAEtAAAAAAACAS0AAAAAAAABMQAAAAAAAgExAAAAAAAAATUAAAAAAAIBNQAAAAAAAAE5AAAAAAACATkAAAAAAAABPQAAAAAAAgE9AAAAAAAAAUEAAAAAAAEBQQAAAAAAAgFBAAAAAAADAUEAAAAAAAABRQAAAAAAAQFFAAAAAAACAUUAAAAAAAMBRQAAAAAAAAFJAAAAAAABAUkAAAAAAAIBSQAAAAAAAwFJAAAAAAAAAU0AAAAAAAEBTQAAAAAAAgFNAAAAAAADAU0AAAAAAAABUQAAAAAAAQFRAAAAAAACAVEAAAAAAAMBUQAAAAAAAAFVAAAAAAABAVUAAAAAAAIBVQAAAAAAAwFVAAAAAAAAAVkAAAAAAAEBWQAAAAAAAgFZAAAAAAADAVkAAAAAAAABXQAAAAAAAQFdAAAAAAACAV0AAAAAAAMBXQAAAAAAAAFhAAAAAAABAWEAAAAAAAIBYQAAAAAAAwFhAAAAAAAAAWUA=",
          "dtype": "f8"
         },
         "y": [
          386,
          430,
          517,
          667,
          856,
          1051,
          1244,
          1362,
          1509,
          1651,
          1731,
          1780,
          1824,
          1779,
          1777,
          1794,
          1788,
          1789,
          1781,
          1770,
          1632,
          1621,
          1629,
          1624,
          1629,
          1594,
          1501,
          1499,
          1494,
          1447,
          1448,
          1319,
          1264,
          1162,
          1118,
          1113,
          1060,
          1046,
          1044,
          918,
          920,
          894,
          891,
          894,
          836,
          833,
          701,
          644,
          645,
          592,
          594,
          596,
          541,
          541,
          526,
          521,
          493,
          488,
          483,
          463,
          428,
          407,
          346,
          345,
          344,
          339,
          323,
          316,
          308,
          303,
          305,
          315,
          305,
          306,
          309,
          315,
          300,
          309,
          304,
          297,
          298,
          284,
          279,
          277,
          264,
          275,
          254,
          288,
          267,
          270,
          268,
          264,
          268,
          259,
          258,
          259,
          259,
          291,
          266,
          267
         ]
        },
        {
         "marker": {
          "color": "yellow",
          "size": 10
         },
         "mode": "lines",
         "name": "CDC20 43824529",
         "type": "scatter",
         "x": {
          "bdata": "AAAAAAAA8D8AAAAAAAAAQAAAAAAAAAhAAAAAAAAAEEAAAAAAAAAUQAAAAAAAABhAAAAAAAAAHEAAAAAAAAAgQAAAAAAAACJAAAAAAAAAJEAAAAAAAAAmQAAAAAAAAChAAAAAAAAAKkAAAAAAAAAsQAAAAAAAAC5AAAAAAAAAMEAAAAAAAAAxQAAAAAAAADJAAAAAAAAAM0AAAAAAAAA0QAAAAAAAADVAAAAAAAAANkAAAAAAAAA3QAAAAAAAADhAAAAAAAAAOUAAAAAAAAA6QAAAAAAAADtAAAAAAAAAPEAAAAAAAAA9QAAAAAAAAD5AAAAAAAAAP0AAAAAAAABAQAAAAAAAgEBAAAAAAAAAQUAAAAAAAIBBQAAAAAAAAEJAAAAAAACAQkAAAAAAAABDQAAAAAAAgENAAAAAAAAAREAAAAAAAIBEQAAAAAAAAEVAAAAAAACARUAAAAAAAABGQAAAAAAAgEZAAAAAAAAAR0AAAAAAAIBHQAAAAAAAAEhAAAAAAACASEAAAAAAAABJQAAAAAAAgElAAAAAAAAASkAAAAAAAIBKQAAAAAAAAEtAAAAAAACAS0AAAAAAAABMQAAAAAAAgExAAAAAAAAATUAAAAAAAIBNQAAAAAAAAE5AAAAAAACATkAAAAAAAABPQAAAAAAAgE9AAAAAAAAAUEAAAAAAAEBQQAAAAAAAgFBAAAAAAADAUEAAAAAAAABRQAAAAAAAQFFAAAAAAACAUUAAAAAAAMBRQAAAAAAAAFJAAAAAAABAUkAAAAAAAIBSQAAAAAAAwFJAAAAAAAAAU0AAAAAAAEBTQAAAAAAAgFNAAAAAAADAU0AAAAAAAABUQAAAAAAAQFRAAAAAAACAVEAAAAAAAMBUQAAAAAAAAFVAAAAAAABAVUAAAAAAAIBVQAAAAAAAwFVAAAAAAAAAVkAAAAAAAEBWQAAAAAAAgFZAAAAAAADAVkAAAAAAAABXQAAAAAAAQFdAAAAAAACAV0AAAAAAAMBXQAAAAAAAAFhAAAAAAABAWEAAAAAAAIBYQAAAAAAAwFhAAAAAAAAAWUA=",
          "dtype": "f8"
         },
         "y": [
          238,
          240,
          240,
          233,
          227,
          219,
          181,
          160,
          115,
          96,
          73,
          74,
          85,
          96,
          90,
          95,
          108,
          118,
          104,
          124,
          116,
          128,
          114,
          152,
          161,
          131,
          141,
          156,
          138,
          147,
          139,
          159,
          159,
          150,
          154,
          157,
          156,
          158,
          163,
          165,
          161,
          170,
          174,
          181,
          180,
          181,
          176,
          177,
          185,
          193,
          176,
          182,
          193,
          195,
          192,
          193,
          198,
          182,
          187,
          186,
          194,
          190,
          247,
          188,
          194,
          192,
          201,
          241,
          248,
          241,
          252,
          245,
          247,
          245,
          243,
          249,
          196,
          223,
          260,
          246,
          256,
          256,
          246,
          257,
          254,
          255,
          255,
          256,
          248,
          228,
          264,
          264,
          266,
          250,
          265,
          265,
          265,
          265,
          268,
          252
         ]
        }
       ],
       "layout": {
        "annotations": [
         {
          "showarrow": false,
          "text": "Original Weight: 5",
          "x": 5,
          "xanchor": "left",
          "xref": "x",
          "y": 1,
          "yanchor": "top",
          "yref": "y domain"
         }
        ],
        "shapes": [
         {
          "line": {
           "color": "red",
           "dash": "dash",
           "width": 1
          },
          "type": "line",
          "x0": 0,
          "x1": 1,
          "xref": "x domain",
          "y0": 406,
          "y1": 406,
          "yref": "y"
         },
         {
          "line": {
           "color": "blue",
           "dash": "dash",
           "width": 1
          },
          "type": "line",
          "x0": 0,
          "x1": 1,
          "xref": "x domain",
          "y0": 28,
          "y1": 28,
          "yref": "y"
         },
         {
          "line": {
           "color": "green",
           "dash": "dash",
           "width": 1
          },
          "type": "line",
          "x0": 0,
          "x1": 1,
          "xref": "x domain",
          "y0": 10,
          "y1": 10,
          "yref": "y"
         },
         {
          "line": {
           "color": "yellow",
           "dash": "dash",
           "width": 1
          },
          "type": "line",
          "x0": 0,
          "x1": 1,
          "xref": "x domain",
          "y0": 1,
          "y1": 1,
          "yref": "y"
         },
         {
          "line": {
           "color": "black",
           "dash": "dash",
           "width": 2
          },
          "type": "line",
          "x0": 5,
          "x1": 5,
          "xref": "x",
          "y0": 0,
          "y1": 1,
          "yref": "y domain"
         }
        ],
        "showlegend": true,
        "template": {
         "data": {
          "bar": [
           {
            "error_x": {
             "color": "#2a3f5f"
            },
            "error_y": {
             "color": "#2a3f5f"
            },
            "marker": {
             "line": {
              "color": "#E5ECF6",
              "width": 0.5
             },
             "pattern": {
              "fillmode": "overlay",
              "size": 10,
              "solidity": 0.2
             }
            },
            "type": "bar"
           }
          ],
          "barpolar": [
           {
            "marker": {
             "line": {
              "color": "#E5ECF6",
              "width": 0.5
             },
             "pattern": {
              "fillmode": "overlay",
              "size": 10,
              "solidity": 0.2
             }
            },
            "type": "barpolar"
           }
          ],
          "carpet": [
           {
            "aaxis": {
             "endlinecolor": "#2a3f5f",
             "gridcolor": "white",
             "linecolor": "white",
             "minorgridcolor": "white",
             "startlinecolor": "#2a3f5f"
            },
            "baxis": {
             "endlinecolor": "#2a3f5f",
             "gridcolor": "white",
             "linecolor": "white",
             "minorgridcolor": "white",
             "startlinecolor": "#2a3f5f"
            },
            "type": "carpet"
           }
          ],
          "choropleth": [
           {
            "colorbar": {
             "outlinewidth": 0,
             "ticks": ""
            },
            "type": "choropleth"
           }
          ],
          "contour": [
           {
            "colorbar": {
             "outlinewidth": 0,
             "ticks": ""
            },
            "colorscale": [
             [
              0,
              "#0d0887"
             ],
             [
              0.1111111111111111,
              "#46039f"
             ],
             [
              0.2222222222222222,
              "#7201a8"
             ],
             [
              0.3333333333333333,
              "#9c179e"
             ],
             [
              0.4444444444444444,
              "#bd3786"
             ],
             [
              0.5555555555555556,
              "#d8576b"
             ],
             [
              0.6666666666666666,
              "#ed7953"
             ],
             [
              0.7777777777777778,
              "#fb9f3a"
             ],
             [
              0.8888888888888888,
              "#fdca26"
             ],
             [
              1,
              "#f0f921"
             ]
            ],
            "type": "contour"
           }
          ],
          "contourcarpet": [
           {
            "colorbar": {
             "outlinewidth": 0,
             "ticks": ""
            },
            "type": "contourcarpet"
           }
          ],
          "heatmap": [
           {
            "colorbar": {
             "outlinewidth": 0,
             "ticks": ""
            },
            "colorscale": [
             [
              0,
              "#0d0887"
             ],
             [
              0.1111111111111111,
              "#46039f"
             ],
             [
              0.2222222222222222,
              "#7201a8"
             ],
             [
              0.3333333333333333,
              "#9c179e"
             ],
             [
              0.4444444444444444,
              "#bd3786"
             ],
             [
              0.5555555555555556,
              "#d8576b"
             ],
             [
              0.6666666666666666,
              "#ed7953"
             ],
             [
              0.7777777777777778,
              "#fb9f3a"
             ],
             [
              0.8888888888888888,
              "#fdca26"
             ],
             [
              1,
              "#f0f921"
             ]
            ],
            "type": "heatmap"
           }
          ],
          "histogram": [
           {
            "marker": {
             "pattern": {
              "fillmode": "overlay",
              "size": 10,
              "solidity": 0.2
             }
            },
            "type": "histogram"
           }
          ],
          "histogram2d": [
           {
            "colorbar": {
             "outlinewidth": 0,
             "ticks": ""
            },
            "colorscale": [
             [
              0,
              "#0d0887"
             ],
             [
              0.1111111111111111,
              "#46039f"
             ],
             [
              0.2222222222222222,
              "#7201a8"
             ],
             [
              0.3333333333333333,
              "#9c179e"
             ],
             [
              0.4444444444444444,
              "#bd3786"
             ],
             [
              0.5555555555555556,
              "#d8576b"
             ],
             [
              0.6666666666666666,
              "#ed7953"
             ],
             [
              0.7777777777777778,
              "#fb9f3a"
             ],
             [
              0.8888888888888888,
              "#fdca26"
             ],
             [
              1,
              "#f0f921"
             ]
            ],
            "type": "histogram2d"
           }
          ],
          "histogram2dcontour": [
           {
            "colorbar": {
             "outlinewidth": 0,
             "ticks": ""
            },
            "colorscale": [
             [
              0,
              "#0d0887"
             ],
             [
              0.1111111111111111,
              "#46039f"
             ],
             [
              0.2222222222222222,
              "#7201a8"
             ],
             [
              0.3333333333333333,
              "#9c179e"
             ],
             [
              0.4444444444444444,
              "#bd3786"
             ],
             [
              0.5555555555555556,
              "#d8576b"
             ],
             [
              0.6666666666666666,
              "#ed7953"
             ],
             [
              0.7777777777777778,
              "#fb9f3a"
             ],
             [
              0.8888888888888888,
              "#fdca26"
             ],
             [
              1,
              "#f0f921"
             ]
            ],
            "type": "histogram2dcontour"
           }
          ],
          "mesh3d": [
           {
            "colorbar": {
             "outlinewidth": 0,
             "ticks": ""
            },
            "type": "mesh3d"
           }
          ],
          "parcoords": [
           {
            "line": {
             "colorbar": {
              "outlinewidth": 0,
              "ticks": ""
             }
            },
            "type": "parcoords"
           }
          ],
          "pie": [
           {
            "automargin": true,
            "type": "pie"
           }
          ],
          "scatter": [
           {
            "fillpattern": {
             "fillmode": "overlay",
             "size": 10,
             "solidity": 0.2
            },
            "type": "scatter"
           }
          ],
          "scatter3d": [
           {
            "line": {
             "colorbar": {
              "outlinewidth": 0,
              "ticks": ""
             }
            },
            "marker": {
             "colorbar": {
              "outlinewidth": 0,
              "ticks": ""
             }
            },
            "type": "scatter3d"
           }
          ],
          "scattercarpet": [
           {
            "marker": {
             "colorbar": {
              "outlinewidth": 0,
              "ticks": ""
             }
            },
            "type": "scattercarpet"
           }
          ],
          "scattergeo": [
           {
            "marker": {
             "colorbar": {
              "outlinewidth": 0,
              "ticks": ""
             }
            },
            "type": "scattergeo"
           }
          ],
          "scattergl": [
           {
            "marker": {
             "colorbar": {
              "outlinewidth": 0,
              "ticks": ""
             }
            },
            "type": "scattergl"
           }
          ],
          "scattermap": [
           {
            "marker": {
             "colorbar": {
              "outlinewidth": 0,
              "ticks": ""
             }
            },
            "type": "scattermap"
           }
          ],
          "scattermapbox": [
           {
            "marker": {
             "colorbar": {
              "outlinewidth": 0,
              "ticks": ""
             }
            },
            "type": "scattermapbox"
           }
          ],
          "scatterpolar": [
           {
            "marker": {
             "colorbar": {
              "outlinewidth": 0,
              "ticks": ""
             }
            },
            "type": "scatterpolar"
           }
          ],
          "scatterpolargl": [
           {
            "marker": {
             "colorbar": {
              "outlinewidth": 0,
              "ticks": ""
             }
            },
            "type": "scatterpolargl"
           }
          ],
          "scatterternary": [
           {
            "marker": {
             "colorbar": {
              "outlinewidth": 0,
              "ticks": ""
             }
            },
            "type": "scatterternary"
           }
          ],
          "surface": [
           {
            "colorbar": {
             "outlinewidth": 0,
             "ticks": ""
            },
            "colorscale": [
             [
              0,
              "#0d0887"
             ],
             [
              0.1111111111111111,
              "#46039f"
             ],
             [
              0.2222222222222222,
              "#7201a8"
             ],
             [
              0.3333333333333333,
              "#9c179e"
             ],
             [
              0.4444444444444444,
              "#bd3786"
             ],
             [
              0.5555555555555556,
              "#d8576b"
             ],
             [
              0.6666666666666666,
              "#ed7953"
             ],
             [
              0.7777777777777778,
              "#fb9f3a"
             ],
             [
              0.8888888888888888,
              "#fdca26"
             ],
             [
              1,
              "#f0f921"
             ]
            ],
            "type": "surface"
           }
          ],
          "table": [
           {
            "cells": {
             "fill": {
              "color": "#EBF0F8"
             },
             "line": {
              "color": "white"
             }
            },
            "header": {
             "fill": {
              "color": "#C8D4E3"
             },
             "line": {
              "color": "white"
             }
            },
            "type": "table"
           }
          ]
         },
         "layout": {
          "annotationdefaults": {
           "arrowcolor": "#2a3f5f",
           "arrowhead": 0,
           "arrowwidth": 1
          },
          "autotypenumbers": "strict",
          "coloraxis": {
           "colorbar": {
            "outlinewidth": 0,
            "ticks": ""
           }
          },
          "colorscale": {
           "diverging": [
            [
             0,
             "#8e0152"
            ],
            [
             0.1,
             "#c51b7d"
            ],
            [
             0.2,
             "#de77ae"
            ],
            [
             0.3,
             "#f1b6da"
            ],
            [
             0.4,
             "#fde0ef"
            ],
            [
             0.5,
             "#f7f7f7"
            ],
            [
             0.6,
             "#e6f5d0"
            ],
            [
             0.7,
             "#b8e186"
            ],
            [
             0.8,
             "#7fbc41"
            ],
            [
             0.9,
             "#4d9221"
            ],
            [
             1,
             "#276419"
            ]
           ],
           "sequential": [
            [
             0,
             "#0d0887"
            ],
            [
             0.1111111111111111,
             "#46039f"
            ],
            [
             0.2222222222222222,
             "#7201a8"
            ],
            [
             0.3333333333333333,
             "#9c179e"
            ],
            [
             0.4444444444444444,
             "#bd3786"
            ],
            [
             0.5555555555555556,
             "#d8576b"
            ],
            [
             0.6666666666666666,
             "#ed7953"
            ],
            [
             0.7777777777777778,
             "#fb9f3a"
            ],
            [
             0.8888888888888888,
             "#fdca26"
            ],
            [
             1,
             "#f0f921"
            ]
           ],
           "sequentialminus": [
            [
             0,
             "#0d0887"
            ],
            [
             0.1111111111111111,
             "#46039f"
            ],
            [
             0.2222222222222222,
             "#7201a8"
            ],
            [
             0.3333333333333333,
             "#9c179e"
            ],
            [
             0.4444444444444444,
             "#bd3786"
            ],
            [
             0.5555555555555556,
             "#d8576b"
            ],
            [
             0.6666666666666666,
             "#ed7953"
            ],
            [
             0.7777777777777778,
             "#fb9f3a"
            ],
            [
             0.8888888888888888,
             "#fdca26"
            ],
            [
             1,
             "#f0f921"
            ]
           ]
          },
          "colorway": [
           "#636efa",
           "#EF553B",
           "#00cc96",
           "#ab63fa",
           "#FFA15A",
           "#19d3f3",
           "#FF6692",
           "#B6E880",
           "#FF97FF",
           "#FECB52"
          ],
          "font": {
           "color": "#2a3f5f"
          },
          "geo": {
           "bgcolor": "white",
           "lakecolor": "white",
           "landcolor": "#E5ECF6",
           "showlakes": true,
           "showland": true,
           "subunitcolor": "white"
          },
          "hoverlabel": {
           "align": "left"
          },
          "hovermode": "closest",
          "mapbox": {
           "style": "light"
          },
          "paper_bgcolor": "white",
          "plot_bgcolor": "#E5ECF6",
          "polar": {
           "angularaxis": {
            "gridcolor": "white",
            "linecolor": "white",
            "ticks": ""
           },
           "bgcolor": "#E5ECF6",
           "radialaxis": {
            "gridcolor": "white",
            "linecolor": "white",
            "ticks": ""
           }
          },
          "scene": {
           "xaxis": {
            "backgroundcolor": "#E5ECF6",
            "gridcolor": "white",
            "gridwidth": 2,
            "linecolor": "white",
            "showbackground": true,
            "ticks": "",
            "zerolinecolor": "white"
           },
           "yaxis": {
            "backgroundcolor": "#E5ECF6",
            "gridcolor": "white",
            "gridwidth": 2,
            "linecolor": "white",
            "showbackground": true,
            "ticks": "",
            "zerolinecolor": "white"
           },
           "zaxis": {
            "backgroundcolor": "#E5ECF6",
            "gridcolor": "white",
            "gridwidth": 2,
            "linecolor": "white",
            "showbackground": true,
            "ticks": "",
            "zerolinecolor": "white"
           }
          },
          "shapedefaults": {
           "line": {
            "color": "#2a3f5f"
           }
          },
          "ternary": {
           "aaxis": {
            "gridcolor": "white",
            "linecolor": "white",
            "ticks": ""
           },
           "baxis": {
            "gridcolor": "white",
            "linecolor": "white",
            "ticks": ""
           },
           "bgcolor": "#E5ECF6",
           "caxis": {
            "gridcolor": "white",
            "linecolor": "white",
            "ticks": ""
           }
          },
          "title": {
           "x": 0.05
          },
          "xaxis": {
           "automargin": true,
           "gridcolor": "white",
           "linecolor": "white",
           "ticks": "",
           "title": {
            "standoff": 15
           },
           "zerolinecolor": "white",
           "zerolinewidth": 2
          },
          "yaxis": {
           "automargin": true,
           "gridcolor": "white",
           "linecolor": "white",
           "ticks": "",
           "title": {
            "standoff": 15
           },
           "zerolinecolor": "white",
           "zerolinewidth": 2
          }
         }
        },
        "title": {
         "text": "Iterrating through <b>Gene Expression Weight</b> Scoring"
        },
        "xaxis": {
         "title": {
          "text": "Gene Expression Weight"
         }
        },
        "yaxis": {
         "title": {
          "text": "Sum of Ranking of Mutations"
         }
        }
       }
      }
     },
     "metadata": {},
     "output_type": "display_data"
    },
    {
     "data": {
      "application/vnd.jupyter.widget-view+json": {
       "model_id": "e796cb793e89498d8be06da827493d16",
       "version_major": 2,
       "version_minor": 0
      },
      "text/plain": [
       "Calculating scores for TERT at position 1295228:   0%|          | 0/100 [00:00<?, ?it/s]"
      ]
     },
     "metadata": {},
     "output_type": "display_data"
    },
    {
     "data": {
      "application/vnd.jupyter.widget-view+json": {
       "model_id": "ec6f0075279f40c093672e4dec8052ba",
       "version_major": 2,
       "version_minor": 0
      },
      "text/plain": [
       "Calculating scores for TERT at position 1295250:   0%|          | 0/100 [00:00<?, ?it/s]"
      ]
     },
     "metadata": {},
     "output_type": "display_data"
    },
    {
     "data": {
      "application/vnd.jupyter.widget-view+json": {
       "model_id": "71ca7187a27a46a0a8af36f8bd2a8539",
       "version_major": 2,
       "version_minor": 0
      },
      "text/plain": [
       "Calculating scores for RALY at position 32580927:   0%|          | 0/100 [00:00<?, ?it/s]"
      ]
     },
     "metadata": {},
     "output_type": "display_data"
    },
    {
     "data": {
      "application/vnd.jupyter.widget-view+json": {
       "model_id": "0c13757da32d4db2b99f54542d1253b7",
       "version_major": 2,
       "version_minor": 0
      },
      "text/plain": [
       "Calculating scores for CDC20 at position 43824529:   0%|          | 0/100 [00:00<?, ?it/s]"
      ]
     },
     "metadata": {},
     "output_type": "display_data"
    },
    {
     "data": {
      "application/vnd.plotly.v1+json": {
       "config": {
        "plotlyServerURL": "https://plot.ly"
       },
       "data": [
        {
         "marker": {
          "color": "red",
          "size": 10
         },
         "mode": "lines",
         "name": "TERT 1295228",
         "type": "scatter",
         "x": {
          "bdata": "AAAAAAAA8D8AAAAAAAAAQAAAAAAAAAhAAAAAAAAAEEAAAAAAAAAUQAAAAAAAABhAAAAAAAAAHEAAAAAAAAAgQAAAAAAAACJAAAAAAAAAJEAAAAAAAAAmQAAAAAAAAChAAAAAAAAAKkAAAAAAAAAsQAAAAAAAAC5AAAAAAAAAMEAAAAAAAAAxQAAAAAAAADJAAAAAAAAAM0AAAAAAAAA0QAAAAAAAADVAAAAAAAAANkAAAAAAAAA3QAAAAAAAADhAAAAAAAAAOUAAAAAAAAA6QAAAAAAAADtAAAAAAAAAPEAAAAAAAAA9QAAAAAAAAD5AAAAAAAAAP0AAAAAAAABAQAAAAAAAgEBAAAAAAAAAQUAAAAAAAIBBQAAAAAAAAEJAAAAAAACAQkAAAAAAAABDQAAAAAAAgENAAAAAAAAAREAAAAAAAIBEQAAAAAAAAEVAAAAAAACARUAAAAAAAABGQAAAAAAAgEZAAAAAAAAAR0AAAAAAAIBHQAAAAAAAAEhAAAAAAACASEAAAAAAAABJQAAAAAAAgElAAAAAAAAASkAAAAAAAIBKQAAAAAAAAEtAAAAAAACAS0AAAAAAAABMQAAAAAAAgExAAAAAAAAATUAAAAAAAIBNQAAAAAAAAE5AAAAAAACATkAAAAAAAABPQAAAAAAAgE9AAAAAAAAAUEAAAAAAAEBQQAAAAAAAgFBAAAAAAADAUEAAAAAAAABRQAAAAAAAQFFAAAAAAACAUUAAAAAAAMBRQAAAAAAAAFJAAAAAAABAUkAAAAAAAIBSQAAAAAAAwFJAAAAAAAAAU0AAAAAAAEBTQAAAAAAAgFNAAAAAAADAU0AAAAAAAABUQAAAAAAAQFRAAAAAAACAVEAAAAAAAMBUQAAAAAAAAFVAAAAAAABAVUAAAAAAAIBVQAAAAAAAwFVAAAAAAAAAVkAAAAAAAEBWQAAAAAAAgFZAAAAAAADAVkAAAAAAAABXQAAAAAAAQFdAAAAAAACAV0AAAAAAAMBXQAAAAAAAAFhAAAAAAABAWEAAAAAAAIBYQAAAAAAAwFhAAAAAAAAAWUA=",
          "dtype": "f8"
         },
         "y": [
          1747,
          1710,
          1694,
          1690,
          1691,
          1699,
          1733,
          1766,
          1810,
          1860,
          1951,
          2006,
          2083,
          2178,
          2280,
          2410,
          2563,
          2734,
          2951,
          3051,
          3182,
          3280,
          3415,
          3565,
          3730,
          3913,
          3998,
          4128,
          4180,
          4180,
          4180,
          4180,
          4180,
          4180,
          4180,
          4180,
          4180,
          4180,
          4180,
          4180,
          4180,
          4180,
          4180,
          4180,
          4180,
          4180,
          4180,
          4180,
          4180,
          4180,
          4180,
          4180,
          4180,
          4180,
          4180,
          4180,
          4180,
          4180,
          4180,
          4180,
          4180,
          4180,
          4180,
          4180,
          4180,
          4180,
          4180,
          4180,
          4180,
          4180,
          4180,
          4180,
          4180,
          4180,
          4180,
          4180,
          4180,
          4180,
          4180,
          4180,
          4180,
          4180,
          4180,
          4180,
          4180,
          4180,
          4180,
          4180,
          4180,
          4180,
          4180,
          4180,
          4180,
          4180,
          4180,
          4180,
          4180,
          4180,
          4180,
          4180
         ]
        },
        {
         "marker": {
          "color": "blue",
          "size": 10
         },
         "mode": "lines",
         "name": "TERT 1295250",
         "type": "scatter",
         "x": {
          "bdata": "AAAAAAAA8D8AAAAAAAAAQAAAAAAAAAhAAAAAAAAAEEAAAAAAAAAUQAAAAAAAABhAAAAAAAAAHEAAAAAAAAAgQAAAAAAAACJAAAAAAAAAJEAAAAAAAAAmQAAAAAAAAChAAAAAAAAAKkAAAAAAAAAsQAAAAAAAAC5AAAAAAAAAMEAAAAAAAAAxQAAAAAAAADJAAAAAAAAAM0AAAAAAAAA0QAAAAAAAADVAAAAAAAAANkAAAAAAAAA3QAAAAAAAADhAAAAAAAAAOUAAAAAAAAA6QAAAAAAAADtAAAAAAAAAPEAAAAAAAAA9QAAAAAAAAD5AAAAAAAAAP0AAAAAAAABAQAAAAAAAgEBAAAAAAAAAQUAAAAAAAIBBQAAAAAAAAEJAAAAAAACAQkAAAAAAAABDQAAAAAAAgENAAAAAAAAAREAAAAAAAIBEQAAAAAAAAEVAAAAAAACARUAAAAAAAABGQAAAAAAAgEZAAAAAAAAAR0AAAAAAAIBHQAAAAAAAAEhAAAAAAACASEAAAAAAAABJQAAAAAAAgElAAAAAAAAASkAAAAAAAIBKQAAAAAAAAEtAAAAAAACAS0AAAAAAAABMQAAAAAAAgExAAAAAAAAATUAAAAAAAIBNQAAAAAAAAE5AAAAAAACATkAAAAAAAABPQAAAAAAAgE9AAAAAAAAAUEAAAAAAAEBQQAAAAAAAgFBAAAAAAADAUEAAAAAAAABRQAAAAAAAQFFAAAAAAACAUUAAAAAAAMBRQAAAAAAAAFJAAAAAAABAUkAAAAAAAIBSQAAAAAAAwFJAAAAAAAAAU0AAAAAAAEBTQAAAAAAAgFNAAAAAAADAU0AAAAAAAABUQAAAAAAAQFRAAAAAAACAVEAAAAAAAMBUQAAAAAAAAFVAAAAAAABAVUAAAAAAAIBVQAAAAAAAwFVAAAAAAAAAVkAAAAAAAEBWQAAAAAAAgFZAAAAAAADAVkAAAAAAAABXQAAAAAAAQFdAAAAAAACAV0AAAAAAAMBXQAAAAAAAAFhAAAAAAABAWEAAAAAAAIBYQAAAAAAAwFhAAAAAAAAAWUA=",
          "dtype": "f8"
         },
         "y": [
          445,
          453,
          451,
          481,
          492,
          516,
          535,
          562,
          593,
          653,
          687,
          742,
          794,
          857,
          934,
          1020,
          1115,
          1247,
          1247,
          1247,
          1247,
          1247,
          1247,
          1247,
          1247,
          1247,
          1247,
          1247,
          1247,
          1247,
          1247,
          1247,
          1247,
          1247,
          1247,
          1247,
          1247,
          1247,
          1247,
          1247,
          1247,
          1247,
          1247,
          1247,
          1247,
          1247,
          1247,
          1247,
          1247,
          1247,
          1247,
          1247,
          1247,
          1247,
          1247,
          1247,
          1247,
          1247,
          1247,
          1247,
          1247,
          1247,
          1247,
          1247,
          1247,
          1247,
          1247,
          1247,
          1247,
          1247,
          1247,
          1247,
          1247,
          1247,
          1247,
          1247,
          1247,
          1247,
          1247,
          1247,
          1247,
          1247,
          1247,
          1247,
          1247,
          1247,
          1247,
          1247,
          1247,
          1247,
          1247,
          1247,
          1247,
          1247,
          1247,
          1247,
          1247,
          1247,
          1247,
          1247
         ]
        },
        {
         "marker": {
          "color": "green",
          "size": 10
         },
         "mode": "lines",
         "name": "RALY 32580927",
         "type": "scatter",
         "x": {
          "bdata": "AAAAAAAA8D8AAAAAAAAAQAAAAAAAAAhAAAAAAAAAEEAAAAAAAAAUQAAAAAAAABhAAAAAAAAAHEAAAAAAAAAgQAAAAAAAACJAAAAAAAAAJEAAAAAAAAAmQAAAAAAAAChAAAAAAAAAKkAAAAAAAAAsQAAAAAAAAC5AAAAAAAAAMEAAAAAAAAAxQAAAAAAAADJAAAAAAAAAM0AAAAAAAAA0QAAAAAAAADVAAAAAAAAANkAAAAAAAAA3QAAAAAAAADhAAAAAAAAAOUAAAAAAAAA6QAAAAAAAADtAAAAAAAAAPEAAAAAAAAA9QAAAAAAAAD5AAAAAAAAAP0AAAAAAAABAQAAAAAAAgEBAAAAAAAAAQUAAAAAAAIBBQAAAAAAAAEJAAAAAAACAQkAAAAAAAABDQAAAAAAAgENAAAAAAAAAREAAAAAAAIBEQAAAAAAAAEVAAAAAAACARUAAAAAAAABGQAAAAAAAgEZAAAAAAAAAR0AAAAAAAIBHQAAAAAAAAEhAAAAAAACASEAAAAAAAABJQAAAAAAAgElAAAAAAAAASkAAAAAAAIBKQAAAAAAAAEtAAAAAAACAS0AAAAAAAABMQAAAAAAAgExAAAAAAAAATUAAAAAAAIBNQAAAAAAAAE5AAAAAAACATkAAAAAAAABPQAAAAAAAgE9AAAAAAAAAUEAAAAAAAEBQQAAAAAAAgFBAAAAAAADAUEAAAAAAAABRQAAAAAAAQFFAAAAAAACAUUAAAAAAAMBRQAAAAAAAAFJAAAAAAABAUkAAAAAAAIBSQAAAAAAAwFJAAAAAAAAAU0AAAAAAAEBTQAAAAAAAgFNAAAAAAADAU0AAAAAAAABUQAAAAAAAQFRAAAAAAACAVEAAAAAAAMBUQAAAAAAAAFVAAAAAAABAVUAAAAAAAIBVQAAAAAAAwFVAAAAAAAAAVkAAAAAAAEBWQAAAAAAAgFZAAAAAAADAVkAAAAAAAABXQAAAAAAAQFdAAAAAAACAV0AAAAAAAMBXQAAAAAAAAFhAAAAAAABAWEAAAAAAAIBYQAAAAAAAwFhAAAAAAAAAWUA=",
          "dtype": "f8"
         },
         "y": [
          984,
          975,
          959,
          947,
          932,
          908,
          887,
          877,
          865,
          856,
          850,
          840,
          838,
          835,
          837,
          829,
          831,
          830,
          829,
          833,
          833,
          832,
          831,
          832,
          832,
          831,
          830,
          830,
          830,
          830,
          830,
          830,
          830,
          830,
          830,
          830,
          830,
          830,
          830,
          830,
          830,
          830,
          830,
          830,
          830,
          830,
          830,
          830,
          830,
          830,
          830,
          830,
          830,
          830,
          830,
          830,
          830,
          830,
          830,
          830,
          830,
          830,
          830,
          830,
          830,
          830,
          830,
          830,
          830,
          830,
          830,
          830,
          830,
          830,
          830,
          830,
          830,
          830,
          830,
          830,
          830,
          830,
          830,
          830,
          830,
          830,
          830,
          830,
          830,
          830,
          830,
          830,
          830,
          830,
          830,
          830,
          830,
          830,
          830,
          830
         ]
        },
        {
         "marker": {
          "color": "yellow",
          "size": 10
         },
         "mode": "lines",
         "name": "CDC20 43824529",
         "type": "scatter",
         "x": {
          "bdata": "AAAAAAAA8D8AAAAAAAAAQAAAAAAAAAhAAAAAAAAAEEAAAAAAAAAUQAAAAAAAABhAAAAAAAAAHEAAAAAAAAAgQAAAAAAAACJAAAAAAAAAJEAAAAAAAAAmQAAAAAAAAChAAAAAAAAAKkAAAAAAAAAsQAAAAAAAAC5AAAAAAAAAMEAAAAAAAAAxQAAAAAAAADJAAAAAAAAAM0AAAAAAAAA0QAAAAAAAADVAAAAAAAAANkAAAAAAAAA3QAAAAAAAADhAAAAAAAAAOUAAAAAAAAA6QAAAAAAAADtAAAAAAAAAPEAAAAAAAAA9QAAAAAAAAD5AAAAAAAAAP0AAAAAAAABAQAAAAAAAgEBAAAAAAAAAQUAAAAAAAIBBQAAAAAAAAEJAAAAAAACAQkAAAAAAAABDQAAAAAAAgENAAAAAAAAAREAAAAAAAIBEQAAAAAAAAEVAAAAAAACARUAAAAAAAABGQAAAAAAAgEZAAAAAAAAAR0AAAAAAAIBHQAAAAAAAAEhAAAAAAACASEAAAAAAAABJQAAAAAAAgElAAAAAAAAASkAAAAAAAIBKQAAAAAAAAEtAAAAAAACAS0AAAAAAAABMQAAAAAAAgExAAAAAAAAATUAAAAAAAIBNQAAAAAAAAE5AAAAAAACATkAAAAAAAABPQAAAAAAAgE9AAAAAAAAAUEAAAAAAAEBQQAAAAAAAgFBAAAAAAADAUEAAAAAAAABRQAAAAAAAQFFAAAAAAACAUUAAAAAAAMBRQAAAAAAAAFJAAAAAAABAUkAAAAAAAIBSQAAAAAAAwFJAAAAAAAAAU0AAAAAAAEBTQAAAAAAAgFNAAAAAAADAU0AAAAAAAABUQAAAAAAAQFRAAAAAAACAVEAAAAAAAMBUQAAAAAAAAFVAAAAAAABAVUAAAAAAAIBVQAAAAAAAwFVAAAAAAAAAVkAAAAAAAEBWQAAAAAAAgFZAAAAAAADAVkAAAAAAAABXQAAAAAAAQFdAAAAAAACAV0AAAAAAAMBXQAAAAAAAAFhAAAAAAABAWEAAAAAAAIBYQAAAAAAAwFhAAAAAAAAAWUA=",
          "dtype": "f8"
         },
         "y": [
          285,
          266,
          256,
          249,
          241,
          235,
          232,
          230,
          229,
          227,
          227,
          225,
          224,
          223,
          223,
          222,
          222,
          223,
          221,
          220,
          221,
          220,
          219,
          219,
          219,
          219,
          219,
          219,
          219,
          219,
          219,
          219,
          219,
          219,
          219,
          219,
          219,
          219,
          219,
          219,
          219,
          219,
          219,
          219,
          219,
          219,
          219,
          219,
          219,
          219,
          219,
          219,
          219,
          219,
          219,
          219,
          219,
          219,
          219,
          219,
          219,
          219,
          219,
          219,
          219,
          219,
          219,
          219,
          219,
          219,
          219,
          219,
          219,
          219,
          219,
          219,
          219,
          219,
          219,
          219,
          219,
          219,
          219,
          219,
          219,
          219,
          219,
          219,
          219,
          219,
          219,
          219,
          219,
          219,
          219,
          219,
          219,
          219,
          219,
          219
         ]
        }
       ],
       "layout": {
        "annotations": [
         {
          "showarrow": false,
          "text": "Original Weight: 10",
          "x": 10,
          "xanchor": "left",
          "xref": "x",
          "y": 1,
          "yanchor": "top",
          "yref": "y domain"
         }
        ],
        "shapes": [
         {
          "line": {
           "color": "red",
           "dash": "dash",
           "width": 1
          },
          "type": "line",
          "x0": 0,
          "x1": 1,
          "xref": "x domain",
          "y0": 406,
          "y1": 406,
          "yref": "y"
         },
         {
          "line": {
           "color": "blue",
           "dash": "dash",
           "width": 1
          },
          "type": "line",
          "x0": 0,
          "x1": 1,
          "xref": "x domain",
          "y0": 28,
          "y1": 28,
          "yref": "y"
         },
         {
          "line": {
           "color": "green",
           "dash": "dash",
           "width": 1
          },
          "type": "line",
          "x0": 0,
          "x1": 1,
          "xref": "x domain",
          "y0": 10,
          "y1": 10,
          "yref": "y"
         },
         {
          "line": {
           "color": "yellow",
           "dash": "dash",
           "width": 1
          },
          "type": "line",
          "x0": 0,
          "x1": 1,
          "xref": "x domain",
          "y0": 1,
          "y1": 1,
          "yref": "y"
         },
         {
          "line": {
           "color": "black",
           "dash": "dash",
           "width": 2
          },
          "type": "line",
          "x0": 10,
          "x1": 10,
          "xref": "x",
          "y0": 0,
          "y1": 1,
          "yref": "y domain"
         }
        ],
        "showlegend": true,
        "template": {
         "data": {
          "bar": [
           {
            "error_x": {
             "color": "#2a3f5f"
            },
            "error_y": {
             "color": "#2a3f5f"
            },
            "marker": {
             "line": {
              "color": "#E5ECF6",
              "width": 0.5
             },
             "pattern": {
              "fillmode": "overlay",
              "size": 10,
              "solidity": 0.2
             }
            },
            "type": "bar"
           }
          ],
          "barpolar": [
           {
            "marker": {
             "line": {
              "color": "#E5ECF6",
              "width": 0.5
             },
             "pattern": {
              "fillmode": "overlay",
              "size": 10,
              "solidity": 0.2
             }
            },
            "type": "barpolar"
           }
          ],
          "carpet": [
           {
            "aaxis": {
             "endlinecolor": "#2a3f5f",
             "gridcolor": "white",
             "linecolor": "white",
             "minorgridcolor": "white",
             "startlinecolor": "#2a3f5f"
            },
            "baxis": {
             "endlinecolor": "#2a3f5f",
             "gridcolor": "white",
             "linecolor": "white",
             "minorgridcolor": "white",
             "startlinecolor": "#2a3f5f"
            },
            "type": "carpet"
           }
          ],
          "choropleth": [
           {
            "colorbar": {
             "outlinewidth": 0,
             "ticks": ""
            },
            "type": "choropleth"
           }
          ],
          "contour": [
           {
            "colorbar": {
             "outlinewidth": 0,
             "ticks": ""
            },
            "colorscale": [
             [
              0,
              "#0d0887"
             ],
             [
              0.1111111111111111,
              "#46039f"
             ],
             [
              0.2222222222222222,
              "#7201a8"
             ],
             [
              0.3333333333333333,
              "#9c179e"
             ],
             [
              0.4444444444444444,
              "#bd3786"
             ],
             [
              0.5555555555555556,
              "#d8576b"
             ],
             [
              0.6666666666666666,
              "#ed7953"
             ],
             [
              0.7777777777777778,
              "#fb9f3a"
             ],
             [
              0.8888888888888888,
              "#fdca26"
             ],
             [
              1,
              "#f0f921"
             ]
            ],
            "type": "contour"
           }
          ],
          "contourcarpet": [
           {
            "colorbar": {
             "outlinewidth": 0,
             "ticks": ""
            },
            "type": "contourcarpet"
           }
          ],
          "heatmap": [
           {
            "colorbar": {
             "outlinewidth": 0,
             "ticks": ""
            },
            "colorscale": [
             [
              0,
              "#0d0887"
             ],
             [
              0.1111111111111111,
              "#46039f"
             ],
             [
              0.2222222222222222,
              "#7201a8"
             ],
             [
              0.3333333333333333,
              "#9c179e"
             ],
             [
              0.4444444444444444,
              "#bd3786"
             ],
             [
              0.5555555555555556,
              "#d8576b"
             ],
             [
              0.6666666666666666,
              "#ed7953"
             ],
             [
              0.7777777777777778,
              "#fb9f3a"
             ],
             [
              0.8888888888888888,
              "#fdca26"
             ],
             [
              1,
              "#f0f921"
             ]
            ],
            "type": "heatmap"
           }
          ],
          "histogram": [
           {
            "marker": {
             "pattern": {
              "fillmode": "overlay",
              "size": 10,
              "solidity": 0.2
             }
            },
            "type": "histogram"
           }
          ],
          "histogram2d": [
           {
            "colorbar": {
             "outlinewidth": 0,
             "ticks": ""
            },
            "colorscale": [
             [
              0,
              "#0d0887"
             ],
             [
              0.1111111111111111,
              "#46039f"
             ],
             [
              0.2222222222222222,
              "#7201a8"
             ],
             [
              0.3333333333333333,
              "#9c179e"
             ],
             [
              0.4444444444444444,
              "#bd3786"
             ],
             [
              0.5555555555555556,
              "#d8576b"
             ],
             [
              0.6666666666666666,
              "#ed7953"
             ],
             [
              0.7777777777777778,
              "#fb9f3a"
             ],
             [
              0.8888888888888888,
              "#fdca26"
             ],
             [
              1,
              "#f0f921"
             ]
            ],
            "type": "histogram2d"
           }
          ],
          "histogram2dcontour": [
           {
            "colorbar": {
             "outlinewidth": 0,
             "ticks": ""
            },
            "colorscale": [
             [
              0,
              "#0d0887"
             ],
             [
              0.1111111111111111,
              "#46039f"
             ],
             [
              0.2222222222222222,
              "#7201a8"
             ],
             [
              0.3333333333333333,
              "#9c179e"
             ],
             [
              0.4444444444444444,
              "#bd3786"
             ],
             [
              0.5555555555555556,
              "#d8576b"
             ],
             [
              0.6666666666666666,
              "#ed7953"
             ],
             [
              0.7777777777777778,
              "#fb9f3a"
             ],
             [
              0.8888888888888888,
              "#fdca26"
             ],
             [
              1,
              "#f0f921"
             ]
            ],
            "type": "histogram2dcontour"
           }
          ],
          "mesh3d": [
           {
            "colorbar": {
             "outlinewidth": 0,
             "ticks": ""
            },
            "type": "mesh3d"
           }
          ],
          "parcoords": [
           {
            "line": {
             "colorbar": {
              "outlinewidth": 0,
              "ticks": ""
             }
            },
            "type": "parcoords"
           }
          ],
          "pie": [
           {
            "automargin": true,
            "type": "pie"
           }
          ],
          "scatter": [
           {
            "fillpattern": {
             "fillmode": "overlay",
             "size": 10,
             "solidity": 0.2
            },
            "type": "scatter"
           }
          ],
          "scatter3d": [
           {
            "line": {
             "colorbar": {
              "outlinewidth": 0,
              "ticks": ""
             }
            },
            "marker": {
             "colorbar": {
              "outlinewidth": 0,
              "ticks": ""
             }
            },
            "type": "scatter3d"
           }
          ],
          "scattercarpet": [
           {
            "marker": {
             "colorbar": {
              "outlinewidth": 0,
              "ticks": ""
             }
            },
            "type": "scattercarpet"
           }
          ],
          "scattergeo": [
           {
            "marker": {
             "colorbar": {
              "outlinewidth": 0,
              "ticks": ""
             }
            },
            "type": "scattergeo"
           }
          ],
          "scattergl": [
           {
            "marker": {
             "colorbar": {
              "outlinewidth": 0,
              "ticks": ""
             }
            },
            "type": "scattergl"
           }
          ],
          "scattermap": [
           {
            "marker": {
             "colorbar": {
              "outlinewidth": 0,
              "ticks": ""
             }
            },
            "type": "scattermap"
           }
          ],
          "scattermapbox": [
           {
            "marker": {
             "colorbar": {
              "outlinewidth": 0,
              "ticks": ""
             }
            },
            "type": "scattermapbox"
           }
          ],
          "scatterpolar": [
           {
            "marker": {
             "colorbar": {
              "outlinewidth": 0,
              "ticks": ""
             }
            },
            "type": "scatterpolar"
           }
          ],
          "scatterpolargl": [
           {
            "marker": {
             "colorbar": {
              "outlinewidth": 0,
              "ticks": ""
             }
            },
            "type": "scatterpolargl"
           }
          ],
          "scatterternary": [
           {
            "marker": {
             "colorbar": {
              "outlinewidth": 0,
              "ticks": ""
             }
            },
            "type": "scatterternary"
           }
          ],
          "surface": [
           {
            "colorbar": {
             "outlinewidth": 0,
             "ticks": ""
            },
            "colorscale": [
             [
              0,
              "#0d0887"
             ],
             [
              0.1111111111111111,
              "#46039f"
             ],
             [
              0.2222222222222222,
              "#7201a8"
             ],
             [
              0.3333333333333333,
              "#9c179e"
             ],
             [
              0.4444444444444444,
              "#bd3786"
             ],
             [
              0.5555555555555556,
              "#d8576b"
             ],
             [
              0.6666666666666666,
              "#ed7953"
             ],
             [
              0.7777777777777778,
              "#fb9f3a"
             ],
             [
              0.8888888888888888,
              "#fdca26"
             ],
             [
              1,
              "#f0f921"
             ]
            ],
            "type": "surface"
           }
          ],
          "table": [
           {
            "cells": {
             "fill": {
              "color": "#EBF0F8"
             },
             "line": {
              "color": "white"
             }
            },
            "header": {
             "fill": {
              "color": "#C8D4E3"
             },
             "line": {
              "color": "white"
             }
            },
            "type": "table"
           }
          ]
         },
         "layout": {
          "annotationdefaults": {
           "arrowcolor": "#2a3f5f",
           "arrowhead": 0,
           "arrowwidth": 1
          },
          "autotypenumbers": "strict",
          "coloraxis": {
           "colorbar": {
            "outlinewidth": 0,
            "ticks": ""
           }
          },
          "colorscale": {
           "diverging": [
            [
             0,
             "#8e0152"
            ],
            [
             0.1,
             "#c51b7d"
            ],
            [
             0.2,
             "#de77ae"
            ],
            [
             0.3,
             "#f1b6da"
            ],
            [
             0.4,
             "#fde0ef"
            ],
            [
             0.5,
             "#f7f7f7"
            ],
            [
             0.6,
             "#e6f5d0"
            ],
            [
             0.7,
             "#b8e186"
            ],
            [
             0.8,
             "#7fbc41"
            ],
            [
             0.9,
             "#4d9221"
            ],
            [
             1,
             "#276419"
            ]
           ],
           "sequential": [
            [
             0,
             "#0d0887"
            ],
            [
             0.1111111111111111,
             "#46039f"
            ],
            [
             0.2222222222222222,
             "#7201a8"
            ],
            [
             0.3333333333333333,
             "#9c179e"
            ],
            [
             0.4444444444444444,
             "#bd3786"
            ],
            [
             0.5555555555555556,
             "#d8576b"
            ],
            [
             0.6666666666666666,
             "#ed7953"
            ],
            [
             0.7777777777777778,
             "#fb9f3a"
            ],
            [
             0.8888888888888888,
             "#fdca26"
            ],
            [
             1,
             "#f0f921"
            ]
           ],
           "sequentialminus": [
            [
             0,
             "#0d0887"
            ],
            [
             0.1111111111111111,
             "#46039f"
            ],
            [
             0.2222222222222222,
             "#7201a8"
            ],
            [
             0.3333333333333333,
             "#9c179e"
            ],
            [
             0.4444444444444444,
             "#bd3786"
            ],
            [
             0.5555555555555556,
             "#d8576b"
            ],
            [
             0.6666666666666666,
             "#ed7953"
            ],
            [
             0.7777777777777778,
             "#fb9f3a"
            ],
            [
             0.8888888888888888,
             "#fdca26"
            ],
            [
             1,
             "#f0f921"
            ]
           ]
          },
          "colorway": [
           "#636efa",
           "#EF553B",
           "#00cc96",
           "#ab63fa",
           "#FFA15A",
           "#19d3f3",
           "#FF6692",
           "#B6E880",
           "#FF97FF",
           "#FECB52"
          ],
          "font": {
           "color": "#2a3f5f"
          },
          "geo": {
           "bgcolor": "white",
           "lakecolor": "white",
           "landcolor": "#E5ECF6",
           "showlakes": true,
           "showland": true,
           "subunitcolor": "white"
          },
          "hoverlabel": {
           "align": "left"
          },
          "hovermode": "closest",
          "mapbox": {
           "style": "light"
          },
          "paper_bgcolor": "white",
          "plot_bgcolor": "#E5ECF6",
          "polar": {
           "angularaxis": {
            "gridcolor": "white",
            "linecolor": "white",
            "ticks": ""
           },
           "bgcolor": "#E5ECF6",
           "radialaxis": {
            "gridcolor": "white",
            "linecolor": "white",
            "ticks": ""
           }
          },
          "scene": {
           "xaxis": {
            "backgroundcolor": "#E5ECF6",
            "gridcolor": "white",
            "gridwidth": 2,
            "linecolor": "white",
            "showbackground": true,
            "ticks": "",
            "zerolinecolor": "white"
           },
           "yaxis": {
            "backgroundcolor": "#E5ECF6",
            "gridcolor": "white",
            "gridwidth": 2,
            "linecolor": "white",
            "showbackground": true,
            "ticks": "",
            "zerolinecolor": "white"
           },
           "zaxis": {
            "backgroundcolor": "#E5ECF6",
            "gridcolor": "white",
            "gridwidth": 2,
            "linecolor": "white",
            "showbackground": true,
            "ticks": "",
            "zerolinecolor": "white"
           }
          },
          "shapedefaults": {
           "line": {
            "color": "#2a3f5f"
           }
          },
          "ternary": {
           "aaxis": {
            "gridcolor": "white",
            "linecolor": "white",
            "ticks": ""
           },
           "baxis": {
            "gridcolor": "white",
            "linecolor": "white",
            "ticks": ""
           },
           "bgcolor": "#E5ECF6",
           "caxis": {
            "gridcolor": "white",
            "linecolor": "white",
            "ticks": ""
           }
          },
          "title": {
           "x": 0.05
          },
          "xaxis": {
           "automargin": true,
           "gridcolor": "white",
           "linecolor": "white",
           "ticks": "",
           "title": {
            "standoff": 15
           },
           "zerolinecolor": "white",
           "zerolinewidth": 2
          },
          "yaxis": {
           "automargin": true,
           "gridcolor": "white",
           "linecolor": "white",
           "ticks": "",
           "title": {
            "standoff": 15
           },
           "zerolinecolor": "white",
           "zerolinewidth": 2
          }
         }
        },
        "title": {
         "text": "Iterrating through <b>Purity Weight</b> Scoring"
        },
        "xaxis": {
         "title": {
          "text": "Purity Weight"
         }
        },
        "yaxis": {
         "title": {
          "text": "Sum of Ranking of Mutations"
         }
        }
       }
      }
     },
     "metadata": {},
     "output_type": "display_data"
    },
    {
     "data": {
      "application/vnd.jupyter.widget-view+json": {
       "model_id": "3c28bbc003b14a06b4558e45275cb180",
       "version_major": 2,
       "version_minor": 0
      },
      "text/plain": [
       "Calculating scores for TERT at position 1295228:   0%|          | 0/100 [00:00<?, ?it/s]"
      ]
     },
     "metadata": {},
     "output_type": "display_data"
    },
    {
     "data": {
      "application/vnd.jupyter.widget-view+json": {
       "model_id": "ddaf728cba0648f4b6b791bce1dcd8a5",
       "version_major": 2,
       "version_minor": 0
      },
      "text/plain": [
       "Calculating scores for TERT at position 1295250:   0%|          | 0/100 [00:00<?, ?it/s]"
      ]
     },
     "metadata": {},
     "output_type": "display_data"
    },
    {
     "data": {
      "application/vnd.jupyter.widget-view+json": {
       "model_id": "99d882d9eeba48808526ddb5c677ccf3",
       "version_major": 2,
       "version_minor": 0
      },
      "text/plain": [
       "Calculating scores for RALY at position 32580927:   0%|          | 0/100 [00:00<?, ?it/s]"
      ]
     },
     "metadata": {},
     "output_type": "display_data"
    },
    {
     "data": {
      "application/vnd.jupyter.widget-view+json": {
       "model_id": "31b47307bb974c43b948327b7079492e",
       "version_major": 2,
       "version_minor": 0
      },
      "text/plain": [
       "Calculating scores for CDC20 at position 43824529:   0%|          | 0/100 [00:00<?, ?it/s]"
      ]
     },
     "metadata": {},
     "output_type": "display_data"
    },
    {
     "data": {
      "application/vnd.plotly.v1+json": {
       "config": {
        "plotlyServerURL": "https://plot.ly"
       },
       "data": [
        {
         "marker": {
          "color": "red",
          "size": 10
         },
         "mode": "lines",
         "name": "TERT 1295228",
         "type": "scatter",
         "x": {
          "bdata": "AAAAAAAA8D9nSMzbGRLzP8+QmLczJPY/Ntlkk002+T+eITFvZ0j8PwVq/UqBWv8/Ntlkk002AUBq/UqBWr8CQJ4hMW9nSARA0UUXXXTRBUAFav1KgVoHQDmO4ziO4whAbLLJJptsCkCg1q8UqPULQNT6lQK1fg1ABx988MEHD0CeITFvZ0gQQLgzJObtDBFA0UUXXXTREUDrVwrU+pUSQAVq/UqBWhNAH3zwwQcfFEA5juM4juMUQFKg1q8UqBVAbLLJJptsFkCGxLydITEXQKDWrxSo9RdAuuiiiy66GEDU+pUCtX4ZQO0MiXk7QxpABx988MEHG0AhMW9nSMwbQDtDYt7OkBxAVVVVVVVVHUBvZ0jM2xkeQIl5O0Ni3h5AoosuuuiiH0DezpCYtzMgQOtXCtT6lSBA+OCDDz74IEAFav1KgVohQBLzdobEvCFAH3zwwQcfIkAsBWr9SoEiQDmO4ziO4yJARRdddNFFI0BSoNavFKgjQF8pUOtXCiRAbLLJJptsJEB5O0Ni3s4kQIbEvJ0hMSVAk0022WSTJUCg1q8UqPUlQK1fKVDrVyZAuuiiiy66JkDHcRzHcRwnQNT6lQK1fidA4YMPPvjgJ0DtDIl5O0MoQPqVArV+pShABx988MEHKUAUqPUrBWopQCExb2dIzClALrrooosuKkA7Q2LezpAqQEjM2xkS8ypAVVVVVVVVK0Bi3s6QmLcrQG9nSMzbGSxAfPDBBx98LECJeTtDYt4sQJUCtX6lQC1AoosuuuiiLUCvFKj1KwUuQLydITFvZy5AySabbLLJLkDWrxSo9SsvQOM4juM4ji9A8MEHH3zwL0B+pUCtXykwQAVq/UqBWjBAjC666KKLMEAS83aGxLwwQJi3MyTm7TBAH3zwwQcfMUClQK1fKVAxQCwFav1KgTFAsskmm2yyMUA5juM4juMxQL9SoNavFDJARRdddNFFMkDM2xkS83YyQFKg1q8UqDJA2WSTTTbZMkBfKVDrVwozQObtDIl5OzNAbLLJJptsM0DzdobEvJ0zQHk7Q2LezjNAAAAAAAAANEA=",
          "dtype": "f8"
         },
         "y": [
          2261,
          2187,
          2097,
          2037,
          1959,
          1876,
          1799,
          1714,
          1645,
          1582,
          1525,
          1502,
          1511,
          1520,
          1528,
          1541,
          1546,
          1549,
          1564,
          1570,
          1580,
          1591,
          1602,
          1611,
          1620,
          1641,
          1649,
          1649,
          1649,
          1649,
          1649,
          1649,
          1649,
          1649,
          1649,
          1649,
          1649,
          1649,
          1649,
          1649,
          1649,
          1649,
          1649,
          1649,
          1649,
          1649,
          1649,
          1649,
          1649,
          1649,
          1649,
          1649,
          1649,
          1649,
          1649,
          1649,
          1649,
          1649,
          1649,
          1649,
          1649,
          1649,
          1649,
          1649,
          1649,
          1649,
          1649,
          1649,
          1649,
          1649,
          1649,
          1649,
          1649,
          1649,
          1649,
          1649,
          1649,
          1649,
          1649,
          1649,
          1649,
          1649,
          1649,
          1649,
          1649,
          1649,
          1649,
          1649,
          1649,
          1649,
          1649,
          1649,
          1649,
          1649,
          1649,
          1649,
          1649,
          1649,
          1649,
          1649
         ]
        },
        {
         "marker": {
          "color": "blue",
          "size": 10
         },
         "mode": "lines",
         "name": "TERT 1295250",
         "type": "scatter",
         "x": {
          "bdata": "AAAAAAAA8D9nSMzbGRLzP8+QmLczJPY/Ntlkk002+T+eITFvZ0j8PwVq/UqBWv8/Ntlkk002AUBq/UqBWr8CQJ4hMW9nSARA0UUXXXTRBUAFav1KgVoHQDmO4ziO4whAbLLJJptsCkCg1q8UqPULQNT6lQK1fg1ABx988MEHD0CeITFvZ0gQQLgzJObtDBFA0UUXXXTREUDrVwrU+pUSQAVq/UqBWhNAH3zwwQcfFEA5juM4juMUQFKg1q8UqBVAbLLJJptsFkCGxLydITEXQKDWrxSo9RdAuuiiiy66GEDU+pUCtX4ZQO0MiXk7QxpABx988MEHG0AhMW9nSMwbQDtDYt7OkBxAVVVVVVVVHUBvZ0jM2xkeQIl5O0Ni3h5AoosuuuiiH0DezpCYtzMgQOtXCtT6lSBA+OCDDz74IEAFav1KgVohQBLzdobEvCFAH3zwwQcfIkAsBWr9SoEiQDmO4ziO4yJARRdddNFFI0BSoNavFKgjQF8pUOtXCiRAbLLJJptsJEB5O0Ni3s4kQIbEvJ0hMSVAk0022WSTJUCg1q8UqPUlQK1fKVDrVyZAuuiiiy66JkDHcRzHcRwnQNT6lQK1fidA4YMPPvjgJ0DtDIl5O0MoQPqVArV+pShABx988MEHKUAUqPUrBWopQCExb2dIzClALrrooosuKkA7Q2LezpAqQEjM2xkS8ypAVVVVVVVVK0Bi3s6QmLcrQG9nSMzbGSxAfPDBBx98LECJeTtDYt4sQJUCtX6lQC1AoosuuuiiLUCvFKj1KwUuQLydITFvZy5AySabbLLJLkDWrxSo9SsvQOM4juM4ji9A8MEHH3zwL0B+pUCtXykwQAVq/UqBWjBAjC666KKLMEAS83aGxLwwQJi3MyTm7TBAH3zwwQcfMUClQK1fKVAxQCwFav1KgTFAsskmm2yyMUA5juM4juMxQL9SoNavFDJARRdddNFFMkDM2xkS83YyQFKg1q8UqDJA2WSTTTbZMkBfKVDrVwozQObtDIl5OzNAbLLJJptsM0DzdobEvJ0zQHk7Q2LezjNAAAAAAAAANEA=",
          "dtype": "f8"
         },
         "y": [
          558,
          561,
          580,
          595,
          621,
          649,
          667,
          683,
          694,
          718,
          730,
          741,
          747,
          749,
          754,
          758,
          760,
          762,
          770,
          774,
          775,
          777,
          798,
          814,
          819,
          822,
          824,
          824,
          824,
          824,
          824,
          824,
          824,
          824,
          824,
          824,
          824,
          824,
          824,
          824,
          824,
          824,
          824,
          824,
          824,
          824,
          824,
          824,
          824,
          824,
          824,
          824,
          824,
          824,
          824,
          824,
          824,
          824,
          824,
          824,
          824,
          824,
          824,
          824,
          824,
          824,
          824,
          824,
          824,
          824,
          824,
          824,
          824,
          824,
          824,
          824,
          824,
          824,
          824,
          824,
          824,
          824,
          824,
          824,
          824,
          824,
          824,
          824,
          824,
          824,
          824,
          824,
          824,
          824,
          824,
          824,
          824,
          824,
          824,
          824
         ]
        },
        {
         "marker": {
          "color": "green",
          "size": 10
         },
         "mode": "lines",
         "name": "RALY 32580927",
         "type": "scatter",
         "x": {
          "bdata": "AAAAAAAA8D9nSMzbGRLzP8+QmLczJPY/Ntlkk002+T+eITFvZ0j8PwVq/UqBWv8/Ntlkk002AUBq/UqBWr8CQJ4hMW9nSARA0UUXXXTRBUAFav1KgVoHQDmO4ziO4whAbLLJJptsCkCg1q8UqPULQNT6lQK1fg1ABx988MEHD0CeITFvZ0gQQLgzJObtDBFA0UUXXXTREUDrVwrU+pUSQAVq/UqBWhNAH3zwwQcfFEA5juM4juMUQFKg1q8UqBVAbLLJJptsFkCGxLydITEXQKDWrxSo9RdAuuiiiy66GEDU+pUCtX4ZQO0MiXk7QxpABx988MEHG0AhMW9nSMwbQDtDYt7OkBxAVVVVVVVVHUBvZ0jM2xkeQIl5O0Ni3h5AoosuuuiiH0DezpCYtzMgQOtXCtT6lSBA+OCDDz74IEAFav1KgVohQBLzdobEvCFAH3zwwQcfIkAsBWr9SoEiQDmO4ziO4yJARRdddNFFI0BSoNavFKgjQF8pUOtXCiRAbLLJJptsJEB5O0Ni3s4kQIbEvJ0hMSVAk0022WSTJUCg1q8UqPUlQK1fKVDrVyZAuuiiiy66JkDHcRzHcRwnQNT6lQK1fidA4YMPPvjgJ0DtDIl5O0MoQPqVArV+pShABx988MEHKUAUqPUrBWopQCExb2dIzClALrrooosuKkA7Q2LezpAqQEjM2xkS8ypAVVVVVVVVK0Bi3s6QmLcrQG9nSMzbGSxAfPDBBx98LECJeTtDYt4sQJUCtX6lQC1AoosuuuiiLUCvFKj1KwUuQLydITFvZy5AySabbLLJLkDWrxSo9SsvQOM4juM4ji9A8MEHH3zwL0B+pUCtXykwQAVq/UqBWjBAjC666KKLMEAS83aGxLwwQJi3MyTm7TBAH3zwwQcfMUClQK1fKVAxQCwFav1KgTFAsskmm2yyMUA5juM4juMxQL9SoNavFDJARRdddNFFMkDM2xkS83YyQFKg1q8UqDJA2WSTTTbZMkBfKVDrVwozQObtDIl5OzNAbLLJJptsM0DzdobEvJ0zQHk7Q2LezjNAAAAAAAAANEA=",
          "dtype": "f8"
         },
         "y": [
          742,
          772,
          786,
          808,
          835,
          847,
          869,
          884,
          900,
          917,
          924,
          935,
          937,
          945,
          963,
          967,
          977,
          981,
          984,
          999,
          1006,
          1012,
          1022,
          1041,
          1049,
          1055,
          1072,
          1073,
          1073,
          1073,
          1073,
          1073,
          1073,
          1073,
          1073,
          1073,
          1073,
          1073,
          1073,
          1073,
          1073,
          1073,
          1073,
          1073,
          1073,
          1073,
          1073,
          1073,
          1073,
          1073,
          1073,
          1073,
          1073,
          1073,
          1073,
          1073,
          1073,
          1073,
          1073,
          1073,
          1073,
          1073,
          1073,
          1073,
          1073,
          1073,
          1073,
          1073,
          1073,
          1073,
          1073,
          1073,
          1073,
          1073,
          1073,
          1073,
          1073,
          1073,
          1073,
          1073,
          1073,
          1073,
          1073,
          1073,
          1073,
          1073,
          1073,
          1073,
          1073,
          1073,
          1073,
          1073,
          1073,
          1073,
          1073,
          1073,
          1073,
          1073,
          1073,
          1073
         ]
        },
        {
         "marker": {
          "color": "yellow",
          "size": 10
         },
         "mode": "lines",
         "name": "CDC20 43824529",
         "type": "scatter",
         "x": {
          "bdata": "AAAAAAAA8D9nSMzbGRLzP8+QmLczJPY/Ntlkk002+T+eITFvZ0j8PwVq/UqBWv8/Ntlkk002AUBq/UqBWr8CQJ4hMW9nSARA0UUXXXTRBUAFav1KgVoHQDmO4ziO4whAbLLJJptsCkCg1q8UqPULQNT6lQK1fg1ABx988MEHD0CeITFvZ0gQQLgzJObtDBFA0UUXXXTREUDrVwrU+pUSQAVq/UqBWhNAH3zwwQcfFEA5juM4juMUQFKg1q8UqBVAbLLJJptsFkCGxLydITEXQKDWrxSo9RdAuuiiiy66GEDU+pUCtX4ZQO0MiXk7QxpABx988MEHG0AhMW9nSMwbQDtDYt7OkBxAVVVVVVVVHUBvZ0jM2xkeQIl5O0Ni3h5AoosuuuiiH0DezpCYtzMgQOtXCtT6lSBA+OCDDz74IEAFav1KgVohQBLzdobEvCFAH3zwwQcfIkAsBWr9SoEiQDmO4ziO4yJARRdddNFFI0BSoNavFKgjQF8pUOtXCiRAbLLJJptsJEB5O0Ni3s4kQIbEvJ0hMSVAk0022WSTJUCg1q8UqPUlQK1fKVDrVyZAuuiiiy66JkDHcRzHcRwnQNT6lQK1fidA4YMPPvjgJ0DtDIl5O0MoQPqVArV+pShABx988MEHKUAUqPUrBWopQCExb2dIzClALrrooosuKkA7Q2LezpAqQEjM2xkS8ypAVVVVVVVVK0Bi3s6QmLcrQG9nSMzbGSxAfPDBBx98LECJeTtDYt4sQJUCtX6lQC1AoosuuuiiLUCvFKj1KwUuQLydITFvZy5AySabbLLJLkDWrxSo9SsvQOM4juM4ji9A8MEHH3zwL0B+pUCtXykwQAVq/UqBWjBAjC666KKLMEAS83aGxLwwQJi3MyTm7TBAH3zwwQcfMUClQK1fKVAxQCwFav1KgTFAsskmm2yyMUA5juM4juMxQL9SoNavFDJARRdddNFFMkDM2xkS83YyQFKg1q8UqDJA2WSTTTbZMkBfKVDrVwozQObtDIl5OzNAbLLJJptsM0DzdobEvJ0zQHk7Q2LezjNAAAAAAAAANEA=",
          "dtype": "f8"
         },
         "y": [
          213,
          215,
          218,
          222,
          225,
          227,
          228,
          231,
          233,
          240,
          244,
          249,
          250,
          252,
          257,
          259,
          262,
          269,
          271,
          273,
          273,
          276,
          284,
          283,
          287,
          289,
          290,
          290,
          290,
          290,
          290,
          290,
          290,
          290,
          290,
          290,
          290,
          290,
          290,
          290,
          290,
          290,
          290,
          290,
          290,
          290,
          290,
          290,
          290,
          290,
          290,
          290,
          290,
          290,
          290,
          290,
          290,
          290,
          290,
          290,
          290,
          290,
          290,
          290,
          290,
          290,
          290,
          290,
          290,
          290,
          290,
          290,
          290,
          290,
          290,
          290,
          290,
          290,
          290,
          290,
          290,
          290,
          290,
          290,
          290,
          290,
          290,
          290,
          290,
          290,
          290,
          290,
          290,
          290,
          290,
          290,
          290,
          290,
          290,
          290
         ]
        }
       ],
       "layout": {
        "annotations": [
         {
          "showarrow": false,
          "text": "Original Weight: 2",
          "x": 2,
          "xanchor": "left",
          "xref": "x",
          "y": 1,
          "yanchor": "top",
          "yref": "y domain"
         }
        ],
        "shapes": [
         {
          "line": {
           "color": "red",
           "dash": "dash",
           "width": 1
          },
          "type": "line",
          "x0": 0,
          "x1": 1,
          "xref": "x domain",
          "y0": 406,
          "y1": 406,
          "yref": "y"
         },
         {
          "line": {
           "color": "blue",
           "dash": "dash",
           "width": 1
          },
          "type": "line",
          "x0": 0,
          "x1": 1,
          "xref": "x domain",
          "y0": 28,
          "y1": 28,
          "yref": "y"
         },
         {
          "line": {
           "color": "green",
           "dash": "dash",
           "width": 1
          },
          "type": "line",
          "x0": 0,
          "x1": 1,
          "xref": "x domain",
          "y0": 10,
          "y1": 10,
          "yref": "y"
         },
         {
          "line": {
           "color": "yellow",
           "dash": "dash",
           "width": 1
          },
          "type": "line",
          "x0": 0,
          "x1": 1,
          "xref": "x domain",
          "y0": 1,
          "y1": 1,
          "yref": "y"
         },
         {
          "line": {
           "color": "black",
           "dash": "dash",
           "width": 2
          },
          "type": "line",
          "x0": 2,
          "x1": 2,
          "xref": "x",
          "y0": 0,
          "y1": 1,
          "yref": "y domain"
         }
        ],
        "showlegend": true,
        "template": {
         "data": {
          "bar": [
           {
            "error_x": {
             "color": "#2a3f5f"
            },
            "error_y": {
             "color": "#2a3f5f"
            },
            "marker": {
             "line": {
              "color": "#E5ECF6",
              "width": 0.5
             },
             "pattern": {
              "fillmode": "overlay",
              "size": 10,
              "solidity": 0.2
             }
            },
            "type": "bar"
           }
          ],
          "barpolar": [
           {
            "marker": {
             "line": {
              "color": "#E5ECF6",
              "width": 0.5
             },
             "pattern": {
              "fillmode": "overlay",
              "size": 10,
              "solidity": 0.2
             }
            },
            "type": "barpolar"
           }
          ],
          "carpet": [
           {
            "aaxis": {
             "endlinecolor": "#2a3f5f",
             "gridcolor": "white",
             "linecolor": "white",
             "minorgridcolor": "white",
             "startlinecolor": "#2a3f5f"
            },
            "baxis": {
             "endlinecolor": "#2a3f5f",
             "gridcolor": "white",
             "linecolor": "white",
             "minorgridcolor": "white",
             "startlinecolor": "#2a3f5f"
            },
            "type": "carpet"
           }
          ],
          "choropleth": [
           {
            "colorbar": {
             "outlinewidth": 0,
             "ticks": ""
            },
            "type": "choropleth"
           }
          ],
          "contour": [
           {
            "colorbar": {
             "outlinewidth": 0,
             "ticks": ""
            },
            "colorscale": [
             [
              0,
              "#0d0887"
             ],
             [
              0.1111111111111111,
              "#46039f"
             ],
             [
              0.2222222222222222,
              "#7201a8"
             ],
             [
              0.3333333333333333,
              "#9c179e"
             ],
             [
              0.4444444444444444,
              "#bd3786"
             ],
             [
              0.5555555555555556,
              "#d8576b"
             ],
             [
              0.6666666666666666,
              "#ed7953"
             ],
             [
              0.7777777777777778,
              "#fb9f3a"
             ],
             [
              0.8888888888888888,
              "#fdca26"
             ],
             [
              1,
              "#f0f921"
             ]
            ],
            "type": "contour"
           }
          ],
          "contourcarpet": [
           {
            "colorbar": {
             "outlinewidth": 0,
             "ticks": ""
            },
            "type": "contourcarpet"
           }
          ],
          "heatmap": [
           {
            "colorbar": {
             "outlinewidth": 0,
             "ticks": ""
            },
            "colorscale": [
             [
              0,
              "#0d0887"
             ],
             [
              0.1111111111111111,
              "#46039f"
             ],
             [
              0.2222222222222222,
              "#7201a8"
             ],
             [
              0.3333333333333333,
              "#9c179e"
             ],
             [
              0.4444444444444444,
              "#bd3786"
             ],
             [
              0.5555555555555556,
              "#d8576b"
             ],
             [
              0.6666666666666666,
              "#ed7953"
             ],
             [
              0.7777777777777778,
              "#fb9f3a"
             ],
             [
              0.8888888888888888,
              "#fdca26"
             ],
             [
              1,
              "#f0f921"
             ]
            ],
            "type": "heatmap"
           }
          ],
          "histogram": [
           {
            "marker": {
             "pattern": {
              "fillmode": "overlay",
              "size": 10,
              "solidity": 0.2
             }
            },
            "type": "histogram"
           }
          ],
          "histogram2d": [
           {
            "colorbar": {
             "outlinewidth": 0,
             "ticks": ""
            },
            "colorscale": [
             [
              0,
              "#0d0887"
             ],
             [
              0.1111111111111111,
              "#46039f"
             ],
             [
              0.2222222222222222,
              "#7201a8"
             ],
             [
              0.3333333333333333,
              "#9c179e"
             ],
             [
              0.4444444444444444,
              "#bd3786"
             ],
             [
              0.5555555555555556,
              "#d8576b"
             ],
             [
              0.6666666666666666,
              "#ed7953"
             ],
             [
              0.7777777777777778,
              "#fb9f3a"
             ],
             [
              0.8888888888888888,
              "#fdca26"
             ],
             [
              1,
              "#f0f921"
             ]
            ],
            "type": "histogram2d"
           }
          ],
          "histogram2dcontour": [
           {
            "colorbar": {
             "outlinewidth": 0,
             "ticks": ""
            },
            "colorscale": [
             [
              0,
              "#0d0887"
             ],
             [
              0.1111111111111111,
              "#46039f"
             ],
             [
              0.2222222222222222,
              "#7201a8"
             ],
             [
              0.3333333333333333,
              "#9c179e"
             ],
             [
              0.4444444444444444,
              "#bd3786"
             ],
             [
              0.5555555555555556,
              "#d8576b"
             ],
             [
              0.6666666666666666,
              "#ed7953"
             ],
             [
              0.7777777777777778,
              "#fb9f3a"
             ],
             [
              0.8888888888888888,
              "#fdca26"
             ],
             [
              1,
              "#f0f921"
             ]
            ],
            "type": "histogram2dcontour"
           }
          ],
          "mesh3d": [
           {
            "colorbar": {
             "outlinewidth": 0,
             "ticks": ""
            },
            "type": "mesh3d"
           }
          ],
          "parcoords": [
           {
            "line": {
             "colorbar": {
              "outlinewidth": 0,
              "ticks": ""
             }
            },
            "type": "parcoords"
           }
          ],
          "pie": [
           {
            "automargin": true,
            "type": "pie"
           }
          ],
          "scatter": [
           {
            "fillpattern": {
             "fillmode": "overlay",
             "size": 10,
             "solidity": 0.2
            },
            "type": "scatter"
           }
          ],
          "scatter3d": [
           {
            "line": {
             "colorbar": {
              "outlinewidth": 0,
              "ticks": ""
             }
            },
            "marker": {
             "colorbar": {
              "outlinewidth": 0,
              "ticks": ""
             }
            },
            "type": "scatter3d"
           }
          ],
          "scattercarpet": [
           {
            "marker": {
             "colorbar": {
              "outlinewidth": 0,
              "ticks": ""
             }
            },
            "type": "scattercarpet"
           }
          ],
          "scattergeo": [
           {
            "marker": {
             "colorbar": {
              "outlinewidth": 0,
              "ticks": ""
             }
            },
            "type": "scattergeo"
           }
          ],
          "scattergl": [
           {
            "marker": {
             "colorbar": {
              "outlinewidth": 0,
              "ticks": ""
             }
            },
            "type": "scattergl"
           }
          ],
          "scattermap": [
           {
            "marker": {
             "colorbar": {
              "outlinewidth": 0,
              "ticks": ""
             }
            },
            "type": "scattermap"
           }
          ],
          "scattermapbox": [
           {
            "marker": {
             "colorbar": {
              "outlinewidth": 0,
              "ticks": ""
             }
            },
            "type": "scattermapbox"
           }
          ],
          "scatterpolar": [
           {
            "marker": {
             "colorbar": {
              "outlinewidth": 0,
              "ticks": ""
             }
            },
            "type": "scatterpolar"
           }
          ],
          "scatterpolargl": [
           {
            "marker": {
             "colorbar": {
              "outlinewidth": 0,
              "ticks": ""
             }
            },
            "type": "scatterpolargl"
           }
          ],
          "scatterternary": [
           {
            "marker": {
             "colorbar": {
              "outlinewidth": 0,
              "ticks": ""
             }
            },
            "type": "scatterternary"
           }
          ],
          "surface": [
           {
            "colorbar": {
             "outlinewidth": 0,
             "ticks": ""
            },
            "colorscale": [
             [
              0,
              "#0d0887"
             ],
             [
              0.1111111111111111,
              "#46039f"
             ],
             [
              0.2222222222222222,
              "#7201a8"
             ],
             [
              0.3333333333333333,
              "#9c179e"
             ],
             [
              0.4444444444444444,
              "#bd3786"
             ],
             [
              0.5555555555555556,
              "#d8576b"
             ],
             [
              0.6666666666666666,
              "#ed7953"
             ],
             [
              0.7777777777777778,
              "#fb9f3a"
             ],
             [
              0.8888888888888888,
              "#fdca26"
             ],
             [
              1,
              "#f0f921"
             ]
            ],
            "type": "surface"
           }
          ],
          "table": [
           {
            "cells": {
             "fill": {
              "color": "#EBF0F8"
             },
             "line": {
              "color": "white"
             }
            },
            "header": {
             "fill": {
              "color": "#C8D4E3"
             },
             "line": {
              "color": "white"
             }
            },
            "type": "table"
           }
          ]
         },
         "layout": {
          "annotationdefaults": {
           "arrowcolor": "#2a3f5f",
           "arrowhead": 0,
           "arrowwidth": 1
          },
          "autotypenumbers": "strict",
          "coloraxis": {
           "colorbar": {
            "outlinewidth": 0,
            "ticks": ""
           }
          },
          "colorscale": {
           "diverging": [
            [
             0,
             "#8e0152"
            ],
            [
             0.1,
             "#c51b7d"
            ],
            [
             0.2,
             "#de77ae"
            ],
            [
             0.3,
             "#f1b6da"
            ],
            [
             0.4,
             "#fde0ef"
            ],
            [
             0.5,
             "#f7f7f7"
            ],
            [
             0.6,
             "#e6f5d0"
            ],
            [
             0.7,
             "#b8e186"
            ],
            [
             0.8,
             "#7fbc41"
            ],
            [
             0.9,
             "#4d9221"
            ],
            [
             1,
             "#276419"
            ]
           ],
           "sequential": [
            [
             0,
             "#0d0887"
            ],
            [
             0.1111111111111111,
             "#46039f"
            ],
            [
             0.2222222222222222,
             "#7201a8"
            ],
            [
             0.3333333333333333,
             "#9c179e"
            ],
            [
             0.4444444444444444,
             "#bd3786"
            ],
            [
             0.5555555555555556,
             "#d8576b"
            ],
            [
             0.6666666666666666,
             "#ed7953"
            ],
            [
             0.7777777777777778,
             "#fb9f3a"
            ],
            [
             0.8888888888888888,
             "#fdca26"
            ],
            [
             1,
             "#f0f921"
            ]
           ],
           "sequentialminus": [
            [
             0,
             "#0d0887"
            ],
            [
             0.1111111111111111,
             "#46039f"
            ],
            [
             0.2222222222222222,
             "#7201a8"
            ],
            [
             0.3333333333333333,
             "#9c179e"
            ],
            [
             0.4444444444444444,
             "#bd3786"
            ],
            [
             0.5555555555555556,
             "#d8576b"
            ],
            [
             0.6666666666666666,
             "#ed7953"
            ],
            [
             0.7777777777777778,
             "#fb9f3a"
            ],
            [
             0.8888888888888888,
             "#fdca26"
            ],
            [
             1,
             "#f0f921"
            ]
           ]
          },
          "colorway": [
           "#636efa",
           "#EF553B",
           "#00cc96",
           "#ab63fa",
           "#FFA15A",
           "#19d3f3",
           "#FF6692",
           "#B6E880",
           "#FF97FF",
           "#FECB52"
          ],
          "font": {
           "color": "#2a3f5f"
          },
          "geo": {
           "bgcolor": "white",
           "lakecolor": "white",
           "landcolor": "#E5ECF6",
           "showlakes": true,
           "showland": true,
           "subunitcolor": "white"
          },
          "hoverlabel": {
           "align": "left"
          },
          "hovermode": "closest",
          "mapbox": {
           "style": "light"
          },
          "paper_bgcolor": "white",
          "plot_bgcolor": "#E5ECF6",
          "polar": {
           "angularaxis": {
            "gridcolor": "white",
            "linecolor": "white",
            "ticks": ""
           },
           "bgcolor": "#E5ECF6",
           "radialaxis": {
            "gridcolor": "white",
            "linecolor": "white",
            "ticks": ""
           }
          },
          "scene": {
           "xaxis": {
            "backgroundcolor": "#E5ECF6",
            "gridcolor": "white",
            "gridwidth": 2,
            "linecolor": "white",
            "showbackground": true,
            "ticks": "",
            "zerolinecolor": "white"
           },
           "yaxis": {
            "backgroundcolor": "#E5ECF6",
            "gridcolor": "white",
            "gridwidth": 2,
            "linecolor": "white",
            "showbackground": true,
            "ticks": "",
            "zerolinecolor": "white"
           },
           "zaxis": {
            "backgroundcolor": "#E5ECF6",
            "gridcolor": "white",
            "gridwidth": 2,
            "linecolor": "white",
            "showbackground": true,
            "ticks": "",
            "zerolinecolor": "white"
           }
          },
          "shapedefaults": {
           "line": {
            "color": "#2a3f5f"
           }
          },
          "ternary": {
           "aaxis": {
            "gridcolor": "white",
            "linecolor": "white",
            "ticks": ""
           },
           "baxis": {
            "gridcolor": "white",
            "linecolor": "white",
            "ticks": ""
           },
           "bgcolor": "#E5ECF6",
           "caxis": {
            "gridcolor": "white",
            "linecolor": "white",
            "ticks": ""
           }
          },
          "title": {
           "x": 0.05
          },
          "xaxis": {
           "automargin": true,
           "gridcolor": "white",
           "linecolor": "white",
           "ticks": "",
           "title": {
            "standoff": 15
           },
           "zerolinecolor": "white",
           "zerolinewidth": 2
          },
          "yaxis": {
           "automargin": true,
           "gridcolor": "white",
           "linecolor": "white",
           "ticks": "",
           "title": {
            "standoff": 15
           },
           "zerolinecolor": "white",
           "zerolinewidth": 2
          }
         }
        },
        "title": {
         "text": "Iterrating through <b>Transcription Factor Creation Weight</b> Scoring"
        },
        "xaxis": {
         "title": {
          "text": "Transcription Factor Creation Weight"
         }
        },
        "yaxis": {
         "title": {
          "text": "Sum of Ranking of Mutations"
         }
        }
       }
      }
     },
     "metadata": {},
     "output_type": "display_data"
    },
    {
     "data": {
      "application/vnd.jupyter.widget-view+json": {
       "model_id": "09d208bf066c4c5583509e0b504d9c0d",
       "version_major": 2,
       "version_minor": 0
      },
      "text/plain": [
       "Calculating scores for TERT at position 1295228:   0%|          | 0/100 [00:00<?, ?it/s]"
      ]
     },
     "metadata": {},
     "output_type": "display_data"
    },
    {
     "data": {
      "application/vnd.jupyter.widget-view+json": {
       "model_id": "00e6d713513842aa8589377924a12c6e",
       "version_major": 2,
       "version_minor": 0
      },
      "text/plain": [
       "Calculating scores for TERT at position 1295250:   0%|          | 0/100 [00:00<?, ?it/s]"
      ]
     },
     "metadata": {},
     "output_type": "display_data"
    },
    {
     "data": {
      "application/vnd.jupyter.widget-view+json": {
       "model_id": "59c0e3fa8784436b856572782c51c833",
       "version_major": 2,
       "version_minor": 0
      },
      "text/plain": [
       "Calculating scores for RALY at position 32580927:   0%|          | 0/100 [00:00<?, ?it/s]"
      ]
     },
     "metadata": {},
     "output_type": "display_data"
    },
    {
     "data": {
      "application/vnd.jupyter.widget-view+json": {
       "model_id": "b5ae5ee57ec441c9ae202eb9c3255132",
       "version_major": 2,
       "version_minor": 0
      },
      "text/plain": [
       "Calculating scores for CDC20 at position 43824529:   0%|          | 0/100 [00:00<?, ?it/s]"
      ]
     },
     "metadata": {},
     "output_type": "display_data"
    },
    {
     "data": {
      "application/vnd.plotly.v1+json": {
       "config": {
        "plotlyServerURL": "https://plot.ly"
       },
       "data": [
        {
         "marker": {
          "color": "red",
          "size": 10
         },
         "mode": "lines",
         "name": "TERT 1295228",
         "type": "scatter",
         "x": {
          "bdata": "AAAAAAAA8D9nSMzbGRLzP8+QmLczJPY/Ntlkk002+T+eITFvZ0j8PwVq/UqBWv8/Ntlkk002AUBq/UqBWr8CQJ4hMW9nSARA0UUXXXTRBUAFav1KgVoHQDmO4ziO4whAbLLJJptsCkCg1q8UqPULQNT6lQK1fg1ABx988MEHD0CeITFvZ0gQQLgzJObtDBFA0UUXXXTREUDrVwrU+pUSQAVq/UqBWhNAH3zwwQcfFEA5juM4juMUQFKg1q8UqBVAbLLJJptsFkCGxLydITEXQKDWrxSo9RdAuuiiiy66GEDU+pUCtX4ZQO0MiXk7QxpABx988MEHG0AhMW9nSMwbQDtDYt7OkBxAVVVVVVVVHUBvZ0jM2xkeQIl5O0Ni3h5AoosuuuiiH0DezpCYtzMgQOtXCtT6lSBA+OCDDz74IEAFav1KgVohQBLzdobEvCFAH3zwwQcfIkAsBWr9SoEiQDmO4ziO4yJARRdddNFFI0BSoNavFKgjQF8pUOtXCiRAbLLJJptsJEB5O0Ni3s4kQIbEvJ0hMSVAk0022WSTJUCg1q8UqPUlQK1fKVDrVyZAuuiiiy66JkDHcRzHcRwnQNT6lQK1fidA4YMPPvjgJ0DtDIl5O0MoQPqVArV+pShABx988MEHKUAUqPUrBWopQCExb2dIzClALrrooosuKkA7Q2LezpAqQEjM2xkS8ypAVVVVVVVVK0Bi3s6QmLcrQG9nSMzbGSxAfPDBBx98LECJeTtDYt4sQJUCtX6lQC1AoosuuuiiLUCvFKj1KwUuQLydITFvZy5AySabbLLJLkDWrxSo9SsvQOM4juM4ji9A8MEHH3zwL0B+pUCtXykwQAVq/UqBWjBAjC666KKLMEAS83aGxLwwQJi3MyTm7TBAH3zwwQcfMUClQK1fKVAxQCwFav1KgTFAsskmm2yyMUA5juM4juMxQL9SoNavFDJARRdddNFFMkDM2xkS83YyQFKg1q8UqDJA2WSTTTbZMkBfKVDrVwozQObtDIl5OzNAbLLJJptsM0DzdobEvJ0zQHk7Q2LezjNAAAAAAAAANEA=",
          "dtype": "f8"
         },
         "y": [
          1731,
          1664,
          1699,
          1754,
          1795,
          1850,
          1887,
          1921,
          1942,
          1986,
          2034,
          2064,
          2083,
          2093,
          2103,
          2110,
          2118,
          2138,
          2154,
          2172,
          2188,
          2213,
          2222,
          2250,
          2271,
          2287,
          2301,
          2305,
          2305,
          2305,
          2305,
          2305,
          2305,
          2305,
          2305,
          2305,
          2305,
          2305,
          2305,
          2305,
          2305,
          2305,
          2305,
          2305,
          2305,
          2305,
          2305,
          2305,
          2305,
          2305,
          2305,
          2305,
          2305,
          2305,
          2305,
          2305,
          2305,
          2305,
          2305,
          2305,
          2305,
          2305,
          2305,
          2305,
          2305,
          2305,
          2305,
          2305,
          2305,
          2305,
          2305,
          2305,
          2305,
          2305,
          2305,
          2305,
          2305,
          2305,
          2305,
          2305,
          2305,
          2305,
          2305,
          2305,
          2305,
          2305,
          2305,
          2305,
          2305,
          2305,
          2305,
          2305,
          2305,
          2305,
          2305,
          2305,
          2305,
          2305,
          2305,
          2305
         ]
        },
        {
         "marker": {
          "color": "blue",
          "size": 10
         },
         "mode": "lines",
         "name": "TERT 1295250",
         "type": "scatter",
         "x": {
          "bdata": "AAAAAAAA8D9nSMzbGRLzP8+QmLczJPY/Ntlkk002+T+eITFvZ0j8PwVq/UqBWv8/Ntlkk002AUBq/UqBWr8CQJ4hMW9nSARA0UUXXXTRBUAFav1KgVoHQDmO4ziO4whAbLLJJptsCkCg1q8UqPULQNT6lQK1fg1ABx988MEHD0CeITFvZ0gQQLgzJObtDBFA0UUXXXTREUDrVwrU+pUSQAVq/UqBWhNAH3zwwQcfFEA5juM4juMUQFKg1q8UqBVAbLLJJptsFkCGxLydITEXQKDWrxSo9RdAuuiiiy66GEDU+pUCtX4ZQO0MiXk7QxpABx988MEHG0AhMW9nSMwbQDtDYt7OkBxAVVVVVVVVHUBvZ0jM2xkeQIl5O0Ni3h5AoosuuuiiH0DezpCYtzMgQOtXCtT6lSBA+OCDDz74IEAFav1KgVohQBLzdobEvCFAH3zwwQcfIkAsBWr9SoEiQDmO4ziO4yJARRdddNFFI0BSoNavFKgjQF8pUOtXCiRAbLLJJptsJEB5O0Ni3s4kQIbEvJ0hMSVAk0022WSTJUCg1q8UqPUlQK1fKVDrVyZAuuiiiy66JkDHcRzHcRwnQNT6lQK1fidA4YMPPvjgJ0DtDIl5O0MoQPqVArV+pShABx988MEHKUAUqPUrBWopQCExb2dIzClALrrooosuKkA7Q2LezpAqQEjM2xkS8ypAVVVVVVVVK0Bi3s6QmLcrQG9nSMzbGSxAfPDBBx98LECJeTtDYt4sQJUCtX6lQC1AoosuuuiiLUCvFKj1KwUuQLydITFvZy5AySabbLLJLkDWrxSo9SsvQOM4juM4ji9A8MEHH3zwL0B+pUCtXykwQAVq/UqBWjBAjC666KKLMEAS83aGxLwwQJi3MyTm7TBAH3zwwQcfMUClQK1fKVAxQCwFav1KgTFAsskmm2yyMUA5juM4juMxQL9SoNavFDJARRdddNFFMkDM2xkS83YyQFKg1q8UqDJA2WSTTTbZMkBfKVDrVwozQObtDIl5OzNAbLLJJptsM0DzdobEvJ0zQHk7Q2LezjNAAAAAAAAANEA=",
          "dtype": "f8"
         },
         "y": [
          750,
          754,
          731,
          712,
          685,
          660,
          624,
          591,
          543,
          516,
          503,
          495,
          495,
          499,
          506,
          513,
          514,
          524,
          522,
          524,
          529,
          534,
          544,
          549,
          552,
          562,
          565,
          565,
          565,
          565,
          565,
          565,
          565,
          565,
          565,
          565,
          565,
          565,
          565,
          565,
          565,
          565,
          565,
          565,
          565,
          565,
          565,
          565,
          565,
          565,
          565,
          565,
          565,
          565,
          565,
          565,
          565,
          565,
          565,
          565,
          565,
          565,
          565,
          565,
          565,
          565,
          565,
          565,
          565,
          565,
          565,
          565,
          565,
          565,
          565,
          565,
          565,
          565,
          565,
          565,
          565,
          565,
          565,
          565,
          565,
          565,
          565,
          565,
          565,
          565,
          565,
          565,
          565,
          565,
          565,
          565,
          565,
          565,
          565,
          565
         ]
        },
        {
         "marker": {
          "color": "green",
          "size": 10
         },
         "mode": "lines",
         "name": "RALY 32580927",
         "type": "scatter",
         "x": {
          "bdata": "AAAAAAAA8D9nSMzbGRLzP8+QmLczJPY/Ntlkk002+T+eITFvZ0j8PwVq/UqBWv8/Ntlkk002AUBq/UqBWr8CQJ4hMW9nSARA0UUXXXTRBUAFav1KgVoHQDmO4ziO4whAbLLJJptsCkCg1q8UqPULQNT6lQK1fg1ABx988MEHD0CeITFvZ0gQQLgzJObtDBFA0UUXXXTREUDrVwrU+pUSQAVq/UqBWhNAH3zwwQcfFEA5juM4juMUQFKg1q8UqBVAbLLJJptsFkCGxLydITEXQKDWrxSo9RdAuuiiiy66GEDU+pUCtX4ZQO0MiXk7QxpABx988MEHG0AhMW9nSMwbQDtDYt7OkBxAVVVVVVVVHUBvZ0jM2xkeQIl5O0Ni3h5AoosuuuiiH0DezpCYtzMgQOtXCtT6lSBA+OCDDz74IEAFav1KgVohQBLzdobEvCFAH3zwwQcfIkAsBWr9SoEiQDmO4ziO4yJARRdddNFFI0BSoNavFKgjQF8pUOtXCiRAbLLJJptsJEB5O0Ni3s4kQIbEvJ0hMSVAk0022WSTJUCg1q8UqPUlQK1fKVDrVyZAuuiiiy66JkDHcRzHcRwnQNT6lQK1fidA4YMPPvjgJ0DtDIl5O0MoQPqVArV+pShABx988MEHKUAUqPUrBWopQCExb2dIzClALrrooosuKkA7Q2LezpAqQEjM2xkS8ypAVVVVVVVVK0Bi3s6QmLcrQG9nSMzbGSxAfPDBBx98LECJeTtDYt4sQJUCtX6lQC1AoosuuuiiLUCvFKj1KwUuQLydITFvZy5AySabbLLJLkDWrxSo9SsvQOM4juM4ji9A8MEHH3zwL0B+pUCtXykwQAVq/UqBWjBAjC666KKLMEAS83aGxLwwQJi3MyTm7TBAH3zwwQcfMUClQK1fKVAxQCwFav1KgTFAsskmm2yyMUA5juM4juMxQL9SoNavFDJARRdddNFFMkDM2xkS83YyQFKg1q8UqDJA2WSTTTbZMkBfKVDrVwozQObtDIl5OzNAbLLJJptsM0DzdobEvJ0zQHk7Q2LezjNAAAAAAAAANEA=",
          "dtype": "f8"
         },
         "y": [
          908,
          909,
          897,
          889,
          875,
          856,
          828,
          801,
          792,
          781,
          759,
          747,
          743,
          728,
          722,
          714,
          704,
          700,
          693,
          676,
          671,
          661,
          658,
          660,
          654,
          649,
          647,
          648,
          648,
          648,
          648,
          648,
          648,
          648,
          648,
          648,
          648,
          648,
          648,
          648,
          648,
          648,
          648,
          648,
          648,
          648,
          648,
          648,
          648,
          648,
          648,
          648,
          648,
          648,
          648,
          648,
          648,
          648,
          648,
          648,
          648,
          648,
          648,
          648,
          648,
          648,
          648,
          648,
          648,
          648,
          648,
          648,
          648,
          648,
          648,
          648,
          648,
          648,
          648,
          648,
          648,
          648,
          648,
          648,
          648,
          648,
          648,
          648,
          648,
          648,
          648,
          648,
          648,
          648,
          648,
          648,
          648,
          648,
          648,
          648
         ]
        },
        {
         "marker": {
          "color": "yellow",
          "size": 10
         },
         "mode": "lines",
         "name": "CDC20 43824529",
         "type": "scatter",
         "x": {
          "bdata": "AAAAAAAA8D9nSMzbGRLzP8+QmLczJPY/Ntlkk002+T+eITFvZ0j8PwVq/UqBWv8/Ntlkk002AUBq/UqBWr8CQJ4hMW9nSARA0UUXXXTRBUAFav1KgVoHQDmO4ziO4whAbLLJJptsCkCg1q8UqPULQNT6lQK1fg1ABx988MEHD0CeITFvZ0gQQLgzJObtDBFA0UUXXXTREUDrVwrU+pUSQAVq/UqBWhNAH3zwwQcfFEA5juM4juMUQFKg1q8UqBVAbLLJJptsFkCGxLydITEXQKDWrxSo9RdAuuiiiy66GEDU+pUCtX4ZQO0MiXk7QxpABx988MEHG0AhMW9nSMwbQDtDYt7OkBxAVVVVVVVVHUBvZ0jM2xkeQIl5O0Ni3h5AoosuuuiiH0DezpCYtzMgQOtXCtT6lSBA+OCDDz74IEAFav1KgVohQBLzdobEvCFAH3zwwQcfIkAsBWr9SoEiQDmO4ziO4yJARRdddNFFI0BSoNavFKgjQF8pUOtXCiRAbLLJJptsJEB5O0Ni3s4kQIbEvJ0hMSVAk0022WSTJUCg1q8UqPUlQK1fKVDrVyZAuuiiiy66JkDHcRzHcRwnQNT6lQK1fidA4YMPPvjgJ0DtDIl5O0MoQPqVArV+pShABx988MEHKUAUqPUrBWopQCExb2dIzClALrrooosuKkA7Q2LezpAqQEjM2xkS8ypAVVVVVVVVK0Bi3s6QmLcrQG9nSMzbGSxAfPDBBx98LECJeTtDYt4sQJUCtX6lQC1AoosuuuiiLUCvFKj1KwUuQLydITFvZy5AySabbLLJLkDWrxSo9SsvQOM4juM4ji9A8MEHH3zwL0B+pUCtXykwQAVq/UqBWjBAjC666KKLMEAS83aGxLwwQJi3MyTm7TBAH3zwwQcfMUClQK1fKVAxQCwFav1KgTFAsskmm2yyMUA5juM4juMxQL9SoNavFDJARRdddNFFMkDM2xkS83YyQFKg1q8UqDJA2WSTTTbZMkBfKVDrVwozQObtDIl5OzNAbLLJJptsM0DzdobEvJ0zQHk7Q2LezjNAAAAAAAAANEA=",
          "dtype": "f8"
         },
         "y": [
          314,
          300,
          280,
          261,
          239,
          228,
          229,
          233,
          238,
          241,
          249,
          250,
          252,
          255,
          256,
          256,
          263,
          268,
          269,
          272,
          273,
          275,
          275,
          276,
          278,
          282,
          290,
          289,
          289,
          289,
          289,
          289,
          289,
          289,
          289,
          289,
          289,
          289,
          289,
          289,
          289,
          289,
          289,
          289,
          289,
          289,
          289,
          289,
          289,
          289,
          289,
          289,
          289,
          289,
          289,
          289,
          289,
          289,
          289,
          289,
          289,
          289,
          289,
          289,
          289,
          289,
          289,
          289,
          289,
          289,
          289,
          289,
          289,
          289,
          289,
          289,
          289,
          289,
          289,
          289,
          289,
          289,
          289,
          289,
          289,
          289,
          289,
          289,
          289,
          289,
          289,
          289,
          289,
          289,
          289,
          289,
          289,
          289,
          289,
          289
         ]
        }
       ],
       "layout": {
        "annotations": [
         {
          "showarrow": false,
          "text": "Original Weight: 2",
          "x": 2,
          "xanchor": "left",
          "xref": "x",
          "y": 1,
          "yanchor": "top",
          "yref": "y domain"
         }
        ],
        "shapes": [
         {
          "line": {
           "color": "red",
           "dash": "dash",
           "width": 1
          },
          "type": "line",
          "x0": 0,
          "x1": 1,
          "xref": "x domain",
          "y0": 406,
          "y1": 406,
          "yref": "y"
         },
         {
          "line": {
           "color": "blue",
           "dash": "dash",
           "width": 1
          },
          "type": "line",
          "x0": 0,
          "x1": 1,
          "xref": "x domain",
          "y0": 28,
          "y1": 28,
          "yref": "y"
         },
         {
          "line": {
           "color": "green",
           "dash": "dash",
           "width": 1
          },
          "type": "line",
          "x0": 0,
          "x1": 1,
          "xref": "x domain",
          "y0": 10,
          "y1": 10,
          "yref": "y"
         },
         {
          "line": {
           "color": "yellow",
           "dash": "dash",
           "width": 1
          },
          "type": "line",
          "x0": 0,
          "x1": 1,
          "xref": "x domain",
          "y0": 1,
          "y1": 1,
          "yref": "y"
         },
         {
          "line": {
           "color": "black",
           "dash": "dash",
           "width": 2
          },
          "type": "line",
          "x0": 2,
          "x1": 2,
          "xref": "x",
          "y0": 0,
          "y1": 1,
          "yref": "y domain"
         }
        ],
        "showlegend": true,
        "template": {
         "data": {
          "bar": [
           {
            "error_x": {
             "color": "#2a3f5f"
            },
            "error_y": {
             "color": "#2a3f5f"
            },
            "marker": {
             "line": {
              "color": "#E5ECF6",
              "width": 0.5
             },
             "pattern": {
              "fillmode": "overlay",
              "size": 10,
              "solidity": 0.2
             }
            },
            "type": "bar"
           }
          ],
          "barpolar": [
           {
            "marker": {
             "line": {
              "color": "#E5ECF6",
              "width": 0.5
             },
             "pattern": {
              "fillmode": "overlay",
              "size": 10,
              "solidity": 0.2
             }
            },
            "type": "barpolar"
           }
          ],
          "carpet": [
           {
            "aaxis": {
             "endlinecolor": "#2a3f5f",
             "gridcolor": "white",
             "linecolor": "white",
             "minorgridcolor": "white",
             "startlinecolor": "#2a3f5f"
            },
            "baxis": {
             "endlinecolor": "#2a3f5f",
             "gridcolor": "white",
             "linecolor": "white",
             "minorgridcolor": "white",
             "startlinecolor": "#2a3f5f"
            },
            "type": "carpet"
           }
          ],
          "choropleth": [
           {
            "colorbar": {
             "outlinewidth": 0,
             "ticks": ""
            },
            "type": "choropleth"
           }
          ],
          "contour": [
           {
            "colorbar": {
             "outlinewidth": 0,
             "ticks": ""
            },
            "colorscale": [
             [
              0,
              "#0d0887"
             ],
             [
              0.1111111111111111,
              "#46039f"
             ],
             [
              0.2222222222222222,
              "#7201a8"
             ],
             [
              0.3333333333333333,
              "#9c179e"
             ],
             [
              0.4444444444444444,
              "#bd3786"
             ],
             [
              0.5555555555555556,
              "#d8576b"
             ],
             [
              0.6666666666666666,
              "#ed7953"
             ],
             [
              0.7777777777777778,
              "#fb9f3a"
             ],
             [
              0.8888888888888888,
              "#fdca26"
             ],
             [
              1,
              "#f0f921"
             ]
            ],
            "type": "contour"
           }
          ],
          "contourcarpet": [
           {
            "colorbar": {
             "outlinewidth": 0,
             "ticks": ""
            },
            "type": "contourcarpet"
           }
          ],
          "heatmap": [
           {
            "colorbar": {
             "outlinewidth": 0,
             "ticks": ""
            },
            "colorscale": [
             [
              0,
              "#0d0887"
             ],
             [
              0.1111111111111111,
              "#46039f"
             ],
             [
              0.2222222222222222,
              "#7201a8"
             ],
             [
              0.3333333333333333,
              "#9c179e"
             ],
             [
              0.4444444444444444,
              "#bd3786"
             ],
             [
              0.5555555555555556,
              "#d8576b"
             ],
             [
              0.6666666666666666,
              "#ed7953"
             ],
             [
              0.7777777777777778,
              "#fb9f3a"
             ],
             [
              0.8888888888888888,
              "#fdca26"
             ],
             [
              1,
              "#f0f921"
             ]
            ],
            "type": "heatmap"
           }
          ],
          "histogram": [
           {
            "marker": {
             "pattern": {
              "fillmode": "overlay",
              "size": 10,
              "solidity": 0.2
             }
            },
            "type": "histogram"
           }
          ],
          "histogram2d": [
           {
            "colorbar": {
             "outlinewidth": 0,
             "ticks": ""
            },
            "colorscale": [
             [
              0,
              "#0d0887"
             ],
             [
              0.1111111111111111,
              "#46039f"
             ],
             [
              0.2222222222222222,
              "#7201a8"
             ],
             [
              0.3333333333333333,
              "#9c179e"
             ],
             [
              0.4444444444444444,
              "#bd3786"
             ],
             [
              0.5555555555555556,
              "#d8576b"
             ],
             [
              0.6666666666666666,
              "#ed7953"
             ],
             [
              0.7777777777777778,
              "#fb9f3a"
             ],
             [
              0.8888888888888888,
              "#fdca26"
             ],
             [
              1,
              "#f0f921"
             ]
            ],
            "type": "histogram2d"
           }
          ],
          "histogram2dcontour": [
           {
            "colorbar": {
             "outlinewidth": 0,
             "ticks": ""
            },
            "colorscale": [
             [
              0,
              "#0d0887"
             ],
             [
              0.1111111111111111,
              "#46039f"
             ],
             [
              0.2222222222222222,
              "#7201a8"
             ],
             [
              0.3333333333333333,
              "#9c179e"
             ],
             [
              0.4444444444444444,
              "#bd3786"
             ],
             [
              0.5555555555555556,
              "#d8576b"
             ],
             [
              0.6666666666666666,
              "#ed7953"
             ],
             [
              0.7777777777777778,
              "#fb9f3a"
             ],
             [
              0.8888888888888888,
              "#fdca26"
             ],
             [
              1,
              "#f0f921"
             ]
            ],
            "type": "histogram2dcontour"
           }
          ],
          "mesh3d": [
           {
            "colorbar": {
             "outlinewidth": 0,
             "ticks": ""
            },
            "type": "mesh3d"
           }
          ],
          "parcoords": [
           {
            "line": {
             "colorbar": {
              "outlinewidth": 0,
              "ticks": ""
             }
            },
            "type": "parcoords"
           }
          ],
          "pie": [
           {
            "automargin": true,
            "type": "pie"
           }
          ],
          "scatter": [
           {
            "fillpattern": {
             "fillmode": "overlay",
             "size": 10,
             "solidity": 0.2
            },
            "type": "scatter"
           }
          ],
          "scatter3d": [
           {
            "line": {
             "colorbar": {
              "outlinewidth": 0,
              "ticks": ""
             }
            },
            "marker": {
             "colorbar": {
              "outlinewidth": 0,
              "ticks": ""
             }
            },
            "type": "scatter3d"
           }
          ],
          "scattercarpet": [
           {
            "marker": {
             "colorbar": {
              "outlinewidth": 0,
              "ticks": ""
             }
            },
            "type": "scattercarpet"
           }
          ],
          "scattergeo": [
           {
            "marker": {
             "colorbar": {
              "outlinewidth": 0,
              "ticks": ""
             }
            },
            "type": "scattergeo"
           }
          ],
          "scattergl": [
           {
            "marker": {
             "colorbar": {
              "outlinewidth": 0,
              "ticks": ""
             }
            },
            "type": "scattergl"
           }
          ],
          "scattermap": [
           {
            "marker": {
             "colorbar": {
              "outlinewidth": 0,
              "ticks": ""
             }
            },
            "type": "scattermap"
           }
          ],
          "scattermapbox": [
           {
            "marker": {
             "colorbar": {
              "outlinewidth": 0,
              "ticks": ""
             }
            },
            "type": "scattermapbox"
           }
          ],
          "scatterpolar": [
           {
            "marker": {
             "colorbar": {
              "outlinewidth": 0,
              "ticks": ""
             }
            },
            "type": "scatterpolar"
           }
          ],
          "scatterpolargl": [
           {
            "marker": {
             "colorbar": {
              "outlinewidth": 0,
              "ticks": ""
             }
            },
            "type": "scatterpolargl"
           }
          ],
          "scatterternary": [
           {
            "marker": {
             "colorbar": {
              "outlinewidth": 0,
              "ticks": ""
             }
            },
            "type": "scatterternary"
           }
          ],
          "surface": [
           {
            "colorbar": {
             "outlinewidth": 0,
             "ticks": ""
            },
            "colorscale": [
             [
              0,
              "#0d0887"
             ],
             [
              0.1111111111111111,
              "#46039f"
             ],
             [
              0.2222222222222222,
              "#7201a8"
             ],
             [
              0.3333333333333333,
              "#9c179e"
             ],
             [
              0.4444444444444444,
              "#bd3786"
             ],
             [
              0.5555555555555556,
              "#d8576b"
             ],
             [
              0.6666666666666666,
              "#ed7953"
             ],
             [
              0.7777777777777778,
              "#fb9f3a"
             ],
             [
              0.8888888888888888,
              "#fdca26"
             ],
             [
              1,
              "#f0f921"
             ]
            ],
            "type": "surface"
           }
          ],
          "table": [
           {
            "cells": {
             "fill": {
              "color": "#EBF0F8"
             },
             "line": {
              "color": "white"
             }
            },
            "header": {
             "fill": {
              "color": "#C8D4E3"
             },
             "line": {
              "color": "white"
             }
            },
            "type": "table"
           }
          ]
         },
         "layout": {
          "annotationdefaults": {
           "arrowcolor": "#2a3f5f",
           "arrowhead": 0,
           "arrowwidth": 1
          },
          "autotypenumbers": "strict",
          "coloraxis": {
           "colorbar": {
            "outlinewidth": 0,
            "ticks": ""
           }
          },
          "colorscale": {
           "diverging": [
            [
             0,
             "#8e0152"
            ],
            [
             0.1,
             "#c51b7d"
            ],
            [
             0.2,
             "#de77ae"
            ],
            [
             0.3,
             "#f1b6da"
            ],
            [
             0.4,
             "#fde0ef"
            ],
            [
             0.5,
             "#f7f7f7"
            ],
            [
             0.6,
             "#e6f5d0"
            ],
            [
             0.7,
             "#b8e186"
            ],
            [
             0.8,
             "#7fbc41"
            ],
            [
             0.9,
             "#4d9221"
            ],
            [
             1,
             "#276419"
            ]
           ],
           "sequential": [
            [
             0,
             "#0d0887"
            ],
            [
             0.1111111111111111,
             "#46039f"
            ],
            [
             0.2222222222222222,
             "#7201a8"
            ],
            [
             0.3333333333333333,
             "#9c179e"
            ],
            [
             0.4444444444444444,
             "#bd3786"
            ],
            [
             0.5555555555555556,
             "#d8576b"
            ],
            [
             0.6666666666666666,
             "#ed7953"
            ],
            [
             0.7777777777777778,
             "#fb9f3a"
            ],
            [
             0.8888888888888888,
             "#fdca26"
            ],
            [
             1,
             "#f0f921"
            ]
           ],
           "sequentialminus": [
            [
             0,
             "#0d0887"
            ],
            [
             0.1111111111111111,
             "#46039f"
            ],
            [
             0.2222222222222222,
             "#7201a8"
            ],
            [
             0.3333333333333333,
             "#9c179e"
            ],
            [
             0.4444444444444444,
             "#bd3786"
            ],
            [
             0.5555555555555556,
             "#d8576b"
            ],
            [
             0.6666666666666666,
             "#ed7953"
            ],
            [
             0.7777777777777778,
             "#fb9f3a"
            ],
            [
             0.8888888888888888,
             "#fdca26"
            ],
            [
             1,
             "#f0f921"
            ]
           ]
          },
          "colorway": [
           "#636efa",
           "#EF553B",
           "#00cc96",
           "#ab63fa",
           "#FFA15A",
           "#19d3f3",
           "#FF6692",
           "#B6E880",
           "#FF97FF",
           "#FECB52"
          ],
          "font": {
           "color": "#2a3f5f"
          },
          "geo": {
           "bgcolor": "white",
           "lakecolor": "white",
           "landcolor": "#E5ECF6",
           "showlakes": true,
           "showland": true,
           "subunitcolor": "white"
          },
          "hoverlabel": {
           "align": "left"
          },
          "hovermode": "closest",
          "mapbox": {
           "style": "light"
          },
          "paper_bgcolor": "white",
          "plot_bgcolor": "#E5ECF6",
          "polar": {
           "angularaxis": {
            "gridcolor": "white",
            "linecolor": "white",
            "ticks": ""
           },
           "bgcolor": "#E5ECF6",
           "radialaxis": {
            "gridcolor": "white",
            "linecolor": "white",
            "ticks": ""
           }
          },
          "scene": {
           "xaxis": {
            "backgroundcolor": "#E5ECF6",
            "gridcolor": "white",
            "gridwidth": 2,
            "linecolor": "white",
            "showbackground": true,
            "ticks": "",
            "zerolinecolor": "white"
           },
           "yaxis": {
            "backgroundcolor": "#E5ECF6",
            "gridcolor": "white",
            "gridwidth": 2,
            "linecolor": "white",
            "showbackground": true,
            "ticks": "",
            "zerolinecolor": "white"
           },
           "zaxis": {
            "backgroundcolor": "#E5ECF6",
            "gridcolor": "white",
            "gridwidth": 2,
            "linecolor": "white",
            "showbackground": true,
            "ticks": "",
            "zerolinecolor": "white"
           }
          },
          "shapedefaults": {
           "line": {
            "color": "#2a3f5f"
           }
          },
          "ternary": {
           "aaxis": {
            "gridcolor": "white",
            "linecolor": "white",
            "ticks": ""
           },
           "baxis": {
            "gridcolor": "white",
            "linecolor": "white",
            "ticks": ""
           },
           "bgcolor": "#E5ECF6",
           "caxis": {
            "gridcolor": "white",
            "linecolor": "white",
            "ticks": ""
           }
          },
          "title": {
           "x": 0.05
          },
          "xaxis": {
           "automargin": true,
           "gridcolor": "white",
           "linecolor": "white",
           "ticks": "",
           "title": {
            "standoff": 15
           },
           "zerolinecolor": "white",
           "zerolinewidth": 2
          },
          "yaxis": {
           "automargin": true,
           "gridcolor": "white",
           "linecolor": "white",
           "ticks": "",
           "title": {
            "standoff": 15
           },
           "zerolinecolor": "white",
           "zerolinewidth": 2
          }
         }
        },
        "title": {
         "text": "Iterrating through <b>Transcription Factor Destruction Weight</b> Scoring"
        },
        "xaxis": {
         "title": {
          "text": "Transcription Factor Destruction Weight"
         }
        },
        "yaxis": {
         "title": {
          "text": "Sum of Ranking of Mutations"
         }
        }
       }
      }
     },
     "metadata": {},
     "output_type": "display_data"
    },
    {
     "data": {
      "application/vnd.jupyter.widget-view+json": {
       "model_id": "5abe6824654c4b9c8ac078dcf07830b7",
       "version_major": 2,
       "version_minor": 0
      },
      "text/plain": [
       "Calculating scores for TERT at position 1295228:   0%|          | 0/100 [00:00<?, ?it/s]"
      ]
     },
     "metadata": {},
     "output_type": "display_data"
    },
    {
     "data": {
      "application/vnd.jupyter.widget-view+json": {
       "model_id": "b5b1c92893ba4fedb271f0ec0939f162",
       "version_major": 2,
       "version_minor": 0
      },
      "text/plain": [
       "Calculating scores for TERT at position 1295250:   0%|          | 0/100 [00:00<?, ?it/s]"
      ]
     },
     "metadata": {},
     "output_type": "display_data"
    },
    {
     "data": {
      "application/vnd.jupyter.widget-view+json": {
       "model_id": "9be974f88953401ba45f5ae91c026c52",
       "version_major": 2,
       "version_minor": 0
      },
      "text/plain": [
       "Calculating scores for RALY at position 32580927:   0%|          | 0/100 [00:00<?, ?it/s]"
      ]
     },
     "metadata": {},
     "output_type": "display_data"
    },
    {
     "data": {
      "application/vnd.jupyter.widget-view+json": {
       "model_id": "6feae80df1fc4cd0ad3cbe70b6644709",
       "version_major": 2,
       "version_minor": 0
      },
      "text/plain": [
       "Calculating scores for CDC20 at position 43824529:   0%|          | 0/100 [00:00<?, ?it/s]"
      ]
     },
     "metadata": {},
     "output_type": "display_data"
    },
    {
     "data": {
      "application/vnd.plotly.v1+json": {
       "config": {
        "plotlyServerURL": "https://plot.ly"
       },
       "data": [
        {
         "marker": {
          "color": "red",
          "size": 10
         },
         "mode": "lines",
         "name": "TERT 1295228",
         "type": "scatter",
         "x": {
          "bdata": "AAAAAAAA8D9BrV8pUOv3P4Jav1Kg1v8/4YMPPvjgA0CCWr9SoNYHQCIxb2dIzAtAwgcffPDBD0Ayb2dIzNsRQIJav1Kg1hNA0kUXXXTRFUAiMW9nSMwXQHIcx3EcxxlAwgcffPDBG0AS83aGxLwdQGPezpCYtx9A2mSTTTbZIECCWr9SoNYhQCpQ61cK1CJA0kUXXXTRI0B6O0Ni3s4kQCIxb2dIzCVAyiabbLLJJkByHMdxHMcnQBoS83aGxChAwgcffPDBKUBq/UqBWr8qQBLzdobEvCtAu+iiiy66LEBj3s6QmLctQAvU+pUCtS5As8kmm2yyL0CuXylQ61cwQIJav1Kg1jBAVlVVVVVVMUAqUOtXCtQxQP5KgVq/UjJA0kUXXXTRMkCmQK1fKVAzQHo7Q2LezjNATjbZZJNNNEAiMW9nSMw0QPYrBWr9SjVAyiabbLLJNUCeITFvZ0g2QHIcx3EcxzZARhdddNFFN0AaEvN2hsQ3QO4MiXk7QzhAwgcffPDBOECWArV+pUA5QGr9SoFavzlAPvjggw8+OkAS83aGxLw6QObtDIl5OztAu+iiiy66O0CP4ziO4zg8QGPezpCYtzxAN9lkk002PUAL1PqVArU9QN/OkJi3Mz5As8kmm2yyPkCHxLydITE/QFu/UqDWrz9AGF100UUXQECCWr9SoFZAQOxXCtT6lUBAVlVVVVXVQEDAUqDWrxRBQCpQ61cKVEFAlE022WSTQUD+SoFav9JBQGhIzNsZEkJA0kUXXXRRQkA8Q2LezpBCQKZArV8p0EJAED744IMPQ0B6O0Ni3k5DQOQ4juM4jkNATjbZZJPNQ0C4MyTm7QxEQCIxb2dITERAjC666KKLRED2KwVq/cpEQGApUOtXCkVAyiabbLJJRUA0JObtDIlFQJ4hMW9nyEVACB988MEHRkByHMdxHEdGQNwZEvN2hkZARhdddNHFRkCwFKj1KwVHQBoS83aGREdAhA8++OCDR0DuDIl5O8NHQFgK1PqVAkhAwgcffPBBSEAsBWr9SoFIQJYCtX6lwEhAAAAAAAAASUA=",
          "dtype": "f8"
         },
         "y": [
          2065,
          2016,
          1979,
          1932,
          1892,
          1859,
          1841,
          1814,
          1798,
          1806,
          1798,
          1788,
          1796,
          1805,
          1808,
          1823,
          1837,
          1844,
          1857,
          1876,
          1907,
          1937,
          1970,
          2017,
          2063,
          2100,
          2139,
          2195,
          2244,
          2302,
          2363,
          2421,
          2473,
          2544,
          2629,
          2706,
          2788,
          2876,
          2985,
          3119,
          3196,
          3218,
          3242,
          3263,
          3287,
          3303,
          3336,
          3375,
          3400,
          3432,
          3465,
          3506,
          3537,
          3588,
          3630,
          3692,
          3761,
          3777,
          3787,
          3796,
          3807,
          3818,
          3829,
          3838,
          3852,
          3862,
          3880,
          3895,
          3927,
          3941,
          3967,
          3979,
          4003,
          4016,
          4044,
          4081,
          4100,
          4124,
          4149,
          4192,
          4213,
          4251,
          4293,
          4343,
          4397,
          4428,
          4427,
          4428,
          4427,
          4428,
          4427,
          4428,
          4427,
          4428,
          4427,
          4428,
          4427,
          4428,
          4427,
          4428
         ]
        },
        {
         "marker": {
          "color": "blue",
          "size": 10
         },
         "mode": "lines",
         "name": "TERT 1295250",
         "type": "scatter",
         "x": {
          "bdata": "AAAAAAAA8D9BrV8pUOv3P4Jav1Kg1v8/4YMPPvjgA0CCWr9SoNYHQCIxb2dIzAtAwgcffPDBD0Ayb2dIzNsRQIJav1Kg1hNA0kUXXXTRFUAiMW9nSMwXQHIcx3EcxxlAwgcffPDBG0AS83aGxLwdQGPezpCYtx9A2mSTTTbZIECCWr9SoNYhQCpQ61cK1CJA0kUXXXTRI0B6O0Ni3s4kQCIxb2dIzCVAyiabbLLJJkByHMdxHMcnQBoS83aGxChAwgcffPDBKUBq/UqBWr8qQBLzdobEvCtAu+iiiy66LEBj3s6QmLctQAvU+pUCtS5As8kmm2yyL0CuXylQ61cwQIJav1Kg1jBAVlVVVVVVMUAqUOtXCtQxQP5KgVq/UjJA0kUXXXTRMkCmQK1fKVAzQHo7Q2LezjNATjbZZJNNNEAiMW9nSMw0QPYrBWr9SjVAyiabbLLJNUCeITFvZ0g2QHIcx3EcxzZARhdddNFFN0AaEvN2hsQ3QO4MiXk7QzhAwgcffPDBOECWArV+pUA5QGr9SoFavzlAPvjggw8+OkAS83aGxLw6QObtDIl5OztAu+iiiy66O0CP4ziO4zg8QGPezpCYtzxAN9lkk002PUAL1PqVArU9QN/OkJi3Mz5As8kmm2yyPkCHxLydITE/QFu/UqDWrz9AGF100UUXQECCWr9SoFZAQOxXCtT6lUBAVlVVVVXVQEDAUqDWrxRBQCpQ61cKVEFAlE022WSTQUD+SoFav9JBQGhIzNsZEkJA0kUXXXRRQkA8Q2LezpBCQKZArV8p0EJAED744IMPQ0B6O0Ni3k5DQOQ4juM4jkNATjbZZJPNQ0C4MyTm7QxEQCIxb2dITERAjC666KKLRED2KwVq/cpEQGApUOtXCkVAyiabbLJJRUA0JObtDIlFQJ4hMW9nyEVACB988MEHRkByHMdxHEdGQNwZEvN2hkZARhdddNHFRkCwFKj1KwVHQBoS83aGREdAhA8++OCDR0DuDIl5O8NHQFgK1PqVAkhAwgcffPBBSEAsBWr9SoFIQJYCtX6lwEhAAAAAAAAASUA=",
          "dtype": "f8"
         },
         "y": [
          937,
          926,
          912,
          871,
          847,
          825,
          807,
          788,
          776,
          759,
          745,
          733,
          714,
          696,
          685,
          677,
          674,
          660,
          654,
          646,
          640,
          630,
          626,
          623,
          619,
          615,
          612,
          611,
          610,
          610,
          609,
          607,
          605,
          606,
          604,
          603,
          601,
          602,
          599,
          599,
          598,
          594,
          593,
          593,
          594,
          593,
          591,
          591,
          590,
          589,
          588,
          589,
          588,
          589,
          589,
          588,
          589,
          588,
          588,
          588,
          587,
          588,
          587,
          588,
          587,
          588,
          587,
          588,
          587,
          587,
          586,
          587,
          586,
          587,
          586,
          587,
          586,
          587,
          586,
          587,
          586,
          587,
          586,
          587,
          586,
          587,
          586,
          587,
          586,
          587,
          586,
          587,
          586,
          587,
          586,
          587,
          586,
          587,
          586,
          587
         ]
        },
        {
         "marker": {
          "color": "green",
          "size": 10
         },
         "mode": "lines",
         "name": "RALY 32580927",
         "type": "scatter",
         "x": {
          "bdata": "AAAAAAAA8D9BrV8pUOv3P4Jav1Kg1v8/4YMPPvjgA0CCWr9SoNYHQCIxb2dIzAtAwgcffPDBD0Ayb2dIzNsRQIJav1Kg1hNA0kUXXXTRFUAiMW9nSMwXQHIcx3EcxxlAwgcffPDBG0AS83aGxLwdQGPezpCYtx9A2mSTTTbZIECCWr9SoNYhQCpQ61cK1CJA0kUXXXTRI0B6O0Ni3s4kQCIxb2dIzCVAyiabbLLJJkByHMdxHMcnQBoS83aGxChAwgcffPDBKUBq/UqBWr8qQBLzdobEvCtAu+iiiy66LEBj3s6QmLctQAvU+pUCtS5As8kmm2yyL0CuXylQ61cwQIJav1Kg1jBAVlVVVVVVMUAqUOtXCtQxQP5KgVq/UjJA0kUXXXTRMkCmQK1fKVAzQHo7Q2LezjNATjbZZJNNNEAiMW9nSMw0QPYrBWr9SjVAyiabbLLJNUCeITFvZ0g2QHIcx3EcxzZARhdddNFFN0AaEvN2hsQ3QO4MiXk7QzhAwgcffPDBOECWArV+pUA5QGr9SoFavzlAPvjggw8+OkAS83aGxLw6QObtDIl5OztAu+iiiy66O0CP4ziO4zg8QGPezpCYtzxAN9lkk002PUAL1PqVArU9QN/OkJi3Mz5As8kmm2yyPkCHxLydITE/QFu/UqDWrz9AGF100UUXQECCWr9SoFZAQOxXCtT6lUBAVlVVVVXVQEDAUqDWrxRBQCpQ61cKVEFAlE022WSTQUD+SoFav9JBQGhIzNsZEkJA0kUXXXRRQkA8Q2LezpBCQKZArV8p0EJAED744IMPQ0B6O0Ni3k5DQOQ4juM4jkNATjbZZJPNQ0C4MyTm7QxEQCIxb2dITERAjC666KKLRED2KwVq/cpEQGApUOtXCkVAyiabbLJJRUA0JObtDIlFQJ4hMW9nyEVACB988MEHRkByHMdxHEdGQNwZEvN2hkZARhdddNHFRkCwFKj1KwVHQBoS83aGREdAhA8++OCDR0DuDIl5O8NHQFgK1PqVAkhAwgcffPBBSEAsBWr9SoFIQJYCtX6lwEhAAAAAAAAASUA=",
          "dtype": "f8"
         },
         "y": [
          479,
          479,
          496,
          503,
          508,
          517,
          540,
          558,
          572,
          591,
          613,
          631,
          659,
          678,
          716,
          750,
          778,
          813,
          851,
          889,
          928,
          975,
          1020,
          1059,
          1111,
          1162,
          1225,
          1280,
          1353,
          1404,
          1493,
          1582,
          1626,
          1664,
          1703,
          1758,
          1812,
          1811,
          1811,
          1810,
          1810,
          1810,
          1810,
          1810,
          1810,
          1810,
          1810,
          1810,
          1809,
          1809,
          1808,
          1808,
          1808,
          1808,
          1808,
          1808,
          1808,
          1808,
          1808,
          1808,
          1808,
          1808,
          1808,
          1808,
          1808,
          1808,
          1808,
          1808,
          1808,
          1808,
          1808,
          1808,
          1808,
          1808,
          1808,
          1808,
          1808,
          1808,
          1808,
          1808,
          1808,
          1808,
          1808,
          1808,
          1808,
          1808,
          1808,
          1808,
          1808,
          1808,
          1808,
          1808,
          1808,
          1808,
          1808,
          1808,
          1808,
          1808,
          1808,
          1808
         ]
        },
        {
         "marker": {
          "color": "yellow",
          "size": 10
         },
         "mode": "lines",
         "name": "CDC20 43824529",
         "type": "scatter",
         "x": {
          "bdata": "AAAAAAAA8D9BrV8pUOv3P4Jav1Kg1v8/4YMPPvjgA0CCWr9SoNYHQCIxb2dIzAtAwgcffPDBD0Ayb2dIzNsRQIJav1Kg1hNA0kUXXXTRFUAiMW9nSMwXQHIcx3EcxxlAwgcffPDBG0AS83aGxLwdQGPezpCYtx9A2mSTTTbZIECCWr9SoNYhQCpQ61cK1CJA0kUXXXTRI0B6O0Ni3s4kQCIxb2dIzCVAyiabbLLJJkByHMdxHMcnQBoS83aGxChAwgcffPDBKUBq/UqBWr8qQBLzdobEvCtAu+iiiy66LEBj3s6QmLctQAvU+pUCtS5As8kmm2yyL0CuXylQ61cwQIJav1Kg1jBAVlVVVVVVMUAqUOtXCtQxQP5KgVq/UjJA0kUXXXTRMkCmQK1fKVAzQHo7Q2LezjNATjbZZJNNNEAiMW9nSMw0QPYrBWr9SjVAyiabbLLJNUCeITFvZ0g2QHIcx3EcxzZARhdddNFFN0AaEvN2hsQ3QO4MiXk7QzhAwgcffPDBOECWArV+pUA5QGr9SoFavzlAPvjggw8+OkAS83aGxLw6QObtDIl5OztAu+iiiy66O0CP4ziO4zg8QGPezpCYtzxAN9lkk002PUAL1PqVArU9QN/OkJi3Mz5As8kmm2yyPkCHxLydITE/QFu/UqDWrz9AGF100UUXQECCWr9SoFZAQOxXCtT6lUBAVlVVVVXVQEDAUqDWrxRBQCpQ61cKVEFAlE022WSTQUD+SoFav9JBQGhIzNsZEkJA0kUXXXRRQkA8Q2LezpBCQKZArV8p0EJAED744IMPQ0B6O0Ni3k5DQOQ4juM4jkNATjbZZJPNQ0C4MyTm7QxEQCIxb2dITERAjC666KKLRED2KwVq/cpEQGApUOtXCkVAyiabbLJJRUA0JObtDIlFQJ4hMW9nyEVACB988MEHRkByHMdxHEdGQNwZEvN2hkZARhdddNHFRkCwFKj1KwVHQBoS83aGREdAhA8++OCDR0DuDIl5O8NHQFgK1PqVAkhAwgcffPBBSEAsBWr9SoFIQJYCtX6lwEhAAAAAAAAASUA=",
          "dtype": "f8"
         },
         "y": [
          376,
          363,
          353,
          342,
          329,
          315,
          308,
          301,
          283,
          272,
          266,
          263,
          252,
          251,
          246,
          244,
          233,
          231,
          226,
          225,
          221,
          218,
          217,
          217,
          217,
          215,
          214,
          214,
          214,
          212,
          212,
          212,
          212,
          210,
          210,
          209,
          208,
          208,
          208,
          208,
          208,
          207,
          207,
          207,
          207,
          207,
          207,
          207,
          207,
          207,
          207,
          207,
          207,
          206,
          206,
          206,
          206,
          206,
          206,
          206,
          206,
          206,
          206,
          206,
          205,
          205,
          205,
          205,
          205,
          205,
          205,
          205,
          205,
          205,
          205,
          205,
          205,
          205,
          205,
          205,
          205,
          205,
          205,
          205,
          205,
          205,
          205,
          205,
          205,
          205,
          205,
          205,
          205,
          205,
          205,
          205,
          205,
          205,
          205,
          205
         ]
        }
       ],
       "layout": {
        "annotations": [
         {
          "showarrow": false,
          "text": "Original Weight: 10",
          "x": 10,
          "xanchor": "left",
          "xref": "x",
          "y": 1,
          "yanchor": "top",
          "yref": "y domain"
         }
        ],
        "shapes": [
         {
          "line": {
           "color": "red",
           "dash": "dash",
           "width": 1
          },
          "type": "line",
          "x0": 0,
          "x1": 1,
          "xref": "x domain",
          "y0": 406,
          "y1": 406,
          "yref": "y"
         },
         {
          "line": {
           "color": "blue",
           "dash": "dash",
           "width": 1
          },
          "type": "line",
          "x0": 0,
          "x1": 1,
          "xref": "x domain",
          "y0": 28,
          "y1": 28,
          "yref": "y"
         },
         {
          "line": {
           "color": "green",
           "dash": "dash",
           "width": 1
          },
          "type": "line",
          "x0": 0,
          "x1": 1,
          "xref": "x domain",
          "y0": 10,
          "y1": 10,
          "yref": "y"
         },
         {
          "line": {
           "color": "yellow",
           "dash": "dash",
           "width": 1
          },
          "type": "line",
          "x0": 0,
          "x1": 1,
          "xref": "x domain",
          "y0": 1,
          "y1": 1,
          "yref": "y"
         },
         {
          "line": {
           "color": "black",
           "dash": "dash",
           "width": 2
          },
          "type": "line",
          "x0": 10,
          "x1": 10,
          "xref": "x",
          "y0": 0,
          "y1": 1,
          "yref": "y domain"
         }
        ],
        "showlegend": true,
        "template": {
         "data": {
          "bar": [
           {
            "error_x": {
             "color": "#2a3f5f"
            },
            "error_y": {
             "color": "#2a3f5f"
            },
            "marker": {
             "line": {
              "color": "#E5ECF6",
              "width": 0.5
             },
             "pattern": {
              "fillmode": "overlay",
              "size": 10,
              "solidity": 0.2
             }
            },
            "type": "bar"
           }
          ],
          "barpolar": [
           {
            "marker": {
             "line": {
              "color": "#E5ECF6",
              "width": 0.5
             },
             "pattern": {
              "fillmode": "overlay",
              "size": 10,
              "solidity": 0.2
             }
            },
            "type": "barpolar"
           }
          ],
          "carpet": [
           {
            "aaxis": {
             "endlinecolor": "#2a3f5f",
             "gridcolor": "white",
             "linecolor": "white",
             "minorgridcolor": "white",
             "startlinecolor": "#2a3f5f"
            },
            "baxis": {
             "endlinecolor": "#2a3f5f",
             "gridcolor": "white",
             "linecolor": "white",
             "minorgridcolor": "white",
             "startlinecolor": "#2a3f5f"
            },
            "type": "carpet"
           }
          ],
          "choropleth": [
           {
            "colorbar": {
             "outlinewidth": 0,
             "ticks": ""
            },
            "type": "choropleth"
           }
          ],
          "contour": [
           {
            "colorbar": {
             "outlinewidth": 0,
             "ticks": ""
            },
            "colorscale": [
             [
              0,
              "#0d0887"
             ],
             [
              0.1111111111111111,
              "#46039f"
             ],
             [
              0.2222222222222222,
              "#7201a8"
             ],
             [
              0.3333333333333333,
              "#9c179e"
             ],
             [
              0.4444444444444444,
              "#bd3786"
             ],
             [
              0.5555555555555556,
              "#d8576b"
             ],
             [
              0.6666666666666666,
              "#ed7953"
             ],
             [
              0.7777777777777778,
              "#fb9f3a"
             ],
             [
              0.8888888888888888,
              "#fdca26"
             ],
             [
              1,
              "#f0f921"
             ]
            ],
            "type": "contour"
           }
          ],
          "contourcarpet": [
           {
            "colorbar": {
             "outlinewidth": 0,
             "ticks": ""
            },
            "type": "contourcarpet"
           }
          ],
          "heatmap": [
           {
            "colorbar": {
             "outlinewidth": 0,
             "ticks": ""
            },
            "colorscale": [
             [
              0,
              "#0d0887"
             ],
             [
              0.1111111111111111,
              "#46039f"
             ],
             [
              0.2222222222222222,
              "#7201a8"
             ],
             [
              0.3333333333333333,
              "#9c179e"
             ],
             [
              0.4444444444444444,
              "#bd3786"
             ],
             [
              0.5555555555555556,
              "#d8576b"
             ],
             [
              0.6666666666666666,
              "#ed7953"
             ],
             [
              0.7777777777777778,
              "#fb9f3a"
             ],
             [
              0.8888888888888888,
              "#fdca26"
             ],
             [
              1,
              "#f0f921"
             ]
            ],
            "type": "heatmap"
           }
          ],
          "histogram": [
           {
            "marker": {
             "pattern": {
              "fillmode": "overlay",
              "size": 10,
              "solidity": 0.2
             }
            },
            "type": "histogram"
           }
          ],
          "histogram2d": [
           {
            "colorbar": {
             "outlinewidth": 0,
             "ticks": ""
            },
            "colorscale": [
             [
              0,
              "#0d0887"
             ],
             [
              0.1111111111111111,
              "#46039f"
             ],
             [
              0.2222222222222222,
              "#7201a8"
             ],
             [
              0.3333333333333333,
              "#9c179e"
             ],
             [
              0.4444444444444444,
              "#bd3786"
             ],
             [
              0.5555555555555556,
              "#d8576b"
             ],
             [
              0.6666666666666666,
              "#ed7953"
             ],
             [
              0.7777777777777778,
              "#fb9f3a"
             ],
             [
              0.8888888888888888,
              "#fdca26"
             ],
             [
              1,
              "#f0f921"
             ]
            ],
            "type": "histogram2d"
           }
          ],
          "histogram2dcontour": [
           {
            "colorbar": {
             "outlinewidth": 0,
             "ticks": ""
            },
            "colorscale": [
             [
              0,
              "#0d0887"
             ],
             [
              0.1111111111111111,
              "#46039f"
             ],
             [
              0.2222222222222222,
              "#7201a8"
             ],
             [
              0.3333333333333333,
              "#9c179e"
             ],
             [
              0.4444444444444444,
              "#bd3786"
             ],
             [
              0.5555555555555556,
              "#d8576b"
             ],
             [
              0.6666666666666666,
              "#ed7953"
             ],
             [
              0.7777777777777778,
              "#fb9f3a"
             ],
             [
              0.8888888888888888,
              "#fdca26"
             ],
             [
              1,
              "#f0f921"
             ]
            ],
            "type": "histogram2dcontour"
           }
          ],
          "mesh3d": [
           {
            "colorbar": {
             "outlinewidth": 0,
             "ticks": ""
            },
            "type": "mesh3d"
           }
          ],
          "parcoords": [
           {
            "line": {
             "colorbar": {
              "outlinewidth": 0,
              "ticks": ""
             }
            },
            "type": "parcoords"
           }
          ],
          "pie": [
           {
            "automargin": true,
            "type": "pie"
           }
          ],
          "scatter": [
           {
            "fillpattern": {
             "fillmode": "overlay",
             "size": 10,
             "solidity": 0.2
            },
            "type": "scatter"
           }
          ],
          "scatter3d": [
           {
            "line": {
             "colorbar": {
              "outlinewidth": 0,
              "ticks": ""
             }
            },
            "marker": {
             "colorbar": {
              "outlinewidth": 0,
              "ticks": ""
             }
            },
            "type": "scatter3d"
           }
          ],
          "scattercarpet": [
           {
            "marker": {
             "colorbar": {
              "outlinewidth": 0,
              "ticks": ""
             }
            },
            "type": "scattercarpet"
           }
          ],
          "scattergeo": [
           {
            "marker": {
             "colorbar": {
              "outlinewidth": 0,
              "ticks": ""
             }
            },
            "type": "scattergeo"
           }
          ],
          "scattergl": [
           {
            "marker": {
             "colorbar": {
              "outlinewidth": 0,
              "ticks": ""
             }
            },
            "type": "scattergl"
           }
          ],
          "scattermap": [
           {
            "marker": {
             "colorbar": {
              "outlinewidth": 0,
              "ticks": ""
             }
            },
            "type": "scattermap"
           }
          ],
          "scattermapbox": [
           {
            "marker": {
             "colorbar": {
              "outlinewidth": 0,
              "ticks": ""
             }
            },
            "type": "scattermapbox"
           }
          ],
          "scatterpolar": [
           {
            "marker": {
             "colorbar": {
              "outlinewidth": 0,
              "ticks": ""
             }
            },
            "type": "scatterpolar"
           }
          ],
          "scatterpolargl": [
           {
            "marker": {
             "colorbar": {
              "outlinewidth": 0,
              "ticks": ""
             }
            },
            "type": "scatterpolargl"
           }
          ],
          "scatterternary": [
           {
            "marker": {
             "colorbar": {
              "outlinewidth": 0,
              "ticks": ""
             }
            },
            "type": "scatterternary"
           }
          ],
          "surface": [
           {
            "colorbar": {
             "outlinewidth": 0,
             "ticks": ""
            },
            "colorscale": [
             [
              0,
              "#0d0887"
             ],
             [
              0.1111111111111111,
              "#46039f"
             ],
             [
              0.2222222222222222,
              "#7201a8"
             ],
             [
              0.3333333333333333,
              "#9c179e"
             ],
             [
              0.4444444444444444,
              "#bd3786"
             ],
             [
              0.5555555555555556,
              "#d8576b"
             ],
             [
              0.6666666666666666,
              "#ed7953"
             ],
             [
              0.7777777777777778,
              "#fb9f3a"
             ],
             [
              0.8888888888888888,
              "#fdca26"
             ],
             [
              1,
              "#f0f921"
             ]
            ],
            "type": "surface"
           }
          ],
          "table": [
           {
            "cells": {
             "fill": {
              "color": "#EBF0F8"
             },
             "line": {
              "color": "white"
             }
            },
            "header": {
             "fill": {
              "color": "#C8D4E3"
             },
             "line": {
              "color": "white"
             }
            },
            "type": "table"
           }
          ]
         },
         "layout": {
          "annotationdefaults": {
           "arrowcolor": "#2a3f5f",
           "arrowhead": 0,
           "arrowwidth": 1
          },
          "autotypenumbers": "strict",
          "coloraxis": {
           "colorbar": {
            "outlinewidth": 0,
            "ticks": ""
           }
          },
          "colorscale": {
           "diverging": [
            [
             0,
             "#8e0152"
            ],
            [
             0.1,
             "#c51b7d"
            ],
            [
             0.2,
             "#de77ae"
            ],
            [
             0.3,
             "#f1b6da"
            ],
            [
             0.4,
             "#fde0ef"
            ],
            [
             0.5,
             "#f7f7f7"
            ],
            [
             0.6,
             "#e6f5d0"
            ],
            [
             0.7,
             "#b8e186"
            ],
            [
             0.8,
             "#7fbc41"
            ],
            [
             0.9,
             "#4d9221"
            ],
            [
             1,
             "#276419"
            ]
           ],
           "sequential": [
            [
             0,
             "#0d0887"
            ],
            [
             0.1111111111111111,
             "#46039f"
            ],
            [
             0.2222222222222222,
             "#7201a8"
            ],
            [
             0.3333333333333333,
             "#9c179e"
            ],
            [
             0.4444444444444444,
             "#bd3786"
            ],
            [
             0.5555555555555556,
             "#d8576b"
            ],
            [
             0.6666666666666666,
             "#ed7953"
            ],
            [
             0.7777777777777778,
             "#fb9f3a"
            ],
            [
             0.8888888888888888,
             "#fdca26"
            ],
            [
             1,
             "#f0f921"
            ]
           ],
           "sequentialminus": [
            [
             0,
             "#0d0887"
            ],
            [
             0.1111111111111111,
             "#46039f"
            ],
            [
             0.2222222222222222,
             "#7201a8"
            ],
            [
             0.3333333333333333,
             "#9c179e"
            ],
            [
             0.4444444444444444,
             "#bd3786"
            ],
            [
             0.5555555555555556,
             "#d8576b"
            ],
            [
             0.6666666666666666,
             "#ed7953"
            ],
            [
             0.7777777777777778,
             "#fb9f3a"
            ],
            [
             0.8888888888888888,
             "#fdca26"
            ],
            [
             1,
             "#f0f921"
            ]
           ]
          },
          "colorway": [
           "#636efa",
           "#EF553B",
           "#00cc96",
           "#ab63fa",
           "#FFA15A",
           "#19d3f3",
           "#FF6692",
           "#B6E880",
           "#FF97FF",
           "#FECB52"
          ],
          "font": {
           "color": "#2a3f5f"
          },
          "geo": {
           "bgcolor": "white",
           "lakecolor": "white",
           "landcolor": "#E5ECF6",
           "showlakes": true,
           "showland": true,
           "subunitcolor": "white"
          },
          "hoverlabel": {
           "align": "left"
          },
          "hovermode": "closest",
          "mapbox": {
           "style": "light"
          },
          "paper_bgcolor": "white",
          "plot_bgcolor": "#E5ECF6",
          "polar": {
           "angularaxis": {
            "gridcolor": "white",
            "linecolor": "white",
            "ticks": ""
           },
           "bgcolor": "#E5ECF6",
           "radialaxis": {
            "gridcolor": "white",
            "linecolor": "white",
            "ticks": ""
           }
          },
          "scene": {
           "xaxis": {
            "backgroundcolor": "#E5ECF6",
            "gridcolor": "white",
            "gridwidth": 2,
            "linecolor": "white",
            "showbackground": true,
            "ticks": "",
            "zerolinecolor": "white"
           },
           "yaxis": {
            "backgroundcolor": "#E5ECF6",
            "gridcolor": "white",
            "gridwidth": 2,
            "linecolor": "white",
            "showbackground": true,
            "ticks": "",
            "zerolinecolor": "white"
           },
           "zaxis": {
            "backgroundcolor": "#E5ECF6",
            "gridcolor": "white",
            "gridwidth": 2,
            "linecolor": "white",
            "showbackground": true,
            "ticks": "",
            "zerolinecolor": "white"
           }
          },
          "shapedefaults": {
           "line": {
            "color": "#2a3f5f"
           }
          },
          "ternary": {
           "aaxis": {
            "gridcolor": "white",
            "linecolor": "white",
            "ticks": ""
           },
           "baxis": {
            "gridcolor": "white",
            "linecolor": "white",
            "ticks": ""
           },
           "bgcolor": "#E5ECF6",
           "caxis": {
            "gridcolor": "white",
            "linecolor": "white",
            "ticks": ""
           }
          },
          "title": {
           "x": 0.05
          },
          "xaxis": {
           "automargin": true,
           "gridcolor": "white",
           "linecolor": "white",
           "ticks": "",
           "title": {
            "standoff": 15
           },
           "zerolinecolor": "white",
           "zerolinewidth": 2
          },
          "yaxis": {
           "automargin": true,
           "gridcolor": "white",
           "linecolor": "white",
           "ticks": "",
           "title": {
            "standoff": 15
           },
           "zerolinecolor": "white",
           "zerolinewidth": 2
          }
         }
        },
        "title": {
         "text": "Iterrating through <b>Allele Frequency Weight</b> Scoring"
        },
        "xaxis": {
         "title": {
          "text": "Allele Frequency Weight"
         }
        },
        "yaxis": {
         "title": {
          "text": "Sum of Ranking of Mutations"
         }
        }
       }
      }
     },
     "metadata": {},
     "output_type": "display_data"
    },
    {
     "data": {
      "application/vnd.jupyter.widget-view+json": {
       "model_id": "2c577e0610ad46e28dbd4d8075d56d55",
       "version_major": 2,
       "version_minor": 0
      },
      "text/plain": [
       "Calculating scores for TERT at position 1295228:   0%|          | 0/100 [00:00<?, ?it/s]"
      ]
     },
     "metadata": {},
     "output_type": "display_data"
    },
    {
     "data": {
      "application/vnd.jupyter.widget-view+json": {
       "model_id": "35728aefa433421dae989022429576a2",
       "version_major": 2,
       "version_minor": 0
      },
      "text/plain": [
       "Calculating scores for TERT at position 1295250:   0%|          | 0/100 [00:00<?, ?it/s]"
      ]
     },
     "metadata": {},
     "output_type": "display_data"
    },
    {
     "data": {
      "application/vnd.jupyter.widget-view+json": {
       "model_id": "9121e566e3634046ae64ad7392dfa0d9",
       "version_major": 2,
       "version_minor": 0
      },
      "text/plain": [
       "Calculating scores for RALY at position 32580927:   0%|          | 0/100 [00:00<?, ?it/s]"
      ]
     },
     "metadata": {},
     "output_type": "display_data"
    },
    {
     "data": {
      "application/vnd.jupyter.widget-view+json": {
       "model_id": "44a348de05ed421c95bdb4aabb9927a2",
       "version_major": 2,
       "version_minor": 0
      },
      "text/plain": [
       "Calculating scores for CDC20 at position 43824529:   0%|          | 0/100 [00:00<?, ?it/s]"
      ]
     },
     "metadata": {},
     "output_type": "display_data"
    },
    {
     "data": {
      "application/vnd.plotly.v1+json": {
       "config": {
        "plotlyServerURL": "https://plot.ly"
       },
       "data": [
        {
         "marker": {
          "color": "red",
          "size": 10
         },
         "mode": "lines",
         "name": "TERT 1295228",
         "type": "scatter",
         "x": {
          "bdata": "AAAAAAAA8D9BrV8pUOv3P4Jav1Kg1v8/4YMPPvjgA0CCWr9SoNYHQCIxb2dIzAtAwgcffPDBD0Ayb2dIzNsRQIJav1Kg1hNA0kUXXXTRFUAiMW9nSMwXQHIcx3EcxxlAwgcffPDBG0AS83aGxLwdQGPezpCYtx9A2mSTTTbZIECCWr9SoNYhQCpQ61cK1CJA0kUXXXTRI0B6O0Ni3s4kQCIxb2dIzCVAyiabbLLJJkByHMdxHMcnQBoS83aGxChAwgcffPDBKUBq/UqBWr8qQBLzdobEvCtAu+iiiy66LEBj3s6QmLctQAvU+pUCtS5As8kmm2yyL0CuXylQ61cwQIJav1Kg1jBAVlVVVVVVMUAqUOtXCtQxQP5KgVq/UjJA0kUXXXTRMkCmQK1fKVAzQHo7Q2LezjNATjbZZJNNNEAiMW9nSMw0QPYrBWr9SjVAyiabbLLJNUCeITFvZ0g2QHIcx3EcxzZARhdddNFFN0AaEvN2hsQ3QO4MiXk7QzhAwgcffPDBOECWArV+pUA5QGr9SoFavzlAPvjggw8+OkAS83aGxLw6QObtDIl5OztAu+iiiy66O0CP4ziO4zg8QGPezpCYtzxAN9lkk002PUAL1PqVArU9QN/OkJi3Mz5As8kmm2yyPkCHxLydITE/QFu/UqDWrz9AGF100UUXQECCWr9SoFZAQOxXCtT6lUBAVlVVVVXVQEDAUqDWrxRBQCpQ61cKVEFAlE022WSTQUD+SoFav9JBQGhIzNsZEkJA0kUXXXRRQkA8Q2LezpBCQKZArV8p0EJAED744IMPQ0B6O0Ni3k5DQOQ4juM4jkNATjbZZJPNQ0C4MyTm7QxEQCIxb2dITERAjC666KKLRED2KwVq/cpEQGApUOtXCkVAyiabbLJJRUA0JObtDIlFQJ4hMW9nyEVACB988MEHRkByHMdxHEdGQNwZEvN2hkZARhdddNHFRkCwFKj1KwVHQBoS83aGREdAhA8++OCDR0DuDIl5O8NHQFgK1PqVAkhAwgcffPBBSEAsBWr9SoFIQJYCtX6lwEhAAAAAAAAASUA=",
          "dtype": "f8"
         },
         "y": [
          9223,
          8743,
          8255,
          7828,
          7487,
          7170,
          6809,
          6435,
          6049,
          5673,
          5330,
          4988,
          4685,
          4404,
          4122,
          3874,
          3654,
          3432,
          3205,
          3018,
          2851,
          2672,
          2512,
          2390,
          2284,
          2176,
          2067,
          1972,
          1898,
          1810,
          1743,
          1684,
          1636,
          1589,
          1550,
          1510,
          1486,
          1451,
          1418,
          1393,
          1376,
          1350,
          1334,
          1316,
          1306,
          1286,
          1273,
          1259,
          1261,
          1252,
          1240,
          1239,
          1234,
          1230,
          1218,
          1222,
          1215,
          1212,
          1219,
          1217,
          1215,
          1210,
          1210,
          1205,
          1204,
          1200,
          1197,
          1197,
          1197,
          1196,
          1195,
          1194,
          1189,
          1186,
          1180,
          1172,
          1166,
          1166,
          1168,
          1167,
          1163,
          1162,
          1164,
          1161,
          1163,
          1161,
          1163,
          1161,
          1163,
          1161,
          1162,
          1150,
          1157,
          1156,
          1155,
          1155,
          1155,
          1155,
          1153,
          1155
         ]
        },
        {
         "marker": {
          "color": "blue",
          "size": 10
         },
         "mode": "lines",
         "name": "TERT 1295250",
         "type": "scatter",
         "x": {
          "bdata": "AAAAAAAA8D9BrV8pUOv3P4Jav1Kg1v8/4YMPPvjgA0CCWr9SoNYHQCIxb2dIzAtAwgcffPDBD0Ayb2dIzNsRQIJav1Kg1hNA0kUXXXTRFUAiMW9nSMwXQHIcx3EcxxlAwgcffPDBG0AS83aGxLwdQGPezpCYtx9A2mSTTTbZIECCWr9SoNYhQCpQ61cK1CJA0kUXXXTRI0B6O0Ni3s4kQCIxb2dIzCVAyiabbLLJJkByHMdxHMcnQBoS83aGxChAwgcffPDBKUBq/UqBWr8qQBLzdobEvCtAu+iiiy66LEBj3s6QmLctQAvU+pUCtS5As8kmm2yyL0CuXylQ61cwQIJav1Kg1jBAVlVVVVVVMUAqUOtXCtQxQP5KgVq/UjJA0kUXXXTRMkCmQK1fKVAzQHo7Q2LezjNATjbZZJNNNEAiMW9nSMw0QPYrBWr9SjVAyiabbLLJNUCeITFvZ0g2QHIcx3EcxzZARhdddNFFN0AaEvN2hsQ3QO4MiXk7QzhAwgcffPDBOECWArV+pUA5QGr9SoFavzlAPvjggw8+OkAS83aGxLw6QObtDIl5OztAu+iiiy66O0CP4ziO4zg8QGPezpCYtzxAN9lkk002PUAL1PqVArU9QN/OkJi3Mz5As8kmm2yyPkCHxLydITE/QFu/UqDWrz9AGF100UUXQECCWr9SoFZAQOxXCtT6lUBAVlVVVVXVQEDAUqDWrxRBQCpQ61cKVEFAlE022WSTQUD+SoFav9JBQGhIzNsZEkJA0kUXXXRRQkA8Q2LezpBCQKZArV8p0EJAED744IMPQ0B6O0Ni3k5DQOQ4juM4jkNATjbZZJPNQ0C4MyTm7QxEQCIxb2dITERAjC666KKLRED2KwVq/cpEQGApUOtXCkVAyiabbLJJRUA0JObtDIlFQJ4hMW9nyEVACB988MEHRkByHMdxHEdGQNwZEvN2hkZARhdddNHFRkCwFKj1KwVHQBoS83aGREdAhA8++OCDR0DuDIl5O8NHQFgK1PqVAkhAwgcffPBBSEAsBWr9SoFIQJYCtX6lwEhAAAAAAAAASUA=",
          "dtype": "f8"
         },
         "y": [
          2800,
          2675,
          2516,
          2391,
          2287,
          2195,
          2107,
          2013,
          1936,
          1852,
          1784,
          1723,
          1668,
          1576,
          1468,
          1361,
          1276,
          1200,
          1126,
          1073,
          1006,
          955,
          892,
          830,
          786,
          755,
          727,
          691,
          659,
          631,
          600,
          573,
          557,
          543,
          530,
          514,
          507,
          493,
          488,
          477,
          466,
          459,
          451,
          436,
          434,
          429,
          428,
          424,
          419,
          417,
          415,
          408,
          407,
          406,
          406,
          404,
          405,
          404,
          404,
          399,
          399,
          399,
          398,
          394,
          395,
          392,
          393,
          393,
          391,
          389,
          388,
          387,
          388,
          384,
          383,
          382,
          380,
          380,
          379,
          379,
          380,
          380,
          379,
          380,
          379,
          379,
          378,
          379,
          378,
          379,
          378,
          379,
          378,
          379,
          378,
          379,
          376,
          377,
          377,
          377
         ]
        },
        {
         "marker": {
          "color": "green",
          "size": 10
         },
         "mode": "lines",
         "name": "RALY 32580927",
         "type": "scatter",
         "x": {
          "bdata": "AAAAAAAA8D9BrV8pUOv3P4Jav1Kg1v8/4YMPPvjgA0CCWr9SoNYHQCIxb2dIzAtAwgcffPDBD0Ayb2dIzNsRQIJav1Kg1hNA0kUXXXTRFUAiMW9nSMwXQHIcx3EcxxlAwgcffPDBG0AS83aGxLwdQGPezpCYtx9A2mSTTTbZIECCWr9SoNYhQCpQ61cK1CJA0kUXXXTRI0B6O0Ni3s4kQCIxb2dIzCVAyiabbLLJJkByHMdxHMcnQBoS83aGxChAwgcffPDBKUBq/UqBWr8qQBLzdobEvCtAu+iiiy66LEBj3s6QmLctQAvU+pUCtS5As8kmm2yyL0CuXylQ61cwQIJav1Kg1jBAVlVVVVVVMUAqUOtXCtQxQP5KgVq/UjJA0kUXXXTRMkCmQK1fKVAzQHo7Q2LezjNATjbZZJNNNEAiMW9nSMw0QPYrBWr9SjVAyiabbLLJNUCeITFvZ0g2QHIcx3EcxzZARhdddNFFN0AaEvN2hsQ3QO4MiXk7QzhAwgcffPDBOECWArV+pUA5QGr9SoFavzlAPvjggw8+OkAS83aGxLw6QObtDIl5OztAu+iiiy66O0CP4ziO4zg8QGPezpCYtzxAN9lkk002PUAL1PqVArU9QN/OkJi3Mz5As8kmm2yyPkCHxLydITE/QFu/UqDWrz9AGF100UUXQECCWr9SoFZAQOxXCtT6lUBAVlVVVVXVQEDAUqDWrxRBQCpQ61cKVEFAlE022WSTQUD+SoFav9JBQGhIzNsZEkJA0kUXXXRRQkA8Q2LezpBCQKZArV8p0EJAED744IMPQ0B6O0Ni3k5DQOQ4juM4jkNATjbZZJPNQ0C4MyTm7QxEQCIxb2dITERAjC666KKLRED2KwVq/cpEQGApUOtXCkVAyiabbLJJRUA0JObtDIlFQJ4hMW9nyEVACB988MEHRkByHMdxHEdGQNwZEvN2hkZARhdddNHFRkCwFKj1KwVHQBoS83aGREdAhA8++OCDR0DuDIl5O8NHQFgK1PqVAkhAwgcffPBBSEAsBWr9SoFIQJYCtX6lwEhAAAAAAAAASUA=",
          "dtype": "f8"
         },
         "y": [
          501,
          507,
          513,
          519,
          534,
          547,
          559,
          563,
          573,
          585,
          594,
          600,
          607,
          611,
          624,
          634,
          637,
          649,
          656,
          665,
          684,
          699,
          716,
          735,
          756,
          780,
          802,
          826,
          843,
          876,
          899,
          920,
          937,
          955,
          980,
          1005,
          1033,
          1051,
          1079,
          1091,
          1137,
          1136,
          1164,
          1190,
          1204,
          1230,
          1254,
          1279,
          1292,
          1310,
          1323,
          1337,
          1346,
          1369,
          1384,
          1389,
          1407,
          1418,
          1444,
          1459,
          1481,
          1491,
          1515,
          1533,
          1543,
          1554,
          1556,
          1556,
          1556,
          1556,
          1556,
          1556,
          1556,
          1556,
          1556,
          1556,
          1556,
          1556,
          1556,
          1556,
          1556,
          1556,
          1556,
          1556,
          1556,
          1556,
          1556,
          1556,
          1556,
          1556,
          1556,
          1556,
          1556,
          1556,
          1556,
          1556,
          1556,
          1556,
          1556,
          1561
         ]
        },
        {
         "marker": {
          "color": "yellow",
          "size": 10
         },
         "mode": "lines",
         "name": "CDC20 43824529",
         "type": "scatter",
         "x": {
          "bdata": "AAAAAAAA8D9BrV8pUOv3P4Jav1Kg1v8/4YMPPvjgA0CCWr9SoNYHQCIxb2dIzAtAwgcffPDBD0Ayb2dIzNsRQIJav1Kg1hNA0kUXXXTRFUAiMW9nSMwXQHIcx3EcxxlAwgcffPDBG0AS83aGxLwdQGPezpCYtx9A2mSTTTbZIECCWr9SoNYhQCpQ61cK1CJA0kUXXXTRI0B6O0Ni3s4kQCIxb2dIzCVAyiabbLLJJkByHMdxHMcnQBoS83aGxChAwgcffPDBKUBq/UqBWr8qQBLzdobEvCtAu+iiiy66LEBj3s6QmLctQAvU+pUCtS5As8kmm2yyL0CuXylQ61cwQIJav1Kg1jBAVlVVVVVVMUAqUOtXCtQxQP5KgVq/UjJA0kUXXXTRMkCmQK1fKVAzQHo7Q2LezjNATjbZZJNNNEAiMW9nSMw0QPYrBWr9SjVAyiabbLLJNUCeITFvZ0g2QHIcx3EcxzZARhdddNFFN0AaEvN2hsQ3QO4MiXk7QzhAwgcffPDBOECWArV+pUA5QGr9SoFavzlAPvjggw8+OkAS83aGxLw6QObtDIl5OztAu+iiiy66O0CP4ziO4zg8QGPezpCYtzxAN9lkk002PUAL1PqVArU9QN/OkJi3Mz5As8kmm2yyPkCHxLydITE/QFu/UqDWrz9AGF100UUXQECCWr9SoFZAQOxXCtT6lUBAVlVVVVXVQEDAUqDWrxRBQCpQ61cKVEFAlE022WSTQUD+SoFav9JBQGhIzNsZEkJA0kUXXXRRQkA8Q2LezpBCQKZArV8p0EJAED744IMPQ0B6O0Ni3k5DQOQ4juM4jkNATjbZZJPNQ0C4MyTm7QxEQCIxb2dITERAjC666KKLRED2KwVq/cpEQGApUOtXCkVAyiabbLJJRUA0JObtDIlFQJ4hMW9nyEVACB988MEHRkByHMdxHEdGQNwZEvN2hkZARhdddNHFRkCwFKj1KwVHQBoS83aGREdAhA8++OCDR0DuDIl5O8NHQFgK1PqVAkhAwgcffPBBSEAsBWr9SoFIQJYCtX6lwEhAAAAAAAAASUA=",
          "dtype": "f8"
         },
         "y": [
          132,
          133,
          132,
          133,
          135,
          138,
          139,
          145,
          147,
          151,
          152,
          158,
          163,
          170,
          173,
          175,
          177,
          181,
          186,
          188,
          192,
          196,
          198,
          203,
          206,
          211,
          211,
          217,
          227,
          230,
          238,
          247,
          256,
          265,
          274,
          284,
          286,
          292,
          301,
          308,
          312,
          315,
          330,
          343,
          350,
          352,
          369,
          375,
          383,
          393,
          396,
          396,
          395,
          395,
          396,
          396,
          396,
          396,
          396,
          396,
          396,
          395,
          396,
          396,
          396,
          396,
          396,
          395,
          395,
          395,
          395,
          395,
          395,
          395,
          395,
          395,
          395,
          395,
          395,
          395,
          395,
          395,
          395,
          395,
          396,
          396,
          396,
          396,
          396,
          396,
          396,
          396,
          396,
          396,
          396,
          395,
          395,
          396,
          396,
          396
         ]
        }
       ],
       "layout": {
        "annotations": [
         {
          "showarrow": false,
          "text": "Original Weight: 15",
          "x": 15,
          "xanchor": "left",
          "xref": "x",
          "y": 1,
          "yanchor": "top",
          "yref": "y domain"
         }
        ],
        "shapes": [
         {
          "line": {
           "color": "red",
           "dash": "dash",
           "width": 1
          },
          "type": "line",
          "x0": 0,
          "x1": 1,
          "xref": "x domain",
          "y0": 406,
          "y1": 406,
          "yref": "y"
         },
         {
          "line": {
           "color": "blue",
           "dash": "dash",
           "width": 1
          },
          "type": "line",
          "x0": 0,
          "x1": 1,
          "xref": "x domain",
          "y0": 28,
          "y1": 28,
          "yref": "y"
         },
         {
          "line": {
           "color": "green",
           "dash": "dash",
           "width": 1
          },
          "type": "line",
          "x0": 0,
          "x1": 1,
          "xref": "x domain",
          "y0": 10,
          "y1": 10,
          "yref": "y"
         },
         {
          "line": {
           "color": "yellow",
           "dash": "dash",
           "width": 1
          },
          "type": "line",
          "x0": 0,
          "x1": 1,
          "xref": "x domain",
          "y0": 1,
          "y1": 1,
          "yref": "y"
         },
         {
          "line": {
           "color": "black",
           "dash": "dash",
           "width": 2
          },
          "type": "line",
          "x0": 15,
          "x1": 15,
          "xref": "x",
          "y0": 0,
          "y1": 1,
          "yref": "y domain"
         }
        ],
        "showlegend": true,
        "template": {
         "data": {
          "bar": [
           {
            "error_x": {
             "color": "#2a3f5f"
            },
            "error_y": {
             "color": "#2a3f5f"
            },
            "marker": {
             "line": {
              "color": "#E5ECF6",
              "width": 0.5
             },
             "pattern": {
              "fillmode": "overlay",
              "size": 10,
              "solidity": 0.2
             }
            },
            "type": "bar"
           }
          ],
          "barpolar": [
           {
            "marker": {
             "line": {
              "color": "#E5ECF6",
              "width": 0.5
             },
             "pattern": {
              "fillmode": "overlay",
              "size": 10,
              "solidity": 0.2
             }
            },
            "type": "barpolar"
           }
          ],
          "carpet": [
           {
            "aaxis": {
             "endlinecolor": "#2a3f5f",
             "gridcolor": "white",
             "linecolor": "white",
             "minorgridcolor": "white",
             "startlinecolor": "#2a3f5f"
            },
            "baxis": {
             "endlinecolor": "#2a3f5f",
             "gridcolor": "white",
             "linecolor": "white",
             "minorgridcolor": "white",
             "startlinecolor": "#2a3f5f"
            },
            "type": "carpet"
           }
          ],
          "choropleth": [
           {
            "colorbar": {
             "outlinewidth": 0,
             "ticks": ""
            },
            "type": "choropleth"
           }
          ],
          "contour": [
           {
            "colorbar": {
             "outlinewidth": 0,
             "ticks": ""
            },
            "colorscale": [
             [
              0,
              "#0d0887"
             ],
             [
              0.1111111111111111,
              "#46039f"
             ],
             [
              0.2222222222222222,
              "#7201a8"
             ],
             [
              0.3333333333333333,
              "#9c179e"
             ],
             [
              0.4444444444444444,
              "#bd3786"
             ],
             [
              0.5555555555555556,
              "#d8576b"
             ],
             [
              0.6666666666666666,
              "#ed7953"
             ],
             [
              0.7777777777777778,
              "#fb9f3a"
             ],
             [
              0.8888888888888888,
              "#fdca26"
             ],
             [
              1,
              "#f0f921"
             ]
            ],
            "type": "contour"
           }
          ],
          "contourcarpet": [
           {
            "colorbar": {
             "outlinewidth": 0,
             "ticks": ""
            },
            "type": "contourcarpet"
           }
          ],
          "heatmap": [
           {
            "colorbar": {
             "outlinewidth": 0,
             "ticks": ""
            },
            "colorscale": [
             [
              0,
              "#0d0887"
             ],
             [
              0.1111111111111111,
              "#46039f"
             ],
             [
              0.2222222222222222,
              "#7201a8"
             ],
             [
              0.3333333333333333,
              "#9c179e"
             ],
             [
              0.4444444444444444,
              "#bd3786"
             ],
             [
              0.5555555555555556,
              "#d8576b"
             ],
             [
              0.6666666666666666,
              "#ed7953"
             ],
             [
              0.7777777777777778,
              "#fb9f3a"
             ],
             [
              0.8888888888888888,
              "#fdca26"
             ],
             [
              1,
              "#f0f921"
             ]
            ],
            "type": "heatmap"
           }
          ],
          "histogram": [
           {
            "marker": {
             "pattern": {
              "fillmode": "overlay",
              "size": 10,
              "solidity": 0.2
             }
            },
            "type": "histogram"
           }
          ],
          "histogram2d": [
           {
            "colorbar": {
             "outlinewidth": 0,
             "ticks": ""
            },
            "colorscale": [
             [
              0,
              "#0d0887"
             ],
             [
              0.1111111111111111,
              "#46039f"
             ],
             [
              0.2222222222222222,
              "#7201a8"
             ],
             [
              0.3333333333333333,
              "#9c179e"
             ],
             [
              0.4444444444444444,
              "#bd3786"
             ],
             [
              0.5555555555555556,
              "#d8576b"
             ],
             [
              0.6666666666666666,
              "#ed7953"
             ],
             [
              0.7777777777777778,
              "#fb9f3a"
             ],
             [
              0.8888888888888888,
              "#fdca26"
             ],
             [
              1,
              "#f0f921"
             ]
            ],
            "type": "histogram2d"
           }
          ],
          "histogram2dcontour": [
           {
            "colorbar": {
             "outlinewidth": 0,
             "ticks": ""
            },
            "colorscale": [
             [
              0,
              "#0d0887"
             ],
             [
              0.1111111111111111,
              "#46039f"
             ],
             [
              0.2222222222222222,
              "#7201a8"
             ],
             [
              0.3333333333333333,
              "#9c179e"
             ],
             [
              0.4444444444444444,
              "#bd3786"
             ],
             [
              0.5555555555555556,
              "#d8576b"
             ],
             [
              0.6666666666666666,
              "#ed7953"
             ],
             [
              0.7777777777777778,
              "#fb9f3a"
             ],
             [
              0.8888888888888888,
              "#fdca26"
             ],
             [
              1,
              "#f0f921"
             ]
            ],
            "type": "histogram2dcontour"
           }
          ],
          "mesh3d": [
           {
            "colorbar": {
             "outlinewidth": 0,
             "ticks": ""
            },
            "type": "mesh3d"
           }
          ],
          "parcoords": [
           {
            "line": {
             "colorbar": {
              "outlinewidth": 0,
              "ticks": ""
             }
            },
            "type": "parcoords"
           }
          ],
          "pie": [
           {
            "automargin": true,
            "type": "pie"
           }
          ],
          "scatter": [
           {
            "fillpattern": {
             "fillmode": "overlay",
             "size": 10,
             "solidity": 0.2
            },
            "type": "scatter"
           }
          ],
          "scatter3d": [
           {
            "line": {
             "colorbar": {
              "outlinewidth": 0,
              "ticks": ""
             }
            },
            "marker": {
             "colorbar": {
              "outlinewidth": 0,
              "ticks": ""
             }
            },
            "type": "scatter3d"
           }
          ],
          "scattercarpet": [
           {
            "marker": {
             "colorbar": {
              "outlinewidth": 0,
              "ticks": ""
             }
            },
            "type": "scattercarpet"
           }
          ],
          "scattergeo": [
           {
            "marker": {
             "colorbar": {
              "outlinewidth": 0,
              "ticks": ""
             }
            },
            "type": "scattergeo"
           }
          ],
          "scattergl": [
           {
            "marker": {
             "colorbar": {
              "outlinewidth": 0,
              "ticks": ""
             }
            },
            "type": "scattergl"
           }
          ],
          "scattermap": [
           {
            "marker": {
             "colorbar": {
              "outlinewidth": 0,
              "ticks": ""
             }
            },
            "type": "scattermap"
           }
          ],
          "scattermapbox": [
           {
            "marker": {
             "colorbar": {
              "outlinewidth": 0,
              "ticks": ""
             }
            },
            "type": "scattermapbox"
           }
          ],
          "scatterpolar": [
           {
            "marker": {
             "colorbar": {
              "outlinewidth": 0,
              "ticks": ""
             }
            },
            "type": "scatterpolar"
           }
          ],
          "scatterpolargl": [
           {
            "marker": {
             "colorbar": {
              "outlinewidth": 0,
              "ticks": ""
             }
            },
            "type": "scatterpolargl"
           }
          ],
          "scatterternary": [
           {
            "marker": {
             "colorbar": {
              "outlinewidth": 0,
              "ticks": ""
             }
            },
            "type": "scatterternary"
           }
          ],
          "surface": [
           {
            "colorbar": {
             "outlinewidth": 0,
             "ticks": ""
            },
            "colorscale": [
             [
              0,
              "#0d0887"
             ],
             [
              0.1111111111111111,
              "#46039f"
             ],
             [
              0.2222222222222222,
              "#7201a8"
             ],
             [
              0.3333333333333333,
              "#9c179e"
             ],
             [
              0.4444444444444444,
              "#bd3786"
             ],
             [
              0.5555555555555556,
              "#d8576b"
             ],
             [
              0.6666666666666666,
              "#ed7953"
             ],
             [
              0.7777777777777778,
              "#fb9f3a"
             ],
             [
              0.8888888888888888,
              "#fdca26"
             ],
             [
              1,
              "#f0f921"
             ]
            ],
            "type": "surface"
           }
          ],
          "table": [
           {
            "cells": {
             "fill": {
              "color": "#EBF0F8"
             },
             "line": {
              "color": "white"
             }
            },
            "header": {
             "fill": {
              "color": "#C8D4E3"
             },
             "line": {
              "color": "white"
             }
            },
            "type": "table"
           }
          ]
         },
         "layout": {
          "annotationdefaults": {
           "arrowcolor": "#2a3f5f",
           "arrowhead": 0,
           "arrowwidth": 1
          },
          "autotypenumbers": "strict",
          "coloraxis": {
           "colorbar": {
            "outlinewidth": 0,
            "ticks": ""
           }
          },
          "colorscale": {
           "diverging": [
            [
             0,
             "#8e0152"
            ],
            [
             0.1,
             "#c51b7d"
            ],
            [
             0.2,
             "#de77ae"
            ],
            [
             0.3,
             "#f1b6da"
            ],
            [
             0.4,
             "#fde0ef"
            ],
            [
             0.5,
             "#f7f7f7"
            ],
            [
             0.6,
             "#e6f5d0"
            ],
            [
             0.7,
             "#b8e186"
            ],
            [
             0.8,
             "#7fbc41"
            ],
            [
             0.9,
             "#4d9221"
            ],
            [
             1,
             "#276419"
            ]
           ],
           "sequential": [
            [
             0,
             "#0d0887"
            ],
            [
             0.1111111111111111,
             "#46039f"
            ],
            [
             0.2222222222222222,
             "#7201a8"
            ],
            [
             0.3333333333333333,
             "#9c179e"
            ],
            [
             0.4444444444444444,
             "#bd3786"
            ],
            [
             0.5555555555555556,
             "#d8576b"
            ],
            [
             0.6666666666666666,
             "#ed7953"
            ],
            [
             0.7777777777777778,
             "#fb9f3a"
            ],
            [
             0.8888888888888888,
             "#fdca26"
            ],
            [
             1,
             "#f0f921"
            ]
           ],
           "sequentialminus": [
            [
             0,
             "#0d0887"
            ],
            [
             0.1111111111111111,
             "#46039f"
            ],
            [
             0.2222222222222222,
             "#7201a8"
            ],
            [
             0.3333333333333333,
             "#9c179e"
            ],
            [
             0.4444444444444444,
             "#bd3786"
            ],
            [
             0.5555555555555556,
             "#d8576b"
            ],
            [
             0.6666666666666666,
             "#ed7953"
            ],
            [
             0.7777777777777778,
             "#fb9f3a"
            ],
            [
             0.8888888888888888,
             "#fdca26"
            ],
            [
             1,
             "#f0f921"
            ]
           ]
          },
          "colorway": [
           "#636efa",
           "#EF553B",
           "#00cc96",
           "#ab63fa",
           "#FFA15A",
           "#19d3f3",
           "#FF6692",
           "#B6E880",
           "#FF97FF",
           "#FECB52"
          ],
          "font": {
           "color": "#2a3f5f"
          },
          "geo": {
           "bgcolor": "white",
           "lakecolor": "white",
           "landcolor": "#E5ECF6",
           "showlakes": true,
           "showland": true,
           "subunitcolor": "white"
          },
          "hoverlabel": {
           "align": "left"
          },
          "hovermode": "closest",
          "mapbox": {
           "style": "light"
          },
          "paper_bgcolor": "white",
          "plot_bgcolor": "#E5ECF6",
          "polar": {
           "angularaxis": {
            "gridcolor": "white",
            "linecolor": "white",
            "ticks": ""
           },
           "bgcolor": "#E5ECF6",
           "radialaxis": {
            "gridcolor": "white",
            "linecolor": "white",
            "ticks": ""
           }
          },
          "scene": {
           "xaxis": {
            "backgroundcolor": "#E5ECF6",
            "gridcolor": "white",
            "gridwidth": 2,
            "linecolor": "white",
            "showbackground": true,
            "ticks": "",
            "zerolinecolor": "white"
           },
           "yaxis": {
            "backgroundcolor": "#E5ECF6",
            "gridcolor": "white",
            "gridwidth": 2,
            "linecolor": "white",
            "showbackground": true,
            "ticks": "",
            "zerolinecolor": "white"
           },
           "zaxis": {
            "backgroundcolor": "#E5ECF6",
            "gridcolor": "white",
            "gridwidth": 2,
            "linecolor": "white",
            "showbackground": true,
            "ticks": "",
            "zerolinecolor": "white"
           }
          },
          "shapedefaults": {
           "line": {
            "color": "#2a3f5f"
           }
          },
          "ternary": {
           "aaxis": {
            "gridcolor": "white",
            "linecolor": "white",
            "ticks": ""
           },
           "baxis": {
            "gridcolor": "white",
            "linecolor": "white",
            "ticks": ""
           },
           "bgcolor": "#E5ECF6",
           "caxis": {
            "gridcolor": "white",
            "linecolor": "white",
            "ticks": ""
           }
          },
          "title": {
           "x": 0.05
          },
          "xaxis": {
           "automargin": true,
           "gridcolor": "white",
           "linecolor": "white",
           "ticks": "",
           "title": {
            "standoff": 15
           },
           "zerolinecolor": "white",
           "zerolinewidth": 2
          },
          "yaxis": {
           "automargin": true,
           "gridcolor": "white",
           "linecolor": "white",
           "ticks": "",
           "title": {
            "standoff": 15
           },
           "zerolinecolor": "white",
           "zerolinewidth": 2
          }
         }
        },
        "title": {
         "text": "Iterrating through <b>CGC Weight</b> Scoring"
        },
        "xaxis": {
         "title": {
          "text": "CGC Weight"
         }
        },
        "yaxis": {
         "title": {
          "text": "Sum of Ranking of Mutations"
         }
        }
       }
      }
     },
     "metadata": {},
     "output_type": "display_data"
    },
    {
     "data": {
      "application/vnd.jupyter.widget-view+json": {
       "model_id": "de2b62bc0a0f44d9b8b73bb306e8e81b",
       "version_major": 2,
       "version_minor": 0
      },
      "text/plain": [
       "Calculating scores for TERT at position 1295228:   0%|          | 0/100 [00:00<?, ?it/s]"
      ]
     },
     "metadata": {},
     "output_type": "display_data"
    },
    {
     "data": {
      "application/vnd.jupyter.widget-view+json": {
       "model_id": "d487e6b99a3148fd9a39208736b4bf11",
       "version_major": 2,
       "version_minor": 0
      },
      "text/plain": [
       "Calculating scores for TERT at position 1295250:   0%|          | 0/100 [00:00<?, ?it/s]"
      ]
     },
     "metadata": {},
     "output_type": "display_data"
    },
    {
     "data": {
      "application/vnd.jupyter.widget-view+json": {
       "model_id": "4efff6ea86ce45cf8159abf37260b7d8",
       "version_major": 2,
       "version_minor": 0
      },
      "text/plain": [
       "Calculating scores for RALY at position 32580927:   0%|          | 0/100 [00:00<?, ?it/s]"
      ]
     },
     "metadata": {},
     "output_type": "display_data"
    },
    {
     "data": {
      "application/vnd.jupyter.widget-view+json": {
       "model_id": "61ecaa85ab6549198b6d982e67a8d65a",
       "version_major": 2,
       "version_minor": 0
      },
      "text/plain": [
       "Calculating scores for CDC20 at position 43824529:   0%|          | 0/100 [00:00<?, ?it/s]"
      ]
     },
     "metadata": {},
     "output_type": "display_data"
    },
    {
     "data": {
      "application/vnd.plotly.v1+json": {
       "config": {
        "plotlyServerURL": "https://plot.ly"
       },
       "data": [
        {
         "marker": {
          "color": "red",
          "size": 10
         },
         "mode": "lines",
         "name": "TERT 1295228",
         "type": "scatter",
         "x": {
          "bdata": "AAAAAAAA8D9BrV8pUOv3P4Jav1Kg1v8/4YMPPvjgA0CCWr9SoNYHQCIxb2dIzAtAwgcffPDBD0Ayb2dIzNsRQIJav1Kg1hNA0kUXXXTRFUAiMW9nSMwXQHIcx3EcxxlAwgcffPDBG0AS83aGxLwdQGPezpCYtx9A2mSTTTbZIECCWr9SoNYhQCpQ61cK1CJA0kUXXXTRI0B6O0Ni3s4kQCIxb2dIzCVAyiabbLLJJkByHMdxHMcnQBoS83aGxChAwgcffPDBKUBq/UqBWr8qQBLzdobEvCtAu+iiiy66LEBj3s6QmLctQAvU+pUCtS5As8kmm2yyL0CuXylQ61cwQIJav1Kg1jBAVlVVVVVVMUAqUOtXCtQxQP5KgVq/UjJA0kUXXXTRMkCmQK1fKVAzQHo7Q2LezjNATjbZZJNNNEAiMW9nSMw0QPYrBWr9SjVAyiabbLLJNUCeITFvZ0g2QHIcx3EcxzZARhdddNFFN0AaEvN2hsQ3QO4MiXk7QzhAwgcffPDBOECWArV+pUA5QGr9SoFavzlAPvjggw8+OkAS83aGxLw6QObtDIl5OztAu+iiiy66O0CP4ziO4zg8QGPezpCYtzxAN9lkk002PUAL1PqVArU9QN/OkJi3Mz5As8kmm2yyPkCHxLydITE/QFu/UqDWrz9AGF100UUXQECCWr9SoFZAQOxXCtT6lUBAVlVVVVXVQEDAUqDWrxRBQCpQ61cKVEFAlE022WSTQUD+SoFav9JBQGhIzNsZEkJA0kUXXXRRQkA8Q2LezpBCQKZArV8p0EJAED744IMPQ0B6O0Ni3k5DQOQ4juM4jkNATjbZZJPNQ0C4MyTm7QxEQCIxb2dITERAjC666KKLRED2KwVq/cpEQGApUOtXCkVAyiabbLJJRUA0JObtDIlFQJ4hMW9nyEVACB988MEHRkByHMdxHEdGQNwZEvN2hkZARhdddNHFRkCwFKj1KwVHQBoS83aGREdAhA8++OCDR0DuDIl5O8NHQFgK1PqVAkhAwgcffPBBSEAsBWr9SoFIQJYCtX6lwEhAAAAAAAAASUA=",
          "dtype": "f8"
         },
         "y": [
          600,
          603,
          609,
          614,
          619,
          623,
          628,
          636,
          642,
          648,
          656,
          662,
          663,
          671,
          685,
          704,
          721,
          739,
          758,
          785,
          805,
          821,
          847,
          867,
          887,
          930,
          950,
          996,
          1047,
          1089,
          1142,
          1200,
          1261,
          1340,
          1429,
          1517,
          1609,
          1705,
          1823,
          1940,
          2073,
          2222,
          2388,
          2572,
          2732,
          2913,
          3145,
          3415,
          3648,
          3916,
          4201,
          4517,
          4786,
          5164,
          5534,
          5933,
          6344,
          6825,
          7283,
          7817,
          8313,
          8811,
          9259,
          9696,
          10164,
          10761,
          11301,
          11932,
          12573,
          13274,
          13951,
          14661,
          15312,
          16057,
          16883,
          17718,
          18417,
          18987,
          19369,
          19665,
          19888,
          20132,
          20340,
          20525,
          20756,
          21032,
          21223,
          21440,
          21694,
          21967,
          22236,
          22488,
          22700,
          22944,
          23194,
          23481,
          23766,
          24086,
          24388,
          24608
         ]
        },
        {
         "marker": {
          "color": "blue",
          "size": 10
         },
         "mode": "lines",
         "name": "TERT 1295250",
         "type": "scatter",
         "x": {
          "bdata": "AAAAAAAA8D9BrV8pUOv3P4Jav1Kg1v8/4YMPPvjgA0CCWr9SoNYHQCIxb2dIzAtAwgcffPDBD0Ayb2dIzNsRQIJav1Kg1hNA0kUXXXTRFUAiMW9nSMwXQHIcx3EcxxlAwgcffPDBG0AS83aGxLwdQGPezpCYtx9A2mSTTTbZIECCWr9SoNYhQCpQ61cK1CJA0kUXXXTRI0B6O0Ni3s4kQCIxb2dIzCVAyiabbLLJJkByHMdxHMcnQBoS83aGxChAwgcffPDBKUBq/UqBWr8qQBLzdobEvCtAu+iiiy66LEBj3s6QmLctQAvU+pUCtS5As8kmm2yyL0CuXylQ61cwQIJav1Kg1jBAVlVVVVVVMUAqUOtXCtQxQP5KgVq/UjJA0kUXXXTRMkCmQK1fKVAzQHo7Q2LezjNATjbZZJNNNEAiMW9nSMw0QPYrBWr9SjVAyiabbLLJNUCeITFvZ0g2QHIcx3EcxzZARhdddNFFN0AaEvN2hsQ3QO4MiXk7QzhAwgcffPDBOECWArV+pUA5QGr9SoFavzlAPvjggw8+OkAS83aGxLw6QObtDIl5OztAu+iiiy66O0CP4ziO4zg8QGPezpCYtzxAN9lkk002PUAL1PqVArU9QN/OkJi3Mz5As8kmm2yyPkCHxLydITE/QFu/UqDWrz9AGF100UUXQECCWr9SoFZAQOxXCtT6lUBAVlVVVVXVQEDAUqDWrxRBQCpQ61cKVEFAlE022WSTQUD+SoFav9JBQGhIzNsZEkJA0kUXXXRRQkA8Q2LezpBCQKZArV8p0EJAED744IMPQ0B6O0Ni3k5DQOQ4juM4jkNATjbZZJPNQ0C4MyTm7QxEQCIxb2dITERAjC666KKLRED2KwVq/cpEQGApUOtXCkVAyiabbLJJRUA0JObtDIlFQJ4hMW9nyEVACB988MEHRkByHMdxHEdGQNwZEvN2hkZARhdddNHFRkCwFKj1KwVHQBoS83aGREdAhA8++OCDR0DuDIl5O8NHQFgK1PqVAkhAwgcffPBBSEAsBWr9SoFIQJYCtX6lwEhAAAAAAAAASUA=",
          "dtype": "f8"
         },
         "y": [
          182,
          182,
          182,
          184,
          185,
          190,
          191,
          192,
          194,
          199,
          200,
          202,
          206,
          212,
          219,
          222,
          225,
          234,
          241,
          247,
          255,
          265,
          272,
          284,
          282,
          309,
          322,
          336,
          349,
          362,
          382,
          401,
          423,
          454,
          479,
          508,
          542,
          591,
          637,
          671,
          731,
          779,
          821,
          872,
          934,
          1030,
          1090,
          1159,
          1251,
          1349,
          1423,
          1525,
          1629,
          1776,
          1904,
          1993,
          2081,
          2169,
          2289,
          2400,
          2534,
          2655,
          2768,
          2903,
          3063,
          3246,
          3430,
          3584,
          3781,
          3964,
          4166,
          4371,
          4630,
          4872,
          5134,
          5438,
          5631,
          5852,
          5984,
          6082,
          6181,
          6299,
          6384,
          6402,
          6402,
          6402,
          6402,
          6402,
          6402,
          6402,
          6402,
          6402,
          6402,
          6402,
          6402,
          6402,
          6402,
          6402,
          6402,
          6402
         ]
        },
        {
         "marker": {
          "color": "green",
          "size": 10
         },
         "mode": "lines",
         "name": "RALY 32580927",
         "type": "scatter",
         "x": {
          "bdata": "AAAAAAAA8D9BrV8pUOv3P4Jav1Kg1v8/4YMPPvjgA0CCWr9SoNYHQCIxb2dIzAtAwgcffPDBD0Ayb2dIzNsRQIJav1Kg1hNA0kUXXXTRFUAiMW9nSMwXQHIcx3EcxxlAwgcffPDBG0AS83aGxLwdQGPezpCYtx9A2mSTTTbZIECCWr9SoNYhQCpQ61cK1CJA0kUXXXTRI0B6O0Ni3s4kQCIxb2dIzCVAyiabbLLJJkByHMdxHMcnQBoS83aGxChAwgcffPDBKUBq/UqBWr8qQBLzdobEvCtAu+iiiy66LEBj3s6QmLctQAvU+pUCtS5As8kmm2yyL0CuXylQ61cwQIJav1Kg1jBAVlVVVVVVMUAqUOtXCtQxQP5KgVq/UjJA0kUXXXTRMkCmQK1fKVAzQHo7Q2LezjNATjbZZJNNNEAiMW9nSMw0QPYrBWr9SjVAyiabbLLJNUCeITFvZ0g2QHIcx3EcxzZARhdddNFFN0AaEvN2hsQ3QO4MiXk7QzhAwgcffPDBOECWArV+pUA5QGr9SoFavzlAPvjggw8+OkAS83aGxLw6QObtDIl5OztAu+iiiy66O0CP4ziO4zg8QGPezpCYtzxAN9lkk002PUAL1PqVArU9QN/OkJi3Mz5As8kmm2yyPkCHxLydITE/QFu/UqDWrz9AGF100UUXQECCWr9SoFZAQOxXCtT6lUBAVlVVVVXVQEDAUqDWrxRBQCpQ61cKVEFAlE022WSTQUD+SoFav9JBQGhIzNsZEkJA0kUXXXRRQkA8Q2LezpBCQKZArV8p0EJAED744IMPQ0B6O0Ni3k5DQOQ4juM4jkNATjbZZJPNQ0C4MyTm7QxEQCIxb2dITERAjC666KKLRED2KwVq/cpEQGApUOtXCkVAyiabbLJJRUA0JObtDIlFQJ4hMW9nyEVACB988MEHRkByHMdxHEdGQNwZEvN2hkZARhdddNHFRkCwFKj1KwVHQBoS83aGREdAhA8++OCDR0DuDIl5O8NHQFgK1PqVAkhAwgcffPBBSEAsBWr9SoFIQJYCtX6lwEhAAAAAAAAASUA=",
          "dtype": "f8"
         },
         "y": [
          1133,
          1133,
          1132,
          1126,
          1114,
          1099,
          1084,
          1079,
          1069,
          1065,
          1038,
          1042,
          1028,
          1024,
          1021,
          1020,
          1019,
          1016,
          1013,
          1011,
          1006,
          1005,
          998,
          982,
          978,
          969,
          964,
          948,
          932,
          920,
          914,
          906,
          893,
          889,
          881,
          875,
          868,
          863,
          860,
          853,
          843,
          832,
          818,
          815,
          812,
          810,
          809,
          797,
          799,
          799,
          797,
          798,
          798,
          789,
          787,
          786,
          783,
          780,
          775,
          769,
          765,
          759,
          753,
          746,
          743,
          734,
          732,
          730,
          727,
          725,
          722,
          721,
          721,
          720,
          720,
          718,
          718,
          718,
          718,
          717,
          716,
          714,
          714,
          713,
          714,
          709,
          707,
          708,
          709,
          709,
          707,
          705,
          704,
          704,
          704,
          703,
          703,
          703,
          703,
          703
         ]
        },
        {
         "marker": {
          "color": "yellow",
          "size": 10
         },
         "mode": "lines",
         "name": "CDC20 43824529",
         "type": "scatter",
         "x": {
          "bdata": "AAAAAAAA8D9BrV8pUOv3P4Jav1Kg1v8/4YMPPvjgA0CCWr9SoNYHQCIxb2dIzAtAwgcffPDBD0Ayb2dIzNsRQIJav1Kg1hNA0kUXXXTRFUAiMW9nSMwXQHIcx3EcxxlAwgcffPDBG0AS83aGxLwdQGPezpCYtx9A2mSTTTbZIECCWr9SoNYhQCpQ61cK1CJA0kUXXXTRI0B6O0Ni3s4kQCIxb2dIzCVAyiabbLLJJkByHMdxHMcnQBoS83aGxChAwgcffPDBKUBq/UqBWr8qQBLzdobEvCtAu+iiiy66LEBj3s6QmLctQAvU+pUCtS5As8kmm2yyL0CuXylQ61cwQIJav1Kg1jBAVlVVVVVVMUAqUOtXCtQxQP5KgVq/UjJA0kUXXXTRMkCmQK1fKVAzQHo7Q2LezjNATjbZZJNNNEAiMW9nSMw0QPYrBWr9SjVAyiabbLLJNUCeITFvZ0g2QHIcx3EcxzZARhdddNFFN0AaEvN2hsQ3QO4MiXk7QzhAwgcffPDBOECWArV+pUA5QGr9SoFavzlAPvjggw8+OkAS83aGxLw6QObtDIl5OztAu+iiiy66O0CP4ziO4zg8QGPezpCYtzxAN9lkk002PUAL1PqVArU9QN/OkJi3Mz5As8kmm2yyPkCHxLydITE/QFu/UqDWrz9AGF100UUXQECCWr9SoFZAQOxXCtT6lUBAVlVVVVXVQEDAUqDWrxRBQCpQ61cKVEFAlE022WSTQUD+SoFav9JBQGhIzNsZEkJA0kUXXXRRQkA8Q2LezpBCQKZArV8p0EJAED744IMPQ0B6O0Ni3k5DQOQ4juM4jkNATjbZZJPNQ0C4MyTm7QxEQCIxb2dITERAjC666KKLRED2KwVq/cpEQGApUOtXCkVAyiabbLJJRUA0JObtDIlFQJ4hMW9nyEVACB988MEHRkByHMdxHEdGQNwZEvN2hkZARhdddNHFRkCwFKj1KwVHQBoS83aGREdAhA8++OCDR0DuDIl5O8NHQFgK1PqVAkhAwgcffPBBSEAsBWr9SoFIQJYCtX6lwEhAAAAAAAAASUA=",
          "dtype": "f8"
         },
         "y": [
          48,
          48,
          49,
          50,
          51,
          51,
          51,
          51,
          52,
          53,
          55,
          55,
          56,
          57,
          59,
          59,
          62,
          66,
          70,
          74,
          75,
          76,
          85,
          89,
          92,
          96,
          101,
          109,
          119,
          112,
          133,
          144,
          151,
          158,
          171,
          185,
          193,
          206,
          222,
          234,
          250,
          267,
          301,
          331,
          344,
          367,
          393,
          420,
          441,
          474,
          526,
          548,
          582,
          616,
          658,
          696,
          743,
          791,
          840,
          913,
          933,
          933,
          933,
          933,
          933,
          933,
          933,
          933,
          933,
          933,
          933,
          933,
          933,
          933,
          933,
          933,
          933,
          933,
          933,
          933,
          933,
          933,
          933,
          933,
          933,
          933,
          933,
          933,
          933,
          933,
          933,
          933,
          933,
          933,
          933,
          933,
          933,
          933,
          933,
          933
         ]
        }
       ],
       "layout": {
        "annotations": [
         {
          "showarrow": false,
          "text": "Original Weight: 20",
          "x": 20,
          "xanchor": "left",
          "xref": "x",
          "y": 1,
          "yanchor": "top",
          "yref": "y domain"
         }
        ],
        "shapes": [
         {
          "line": {
           "color": "red",
           "dash": "dash",
           "width": 1
          },
          "type": "line",
          "x0": 0,
          "x1": 1,
          "xref": "x domain",
          "y0": 406,
          "y1": 406,
          "yref": "y"
         },
         {
          "line": {
           "color": "blue",
           "dash": "dash",
           "width": 1
          },
          "type": "line",
          "x0": 0,
          "x1": 1,
          "xref": "x domain",
          "y0": 28,
          "y1": 28,
          "yref": "y"
         },
         {
          "line": {
           "color": "green",
           "dash": "dash",
           "width": 1
          },
          "type": "line",
          "x0": 0,
          "x1": 1,
          "xref": "x domain",
          "y0": 10,
          "y1": 10,
          "yref": "y"
         },
         {
          "line": {
           "color": "yellow",
           "dash": "dash",
           "width": 1
          },
          "type": "line",
          "x0": 0,
          "x1": 1,
          "xref": "x domain",
          "y0": 1,
          "y1": 1,
          "yref": "y"
         },
         {
          "line": {
           "color": "black",
           "dash": "dash",
           "width": 2
          },
          "type": "line",
          "x0": 20,
          "x1": 20,
          "xref": "x",
          "y0": 0,
          "y1": 1,
          "yref": "y domain"
         }
        ],
        "showlegend": true,
        "template": {
         "data": {
          "bar": [
           {
            "error_x": {
             "color": "#2a3f5f"
            },
            "error_y": {
             "color": "#2a3f5f"
            },
            "marker": {
             "line": {
              "color": "#E5ECF6",
              "width": 0.5
             },
             "pattern": {
              "fillmode": "overlay",
              "size": 10,
              "solidity": 0.2
             }
            },
            "type": "bar"
           }
          ],
          "barpolar": [
           {
            "marker": {
             "line": {
              "color": "#E5ECF6",
              "width": 0.5
             },
             "pattern": {
              "fillmode": "overlay",
              "size": 10,
              "solidity": 0.2
             }
            },
            "type": "barpolar"
           }
          ],
          "carpet": [
           {
            "aaxis": {
             "endlinecolor": "#2a3f5f",
             "gridcolor": "white",
             "linecolor": "white",
             "minorgridcolor": "white",
             "startlinecolor": "#2a3f5f"
            },
            "baxis": {
             "endlinecolor": "#2a3f5f",
             "gridcolor": "white",
             "linecolor": "white",
             "minorgridcolor": "white",
             "startlinecolor": "#2a3f5f"
            },
            "type": "carpet"
           }
          ],
          "choropleth": [
           {
            "colorbar": {
             "outlinewidth": 0,
             "ticks": ""
            },
            "type": "choropleth"
           }
          ],
          "contour": [
           {
            "colorbar": {
             "outlinewidth": 0,
             "ticks": ""
            },
            "colorscale": [
             [
              0,
              "#0d0887"
             ],
             [
              0.1111111111111111,
              "#46039f"
             ],
             [
              0.2222222222222222,
              "#7201a8"
             ],
             [
              0.3333333333333333,
              "#9c179e"
             ],
             [
              0.4444444444444444,
              "#bd3786"
             ],
             [
              0.5555555555555556,
              "#d8576b"
             ],
             [
              0.6666666666666666,
              "#ed7953"
             ],
             [
              0.7777777777777778,
              "#fb9f3a"
             ],
             [
              0.8888888888888888,
              "#fdca26"
             ],
             [
              1,
              "#f0f921"
             ]
            ],
            "type": "contour"
           }
          ],
          "contourcarpet": [
           {
            "colorbar": {
             "outlinewidth": 0,
             "ticks": ""
            },
            "type": "contourcarpet"
           }
          ],
          "heatmap": [
           {
            "colorbar": {
             "outlinewidth": 0,
             "ticks": ""
            },
            "colorscale": [
             [
              0,
              "#0d0887"
             ],
             [
              0.1111111111111111,
              "#46039f"
             ],
             [
              0.2222222222222222,
              "#7201a8"
             ],
             [
              0.3333333333333333,
              "#9c179e"
             ],
             [
              0.4444444444444444,
              "#bd3786"
             ],
             [
              0.5555555555555556,
              "#d8576b"
             ],
             [
              0.6666666666666666,
              "#ed7953"
             ],
             [
              0.7777777777777778,
              "#fb9f3a"
             ],
             [
              0.8888888888888888,
              "#fdca26"
             ],
             [
              1,
              "#f0f921"
             ]
            ],
            "type": "heatmap"
           }
          ],
          "histogram": [
           {
            "marker": {
             "pattern": {
              "fillmode": "overlay",
              "size": 10,
              "solidity": 0.2
             }
            },
            "type": "histogram"
           }
          ],
          "histogram2d": [
           {
            "colorbar": {
             "outlinewidth": 0,
             "ticks": ""
            },
            "colorscale": [
             [
              0,
              "#0d0887"
             ],
             [
              0.1111111111111111,
              "#46039f"
             ],
             [
              0.2222222222222222,
              "#7201a8"
             ],
             [
              0.3333333333333333,
              "#9c179e"
             ],
             [
              0.4444444444444444,
              "#bd3786"
             ],
             [
              0.5555555555555556,
              "#d8576b"
             ],
             [
              0.6666666666666666,
              "#ed7953"
             ],
             [
              0.7777777777777778,
              "#fb9f3a"
             ],
             [
              0.8888888888888888,
              "#fdca26"
             ],
             [
              1,
              "#f0f921"
             ]
            ],
            "type": "histogram2d"
           }
          ],
          "histogram2dcontour": [
           {
            "colorbar": {
             "outlinewidth": 0,
             "ticks": ""
            },
            "colorscale": [
             [
              0,
              "#0d0887"
             ],
             [
              0.1111111111111111,
              "#46039f"
             ],
             [
              0.2222222222222222,
              "#7201a8"
             ],
             [
              0.3333333333333333,
              "#9c179e"
             ],
             [
              0.4444444444444444,
              "#bd3786"
             ],
             [
              0.5555555555555556,
              "#d8576b"
             ],
             [
              0.6666666666666666,
              "#ed7953"
             ],
             [
              0.7777777777777778,
              "#fb9f3a"
             ],
             [
              0.8888888888888888,
              "#fdca26"
             ],
             [
              1,
              "#f0f921"
             ]
            ],
            "type": "histogram2dcontour"
           }
          ],
          "mesh3d": [
           {
            "colorbar": {
             "outlinewidth": 0,
             "ticks": ""
            },
            "type": "mesh3d"
           }
          ],
          "parcoords": [
           {
            "line": {
             "colorbar": {
              "outlinewidth": 0,
              "ticks": ""
             }
            },
            "type": "parcoords"
           }
          ],
          "pie": [
           {
            "automargin": true,
            "type": "pie"
           }
          ],
          "scatter": [
           {
            "fillpattern": {
             "fillmode": "overlay",
             "size": 10,
             "solidity": 0.2
            },
            "type": "scatter"
           }
          ],
          "scatter3d": [
           {
            "line": {
             "colorbar": {
              "outlinewidth": 0,
              "ticks": ""
             }
            },
            "marker": {
             "colorbar": {
              "outlinewidth": 0,
              "ticks": ""
             }
            },
            "type": "scatter3d"
           }
          ],
          "scattercarpet": [
           {
            "marker": {
             "colorbar": {
              "outlinewidth": 0,
              "ticks": ""
             }
            },
            "type": "scattercarpet"
           }
          ],
          "scattergeo": [
           {
            "marker": {
             "colorbar": {
              "outlinewidth": 0,
              "ticks": ""
             }
            },
            "type": "scattergeo"
           }
          ],
          "scattergl": [
           {
            "marker": {
             "colorbar": {
              "outlinewidth": 0,
              "ticks": ""
             }
            },
            "type": "scattergl"
           }
          ],
          "scattermap": [
           {
            "marker": {
             "colorbar": {
              "outlinewidth": 0,
              "ticks": ""
             }
            },
            "type": "scattermap"
           }
          ],
          "scattermapbox": [
           {
            "marker": {
             "colorbar": {
              "outlinewidth": 0,
              "ticks": ""
             }
            },
            "type": "scattermapbox"
           }
          ],
          "scatterpolar": [
           {
            "marker": {
             "colorbar": {
              "outlinewidth": 0,
              "ticks": ""
             }
            },
            "type": "scatterpolar"
           }
          ],
          "scatterpolargl": [
           {
            "marker": {
             "colorbar": {
              "outlinewidth": 0,
              "ticks": ""
             }
            },
            "type": "scatterpolargl"
           }
          ],
          "scatterternary": [
           {
            "marker": {
             "colorbar": {
              "outlinewidth": 0,
              "ticks": ""
             }
            },
            "type": "scatterternary"
           }
          ],
          "surface": [
           {
            "colorbar": {
             "outlinewidth": 0,
             "ticks": ""
            },
            "colorscale": [
             [
              0,
              "#0d0887"
             ],
             [
              0.1111111111111111,
              "#46039f"
             ],
             [
              0.2222222222222222,
              "#7201a8"
             ],
             [
              0.3333333333333333,
              "#9c179e"
             ],
             [
              0.4444444444444444,
              "#bd3786"
             ],
             [
              0.5555555555555556,
              "#d8576b"
             ],
             [
              0.6666666666666666,
              "#ed7953"
             ],
             [
              0.7777777777777778,
              "#fb9f3a"
             ],
             [
              0.8888888888888888,
              "#fdca26"
             ],
             [
              1,
              "#f0f921"
             ]
            ],
            "type": "surface"
           }
          ],
          "table": [
           {
            "cells": {
             "fill": {
              "color": "#EBF0F8"
             },
             "line": {
              "color": "white"
             }
            },
            "header": {
             "fill": {
              "color": "#C8D4E3"
             },
             "line": {
              "color": "white"
             }
            },
            "type": "table"
           }
          ]
         },
         "layout": {
          "annotationdefaults": {
           "arrowcolor": "#2a3f5f",
           "arrowhead": 0,
           "arrowwidth": 1
          },
          "autotypenumbers": "strict",
          "coloraxis": {
           "colorbar": {
            "outlinewidth": 0,
            "ticks": ""
           }
          },
          "colorscale": {
           "diverging": [
            [
             0,
             "#8e0152"
            ],
            [
             0.1,
             "#c51b7d"
            ],
            [
             0.2,
             "#de77ae"
            ],
            [
             0.3,
             "#f1b6da"
            ],
            [
             0.4,
             "#fde0ef"
            ],
            [
             0.5,
             "#f7f7f7"
            ],
            [
             0.6,
             "#e6f5d0"
            ],
            [
             0.7,
             "#b8e186"
            ],
            [
             0.8,
             "#7fbc41"
            ],
            [
             0.9,
             "#4d9221"
            ],
            [
             1,
             "#276419"
            ]
           ],
           "sequential": [
            [
             0,
             "#0d0887"
            ],
            [
             0.1111111111111111,
             "#46039f"
            ],
            [
             0.2222222222222222,
             "#7201a8"
            ],
            [
             0.3333333333333333,
             "#9c179e"
            ],
            [
             0.4444444444444444,
             "#bd3786"
            ],
            [
             0.5555555555555556,
             "#d8576b"
            ],
            [
             0.6666666666666666,
             "#ed7953"
            ],
            [
             0.7777777777777778,
             "#fb9f3a"
            ],
            [
             0.8888888888888888,
             "#fdca26"
            ],
            [
             1,
             "#f0f921"
            ]
           ],
           "sequentialminus": [
            [
             0,
             "#0d0887"
            ],
            [
             0.1111111111111111,
             "#46039f"
            ],
            [
             0.2222222222222222,
             "#7201a8"
            ],
            [
             0.3333333333333333,
             "#9c179e"
            ],
            [
             0.4444444444444444,
             "#bd3786"
            ],
            [
             0.5555555555555556,
             "#d8576b"
            ],
            [
             0.6666666666666666,
             "#ed7953"
            ],
            [
             0.7777777777777778,
             "#fb9f3a"
            ],
            [
             0.8888888888888888,
             "#fdca26"
            ],
            [
             1,
             "#f0f921"
            ]
           ]
          },
          "colorway": [
           "#636efa",
           "#EF553B",
           "#00cc96",
           "#ab63fa",
           "#FFA15A",
           "#19d3f3",
           "#FF6692",
           "#B6E880",
           "#FF97FF",
           "#FECB52"
          ],
          "font": {
           "color": "#2a3f5f"
          },
          "geo": {
           "bgcolor": "white",
           "lakecolor": "white",
           "landcolor": "#E5ECF6",
           "showlakes": true,
           "showland": true,
           "subunitcolor": "white"
          },
          "hoverlabel": {
           "align": "left"
          },
          "hovermode": "closest",
          "mapbox": {
           "style": "light"
          },
          "paper_bgcolor": "white",
          "plot_bgcolor": "#E5ECF6",
          "polar": {
           "angularaxis": {
            "gridcolor": "white",
            "linecolor": "white",
            "ticks": ""
           },
           "bgcolor": "#E5ECF6",
           "radialaxis": {
            "gridcolor": "white",
            "linecolor": "white",
            "ticks": ""
           }
          },
          "scene": {
           "xaxis": {
            "backgroundcolor": "#E5ECF6",
            "gridcolor": "white",
            "gridwidth": 2,
            "linecolor": "white",
            "showbackground": true,
            "ticks": "",
            "zerolinecolor": "white"
           },
           "yaxis": {
            "backgroundcolor": "#E5ECF6",
            "gridcolor": "white",
            "gridwidth": 2,
            "linecolor": "white",
            "showbackground": true,
            "ticks": "",
            "zerolinecolor": "white"
           },
           "zaxis": {
            "backgroundcolor": "#E5ECF6",
            "gridcolor": "white",
            "gridwidth": 2,
            "linecolor": "white",
            "showbackground": true,
            "ticks": "",
            "zerolinecolor": "white"
           }
          },
          "shapedefaults": {
           "line": {
            "color": "#2a3f5f"
           }
          },
          "ternary": {
           "aaxis": {
            "gridcolor": "white",
            "linecolor": "white",
            "ticks": ""
           },
           "baxis": {
            "gridcolor": "white",
            "linecolor": "white",
            "ticks": ""
           },
           "bgcolor": "#E5ECF6",
           "caxis": {
            "gridcolor": "white",
            "linecolor": "white",
            "ticks": ""
           }
          },
          "title": {
           "x": 0.05
          },
          "xaxis": {
           "automargin": true,
           "gridcolor": "white",
           "linecolor": "white",
           "ticks": "",
           "title": {
            "standoff": 15
           },
           "zerolinecolor": "white",
           "zerolinewidth": 2
          },
          "yaxis": {
           "automargin": true,
           "gridcolor": "white",
           "linecolor": "white",
           "ticks": "",
           "title": {
            "standoff": 15
           },
           "zerolinecolor": "white",
           "zerolinewidth": 2
          }
         }
        },
        "title": {
         "text": "Iterrating through <b>Open Chromatin Weight</b> Scoring"
        },
        "xaxis": {
         "title": {
          "text": "Open Chromatin Weight"
         }
        },
        "yaxis": {
         "title": {
          "text": "Sum of Ranking of Mutations"
         }
        }
       }
      }
     },
     "metadata": {},
     "output_type": "display_data"
    }
   ],
   "source": [
    "# Iterate through the recurrence scoring.\n",
    "with open(\"../../examples/results/configuration_file.json\", \"r\") as f:\n",
    "    scoring_weights = json.load(f)\n",
    "    scoring_weights = scoring_weights[\"REMIND-Cancer_scoring_weights\"]\n",
    "\n",
    "# scoring_weights[\"genomic\"][\"recurrence\"][\"weight_maximum\"] = 10000\n",
    "\n",
    "weight_mapping = {\n",
    "    \"Recurrence Weight\": {\n",
    "        \"attribute\": [\"genomic\", \"recurrence\", \"weight_per_recurrent_mutation\"],\n",
    "        \"range\": np.linspace(1, 100, 100),\n",
    "        \"original_weight\": scoring_weights[\"genomic\"][\"recurrence\"][\"weight_per_recurrent_mutation\"],\n",
    "    },\n",
    "    \"Gene Expression Weight\": {\n",
    "        \"attribute\": [\"transcriptomic\", \"gene_expression\", \"weight_per_unit_of_expression\"],\n",
    "        \"range\": np.linspace(1, 100, 100),\n",
    "        \"original_weight\": scoring_weights[\"transcriptomic\"][\"gene_expression\"][\"weight_per_unit_of_expression\"],\n",
    "    },\n",
    "    \"Purity Weight\": {\n",
    "        \"attribute\": [\"genomic\", \"purity\", \"purity_weight\"],\n",
    "        \"range\": np.linspace(1, 100, 100),\n",
    "        \"original_weight\": scoring_weights[\"genomic\"][\"purity\"][\"purity_weight\"],\n",
    "    },\n",
    "    \"Transcription Factor Creation Weight\": {\n",
    "        \"attribute\": [\"genomic\", \"tfbs\", \"creation_weight_per_tfbs\"],\n",
    "        \"range\": np.linspace(1, 20, 100),\n",
    "        \"original_weight\": scoring_weights[\"genomic\"][\"tfbs\"][\"creation_weight_per_tfbs\"],\n",
    "    },\n",
    "    \"Transcription Factor Destruction Weight\": {\n",
    "        \"attribute\": [\"genomic\", \"tfbs\", \"destruction_weight_per_tfbs\"],\n",
    "        \"range\": np.linspace(1, 20, 100),\n",
    "        \"original_weight\": scoring_weights[\"genomic\"][\"tfbs\"][\"destruction_weight_per_tfbs\"],\n",
    "    },\n",
    "    \"Allele Frequency Weight\": {\n",
    "        \"attribute\": [\"genomic\", \"allele_frequency\", \"af_weight\"],\n",
    "        \"range\": np.linspace(1, 50, 100),\n",
    "        \"original_weight\": scoring_weights[\"genomic\"][\"allele_frequency\"][\"af_weight\"],\n",
    "    },\n",
    "    \"CGC Weight\": {\n",
    "        \"attribute\": [\"annotations\", \"cgc\", \"weight\"],\n",
    "        \"range\": np.linspace(1, 50, 100),\n",
    "        \"original_weight\": scoring_weights[\"annotations\"][\"cgc\"][\"weight\"],\n",
    "    },\n",
    "    \"Open Chromatin Weight\": {\n",
    "        \"attribute\": [\"annotations\", \"open_chromatin\", \"weight\"],\n",
    "        \"range\": np.linspace(1, 50, 100),\n",
    "        \"original_weight\": scoring_weights[\"annotations\"][\"open_chromatin\"][\"weight\"],\n",
    "    }\n",
    " }\n",
    "\n",
    "\n",
    "for name in weight_mapping:\n",
    "    fig = go.Figure()\n",
    "\n",
    "    for gene, position, color in [\n",
    "        (\"TERT\", 1295228, \"red\"), \n",
    "        (\"TERT\", 1295250, \"blue\"), \n",
    "        (\"RALY\", 32580927, \"green\"), \n",
    "        (\"CDC20\", 43824529, \"yellow\")\n",
    "    ]:\n",
    "        x_axis_scoring_range = weight_mapping[name][\"range\"]\n",
    "        y_axis_score = []\n",
    "\n",
    "        for x in tqdm(x_axis_scoring_range, desc=f\"Calculating scores for {gene} at position {position}\"):\n",
    "            scoring_weights_temp = deepcopy(scoring_weights)\n",
    "            scoring_weights_temp[\n",
    "                weight_mapping[name][\"attribute\"][0]\n",
    "            ][\n",
    "                weight_mapping[name][\"attribute\"][1]\n",
    "            ][\n",
    "                weight_mapping[name][\"attribute\"][2]\n",
    "            ] = x\n",
    "            data_temp = _add_remind_cancer_score(\n",
    "                dataframe=data.copy(),\n",
    "                remind_cancer_scoring_weights=scoring_weights_temp,\n",
    "                ge_column=\"FPKM_Z_score\"\n",
    "            )\n",
    "\n",
    "            y = get_rank_sum(data_temp, gene, position)\n",
    "            y_axis_score.append(y)\n",
    "\n",
    "        fig.add_trace(\n",
    "            go.Scatter(\n",
    "                x=x_axis_scoring_range,\n",
    "                y=y_axis_score,\n",
    "                mode=\"lines\",\n",
    "                name=f\"{gene} {position}\",\n",
    "                marker=dict(\n",
    "                    size=10,\n",
    "                    color=color,\n",
    "                )\n",
    "            )\n",
    "        )\n",
    "\n",
    "        # Add the best theoretical score.\n",
    "        best_score = np.sum(\n",
    "            data[\n",
    "                (data[\"GENE\"] == gene) & (data[\"POS\"] == position)\n",
    "            ].reset_index(drop=True).index + 1\n",
    "        )\n",
    "\n",
    "        fig.add_hline(\n",
    "            y=best_score,\n",
    "            line=dict(color=color, width=1, dash=\"dash\"),\n",
    "            # annotation_text=f\"Best Score: {best_score}\",\n",
    "            # name=f\"Best Score {gene} {position}\"\n",
    "        )\n",
    "\n",
    "    fig.update_layout(\n",
    "        title=f\"Iterrating through <b>{name}</b> Scoring\",\n",
    "        xaxis_title=name,\n",
    "        yaxis_title=\"Sum of Ranking of Mutations\",\n",
    "        showlegend=True\n",
    "    )\n",
    "\n",
    "    fig.add_vline(\n",
    "        x = weight_mapping[name][\"original_weight\"],\n",
    "        line=dict(color=\"black\", width=2, dash=\"dash\"),\n",
    "        annotation_text=f\"Original Weight: {weight_mapping[name]['original_weight']}\",\n",
    "    )\n",
    "\n",
    "    fig.show()"
   ]
  },
  {
   "cell_type": "code",
   "execution_count": 132,
   "id": "3e594544",
   "metadata": {},
   "outputs": [
    {
     "data": {
      "text/plain": [
       "np.float64(5.0)"
      ]
     },
     "execution_count": 132,
     "metadata": {},
     "output_type": "execute_result"
    }
   ],
   "source": [
    "x"
   ]
  },
  {
   "cell_type": "code",
   "execution_count": 133,
   "id": "9194c1cc",
   "metadata": {},
   "outputs": [
    {
     "data": {
      "text/plain": [
       "np.int64(62)"
      ]
     },
     "execution_count": 133,
     "metadata": {},
     "output_type": "execute_result"
    }
   ],
   "source": [
    "y"
   ]
  },
  {
   "cell_type": "code",
   "execution_count": 134,
   "id": "db68ff74",
   "metadata": {},
   "outputs": [
    {
     "data": {
      "text/html": [
       "<div>\n",
       "<style scoped>\n",
       "    .dataframe tbody tr th:only-of-type {\n",
       "        vertical-align: middle;\n",
       "    }\n",
       "\n",
       "    .dataframe tbody tr th {\n",
       "        vertical-align: top;\n",
       "    }\n",
       "\n",
       "    .dataframe thead th {\n",
       "        text-align: right;\n",
       "    }\n",
       "</style>\n",
       "<table border=\"1\" class=\"dataframe\">\n",
       "  <thead>\n",
       "    <tr style=\"text-align: right;\">\n",
       "      <th></th>\n",
       "      <th>score</th>\n",
       "      <th>pid</th>\n",
       "      <th>cohort</th>\n",
       "      <th>#CHROM</th>\n",
       "      <th>POS</th>\n",
       "      <th>GENE</th>\n",
       "      <th>SEQUENCE_CONTEXT</th>\n",
       "      <th>REF</th>\n",
       "      <th>ALT</th>\n",
       "      <th>strand</th>\n",
       "      <th>...</th>\n",
       "      <th>remaining_tfs</th>\n",
       "      <th>JASPAR2020_CORE_vertebrates_non_redundant(tf_name,binding_affinity,seq1,seq2,raw,zscore,log,tf_sequence_logo)</th>\n",
       "      <th>paths_with_recurrence(format=path,pid,cohort,bp,ref,alt,gene,chr,raw_score,zscore,log_score,confidence,purity,af,(tfs_seperated_by_//))</th>\n",
       "      <th>num_original_mutations</th>\n",
       "      <th>num_final_mutations</th>\n",
       "      <th>num_promoter_mutations</th>\n",
       "      <th>num_recurrent_mutations</th>\n",
       "      <th>cn_score</th>\n",
       "      <th>ranking</th>\n",
       "      <th>score_v2</th>\n",
       "    </tr>\n",
       "  </thead>\n",
       "  <tbody>\n",
       "    <tr>\n",
       "      <th>3</th>\n",
       "      <td>86.45</td>\n",
       "      <td>d692ecd0-2433-426b-9af2-a30c44a80f7c</td>\n",
       "      <td>THCA-US</td>\n",
       "      <td>5</td>\n",
       "      <td>1295228</td>\n",
       "      <td>TERT</td>\n",
       "      <td>AGGGCCCGGA,GGGGCTGGGC</td>\n",
       "      <td>G</td>\n",
       "      <td>A</td>\n",
       "      <td>-</td>\n",
       "      <td>...</td>\n",
       "      <td>TFAP2A,ELF1,ELF4,ETV6,KLF16,ZBTB7A,TFAP2B,TFAP...</td>\n",
       "      <td>TFAP2A,0.09557122923715045,GCCCCCTCCGGGCC,.,0....</td>\n",
       "      <td>87e0b332-60f3-4d59-8c4e-691a820c9ee1_tumor/snv...</td>\n",
       "      <td>1099</td>\n",
       "      <td>5</td>\n",
       "      <td>20</td>\n",
       "      <td>95</td>\n",
       "      <td>3</td>\n",
       "      <td>1</td>\n",
       "      <td>542.45</td>\n",
       "    </tr>\n",
       "    <tr>\n",
       "      <th>6</th>\n",
       "      <td>83.73</td>\n",
       "      <td>b8151614-b08f-49a3-ab6f-2e780f765a17</td>\n",
       "      <td>GBM-US</td>\n",
       "      <td>5</td>\n",
       "      <td>1295228</td>\n",
       "      <td>TERT</td>\n",
       "      <td>AGGGCCCGGA,GGGGCTGGGC</td>\n",
       "      <td>G</td>\n",
       "      <td>A</td>\n",
       "      <td>-</td>\n",
       "      <td>...</td>\n",
       "      <td>TFAP2A,ELF1,ELF4,ETV6,KLF16,ZBTB7A,TFAP2B,TFAP...</td>\n",
       "      <td>TFAP2A,0.09557122923715045,GCCCCCTCCGGGCC,.,0....</td>\n",
       "      <td>87e0b332-60f3-4d59-8c4e-691a820c9ee1_tumor/snv...</td>\n",
       "      <td>2788</td>\n",
       "      <td>11</td>\n",
       "      <td>55</td>\n",
       "      <td>95</td>\n",
       "      <td>not_available</td>\n",
       "      <td>2</td>\n",
       "      <td>539.73</td>\n",
       "    </tr>\n",
       "    <tr>\n",
       "      <th>5</th>\n",
       "      <td>85.00</td>\n",
       "      <td>1924d200-6929-4eef-8a7f-317f8fbab915</td>\n",
       "      <td>THCA-US</td>\n",
       "      <td>5</td>\n",
       "      <td>1295228</td>\n",
       "      <td>TERT</td>\n",
       "      <td>AGGGCCCGGA,GGGGCTGGGC</td>\n",
       "      <td>G</td>\n",
       "      <td>A</td>\n",
       "      <td>-</td>\n",
       "      <td>...</td>\n",
       "      <td>TFAP2A,ELF1,ELF4,ETV6,KLF16,SP8,ZBTB7A,TFAP2B,...</td>\n",
       "      <td>TFAP2A,0.09557122923715045,GCCCCCTCCGGGCC,.,0....</td>\n",
       "      <td>87e0b332-60f3-4d59-8c4e-691a820c9ee1_tumor/snv...</td>\n",
       "      <td>1715</td>\n",
       "      <td>8</td>\n",
       "      <td>63</td>\n",
       "      <td>95</td>\n",
       "      <td>not_available</td>\n",
       "      <td>3</td>\n",
       "      <td>539.38</td>\n",
       "    </tr>\n",
       "    <tr>\n",
       "      <th>8</th>\n",
       "      <td>82.39</td>\n",
       "      <td>5c02d399-07af-4573-a568-bc1b256bc8f8</td>\n",
       "      <td>THCA-US</td>\n",
       "      <td>5</td>\n",
       "      <td>1295228</td>\n",
       "      <td>TERT</td>\n",
       "      <td>AGGGCCCGGA,GGGGCTGGGC</td>\n",
       "      <td>G</td>\n",
       "      <td>A</td>\n",
       "      <td>-</td>\n",
       "      <td>...</td>\n",
       "      <td>TFAP2A,ELF1,ELF4,ETV6,KLF16,ZBTB7A,TFAP2B,TFAP...</td>\n",
       "      <td>TFAP2A,0.09557122923715045,GCCCCCTCCGGGCC,.,0....</td>\n",
       "      <td>87e0b332-60f3-4d59-8c4e-691a820c9ee1_tumor/snv...</td>\n",
       "      <td>965</td>\n",
       "      <td>3</td>\n",
       "      <td>22</td>\n",
       "      <td>95</td>\n",
       "      <td>not_available</td>\n",
       "      <td>4</td>\n",
       "      <td>538.39</td>\n",
       "    </tr>\n",
       "    <tr>\n",
       "      <th>10</th>\n",
       "      <td>81.89</td>\n",
       "      <td>96e3db14-2bb1-4f68-aed6-5e794750c96e</td>\n",
       "      <td>GBM-US</td>\n",
       "      <td>5</td>\n",
       "      <td>1295228</td>\n",
       "      <td>TERT</td>\n",
       "      <td>AGGGCCCGGA,GGGGCTGGGC</td>\n",
       "      <td>G</td>\n",
       "      <td>A</td>\n",
       "      <td>-</td>\n",
       "      <td>...</td>\n",
       "      <td>TFAP2A,ELF1,ELF4,ETV6,KLF16,ZBTB7A,TFAP2B,TFAP...</td>\n",
       "      <td>TFAP2A,0.09557122923715045,GCCCCCTCCGGGCC,.,0....</td>\n",
       "      <td>87e0b332-60f3-4d59-8c4e-691a820c9ee1_tumor/snv...</td>\n",
       "      <td>5102</td>\n",
       "      <td>32</td>\n",
       "      <td>141</td>\n",
       "      <td>95</td>\n",
       "      <td>not_available</td>\n",
       "      <td>5</td>\n",
       "      <td>537.89</td>\n",
       "    </tr>\n",
       "    <tr>\n",
       "      <th>...</th>\n",
       "      <td>...</td>\n",
       "      <td>...</td>\n",
       "      <td>...</td>\n",
       "      <td>...</td>\n",
       "      <td>...</td>\n",
       "      <td>...</td>\n",
       "      <td>...</td>\n",
       "      <td>...</td>\n",
       "      <td>...</td>\n",
       "      <td>...</td>\n",
       "      <td>...</td>\n",
       "      <td>...</td>\n",
       "      <td>...</td>\n",
       "      <td>...</td>\n",
       "      <td>...</td>\n",
       "      <td>...</td>\n",
       "      <td>...</td>\n",
       "      <td>...</td>\n",
       "      <td>...</td>\n",
       "      <td>...</td>\n",
       "      <td>...</td>\n",
       "    </tr>\n",
       "    <tr>\n",
       "      <th>993</th>\n",
       "      <td>52.13</td>\n",
       "      <td>14c5b81d-da49-4db1-9834-77711c2b1d38</td>\n",
       "      <td>READ-US</td>\n",
       "      <td>4</td>\n",
       "      <td>109090241</td>\n",
       "      <td>LEF1</td>\n",
       "      <td>TGATTGAGGG,TTTTTTTTCT</td>\n",
       "      <td>C</td>\n",
       "      <td>T</td>\n",
       "      <td>-</td>\n",
       "      <td>...</td>\n",
       "      <td>STAT1,STAT2</td>\n",
       "      <td>STAT1,9.92424,.,AGGGTTTTTTTTTCT,69.2928490212,...</td>\n",
       "      <td>.</td>\n",
       "      <td>548085</td>\n",
       "      <td>1685</td>\n",
       "      <td>7490</td>\n",
       "      <td>0</td>\n",
       "      <td>not_available</td>\n",
       "      <td>996</td>\n",
       "      <td>52.13</td>\n",
       "    </tr>\n",
       "    <tr>\n",
       "      <th>994</th>\n",
       "      <td>52.12</td>\n",
       "      <td>46693a2b-5105-4770-a9e1-031dfedeb694</td>\n",
       "      <td>LUAD-US</td>\n",
       "      <td>11</td>\n",
       "      <td>76493378</td>\n",
       "      <td>TSKU</td>\n",
       "      <td>TTTCTGCACC,CGAGGCCCTC</td>\n",
       "      <td>C</td>\n",
       "      <td>A</td>\n",
       "      <td>+</td>\n",
       "      <td>...</td>\n",
       "      <td>PLAG1,TFAP2B</td>\n",
       "      <td>TFAP2A,0.0837871805613741,AGGGCCTCGGGGTG,.,0.0...</td>\n",
       "      <td>.</td>\n",
       "      <td>20143</td>\n",
       "      <td>91</td>\n",
       "      <td>425</td>\n",
       "      <td>0</td>\n",
       "      <td>3</td>\n",
       "      <td>997</td>\n",
       "      <td>52.12</td>\n",
       "    </tr>\n",
       "    <tr>\n",
       "      <th>996</th>\n",
       "      <td>52.11</td>\n",
       "      <td>22edd867-dcd6-42b5-92bb-025ceb84b106</td>\n",
       "      <td>SKCM-US</td>\n",
       "      <td>2</td>\n",
       "      <td>119980904</td>\n",
       "      <td>STEAP3</td>\n",
       "      <td>ATTGGGGGGG,ACCACAAAGG</td>\n",
       "      <td>G</td>\n",
       "      <td>A</td>\n",
       "      <td>+</td>\n",
       "      <td>...</td>\n",
       "      <td>ZNF740,E2F8</td>\n",
       "      <td>RUNX1,11.6897,.,CTTTGTGGTTC,6.60147418021,0.68...</td>\n",
       "      <td>.</td>\n",
       "      <td>27192</td>\n",
       "      <td>125</td>\n",
       "      <td>502</td>\n",
       "      <td>0</td>\n",
       "      <td>3</td>\n",
       "      <td>998</td>\n",
       "      <td>52.11</td>\n",
       "    </tr>\n",
       "    <tr>\n",
       "      <th>997</th>\n",
       "      <td>52.10</td>\n",
       "      <td>d053f88f-09e6-472e-a691-bb293c461399</td>\n",
       "      <td>SKCM-US</td>\n",
       "      <td>4</td>\n",
       "      <td>37892372</td>\n",
       "      <td>TBC1D1</td>\n",
       "      <td>CCCCCCTATT,CCCCCACAGA</td>\n",
       "      <td>C</td>\n",
       "      <td>T</td>\n",
       "      <td>+</td>\n",
       "      <td>...</td>\n",
       "      <td>PLAG1,E2F7</td>\n",
       "      <td>PLAG1,0.15360511197812662,GGGGGGAATAGGGG,.,0.4...</td>\n",
       "      <td>.</td>\n",
       "      <td>19832</td>\n",
       "      <td>87</td>\n",
       "      <td>420</td>\n",
       "      <td>0</td>\n",
       "      <td>not_available</td>\n",
       "      <td>999</td>\n",
       "      <td>52.10</td>\n",
       "    </tr>\n",
       "    <tr>\n",
       "      <th>998</th>\n",
       "      <td>52.10</td>\n",
       "      <td>14c5b81d-da49-4db1-9834-77711c2b1d38</td>\n",
       "      <td>READ-US</td>\n",
       "      <td>1</td>\n",
       "      <td>226497910</td>\n",
       "      <td>LIN9</td>\n",
       "      <td>TGGGTGAATT,CAGGAACTAC</td>\n",
       "      <td>C</td>\n",
       "      <td>T</td>\n",
       "      <td>-</td>\n",
       "      <td>...</td>\n",
       "      <td>TEAD1,BCL6,BCL6B</td>\n",
       "      <td>TEAD1,0.09213447948625815,GTGAATTCCAGGA,.,5.62...</td>\n",
       "      <td>.</td>\n",
       "      <td>548085</td>\n",
       "      <td>1685</td>\n",
       "      <td>7490</td>\n",
       "      <td>0</td>\n",
       "      <td>not_available</td>\n",
       "      <td>1000</td>\n",
       "      <td>52.10</td>\n",
       "    </tr>\n",
       "  </tbody>\n",
       "</table>\n",
       "<p>1000 rows × 31 columns</p>\n",
       "</div>"
      ],
      "text/plain": [
       "     score                                   pid   cohort #CHROM        POS  \\\n",
       "3    86.45  d692ecd0-2433-426b-9af2-a30c44a80f7c  THCA-US      5    1295228   \n",
       "6    83.73  b8151614-b08f-49a3-ab6f-2e780f765a17   GBM-US      5    1295228   \n",
       "5    85.00  1924d200-6929-4eef-8a7f-317f8fbab915  THCA-US      5    1295228   \n",
       "8    82.39  5c02d399-07af-4573-a568-bc1b256bc8f8  THCA-US      5    1295228   \n",
       "10   81.89  96e3db14-2bb1-4f68-aed6-5e794750c96e   GBM-US      5    1295228   \n",
       "..     ...                                   ...      ...    ...        ...   \n",
       "993  52.13  14c5b81d-da49-4db1-9834-77711c2b1d38  READ-US      4  109090241   \n",
       "994  52.12  46693a2b-5105-4770-a9e1-031dfedeb694  LUAD-US     11   76493378   \n",
       "996  52.11  22edd867-dcd6-42b5-92bb-025ceb84b106  SKCM-US      2  119980904   \n",
       "997  52.10  d053f88f-09e6-472e-a691-bb293c461399  SKCM-US      4   37892372   \n",
       "998  52.10  14c5b81d-da49-4db1-9834-77711c2b1d38  READ-US      1  226497910   \n",
       "\n",
       "       GENE       SEQUENCE_CONTEXT REF ALT strand  ...  \\\n",
       "3      TERT  AGGGCCCGGA,GGGGCTGGGC   G   A      -  ...   \n",
       "6      TERT  AGGGCCCGGA,GGGGCTGGGC   G   A      -  ...   \n",
       "5      TERT  AGGGCCCGGA,GGGGCTGGGC   G   A      -  ...   \n",
       "8      TERT  AGGGCCCGGA,GGGGCTGGGC   G   A      -  ...   \n",
       "10     TERT  AGGGCCCGGA,GGGGCTGGGC   G   A      -  ...   \n",
       "..      ...                    ...  ..  ..    ...  ...   \n",
       "993    LEF1  TGATTGAGGG,TTTTTTTTCT   C   T      -  ...   \n",
       "994    TSKU  TTTCTGCACC,CGAGGCCCTC   C   A      +  ...   \n",
       "996  STEAP3  ATTGGGGGGG,ACCACAAAGG   G   A      +  ...   \n",
       "997  TBC1D1  CCCCCCTATT,CCCCCACAGA   C   T      +  ...   \n",
       "998    LIN9  TGGGTGAATT,CAGGAACTAC   C   T      -  ...   \n",
       "\n",
       "                                         remaining_tfs  \\\n",
       "3    TFAP2A,ELF1,ELF4,ETV6,KLF16,ZBTB7A,TFAP2B,TFAP...   \n",
       "6    TFAP2A,ELF1,ELF4,ETV6,KLF16,ZBTB7A,TFAP2B,TFAP...   \n",
       "5    TFAP2A,ELF1,ELF4,ETV6,KLF16,SP8,ZBTB7A,TFAP2B,...   \n",
       "8    TFAP2A,ELF1,ELF4,ETV6,KLF16,ZBTB7A,TFAP2B,TFAP...   \n",
       "10   TFAP2A,ELF1,ELF4,ETV6,KLF16,ZBTB7A,TFAP2B,TFAP...   \n",
       "..                                                 ...   \n",
       "993                                        STAT1,STAT2   \n",
       "994                                       PLAG1,TFAP2B   \n",
       "996                                        ZNF740,E2F8   \n",
       "997                                         PLAG1,E2F7   \n",
       "998                                   TEAD1,BCL6,BCL6B   \n",
       "\n",
       "     JASPAR2020_CORE_vertebrates_non_redundant(tf_name,binding_affinity,seq1,seq2,raw,zscore,log,tf_sequence_logo)  \\\n",
       "3    TFAP2A,0.09557122923715045,GCCCCCTCCGGGCC,.,0....                                                               \n",
       "6    TFAP2A,0.09557122923715045,GCCCCCTCCGGGCC,.,0....                                                               \n",
       "5    TFAP2A,0.09557122923715045,GCCCCCTCCGGGCC,.,0....                                                               \n",
       "8    TFAP2A,0.09557122923715045,GCCCCCTCCGGGCC,.,0....                                                               \n",
       "10   TFAP2A,0.09557122923715045,GCCCCCTCCGGGCC,.,0....                                                               \n",
       "..                                                 ...                                                               \n",
       "993  STAT1,9.92424,.,AGGGTTTTTTTTTCT,69.2928490212,...                                                               \n",
       "994  TFAP2A,0.0837871805613741,AGGGCCTCGGGGTG,.,0.0...                                                               \n",
       "996  RUNX1,11.6897,.,CTTTGTGGTTC,6.60147418021,0.68...                                                               \n",
       "997  PLAG1,0.15360511197812662,GGGGGGAATAGGGG,.,0.4...                                                               \n",
       "998  TEAD1,0.09213447948625815,GTGAATTCCAGGA,.,5.62...                                                               \n",
       "\n",
       "     paths_with_recurrence(format=path,pid,cohort,bp,ref,alt,gene,chr,raw_score,zscore,log_score,confidence,purity,af,(tfs_seperated_by_//))  \\\n",
       "3    87e0b332-60f3-4d59-8c4e-691a820c9ee1_tumor/snv...                                                                                         \n",
       "6    87e0b332-60f3-4d59-8c4e-691a820c9ee1_tumor/snv...                                                                                         \n",
       "5    87e0b332-60f3-4d59-8c4e-691a820c9ee1_tumor/snv...                                                                                         \n",
       "8    87e0b332-60f3-4d59-8c4e-691a820c9ee1_tumor/snv...                                                                                         \n",
       "10   87e0b332-60f3-4d59-8c4e-691a820c9ee1_tumor/snv...                                                                                         \n",
       "..                                                 ...                                                                                         \n",
       "993                                                  .                                                                                         \n",
       "994                                                  .                                                                                         \n",
       "996                                                  .                                                                                         \n",
       "997                                                  .                                                                                         \n",
       "998                                                  .                                                                                         \n",
       "\n",
       "     num_original_mutations  num_final_mutations num_promoter_mutations  \\\n",
       "3                      1099                    5                     20   \n",
       "6                      2788                   11                     55   \n",
       "5                      1715                    8                     63   \n",
       "8                       965                    3                     22   \n",
       "10                     5102                   32                    141   \n",
       "..                      ...                  ...                    ...   \n",
       "993                  548085                 1685                   7490   \n",
       "994                   20143                   91                    425   \n",
       "996                   27192                  125                    502   \n",
       "997                   19832                   87                    420   \n",
       "998                  548085                 1685                   7490   \n",
       "\n",
       "     num_recurrent_mutations       cn_score  ranking score_v2  \n",
       "3                         95              3        1   542.45  \n",
       "6                         95  not_available        2   539.73  \n",
       "5                         95  not_available        3   539.38  \n",
       "8                         95  not_available        4   538.39  \n",
       "10                        95  not_available        5   537.89  \n",
       "..                       ...            ...      ...      ...  \n",
       "993                        0  not_available      996    52.13  \n",
       "994                        0              3      997    52.12  \n",
       "996                        0              3      998    52.11  \n",
       "997                        0  not_available      999    52.10  \n",
       "998                        0  not_available     1000    52.10  \n",
       "\n",
       "[1000 rows x 31 columns]"
      ]
     },
     "execution_count": 134,
     "metadata": {},
     "output_type": "execute_result"
    }
   ],
   "source": [
    "data_temp"
   ]
  },
  {
   "cell_type": "code",
   "execution_count": 135,
   "id": "ebeb0614",
   "metadata": {},
   "outputs": [
    {
     "data": {
      "text/plain": [
       "np.int64(62)"
      ]
     },
     "execution_count": 135,
     "metadata": {},
     "output_type": "execute_result"
    }
   ],
   "source": [
    "get_rank_sum(data_temp, gene, position)"
   ]
  },
  {
   "cell_type": "markdown",
   "id": "9946b842",
   "metadata": {},
   "source": [
    "# Try the mean, median, min and max of the scores.\n",
    "\n"
   ]
  },
  {
   "cell_type": "code",
   "execution_count": 102,
   "id": "d8c94002",
   "metadata": {},
   "outputs": [
    {
     "data": {
      "application/vnd.jupyter.widget-view+json": {
       "model_id": "65e7e7eaa35d41a594578e46102cfd16",
       "version_major": 2,
       "version_minor": 0
      },
      "text/plain": [
       "Recurrence Weight: TERT 1295228:   0%|          | 0/100 [00:00<?, ?it/s]"
      ]
     },
     "metadata": {},
     "output_type": "display_data"
    },
    {
     "data": {
      "application/vnd.jupyter.widget-view+json": {
       "model_id": "c33aa4abbd1c4546a46e6895d32316a0",
       "version_major": 2,
       "version_minor": 0
      },
      "text/plain": [
       "Recurrence Weight: TERT 1295250:   0%|          | 0/100 [00:00<?, ?it/s]"
      ]
     },
     "metadata": {},
     "output_type": "display_data"
    },
    {
     "data": {
      "application/vnd.jupyter.widget-view+json": {
       "model_id": "3fd272a2bee34117aa92de1687260a33",
       "version_major": 2,
       "version_minor": 0
      },
      "text/plain": [
       "Recurrence Weight: RALY 32580927:   0%|          | 0/100 [00:00<?, ?it/s]"
      ]
     },
     "metadata": {},
     "output_type": "display_data"
    },
    {
     "data": {
      "application/vnd.jupyter.widget-view+json": {
       "model_id": "44565d7c90b742329cb13947e9148c21",
       "version_major": 2,
       "version_minor": 0
      },
      "text/plain": [
       "Recurrence Weight: CDC20 43824529:   0%|          | 0/100 [00:00<?, ?it/s]"
      ]
     },
     "metadata": {},
     "output_type": "display_data"
    },
    {
     "data": {
      "application/vnd.jupyter.widget-view+json": {
       "model_id": "7ca5cfb073384125b9dbb1d12e6ed5e7",
       "version_major": 2,
       "version_minor": 0
      },
      "text/plain": [
       "Gene Expression Weight: TERT 1295228:   0%|          | 0/100 [00:00<?, ?it/s]"
      ]
     },
     "metadata": {},
     "output_type": "display_data"
    },
    {
     "data": {
      "application/vnd.jupyter.widget-view+json": {
       "model_id": "f43d2236faa140d3b620f318c0258279",
       "version_major": 2,
       "version_minor": 0
      },
      "text/plain": [
       "Gene Expression Weight: TERT 1295250:   0%|          | 0/100 [00:00<?, ?it/s]"
      ]
     },
     "metadata": {},
     "output_type": "display_data"
    },
    {
     "data": {
      "application/vnd.jupyter.widget-view+json": {
       "model_id": "6c4615d51feb490cacb357e6dbe605e8",
       "version_major": 2,
       "version_minor": 0
      },
      "text/plain": [
       "Gene Expression Weight: RALY 32580927:   0%|          | 0/100 [00:00<?, ?it/s]"
      ]
     },
     "metadata": {},
     "output_type": "display_data"
    },
    {
     "data": {
      "application/vnd.jupyter.widget-view+json": {
       "model_id": "c4cec97cc33c46abb91e13760ff35f0f",
       "version_major": 2,
       "version_minor": 0
      },
      "text/plain": [
       "Gene Expression Weight: CDC20 43824529:   0%|          | 0/100 [00:00<?, ?it/s]"
      ]
     },
     "metadata": {},
     "output_type": "display_data"
    },
    {
     "data": {
      "application/vnd.jupyter.widget-view+json": {
       "model_id": "89c327880c18431e9d9f74b1b8490cce",
       "version_major": 2,
       "version_minor": 0
      },
      "text/plain": [
       "Purity Weight: TERT 1295228:   0%|          | 0/100 [00:00<?, ?it/s]"
      ]
     },
     "metadata": {},
     "output_type": "display_data"
    },
    {
     "data": {
      "application/vnd.jupyter.widget-view+json": {
       "model_id": "8c14acc0e9b045c7821d914ced5d3c5a",
       "version_major": 2,
       "version_minor": 0
      },
      "text/plain": [
       "Purity Weight: TERT 1295250:   0%|          | 0/100 [00:00<?, ?it/s]"
      ]
     },
     "metadata": {},
     "output_type": "display_data"
    },
    {
     "data": {
      "application/vnd.jupyter.widget-view+json": {
       "model_id": "e580d283b7b040858012c566cbfde0c2",
       "version_major": 2,
       "version_minor": 0
      },
      "text/plain": [
       "Purity Weight: RALY 32580927:   0%|          | 0/100 [00:00<?, ?it/s]"
      ]
     },
     "metadata": {},
     "output_type": "display_data"
    },
    {
     "data": {
      "application/vnd.jupyter.widget-view+json": {
       "model_id": "40147820e03d42b1844abe949ec73944",
       "version_major": 2,
       "version_minor": 0
      },
      "text/plain": [
       "Purity Weight: CDC20 43824529:   0%|          | 0/100 [00:00<?, ?it/s]"
      ]
     },
     "metadata": {},
     "output_type": "display_data"
    },
    {
     "data": {
      "application/vnd.jupyter.widget-view+json": {
       "model_id": "75bb3990a3c044c5b831744df29ac392",
       "version_major": 2,
       "version_minor": 0
      },
      "text/plain": [
       "Transcription Factor Creation Weight: TERT 1295228:   0%|          | 0/100 [00:00<?, ?it/s]"
      ]
     },
     "metadata": {},
     "output_type": "display_data"
    },
    {
     "data": {
      "application/vnd.jupyter.widget-view+json": {
       "model_id": "a591c36947614e6d9f865c9cc23d8494",
       "version_major": 2,
       "version_minor": 0
      },
      "text/plain": [
       "Transcription Factor Creation Weight: TERT 1295250:   0%|          | 0/100 [00:00<?, ?it/s]"
      ]
     },
     "metadata": {},
     "output_type": "display_data"
    },
    {
     "data": {
      "application/vnd.jupyter.widget-view+json": {
       "model_id": "151f4907303941f688f993c472da8043",
       "version_major": 2,
       "version_minor": 0
      },
      "text/plain": [
       "Transcription Factor Creation Weight: RALY 32580927:   0%|          | 0/100 [00:00<?, ?it/s]"
      ]
     },
     "metadata": {},
     "output_type": "display_data"
    },
    {
     "data": {
      "application/vnd.jupyter.widget-view+json": {
       "model_id": "6120cb30ea2a49ee8d9d5e8885487a20",
       "version_major": 2,
       "version_minor": 0
      },
      "text/plain": [
       "Transcription Factor Creation Weight: CDC20 43824529:   0%|          | 0/100 [00:00<?, ?it/s]"
      ]
     },
     "metadata": {},
     "output_type": "display_data"
    },
    {
     "data": {
      "application/vnd.jupyter.widget-view+json": {
       "model_id": "e8874c1552ec43a9b2218b0424743bb9",
       "version_major": 2,
       "version_minor": 0
      },
      "text/plain": [
       "Transcription Factor Destruction Weight: TERT 1295228:   0%|          | 0/100 [00:00<?, ?it/s]"
      ]
     },
     "metadata": {},
     "output_type": "display_data"
    },
    {
     "data": {
      "application/vnd.jupyter.widget-view+json": {
       "model_id": "4315234045ab494aa70a8e3e1d99620e",
       "version_major": 2,
       "version_minor": 0
      },
      "text/plain": [
       "Transcription Factor Destruction Weight: TERT 1295250:   0%|          | 0/100 [00:00<?, ?it/s]"
      ]
     },
     "metadata": {},
     "output_type": "display_data"
    },
    {
     "data": {
      "application/vnd.jupyter.widget-view+json": {
       "model_id": "3dd4a0e6b5194a53b7732f81cae14ec1",
       "version_major": 2,
       "version_minor": 0
      },
      "text/plain": [
       "Transcription Factor Destruction Weight: RALY 32580927:   0%|          | 0/100 [00:00<?, ?it/s]"
      ]
     },
     "metadata": {},
     "output_type": "display_data"
    },
    {
     "data": {
      "application/vnd.jupyter.widget-view+json": {
       "model_id": "2cf45e857fcd48c2b6c00dbdab5de2c0",
       "version_major": 2,
       "version_minor": 0
      },
      "text/plain": [
       "Transcription Factor Destruction Weight: CDC20 43824529:   0%|          | 0/100 [00:00<?, ?it/s]"
      ]
     },
     "metadata": {},
     "output_type": "display_data"
    },
    {
     "data": {
      "application/vnd.jupyter.widget-view+json": {
       "model_id": "9fd7363b2c4144588800f0de08db3297",
       "version_major": 2,
       "version_minor": 0
      },
      "text/plain": [
       "Allele Frequency Weight: TERT 1295228:   0%|          | 0/100 [00:00<?, ?it/s]"
      ]
     },
     "metadata": {},
     "output_type": "display_data"
    },
    {
     "data": {
      "application/vnd.jupyter.widget-view+json": {
       "model_id": "74e819dec7d64806a4b489aade3bc836",
       "version_major": 2,
       "version_minor": 0
      },
      "text/plain": [
       "Allele Frequency Weight: TERT 1295250:   0%|          | 0/100 [00:00<?, ?it/s]"
      ]
     },
     "metadata": {},
     "output_type": "display_data"
    },
    {
     "data": {
      "application/vnd.jupyter.widget-view+json": {
       "model_id": "3557ff88478c4f689017a17471bf608c",
       "version_major": 2,
       "version_minor": 0
      },
      "text/plain": [
       "Allele Frequency Weight: RALY 32580927:   0%|          | 0/100 [00:00<?, ?it/s]"
      ]
     },
     "metadata": {},
     "output_type": "display_data"
    },
    {
     "data": {
      "application/vnd.jupyter.widget-view+json": {
       "model_id": "3fd1db3fc0f643beb584a567dfc0dab0",
       "version_major": 2,
       "version_minor": 0
      },
      "text/plain": [
       "Allele Frequency Weight: CDC20 43824529:   0%|          | 0/100 [00:00<?, ?it/s]"
      ]
     },
     "metadata": {},
     "output_type": "display_data"
    },
    {
     "data": {
      "application/vnd.jupyter.widget-view+json": {
       "model_id": "43413c911baf4301a66c1e4d5aab06f6",
       "version_major": 2,
       "version_minor": 0
      },
      "text/plain": [
       "CGC Weight: TERT 1295228:   0%|          | 0/100 [00:00<?, ?it/s]"
      ]
     },
     "metadata": {},
     "output_type": "display_data"
    },
    {
     "data": {
      "application/vnd.jupyter.widget-view+json": {
       "model_id": "92ed40cf012f491ab6708a34876cefa9",
       "version_major": 2,
       "version_minor": 0
      },
      "text/plain": [
       "CGC Weight: TERT 1295250:   0%|          | 0/100 [00:00<?, ?it/s]"
      ]
     },
     "metadata": {},
     "output_type": "display_data"
    },
    {
     "data": {
      "application/vnd.jupyter.widget-view+json": {
       "model_id": "f9b3f91e46ec4a18aabd13d26c025f03",
       "version_major": 2,
       "version_minor": 0
      },
      "text/plain": [
       "CGC Weight: RALY 32580927:   0%|          | 0/100 [00:00<?, ?it/s]"
      ]
     },
     "metadata": {},
     "output_type": "display_data"
    },
    {
     "data": {
      "application/vnd.jupyter.widget-view+json": {
       "model_id": "00f38841a73b47068ba621c0ec1857d4",
       "version_major": 2,
       "version_minor": 0
      },
      "text/plain": [
       "CGC Weight: CDC20 43824529:   0%|          | 0/100 [00:00<?, ?it/s]"
      ]
     },
     "metadata": {},
     "output_type": "display_data"
    },
    {
     "data": {
      "application/vnd.jupyter.widget-view+json": {
       "model_id": "657ee681ab844e82ae65f8ce46ae71ef",
       "version_major": 2,
       "version_minor": 0
      },
      "text/plain": [
       "Open Chromatin Weight: TERT 1295228:   0%|          | 0/100 [00:00<?, ?it/s]"
      ]
     },
     "metadata": {},
     "output_type": "display_data"
    },
    {
     "data": {
      "application/vnd.jupyter.widget-view+json": {
       "model_id": "268a3dca958e46bc9f69141ebd087509",
       "version_major": 2,
       "version_minor": 0
      },
      "text/plain": [
       "Open Chromatin Weight: TERT 1295250:   0%|          | 0/100 [00:00<?, ?it/s]"
      ]
     },
     "metadata": {},
     "output_type": "display_data"
    },
    {
     "data": {
      "application/vnd.jupyter.widget-view+json": {
       "model_id": "a481d32d61a346ff8edf08374e242e86",
       "version_major": 2,
       "version_minor": 0
      },
      "text/plain": [
       "Open Chromatin Weight: RALY 32580927:   0%|          | 0/100 [00:00<?, ?it/s]"
      ]
     },
     "metadata": {},
     "output_type": "display_data"
    },
    {
     "data": {
      "application/vnd.jupyter.widget-view+json": {
       "model_id": "bf6e531417eb4f6eadf9c9fd4e6609c5",
       "version_major": 2,
       "version_minor": 0
      },
      "text/plain": [
       "Open Chromatin Weight: CDC20 43824529:   0%|          | 0/100 [00:00<?, ?it/s]"
      ]
     },
     "metadata": {},
     "output_type": "display_data"
    }
   ],
   "source": [
    "# Iterate through the recurrence scoring.\n",
    "with open(\"../../examples/results/configuration_file.json\", \"r\") as f:\n",
    "    scoring_weights = json.load(f)\n",
    "    scoring_weights = scoring_weights[\"REMIND-Cancer_scoring_weights\"]\n",
    "\n",
    "# scoring_weights[\"genomic\"][\"recurrence\"][\"weight_maximum\"] = 10000\n",
    "\n",
    "weight_mapping = {\n",
    "    \"Recurrence Weight\": {\n",
    "        \"attribute\": [\"genomic\", \"recurrence\", \"weight_per_recurrent_mutation\"],\n",
    "        \"range\": np.linspace(1, 100, 100),\n",
    "        \"original_weight\": scoring_weights[\"genomic\"][\"recurrence\"][\"weight_per_recurrent_mutation\"],\n",
    "    },\n",
    "    \"Gene Expression Weight\": {\n",
    "        \"attribute\": [\"transcriptomic\", \"gene_expression\", \"weight_per_unit_of_expression\"],\n",
    "        \"range\": np.linspace(1, 100, 100),\n",
    "        \"original_weight\": scoring_weights[\"transcriptomic\"][\"gene_expression\"][\"weight_per_unit_of_expression\"],\n",
    "    },\n",
    "    \"Purity Weight\": {\n",
    "        \"attribute\": [\"genomic\", \"purity\", \"purity_weight\"],\n",
    "        \"range\": np.linspace(1, 100, 100),\n",
    "        \"original_weight\": scoring_weights[\"genomic\"][\"purity\"][\"purity_weight\"],\n",
    "    },\n",
    "    \"Transcription Factor Creation Weight\": {\n",
    "        \"attribute\": [\"genomic\", \"tfbs\", \"creation_weight_per_tfbs\"],\n",
    "        \"range\": np.linspace(1, 20, 100),\n",
    "        \"original_weight\": scoring_weights[\"genomic\"][\"tfbs\"][\"creation_weight_per_tfbs\"],\n",
    "    },\n",
    "    \"Transcription Factor Destruction Weight\": {\n",
    "        \"attribute\": [\"genomic\", \"tfbs\", \"destruction_weight_per_tfbs\"],\n",
    "        \"range\": np.linspace(1, 20, 100),\n",
    "        \"original_weight\": scoring_weights[\"genomic\"][\"tfbs\"][\"destruction_weight_per_tfbs\"],\n",
    "    },\n",
    "    \"Allele Frequency Weight\": {\n",
    "        \"attribute\": [\"genomic\", \"allele_frequency\", \"af_weight\"],\n",
    "        \"range\": np.linspace(1, 50, 100),\n",
    "        \"original_weight\": scoring_weights[\"genomic\"][\"allele_frequency\"][\"af_weight\"],\n",
    "    },\n",
    "    \"CGC Weight\": {\n",
    "        \"attribute\": [\"annotations\", \"cgc\", \"weight\"],\n",
    "        \"range\": np.linspace(1, 50, 100),\n",
    "        \"original_weight\": scoring_weights[\"annotations\"][\"cgc\"][\"weight\"],\n",
    "    },\n",
    "    \"Open Chromatin Weight\": {\n",
    "        \"attribute\": [\"annotations\", \"open_chromatin\", \"weight\"],\n",
    "        \"range\": np.linspace(1, 50, 100),\n",
    "        \"original_weight\": scoring_weights[\"annotations\"][\"open_chromatin\"][\"weight\"],\n",
    "    }\n",
    " }\n",
    "\n",
    "\n",
    "for name in weight_mapping:\n",
    "    fig = go.Figure()\n",
    "\n",
    "    means = {}\n",
    "    medians = {}\n",
    "    mins = {}\n",
    "    maxes = {}\n",
    "    for gene, position, color in [\n",
    "        (\"TERT\", 1295228, \"red\"), \n",
    "        (\"TERT\", 1295250, \"blue\"), \n",
    "        (\"RALY\", 32580927, \"green\"), \n",
    "        (\"CDC20\", 43824529, \"yellow\")\n",
    "    ]:\n",
    "        if gene not in means:\n",
    "            means[gene] = {}\n",
    "            medians[gene] = {}\n",
    "            mins[gene] = {}\n",
    "            maxes[gene] = {}\n",
    "        \n",
    "        if position not in means[gene]:\n",
    "            means[gene][position] = []\n",
    "            medians[gene][position] = []\n",
    "            mins[gene][position] = []\n",
    "            maxes[gene][position] = []\n",
    "\n",
    "        x_axis_scoring_range = weight_mapping[name][\"range\"]\n",
    "        y_axis_score = []\n",
    "\n",
    "        for x in tqdm(x_axis_scoring_range, desc=f\"{name}: {gene} {position}\"):\n",
    "            scoring_weights_temp = deepcopy(scoring_weights)\n",
    "            scoring_weights_temp[\n",
    "                weight_mapping[name][\"attribute\"][0]\n",
    "            ][\n",
    "                weight_mapping[name][\"attribute\"][1]\n",
    "            ][\n",
    "                weight_mapping[name][\"attribute\"][2]\n",
    "            ] = x\n",
    "            data_temp = _add_remind_cancer_score(\n",
    "                dataframe=data.copy(),\n",
    "                remind_cancer_scoring_weights=scoring_weights_temp,\n",
    "                ge_column=\"FPKM_Z_score\"\n",
    "            )\n",
    "\n",
    "            data_temp = data_temp.sort_values(\"score_v2\", ascending=False, inplace=False)\n",
    "            data_temp = data_temp.reset_index(drop=True)\n",
    "\n",
    "            # Get the median rank.\n",
    "            median = np.median(list(data_temp[(data_temp[\"GENE\"] == gene) & (data_temp[\"POS\"] == position)].index))\n",
    "            mean = np.mean(list(data_temp[(data_temp[\"GENE\"] == gene) & (data_temp[\"POS\"] == position)].index))\n",
    "            min = np.min(list(data_temp[(data_temp[\"GENE\"] == gene) & (data_temp[\"POS\"] == position)].index))\n",
    "            max = np.max(list(data_temp[(data_temp[\"GENE\"] == gene) & (data_temp[\"POS\"] == position)].index))\n",
    "\n",
    "            means[gene][position].append(mean)\n",
    "            medians[gene][position].append(median)\n",
    "            mins[gene][position].append(min)\n",
    "            maxes[gene][position].append(max)\n",
    "\n",
    "        create_subplots(medians, means, mins, maxes, name)\n"
   ]
  },
  {
   "cell_type": "code",
   "execution_count": 101,
   "id": "fe25094f",
   "metadata": {},
   "outputs": [],
   "source": [
    "# For each gene and position, plot the four graphs in a plotly subplot.\n",
    "import plotly.subplots as sp\n",
    "\n",
    "def create_subplots(medians, means, mins, maxes, name):\n",
    "    \"\"\"\n",
    "    Create subplots for the given means, medians, mins, and maxes.\n",
    "    \"\"\"\n",
    "    fig = sp.make_subplots(\n",
    "        rows=2, cols=2,\n",
    "        subplot_titles=[\n",
    "            \"Mean Rank\", \"Median Rank\",\n",
    "            \"Min Rank\", \"Max Rank\"\n",
    "        ],\n",
    "    )\n",
    "\n",
    "    # Plot the mean rank.\n",
    "    fig.add_trace(\n",
    "        go.Scatter(\n",
    "            x=weight_mapping[name][\"range\"],\n",
    "            y=means[gene][position],\n",
    "            mode=\"lines\",\n",
    "            name=f\"{gene} {position} Mean Rank\",\n",
    "            marker=dict(size=10, color=\"blue\")\n",
    "        ),\n",
    "        row=1, col=1\n",
    "    )\n",
    "    # Also, add a vertical line for the original weight.\n",
    "    fig.add_vline(\n",
    "        x=weight_mapping[name][\"original_weight\"],\n",
    "        line=dict(color=\"black\", width=2, dash=\"dash\"),\n",
    "    )\n",
    "\n",
    "    # Plot the median rank.\n",
    "    fig.add_trace(\n",
    "        go.Scatter(\n",
    "            x=weight_mapping[name][\"range\"],\n",
    "            y=medians[gene][position],\n",
    "            mode=\"lines\",\n",
    "            name=f\"{gene} {position} Median Rank\",\n",
    "            marker=dict(size=10, color=\"orange\")\n",
    "        ),\n",
    "        row=1, col=2\n",
    "    )\n",
    "    # Also, add a vertical line for the original weight.\n",
    "    fig.add_vline(\n",
    "        x=weight_mapping[name][\"original_weight\"],\n",
    "        line=dict(color=\"black\", width=2, dash=\"dash\"),\n",
    "    )\n",
    "\n",
    "    # Plot the min rank.\n",
    "    fig.add_trace(\n",
    "        go.Scatter(\n",
    "            x=weight_mapping[name][\"range\"],\n",
    "            y=mins[gene][position],\n",
    "            mode=\"lines\",\n",
    "            name=f\"{gene} {position} Min Rank\",\n",
    "            marker=dict(size=10, color=\"green\")\n",
    "        ),\n",
    "        row=2, col=1\n",
    "    )\n",
    "    # Also, add a vertical line for the original weight.\n",
    "    fig.add_vline(\n",
    "        x=weight_mapping[name][\"original_weight\"],\n",
    "        line=dict(color=\"black\", width=2, dash=\"dash\"),\n",
    "    )\n",
    "\n",
    "    # Plot the max rank.\n",
    "    fig.add_trace(\n",
    "        go.Scatter(\n",
    "            x=weight_mapping[name][\"range\"],\n",
    "            y=maxes[gene][position],\n",
    "            mode=\"lines\",\n",
    "            name=f\"{gene} {position} Max Rank\",\n",
    "            marker=dict(size=10, color=\"red\")\n",
    "        ),\n",
    "        row=2, col=2\n",
    "    )\n",
    "    # Also, add a vertical line for the original weight.\n",
    "    fig.add_vline(\n",
    "        x=weight_mapping[name][\"original_weight\"],\n",
    "        line=dict(color=\"black\", width=2, dash=\"dash\"),\n",
    "    )\n",
    "    fig.update_layout(\n",
    "        title=f\"Iterrating through <b>{name}</b> Scoring for {gene} at position {position} (n={data[(data['GENE'] == gene) & (data['POS'] == position)].shape[0]})\",\n",
    "        showlegend=True\n",
    "    )\n",
    "    # Add a common x-axis label.\n",
    "    fig.update_xaxes(title_text=name, row=2, col=1)\n",
    "    fig.update_xaxes(title_text=name, row=2, col=2)\n",
    "    # Add a common y-axis label.\n",
    "    fig.update_yaxes(title_text=\"Rank\", row=1, col=1)\n",
    "    fig.update_yaxes(title_text=\"Rank\", row=2, col=1)\n",
    "\n",
    "    fig.write_html(f\"./plots/{name.replace(' ', '_')}_{gene}_{position}_score_iteration.html\")\n",
    "    # fig.show()\n"
   ]
  },
  {
   "cell_type": "code",
   "execution_count": null,
   "id": "8dbe47b9",
   "metadata": {},
   "outputs": [],
   "source": []
  }
 ],
 "metadata": {
  "kernelspec": {
   "display_name": "maptropolis-api",
   "language": "python",
   "name": "python3"
  },
  "language_info": {
   "codemirror_mode": {
    "name": "ipython",
    "version": 3
   },
   "file_extension": ".py",
   "mimetype": "text/x-python",
   "name": "python",
   "nbconvert_exporter": "python",
   "pygments_lexer": "ipython3",
   "version": "3.12.10"
  }
 },
 "nbformat": 4,
 "nbformat_minor": 5
}
