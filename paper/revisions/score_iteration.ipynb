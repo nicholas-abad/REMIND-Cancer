{
 "cells": [
  {
   "cell_type": "code",
   "execution_count": 1,
   "id": "923483ba",
   "metadata": {},
   "outputs": [],
   "source": [
    "import pandas as pd\n",
    "import numpy as np\n",
    "import plotly.graph_objects as go\n",
    "import json\n",
    "\n",
    "from copy import deepcopy\n",
    "\n",
    "from tqdm.notebook import tqdm\n",
    "import os"
   ]
  },
  {
   "cell_type": "code",
   "execution_count": 2,
   "id": "e8ff701d",
   "metadata": {},
   "outputs": [
    {
     "name": "stdout",
     "output_type": "stream",
     "text": [
      "\u001b[1m\u001b[31merror:\u001b[0m the following required arguments were not provided:\n",
      "  \u001b[32m<PACKAGES|--requirements <REQUIREMENTS>>\u001b[0m\n",
      "\n",
      "\u001b[1m\u001b[32mUsage:\u001b[0m \u001b[1m\u001b[36muv add\u001b[0m \u001b[36m<PACKAGES|--requirements <REQUIREMENTS>>\u001b[0m\n",
      "\n",
      "For more information, try '\u001b[1m\u001b[36m--help\u001b[0m'.\n"
     ]
    }
   ],
   "source": [
    "!uv add "
   ]
  },
  {
   "cell_type": "code",
   "execution_count": 3,
   "id": "39efc0dd",
   "metadata": {},
   "outputs": [
    {
     "data": {
      "text/plain": [
       "(1000, 29)"
      ]
     },
     "execution_count": 3,
     "metadata": {},
     "output_type": "execute_result"
    }
   ],
   "source": [
    "data = pd.read_excel(\"../supplement/SupplementalTable7_top1000_pSNVs.xlsx\", skiprows=1)\n",
    "data.shape"
   ]
  },
  {
   "cell_type": "code",
   "execution_count": 4,
   "id": "2b061866",
   "metadata": {},
   "outputs": [
    {
     "data": {
      "text/plain": [
       "POS    \n",
       "1295228    28\n",
       "1295250     7\n",
       "1294883     1\n",
       "1295149     1\n",
       "Name: count, dtype: int64"
      ]
     },
     "execution_count": 4,
     "metadata": {},
     "output_type": "execute_result"
    }
   ],
   "source": [
    "# Check the number of TERT, RALY and CDC20 mutations.\n",
    "data[data[\"GENE\"] == \"TERT\"].value_counts([\"POS\"])"
   ]
  },
  {
   "cell_type": "code",
   "execution_count": 5,
   "id": "57ab1372",
   "metadata": {},
   "outputs": [
    {
     "data": {
      "text/plain": [
       "POS     \n",
       "32580927    4\n",
       "32580916    1\n",
       "Name: count, dtype: int64"
      ]
     },
     "execution_count": 5,
     "metadata": {},
     "output_type": "execute_result"
    }
   ],
   "source": [
    "data[data[\"GENE\"] == \"RALY\"].value_counts([\"POS\"])"
   ]
  },
  {
   "cell_type": "code",
   "execution_count": 6,
   "id": "806a1f32",
   "metadata": {},
   "outputs": [
    {
     "data": {
      "text/plain": [
       "POS     \n",
       "43824528    1\n",
       "43824529    1\n",
       "Name: count, dtype: int64"
      ]
     },
     "execution_count": 6,
     "metadata": {},
     "output_type": "execute_result"
    }
   ],
   "source": [
    "data[data[\"GENE\"] == \"CDC20\"].value_counts([\"POS\"])"
   ]
  },
  {
   "cell_type": "code",
   "execution_count": 7,
   "id": "b2622533",
   "metadata": {},
   "outputs": [],
   "source": [
    "# Original function to add REMIND-Cancer scores based on the scoring weights.\n",
    "def _add_remind_cancer_score(\n",
    "    dataframe: pd.DataFrame,\n",
    "    remind_cancer_scoring_weights: dict,\n",
    "    ge_column: str\n",
    "):\n",
    "    \"\"\"Add the REMIND-Cancer score to the DataFrame.\n",
    "\n",
    "    Args:\n",
    "        dataframe (pd.DataFrame): Pandas DataFrame containing the data to score.\n",
    "        remind_cancer_scoring_weights (dict): Dictionary containing the REMIND-Cancer scoring weights.\n",
    "            Example can be found in REMIND-Cancer/examples/results/configuration_file.json, particularly the last key `REMIND-Cancer_scoring_weights`.\n",
    "        ge_column (str): Name of the column containing gene expression data.\n",
    "\n",
    "    Returns:\n",
    "        pd.DataFrame: DataFrame with the REMIND-Cancer score added.\n",
    "    \"\"\"\n",
    "    # Iterate through each row of the DataFrame and calculate the REMIND-Cancer score.\n",
    "    for idx, row in dataframe.iterrows():\n",
    "        # (1) Genomic.\n",
    "        # Transcription Factors\n",
    "        created_tf_weight = np.min([\n",
    "            float(row[\"num_created_tfs_passing_tf_expression_threshold\"]) *\n",
    "            remind_cancer_scoring_weights[\"genomic\"][\"tfbs\"][\"creation_weight_per_tfbs\"],\n",
    "            remind_cancer_scoring_weights[\"genomic\"][\"tfbs\"][\"creation_weight_maximum\"]\n",
    "        ])\n",
    "\n",
    "        destroyed_tf_weight = np.min([\n",
    "            float(row[\"num_destroyed_tfs_passing_tf_expression_threshold\"]) *\n",
    "            remind_cancer_scoring_weights[\"genomic\"][\"tfbs\"][\"destruction_weight_per_tfbs\"],\n",
    "            remind_cancer_scoring_weights[\"genomic\"][\"tfbs\"][\"destruction_weight_maximum\"]\n",
    "        ])\n",
    "\n",
    "        # Recurrence\n",
    "        recurrence_weight = np.min([\n",
    "            float(row[\"num_recurrent_mutations\"]) *\n",
    "            remind_cancer_scoring_weights[\"genomic\"][\"recurrence\"][\"weight_per_recurrent_mutation\"],\n",
    "            remind_cancer_scoring_weights[\"genomic\"][\"recurrence\"][\"weight_maximum\"]\n",
    "        ])\n",
    "\n",
    "        # Purity\n",
    "        try:\n",
    "            purity_weight = remind_cancer_scoring_weights[\"genomic\"][\"purity\"][\"purity_weight\"] if float(\n",
    "                row[\"ICGC_Estimated_Purity\"]) >= remind_cancer_scoring_weights[\"genomic\"][\"purity\"][\"purity_threshold_for_weight\"] else 0\n",
    "        except:\n",
    "            # print(\n",
    "            #     f\"Purity of {row['ICGC_Estimated_Purity']} does not work. Setting score to 0.\")\n",
    "            purity_weight = 0\n",
    "\n",
    "        # Allele Frequency\n",
    "        try:\n",
    "            af_weight = remind_cancer_scoring_weights[\"genomic\"][\"allele_frequency\"][\"af_weight\"] if float(\n",
    "                row[\"allele_frequency\"]) >= remind_cancer_scoring_weights[\"genomic\"][\"allele_frequency\"][\"af_threshold_for_weight\"] else 0\n",
    "        except:\n",
    "            # print(\n",
    "            #     f\"Allele frequency of {row['allele_frequency']} does not work. Setting score to 0.\")\n",
    "            af_weight = 0\n",
    "\n",
    "        # (2) Transcriptomic\n",
    "        # Gene Expression\n",
    "        gene_expression_weight = np.min([\n",
    "            float(row[ge_column]) *\n",
    "            remind_cancer_scoring_weights[\"transcriptomic\"][\"gene_expression\"][\"weight_per_unit_of_expression\"],\n",
    "            remind_cancer_scoring_weights[\"transcriptomic\"][\"gene_expression\"][\"weight_maximum\"]\n",
    "        ])\n",
    "\n",
    "        # (3) Annotations\n",
    "        # CGC\n",
    "        cgc_weight = bool(row[\"within_cgc_list\"]) * \\\n",
    "            remind_cancer_scoring_weights[\"annotations\"][\"cgc\"][\"weight\"]\n",
    "\n",
    "        # Open Chromatin\n",
    "        open_chromatin_weight = bool(\n",
    "            row[\"open_chromatin\"]) * remind_cancer_scoring_weights[\"annotations\"][\"open_chromatin\"][\"weight\"]\n",
    "\n",
    "        # Create the final score by summing all the weights.\n",
    "        # Round the score to 2 decimal places.\n",
    "        # Assign the score to the \"score_v2\" column in the DataFrame.\n",
    "        dataframe.loc[idx, \"score_v2\"] = np.round(\n",
    "            np.sum([\n",
    "                created_tf_weight,\n",
    "                destroyed_tf_weight,\n",
    "                recurrence_weight,\n",
    "                purity_weight,\n",
    "                af_weight,\n",
    "                gene_expression_weight,\n",
    "                cgc_weight,\n",
    "                open_chromatin_weight\n",
    "            ]), 2)\n",
    "\n",
    "    # Sort the DataFrame by the \"score_v2\" column in descending order.\n",
    "    dataframe = dataframe.sort_values(\"score_v2\", ascending=False)\n",
    "\n",
    "    return dataframe\n",
    "\n",
    "with open(\"../../examples/results/configuration_file.json\", \"r\") as f:\n",
    "    scoring_weights = json.load(f)\n",
    "    scoring_weights = scoring_weights[\"REMIND-Cancer_scoring_weights\"]"
   ]
  },
  {
   "cell_type": "markdown",
   "id": "9946b842",
   "metadata": {},
   "source": [
    "# Get the median, mean, min, and max ranks for each gene and position\n",
    "\n"
   ]
  },
  {
   "cell_type": "code",
   "execution_count": 8,
   "id": "02518649",
   "metadata": {},
   "outputs": [],
   "source": [
    "# Define the weight mapping for each scoring attribute.\n",
    "# The main key (e.g. Recurrence Weight) is the name of the weight\n",
    "# The `attribute` is a list of the keys/subkeys to access the weight\n",
    "#      Ex: scoring_weights[\"genomic\"][\"recurrence\"][\"weight_per_recurrent_mutation\"] = [\"genomic\", \"recurrence\", \"weight_per_recurrent_mutation\"]\n",
    "# The `range` is the range of values to iterate through for the weight\n",
    "#      Ex: np.linspace(1, 100, 100) will create a range from 1 to 100 with 100 points\n",
    "# The `original_weight` is the original weight value for the attribute\n",
    "\n",
    "weight_mapping = {\n",
    "    \"Recurrence Weight\": {\n",
    "        \"attribute\": [\"genomic\", \"recurrence\", \"weight_per_recurrent_mutation\"],\n",
    "        \"range\": np.linspace(1, 100, 100),\n",
    "        \"original_weight\": scoring_weights[\"genomic\"][\"recurrence\"][\"weight_per_recurrent_mutation\"],\n",
    "    },\n",
    "    \"Gene Expression Weight\": {\n",
    "        \"attribute\": [\"transcriptomic\", \"gene_expression\", \"weight_per_unit_of_expression\"],\n",
    "        \"range\": np.linspace(1, 100, 100),\n",
    "        \"original_weight\": scoring_weights[\"transcriptomic\"][\"gene_expression\"][\"weight_per_unit_of_expression\"],\n",
    "    },\n",
    "    \"Purity Weight\": {\n",
    "        \"attribute\": [\"genomic\", \"purity\", \"purity_weight\"],\n",
    "        \"range\": np.linspace(1, 100, 100),\n",
    "        \"original_weight\": scoring_weights[\"genomic\"][\"purity\"][\"purity_weight\"],\n",
    "    },\n",
    "    \"Transcription Factor Creation Weight\": {\n",
    "        \"attribute\": [\"genomic\", \"tfbs\", \"creation_weight_per_tfbs\"],\n",
    "        \"range\": np.linspace(1, 20, 100),\n",
    "        \"original_weight\": scoring_weights[\"genomic\"][\"tfbs\"][\"creation_weight_per_tfbs\"],\n",
    "    },\n",
    "    \"Transcription Factor Destruction Weight\": {\n",
    "        \"attribute\": [\"genomic\", \"tfbs\", \"destruction_weight_per_tfbs\"],\n",
    "        \"range\": np.linspace(1, 20, 100),\n",
    "        \"original_weight\": scoring_weights[\"genomic\"][\"tfbs\"][\"destruction_weight_per_tfbs\"],\n",
    "    },\n",
    "    \"Allele Frequency Weight\": {\n",
    "        \"attribute\": [\"genomic\", \"allele_frequency\", \"af_weight\"],\n",
    "        \"range\": np.linspace(1, 50, 100),\n",
    "        \"original_weight\": scoring_weights[\"genomic\"][\"allele_frequency\"][\"af_weight\"],\n",
    "    },\n",
    "    \"CGC Weight\": {\n",
    "        \"attribute\": [\"annotations\", \"cgc\", \"weight\"],\n",
    "        \"range\": np.linspace(1, 50, 100),\n",
    "        \"original_weight\": scoring_weights[\"annotations\"][\"cgc\"][\"weight\"],\n",
    "    },\n",
    "    \"Open Chromatin Weight\": {\n",
    "        \"attribute\": [\"annotations\", \"open_chromatin\", \"weight\"],\n",
    "        \"range\": np.linspace(1, 50, 100),\n",
    "        \"original_weight\": scoring_weights[\"annotations\"][\"open_chromatin\"][\"weight\"],\n",
    "    }\n",
    " }\n"
   ]
  },
  {
   "cell_type": "code",
   "execution_count": 9,
   "id": "8ac3c350",
   "metadata": {},
   "outputs": [],
   "source": [
    "from plotly.subplots import make_subplots"
   ]
  },
  {
   "cell_type": "code",
   "execution_count": 10,
   "id": "9875a328",
   "metadata": {},
   "outputs": [],
   "source": [
    "import math\n",
    "def round_up_nice(x, base=50):\n",
    "    return math.ceil(x / base) * base\n",
    "\n",
    "def _create_min_and_median_plots(\n",
    "    medians,\n",
    "    mins,\n",
    "    name,\n",
    "    colors,\n",
    "    weight_mapping,\n",
    "):\n",
    "    fig = make_subplots(\n",
    "        rows=1, cols=2,\n",
    "        subplot_titles=[\n",
    "            \"Min Rank\", \"Median Rank\",\n",
    "        ],\n",
    "    )\n",
    "\n",
    "    for gene_name in medians:\n",
    "        for position in medians[gene_name]:\n",
    "            fig.add_trace(\n",
    "                go.Scatter(\n",
    "                    x=weight_mapping[name][\"range\"],\n",
    "                    y=medians[gene_name][position],\n",
    "                    mode=\"lines\",\n",
    "                    name=f\"{gene_name} {position}\",\n",
    "                    marker=dict(size=10, color=colors[gene_name][position])\n",
    "                ),\n",
    "                row=1, col=1\n",
    "            )\n",
    "            fig.add_trace(\n",
    "                go.Scatter(\n",
    "                    x=weight_mapping[name][\"range\"],\n",
    "                    y=mins[gene_name][position],\n",
    "                    mode=\"lines\",\n",
    "                    name=f\"{gene_name} {position}\",\n",
    "                    marker=dict(size=10, color=colors[gene_name][position]),\n",
    "                    showlegend=False\n",
    "                ),\n",
    "                row=1, col=2\n",
    "            )\n",
    "\n",
    "    # Also, add a vertical line for the original weight.\n",
    "    fig.add_vline(\n",
    "        x=weight_mapping[name][\"original_weight\"],\n",
    "        line=dict(color=\"black\", width=2, dash=\"dash\"),\n",
    "        row=1, col=1\n",
    "    )\n",
    "\n",
    "    fig.add_vline(\n",
    "        x=weight_mapping[name][\"original_weight\"],\n",
    "        line=dict(color=\"black\", width=2, dash=\"dash\"),\n",
    "        row=1, col=2\n",
    "    )\n",
    "\n",
    "    # Get the max\n",
    "    max_medians = []\n",
    "    for gene_name in medians:\n",
    "        for position in medians[gene_name]:\n",
    "            max_medians.append(np.max(medians[gene_name][position]))\n",
    "\n",
    "    # Round up to the nearest 50.\n",
    "    max_yaxis = round_up_nice(\n",
    "        np.max(max_medians),\n",
    "        50\n",
    "    )\n",
    "\n",
    "    fig.update_yaxes(\n",
    "        range=[0, max_yaxis], row=1, col=1\n",
    "    )\n",
    "    fig.update_yaxes(\n",
    "        range=[0, max_yaxis], row=1, col=2\n",
    "    )\n",
    "\n",
    "    fig.update_layout(\n",
    "        title = f\"{name}: Gene Rank Distributions\"\n",
    "    )\n",
    "\n",
    "    return fig"
   ]
  },
  {
   "cell_type": "code",
   "execution_count": null,
   "id": "5ecb0a78",
   "metadata": {},
   "outputs": [],
   "source": [
    "from plotly.subplots import make_subplots"
   ]
  },
  {
   "cell_type": "code",
   "execution_count": 11,
   "id": "d8c94002",
   "metadata": {},
   "outputs": [
    {
     "data": {
      "application/vnd.jupyter.widget-view+json": {
       "model_id": "54bf922d76ce4e2084ec657b66e284d5",
       "version_major": 2,
       "version_minor": 0
      },
      "text/plain": [
       "Recurrence Weight: TERT 1295228:   0%|          | 0/100 [00:00<?, ?it/s]"
      ]
     },
     "metadata": {},
     "output_type": "display_data"
    },
    {
     "data": {
      "application/vnd.jupyter.widget-view+json": {
       "model_id": "fc7199e80c224316a7cd02505343f194",
       "version_major": 2,
       "version_minor": 0
      },
      "text/plain": [
       "Recurrence Weight: TERT 1295250:   0%|          | 0/100 [00:00<?, ?it/s]"
      ]
     },
     "metadata": {},
     "output_type": "display_data"
    },
    {
     "data": {
      "application/vnd.jupyter.widget-view+json": {
       "model_id": "7652a775e2964c999c69b5da5a4193f9",
       "version_major": 2,
       "version_minor": 0
      },
      "text/plain": [
       "Recurrence Weight: RALY 32580927:   0%|          | 0/100 [00:00<?, ?it/s]"
      ]
     },
     "metadata": {},
     "output_type": "display_data"
    },
    {
     "data": {
      "application/vnd.jupyter.widget-view+json": {
       "model_id": "e539ed89e2804a5db445bcfb7d9e9f48",
       "version_major": 2,
       "version_minor": 0
      },
      "text/plain": [
       "Recurrence Weight: CDC20 43824529:   0%|          | 0/100 [00:00<?, ?it/s]"
      ]
     },
     "metadata": {},
     "output_type": "display_data"
    },
    {
     "data": {
      "application/vnd.plotly.v1+json": {
       "config": {
        "plotlyServerURL": "https://plot.ly"
       },
       "data": [
        {
         "marker": {
          "color": "red",
          "size": 10
         },
         "mode": "lines",
         "name": "TERT 1295228",
         "type": "scatter",
         "x": {
          "bdata": "AAAAAAAA8D8AAAAAAAAAQAAAAAAAAAhAAAAAAAAAEEAAAAAAAAAUQAAAAAAAABhAAAAAAAAAHEAAAAAAAAAgQAAAAAAAACJAAAAAAAAAJEAAAAAAAAAmQAAAAAAAAChAAAAAAAAAKkAAAAAAAAAsQAAAAAAAAC5AAAAAAAAAMEAAAAAAAAAxQAAAAAAAADJAAAAAAAAAM0AAAAAAAAA0QAAAAAAAADVAAAAAAAAANkAAAAAAAAA3QAAAAAAAADhAAAAAAAAAOUAAAAAAAAA6QAAAAAAAADtAAAAAAAAAPEAAAAAAAAA9QAAAAAAAAD5AAAAAAAAAP0AAAAAAAABAQAAAAAAAgEBAAAAAAAAAQUAAAAAAAIBBQAAAAAAAAEJAAAAAAACAQkAAAAAAAABDQAAAAAAAgENAAAAAAAAAREAAAAAAAIBEQAAAAAAAAEVAAAAAAACARUAAAAAAAABGQAAAAAAAgEZAAAAAAAAAR0AAAAAAAIBHQAAAAAAAAEhAAAAAAACASEAAAAAAAABJQAAAAAAAgElAAAAAAAAASkAAAAAAAIBKQAAAAAAAAEtAAAAAAACAS0AAAAAAAABMQAAAAAAAgExAAAAAAAAATUAAAAAAAIBNQAAAAAAAAE5AAAAAAACATkAAAAAAAABPQAAAAAAAgE9AAAAAAAAAUEAAAAAAAEBQQAAAAAAAgFBAAAAAAADAUEAAAAAAAABRQAAAAAAAQFFAAAAAAACAUUAAAAAAAMBRQAAAAAAAAFJAAAAAAABAUkAAAAAAAIBSQAAAAAAAwFJAAAAAAAAAU0AAAAAAAEBTQAAAAAAAgFNAAAAAAADAU0AAAAAAAABUQAAAAAAAQFRAAAAAAACAVEAAAAAAAMBUQAAAAAAAAFVAAAAAAABAVUAAAAAAAIBVQAAAAAAAwFVAAAAAAAAAVkAAAAAAAEBWQAAAAAAAgFZAAAAAAADAVkAAAAAAAABXQAAAAAAAQFdAAAAAAACAV0AAAAAAAMBXQAAAAAAAAFhAAAAAAABAWEAAAAAAAIBYQAAAAAAAwFhAAAAAAAAAWUA=",
          "dtype": "f8"
         },
         "xaxis": "x",
         "y": [
          41,
          44,
          49,
          50,
          52.5,
          54.5,
          59.5,
          67,
          73.5,
          74.5,
          76,
          79.5,
          83.5,
          85.5,
          88,
          91.5,
          92.5,
          94.5,
          97.5,
          101.5,
          107.5,
          110.5,
          120,
          130,
          131.5,
          131.5,
          131.5,
          131.5,
          131.5,
          131.5,
          131.5,
          131.5,
          131.5,
          131.5,
          131.5,
          131.5,
          131.5,
          131.5,
          131.5,
          131.5,
          131.5,
          131.5,
          131.5,
          131.5,
          131.5,
          131.5,
          131.5,
          131.5,
          131.5,
          131.5,
          131.5,
          131.5,
          131.5,
          131.5,
          131.5,
          131.5,
          131.5,
          131.5,
          131.5,
          131.5,
          131.5,
          131.5,
          131.5,
          131.5,
          131.5,
          131.5,
          131.5,
          131.5,
          131.5,
          131.5,
          131.5,
          131.5,
          131.5,
          131.5,
          131.5,
          131.5,
          131.5,
          131.5,
          131.5,
          131.5,
          131.5,
          131.5,
          131.5,
          131.5,
          131.5,
          131.5,
          131.5,
          131.5,
          131.5,
          131.5,
          131.5,
          131.5,
          131.5,
          131.5,
          131.5,
          131.5,
          131.5,
          131.5,
          131.5,
          131.5
         ],
         "yaxis": "y"
        },
        {
         "marker": {
          "color": "red",
          "size": 10
         },
         "mode": "lines",
         "name": "TERT 1295228",
         "showlegend": false,
         "type": "scatter",
         "x": {
          "bdata": "AAAAAAAA8D8AAAAAAAAAQAAAAAAAAAhAAAAAAAAAEEAAAAAAAAAUQAAAAAAAABhAAAAAAAAAHEAAAAAAAAAgQAAAAAAAACJAAAAAAAAAJEAAAAAAAAAmQAAAAAAAAChAAAAAAAAAKkAAAAAAAAAsQAAAAAAAAC5AAAAAAAAAMEAAAAAAAAAxQAAAAAAAADJAAAAAAAAAM0AAAAAAAAA0QAAAAAAAADVAAAAAAAAANkAAAAAAAAA3QAAAAAAAADhAAAAAAAAAOUAAAAAAAAA6QAAAAAAAADtAAAAAAAAAPEAAAAAAAAA9QAAAAAAAAD5AAAAAAAAAP0AAAAAAAABAQAAAAAAAgEBAAAAAAAAAQUAAAAAAAIBBQAAAAAAAAEJAAAAAAACAQkAAAAAAAABDQAAAAAAAgENAAAAAAAAAREAAAAAAAIBEQAAAAAAAAEVAAAAAAACARUAAAAAAAABGQAAAAAAAgEZAAAAAAAAAR0AAAAAAAIBHQAAAAAAAAEhAAAAAAACASEAAAAAAAABJQAAAAAAAgElAAAAAAAAASkAAAAAAAIBKQAAAAAAAAEtAAAAAAACAS0AAAAAAAABMQAAAAAAAgExAAAAAAAAATUAAAAAAAIBNQAAAAAAAAE5AAAAAAACATkAAAAAAAABPQAAAAAAAgE9AAAAAAAAAUEAAAAAAAEBQQAAAAAAAgFBAAAAAAADAUEAAAAAAAABRQAAAAAAAQFFAAAAAAACAUUAAAAAAAMBRQAAAAAAAAFJAAAAAAABAUkAAAAAAAIBSQAAAAAAAwFJAAAAAAAAAU0AAAAAAAEBTQAAAAAAAgFNAAAAAAADAU0AAAAAAAABUQAAAAAAAQFRAAAAAAACAVEAAAAAAAMBUQAAAAAAAAFVAAAAAAABAVUAAAAAAAIBVQAAAAAAAwFVAAAAAAAAAVkAAAAAAAEBWQAAAAAAAgFZAAAAAAADAVkAAAAAAAABXQAAAAAAAQFdAAAAAAACAV0AAAAAAAMBXQAAAAAAAAFhAAAAAAABAWEAAAAAAAIBYQAAAAAAAwFhAAAAAAAAAWUA=",
          "dtype": "f8"
         },
         "xaxis": "x2",
         "y": [
          0,
          0,
          0,
          2,
          3,
          3,
          3,
          3,
          3,
          3,
          3,
          3,
          3,
          3,
          3,
          3,
          3,
          3,
          3,
          3,
          3,
          3,
          3,
          5,
          5,
          5,
          5,
          5,
          5,
          5,
          5,
          5,
          5,
          5,
          5,
          5,
          5,
          5,
          5,
          5,
          5,
          5,
          5,
          5,
          5,
          5,
          5,
          5,
          5,
          5,
          5,
          5,
          5,
          5,
          5,
          5,
          5,
          5,
          5,
          5,
          5,
          5,
          5,
          5,
          5,
          5,
          5,
          5,
          5,
          5,
          5,
          5,
          5,
          5,
          5,
          5,
          5,
          5,
          5,
          5,
          5,
          5,
          5,
          5,
          5,
          5,
          5,
          5,
          5,
          5,
          5,
          5,
          5,
          5,
          5,
          5,
          5,
          5,
          5,
          5
         ],
         "yaxis": "y2"
        },
        {
         "marker": {
          "color": "blue",
          "size": 10
         },
         "mode": "lines",
         "name": "TERT 1295250",
         "type": "scatter",
         "x": {
          "bdata": "AAAAAAAA8D8AAAAAAAAAQAAAAAAAAAhAAAAAAAAAEEAAAAAAAAAUQAAAAAAAABhAAAAAAAAAHEAAAAAAAAAgQAAAAAAAACJAAAAAAAAAJEAAAAAAAAAmQAAAAAAAAChAAAAAAAAAKkAAAAAAAAAsQAAAAAAAAC5AAAAAAAAAMEAAAAAAAAAxQAAAAAAAADJAAAAAAAAAM0AAAAAAAAA0QAAAAAAAADVAAAAAAAAANkAAAAAAAAA3QAAAAAAAADhAAAAAAAAAOUAAAAAAAAA6QAAAAAAAADtAAAAAAAAAPEAAAAAAAAA9QAAAAAAAAD5AAAAAAAAAP0AAAAAAAABAQAAAAAAAgEBAAAAAAAAAQUAAAAAAAIBBQAAAAAAAAEJAAAAAAACAQkAAAAAAAABDQAAAAAAAgENAAAAAAAAAREAAAAAAAIBEQAAAAAAAAEVAAAAAAACARUAAAAAAAABGQAAAAAAAgEZAAAAAAAAAR0AAAAAAAIBHQAAAAAAAAEhAAAAAAACASEAAAAAAAABJQAAAAAAAgElAAAAAAAAASkAAAAAAAIBKQAAAAAAAAEtAAAAAAACAS0AAAAAAAABMQAAAAAAAgExAAAAAAAAATUAAAAAAAIBNQAAAAAAAAE5AAAAAAACATkAAAAAAAABPQAAAAAAAgE9AAAAAAAAAUEAAAAAAAEBQQAAAAAAAgFBAAAAAAADAUEAAAAAAAABRQAAAAAAAQFFAAAAAAACAUUAAAAAAAMBRQAAAAAAAAFJAAAAAAABAUkAAAAAAAIBSQAAAAAAAwFJAAAAAAAAAU0AAAAAAAEBTQAAAAAAAgFNAAAAAAADAU0AAAAAAAABUQAAAAAAAQFRAAAAAAACAVEAAAAAAAMBUQAAAAAAAAFVAAAAAAABAVUAAAAAAAIBVQAAAAAAAwFVAAAAAAAAAVkAAAAAAAEBWQAAAAAAAgFZAAAAAAADAVkAAAAAAAABXQAAAAAAAQFdAAAAAAACAV0AAAAAAAMBXQAAAAAAAAFhAAAAAAABAWEAAAAAAAIBYQAAAAAAAwFhAAAAAAAAAWUA=",
          "dtype": "f8"
         },
         "xaxis": "x",
         "y": [
          41,
          44,
          49,
          50,
          53,
          55,
          60,
          68,
          74,
          75,
          77,
          80,
          84,
          86,
          89,
          92,
          93,
          95,
          98,
          102,
          108,
          111,
          120,
          131,
          132,
          132,
          132,
          132,
          132,
          132,
          132,
          132,
          132,
          132,
          132,
          132,
          132,
          132,
          132,
          132,
          132,
          132,
          132,
          132,
          132,
          132,
          132,
          132,
          132,
          132,
          132,
          132,
          132,
          132,
          132,
          132,
          132,
          132,
          132,
          132,
          132,
          132,
          132,
          132,
          132,
          132,
          132,
          132,
          132,
          132,
          132,
          132,
          132,
          132,
          132,
          132,
          132,
          132,
          132,
          132,
          132,
          132,
          132,
          132,
          132,
          132,
          132,
          132,
          132,
          132,
          132,
          132,
          132,
          132,
          132,
          132,
          132,
          132,
          132,
          132
         ],
         "yaxis": "y"
        },
        {
         "marker": {
          "color": "blue",
          "size": 10
         },
         "mode": "lines",
         "name": "TERT 1295250",
         "showlegend": false,
         "type": "scatter",
         "x": {
          "bdata": "AAAAAAAA8D8AAAAAAAAAQAAAAAAAAAhAAAAAAAAAEEAAAAAAAAAUQAAAAAAAABhAAAAAAAAAHEAAAAAAAAAgQAAAAAAAACJAAAAAAAAAJEAAAAAAAAAmQAAAAAAAAChAAAAAAAAAKkAAAAAAAAAsQAAAAAAAAC5AAAAAAAAAMEAAAAAAAAAxQAAAAAAAADJAAAAAAAAAM0AAAAAAAAA0QAAAAAAAADVAAAAAAAAANkAAAAAAAAA3QAAAAAAAADhAAAAAAAAAOUAAAAAAAAA6QAAAAAAAADtAAAAAAAAAPEAAAAAAAAA9QAAAAAAAAD5AAAAAAAAAP0AAAAAAAABAQAAAAAAAgEBAAAAAAAAAQUAAAAAAAIBBQAAAAAAAAEJAAAAAAACAQkAAAAAAAABDQAAAAAAAgENAAAAAAAAAREAAAAAAAIBEQAAAAAAAAEVAAAAAAACARUAAAAAAAABGQAAAAAAAgEZAAAAAAAAAR0AAAAAAAIBHQAAAAAAAAEhAAAAAAACASEAAAAAAAABJQAAAAAAAgElAAAAAAAAASkAAAAAAAIBKQAAAAAAAAEtAAAAAAACAS0AAAAAAAABMQAAAAAAAgExAAAAAAAAATUAAAAAAAIBNQAAAAAAAAE5AAAAAAACATkAAAAAAAABPQAAAAAAAgE9AAAAAAAAAUEAAAAAAAEBQQAAAAAAAgFBAAAAAAADAUEAAAAAAAABRQAAAAAAAQFFAAAAAAACAUUAAAAAAAMBRQAAAAAAAAFJAAAAAAABAUkAAAAAAAIBSQAAAAAAAwFJAAAAAAAAAU0AAAAAAAEBTQAAAAAAAgFNAAAAAAADAU0AAAAAAAABUQAAAAAAAQFRAAAAAAACAVEAAAAAAAMBUQAAAAAAAAFVAAAAAAABAVUAAAAAAAIBVQAAAAAAAwFVAAAAAAAAAVkAAAAAAAEBWQAAAAAAAgFZAAAAAAADAVkAAAAAAAABXQAAAAAAAQFdAAAAAAACAV0AAAAAAAMBXQAAAAAAAAFhAAAAAAABAWEAAAAAAAIBYQAAAAAAAwFhAAAAAAAAAWUA=",
          "dtype": "f8"
         },
         "xaxis": "x2",
         "y": [
          22,
          23,
          26,
          29,
          29,
          32,
          33,
          35,
          37,
          39,
          43,
          43,
          45,
          45,
          47,
          49,
          52,
          54,
          57,
          58,
          61,
          66,
          71,
          73,
          80,
          80,
          80,
          80,
          80,
          80,
          80,
          80,
          80,
          80,
          80,
          80,
          80,
          80,
          80,
          80,
          80,
          80,
          80,
          80,
          80,
          80,
          80,
          80,
          80,
          80,
          80,
          80,
          80,
          80,
          80,
          80,
          80,
          80,
          80,
          80,
          80,
          80,
          80,
          80,
          80,
          80,
          80,
          80,
          80,
          80,
          80,
          80,
          80,
          80,
          80,
          80,
          80,
          80,
          80,
          80,
          80,
          80,
          80,
          80,
          80,
          80,
          80,
          80,
          80,
          80,
          80,
          80,
          80,
          80,
          80,
          80,
          80,
          80,
          80,
          80
         ],
         "yaxis": "y2"
        },
        {
         "marker": {
          "color": "green",
          "size": 10
         },
         "mode": "lines",
         "name": "RALY 32580927",
         "type": "scatter",
         "x": {
          "bdata": "AAAAAAAA8D8AAAAAAAAAQAAAAAAAAAhAAAAAAAAAEEAAAAAAAAAUQAAAAAAAABhAAAAAAAAAHEAAAAAAAAAgQAAAAAAAACJAAAAAAAAAJEAAAAAAAAAmQAAAAAAAAChAAAAAAAAAKkAAAAAAAAAsQAAAAAAAAC5AAAAAAAAAMEAAAAAAAAAxQAAAAAAAADJAAAAAAAAAM0AAAAAAAAA0QAAAAAAAADVAAAAAAAAANkAAAAAAAAA3QAAAAAAAADhAAAAAAAAAOUAAAAAAAAA6QAAAAAAAADtAAAAAAAAAPEAAAAAAAAA9QAAAAAAAAD5AAAAAAAAAP0AAAAAAAABAQAAAAAAAgEBAAAAAAAAAQUAAAAAAAIBBQAAAAAAAAEJAAAAAAACAQkAAAAAAAABDQAAAAAAAgENAAAAAAAAAREAAAAAAAIBEQAAAAAAAAEVAAAAAAACARUAAAAAAAABGQAAAAAAAgEZAAAAAAAAAR0AAAAAAAIBHQAAAAAAAAEhAAAAAAACASEAAAAAAAABJQAAAAAAAgElAAAAAAAAASkAAAAAAAIBKQAAAAAAAAEtAAAAAAACAS0AAAAAAAABMQAAAAAAAgExAAAAAAAAATUAAAAAAAIBNQAAAAAAAAE5AAAAAAACATkAAAAAAAABPQAAAAAAAgE9AAAAAAAAAUEAAAAAAAEBQQAAAAAAAgFBAAAAAAADAUEAAAAAAAABRQAAAAAAAQFFAAAAAAACAUUAAAAAAAMBRQAAAAAAAAFJAAAAAAABAUkAAAAAAAIBSQAAAAAAAwFJAAAAAAAAAU0AAAAAAAEBTQAAAAAAAgFNAAAAAAADAU0AAAAAAAABUQAAAAAAAQFRAAAAAAACAVEAAAAAAAMBUQAAAAAAAAFVAAAAAAABAVUAAAAAAAIBVQAAAAAAAwFVAAAAAAAAAVkAAAAAAAEBWQAAAAAAAgFZAAAAAAADAVkAAAAAAAABXQAAAAAAAQFdAAAAAAACAV0AAAAAAAMBXQAAAAAAAAFhAAAAAAABAWEAAAAAAAIBYQAAAAAAAwFhAAAAAAAAAWUA=",
          "dtype": "f8"
         },
         "xaxis": "x",
         "y": [
          609.5,
          161,
          171,
          178,
          185.5,
          194,
          199.5,
          209.5,
          215.5,
          218.5,
          222.5,
          228,
          235.5,
          240,
          240.5,
          241.5,
          243,
          245,
          247.5,
          248.5,
          253,
          258.5,
          260,
          260,
          260,
          260,
          260,
          260,
          260,
          260,
          260,
          260,
          260,
          260,
          260,
          260,
          260,
          260,
          260,
          260,
          260,
          260,
          260,
          260,
          260,
          260,
          260,
          260,
          260,
          260,
          260,
          260,
          260,
          260,
          260,
          260,
          260,
          260,
          260,
          260,
          260,
          260,
          260,
          260,
          260,
          260,
          260,
          260,
          260,
          260,
          260,
          260,
          260,
          260,
          260,
          260,
          260,
          260,
          260,
          260,
          260,
          260,
          260,
          260,
          260,
          260,
          260,
          260,
          260,
          260,
          260,
          260,
          260,
          260,
          260,
          260,
          260,
          260,
          260,
          260
         ],
         "yaxis": "y"
        },
        {
         "marker": {
          "color": "green",
          "size": 10
         },
         "mode": "lines",
         "name": "RALY 32580927",
         "showlegend": false,
         "type": "scatter",
         "x": {
          "bdata": "AAAAAAAA8D8AAAAAAAAAQAAAAAAAAAhAAAAAAAAAEEAAAAAAAAAUQAAAAAAAABhAAAAAAAAAHEAAAAAAAAAgQAAAAAAAACJAAAAAAAAAJEAAAAAAAAAmQAAAAAAAAChAAAAAAAAAKkAAAAAAAAAsQAAAAAAAAC5AAAAAAAAAMEAAAAAAAAAxQAAAAAAAADJAAAAAAAAAM0AAAAAAAAA0QAAAAAAAADVAAAAAAAAANkAAAAAAAAA3QAAAAAAAADhAAAAAAAAAOUAAAAAAAAA6QAAAAAAAADtAAAAAAAAAPEAAAAAAAAA9QAAAAAAAAD5AAAAAAAAAP0AAAAAAAABAQAAAAAAAgEBAAAAAAAAAQUAAAAAAAIBBQAAAAAAAAEJAAAAAAACAQkAAAAAAAABDQAAAAAAAgENAAAAAAAAAREAAAAAAAIBEQAAAAAAAAEVAAAAAAACARUAAAAAAAABGQAAAAAAAgEZAAAAAAAAAR0AAAAAAAIBHQAAAAAAAAEhAAAAAAACASEAAAAAAAABJQAAAAAAAgElAAAAAAAAASkAAAAAAAIBKQAAAAAAAAEtAAAAAAACAS0AAAAAAAABMQAAAAAAAgExAAAAAAAAATUAAAAAAAIBNQAAAAAAAAE5AAAAAAACATkAAAAAAAABPQAAAAAAAgE9AAAAAAAAAUEAAAAAAAEBQQAAAAAAAgFBAAAAAAADAUEAAAAAAAABRQAAAAAAAQFFAAAAAAACAUUAAAAAAAMBRQAAAAAAAAFJAAAAAAABAUkAAAAAAAIBSQAAAAAAAwFJAAAAAAAAAU0AAAAAAAEBTQAAAAAAAgFNAAAAAAADAU0AAAAAAAABUQAAAAAAAQFRAAAAAAACAVEAAAAAAAMBUQAAAAAAAAFVAAAAAAABAVUAAAAAAAIBVQAAAAAAAwFVAAAAAAAAAVkAAAAAAAEBWQAAAAAAAgFZAAAAAAADAVkAAAAAAAABXQAAAAAAAQFdAAAAAAACAV0AAAAAAAMBXQAAAAAAAAFhAAAAAAABAWEAAAAAAAIBYQAAAAAAAwFhAAAAAAAAAWUA=",
          "dtype": "f8"
         },
         "xaxis": "x2",
         "y": [
          269,
          59,
          65,
          66,
          70,
          75,
          77,
          88,
          91,
          91,
          94,
          100,
          103,
          105,
          109,
          110,
          112,
          115,
          119,
          125,
          127,
          137,
          146,
          149,
          149,
          149,
          149,
          149,
          149,
          149,
          149,
          149,
          149,
          149,
          149,
          149,
          149,
          149,
          149,
          149,
          149,
          149,
          149,
          149,
          149,
          149,
          149,
          149,
          149,
          149,
          149,
          149,
          149,
          149,
          149,
          149,
          149,
          149,
          149,
          149,
          149,
          149,
          149,
          149,
          149,
          149,
          149,
          149,
          149,
          149,
          149,
          149,
          149,
          149,
          149,
          149,
          149,
          149,
          149,
          149,
          149,
          149,
          149,
          149,
          149,
          149,
          149,
          149,
          149,
          149,
          149,
          149,
          149,
          149,
          149,
          149,
          149,
          149,
          149,
          149
         ],
         "yaxis": "y2"
        },
        {
         "marker": {
          "color": "yellow",
          "size": 10
         },
         "mode": "lines",
         "name": "CDC20 43824529",
         "type": "scatter",
         "x": {
          "bdata": "AAAAAAAA8D8AAAAAAAAAQAAAAAAAAAhAAAAAAAAAEEAAAAAAAAAUQAAAAAAAABhAAAAAAAAAHEAAAAAAAAAgQAAAAAAAACJAAAAAAAAAJEAAAAAAAAAmQAAAAAAAAChAAAAAAAAAKkAAAAAAAAAsQAAAAAAAAC5AAAAAAAAAMEAAAAAAAAAxQAAAAAAAADJAAAAAAAAAM0AAAAAAAAA0QAAAAAAAADVAAAAAAAAANkAAAAAAAAA3QAAAAAAAADhAAAAAAAAAOUAAAAAAAAA6QAAAAAAAADtAAAAAAAAAPEAAAAAAAAA9QAAAAAAAAD5AAAAAAAAAP0AAAAAAAABAQAAAAAAAgEBAAAAAAAAAQUAAAAAAAIBBQAAAAAAAAEJAAAAAAACAQkAAAAAAAABDQAAAAAAAgENAAAAAAAAAREAAAAAAAIBEQAAAAAAAAEVAAAAAAACARUAAAAAAAABGQAAAAAAAgEZAAAAAAAAAR0AAAAAAAIBHQAAAAAAAAEhAAAAAAACASEAAAAAAAABJQAAAAAAAgElAAAAAAAAASkAAAAAAAIBKQAAAAAAAAEtAAAAAAACAS0AAAAAAAABMQAAAAAAAgExAAAAAAAAATUAAAAAAAIBNQAAAAAAAAE5AAAAAAACATkAAAAAAAABPQAAAAAAAgE9AAAAAAAAAUEAAAAAAAEBQQAAAAAAAgFBAAAAAAADAUEAAAAAAAABRQAAAAAAAQFFAAAAAAACAUUAAAAAAAMBRQAAAAAAAAFJAAAAAAABAUkAAAAAAAIBSQAAAAAAAwFJAAAAAAAAAU0AAAAAAAEBTQAAAAAAAgFNAAAAAAADAU0AAAAAAAABUQAAAAAAAQFRAAAAAAACAVEAAAAAAAMBUQAAAAAAAAFVAAAAAAABAVUAAAAAAAIBVQAAAAAAAwFVAAAAAAAAAVkAAAAAAAEBWQAAAAAAAgFZAAAAAAADAVkAAAAAAAABXQAAAAAAAQFdAAAAAAACAV0AAAAAAAMBXQAAAAAAAAFhAAAAAAABAWEAAAAAAAIBYQAAAAAAAwFhAAAAAAAAAWUA=",
          "dtype": "f8"
         },
         "xaxis": "x",
         "y": [
          944,
          323,
          202,
          215,
          226,
          233,
          242,
          253,
          258,
          266,
          270,
          276,
          277,
          287,
          297,
          300,
          300,
          300,
          300,
          300,
          300,
          300,
          300,
          300,
          300,
          300,
          300,
          300,
          300,
          300,
          300,
          300,
          300,
          300,
          300,
          300,
          300,
          300,
          300,
          300,
          300,
          300,
          300,
          300,
          300,
          300,
          300,
          300,
          300,
          300,
          300,
          300,
          300,
          300,
          300,
          300,
          300,
          300,
          300,
          300,
          300,
          300,
          300,
          300,
          300,
          300,
          300,
          300,
          300,
          300,
          300,
          300,
          300,
          300,
          300,
          300,
          300,
          300,
          300,
          300,
          300,
          300,
          300,
          300,
          300,
          300,
          300,
          300,
          300,
          300,
          300,
          300,
          300,
          300,
          300,
          300,
          300,
          300,
          300,
          300
         ],
         "yaxis": "y"
        },
        {
         "marker": {
          "color": "yellow",
          "size": 10
         },
         "mode": "lines",
         "name": "CDC20 43824529",
         "showlegend": false,
         "type": "scatter",
         "x": {
          "bdata": "AAAAAAAA8D8AAAAAAAAAQAAAAAAAAAhAAAAAAAAAEEAAAAAAAAAUQAAAAAAAABhAAAAAAAAAHEAAAAAAAAAgQAAAAAAAACJAAAAAAAAAJEAAAAAAAAAmQAAAAAAAAChAAAAAAAAAKkAAAAAAAAAsQAAAAAAAAC5AAAAAAAAAMEAAAAAAAAAxQAAAAAAAADJAAAAAAAAAM0AAAAAAAAA0QAAAAAAAADVAAAAAAAAANkAAAAAAAAA3QAAAAAAAADhAAAAAAAAAOUAAAAAAAAA6QAAAAAAAADtAAAAAAAAAPEAAAAAAAAA9QAAAAAAAAD5AAAAAAAAAP0AAAAAAAABAQAAAAAAAgEBAAAAAAAAAQUAAAAAAAIBBQAAAAAAAAEJAAAAAAACAQkAAAAAAAABDQAAAAAAAgENAAAAAAAAAREAAAAAAAIBEQAAAAAAAAEVAAAAAAACARUAAAAAAAABGQAAAAAAAgEZAAAAAAAAAR0AAAAAAAIBHQAAAAAAAAEhAAAAAAACASEAAAAAAAABJQAAAAAAAgElAAAAAAAAASkAAAAAAAIBKQAAAAAAAAEtAAAAAAACAS0AAAAAAAABMQAAAAAAAgExAAAAAAAAATUAAAAAAAIBNQAAAAAAAAE5AAAAAAACATkAAAAAAAABPQAAAAAAAgE9AAAAAAAAAUEAAAAAAAEBQQAAAAAAAgFBAAAAAAADAUEAAAAAAAABRQAAAAAAAQFFAAAAAAACAUUAAAAAAAMBRQAAAAAAAAFJAAAAAAABAUkAAAAAAAIBSQAAAAAAAwFJAAAAAAAAAU0AAAAAAAEBTQAAAAAAAgFNAAAAAAADAU0AAAAAAAABUQAAAAAAAQFRAAAAAAACAVEAAAAAAAMBUQAAAAAAAAFVAAAAAAABAVUAAAAAAAIBVQAAAAAAAwFVAAAAAAAAAVkAAAAAAAEBWQAAAAAAAgFZAAAAAAADAVkAAAAAAAABXQAAAAAAAQFdAAAAAAACAV0AAAAAAAMBXQAAAAAAAAFhAAAAAAABAWEAAAAAAAIBYQAAAAAAAwFhAAAAAAAAAWUA=",
          "dtype": "f8"
         },
         "xaxis": "x2",
         "y": [
          944,
          323,
          202,
          215,
          226,
          233,
          242,
          253,
          258,
          266,
          270,
          276,
          277,
          287,
          297,
          300,
          300,
          300,
          300,
          300,
          300,
          300,
          300,
          300,
          300,
          300,
          300,
          300,
          300,
          300,
          300,
          300,
          300,
          300,
          300,
          300,
          300,
          300,
          300,
          300,
          300,
          300,
          300,
          300,
          300,
          300,
          300,
          300,
          300,
          300,
          300,
          300,
          300,
          300,
          300,
          300,
          300,
          300,
          300,
          300,
          300,
          300,
          300,
          300,
          300,
          300,
          300,
          300,
          300,
          300,
          300,
          300,
          300,
          300,
          300,
          300,
          300,
          300,
          300,
          300,
          300,
          300,
          300,
          300,
          300,
          300,
          300,
          300,
          300,
          300,
          300,
          300,
          300,
          300,
          300,
          300,
          300,
          300,
          300,
          300
         ],
         "yaxis": "y2"
        }
       ],
       "layout": {
        "annotations": [
         {
          "font": {
           "size": 16
          },
          "showarrow": false,
          "text": "Min Rank",
          "x": 0.225,
          "xanchor": "center",
          "xref": "paper",
          "y": 1,
          "yanchor": "bottom",
          "yref": "paper"
         },
         {
          "font": {
           "size": 16
          },
          "showarrow": false,
          "text": "Median Rank",
          "x": 0.775,
          "xanchor": "center",
          "xref": "paper",
          "y": 1,
          "yanchor": "bottom",
          "yref": "paper"
         }
        ],
        "shapes": [
         {
          "line": {
           "color": "black",
           "dash": "dash",
           "width": 2
          },
          "type": "line",
          "x0": 5,
          "x1": 5,
          "xref": "x",
          "y0": 0,
          "y1": 1,
          "yref": "y domain"
         },
         {
          "line": {
           "color": "black",
           "dash": "dash",
           "width": 2
          },
          "type": "line",
          "x0": 5,
          "x1": 5,
          "xref": "x2",
          "y0": 0,
          "y1": 1,
          "yref": "y2 domain"
         }
        ],
        "template": {
         "data": {
          "bar": [
           {
            "error_x": {
             "color": "#2a3f5f"
            },
            "error_y": {
             "color": "#2a3f5f"
            },
            "marker": {
             "line": {
              "color": "#E5ECF6",
              "width": 0.5
             },
             "pattern": {
              "fillmode": "overlay",
              "size": 10,
              "solidity": 0.2
             }
            },
            "type": "bar"
           }
          ],
          "barpolar": [
           {
            "marker": {
             "line": {
              "color": "#E5ECF6",
              "width": 0.5
             },
             "pattern": {
              "fillmode": "overlay",
              "size": 10,
              "solidity": 0.2
             }
            },
            "type": "barpolar"
           }
          ],
          "carpet": [
           {
            "aaxis": {
             "endlinecolor": "#2a3f5f",
             "gridcolor": "white",
             "linecolor": "white",
             "minorgridcolor": "white",
             "startlinecolor": "#2a3f5f"
            },
            "baxis": {
             "endlinecolor": "#2a3f5f",
             "gridcolor": "white",
             "linecolor": "white",
             "minorgridcolor": "white",
             "startlinecolor": "#2a3f5f"
            },
            "type": "carpet"
           }
          ],
          "choropleth": [
           {
            "colorbar": {
             "outlinewidth": 0,
             "ticks": ""
            },
            "type": "choropleth"
           }
          ],
          "contour": [
           {
            "colorbar": {
             "outlinewidth": 0,
             "ticks": ""
            },
            "colorscale": [
             [
              0,
              "#0d0887"
             ],
             [
              0.1111111111111111,
              "#46039f"
             ],
             [
              0.2222222222222222,
              "#7201a8"
             ],
             [
              0.3333333333333333,
              "#9c179e"
             ],
             [
              0.4444444444444444,
              "#bd3786"
             ],
             [
              0.5555555555555556,
              "#d8576b"
             ],
             [
              0.6666666666666666,
              "#ed7953"
             ],
             [
              0.7777777777777778,
              "#fb9f3a"
             ],
             [
              0.8888888888888888,
              "#fdca26"
             ],
             [
              1,
              "#f0f921"
             ]
            ],
            "type": "contour"
           }
          ],
          "contourcarpet": [
           {
            "colorbar": {
             "outlinewidth": 0,
             "ticks": ""
            },
            "type": "contourcarpet"
           }
          ],
          "heatmap": [
           {
            "colorbar": {
             "outlinewidth": 0,
             "ticks": ""
            },
            "colorscale": [
             [
              0,
              "#0d0887"
             ],
             [
              0.1111111111111111,
              "#46039f"
             ],
             [
              0.2222222222222222,
              "#7201a8"
             ],
             [
              0.3333333333333333,
              "#9c179e"
             ],
             [
              0.4444444444444444,
              "#bd3786"
             ],
             [
              0.5555555555555556,
              "#d8576b"
             ],
             [
              0.6666666666666666,
              "#ed7953"
             ],
             [
              0.7777777777777778,
              "#fb9f3a"
             ],
             [
              0.8888888888888888,
              "#fdca26"
             ],
             [
              1,
              "#f0f921"
             ]
            ],
            "type": "heatmap"
           }
          ],
          "histogram": [
           {
            "marker": {
             "pattern": {
              "fillmode": "overlay",
              "size": 10,
              "solidity": 0.2
             }
            },
            "type": "histogram"
           }
          ],
          "histogram2d": [
           {
            "colorbar": {
             "outlinewidth": 0,
             "ticks": ""
            },
            "colorscale": [
             [
              0,
              "#0d0887"
             ],
             [
              0.1111111111111111,
              "#46039f"
             ],
             [
              0.2222222222222222,
              "#7201a8"
             ],
             [
              0.3333333333333333,
              "#9c179e"
             ],
             [
              0.4444444444444444,
              "#bd3786"
             ],
             [
              0.5555555555555556,
              "#d8576b"
             ],
             [
              0.6666666666666666,
              "#ed7953"
             ],
             [
              0.7777777777777778,
              "#fb9f3a"
             ],
             [
              0.8888888888888888,
              "#fdca26"
             ],
             [
              1,
              "#f0f921"
             ]
            ],
            "type": "histogram2d"
           }
          ],
          "histogram2dcontour": [
           {
            "colorbar": {
             "outlinewidth": 0,
             "ticks": ""
            },
            "colorscale": [
             [
              0,
              "#0d0887"
             ],
             [
              0.1111111111111111,
              "#46039f"
             ],
             [
              0.2222222222222222,
              "#7201a8"
             ],
             [
              0.3333333333333333,
              "#9c179e"
             ],
             [
              0.4444444444444444,
              "#bd3786"
             ],
             [
              0.5555555555555556,
              "#d8576b"
             ],
             [
              0.6666666666666666,
              "#ed7953"
             ],
             [
              0.7777777777777778,
              "#fb9f3a"
             ],
             [
              0.8888888888888888,
              "#fdca26"
             ],
             [
              1,
              "#f0f921"
             ]
            ],
            "type": "histogram2dcontour"
           }
          ],
          "mesh3d": [
           {
            "colorbar": {
             "outlinewidth": 0,
             "ticks": ""
            },
            "type": "mesh3d"
           }
          ],
          "parcoords": [
           {
            "line": {
             "colorbar": {
              "outlinewidth": 0,
              "ticks": ""
             }
            },
            "type": "parcoords"
           }
          ],
          "pie": [
           {
            "automargin": true,
            "type": "pie"
           }
          ],
          "scatter": [
           {
            "fillpattern": {
             "fillmode": "overlay",
             "size": 10,
             "solidity": 0.2
            },
            "type": "scatter"
           }
          ],
          "scatter3d": [
           {
            "line": {
             "colorbar": {
              "outlinewidth": 0,
              "ticks": ""
             }
            },
            "marker": {
             "colorbar": {
              "outlinewidth": 0,
              "ticks": ""
             }
            },
            "type": "scatter3d"
           }
          ],
          "scattercarpet": [
           {
            "marker": {
             "colorbar": {
              "outlinewidth": 0,
              "ticks": ""
             }
            },
            "type": "scattercarpet"
           }
          ],
          "scattergeo": [
           {
            "marker": {
             "colorbar": {
              "outlinewidth": 0,
              "ticks": ""
             }
            },
            "type": "scattergeo"
           }
          ],
          "scattergl": [
           {
            "marker": {
             "colorbar": {
              "outlinewidth": 0,
              "ticks": ""
             }
            },
            "type": "scattergl"
           }
          ],
          "scattermap": [
           {
            "marker": {
             "colorbar": {
              "outlinewidth": 0,
              "ticks": ""
             }
            },
            "type": "scattermap"
           }
          ],
          "scattermapbox": [
           {
            "marker": {
             "colorbar": {
              "outlinewidth": 0,
              "ticks": ""
             }
            },
            "type": "scattermapbox"
           }
          ],
          "scatterpolar": [
           {
            "marker": {
             "colorbar": {
              "outlinewidth": 0,
              "ticks": ""
             }
            },
            "type": "scatterpolar"
           }
          ],
          "scatterpolargl": [
           {
            "marker": {
             "colorbar": {
              "outlinewidth": 0,
              "ticks": ""
             }
            },
            "type": "scatterpolargl"
           }
          ],
          "scatterternary": [
           {
            "marker": {
             "colorbar": {
              "outlinewidth": 0,
              "ticks": ""
             }
            },
            "type": "scatterternary"
           }
          ],
          "surface": [
           {
            "colorbar": {
             "outlinewidth": 0,
             "ticks": ""
            },
            "colorscale": [
             [
              0,
              "#0d0887"
             ],
             [
              0.1111111111111111,
              "#46039f"
             ],
             [
              0.2222222222222222,
              "#7201a8"
             ],
             [
              0.3333333333333333,
              "#9c179e"
             ],
             [
              0.4444444444444444,
              "#bd3786"
             ],
             [
              0.5555555555555556,
              "#d8576b"
             ],
             [
              0.6666666666666666,
              "#ed7953"
             ],
             [
              0.7777777777777778,
              "#fb9f3a"
             ],
             [
              0.8888888888888888,
              "#fdca26"
             ],
             [
              1,
              "#f0f921"
             ]
            ],
            "type": "surface"
           }
          ],
          "table": [
           {
            "cells": {
             "fill": {
              "color": "#EBF0F8"
             },
             "line": {
              "color": "white"
             }
            },
            "header": {
             "fill": {
              "color": "#C8D4E3"
             },
             "line": {
              "color": "white"
             }
            },
            "type": "table"
           }
          ]
         },
         "layout": {
          "annotationdefaults": {
           "arrowcolor": "#2a3f5f",
           "arrowhead": 0,
           "arrowwidth": 1
          },
          "autotypenumbers": "strict",
          "coloraxis": {
           "colorbar": {
            "outlinewidth": 0,
            "ticks": ""
           }
          },
          "colorscale": {
           "diverging": [
            [
             0,
             "#8e0152"
            ],
            [
             0.1,
             "#c51b7d"
            ],
            [
             0.2,
             "#de77ae"
            ],
            [
             0.3,
             "#f1b6da"
            ],
            [
             0.4,
             "#fde0ef"
            ],
            [
             0.5,
             "#f7f7f7"
            ],
            [
             0.6,
             "#e6f5d0"
            ],
            [
             0.7,
             "#b8e186"
            ],
            [
             0.8,
             "#7fbc41"
            ],
            [
             0.9,
             "#4d9221"
            ],
            [
             1,
             "#276419"
            ]
           ],
           "sequential": [
            [
             0,
             "#0d0887"
            ],
            [
             0.1111111111111111,
             "#46039f"
            ],
            [
             0.2222222222222222,
             "#7201a8"
            ],
            [
             0.3333333333333333,
             "#9c179e"
            ],
            [
             0.4444444444444444,
             "#bd3786"
            ],
            [
             0.5555555555555556,
             "#d8576b"
            ],
            [
             0.6666666666666666,
             "#ed7953"
            ],
            [
             0.7777777777777778,
             "#fb9f3a"
            ],
            [
             0.8888888888888888,
             "#fdca26"
            ],
            [
             1,
             "#f0f921"
            ]
           ],
           "sequentialminus": [
            [
             0,
             "#0d0887"
            ],
            [
             0.1111111111111111,
             "#46039f"
            ],
            [
             0.2222222222222222,
             "#7201a8"
            ],
            [
             0.3333333333333333,
             "#9c179e"
            ],
            [
             0.4444444444444444,
             "#bd3786"
            ],
            [
             0.5555555555555556,
             "#d8576b"
            ],
            [
             0.6666666666666666,
             "#ed7953"
            ],
            [
             0.7777777777777778,
             "#fb9f3a"
            ],
            [
             0.8888888888888888,
             "#fdca26"
            ],
            [
             1,
             "#f0f921"
            ]
           ]
          },
          "colorway": [
           "#636efa",
           "#EF553B",
           "#00cc96",
           "#ab63fa",
           "#FFA15A",
           "#19d3f3",
           "#FF6692",
           "#B6E880",
           "#FF97FF",
           "#FECB52"
          ],
          "font": {
           "color": "#2a3f5f"
          },
          "geo": {
           "bgcolor": "white",
           "lakecolor": "white",
           "landcolor": "#E5ECF6",
           "showlakes": true,
           "showland": true,
           "subunitcolor": "white"
          },
          "hoverlabel": {
           "align": "left"
          },
          "hovermode": "closest",
          "mapbox": {
           "style": "light"
          },
          "paper_bgcolor": "white",
          "plot_bgcolor": "#E5ECF6",
          "polar": {
           "angularaxis": {
            "gridcolor": "white",
            "linecolor": "white",
            "ticks": ""
           },
           "bgcolor": "#E5ECF6",
           "radialaxis": {
            "gridcolor": "white",
            "linecolor": "white",
            "ticks": ""
           }
          },
          "scene": {
           "xaxis": {
            "backgroundcolor": "#E5ECF6",
            "gridcolor": "white",
            "gridwidth": 2,
            "linecolor": "white",
            "showbackground": true,
            "ticks": "",
            "zerolinecolor": "white"
           },
           "yaxis": {
            "backgroundcolor": "#E5ECF6",
            "gridcolor": "white",
            "gridwidth": 2,
            "linecolor": "white",
            "showbackground": true,
            "ticks": "",
            "zerolinecolor": "white"
           },
           "zaxis": {
            "backgroundcolor": "#E5ECF6",
            "gridcolor": "white",
            "gridwidth": 2,
            "linecolor": "white",
            "showbackground": true,
            "ticks": "",
            "zerolinecolor": "white"
           }
          },
          "shapedefaults": {
           "line": {
            "color": "#2a3f5f"
           }
          },
          "ternary": {
           "aaxis": {
            "gridcolor": "white",
            "linecolor": "white",
            "ticks": ""
           },
           "baxis": {
            "gridcolor": "white",
            "linecolor": "white",
            "ticks": ""
           },
           "bgcolor": "#E5ECF6",
           "caxis": {
            "gridcolor": "white",
            "linecolor": "white",
            "ticks": ""
           }
          },
          "title": {
           "x": 0.05
          },
          "xaxis": {
           "automargin": true,
           "gridcolor": "white",
           "linecolor": "white",
           "ticks": "",
           "title": {
            "standoff": 15
           },
           "zerolinecolor": "white",
           "zerolinewidth": 2
          },
          "yaxis": {
           "automargin": true,
           "gridcolor": "white",
           "linecolor": "white",
           "ticks": "",
           "title": {
            "standoff": 15
           },
           "zerolinecolor": "white",
           "zerolinewidth": 2
          }
         }
        },
        "title": {
         "text": "Recurrence Weight: Gene Rank Distributions"
        },
        "xaxis": {
         "anchor": "y",
         "domain": [
          0,
          0.45
         ]
        },
        "xaxis2": {
         "anchor": "y2",
         "domain": [
          0.55,
          1
         ]
        },
        "yaxis": {
         "anchor": "x",
         "domain": [
          0,
          1
         ],
         "range": [
          0,
          950
         ]
        },
        "yaxis2": {
         "anchor": "x2",
         "domain": [
          0,
          1
         ],
         "range": [
          0,
          950
         ]
        }
       }
      }
     },
     "metadata": {},
     "output_type": "display_data"
    },
    {
     "data": {
      "application/vnd.jupyter.widget-view+json": {
       "model_id": "e2fdd8c7cd2645429cf63f5ff3d2e576",
       "version_major": 2,
       "version_minor": 0
      },
      "text/plain": [
       "Gene Expression Weight: TERT 1295228:   0%|          | 0/100 [00:00<?, ?it/s]"
      ]
     },
     "metadata": {},
     "output_type": "display_data"
    },
    {
     "data": {
      "application/vnd.jupyter.widget-view+json": {
       "model_id": "5fcce453037a4861b4c7e57f3e5cd9f3",
       "version_major": 2,
       "version_minor": 0
      },
      "text/plain": [
       "Gene Expression Weight: TERT 1295250:   0%|          | 0/100 [00:00<?, ?it/s]"
      ]
     },
     "metadata": {},
     "output_type": "display_data"
    },
    {
     "data": {
      "application/vnd.jupyter.widget-view+json": {
       "model_id": "5b4899b8a4444413b7860c34887fb5c1",
       "version_major": 2,
       "version_minor": 0
      },
      "text/plain": [
       "Gene Expression Weight: RALY 32580927:   0%|          | 0/100 [00:00<?, ?it/s]"
      ]
     },
     "metadata": {},
     "output_type": "display_data"
    },
    {
     "data": {
      "application/vnd.jupyter.widget-view+json": {
       "model_id": "299412c4aaf24699956bdb7a3742f08d",
       "version_major": 2,
       "version_minor": 0
      },
      "text/plain": [
       "Gene Expression Weight: CDC20 43824529:   0%|          | 0/100 [00:00<?, ?it/s]"
      ]
     },
     "metadata": {},
     "output_type": "display_data"
    },
    {
     "data": {
      "application/vnd.plotly.v1+json": {
       "config": {
        "plotlyServerURL": "https://plot.ly"
       },
       "data": [
        {
         "marker": {
          "color": "red",
          "size": 10
         },
         "mode": "lines",
         "name": "TERT 1295228",
         "type": "scatter",
         "x": {
          "bdata": "AAAAAAAA8D8AAAAAAAAAQAAAAAAAAAhAAAAAAAAAEEAAAAAAAAAUQAAAAAAAABhAAAAAAAAAHEAAAAAAAAAgQAAAAAAAACJAAAAAAAAAJEAAAAAAAAAmQAAAAAAAAChAAAAAAAAAKkAAAAAAAAAsQAAAAAAAAC5AAAAAAAAAMEAAAAAAAAAxQAAAAAAAADJAAAAAAAAAM0AAAAAAAAA0QAAAAAAAADVAAAAAAAAANkAAAAAAAAA3QAAAAAAAADhAAAAAAAAAOUAAAAAAAAA6QAAAAAAAADtAAAAAAAAAPEAAAAAAAAA9QAAAAAAAAD5AAAAAAAAAP0AAAAAAAABAQAAAAAAAgEBAAAAAAAAAQUAAAAAAAIBBQAAAAAAAAEJAAAAAAACAQkAAAAAAAABDQAAAAAAAgENAAAAAAAAAREAAAAAAAIBEQAAAAAAAAEVAAAAAAACARUAAAAAAAABGQAAAAAAAgEZAAAAAAAAAR0AAAAAAAIBHQAAAAAAAAEhAAAAAAACASEAAAAAAAABJQAAAAAAAgElAAAAAAAAASkAAAAAAAIBKQAAAAAAAAEtAAAAAAACAS0AAAAAAAABMQAAAAAAAgExAAAAAAAAATUAAAAAAAIBNQAAAAAAAAE5AAAAAAACATkAAAAAAAABPQAAAAAAAgE9AAAAAAAAAUEAAAAAAAEBQQAAAAAAAgFBAAAAAAADAUEAAAAAAAABRQAAAAAAAQFFAAAAAAACAUUAAAAAAAMBRQAAAAAAAAFJAAAAAAABAUkAAAAAAAIBSQAAAAAAAwFJAAAAAAAAAU0AAAAAAAEBTQAAAAAAAgFNAAAAAAADAU0AAAAAAAABUQAAAAAAAQFRAAAAAAACAVEAAAAAAAMBUQAAAAAAAAFVAAAAAAABAVUAAAAAAAIBVQAAAAAAAwFVAAAAAAAAAVkAAAAAAAEBWQAAAAAAAgFZAAAAAAADAVkAAAAAAAABXQAAAAAAAQFdAAAAAAACAV0AAAAAAAMBXQAAAAAAAAFhAAAAAAABAWEAAAAAAAIBYQAAAAAAAwFhAAAAAAAAAWUA=",
          "dtype": "f8"
         },
         "xaxis": "x",
         "y": [
          25.5,
          28.5,
          35,
          42,
          52.5,
          61.5,
          71,
          85,
          85,
          89.5,
          93.5,
          100,
          102.5,
          100,
          96.5,
          99,
          88.5,
          89,
          90,
          85.5,
          86.5,
          86.5,
          87,
          88,
          87.5,
          88,
          87,
          86.5,
          76.5,
          77,
          74.5,
          75,
          76,
          58,
          58,
          58,
          58.5,
          59.5,
          53.5,
          54,
          54,
          55.5,
          56.5,
          57.5,
          57.5,
          57.5,
          58.5,
          58.5,
          58.5,
          59.5,
          59.5,
          60.5,
          62.5,
          62.5,
          63.5,
          63.5,
          63.5,
          63.5,
          66.5,
          66.5,
          66.5,
          66.5,
          66.5,
          66.5,
          66.5,
          66.5,
          56,
          57,
          57.5,
          57.5,
          57.5,
          57.5,
          57.5,
          57.5,
          54,
          54,
          54,
          42,
          42,
          42,
          42,
          42,
          41,
          41,
          41,
          41,
          37.5,
          35,
          35,
          35,
          35,
          33,
          33,
          33,
          33,
          33,
          32,
          32,
          32,
          30.5
         ],
         "yaxis": "y"
        },
        {
         "marker": {
          "color": "red",
          "size": 10
         },
         "mode": "lines",
         "name": "TERT 1295228",
         "showlegend": false,
         "type": "scatter",
         "x": {
          "bdata": "AAAAAAAA8D8AAAAAAAAAQAAAAAAAAAhAAAAAAAAAEEAAAAAAAAAUQAAAAAAAABhAAAAAAAAAHEAAAAAAAAAgQAAAAAAAACJAAAAAAAAAJEAAAAAAAAAmQAAAAAAAAChAAAAAAAAAKkAAAAAAAAAsQAAAAAAAAC5AAAAAAAAAMEAAAAAAAAAxQAAAAAAAADJAAAAAAAAAM0AAAAAAAAA0QAAAAAAAADVAAAAAAAAANkAAAAAAAAA3QAAAAAAAADhAAAAAAAAAOUAAAAAAAAA6QAAAAAAAADtAAAAAAAAAPEAAAAAAAAA9QAAAAAAAAD5AAAAAAAAAP0AAAAAAAABAQAAAAAAAgEBAAAAAAAAAQUAAAAAAAIBBQAAAAAAAAEJAAAAAAACAQkAAAAAAAABDQAAAAAAAgENAAAAAAAAAREAAAAAAAIBEQAAAAAAAAEVAAAAAAACARUAAAAAAAABGQAAAAAAAgEZAAAAAAAAAR0AAAAAAAIBHQAAAAAAAAEhAAAAAAACASEAAAAAAAABJQAAAAAAAgElAAAAAAAAASkAAAAAAAIBKQAAAAAAAAEtAAAAAAACAS0AAAAAAAABMQAAAAAAAgExAAAAAAAAATUAAAAAAAIBNQAAAAAAAAE5AAAAAAACATkAAAAAAAABPQAAAAAAAgE9AAAAAAAAAUEAAAAAAAEBQQAAAAAAAgFBAAAAAAADAUEAAAAAAAABRQAAAAAAAQFFAAAAAAACAUUAAAAAAAMBRQAAAAAAAAFJAAAAAAABAUkAAAAAAAIBSQAAAAAAAwFJAAAAAAAAAU0AAAAAAAEBTQAAAAAAAgFNAAAAAAADAU0AAAAAAAABUQAAAAAAAQFRAAAAAAACAVEAAAAAAAMBUQAAAAAAAAFVAAAAAAABAVUAAAAAAAIBVQAAAAAAAwFVAAAAAAAAAVkAAAAAAAEBWQAAAAAAAgFZAAAAAAADAVkAAAAAAAABXQAAAAAAAQFdAAAAAAACAV0AAAAAAAMBXQAAAAAAAAFhAAAAAAABAWEAAAAAAAIBYQAAAAAAAwFhAAAAAAAAAWUA=",
          "dtype": "f8"
         },
         "xaxis": "x2",
         "y": [
          4,
          3,
          3,
          3,
          3,
          3,
          3,
          2,
          2,
          2,
          2,
          2,
          2,
          2,
          2,
          2,
          2,
          2,
          2,
          3,
          3,
          3,
          3,
          3,
          3,
          3,
          4,
          4,
          4,
          4,
          4,
          4,
          4,
          4,
          4,
          4,
          4,
          4,
          4,
          4,
          4,
          4,
          4,
          5,
          4,
          4,
          4,
          4,
          4,
          4,
          4,
          5,
          5,
          5,
          5,
          5,
          5,
          5,
          7,
          6,
          6,
          6,
          6,
          6,
          6,
          6,
          6,
          7,
          7,
          7,
          7,
          7,
          7,
          7,
          7,
          9,
          7,
          7,
          8,
          7,
          7,
          7,
          7,
          7,
          7,
          7,
          7,
          7,
          7,
          8,
          7,
          7,
          7,
          7,
          7,
          7,
          7,
          7,
          7,
          7
         ],
         "yaxis": "y2"
        },
        {
         "marker": {
          "color": "blue",
          "size": 10
         },
         "mode": "lines",
         "name": "TERT 1295250",
         "type": "scatter",
         "x": {
          "bdata": "AAAAAAAA8D8AAAAAAAAAQAAAAAAAAAhAAAAAAAAAEEAAAAAAAAAUQAAAAAAAABhAAAAAAAAAHEAAAAAAAAAgQAAAAAAAACJAAAAAAAAAJEAAAAAAAAAmQAAAAAAAAChAAAAAAAAAKkAAAAAAAAAsQAAAAAAAAC5AAAAAAAAAMEAAAAAAAAAxQAAAAAAAADJAAAAAAAAAM0AAAAAAAAA0QAAAAAAAADVAAAAAAAAANkAAAAAAAAA3QAAAAAAAADhAAAAAAAAAOUAAAAAAAAA6QAAAAAAAADtAAAAAAAAAPEAAAAAAAAA9QAAAAAAAAD5AAAAAAAAAP0AAAAAAAABAQAAAAAAAgEBAAAAAAAAAQUAAAAAAAIBBQAAAAAAAAEJAAAAAAACAQkAAAAAAAABDQAAAAAAAgENAAAAAAAAAREAAAAAAAIBEQAAAAAAAAEVAAAAAAACARUAAAAAAAABGQAAAAAAAgEZAAAAAAAAAR0AAAAAAAIBHQAAAAAAAAEhAAAAAAACASEAAAAAAAABJQAAAAAAAgElAAAAAAAAASkAAAAAAAIBKQAAAAAAAAEtAAAAAAACAS0AAAAAAAABMQAAAAAAAgExAAAAAAAAATUAAAAAAAIBNQAAAAAAAAE5AAAAAAACATkAAAAAAAABPQAAAAAAAgE9AAAAAAAAAUEAAAAAAAEBQQAAAAAAAgFBAAAAAAADAUEAAAAAAAABRQAAAAAAAQFFAAAAAAACAUUAAAAAAAMBRQAAAAAAAAFJAAAAAAABAUkAAAAAAAIBSQAAAAAAAwFJAAAAAAAAAU0AAAAAAAEBTQAAAAAAAgFNAAAAAAADAU0AAAAAAAABUQAAAAAAAQFRAAAAAAACAVEAAAAAAAMBUQAAAAAAAAFVAAAAAAABAVUAAAAAAAIBVQAAAAAAAwFVAAAAAAAAAVkAAAAAAAEBWQAAAAAAAgFZAAAAAAADAVkAAAAAAAABXQAAAAAAAQFdAAAAAAACAV0AAAAAAAMBXQAAAAAAAAFhAAAAAAABAWEAAAAAAAIBYQAAAAAAAwFhAAAAAAAAAWUA=",
          "dtype": "f8"
         },
         "xaxis": "x",
         "y": [
          24,
          27,
          35,
          41,
          53,
          67,
          80,
          96,
          105,
          122,
          138,
          129,
          134,
          140,
          142,
          131,
          135,
          141,
          148,
          139,
          144,
          148,
          153,
          120,
          120,
          123,
          126,
          115,
          115,
          115,
          116,
          115,
          115,
          116,
          116,
          115,
          116,
          116,
          116,
          115,
          115,
          116,
          109,
          111,
          113,
          113,
          82,
          82,
          83,
          83,
          83,
          84,
          84,
          84,
          70,
          70,
          70,
          71,
          65,
          65,
          65,
          65,
          44,
          44,
          44,
          44,
          44,
          44,
          44,
          44,
          37,
          37,
          37,
          37,
          37,
          37,
          37,
          37,
          35,
          35,
          35,
          35,
          30,
          30,
          30,
          26,
          26,
          26,
          26,
          26,
          26,
          26,
          26,
          23,
          23,
          23,
          23,
          23,
          23,
          23
         ],
         "yaxis": "y"
        },
        {
         "marker": {
          "color": "blue",
          "size": 10
         },
         "mode": "lines",
         "name": "TERT 1295250",
         "showlegend": false,
         "type": "scatter",
         "x": {
          "bdata": "AAAAAAAA8D8AAAAAAAAAQAAAAAAAAAhAAAAAAAAAEEAAAAAAAAAUQAAAAAAAABhAAAAAAAAAHEAAAAAAAAAgQAAAAAAAACJAAAAAAAAAJEAAAAAAAAAmQAAAAAAAAChAAAAAAAAAKkAAAAAAAAAsQAAAAAAAAC5AAAAAAAAAMEAAAAAAAAAxQAAAAAAAADJAAAAAAAAAM0AAAAAAAAA0QAAAAAAAADVAAAAAAAAANkAAAAAAAAA3QAAAAAAAADhAAAAAAAAAOUAAAAAAAAA6QAAAAAAAADtAAAAAAAAAPEAAAAAAAAA9QAAAAAAAAD5AAAAAAAAAP0AAAAAAAABAQAAAAAAAgEBAAAAAAAAAQUAAAAAAAIBBQAAAAAAAAEJAAAAAAACAQkAAAAAAAABDQAAAAAAAgENAAAAAAAAAREAAAAAAAIBEQAAAAAAAAEVAAAAAAACARUAAAAAAAABGQAAAAAAAgEZAAAAAAAAAR0AAAAAAAIBHQAAAAAAAAEhAAAAAAACASEAAAAAAAABJQAAAAAAAgElAAAAAAAAASkAAAAAAAIBKQAAAAAAAAEtAAAAAAACAS0AAAAAAAABMQAAAAAAAgExAAAAAAAAATUAAAAAAAIBNQAAAAAAAAE5AAAAAAACATkAAAAAAAABPQAAAAAAAgE9AAAAAAAAAUEAAAAAAAEBQQAAAAAAAgFBAAAAAAADAUEAAAAAAAABRQAAAAAAAQFFAAAAAAACAUUAAAAAAAMBRQAAAAAAAAFJAAAAAAABAUkAAAAAAAIBSQAAAAAAAwFJAAAAAAAAAU0AAAAAAAEBTQAAAAAAAgFNAAAAAAADAU0AAAAAAAABUQAAAAAAAQFRAAAAAAACAVEAAAAAAAMBUQAAAAAAAAFVAAAAAAABAVUAAAAAAAIBVQAAAAAAAwFVAAAAAAAAAVkAAAAAAAEBWQAAAAAAAgFZAAAAAAADAVkAAAAAAAABXQAAAAAAAQFdAAAAAAACAV0AAAAAAAMBXQAAAAAAAAFhAAAAAAABAWEAAAAAAAIBYQAAAAAAAwFhAAAAAAAAAWUA=",
          "dtype": "f8"
         },
         "xaxis": "x2",
         "y": [
          16,
          17,
          20,
          27,
          29,
          37,
          41,
          44,
          48,
          44,
          48,
          50,
          55,
          58,
          57,
          44,
          45,
          45,
          37,
          33,
          33,
          24,
          24,
          20,
          20,
          20,
          19,
          16,
          16,
          13,
          13,
          12,
          12,
          9,
          6,
          12,
          6,
          10,
          6,
          6,
          10,
          5,
          5,
          4,
          5,
          7,
          6,
          6,
          6,
          5,
          6,
          8,
          11,
          6,
          9,
          9,
          11,
          6,
          6,
          11,
          7,
          7,
          7,
          7,
          7,
          14,
          16,
          6,
          6,
          6,
          11,
          16,
          15,
          15,
          16,
          7,
          8,
          8,
          7,
          15,
          15,
          18,
          18,
          18,
          16,
          15,
          14,
          15,
          15,
          7,
          13,
          13,
          13,
          13,
          13,
          13,
          13,
          13,
          14,
          14
         ],
         "yaxis": "y2"
        },
        {
         "marker": {
          "color": "green",
          "size": 10
         },
         "mode": "lines",
         "name": "RALY 32580927",
         "type": "scatter",
         "x": {
          "bdata": "AAAAAAAA8D8AAAAAAAAAQAAAAAAAAAhAAAAAAAAAEEAAAAAAAAAUQAAAAAAAABhAAAAAAAAAHEAAAAAAAAAgQAAAAAAAACJAAAAAAAAAJEAAAAAAAAAmQAAAAAAAAChAAAAAAAAAKkAAAAAAAAAsQAAAAAAAAC5AAAAAAAAAMEAAAAAAAAAxQAAAAAAAADJAAAAAAAAAM0AAAAAAAAA0QAAAAAAAADVAAAAAAAAANkAAAAAAAAA3QAAAAAAAADhAAAAAAAAAOUAAAAAAAAA6QAAAAAAAADtAAAAAAAAAPEAAAAAAAAA9QAAAAAAAAD5AAAAAAAAAP0AAAAAAAABAQAAAAAAAgEBAAAAAAAAAQUAAAAAAAIBBQAAAAAAAAEJAAAAAAACAQkAAAAAAAABDQAAAAAAAgENAAAAAAAAAREAAAAAAAIBEQAAAAAAAAEVAAAAAAACARUAAAAAAAABGQAAAAAAAgEZAAAAAAAAAR0AAAAAAAIBHQAAAAAAAAEhAAAAAAACASEAAAAAAAABJQAAAAAAAgElAAAAAAAAASkAAAAAAAIBKQAAAAAAAAEtAAAAAAACAS0AAAAAAAABMQAAAAAAAgExAAAAAAAAATUAAAAAAAIBNQAAAAAAAAE5AAAAAAACATkAAAAAAAABPQAAAAAAAgE9AAAAAAAAAUEAAAAAAAEBQQAAAAAAAgFBAAAAAAADAUEAAAAAAAABRQAAAAAAAQFFAAAAAAACAUUAAAAAAAMBRQAAAAAAAAFJAAAAAAABAUkAAAAAAAIBSQAAAAAAAwFJAAAAAAAAAU0AAAAAAAEBTQAAAAAAAgFNAAAAAAADAU0AAAAAAAABUQAAAAAAAQFRAAAAAAACAVEAAAAAAAMBUQAAAAAAAAFVAAAAAAABAVUAAAAAAAIBVQAAAAAAAwFVAAAAAAAAAVkAAAAAAAEBWQAAAAAAAgFZAAAAAAADAVkAAAAAAAABXQAAAAAAAQFdAAAAAAACAV0AAAAAAAMBXQAAAAAAAAFhAAAAAAABAWEAAAAAAAIBYQAAAAAAAwFhAAAAAAAAAWUA=",
          "dtype": "f8"
         },
         "xaxis": "x",
         "y": [
          84.5,
          93,
          112.5,
          143,
          185.5,
          225,
          261,
          290,
          324,
          368,
          391,
          411,
          427,
          435,
          428.5,
          436.5,
          442,
          448.5,
          442.5,
          446,
          376.5,
          371.5,
          374,
          375.5,
          378.5,
          360,
          314.5,
          315.5,
          314,
          307.5,
          309.5,
          243,
          242.5,
          228,
          221,
          221,
          194,
          194,
          194,
          178,
          178.5,
          168.5,
          169.5,
          166,
          138,
          138,
          138,
          113.5,
          114,
          111.5,
          111.5,
          111,
          110,
          110,
          102,
          102,
          102,
          98,
          95.5,
          95.5,
          77.5,
          67,
          66,
          66,
          66,
          64.5,
          66,
          63.5,
          64,
          61.5,
          61.5,
          60,
          60,
          60.5,
          59.5,
          58,
          65,
          61,
          60.5,
          59,
          59,
          62,
          63.5,
          62.5,
          53.5,
          55.5,
          65.5,
          62,
          55,
          60.5,
          57.5,
          55.5,
          56.5,
          65.5,
          63.5,
          63.5,
          63.5,
          57,
          64,
          64
         ],
         "yaxis": "y"
        },
        {
         "marker": {
          "color": "green",
          "size": 10
         },
         "mode": "lines",
         "name": "RALY 32580927",
         "showlegend": false,
         "type": "scatter",
         "x": {
          "bdata": "AAAAAAAA8D8AAAAAAAAAQAAAAAAAAAhAAAAAAAAAEEAAAAAAAAAUQAAAAAAAABhAAAAAAAAAHEAAAAAAAAAgQAAAAAAAACJAAAAAAAAAJEAAAAAAAAAmQAAAAAAAAChAAAAAAAAAKkAAAAAAAAAsQAAAAAAAAC5AAAAAAAAAMEAAAAAAAAAxQAAAAAAAADJAAAAAAAAAM0AAAAAAAAA0QAAAAAAAADVAAAAAAAAANkAAAAAAAAA3QAAAAAAAADhAAAAAAAAAOUAAAAAAAAA6QAAAAAAAADtAAAAAAAAAPEAAAAAAAAA9QAAAAAAAAD5AAAAAAAAAP0AAAAAAAABAQAAAAAAAgEBAAAAAAAAAQUAAAAAAAIBBQAAAAAAAAEJAAAAAAACAQkAAAAAAAABDQAAAAAAAgENAAAAAAAAAREAAAAAAAIBEQAAAAAAAAEVAAAAAAACARUAAAAAAAABGQAAAAAAAgEZAAAAAAAAAR0AAAAAAAIBHQAAAAAAAAEhAAAAAAACASEAAAAAAAABJQAAAAAAAgElAAAAAAAAASkAAAAAAAIBKQAAAAAAAAEtAAAAAAACAS0AAAAAAAABMQAAAAAAAgExAAAAAAAAATUAAAAAAAIBNQAAAAAAAAE5AAAAAAACATkAAAAAAAABPQAAAAAAAgE9AAAAAAAAAUEAAAAAAAEBQQAAAAAAAgFBAAAAAAADAUEAAAAAAAABRQAAAAAAAQFFAAAAAAACAUUAAAAAAAMBRQAAAAAAAAFJAAAAAAABAUkAAAAAAAIBSQAAAAAAAwFJAAAAAAAAAU0AAAAAAAEBTQAAAAAAAgFNAAAAAAADAU0AAAAAAAABUQAAAAAAAQFRAAAAAAACAVEAAAAAAAMBUQAAAAAAAAFVAAAAAAABAVUAAAAAAAIBVQAAAAAAAwFVAAAAAAAAAVkAAAAAAAEBWQAAAAAAAgFZAAAAAAADAVkAAAAAAAABXQAAAAAAAQFdAAAAAAACAV0AAAAAAAMBXQAAAAAAAAFhAAAAAAABAWEAAAAAAAIBYQAAAAAAAwFhAAAAAAAAAWUA=",
          "dtype": "f8"
         },
         "xaxis": "x2",
         "y": [
          35,
          40,
          50,
          60,
          70,
          87,
          108,
          106,
          118,
          129,
          144,
          127,
          128,
          119,
          122,
          112,
          111,
          95,
          96,
          88,
          88,
          86,
          88,
          87,
          88,
          89,
          89,
          82,
          82,
          61,
          62,
          62,
          61,
          49,
          49,
          45,
          45,
          31,
          31,
          31,
          30,
          26,
          26,
          26,
          26,
          24,
          24,
          20,
          20,
          20,
          18,
          19,
          19,
          20,
          21,
          19,
          20,
          21,
          21,
          23,
          24,
          22,
          25,
          24,
          23,
          25,
          24,
          22,
          23,
          23,
          24,
          23,
          23,
          23,
          22,
          26,
          24,
          24,
          25,
          25,
          26,
          25,
          25,
          25,
          25,
          25,
          25,
          25,
          25,
          25,
          23,
          23,
          23,
          24,
          25,
          25,
          25,
          26,
          25,
          26
         ],
         "yaxis": "y2"
        },
        {
         "marker": {
          "color": "yellow",
          "size": 10
         },
         "mode": "lines",
         "name": "CDC20 43824529",
         "type": "scatter",
         "x": {
          "bdata": "AAAAAAAA8D8AAAAAAAAAQAAAAAAAAAhAAAAAAAAAEEAAAAAAAAAUQAAAAAAAABhAAAAAAAAAHEAAAAAAAAAgQAAAAAAAACJAAAAAAAAAJEAAAAAAAAAmQAAAAAAAAChAAAAAAAAAKkAAAAAAAAAsQAAAAAAAAC5AAAAAAAAAMEAAAAAAAAAxQAAAAAAAADJAAAAAAAAAM0AAAAAAAAA0QAAAAAAAADVAAAAAAAAANkAAAAAAAAA3QAAAAAAAADhAAAAAAAAAOUAAAAAAAAA6QAAAAAAAADtAAAAAAAAAPEAAAAAAAAA9QAAAAAAAAD5AAAAAAAAAP0AAAAAAAABAQAAAAAAAgEBAAAAAAAAAQUAAAAAAAIBBQAAAAAAAAEJAAAAAAACAQkAAAAAAAABDQAAAAAAAgENAAAAAAAAAREAAAAAAAIBEQAAAAAAAAEVAAAAAAACARUAAAAAAAABGQAAAAAAAgEZAAAAAAAAAR0AAAAAAAIBHQAAAAAAAAEhAAAAAAACASEAAAAAAAABJQAAAAAAAgElAAAAAAAAASkAAAAAAAIBKQAAAAAAAAEtAAAAAAACAS0AAAAAAAABMQAAAAAAAgExAAAAAAAAATUAAAAAAAIBNQAAAAAAAAE5AAAAAAACATkAAAAAAAABPQAAAAAAAgE9AAAAAAAAAUEAAAAAAAEBQQAAAAAAAgFBAAAAAAADAUEAAAAAAAABRQAAAAAAAQFFAAAAAAACAUUAAAAAAAMBRQAAAAAAAAFJAAAAAAABAUkAAAAAAAIBSQAAAAAAAwFJAAAAAAAAAU0AAAAAAAEBTQAAAAAAAgFNAAAAAAADAU0AAAAAAAABUQAAAAAAAQFRAAAAAAACAVEAAAAAAAMBUQAAAAAAAAFVAAAAAAABAVUAAAAAAAIBVQAAAAAAAwFVAAAAAAAAAVkAAAAAAAEBWQAAAAAAAgFZAAAAAAADAVkAAAAAAAABXQAAAAAAAQFdAAAAAAACAV0AAAAAAAMBXQAAAAAAAAFhAAAAAAABAWEAAAAAAAIBYQAAAAAAAwFhAAAAAAAAAWUA=",
          "dtype": "f8"
         },
         "xaxis": "x",
         "y": [
          236,
          239,
          239,
          232,
          226,
          218,
          180,
          157,
          117,
          95,
          75,
          76,
          80,
          86,
          100,
          106,
          98,
          101,
          107,
          102,
          139,
          137,
          146,
          127,
          139,
          149,
          171,
          164,
          178,
          177,
          151,
          182,
          186,
          176,
          180,
          184,
          182,
          171,
          182,
          194,
          187,
          197,
          204,
          211,
          206,
          204,
          206,
          197,
          203,
          226,
          207,
          214,
          205,
          214,
          220,
          216,
          192,
          215,
          222,
          221,
          228,
          210,
          210,
          225,
          226,
          227,
          230,
          207,
          206,
          211,
          218,
          209,
          209,
          209,
          206,
          213,
          216,
          224,
          222,
          197,
          213,
          213,
          220,
          197,
          221,
          231,
          231,
          199,
          201,
          211,
          230,
          229,
          216,
          249,
          221,
          223,
          223,
          223,
          218,
          218
         ],
         "yaxis": "y"
        },
        {
         "marker": {
          "color": "yellow",
          "size": 10
         },
         "mode": "lines",
         "name": "CDC20 43824529",
         "showlegend": false,
         "type": "scatter",
         "x": {
          "bdata": "AAAAAAAA8D8AAAAAAAAAQAAAAAAAAAhAAAAAAAAAEEAAAAAAAAAUQAAAAAAAABhAAAAAAAAAHEAAAAAAAAAgQAAAAAAAACJAAAAAAAAAJEAAAAAAAAAmQAAAAAAAAChAAAAAAAAAKkAAAAAAAAAsQAAAAAAAAC5AAAAAAAAAMEAAAAAAAAAxQAAAAAAAADJAAAAAAAAAM0AAAAAAAAA0QAAAAAAAADVAAAAAAAAANkAAAAAAAAA3QAAAAAAAADhAAAAAAAAAOUAAAAAAAAA6QAAAAAAAADtAAAAAAAAAPEAAAAAAAAA9QAAAAAAAAD5AAAAAAAAAP0AAAAAAAABAQAAAAAAAgEBAAAAAAAAAQUAAAAAAAIBBQAAAAAAAAEJAAAAAAACAQkAAAAAAAABDQAAAAAAAgENAAAAAAAAAREAAAAAAAIBEQAAAAAAAAEVAAAAAAACARUAAAAAAAABGQAAAAAAAgEZAAAAAAAAAR0AAAAAAAIBHQAAAAAAAAEhAAAAAAACASEAAAAAAAABJQAAAAAAAgElAAAAAAAAASkAAAAAAAIBKQAAAAAAAAEtAAAAAAACAS0AAAAAAAABMQAAAAAAAgExAAAAAAAAATUAAAAAAAIBNQAAAAAAAAE5AAAAAAACATkAAAAAAAABPQAAAAAAAgE9AAAAAAAAAUEAAAAAAAEBQQAAAAAAAgFBAAAAAAADAUEAAAAAAAABRQAAAAAAAQFFAAAAAAACAUUAAAAAAAMBRQAAAAAAAAFJAAAAAAABAUkAAAAAAAIBSQAAAAAAAwFJAAAAAAAAAU0AAAAAAAEBTQAAAAAAAgFNAAAAAAADAU0AAAAAAAABUQAAAAAAAQFRAAAAAAACAVEAAAAAAAMBUQAAAAAAAAFVAAAAAAABAVUAAAAAAAIBVQAAAAAAAwFVAAAAAAAAAVkAAAAAAAEBWQAAAAAAAgFZAAAAAAADAVkAAAAAAAABXQAAAAAAAQFdAAAAAAACAV0AAAAAAAMBXQAAAAAAAAFhAAAAAAABAWEAAAAAAAIBYQAAAAAAAwFhAAAAAAAAAWUA=",
          "dtype": "f8"
         },
         "xaxis": "x2",
         "y": [
          236,
          239,
          239,
          232,
          226,
          218,
          180,
          157,
          117,
          95,
          75,
          76,
          80,
          86,
          100,
          106,
          98,
          101,
          107,
          102,
          139,
          137,
          146,
          127,
          139,
          149,
          171,
          164,
          178,
          177,
          151,
          182,
          186,
          176,
          180,
          184,
          182,
          171,
          182,
          194,
          187,
          197,
          204,
          211,
          206,
          204,
          206,
          197,
          203,
          226,
          207,
          214,
          205,
          214,
          220,
          216,
          192,
          215,
          222,
          221,
          228,
          210,
          210,
          225,
          226,
          227,
          230,
          207,
          206,
          211,
          218,
          209,
          209,
          209,
          206,
          213,
          216,
          224,
          222,
          197,
          213,
          213,
          220,
          197,
          221,
          231,
          231,
          199,
          201,
          211,
          230,
          229,
          216,
          249,
          221,
          223,
          223,
          223,
          218,
          218
         ],
         "yaxis": "y2"
        }
       ],
       "layout": {
        "annotations": [
         {
          "font": {
           "size": 16
          },
          "showarrow": false,
          "text": "Min Rank",
          "x": 0.225,
          "xanchor": "center",
          "xref": "paper",
          "y": 1,
          "yanchor": "bottom",
          "yref": "paper"
         },
         {
          "font": {
           "size": 16
          },
          "showarrow": false,
          "text": "Median Rank",
          "x": 0.775,
          "xanchor": "center",
          "xref": "paper",
          "y": 1,
          "yanchor": "bottom",
          "yref": "paper"
         }
        ],
        "shapes": [
         {
          "line": {
           "color": "black",
           "dash": "dash",
           "width": 2
          },
          "type": "line",
          "x0": 5,
          "x1": 5,
          "xref": "x",
          "y0": 0,
          "y1": 1,
          "yref": "y domain"
         },
         {
          "line": {
           "color": "black",
           "dash": "dash",
           "width": 2
          },
          "type": "line",
          "x0": 5,
          "x1": 5,
          "xref": "x2",
          "y0": 0,
          "y1": 1,
          "yref": "y2 domain"
         }
        ],
        "template": {
         "data": {
          "bar": [
           {
            "error_x": {
             "color": "#2a3f5f"
            },
            "error_y": {
             "color": "#2a3f5f"
            },
            "marker": {
             "line": {
              "color": "#E5ECF6",
              "width": 0.5
             },
             "pattern": {
              "fillmode": "overlay",
              "size": 10,
              "solidity": 0.2
             }
            },
            "type": "bar"
           }
          ],
          "barpolar": [
           {
            "marker": {
             "line": {
              "color": "#E5ECF6",
              "width": 0.5
             },
             "pattern": {
              "fillmode": "overlay",
              "size": 10,
              "solidity": 0.2
             }
            },
            "type": "barpolar"
           }
          ],
          "carpet": [
           {
            "aaxis": {
             "endlinecolor": "#2a3f5f",
             "gridcolor": "white",
             "linecolor": "white",
             "minorgridcolor": "white",
             "startlinecolor": "#2a3f5f"
            },
            "baxis": {
             "endlinecolor": "#2a3f5f",
             "gridcolor": "white",
             "linecolor": "white",
             "minorgridcolor": "white",
             "startlinecolor": "#2a3f5f"
            },
            "type": "carpet"
           }
          ],
          "choropleth": [
           {
            "colorbar": {
             "outlinewidth": 0,
             "ticks": ""
            },
            "type": "choropleth"
           }
          ],
          "contour": [
           {
            "colorbar": {
             "outlinewidth": 0,
             "ticks": ""
            },
            "colorscale": [
             [
              0,
              "#0d0887"
             ],
             [
              0.1111111111111111,
              "#46039f"
             ],
             [
              0.2222222222222222,
              "#7201a8"
             ],
             [
              0.3333333333333333,
              "#9c179e"
             ],
             [
              0.4444444444444444,
              "#bd3786"
             ],
             [
              0.5555555555555556,
              "#d8576b"
             ],
             [
              0.6666666666666666,
              "#ed7953"
             ],
             [
              0.7777777777777778,
              "#fb9f3a"
             ],
             [
              0.8888888888888888,
              "#fdca26"
             ],
             [
              1,
              "#f0f921"
             ]
            ],
            "type": "contour"
           }
          ],
          "contourcarpet": [
           {
            "colorbar": {
             "outlinewidth": 0,
             "ticks": ""
            },
            "type": "contourcarpet"
           }
          ],
          "heatmap": [
           {
            "colorbar": {
             "outlinewidth": 0,
             "ticks": ""
            },
            "colorscale": [
             [
              0,
              "#0d0887"
             ],
             [
              0.1111111111111111,
              "#46039f"
             ],
             [
              0.2222222222222222,
              "#7201a8"
             ],
             [
              0.3333333333333333,
              "#9c179e"
             ],
             [
              0.4444444444444444,
              "#bd3786"
             ],
             [
              0.5555555555555556,
              "#d8576b"
             ],
             [
              0.6666666666666666,
              "#ed7953"
             ],
             [
              0.7777777777777778,
              "#fb9f3a"
             ],
             [
              0.8888888888888888,
              "#fdca26"
             ],
             [
              1,
              "#f0f921"
             ]
            ],
            "type": "heatmap"
           }
          ],
          "histogram": [
           {
            "marker": {
             "pattern": {
              "fillmode": "overlay",
              "size": 10,
              "solidity": 0.2
             }
            },
            "type": "histogram"
           }
          ],
          "histogram2d": [
           {
            "colorbar": {
             "outlinewidth": 0,
             "ticks": ""
            },
            "colorscale": [
             [
              0,
              "#0d0887"
             ],
             [
              0.1111111111111111,
              "#46039f"
             ],
             [
              0.2222222222222222,
              "#7201a8"
             ],
             [
              0.3333333333333333,
              "#9c179e"
             ],
             [
              0.4444444444444444,
              "#bd3786"
             ],
             [
              0.5555555555555556,
              "#d8576b"
             ],
             [
              0.6666666666666666,
              "#ed7953"
             ],
             [
              0.7777777777777778,
              "#fb9f3a"
             ],
             [
              0.8888888888888888,
              "#fdca26"
             ],
             [
              1,
              "#f0f921"
             ]
            ],
            "type": "histogram2d"
           }
          ],
          "histogram2dcontour": [
           {
            "colorbar": {
             "outlinewidth": 0,
             "ticks": ""
            },
            "colorscale": [
             [
              0,
              "#0d0887"
             ],
             [
              0.1111111111111111,
              "#46039f"
             ],
             [
              0.2222222222222222,
              "#7201a8"
             ],
             [
              0.3333333333333333,
              "#9c179e"
             ],
             [
              0.4444444444444444,
              "#bd3786"
             ],
             [
              0.5555555555555556,
              "#d8576b"
             ],
             [
              0.6666666666666666,
              "#ed7953"
             ],
             [
              0.7777777777777778,
              "#fb9f3a"
             ],
             [
              0.8888888888888888,
              "#fdca26"
             ],
             [
              1,
              "#f0f921"
             ]
            ],
            "type": "histogram2dcontour"
           }
          ],
          "mesh3d": [
           {
            "colorbar": {
             "outlinewidth": 0,
             "ticks": ""
            },
            "type": "mesh3d"
           }
          ],
          "parcoords": [
           {
            "line": {
             "colorbar": {
              "outlinewidth": 0,
              "ticks": ""
             }
            },
            "type": "parcoords"
           }
          ],
          "pie": [
           {
            "automargin": true,
            "type": "pie"
           }
          ],
          "scatter": [
           {
            "fillpattern": {
             "fillmode": "overlay",
             "size": 10,
             "solidity": 0.2
            },
            "type": "scatter"
           }
          ],
          "scatter3d": [
           {
            "line": {
             "colorbar": {
              "outlinewidth": 0,
              "ticks": ""
             }
            },
            "marker": {
             "colorbar": {
              "outlinewidth": 0,
              "ticks": ""
             }
            },
            "type": "scatter3d"
           }
          ],
          "scattercarpet": [
           {
            "marker": {
             "colorbar": {
              "outlinewidth": 0,
              "ticks": ""
             }
            },
            "type": "scattercarpet"
           }
          ],
          "scattergeo": [
           {
            "marker": {
             "colorbar": {
              "outlinewidth": 0,
              "ticks": ""
             }
            },
            "type": "scattergeo"
           }
          ],
          "scattergl": [
           {
            "marker": {
             "colorbar": {
              "outlinewidth": 0,
              "ticks": ""
             }
            },
            "type": "scattergl"
           }
          ],
          "scattermap": [
           {
            "marker": {
             "colorbar": {
              "outlinewidth": 0,
              "ticks": ""
             }
            },
            "type": "scattermap"
           }
          ],
          "scattermapbox": [
           {
            "marker": {
             "colorbar": {
              "outlinewidth": 0,
              "ticks": ""
             }
            },
            "type": "scattermapbox"
           }
          ],
          "scatterpolar": [
           {
            "marker": {
             "colorbar": {
              "outlinewidth": 0,
              "ticks": ""
             }
            },
            "type": "scatterpolar"
           }
          ],
          "scatterpolargl": [
           {
            "marker": {
             "colorbar": {
              "outlinewidth": 0,
              "ticks": ""
             }
            },
            "type": "scatterpolargl"
           }
          ],
          "scatterternary": [
           {
            "marker": {
             "colorbar": {
              "outlinewidth": 0,
              "ticks": ""
             }
            },
            "type": "scatterternary"
           }
          ],
          "surface": [
           {
            "colorbar": {
             "outlinewidth": 0,
             "ticks": ""
            },
            "colorscale": [
             [
              0,
              "#0d0887"
             ],
             [
              0.1111111111111111,
              "#46039f"
             ],
             [
              0.2222222222222222,
              "#7201a8"
             ],
             [
              0.3333333333333333,
              "#9c179e"
             ],
             [
              0.4444444444444444,
              "#bd3786"
             ],
             [
              0.5555555555555556,
              "#d8576b"
             ],
             [
              0.6666666666666666,
              "#ed7953"
             ],
             [
              0.7777777777777778,
              "#fb9f3a"
             ],
             [
              0.8888888888888888,
              "#fdca26"
             ],
             [
              1,
              "#f0f921"
             ]
            ],
            "type": "surface"
           }
          ],
          "table": [
           {
            "cells": {
             "fill": {
              "color": "#EBF0F8"
             },
             "line": {
              "color": "white"
             }
            },
            "header": {
             "fill": {
              "color": "#C8D4E3"
             },
             "line": {
              "color": "white"
             }
            },
            "type": "table"
           }
          ]
         },
         "layout": {
          "annotationdefaults": {
           "arrowcolor": "#2a3f5f",
           "arrowhead": 0,
           "arrowwidth": 1
          },
          "autotypenumbers": "strict",
          "coloraxis": {
           "colorbar": {
            "outlinewidth": 0,
            "ticks": ""
           }
          },
          "colorscale": {
           "diverging": [
            [
             0,
             "#8e0152"
            ],
            [
             0.1,
             "#c51b7d"
            ],
            [
             0.2,
             "#de77ae"
            ],
            [
             0.3,
             "#f1b6da"
            ],
            [
             0.4,
             "#fde0ef"
            ],
            [
             0.5,
             "#f7f7f7"
            ],
            [
             0.6,
             "#e6f5d0"
            ],
            [
             0.7,
             "#b8e186"
            ],
            [
             0.8,
             "#7fbc41"
            ],
            [
             0.9,
             "#4d9221"
            ],
            [
             1,
             "#276419"
            ]
           ],
           "sequential": [
            [
             0,
             "#0d0887"
            ],
            [
             0.1111111111111111,
             "#46039f"
            ],
            [
             0.2222222222222222,
             "#7201a8"
            ],
            [
             0.3333333333333333,
             "#9c179e"
            ],
            [
             0.4444444444444444,
             "#bd3786"
            ],
            [
             0.5555555555555556,
             "#d8576b"
            ],
            [
             0.6666666666666666,
             "#ed7953"
            ],
            [
             0.7777777777777778,
             "#fb9f3a"
            ],
            [
             0.8888888888888888,
             "#fdca26"
            ],
            [
             1,
             "#f0f921"
            ]
           ],
           "sequentialminus": [
            [
             0,
             "#0d0887"
            ],
            [
             0.1111111111111111,
             "#46039f"
            ],
            [
             0.2222222222222222,
             "#7201a8"
            ],
            [
             0.3333333333333333,
             "#9c179e"
            ],
            [
             0.4444444444444444,
             "#bd3786"
            ],
            [
             0.5555555555555556,
             "#d8576b"
            ],
            [
             0.6666666666666666,
             "#ed7953"
            ],
            [
             0.7777777777777778,
             "#fb9f3a"
            ],
            [
             0.8888888888888888,
             "#fdca26"
            ],
            [
             1,
             "#f0f921"
            ]
           ]
          },
          "colorway": [
           "#636efa",
           "#EF553B",
           "#00cc96",
           "#ab63fa",
           "#FFA15A",
           "#19d3f3",
           "#FF6692",
           "#B6E880",
           "#FF97FF",
           "#FECB52"
          ],
          "font": {
           "color": "#2a3f5f"
          },
          "geo": {
           "bgcolor": "white",
           "lakecolor": "white",
           "landcolor": "#E5ECF6",
           "showlakes": true,
           "showland": true,
           "subunitcolor": "white"
          },
          "hoverlabel": {
           "align": "left"
          },
          "hovermode": "closest",
          "mapbox": {
           "style": "light"
          },
          "paper_bgcolor": "white",
          "plot_bgcolor": "#E5ECF6",
          "polar": {
           "angularaxis": {
            "gridcolor": "white",
            "linecolor": "white",
            "ticks": ""
           },
           "bgcolor": "#E5ECF6",
           "radialaxis": {
            "gridcolor": "white",
            "linecolor": "white",
            "ticks": ""
           }
          },
          "scene": {
           "xaxis": {
            "backgroundcolor": "#E5ECF6",
            "gridcolor": "white",
            "gridwidth": 2,
            "linecolor": "white",
            "showbackground": true,
            "ticks": "",
            "zerolinecolor": "white"
           },
           "yaxis": {
            "backgroundcolor": "#E5ECF6",
            "gridcolor": "white",
            "gridwidth": 2,
            "linecolor": "white",
            "showbackground": true,
            "ticks": "",
            "zerolinecolor": "white"
           },
           "zaxis": {
            "backgroundcolor": "#E5ECF6",
            "gridcolor": "white",
            "gridwidth": 2,
            "linecolor": "white",
            "showbackground": true,
            "ticks": "",
            "zerolinecolor": "white"
           }
          },
          "shapedefaults": {
           "line": {
            "color": "#2a3f5f"
           }
          },
          "ternary": {
           "aaxis": {
            "gridcolor": "white",
            "linecolor": "white",
            "ticks": ""
           },
           "baxis": {
            "gridcolor": "white",
            "linecolor": "white",
            "ticks": ""
           },
           "bgcolor": "#E5ECF6",
           "caxis": {
            "gridcolor": "white",
            "linecolor": "white",
            "ticks": ""
           }
          },
          "title": {
           "x": 0.05
          },
          "xaxis": {
           "automargin": true,
           "gridcolor": "white",
           "linecolor": "white",
           "ticks": "",
           "title": {
            "standoff": 15
           },
           "zerolinecolor": "white",
           "zerolinewidth": 2
          },
          "yaxis": {
           "automargin": true,
           "gridcolor": "white",
           "linecolor": "white",
           "ticks": "",
           "title": {
            "standoff": 15
           },
           "zerolinecolor": "white",
           "zerolinewidth": 2
          }
         }
        },
        "title": {
         "text": "Gene Expression Weight: Gene Rank Distributions"
        },
        "xaxis": {
         "anchor": "y",
         "domain": [
          0,
          0.45
         ]
        },
        "xaxis2": {
         "anchor": "y2",
         "domain": [
          0.55,
          1
         ]
        },
        "yaxis": {
         "anchor": "x",
         "domain": [
          0,
          1
         ],
         "range": [
          0,
          450
         ]
        },
        "yaxis2": {
         "anchor": "x2",
         "domain": [
          0,
          1
         ],
         "range": [
          0,
          450
         ]
        }
       }
      }
     },
     "metadata": {},
     "output_type": "display_data"
    },
    {
     "data": {
      "application/vnd.jupyter.widget-view+json": {
       "model_id": "39b4a2ab07994a1bb2f436594e837908",
       "version_major": 2,
       "version_minor": 0
      },
      "text/plain": [
       "Purity Weight: TERT 1295228:   0%|          | 0/100 [00:00<?, ?it/s]"
      ]
     },
     "metadata": {},
     "output_type": "display_data"
    },
    {
     "data": {
      "application/vnd.jupyter.widget-view+json": {
       "model_id": "fd7b3748b79a495ab570379a82a3b8db",
       "version_major": 2,
       "version_minor": 0
      },
      "text/plain": [
       "Purity Weight: TERT 1295250:   0%|          | 0/100 [00:00<?, ?it/s]"
      ]
     },
     "metadata": {},
     "output_type": "display_data"
    },
    {
     "data": {
      "application/vnd.jupyter.widget-view+json": {
       "model_id": "1757c5b94b254a3888a17b54d78cb92c",
       "version_major": 2,
       "version_minor": 0
      },
      "text/plain": [
       "Purity Weight: RALY 32580927:   0%|          | 0/100 [00:00<?, ?it/s]"
      ]
     },
     "metadata": {},
     "output_type": "display_data"
    },
    {
     "data": {
      "application/vnd.jupyter.widget-view+json": {
       "model_id": "3881c09c5fc344949e424560bc57c3f2",
       "version_major": 2,
       "version_minor": 0
      },
      "text/plain": [
       "Purity Weight: CDC20 43824529:   0%|          | 0/100 [00:00<?, ?it/s]"
      ]
     },
     "metadata": {},
     "output_type": "display_data"
    },
    {
     "data": {
      "application/vnd.plotly.v1+json": {
       "config": {
        "plotlyServerURL": "https://plot.ly"
       },
       "data": [
        {
         "marker": {
          "color": "red",
          "size": 10
         },
         "mode": "lines",
         "name": "TERT 1295228",
         "type": "scatter",
         "x": {
          "bdata": "AAAAAAAA8D8AAAAAAAAAQAAAAAAAAAhAAAAAAAAAEEAAAAAAAAAUQAAAAAAAABhAAAAAAAAAHEAAAAAAAAAgQAAAAAAAACJAAAAAAAAAJEAAAAAAAAAmQAAAAAAAAChAAAAAAAAAKkAAAAAAAAAsQAAAAAAAAC5AAAAAAAAAMEAAAAAAAAAxQAAAAAAAADJAAAAAAAAAM0AAAAAAAAA0QAAAAAAAADVAAAAAAAAANkAAAAAAAAA3QAAAAAAAADhAAAAAAAAAOUAAAAAAAAA6QAAAAAAAADtAAAAAAAAAPEAAAAAAAAA9QAAAAAAAAD5AAAAAAAAAP0AAAAAAAABAQAAAAAAAgEBAAAAAAAAAQUAAAAAAAIBBQAAAAAAAAEJAAAAAAACAQkAAAAAAAABDQAAAAAAAgENAAAAAAAAAREAAAAAAAIBEQAAAAAAAAEVAAAAAAACARUAAAAAAAABGQAAAAAAAgEZAAAAAAAAAR0AAAAAAAIBHQAAAAAAAAEhAAAAAAACASEAAAAAAAABJQAAAAAAAgElAAAAAAAAASkAAAAAAAIBKQAAAAAAAAEtAAAAAAACAS0AAAAAAAABMQAAAAAAAgExAAAAAAAAATUAAAAAAAIBNQAAAAAAAAE5AAAAAAACATkAAAAAAAABPQAAAAAAAgE9AAAAAAAAAUEAAAAAAAEBQQAAAAAAAgFBAAAAAAADAUEAAAAAAAABRQAAAAAAAQFFAAAAAAACAUUAAAAAAAMBRQAAAAAAAAFJAAAAAAABAUkAAAAAAAIBSQAAAAAAAwFJAAAAAAAAAU0AAAAAAAEBTQAAAAAAAgFNAAAAAAADAU0AAAAAAAABUQAAAAAAAQFRAAAAAAACAVEAAAAAAAMBUQAAAAAAAAFVAAAAAAABAVUAAAAAAAIBVQAAAAAAAwFVAAAAAAAAAVkAAAAAAAEBWQAAAAAAAgFZAAAAAAADAVkAAAAAAAABXQAAAAAAAQFdAAAAAAACAV0AAAAAAAMBXQAAAAAAAAFhAAAAAAABAWEAAAAAAAIBYQAAAAAAAwFhAAAAAAAAAWUA=",
          "dtype": "f8"
         },
         "xaxis": "x",
         "y": [
          52,
          51,
          51,
          50,
          49,
          49,
          50.5,
          50.5,
          50.5,
          52.5,
          52,
          51.5,
          50.5,
          50.5,
          50.5,
          50.5,
          50.5,
          50.5,
          50.5,
          50.5,
          50.5,
          50.5,
          50.5,
          50.5,
          50.5,
          50.5,
          50.5,
          50.5,
          50.5,
          50.5,
          50.5,
          50.5,
          50.5,
          50.5,
          50.5,
          50.5,
          50.5,
          50.5,
          50.5,
          50.5,
          50.5,
          50.5,
          50.5,
          50.5,
          50.5,
          50.5,
          50.5,
          50.5,
          50.5,
          50.5,
          50.5,
          50.5,
          50.5,
          50.5,
          50.5,
          50.5,
          50.5,
          50.5,
          50.5,
          50.5,
          50.5,
          50.5,
          50.5,
          50.5,
          50.5,
          50.5,
          50.5,
          50.5,
          50.5,
          50.5,
          50.5,
          50.5,
          50.5,
          50.5,
          50.5,
          50.5,
          50.5,
          50.5,
          50.5,
          50.5,
          50.5,
          50.5,
          50.5,
          50.5,
          50.5,
          50.5,
          50.5,
          50.5,
          50.5,
          50.5,
          50.5,
          50.5,
          50.5,
          50.5,
          50.5,
          50.5,
          50.5,
          50.5,
          50.5,
          50.5
         ],
         "yaxis": "y"
        },
        {
         "marker": {
          "color": "red",
          "size": 10
         },
         "mode": "lines",
         "name": "TERT 1295228",
         "showlegend": false,
         "type": "scatter",
         "x": {
          "bdata": "AAAAAAAA8D8AAAAAAAAAQAAAAAAAAAhAAAAAAAAAEEAAAAAAAAAUQAAAAAAAABhAAAAAAAAAHEAAAAAAAAAgQAAAAAAAACJAAAAAAAAAJEAAAAAAAAAmQAAAAAAAAChAAAAAAAAAKkAAAAAAAAAsQAAAAAAAAC5AAAAAAAAAMEAAAAAAAAAxQAAAAAAAADJAAAAAAAAAM0AAAAAAAAA0QAAAAAAAADVAAAAAAAAANkAAAAAAAAA3QAAAAAAAADhAAAAAAAAAOUAAAAAAAAA6QAAAAAAAADtAAAAAAAAAPEAAAAAAAAA9QAAAAAAAAD5AAAAAAAAAP0AAAAAAAABAQAAAAAAAgEBAAAAAAAAAQUAAAAAAAIBBQAAAAAAAAEJAAAAAAACAQkAAAAAAAABDQAAAAAAAgENAAAAAAAAAREAAAAAAAIBEQAAAAAAAAEVAAAAAAACARUAAAAAAAABGQAAAAAAAgEZAAAAAAAAAR0AAAAAAAIBHQAAAAAAAAEhAAAAAAACASEAAAAAAAABJQAAAAAAAgElAAAAAAAAASkAAAAAAAIBKQAAAAAAAAEtAAAAAAACAS0AAAAAAAABMQAAAAAAAgExAAAAAAAAATUAAAAAAAIBNQAAAAAAAAE5AAAAAAACATkAAAAAAAABPQAAAAAAAgE9AAAAAAAAAUEAAAAAAAEBQQAAAAAAAgFBAAAAAAADAUEAAAAAAAABRQAAAAAAAQFFAAAAAAACAUUAAAAAAAMBRQAAAAAAAAFJAAAAAAABAUkAAAAAAAIBSQAAAAAAAwFJAAAAAAAAAU0AAAAAAAEBTQAAAAAAAgFNAAAAAAADAU0AAAAAAAABUQAAAAAAAQFRAAAAAAACAVEAAAAAAAMBUQAAAAAAAAFVAAAAAAABAVUAAAAAAAIBVQAAAAAAAwFVAAAAAAAAAVkAAAAAAAEBWQAAAAAAAgFZAAAAAAADAVkAAAAAAAABXQAAAAAAAQFdAAAAAAACAV0AAAAAAAMBXQAAAAAAAAFhAAAAAAABAWEAAAAAAAIBYQAAAAAAAwFhAAAAAAAAAWUA=",
          "dtype": "f8"
         },
         "xaxis": "x2",
         "y": [
          3,
          3,
          3,
          3,
          3,
          3,
          3,
          3,
          3,
          3,
          3,
          3,
          3,
          3,
          3,
          3,
          3,
          3,
          3,
          3,
          3,
          3,
          3,
          3,
          3,
          3,
          3,
          3,
          3,
          3,
          3,
          3,
          3,
          3,
          3,
          3,
          3,
          3,
          3,
          3,
          3,
          3,
          3,
          3,
          3,
          3,
          3,
          3,
          3,
          3,
          3,
          3,
          3,
          3,
          3,
          3,
          3,
          3,
          3,
          3,
          3,
          3,
          3,
          3,
          3,
          3,
          3,
          3,
          3,
          3,
          3,
          3,
          3,
          3,
          3,
          3,
          3,
          3,
          3,
          3,
          3,
          3,
          3,
          3,
          3,
          3,
          3,
          3,
          3,
          3,
          3,
          3,
          3,
          3,
          3,
          3,
          3,
          3,
          3,
          3
         ],
         "yaxis": "y2"
        },
        {
         "marker": {
          "color": "blue",
          "size": 10
         },
         "mode": "lines",
         "name": "TERT 1295250",
         "type": "scatter",
         "x": {
          "bdata": "AAAAAAAA8D8AAAAAAAAAQAAAAAAAAAhAAAAAAAAAEEAAAAAAAAAUQAAAAAAAABhAAAAAAAAAHEAAAAAAAAAgQAAAAAAAACJAAAAAAAAAJEAAAAAAAAAmQAAAAAAAAChAAAAAAAAAKkAAAAAAAAAsQAAAAAAAAC5AAAAAAAAAMEAAAAAAAAAxQAAAAAAAADJAAAAAAAAAM0AAAAAAAAA0QAAAAAAAADVAAAAAAAAANkAAAAAAAAA3QAAAAAAAADhAAAAAAAAAOUAAAAAAAAA6QAAAAAAAADtAAAAAAAAAPEAAAAAAAAA9QAAAAAAAAD5AAAAAAAAAP0AAAAAAAABAQAAAAAAAgEBAAAAAAAAAQUAAAAAAAIBBQAAAAAAAAEJAAAAAAACAQkAAAAAAAABDQAAAAAAAgENAAAAAAAAAREAAAAAAAIBEQAAAAAAAAEVAAAAAAACARUAAAAAAAABGQAAAAAAAgEZAAAAAAAAAR0AAAAAAAIBHQAAAAAAAAEhAAAAAAACASEAAAAAAAABJQAAAAAAAgElAAAAAAAAASkAAAAAAAIBKQAAAAAAAAEtAAAAAAACAS0AAAAAAAABMQAAAAAAAgExAAAAAAAAATUAAAAAAAIBNQAAAAAAAAE5AAAAAAACATkAAAAAAAABPQAAAAAAAgE9AAAAAAAAAUEAAAAAAAEBQQAAAAAAAgFBAAAAAAADAUEAAAAAAAABRQAAAAAAAQFFAAAAAAACAUUAAAAAAAMBRQAAAAAAAAFJAAAAAAABAUkAAAAAAAIBSQAAAAAAAwFJAAAAAAAAAU0AAAAAAAEBTQAAAAAAAgFNAAAAAAADAU0AAAAAAAABUQAAAAAAAQFRAAAAAAACAVEAAAAAAAMBUQAAAAAAAAFVAAAAAAABAVUAAAAAAAIBVQAAAAAAAwFVAAAAAAAAAVkAAAAAAAEBWQAAAAAAAgFZAAAAAAADAVkAAAAAAAABXQAAAAAAAQFdAAAAAAACAV0AAAAAAAMBXQAAAAAAAAFhAAAAAAABAWEAAAAAAAIBYQAAAAAAAwFhAAAAAAAAAWUA=",
          "dtype": "f8"
         },
         "xaxis": "x",
         "y": [
          59,
          58,
          57,
          56,
          55,
          55,
          54,
          54,
          54,
          53,
          52,
          52,
          51,
          51,
          51,
          51,
          51,
          51,
          51,
          51,
          51,
          51,
          51,
          51,
          51,
          51,
          51,
          51,
          51,
          51,
          51,
          51,
          51,
          51,
          51,
          51,
          51,
          51,
          51,
          51,
          51,
          51,
          51,
          51,
          51,
          51,
          51,
          51,
          51,
          51,
          51,
          51,
          51,
          51,
          51,
          51,
          51,
          51,
          51,
          51,
          51,
          51,
          51,
          51,
          51,
          51,
          51,
          51,
          51,
          51,
          51,
          51,
          51,
          51,
          51,
          51,
          51,
          51,
          51,
          51,
          51,
          51,
          51,
          51,
          51,
          51,
          51,
          51,
          51,
          51,
          51,
          51,
          51,
          51,
          51,
          51,
          51,
          51,
          51,
          51
         ],
         "yaxis": "y"
        },
        {
         "marker": {
          "color": "blue",
          "size": 10
         },
         "mode": "lines",
         "name": "TERT 1295250",
         "showlegend": false,
         "type": "scatter",
         "x": {
          "bdata": "AAAAAAAA8D8AAAAAAAAAQAAAAAAAAAhAAAAAAAAAEEAAAAAAAAAUQAAAAAAAABhAAAAAAAAAHEAAAAAAAAAgQAAAAAAAACJAAAAAAAAAJEAAAAAAAAAmQAAAAAAAAChAAAAAAAAAKkAAAAAAAAAsQAAAAAAAAC5AAAAAAAAAMEAAAAAAAAAxQAAAAAAAADJAAAAAAAAAM0AAAAAAAAA0QAAAAAAAADVAAAAAAAAANkAAAAAAAAA3QAAAAAAAADhAAAAAAAAAOUAAAAAAAAA6QAAAAAAAADtAAAAAAAAAPEAAAAAAAAA9QAAAAAAAAD5AAAAAAAAAP0AAAAAAAABAQAAAAAAAgEBAAAAAAAAAQUAAAAAAAIBBQAAAAAAAAEJAAAAAAACAQkAAAAAAAABDQAAAAAAAgENAAAAAAAAAREAAAAAAAIBEQAAAAAAAAEVAAAAAAACARUAAAAAAAABGQAAAAAAAgEZAAAAAAAAAR0AAAAAAAIBHQAAAAAAAAEhAAAAAAACASEAAAAAAAABJQAAAAAAAgElAAAAAAAAASkAAAAAAAIBKQAAAAAAAAEtAAAAAAACAS0AAAAAAAABMQAAAAAAAgExAAAAAAAAATUAAAAAAAIBNQAAAAAAAAE5AAAAAAACATkAAAAAAAABPQAAAAAAAgE9AAAAAAAAAUEAAAAAAAEBQQAAAAAAAgFBAAAAAAADAUEAAAAAAAABRQAAAAAAAQFFAAAAAAACAUUAAAAAAAMBRQAAAAAAAAFJAAAAAAABAUkAAAAAAAIBSQAAAAAAAwFJAAAAAAAAAU0AAAAAAAEBTQAAAAAAAgFNAAAAAAADAU0AAAAAAAABUQAAAAAAAQFRAAAAAAACAVEAAAAAAAMBUQAAAAAAAAFVAAAAAAABAVUAAAAAAAIBVQAAAAAAAwFVAAAAAAAAAVkAAAAAAAEBWQAAAAAAAgFZAAAAAAADAVkAAAAAAAABXQAAAAAAAQFdAAAAAAACAV0AAAAAAAMBXQAAAAAAAAFhAAAAAAABAWEAAAAAAAIBYQAAAAAAAwFhAAAAAAAAAWUA=",
          "dtype": "f8"
         },
         "xaxis": "x2",
         "y": [
          34,
          33,
          32,
          32,
          31,
          31,
          30,
          30,
          29,
          29,
          28,
          28,
          28,
          28,
          28,
          28,
          28,
          28,
          28,
          28,
          28,
          28,
          28,
          28,
          28,
          28,
          28,
          28,
          28,
          28,
          28,
          28,
          28,
          28,
          28,
          28,
          28,
          28,
          28,
          28,
          28,
          28,
          28,
          28,
          28,
          28,
          28,
          28,
          28,
          28,
          28,
          28,
          28,
          28,
          28,
          28,
          28,
          28,
          28,
          28,
          28,
          28,
          28,
          28,
          28,
          28,
          28,
          28,
          28,
          28,
          28,
          28,
          28,
          28,
          28,
          28,
          28,
          28,
          28,
          28,
          28,
          28,
          28,
          28,
          28,
          28,
          28,
          28,
          28,
          28,
          28,
          28,
          28,
          28,
          28,
          28,
          28,
          28,
          28,
          28
         ],
         "yaxis": "y2"
        },
        {
         "marker": {
          "color": "green",
          "size": 10
         },
         "mode": "lines",
         "name": "RALY 32580927",
         "type": "scatter",
         "x": {
          "bdata": "AAAAAAAA8D8AAAAAAAAAQAAAAAAAAAhAAAAAAAAAEEAAAAAAAAAUQAAAAAAAABhAAAAAAAAAHEAAAAAAAAAgQAAAAAAAACJAAAAAAAAAJEAAAAAAAAAmQAAAAAAAAChAAAAAAAAAKkAAAAAAAAAsQAAAAAAAAC5AAAAAAAAAMEAAAAAAAAAxQAAAAAAAADJAAAAAAAAAM0AAAAAAAAA0QAAAAAAAADVAAAAAAAAANkAAAAAAAAA3QAAAAAAAADhAAAAAAAAAOUAAAAAAAAA6QAAAAAAAADtAAAAAAAAAPEAAAAAAAAA9QAAAAAAAAD5AAAAAAAAAP0AAAAAAAABAQAAAAAAAgEBAAAAAAAAAQUAAAAAAAIBBQAAAAAAAAEJAAAAAAACAQkAAAAAAAABDQAAAAAAAgENAAAAAAAAAREAAAAAAAIBEQAAAAAAAAEVAAAAAAACARUAAAAAAAABGQAAAAAAAgEZAAAAAAAAAR0AAAAAAAIBHQAAAAAAAAEhAAAAAAACASEAAAAAAAABJQAAAAAAAgElAAAAAAAAASkAAAAAAAIBKQAAAAAAAAEtAAAAAAACAS0AAAAAAAABMQAAAAAAAgExAAAAAAAAATUAAAAAAAIBNQAAAAAAAAE5AAAAAAACATkAAAAAAAABPQAAAAAAAgE9AAAAAAAAAUEAAAAAAAEBQQAAAAAAAgFBAAAAAAADAUEAAAAAAAABRQAAAAAAAQFFAAAAAAACAUUAAAAAAAMBRQAAAAAAAAFJAAAAAAABAUkAAAAAAAIBSQAAAAAAAwFJAAAAAAAAAU0AAAAAAAEBTQAAAAAAAgFNAAAAAAADAU0AAAAAAAABUQAAAAAAAQFRAAAAAAACAVEAAAAAAAMBUQAAAAAAAAFVAAAAAAABAVUAAAAAAAIBVQAAAAAAAwFVAAAAAAAAAVkAAAAAAAEBWQAAAAAAAgFZAAAAAAADAVkAAAAAAAABXQAAAAAAAQFdAAAAAAACAV0AAAAAAAMBXQAAAAAAAAFhAAAAAAABAWEAAAAAAAIBYQAAAAAAAwFhAAAAAAAAAWUA=",
          "dtype": "f8"
         },
         "xaxis": "x",
         "y": [
          219.5,
          215.5,
          208.5,
          204,
          200,
          196,
          189,
          188.5,
          186.5,
          185.5,
          184.5,
          183.5,
          182.5,
          182.5,
          181.5,
          181,
          180.5,
          180.5,
          180.5,
          180,
          180,
          179.5,
          179.5,
          179,
          179,
          179,
          179,
          179,
          179,
          179,
          179,
          179,
          179,
          179,
          179,
          179,
          179,
          179,
          179,
          179,
          179,
          179,
          179,
          179,
          179,
          179,
          179,
          179,
          179,
          179,
          179,
          179,
          179,
          179,
          179,
          179,
          179,
          179,
          179,
          179,
          179,
          179,
          179,
          179,
          179,
          179,
          179,
          179,
          179,
          179,
          179,
          179,
          179,
          179,
          179,
          179,
          179,
          179,
          179,
          179,
          179,
          179,
          179,
          179,
          179,
          179,
          179,
          179,
          179,
          179,
          179,
          179,
          179,
          179,
          179,
          179,
          179,
          179,
          179,
          179
         ],
         "yaxis": "y"
        },
        {
         "marker": {
          "color": "green",
          "size": 10
         },
         "mode": "lines",
         "name": "RALY 32580927",
         "showlegend": false,
         "type": "scatter",
         "x": {
          "bdata": "AAAAAAAA8D8AAAAAAAAAQAAAAAAAAAhAAAAAAAAAEEAAAAAAAAAUQAAAAAAAABhAAAAAAAAAHEAAAAAAAAAgQAAAAAAAACJAAAAAAAAAJEAAAAAAAAAmQAAAAAAAAChAAAAAAAAAKkAAAAAAAAAsQAAAAAAAAC5AAAAAAAAAMEAAAAAAAAAxQAAAAAAAADJAAAAAAAAAM0AAAAAAAAA0QAAAAAAAADVAAAAAAAAANkAAAAAAAAA3QAAAAAAAADhAAAAAAAAAOUAAAAAAAAA6QAAAAAAAADtAAAAAAAAAPEAAAAAAAAA9QAAAAAAAAD5AAAAAAAAAP0AAAAAAAABAQAAAAAAAgEBAAAAAAAAAQUAAAAAAAIBBQAAAAAAAAEJAAAAAAACAQkAAAAAAAABDQAAAAAAAgENAAAAAAAAAREAAAAAAAIBEQAAAAAAAAEVAAAAAAACARUAAAAAAAABGQAAAAAAAgEZAAAAAAAAAR0AAAAAAAIBHQAAAAAAAAEhAAAAAAACASEAAAAAAAABJQAAAAAAAgElAAAAAAAAASkAAAAAAAIBKQAAAAAAAAEtAAAAAAACAS0AAAAAAAABMQAAAAAAAgExAAAAAAAAATUAAAAAAAIBNQAAAAAAAAE5AAAAAAACATkAAAAAAAABPQAAAAAAAgE9AAAAAAAAAUEAAAAAAAEBQQAAAAAAAgFBAAAAAAADAUEAAAAAAAABRQAAAAAAAQFFAAAAAAACAUUAAAAAAAMBRQAAAAAAAAFJAAAAAAABAUkAAAAAAAIBSQAAAAAAAwFJAAAAAAAAAU0AAAAAAAEBTQAAAAAAAgFNAAAAAAADAU0AAAAAAAABUQAAAAAAAQFRAAAAAAACAVEAAAAAAAMBUQAAAAAAAAFVAAAAAAABAVUAAAAAAAIBVQAAAAAAAwFVAAAAAAAAAVkAAAAAAAEBWQAAAAAAAgFZAAAAAAADAVkAAAAAAAABXQAAAAAAAQFdAAAAAAACAV0AAAAAAAMBXQAAAAAAAAFhAAAAAAABAWEAAAAAAAIBYQAAAAAAAwFhAAAAAAAAAWUA=",
          "dtype": "f8"
         },
         "xaxis": "x2",
         "y": [
          76,
          75,
          74,
          73,
          72,
          71,
          71,
          70,
          70,
          70,
          69,
          68,
          68,
          67,
          67,
          67,
          67,
          67,
          67,
          67,
          67,
          67,
          67,
          67,
          67,
          67,
          67,
          67,
          67,
          67,
          67,
          67,
          67,
          67,
          67,
          67,
          67,
          67,
          67,
          67,
          67,
          67,
          67,
          67,
          67,
          67,
          67,
          67,
          67,
          67,
          67,
          67,
          67,
          67,
          67,
          67,
          67,
          67,
          67,
          67,
          67,
          67,
          67,
          67,
          67,
          67,
          67,
          67,
          67,
          67,
          67,
          67,
          67,
          67,
          67,
          67,
          67,
          67,
          67,
          67,
          67,
          67,
          67,
          67,
          67,
          67,
          67,
          67,
          67,
          67,
          67,
          67,
          67,
          67,
          67,
          67,
          67,
          67,
          67,
          67
         ],
         "yaxis": "y2"
        },
        {
         "marker": {
          "color": "yellow",
          "size": 10
         },
         "mode": "lines",
         "name": "CDC20 43824529",
         "type": "scatter",
         "x": {
          "bdata": "AAAAAAAA8D8AAAAAAAAAQAAAAAAAAAhAAAAAAAAAEEAAAAAAAAAUQAAAAAAAABhAAAAAAAAAHEAAAAAAAAAgQAAAAAAAACJAAAAAAAAAJEAAAAAAAAAmQAAAAAAAAChAAAAAAAAAKkAAAAAAAAAsQAAAAAAAAC5AAAAAAAAAMEAAAAAAAAAxQAAAAAAAADJAAAAAAAAAM0AAAAAAAAA0QAAAAAAAADVAAAAAAAAANkAAAAAAAAA3QAAAAAAAADhAAAAAAAAAOUAAAAAAAAA6QAAAAAAAADtAAAAAAAAAPEAAAAAAAAA9QAAAAAAAAD5AAAAAAAAAP0AAAAAAAABAQAAAAAAAgEBAAAAAAAAAQUAAAAAAAIBBQAAAAAAAAEJAAAAAAACAQkAAAAAAAABDQAAAAAAAgENAAAAAAAAAREAAAAAAAIBEQAAAAAAAAEVAAAAAAACARUAAAAAAAABGQAAAAAAAgEZAAAAAAAAAR0AAAAAAAIBHQAAAAAAAAEhAAAAAAACASEAAAAAAAABJQAAAAAAAgElAAAAAAAAASkAAAAAAAIBKQAAAAAAAAEtAAAAAAACAS0AAAAAAAABMQAAAAAAAgExAAAAAAAAATUAAAAAAAIBNQAAAAAAAAE5AAAAAAACATkAAAAAAAABPQAAAAAAAgE9AAAAAAAAAUEAAAAAAAEBQQAAAAAAAgFBAAAAAAADAUEAAAAAAAABRQAAAAAAAQFFAAAAAAACAUUAAAAAAAMBRQAAAAAAAAFJAAAAAAABAUkAAAAAAAIBSQAAAAAAAwFJAAAAAAAAAU0AAAAAAAEBTQAAAAAAAgFNAAAAAAADAU0AAAAAAAABUQAAAAAAAQFRAAAAAAACAVEAAAAAAAMBUQAAAAAAAAFVAAAAAAABAVUAAAAAAAIBVQAAAAAAAwFVAAAAAAAAAVkAAAAAAAEBWQAAAAAAAgFZAAAAAAADAVkAAAAAAAABXQAAAAAAAQFdAAAAAAACAV0AAAAAAAMBXQAAAAAAAAFhAAAAAAABAWEAAAAAAAIBYQAAAAAAAwFhAAAAAAAAAWUA=",
          "dtype": "f8"
         },
         "xaxis": "x",
         "y": [
          279,
          265,
          256,
          248,
          239,
          234,
          232,
          230,
          228,
          226,
          224,
          225,
          224,
          223,
          223,
          222,
          222,
          221,
          221,
          220,
          219,
          219,
          219,
          219,
          219,
          219,
          219,
          219,
          219,
          219,
          219,
          219,
          219,
          219,
          219,
          219,
          219,
          219,
          219,
          219,
          219,
          219,
          219,
          219,
          219,
          219,
          219,
          219,
          219,
          219,
          219,
          219,
          219,
          219,
          219,
          219,
          219,
          219,
          219,
          219,
          219,
          219,
          219,
          219,
          219,
          219,
          219,
          219,
          219,
          219,
          219,
          219,
          219,
          219,
          219,
          219,
          219,
          219,
          219,
          219,
          219,
          219,
          219,
          219,
          219,
          219,
          219,
          219,
          219,
          219,
          219,
          219,
          219,
          219,
          219,
          219,
          219,
          219,
          219,
          219
         ],
         "yaxis": "y"
        },
        {
         "marker": {
          "color": "yellow",
          "size": 10
         },
         "mode": "lines",
         "name": "CDC20 43824529",
         "showlegend": false,
         "type": "scatter",
         "x": {
          "bdata": "AAAAAAAA8D8AAAAAAAAAQAAAAAAAAAhAAAAAAAAAEEAAAAAAAAAUQAAAAAAAABhAAAAAAAAAHEAAAAAAAAAgQAAAAAAAACJAAAAAAAAAJEAAAAAAAAAmQAAAAAAAAChAAAAAAAAAKkAAAAAAAAAsQAAAAAAAAC5AAAAAAAAAMEAAAAAAAAAxQAAAAAAAADJAAAAAAAAAM0AAAAAAAAA0QAAAAAAAADVAAAAAAAAANkAAAAAAAAA3QAAAAAAAADhAAAAAAAAAOUAAAAAAAAA6QAAAAAAAADtAAAAAAAAAPEAAAAAAAAA9QAAAAAAAAD5AAAAAAAAAP0AAAAAAAABAQAAAAAAAgEBAAAAAAAAAQUAAAAAAAIBBQAAAAAAAAEJAAAAAAACAQkAAAAAAAABDQAAAAAAAgENAAAAAAAAAREAAAAAAAIBEQAAAAAAAAEVAAAAAAACARUAAAAAAAABGQAAAAAAAgEZAAAAAAAAAR0AAAAAAAIBHQAAAAAAAAEhAAAAAAACASEAAAAAAAABJQAAAAAAAgElAAAAAAAAASkAAAAAAAIBKQAAAAAAAAEtAAAAAAACAS0AAAAAAAABMQAAAAAAAgExAAAAAAAAATUAAAAAAAIBNQAAAAAAAAE5AAAAAAACATkAAAAAAAABPQAAAAAAAgE9AAAAAAAAAUEAAAAAAAEBQQAAAAAAAgFBAAAAAAADAUEAAAAAAAABRQAAAAAAAQFFAAAAAAACAUUAAAAAAAMBRQAAAAAAAAFJAAAAAAABAUkAAAAAAAIBSQAAAAAAAwFJAAAAAAAAAU0AAAAAAAEBTQAAAAAAAgFNAAAAAAADAU0AAAAAAAABUQAAAAAAAQFRAAAAAAACAVEAAAAAAAMBUQAAAAAAAAFVAAAAAAABAVUAAAAAAAIBVQAAAAAAAwFVAAAAAAAAAVkAAAAAAAEBWQAAAAAAAgFZAAAAAAADAVkAAAAAAAABXQAAAAAAAQFdAAAAAAACAV0AAAAAAAMBXQAAAAAAAAFhAAAAAAABAWEAAAAAAAIBYQAAAAAAAwFhAAAAAAAAAWUA=",
          "dtype": "f8"
         },
         "xaxis": "x2",
         "y": [
          279,
          265,
          256,
          248,
          239,
          234,
          232,
          230,
          228,
          226,
          224,
          225,
          224,
          223,
          223,
          222,
          222,
          221,
          221,
          220,
          219,
          219,
          219,
          219,
          219,
          219,
          219,
          219,
          219,
          219,
          219,
          219,
          219,
          219,
          219,
          219,
          219,
          219,
          219,
          219,
          219,
          219,
          219,
          219,
          219,
          219,
          219,
          219,
          219,
          219,
          219,
          219,
          219,
          219,
          219,
          219,
          219,
          219,
          219,
          219,
          219,
          219,
          219,
          219,
          219,
          219,
          219,
          219,
          219,
          219,
          219,
          219,
          219,
          219,
          219,
          219,
          219,
          219,
          219,
          219,
          219,
          219,
          219,
          219,
          219,
          219,
          219,
          219,
          219,
          219,
          219,
          219,
          219,
          219,
          219,
          219,
          219,
          219,
          219,
          219
         ],
         "yaxis": "y2"
        }
       ],
       "layout": {
        "annotations": [
         {
          "font": {
           "size": 16
          },
          "showarrow": false,
          "text": "Min Rank",
          "x": 0.225,
          "xanchor": "center",
          "xref": "paper",
          "y": 1,
          "yanchor": "bottom",
          "yref": "paper"
         },
         {
          "font": {
           "size": 16
          },
          "showarrow": false,
          "text": "Median Rank",
          "x": 0.775,
          "xanchor": "center",
          "xref": "paper",
          "y": 1,
          "yanchor": "bottom",
          "yref": "paper"
         }
        ],
        "shapes": [
         {
          "line": {
           "color": "black",
           "dash": "dash",
           "width": 2
          },
          "type": "line",
          "x0": 10,
          "x1": 10,
          "xref": "x",
          "y0": 0,
          "y1": 1,
          "yref": "y domain"
         },
         {
          "line": {
           "color": "black",
           "dash": "dash",
           "width": 2
          },
          "type": "line",
          "x0": 10,
          "x1": 10,
          "xref": "x2",
          "y0": 0,
          "y1": 1,
          "yref": "y2 domain"
         }
        ],
        "template": {
         "data": {
          "bar": [
           {
            "error_x": {
             "color": "#2a3f5f"
            },
            "error_y": {
             "color": "#2a3f5f"
            },
            "marker": {
             "line": {
              "color": "#E5ECF6",
              "width": 0.5
             },
             "pattern": {
              "fillmode": "overlay",
              "size": 10,
              "solidity": 0.2
             }
            },
            "type": "bar"
           }
          ],
          "barpolar": [
           {
            "marker": {
             "line": {
              "color": "#E5ECF6",
              "width": 0.5
             },
             "pattern": {
              "fillmode": "overlay",
              "size": 10,
              "solidity": 0.2
             }
            },
            "type": "barpolar"
           }
          ],
          "carpet": [
           {
            "aaxis": {
             "endlinecolor": "#2a3f5f",
             "gridcolor": "white",
             "linecolor": "white",
             "minorgridcolor": "white",
             "startlinecolor": "#2a3f5f"
            },
            "baxis": {
             "endlinecolor": "#2a3f5f",
             "gridcolor": "white",
             "linecolor": "white",
             "minorgridcolor": "white",
             "startlinecolor": "#2a3f5f"
            },
            "type": "carpet"
           }
          ],
          "choropleth": [
           {
            "colorbar": {
             "outlinewidth": 0,
             "ticks": ""
            },
            "type": "choropleth"
           }
          ],
          "contour": [
           {
            "colorbar": {
             "outlinewidth": 0,
             "ticks": ""
            },
            "colorscale": [
             [
              0,
              "#0d0887"
             ],
             [
              0.1111111111111111,
              "#46039f"
             ],
             [
              0.2222222222222222,
              "#7201a8"
             ],
             [
              0.3333333333333333,
              "#9c179e"
             ],
             [
              0.4444444444444444,
              "#bd3786"
             ],
             [
              0.5555555555555556,
              "#d8576b"
             ],
             [
              0.6666666666666666,
              "#ed7953"
             ],
             [
              0.7777777777777778,
              "#fb9f3a"
             ],
             [
              0.8888888888888888,
              "#fdca26"
             ],
             [
              1,
              "#f0f921"
             ]
            ],
            "type": "contour"
           }
          ],
          "contourcarpet": [
           {
            "colorbar": {
             "outlinewidth": 0,
             "ticks": ""
            },
            "type": "contourcarpet"
           }
          ],
          "heatmap": [
           {
            "colorbar": {
             "outlinewidth": 0,
             "ticks": ""
            },
            "colorscale": [
             [
              0,
              "#0d0887"
             ],
             [
              0.1111111111111111,
              "#46039f"
             ],
             [
              0.2222222222222222,
              "#7201a8"
             ],
             [
              0.3333333333333333,
              "#9c179e"
             ],
             [
              0.4444444444444444,
              "#bd3786"
             ],
             [
              0.5555555555555556,
              "#d8576b"
             ],
             [
              0.6666666666666666,
              "#ed7953"
             ],
             [
              0.7777777777777778,
              "#fb9f3a"
             ],
             [
              0.8888888888888888,
              "#fdca26"
             ],
             [
              1,
              "#f0f921"
             ]
            ],
            "type": "heatmap"
           }
          ],
          "histogram": [
           {
            "marker": {
             "pattern": {
              "fillmode": "overlay",
              "size": 10,
              "solidity": 0.2
             }
            },
            "type": "histogram"
           }
          ],
          "histogram2d": [
           {
            "colorbar": {
             "outlinewidth": 0,
             "ticks": ""
            },
            "colorscale": [
             [
              0,
              "#0d0887"
             ],
             [
              0.1111111111111111,
              "#46039f"
             ],
             [
              0.2222222222222222,
              "#7201a8"
             ],
             [
              0.3333333333333333,
              "#9c179e"
             ],
             [
              0.4444444444444444,
              "#bd3786"
             ],
             [
              0.5555555555555556,
              "#d8576b"
             ],
             [
              0.6666666666666666,
              "#ed7953"
             ],
             [
              0.7777777777777778,
              "#fb9f3a"
             ],
             [
              0.8888888888888888,
              "#fdca26"
             ],
             [
              1,
              "#f0f921"
             ]
            ],
            "type": "histogram2d"
           }
          ],
          "histogram2dcontour": [
           {
            "colorbar": {
             "outlinewidth": 0,
             "ticks": ""
            },
            "colorscale": [
             [
              0,
              "#0d0887"
             ],
             [
              0.1111111111111111,
              "#46039f"
             ],
             [
              0.2222222222222222,
              "#7201a8"
             ],
             [
              0.3333333333333333,
              "#9c179e"
             ],
             [
              0.4444444444444444,
              "#bd3786"
             ],
             [
              0.5555555555555556,
              "#d8576b"
             ],
             [
              0.6666666666666666,
              "#ed7953"
             ],
             [
              0.7777777777777778,
              "#fb9f3a"
             ],
             [
              0.8888888888888888,
              "#fdca26"
             ],
             [
              1,
              "#f0f921"
             ]
            ],
            "type": "histogram2dcontour"
           }
          ],
          "mesh3d": [
           {
            "colorbar": {
             "outlinewidth": 0,
             "ticks": ""
            },
            "type": "mesh3d"
           }
          ],
          "parcoords": [
           {
            "line": {
             "colorbar": {
              "outlinewidth": 0,
              "ticks": ""
             }
            },
            "type": "parcoords"
           }
          ],
          "pie": [
           {
            "automargin": true,
            "type": "pie"
           }
          ],
          "scatter": [
           {
            "fillpattern": {
             "fillmode": "overlay",
             "size": 10,
             "solidity": 0.2
            },
            "type": "scatter"
           }
          ],
          "scatter3d": [
           {
            "line": {
             "colorbar": {
              "outlinewidth": 0,
              "ticks": ""
             }
            },
            "marker": {
             "colorbar": {
              "outlinewidth": 0,
              "ticks": ""
             }
            },
            "type": "scatter3d"
           }
          ],
          "scattercarpet": [
           {
            "marker": {
             "colorbar": {
              "outlinewidth": 0,
              "ticks": ""
             }
            },
            "type": "scattercarpet"
           }
          ],
          "scattergeo": [
           {
            "marker": {
             "colorbar": {
              "outlinewidth": 0,
              "ticks": ""
             }
            },
            "type": "scattergeo"
           }
          ],
          "scattergl": [
           {
            "marker": {
             "colorbar": {
              "outlinewidth": 0,
              "ticks": ""
             }
            },
            "type": "scattergl"
           }
          ],
          "scattermap": [
           {
            "marker": {
             "colorbar": {
              "outlinewidth": 0,
              "ticks": ""
             }
            },
            "type": "scattermap"
           }
          ],
          "scattermapbox": [
           {
            "marker": {
             "colorbar": {
              "outlinewidth": 0,
              "ticks": ""
             }
            },
            "type": "scattermapbox"
           }
          ],
          "scatterpolar": [
           {
            "marker": {
             "colorbar": {
              "outlinewidth": 0,
              "ticks": ""
             }
            },
            "type": "scatterpolar"
           }
          ],
          "scatterpolargl": [
           {
            "marker": {
             "colorbar": {
              "outlinewidth": 0,
              "ticks": ""
             }
            },
            "type": "scatterpolargl"
           }
          ],
          "scatterternary": [
           {
            "marker": {
             "colorbar": {
              "outlinewidth": 0,
              "ticks": ""
             }
            },
            "type": "scatterternary"
           }
          ],
          "surface": [
           {
            "colorbar": {
             "outlinewidth": 0,
             "ticks": ""
            },
            "colorscale": [
             [
              0,
              "#0d0887"
             ],
             [
              0.1111111111111111,
              "#46039f"
             ],
             [
              0.2222222222222222,
              "#7201a8"
             ],
             [
              0.3333333333333333,
              "#9c179e"
             ],
             [
              0.4444444444444444,
              "#bd3786"
             ],
             [
              0.5555555555555556,
              "#d8576b"
             ],
             [
              0.6666666666666666,
              "#ed7953"
             ],
             [
              0.7777777777777778,
              "#fb9f3a"
             ],
             [
              0.8888888888888888,
              "#fdca26"
             ],
             [
              1,
              "#f0f921"
             ]
            ],
            "type": "surface"
           }
          ],
          "table": [
           {
            "cells": {
             "fill": {
              "color": "#EBF0F8"
             },
             "line": {
              "color": "white"
             }
            },
            "header": {
             "fill": {
              "color": "#C8D4E3"
             },
             "line": {
              "color": "white"
             }
            },
            "type": "table"
           }
          ]
         },
         "layout": {
          "annotationdefaults": {
           "arrowcolor": "#2a3f5f",
           "arrowhead": 0,
           "arrowwidth": 1
          },
          "autotypenumbers": "strict",
          "coloraxis": {
           "colorbar": {
            "outlinewidth": 0,
            "ticks": ""
           }
          },
          "colorscale": {
           "diverging": [
            [
             0,
             "#8e0152"
            ],
            [
             0.1,
             "#c51b7d"
            ],
            [
             0.2,
             "#de77ae"
            ],
            [
             0.3,
             "#f1b6da"
            ],
            [
             0.4,
             "#fde0ef"
            ],
            [
             0.5,
             "#f7f7f7"
            ],
            [
             0.6,
             "#e6f5d0"
            ],
            [
             0.7,
             "#b8e186"
            ],
            [
             0.8,
             "#7fbc41"
            ],
            [
             0.9,
             "#4d9221"
            ],
            [
             1,
             "#276419"
            ]
           ],
           "sequential": [
            [
             0,
             "#0d0887"
            ],
            [
             0.1111111111111111,
             "#46039f"
            ],
            [
             0.2222222222222222,
             "#7201a8"
            ],
            [
             0.3333333333333333,
             "#9c179e"
            ],
            [
             0.4444444444444444,
             "#bd3786"
            ],
            [
             0.5555555555555556,
             "#d8576b"
            ],
            [
             0.6666666666666666,
             "#ed7953"
            ],
            [
             0.7777777777777778,
             "#fb9f3a"
            ],
            [
             0.8888888888888888,
             "#fdca26"
            ],
            [
             1,
             "#f0f921"
            ]
           ],
           "sequentialminus": [
            [
             0,
             "#0d0887"
            ],
            [
             0.1111111111111111,
             "#46039f"
            ],
            [
             0.2222222222222222,
             "#7201a8"
            ],
            [
             0.3333333333333333,
             "#9c179e"
            ],
            [
             0.4444444444444444,
             "#bd3786"
            ],
            [
             0.5555555555555556,
             "#d8576b"
            ],
            [
             0.6666666666666666,
             "#ed7953"
            ],
            [
             0.7777777777777778,
             "#fb9f3a"
            ],
            [
             0.8888888888888888,
             "#fdca26"
            ],
            [
             1,
             "#f0f921"
            ]
           ]
          },
          "colorway": [
           "#636efa",
           "#EF553B",
           "#00cc96",
           "#ab63fa",
           "#FFA15A",
           "#19d3f3",
           "#FF6692",
           "#B6E880",
           "#FF97FF",
           "#FECB52"
          ],
          "font": {
           "color": "#2a3f5f"
          },
          "geo": {
           "bgcolor": "white",
           "lakecolor": "white",
           "landcolor": "#E5ECF6",
           "showlakes": true,
           "showland": true,
           "subunitcolor": "white"
          },
          "hoverlabel": {
           "align": "left"
          },
          "hovermode": "closest",
          "mapbox": {
           "style": "light"
          },
          "paper_bgcolor": "white",
          "plot_bgcolor": "#E5ECF6",
          "polar": {
           "angularaxis": {
            "gridcolor": "white",
            "linecolor": "white",
            "ticks": ""
           },
           "bgcolor": "#E5ECF6",
           "radialaxis": {
            "gridcolor": "white",
            "linecolor": "white",
            "ticks": ""
           }
          },
          "scene": {
           "xaxis": {
            "backgroundcolor": "#E5ECF6",
            "gridcolor": "white",
            "gridwidth": 2,
            "linecolor": "white",
            "showbackground": true,
            "ticks": "",
            "zerolinecolor": "white"
           },
           "yaxis": {
            "backgroundcolor": "#E5ECF6",
            "gridcolor": "white",
            "gridwidth": 2,
            "linecolor": "white",
            "showbackground": true,
            "ticks": "",
            "zerolinecolor": "white"
           },
           "zaxis": {
            "backgroundcolor": "#E5ECF6",
            "gridcolor": "white",
            "gridwidth": 2,
            "linecolor": "white",
            "showbackground": true,
            "ticks": "",
            "zerolinecolor": "white"
           }
          },
          "shapedefaults": {
           "line": {
            "color": "#2a3f5f"
           }
          },
          "ternary": {
           "aaxis": {
            "gridcolor": "white",
            "linecolor": "white",
            "ticks": ""
           },
           "baxis": {
            "gridcolor": "white",
            "linecolor": "white",
            "ticks": ""
           },
           "bgcolor": "#E5ECF6",
           "caxis": {
            "gridcolor": "white",
            "linecolor": "white",
            "ticks": ""
           }
          },
          "title": {
           "x": 0.05
          },
          "xaxis": {
           "automargin": true,
           "gridcolor": "white",
           "linecolor": "white",
           "ticks": "",
           "title": {
            "standoff": 15
           },
           "zerolinecolor": "white",
           "zerolinewidth": 2
          },
          "yaxis": {
           "automargin": true,
           "gridcolor": "white",
           "linecolor": "white",
           "ticks": "",
           "title": {
            "standoff": 15
           },
           "zerolinecolor": "white",
           "zerolinewidth": 2
          }
         }
        },
        "title": {
         "text": "Purity Weight: Gene Rank Distributions"
        },
        "xaxis": {
         "anchor": "y",
         "domain": [
          0,
          0.45
         ]
        },
        "xaxis2": {
         "anchor": "y2",
         "domain": [
          0.55,
          1
         ]
        },
        "yaxis": {
         "anchor": "x",
         "domain": [
          0,
          1
         ],
         "range": [
          0,
          300
         ]
        },
        "yaxis2": {
         "anchor": "x2",
         "domain": [
          0,
          1
         ],
         "range": [
          0,
          300
         ]
        }
       }
      }
     },
     "metadata": {},
     "output_type": "display_data"
    },
    {
     "data": {
      "application/vnd.jupyter.widget-view+json": {
       "model_id": "478e3925a31b4fb798ca778d62af7d18",
       "version_major": 2,
       "version_minor": 0
      },
      "text/plain": [
       "Transcription Factor Creation Weight: TERT 1295228:   0%|          | 0/100 [00:00<?, ?it/s]"
      ]
     },
     "metadata": {},
     "output_type": "display_data"
    },
    {
     "data": {
      "application/vnd.jupyter.widget-view+json": {
       "model_id": "4175358f8ae74a49828b39777e005db6",
       "version_major": 2,
       "version_minor": 0
      },
      "text/plain": [
       "Transcription Factor Creation Weight: TERT 1295250:   0%|          | 0/100 [00:00<?, ?it/s]"
      ]
     },
     "metadata": {},
     "output_type": "display_data"
    },
    {
     "data": {
      "application/vnd.jupyter.widget-view+json": {
       "model_id": "4ea2287f81f144439b1e50d4e56c323c",
       "version_major": 2,
       "version_minor": 0
      },
      "text/plain": [
       "Transcription Factor Creation Weight: RALY 32580927:   0%|          | 0/100 [00:00<?, ?it/s]"
      ]
     },
     "metadata": {},
     "output_type": "display_data"
    },
    {
     "data": {
      "application/vnd.jupyter.widget-view+json": {
       "model_id": "01fcb731185f469fa80345135f11215c",
       "version_major": 2,
       "version_minor": 0
      },
      "text/plain": [
       "Transcription Factor Creation Weight: CDC20 43824529:   0%|          | 0/100 [00:00<?, ?it/s]"
      ]
     },
     "metadata": {},
     "output_type": "display_data"
    },
    {
     "data": {
      "application/vnd.plotly.v1+json": {
       "config": {
        "plotlyServerURL": "https://plot.ly"
       },
       "data": [
        {
         "marker": {
          "color": "red",
          "size": 10
         },
         "mode": "lines",
         "name": "TERT 1295228",
         "type": "scatter",
         "x": {
          "bdata": "AAAAAAAA8D9nSMzbGRLzP8+QmLczJPY/Ntlkk002+T+eITFvZ0j8PwVq/UqBWv8/Ntlkk002AUBq/UqBWr8CQJ4hMW9nSARA0UUXXXTRBUAFav1KgVoHQDmO4ziO4whAbLLJJptsCkCg1q8UqPULQNT6lQK1fg1ABx988MEHD0CeITFvZ0gQQLgzJObtDBFA0UUXXXTREUDrVwrU+pUSQAVq/UqBWhNAH3zwwQcfFEA5juM4juMUQFKg1q8UqBVAbLLJJptsFkCGxLydITEXQKDWrxSo9RdAuuiiiy66GEDU+pUCtX4ZQO0MiXk7QxpABx988MEHG0AhMW9nSMwbQDtDYt7OkBxAVVVVVVVVHUBvZ0jM2xkeQIl5O0Ni3h5AoosuuuiiH0DezpCYtzMgQOtXCtT6lSBA+OCDDz74IEAFav1KgVohQBLzdobEvCFAH3zwwQcfIkAsBWr9SoEiQDmO4ziO4yJARRdddNFFI0BSoNavFKgjQF8pUOtXCiRAbLLJJptsJEB5O0Ni3s4kQIbEvJ0hMSVAk0022WSTJUCg1q8UqPUlQK1fKVDrVyZAuuiiiy66JkDHcRzHcRwnQNT6lQK1fidA4YMPPvjgJ0DtDIl5O0MoQPqVArV+pShABx988MEHKUAUqPUrBWopQCExb2dIzClALrrooosuKkA7Q2LezpAqQEjM2xkS8ypAVVVVVVVVK0Bi3s6QmLcrQG9nSMzbGSxAfPDBBx98LECJeTtDYt4sQJUCtX6lQC1AoosuuuiiLUCvFKj1KwUuQLydITFvZy5AySabbLLJLkDWrxSo9SsvQOM4juM4ji9A8MEHH3zwL0B+pUCtXykwQAVq/UqBWjBAjC666KKLMEAS83aGxLwwQJi3MyTm7TBAH3zwwQcfMUClQK1fKVAxQCwFav1KgTFAsskmm2yyMUA5juM4juMxQL9SoNavFDJARRdddNFFMkDM2xkS83YyQFKg1q8UqDJA2WSTTTbZMkBfKVDrVwozQObtDIl5OzNAbLLJJptsM0DzdobEvJ0zQHk7Q2LezjNAAAAAAAAANEA=",
          "dtype": "f8"
         },
         "xaxis": "x",
         "y": [
          68,
          65.5,
          64,
          61,
          59,
          53,
          50,
          49,
          48.5,
          46.5,
          43.5,
          42,
          42.5,
          42.5,
          43,
          44,
          44.5,
          44.5,
          44.5,
          44.5,
          45,
          45.5,
          45.5,
          45.5,
          46,
          46.5,
          46.5,
          46.5,
          46.5,
          46.5,
          46.5,
          46.5,
          46.5,
          46.5,
          46.5,
          46.5,
          46.5,
          46.5,
          46.5,
          46.5,
          46.5,
          46.5,
          46.5,
          46.5,
          46.5,
          46.5,
          46.5,
          46.5,
          46.5,
          46.5,
          46.5,
          46.5,
          46.5,
          46.5,
          46.5,
          46.5,
          46.5,
          46.5,
          46.5,
          46.5,
          46.5,
          46.5,
          46.5,
          46.5,
          46.5,
          46.5,
          46.5,
          46.5,
          46.5,
          46.5,
          46.5,
          46.5,
          46.5,
          46.5,
          46.5,
          46.5,
          46.5,
          46.5,
          46.5,
          46.5,
          46.5,
          46.5,
          46.5,
          46.5,
          46.5,
          46.5,
          46.5,
          46.5,
          46.5,
          46.5,
          46.5,
          46.5,
          46.5,
          46.5,
          46.5,
          46.5,
          46.5,
          46.5,
          46.5,
          46.5
         ],
         "yaxis": "y"
        },
        {
         "marker": {
          "color": "red",
          "size": 10
         },
         "mode": "lines",
         "name": "TERT 1295228",
         "showlegend": false,
         "type": "scatter",
         "x": {
          "bdata": "AAAAAAAA8D9nSMzbGRLzP8+QmLczJPY/Ntlkk002+T+eITFvZ0j8PwVq/UqBWv8/Ntlkk002AUBq/UqBWr8CQJ4hMW9nSARA0UUXXXTRBUAFav1KgVoHQDmO4ziO4whAbLLJJptsCkCg1q8UqPULQNT6lQK1fg1ABx988MEHD0CeITFvZ0gQQLgzJObtDBFA0UUXXXTREUDrVwrU+pUSQAVq/UqBWhNAH3zwwQcfFEA5juM4juMUQFKg1q8UqBVAbLLJJptsFkCGxLydITEXQKDWrxSo9RdAuuiiiy66GEDU+pUCtX4ZQO0MiXk7QxpABx988MEHG0AhMW9nSMwbQDtDYt7OkBxAVVVVVVVVHUBvZ0jM2xkeQIl5O0Ni3h5AoosuuuiiH0DezpCYtzMgQOtXCtT6lSBA+OCDDz74IEAFav1KgVohQBLzdobEvCFAH3zwwQcfIkAsBWr9SoEiQDmO4ziO4yJARRdddNFFI0BSoNavFKgjQF8pUOtXCiRAbLLJJptsJEB5O0Ni3s4kQIbEvJ0hMSVAk0022WSTJUCg1q8UqPUlQK1fKVDrVyZAuuiiiy66JkDHcRzHcRwnQNT6lQK1fidA4YMPPvjgJ0DtDIl5O0MoQPqVArV+pShABx988MEHKUAUqPUrBWopQCExb2dIzClALrrooosuKkA7Q2LezpAqQEjM2xkS8ypAVVVVVVVVK0Bi3s6QmLcrQG9nSMzbGSxAfPDBBx98LECJeTtDYt4sQJUCtX6lQC1AoosuuuiiLUCvFKj1KwUuQLydITFvZy5AySabbLLJLkDWrxSo9SsvQOM4juM4ji9A8MEHH3zwL0B+pUCtXykwQAVq/UqBWjBAjC666KKLMEAS83aGxLwwQJi3MyTm7TBAH3zwwQcfMUClQK1fKVAxQCwFav1KgTFAsskmm2yyMUA5juM4juMxQL9SoNavFDJARRdddNFFMkDM2xkS83YyQFKg1q8UqDJA2WSTTTbZMkBfKVDrVwozQObtDIl5OzNAbLLJJptsM0DzdobEvJ0zQHk7Q2LezjNAAAAAAAAANEA=",
          "dtype": "f8"
         },
         "xaxis": "x2",
         "y": [
          4,
          4,
          4,
          4,
          4,
          3,
          3,
          3,
          3,
          3,
          2,
          2,
          2,
          2,
          2,
          2,
          2,
          2,
          2,
          2,
          2,
          2,
          2,
          2,
          2,
          2,
          2,
          2,
          2,
          2,
          2,
          2,
          2,
          2,
          2,
          2,
          2,
          2,
          2,
          2,
          2,
          2,
          2,
          2,
          2,
          2,
          2,
          2,
          2,
          2,
          2,
          2,
          2,
          2,
          2,
          2,
          2,
          2,
          2,
          2,
          2,
          2,
          2,
          2,
          2,
          2,
          2,
          2,
          2,
          2,
          2,
          2,
          2,
          2,
          2,
          2,
          2,
          2,
          2,
          2,
          2,
          2,
          2,
          2,
          2,
          2,
          2,
          2,
          2,
          2,
          2,
          2,
          2,
          2,
          2,
          2,
          2,
          2,
          2,
          2
         ],
         "yaxis": "y2"
        },
        {
         "marker": {
          "color": "blue",
          "size": 10
         },
         "mode": "lines",
         "name": "TERT 1295250",
         "type": "scatter",
         "x": {
          "bdata": "AAAAAAAA8D9nSMzbGRLzP8+QmLczJPY/Ntlkk002+T+eITFvZ0j8PwVq/UqBWv8/Ntlkk002AUBq/UqBWr8CQJ4hMW9nSARA0UUXXXTRBUAFav1KgVoHQDmO4ziO4whAbLLJJptsCkCg1q8UqPULQNT6lQK1fg1ABx988MEHD0CeITFvZ0gQQLgzJObtDBFA0UUXXXTREUDrVwrU+pUSQAVq/UqBWhNAH3zwwQcfFEA5juM4juMUQFKg1q8UqBVAbLLJJptsFkCGxLydITEXQKDWrxSo9RdAuuiiiy66GEDU+pUCtX4ZQO0MiXk7QxpABx988MEHG0AhMW9nSMwbQDtDYt7OkBxAVVVVVVVVHUBvZ0jM2xkeQIl5O0Ni3h5AoosuuuiiH0DezpCYtzMgQOtXCtT6lSBA+OCDDz74IEAFav1KgVohQBLzdobEvCFAH3zwwQcfIkAsBWr9SoEiQDmO4ziO4yJARRdddNFFI0BSoNavFKgjQF8pUOtXCiRAbLLJJptsJEB5O0Ni3s4kQIbEvJ0hMSVAk0022WSTJUCg1q8UqPUlQK1fKVDrVyZAuuiiiy66JkDHcRzHcRwnQNT6lQK1fidA4YMPPvjgJ0DtDIl5O0MoQPqVArV+pShABx988MEHKUAUqPUrBWopQCExb2dIzClALrrooosuKkA7Q2LezpAqQEjM2xkS8ypAVVVVVVVVK0Bi3s6QmLcrQG9nSMzbGSxAfPDBBx98LECJeTtDYt4sQJUCtX6lQC1AoosuuuiiLUCvFKj1KwUuQLydITFvZy5AySabbLLJLkDWrxSo9SsvQOM4juM4ji9A8MEHH3zwL0B+pUCtXykwQAVq/UqBWjBAjC666KKLMEAS83aGxLwwQJi3MyTm7TBAH3zwwQcfMUClQK1fKVAxQCwFav1KgTFAsskmm2yyMUA5juM4juMxQL9SoNavFDJARRdddNFFMkDM2xkS83YyQFKg1q8UqDJA2WSTTTbZMkBfKVDrVwozQObtDIl5OzNAbLLJJptsM0DzdobEvJ0zQHk7Q2LezjNAAAAAAAAANEA=",
          "dtype": "f8"
         },
         "xaxis": "x",
         "y": [
          42,
          45,
          45,
          47,
          50,
          53,
          55,
          57,
          59,
          62,
          65,
          65,
          65,
          65,
          66,
          66,
          66,
          66,
          67,
          67,
          67,
          67,
          68,
          69,
          69,
          69,
          69,
          69,
          69,
          69,
          69,
          69,
          69,
          69,
          69,
          69,
          69,
          69,
          69,
          69,
          69,
          69,
          69,
          69,
          69,
          69,
          69,
          69,
          69,
          69,
          69,
          69,
          69,
          69,
          69,
          69,
          69,
          69,
          69,
          69,
          69,
          69,
          69,
          69,
          69,
          69,
          69,
          69,
          69,
          69,
          69,
          69,
          69,
          69,
          69,
          69,
          69,
          69,
          69,
          69,
          69,
          69,
          69,
          69,
          69,
          69,
          69,
          69,
          69,
          69,
          69,
          69,
          69,
          69,
          69,
          69,
          69,
          69,
          69,
          69
         ],
         "yaxis": "y"
        },
        {
         "marker": {
          "color": "blue",
          "size": 10
         },
         "mode": "lines",
         "name": "TERT 1295250",
         "showlegend": false,
         "type": "scatter",
         "x": {
          "bdata": "AAAAAAAA8D9nSMzbGRLzP8+QmLczJPY/Ntlkk002+T+eITFvZ0j8PwVq/UqBWv8/Ntlkk002AUBq/UqBWr8CQJ4hMW9nSARA0UUXXXTRBUAFav1KgVoHQDmO4ziO4whAbLLJJptsCkCg1q8UqPULQNT6lQK1fg1ABx988MEHD0CeITFvZ0gQQLgzJObtDBFA0UUXXXTREUDrVwrU+pUSQAVq/UqBWhNAH3zwwQcfFEA5juM4juMUQFKg1q8UqBVAbLLJJptsFkCGxLydITEXQKDWrxSo9RdAuuiiiy66GEDU+pUCtX4ZQO0MiXk7QxpABx988MEHG0AhMW9nSMwbQDtDYt7OkBxAVVVVVVVVHUBvZ0jM2xkeQIl5O0Ni3h5AoosuuuiiH0DezpCYtzMgQOtXCtT6lSBA+OCDDz74IEAFav1KgVohQBLzdobEvCFAH3zwwQcfIkAsBWr9SoEiQDmO4ziO4yJARRdddNFFI0BSoNavFKgjQF8pUOtXCiRAbLLJJptsJEB5O0Ni3s4kQIbEvJ0hMSVAk0022WSTJUCg1q8UqPUlQK1fKVDrVyZAuuiiiy66JkDHcRzHcRwnQNT6lQK1fidA4YMPPvjgJ0DtDIl5O0MoQPqVArV+pShABx988MEHKUAUqPUrBWopQCExb2dIzClALrrooosuKkA7Q2LezpAqQEjM2xkS8ypAVVVVVVVVK0Bi3s6QmLcrQG9nSMzbGSxAfPDBBx98LECJeTtDYt4sQJUCtX6lQC1AoosuuuiiLUCvFKj1KwUuQLydITFvZy5AySabbLLJLkDWrxSo9SsvQOM4juM4ji9A8MEHH3zwL0B+pUCtXykwQAVq/UqBWjBAjC666KKLMEAS83aGxLwwQJi3MyTm7TBAH3zwwQcfMUClQK1fKVAxQCwFav1KgTFAsskmm2yyMUA5juM4juMxQL9SoNavFDJARRdddNFFMkDM2xkS83YyQFKg1q8UqDJA2WSTTTbZMkBfKVDrVwozQObtDIl5OzNAbLLJJptsM0DzdobEvJ0zQHk7Q2LezjNAAAAAAAAANEA=",
          "dtype": "f8"
         },
         "xaxis": "x2",
         "y": [
          25,
          25,
          26,
          27,
          28,
          29,
          29,
          30,
          31,
          32,
          34,
          36,
          36,
          36,
          37,
          37,
          37,
          38,
          39,
          39,
          39,
          39,
          39,
          40,
          40,
          40,
          40,
          40,
          40,
          40,
          40,
          40,
          40,
          40,
          40,
          40,
          40,
          40,
          40,
          40,
          40,
          40,
          40,
          40,
          40,
          40,
          40,
          40,
          40,
          40,
          40,
          40,
          40,
          40,
          40,
          40,
          40,
          40,
          40,
          40,
          40,
          40,
          40,
          40,
          40,
          40,
          40,
          40,
          40,
          40,
          40,
          40,
          40,
          40,
          40,
          40,
          40,
          40,
          40,
          40,
          40,
          40,
          40,
          40,
          40,
          40,
          40,
          40,
          40,
          40,
          40,
          40,
          40,
          40,
          40,
          40,
          40,
          40,
          40,
          40
         ],
         "yaxis": "y2"
        },
        {
         "marker": {
          "color": "green",
          "size": 10
         },
         "mode": "lines",
         "name": "RALY 32580927",
         "type": "scatter",
         "x": {
          "bdata": "AAAAAAAA8D9nSMzbGRLzP8+QmLczJPY/Ntlkk002+T+eITFvZ0j8PwVq/UqBWv8/Ntlkk002AUBq/UqBWr8CQJ4hMW9nSARA0UUXXXTRBUAFav1KgVoHQDmO4ziO4whAbLLJJptsCkCg1q8UqPULQNT6lQK1fg1ABx988MEHD0CeITFvZ0gQQLgzJObtDBFA0UUXXXTREUDrVwrU+pUSQAVq/UqBWhNAH3zwwQcfFEA5juM4juMUQFKg1q8UqBVAbLLJJptsFkCGxLydITEXQKDWrxSo9RdAuuiiiy66GEDU+pUCtX4ZQO0MiXk7QxpABx988MEHG0AhMW9nSMwbQDtDYt7OkBxAVVVVVVVVHUBvZ0jM2xkeQIl5O0Ni3h5AoosuuuiiH0DezpCYtzMgQOtXCtT6lSBA+OCDDz74IEAFav1KgVohQBLzdobEvCFAH3zwwQcfIkAsBWr9SoEiQDmO4ziO4yJARRdddNFFI0BSoNavFKgjQF8pUOtXCiRAbLLJJptsJEB5O0Ni3s4kQIbEvJ0hMSVAk0022WSTJUCg1q8UqPUlQK1fKVDrVyZAuuiiiy66JkDHcRzHcRwnQNT6lQK1fidA4YMPPvjgJ0DtDIl5O0MoQPqVArV+pShABx988MEHKUAUqPUrBWopQCExb2dIzClALrrooosuKkA7Q2LezpAqQEjM2xkS8ypAVVVVVVVVK0Bi3s6QmLcrQG9nSMzbGSxAfPDBBx98LECJeTtDYt4sQJUCtX6lQC1AoosuuuiiLUCvFKj1KwUuQLydITFvZy5AySabbLLJLkDWrxSo9SsvQOM4juM4ji9A8MEHH3zwL0B+pUCtXykwQAVq/UqBWjBAjC666KKLMEAS83aGxLwwQJi3MyTm7TBAH3zwwQcfMUClQK1fKVAxQCwFav1KgTFAsskmm2yyMUA5juM4juMxQL9SoNavFDJARRdddNFFMkDM2xkS83YyQFKg1q8UqDJA2WSTTTbZMkBfKVDrVwozQObtDIl5OzNAbLLJJptsM0DzdobEvJ0zQHk7Q2LezjNAAAAAAAAANEA=",
          "dtype": "f8"
         },
         "xaxis": "x",
         "y": [
          160,
          165.5,
          168,
          175,
          179,
          184,
          189,
          193.5,
          197.5,
          204,
          205.5,
          209,
          209,
          211,
          213.5,
          214,
          217,
          218,
          218.5,
          222.5,
          224,
          224.5,
          226,
          228.5,
          229,
          230,
          237,
          237,
          237,
          237,
          237,
          237,
          237,
          237,
          237,
          237,
          237,
          237,
          237,
          237,
          237,
          237,
          237,
          237,
          237,
          237,
          237,
          237,
          237,
          237,
          237,
          237,
          237,
          237,
          237,
          237,
          237,
          237,
          237,
          237,
          237,
          237,
          237,
          237,
          237,
          237,
          237,
          237,
          237,
          237,
          237,
          237,
          237,
          237,
          237,
          237,
          237,
          237,
          237,
          237,
          237,
          237,
          237,
          237,
          237,
          237,
          237,
          237,
          237,
          237,
          237,
          237,
          237,
          237,
          237,
          237,
          237,
          237,
          237,
          237
         ],
         "yaxis": "y"
        },
        {
         "marker": {
          "color": "green",
          "size": 10
         },
         "mode": "lines",
         "name": "RALY 32580927",
         "showlegend": false,
         "type": "scatter",
         "x": {
          "bdata": "AAAAAAAA8D9nSMzbGRLzP8+QmLczJPY/Ntlkk002+T+eITFvZ0j8PwVq/UqBWv8/Ntlkk002AUBq/UqBWr8CQJ4hMW9nSARA0UUXXXTRBUAFav1KgVoHQDmO4ziO4whAbLLJJptsCkCg1q8UqPULQNT6lQK1fg1ABx988MEHD0CeITFvZ0gQQLgzJObtDBFA0UUXXXTREUDrVwrU+pUSQAVq/UqBWhNAH3zwwQcfFEA5juM4juMUQFKg1q8UqBVAbLLJJptsFkCGxLydITEXQKDWrxSo9RdAuuiiiy66GEDU+pUCtX4ZQO0MiXk7QxpABx988MEHG0AhMW9nSMwbQDtDYt7OkBxAVVVVVVVVHUBvZ0jM2xkeQIl5O0Ni3h5AoosuuuiiH0DezpCYtzMgQOtXCtT6lSBA+OCDDz74IEAFav1KgVohQBLzdobEvCFAH3zwwQcfIkAsBWr9SoEiQDmO4ziO4yJARRdddNFFI0BSoNavFKgjQF8pUOtXCiRAbLLJJptsJEB5O0Ni3s4kQIbEvJ0hMSVAk0022WSTJUCg1q8UqPUlQK1fKVDrVyZAuuiiiy66JkDHcRzHcRwnQNT6lQK1fidA4YMPPvjgJ0DtDIl5O0MoQPqVArV+pShABx988MEHKUAUqPUrBWopQCExb2dIzClALrrooosuKkA7Q2LezpAqQEjM2xkS8ypAVVVVVVVVK0Bi3s6QmLcrQG9nSMzbGSxAfPDBBx98LECJeTtDYt4sQJUCtX6lQC1AoosuuuiiLUCvFKj1KwUuQLydITFvZy5AySabbLLJLkDWrxSo9SsvQOM4juM4ji9A8MEHH3zwL0B+pUCtXykwQAVq/UqBWjBAjC666KKLMEAS83aGxLwwQJi3MyTm7TBAH3zwwQcfMUClQK1fKVAxQCwFav1KgTFAsskmm2yyMUA5juM4juMxQL9SoNavFDJARRdddNFFMkDM2xkS83YyQFKg1q8UqDJA2WSTTTbZMkBfKVDrVwozQObtDIl5OzNAbLLJJptsM0DzdobEvJ0zQHk7Q2LezjNAAAAAAAAANEA=",
          "dtype": "f8"
         },
         "xaxis": "x2",
         "y": [
          56,
          58,
          59,
          61,
          64,
          69,
          72,
          74,
          76,
          78,
          78,
          79,
          79,
          80,
          80,
          80,
          80,
          81,
          81,
          82,
          82,
          82,
          82,
          89,
          89,
          90,
          90,
          90,
          90,
          90,
          90,
          90,
          90,
          90,
          90,
          90,
          90,
          90,
          90,
          90,
          90,
          90,
          90,
          90,
          90,
          90,
          90,
          90,
          90,
          90,
          90,
          90,
          90,
          90,
          90,
          90,
          90,
          90,
          90,
          90,
          90,
          90,
          90,
          90,
          90,
          90,
          90,
          90,
          90,
          90,
          90,
          90,
          90,
          90,
          90,
          90,
          90,
          90,
          90,
          90,
          90,
          90,
          90,
          90,
          90,
          90,
          90,
          90,
          90,
          90,
          90,
          90,
          90,
          90,
          90,
          90,
          90,
          90,
          90,
          90
         ],
         "yaxis": "y2"
        },
        {
         "marker": {
          "color": "yellow",
          "size": 10
         },
         "mode": "lines",
         "name": "CDC20 43824529",
         "type": "scatter",
         "x": {
          "bdata": "AAAAAAAA8D9nSMzbGRLzP8+QmLczJPY/Ntlkk002+T+eITFvZ0j8PwVq/UqBWv8/Ntlkk002AUBq/UqBWr8CQJ4hMW9nSARA0UUXXXTRBUAFav1KgVoHQDmO4ziO4whAbLLJJptsCkCg1q8UqPULQNT6lQK1fg1ABx988MEHD0CeITFvZ0gQQLgzJObtDBFA0UUXXXTREUDrVwrU+pUSQAVq/UqBWhNAH3zwwQcfFEA5juM4juMUQFKg1q8UqBVAbLLJJptsFkCGxLydITEXQKDWrxSo9RdAuuiiiy66GEDU+pUCtX4ZQO0MiXk7QxpABx988MEHG0AhMW9nSMwbQDtDYt7OkBxAVVVVVVVVHUBvZ0jM2xkeQIl5O0Ni3h5AoosuuuiiH0DezpCYtzMgQOtXCtT6lSBA+OCDDz74IEAFav1KgVohQBLzdobEvCFAH3zwwQcfIkAsBWr9SoEiQDmO4ziO4yJARRdddNFFI0BSoNavFKgjQF8pUOtXCiRAbLLJJptsJEB5O0Ni3s4kQIbEvJ0hMSVAk0022WSTJUCg1q8UqPUlQK1fKVDrVyZAuuiiiy66JkDHcRzHcRwnQNT6lQK1fidA4YMPPvjgJ0DtDIl5O0MoQPqVArV+pShABx988MEHKUAUqPUrBWopQCExb2dIzClALrrooosuKkA7Q2LezpAqQEjM2xkS8ypAVVVVVVVVK0Bi3s6QmLcrQG9nSMzbGSxAfPDBBx98LECJeTtDYt4sQJUCtX6lQC1AoosuuuiiLUCvFKj1KwUuQLydITFvZy5AySabbLLJLkDWrxSo9SsvQOM4juM4ji9A8MEHH3zwL0B+pUCtXykwQAVq/UqBWjBAjC666KKLMEAS83aGxLwwQJi3MyTm7TBAH3zwwQcfMUClQK1fKVAxQCwFav1KgTFAsskmm2yyMUA5juM4juMxQL9SoNavFDJARRdddNFFMkDM2xkS83YyQFKg1q8UqDJA2WSTTTbZMkBfKVDrVwozQObtDIl5OzNAbLLJJptsM0DzdobEvJ0zQHk7Q2LezjNAAAAAAAAANEA=",
          "dtype": "f8"
         },
         "xaxis": "x",
         "y": [
          212,
          214,
          217,
          221,
          224,
          225,
          227,
          230,
          232,
          239,
          243,
          248,
          249,
          251,
          256,
          258,
          262,
          268,
          270,
          272,
          272,
          275,
          279,
          280,
          286,
          288,
          289,
          289,
          289,
          289,
          289,
          289,
          289,
          289,
          289,
          289,
          289,
          289,
          289,
          289,
          289,
          289,
          289,
          289,
          289,
          289,
          289,
          289,
          289,
          289,
          289,
          289,
          289,
          289,
          289,
          289,
          289,
          289,
          289,
          289,
          289,
          289,
          289,
          289,
          289,
          289,
          289,
          289,
          289,
          289,
          289,
          289,
          289,
          289,
          289,
          289,
          289,
          289,
          289,
          289,
          289,
          289,
          289,
          289,
          289,
          289,
          289,
          289,
          289,
          289,
          289,
          289,
          289,
          289,
          289,
          289,
          289,
          289,
          289,
          289
         ],
         "yaxis": "y"
        },
        {
         "marker": {
          "color": "yellow",
          "size": 10
         },
         "mode": "lines",
         "name": "CDC20 43824529",
         "showlegend": false,
         "type": "scatter",
         "x": {
          "bdata": "AAAAAAAA8D9nSMzbGRLzP8+QmLczJPY/Ntlkk002+T+eITFvZ0j8PwVq/UqBWv8/Ntlkk002AUBq/UqBWr8CQJ4hMW9nSARA0UUXXXTRBUAFav1KgVoHQDmO4ziO4whAbLLJJptsCkCg1q8UqPULQNT6lQK1fg1ABx988MEHD0CeITFvZ0gQQLgzJObtDBFA0UUXXXTREUDrVwrU+pUSQAVq/UqBWhNAH3zwwQcfFEA5juM4juMUQFKg1q8UqBVAbLLJJptsFkCGxLydITEXQKDWrxSo9RdAuuiiiy66GEDU+pUCtX4ZQO0MiXk7QxpABx988MEHG0AhMW9nSMwbQDtDYt7OkBxAVVVVVVVVHUBvZ0jM2xkeQIl5O0Ni3h5AoosuuuiiH0DezpCYtzMgQOtXCtT6lSBA+OCDDz74IEAFav1KgVohQBLzdobEvCFAH3zwwQcfIkAsBWr9SoEiQDmO4ziO4yJARRdddNFFI0BSoNavFKgjQF8pUOtXCiRAbLLJJptsJEB5O0Ni3s4kQIbEvJ0hMSVAk0022WSTJUCg1q8UqPUlQK1fKVDrVyZAuuiiiy66JkDHcRzHcRwnQNT6lQK1fidA4YMPPvjgJ0DtDIl5O0MoQPqVArV+pShABx988MEHKUAUqPUrBWopQCExb2dIzClALrrooosuKkA7Q2LezpAqQEjM2xkS8ypAVVVVVVVVK0Bi3s6QmLcrQG9nSMzbGSxAfPDBBx98LECJeTtDYt4sQJUCtX6lQC1AoosuuuiiLUCvFKj1KwUuQLydITFvZy5AySabbLLJLkDWrxSo9SsvQOM4juM4ji9A8MEHH3zwL0B+pUCtXykwQAVq/UqBWjBAjC666KKLMEAS83aGxLwwQJi3MyTm7TBAH3zwwQcfMUClQK1fKVAxQCwFav1KgTFAsskmm2yyMUA5juM4juMxQL9SoNavFDJARRdddNFFMkDM2xkS83YyQFKg1q8UqDJA2WSTTTbZMkBfKVDrVwozQObtDIl5OzNAbLLJJptsM0DzdobEvJ0zQHk7Q2LezjNAAAAAAAAANEA=",
          "dtype": "f8"
         },
         "xaxis": "x2",
         "y": [
          212,
          214,
          217,
          221,
          224,
          225,
          227,
          230,
          232,
          239,
          243,
          248,
          249,
          251,
          256,
          258,
          262,
          268,
          270,
          272,
          272,
          275,
          279,
          280,
          286,
          288,
          289,
          289,
          289,
          289,
          289,
          289,
          289,
          289,
          289,
          289,
          289,
          289,
          289,
          289,
          289,
          289,
          289,
          289,
          289,
          289,
          289,
          289,
          289,
          289,
          289,
          289,
          289,
          289,
          289,
          289,
          289,
          289,
          289,
          289,
          289,
          289,
          289,
          289,
          289,
          289,
          289,
          289,
          289,
          289,
          289,
          289,
          289,
          289,
          289,
          289,
          289,
          289,
          289,
          289,
          289,
          289,
          289,
          289,
          289,
          289,
          289,
          289,
          289,
          289,
          289,
          289,
          289,
          289,
          289,
          289,
          289,
          289,
          289,
          289
         ],
         "yaxis": "y2"
        }
       ],
       "layout": {
        "annotations": [
         {
          "font": {
           "size": 16
          },
          "showarrow": false,
          "text": "Min Rank",
          "x": 0.225,
          "xanchor": "center",
          "xref": "paper",
          "y": 1,
          "yanchor": "bottom",
          "yref": "paper"
         },
         {
          "font": {
           "size": 16
          },
          "showarrow": false,
          "text": "Median Rank",
          "x": 0.775,
          "xanchor": "center",
          "xref": "paper",
          "y": 1,
          "yanchor": "bottom",
          "yref": "paper"
         }
        ],
        "shapes": [
         {
          "line": {
           "color": "black",
           "dash": "dash",
           "width": 2
          },
          "type": "line",
          "x0": 2,
          "x1": 2,
          "xref": "x",
          "y0": 0,
          "y1": 1,
          "yref": "y domain"
         },
         {
          "line": {
           "color": "black",
           "dash": "dash",
           "width": 2
          },
          "type": "line",
          "x0": 2,
          "x1": 2,
          "xref": "x2",
          "y0": 0,
          "y1": 1,
          "yref": "y2 domain"
         }
        ],
        "template": {
         "data": {
          "bar": [
           {
            "error_x": {
             "color": "#2a3f5f"
            },
            "error_y": {
             "color": "#2a3f5f"
            },
            "marker": {
             "line": {
              "color": "#E5ECF6",
              "width": 0.5
             },
             "pattern": {
              "fillmode": "overlay",
              "size": 10,
              "solidity": 0.2
             }
            },
            "type": "bar"
           }
          ],
          "barpolar": [
           {
            "marker": {
             "line": {
              "color": "#E5ECF6",
              "width": 0.5
             },
             "pattern": {
              "fillmode": "overlay",
              "size": 10,
              "solidity": 0.2
             }
            },
            "type": "barpolar"
           }
          ],
          "carpet": [
           {
            "aaxis": {
             "endlinecolor": "#2a3f5f",
             "gridcolor": "white",
             "linecolor": "white",
             "minorgridcolor": "white",
             "startlinecolor": "#2a3f5f"
            },
            "baxis": {
             "endlinecolor": "#2a3f5f",
             "gridcolor": "white",
             "linecolor": "white",
             "minorgridcolor": "white",
             "startlinecolor": "#2a3f5f"
            },
            "type": "carpet"
           }
          ],
          "choropleth": [
           {
            "colorbar": {
             "outlinewidth": 0,
             "ticks": ""
            },
            "type": "choropleth"
           }
          ],
          "contour": [
           {
            "colorbar": {
             "outlinewidth": 0,
             "ticks": ""
            },
            "colorscale": [
             [
              0,
              "#0d0887"
             ],
             [
              0.1111111111111111,
              "#46039f"
             ],
             [
              0.2222222222222222,
              "#7201a8"
             ],
             [
              0.3333333333333333,
              "#9c179e"
             ],
             [
              0.4444444444444444,
              "#bd3786"
             ],
             [
              0.5555555555555556,
              "#d8576b"
             ],
             [
              0.6666666666666666,
              "#ed7953"
             ],
             [
              0.7777777777777778,
              "#fb9f3a"
             ],
             [
              0.8888888888888888,
              "#fdca26"
             ],
             [
              1,
              "#f0f921"
             ]
            ],
            "type": "contour"
           }
          ],
          "contourcarpet": [
           {
            "colorbar": {
             "outlinewidth": 0,
             "ticks": ""
            },
            "type": "contourcarpet"
           }
          ],
          "heatmap": [
           {
            "colorbar": {
             "outlinewidth": 0,
             "ticks": ""
            },
            "colorscale": [
             [
              0,
              "#0d0887"
             ],
             [
              0.1111111111111111,
              "#46039f"
             ],
             [
              0.2222222222222222,
              "#7201a8"
             ],
             [
              0.3333333333333333,
              "#9c179e"
             ],
             [
              0.4444444444444444,
              "#bd3786"
             ],
             [
              0.5555555555555556,
              "#d8576b"
             ],
             [
              0.6666666666666666,
              "#ed7953"
             ],
             [
              0.7777777777777778,
              "#fb9f3a"
             ],
             [
              0.8888888888888888,
              "#fdca26"
             ],
             [
              1,
              "#f0f921"
             ]
            ],
            "type": "heatmap"
           }
          ],
          "histogram": [
           {
            "marker": {
             "pattern": {
              "fillmode": "overlay",
              "size": 10,
              "solidity": 0.2
             }
            },
            "type": "histogram"
           }
          ],
          "histogram2d": [
           {
            "colorbar": {
             "outlinewidth": 0,
             "ticks": ""
            },
            "colorscale": [
             [
              0,
              "#0d0887"
             ],
             [
              0.1111111111111111,
              "#46039f"
             ],
             [
              0.2222222222222222,
              "#7201a8"
             ],
             [
              0.3333333333333333,
              "#9c179e"
             ],
             [
              0.4444444444444444,
              "#bd3786"
             ],
             [
              0.5555555555555556,
              "#d8576b"
             ],
             [
              0.6666666666666666,
              "#ed7953"
             ],
             [
              0.7777777777777778,
              "#fb9f3a"
             ],
             [
              0.8888888888888888,
              "#fdca26"
             ],
             [
              1,
              "#f0f921"
             ]
            ],
            "type": "histogram2d"
           }
          ],
          "histogram2dcontour": [
           {
            "colorbar": {
             "outlinewidth": 0,
             "ticks": ""
            },
            "colorscale": [
             [
              0,
              "#0d0887"
             ],
             [
              0.1111111111111111,
              "#46039f"
             ],
             [
              0.2222222222222222,
              "#7201a8"
             ],
             [
              0.3333333333333333,
              "#9c179e"
             ],
             [
              0.4444444444444444,
              "#bd3786"
             ],
             [
              0.5555555555555556,
              "#d8576b"
             ],
             [
              0.6666666666666666,
              "#ed7953"
             ],
             [
              0.7777777777777778,
              "#fb9f3a"
             ],
             [
              0.8888888888888888,
              "#fdca26"
             ],
             [
              1,
              "#f0f921"
             ]
            ],
            "type": "histogram2dcontour"
           }
          ],
          "mesh3d": [
           {
            "colorbar": {
             "outlinewidth": 0,
             "ticks": ""
            },
            "type": "mesh3d"
           }
          ],
          "parcoords": [
           {
            "line": {
             "colorbar": {
              "outlinewidth": 0,
              "ticks": ""
             }
            },
            "type": "parcoords"
           }
          ],
          "pie": [
           {
            "automargin": true,
            "type": "pie"
           }
          ],
          "scatter": [
           {
            "fillpattern": {
             "fillmode": "overlay",
             "size": 10,
             "solidity": 0.2
            },
            "type": "scatter"
           }
          ],
          "scatter3d": [
           {
            "line": {
             "colorbar": {
              "outlinewidth": 0,
              "ticks": ""
             }
            },
            "marker": {
             "colorbar": {
              "outlinewidth": 0,
              "ticks": ""
             }
            },
            "type": "scatter3d"
           }
          ],
          "scattercarpet": [
           {
            "marker": {
             "colorbar": {
              "outlinewidth": 0,
              "ticks": ""
             }
            },
            "type": "scattercarpet"
           }
          ],
          "scattergeo": [
           {
            "marker": {
             "colorbar": {
              "outlinewidth": 0,
              "ticks": ""
             }
            },
            "type": "scattergeo"
           }
          ],
          "scattergl": [
           {
            "marker": {
             "colorbar": {
              "outlinewidth": 0,
              "ticks": ""
             }
            },
            "type": "scattergl"
           }
          ],
          "scattermap": [
           {
            "marker": {
             "colorbar": {
              "outlinewidth": 0,
              "ticks": ""
             }
            },
            "type": "scattermap"
           }
          ],
          "scattermapbox": [
           {
            "marker": {
             "colorbar": {
              "outlinewidth": 0,
              "ticks": ""
             }
            },
            "type": "scattermapbox"
           }
          ],
          "scatterpolar": [
           {
            "marker": {
             "colorbar": {
              "outlinewidth": 0,
              "ticks": ""
             }
            },
            "type": "scatterpolar"
           }
          ],
          "scatterpolargl": [
           {
            "marker": {
             "colorbar": {
              "outlinewidth": 0,
              "ticks": ""
             }
            },
            "type": "scatterpolargl"
           }
          ],
          "scatterternary": [
           {
            "marker": {
             "colorbar": {
              "outlinewidth": 0,
              "ticks": ""
             }
            },
            "type": "scatterternary"
           }
          ],
          "surface": [
           {
            "colorbar": {
             "outlinewidth": 0,
             "ticks": ""
            },
            "colorscale": [
             [
              0,
              "#0d0887"
             ],
             [
              0.1111111111111111,
              "#46039f"
             ],
             [
              0.2222222222222222,
              "#7201a8"
             ],
             [
              0.3333333333333333,
              "#9c179e"
             ],
             [
              0.4444444444444444,
              "#bd3786"
             ],
             [
              0.5555555555555556,
              "#d8576b"
             ],
             [
              0.6666666666666666,
              "#ed7953"
             ],
             [
              0.7777777777777778,
              "#fb9f3a"
             ],
             [
              0.8888888888888888,
              "#fdca26"
             ],
             [
              1,
              "#f0f921"
             ]
            ],
            "type": "surface"
           }
          ],
          "table": [
           {
            "cells": {
             "fill": {
              "color": "#EBF0F8"
             },
             "line": {
              "color": "white"
             }
            },
            "header": {
             "fill": {
              "color": "#C8D4E3"
             },
             "line": {
              "color": "white"
             }
            },
            "type": "table"
           }
          ]
         },
         "layout": {
          "annotationdefaults": {
           "arrowcolor": "#2a3f5f",
           "arrowhead": 0,
           "arrowwidth": 1
          },
          "autotypenumbers": "strict",
          "coloraxis": {
           "colorbar": {
            "outlinewidth": 0,
            "ticks": ""
           }
          },
          "colorscale": {
           "diverging": [
            [
             0,
             "#8e0152"
            ],
            [
             0.1,
             "#c51b7d"
            ],
            [
             0.2,
             "#de77ae"
            ],
            [
             0.3,
             "#f1b6da"
            ],
            [
             0.4,
             "#fde0ef"
            ],
            [
             0.5,
             "#f7f7f7"
            ],
            [
             0.6,
             "#e6f5d0"
            ],
            [
             0.7,
             "#b8e186"
            ],
            [
             0.8,
             "#7fbc41"
            ],
            [
             0.9,
             "#4d9221"
            ],
            [
             1,
             "#276419"
            ]
           ],
           "sequential": [
            [
             0,
             "#0d0887"
            ],
            [
             0.1111111111111111,
             "#46039f"
            ],
            [
             0.2222222222222222,
             "#7201a8"
            ],
            [
             0.3333333333333333,
             "#9c179e"
            ],
            [
             0.4444444444444444,
             "#bd3786"
            ],
            [
             0.5555555555555556,
             "#d8576b"
            ],
            [
             0.6666666666666666,
             "#ed7953"
            ],
            [
             0.7777777777777778,
             "#fb9f3a"
            ],
            [
             0.8888888888888888,
             "#fdca26"
            ],
            [
             1,
             "#f0f921"
            ]
           ],
           "sequentialminus": [
            [
             0,
             "#0d0887"
            ],
            [
             0.1111111111111111,
             "#46039f"
            ],
            [
             0.2222222222222222,
             "#7201a8"
            ],
            [
             0.3333333333333333,
             "#9c179e"
            ],
            [
             0.4444444444444444,
             "#bd3786"
            ],
            [
             0.5555555555555556,
             "#d8576b"
            ],
            [
             0.6666666666666666,
             "#ed7953"
            ],
            [
             0.7777777777777778,
             "#fb9f3a"
            ],
            [
             0.8888888888888888,
             "#fdca26"
            ],
            [
             1,
             "#f0f921"
            ]
           ]
          },
          "colorway": [
           "#636efa",
           "#EF553B",
           "#00cc96",
           "#ab63fa",
           "#FFA15A",
           "#19d3f3",
           "#FF6692",
           "#B6E880",
           "#FF97FF",
           "#FECB52"
          ],
          "font": {
           "color": "#2a3f5f"
          },
          "geo": {
           "bgcolor": "white",
           "lakecolor": "white",
           "landcolor": "#E5ECF6",
           "showlakes": true,
           "showland": true,
           "subunitcolor": "white"
          },
          "hoverlabel": {
           "align": "left"
          },
          "hovermode": "closest",
          "mapbox": {
           "style": "light"
          },
          "paper_bgcolor": "white",
          "plot_bgcolor": "#E5ECF6",
          "polar": {
           "angularaxis": {
            "gridcolor": "white",
            "linecolor": "white",
            "ticks": ""
           },
           "bgcolor": "#E5ECF6",
           "radialaxis": {
            "gridcolor": "white",
            "linecolor": "white",
            "ticks": ""
           }
          },
          "scene": {
           "xaxis": {
            "backgroundcolor": "#E5ECF6",
            "gridcolor": "white",
            "gridwidth": 2,
            "linecolor": "white",
            "showbackground": true,
            "ticks": "",
            "zerolinecolor": "white"
           },
           "yaxis": {
            "backgroundcolor": "#E5ECF6",
            "gridcolor": "white",
            "gridwidth": 2,
            "linecolor": "white",
            "showbackground": true,
            "ticks": "",
            "zerolinecolor": "white"
           },
           "zaxis": {
            "backgroundcolor": "#E5ECF6",
            "gridcolor": "white",
            "gridwidth": 2,
            "linecolor": "white",
            "showbackground": true,
            "ticks": "",
            "zerolinecolor": "white"
           }
          },
          "shapedefaults": {
           "line": {
            "color": "#2a3f5f"
           }
          },
          "ternary": {
           "aaxis": {
            "gridcolor": "white",
            "linecolor": "white",
            "ticks": ""
           },
           "baxis": {
            "gridcolor": "white",
            "linecolor": "white",
            "ticks": ""
           },
           "bgcolor": "#E5ECF6",
           "caxis": {
            "gridcolor": "white",
            "linecolor": "white",
            "ticks": ""
           }
          },
          "title": {
           "x": 0.05
          },
          "xaxis": {
           "automargin": true,
           "gridcolor": "white",
           "linecolor": "white",
           "ticks": "",
           "title": {
            "standoff": 15
           },
           "zerolinecolor": "white",
           "zerolinewidth": 2
          },
          "yaxis": {
           "automargin": true,
           "gridcolor": "white",
           "linecolor": "white",
           "ticks": "",
           "title": {
            "standoff": 15
           },
           "zerolinecolor": "white",
           "zerolinewidth": 2
          }
         }
        },
        "title": {
         "text": "Transcription Factor Creation Weight: Gene Rank Distributions"
        },
        "xaxis": {
         "anchor": "y",
         "domain": [
          0,
          0.45
         ]
        },
        "xaxis2": {
         "anchor": "y2",
         "domain": [
          0.55,
          1
         ]
        },
        "yaxis": {
         "anchor": "x",
         "domain": [
          0,
          1
         ],
         "range": [
          0,
          300
         ]
        },
        "yaxis2": {
         "anchor": "x2",
         "domain": [
          0,
          1
         ],
         "range": [
          0,
          300
         ]
        }
       }
      }
     },
     "metadata": {},
     "output_type": "display_data"
    },
    {
     "data": {
      "application/vnd.jupyter.widget-view+json": {
       "model_id": "4de8e6a431274c45b975ed2f5dfcaaad",
       "version_major": 2,
       "version_minor": 0
      },
      "text/plain": [
       "Transcription Factor Destruction Weight: TERT 1295228:   0%|          | 0/100 [00:00<?, ?it/s]"
      ]
     },
     "metadata": {},
     "output_type": "display_data"
    },
    {
     "data": {
      "application/vnd.jupyter.widget-view+json": {
       "model_id": "acd6043d5d324c9e8c31c5cb33bbf456",
       "version_major": 2,
       "version_minor": 0
      },
      "text/plain": [
       "Transcription Factor Destruction Weight: TERT 1295250:   0%|          | 0/100 [00:00<?, ?it/s]"
      ]
     },
     "metadata": {},
     "output_type": "display_data"
    },
    {
     "data": {
      "application/vnd.jupyter.widget-view+json": {
       "model_id": "07f7b4f07eb647368811d222885d8394",
       "version_major": 2,
       "version_minor": 0
      },
      "text/plain": [
       "Transcription Factor Destruction Weight: RALY 32580927:   0%|          | 0/100 [00:00<?, ?it/s]"
      ]
     },
     "metadata": {},
     "output_type": "display_data"
    },
    {
     "data": {
      "application/vnd.jupyter.widget-view+json": {
       "model_id": "ef2b3bec1d8349b9b1ca7671f266169d",
       "version_major": 2,
       "version_minor": 0
      },
      "text/plain": [
       "Transcription Factor Destruction Weight: CDC20 43824529:   0%|          | 0/100 [00:00<?, ?it/s]"
      ]
     },
     "metadata": {},
     "output_type": "display_data"
    },
    {
     "data": {
      "application/vnd.plotly.v1+json": {
       "config": {
        "plotlyServerURL": "https://plot.ly"
       },
       "data": [
        {
         "marker": {
          "color": "red",
          "size": 10
         },
         "mode": "lines",
         "name": "TERT 1295228",
         "type": "scatter",
         "x": {
          "bdata": "AAAAAAAA8D9nSMzbGRLzP8+QmLczJPY/Ntlkk002+T+eITFvZ0j8PwVq/UqBWv8/Ntlkk002AUBq/UqBWr8CQJ4hMW9nSARA0UUXXXTRBUAFav1KgVoHQDmO4ziO4whAbLLJJptsCkCg1q8UqPULQNT6lQK1fg1ABx988MEHD0CeITFvZ0gQQLgzJObtDBFA0UUXXXTREUDrVwrU+pUSQAVq/UqBWhNAH3zwwQcfFEA5juM4juMUQFKg1q8UqBVAbLLJJptsFkCGxLydITEXQKDWrxSo9RdAuuiiiy66GEDU+pUCtX4ZQO0MiXk7QxpABx988MEHG0AhMW9nSMwbQDtDYt7OkBxAVVVVVVVVHUBvZ0jM2xkeQIl5O0Ni3h5AoosuuuiiH0DezpCYtzMgQOtXCtT6lSBA+OCDDz74IEAFav1KgVohQBLzdobEvCFAH3zwwQcfIkAsBWr9SoEiQDmO4ziO4yJARRdddNFFI0BSoNavFKgjQF8pUOtXCiRAbLLJJptsJEB5O0Ni3s4kQIbEvJ0hMSVAk0022WSTJUCg1q8UqPUlQK1fKVDrVyZAuuiiiy66JkDHcRzHcRwnQNT6lQK1fidA4YMPPvjgJ0DtDIl5O0MoQPqVArV+pShABx988MEHKUAUqPUrBWopQCExb2dIzClALrrooosuKkA7Q2LezpAqQEjM2xkS8ypAVVVVVVVVK0Bi3s6QmLcrQG9nSMzbGSxAfPDBBx98LECJeTtDYt4sQJUCtX6lQC1AoosuuuiiLUCvFKj1KwUuQLydITFvZy5AySabbLLJLkDWrxSo9SsvQOM4juM4ji9A8MEHH3zwL0B+pUCtXykwQAVq/UqBWjBAjC666KKLMEAS83aGxLwwQJi3MyTm7TBAH3zwwQcfMUClQK1fKVAxQCwFav1KgTFAsskmm2yyMUA5juM4juMxQL9SoNavFDJARRdddNFFMkDM2xkS83YyQFKg1q8UqDJA2WSTTTbZMkBfKVDrVwozQObtDIl5OzNAbLLJJptsM0DzdobEvJ0zQHk7Q2LezjNAAAAAAAAANEA=",
          "dtype": "f8"
         },
         "xaxis": "x",
         "y": [
          51.5,
          47,
          48.5,
          50,
          50.5,
          52,
          53.5,
          54.5,
          57.5,
          58,
          58,
          58,
          58,
          58.5,
          59.5,
          60,
          60.5,
          61.5,
          62,
          62,
          62,
          62,
          62,
          62,
          62,
          62,
          62,
          62,
          62,
          62,
          62,
          62,
          62,
          62,
          62,
          62,
          62,
          62,
          62,
          62,
          62,
          62,
          62,
          62,
          62,
          62,
          62,
          62,
          62,
          62,
          62,
          62,
          62,
          62,
          62,
          62,
          62,
          62,
          62,
          62,
          62,
          62,
          62,
          62,
          62,
          62,
          62,
          62,
          62,
          62,
          62,
          62,
          62,
          62,
          62,
          62,
          62,
          62,
          62,
          62,
          62,
          62,
          62,
          62,
          62,
          62,
          62,
          62,
          62,
          62,
          62,
          62,
          62,
          62,
          62,
          62,
          62,
          62,
          62,
          62
         ],
         "yaxis": "y"
        },
        {
         "marker": {
          "color": "red",
          "size": 10
         },
         "mode": "lines",
         "name": "TERT 1295228",
         "showlegend": false,
         "type": "scatter",
         "x": {
          "bdata": "AAAAAAAA8D9nSMzbGRLzP8+QmLczJPY/Ntlkk002+T+eITFvZ0j8PwVq/UqBWv8/Ntlkk002AUBq/UqBWr8CQJ4hMW9nSARA0UUXXXTRBUAFav1KgVoHQDmO4ziO4whAbLLJJptsCkCg1q8UqPULQNT6lQK1fg1ABx988MEHD0CeITFvZ0gQQLgzJObtDBFA0UUXXXTREUDrVwrU+pUSQAVq/UqBWhNAH3zwwQcfFEA5juM4juMUQFKg1q8UqBVAbLLJJptsFkCGxLydITEXQKDWrxSo9RdAuuiiiy66GEDU+pUCtX4ZQO0MiXk7QxpABx988MEHG0AhMW9nSMwbQDtDYt7OkBxAVVVVVVVVHUBvZ0jM2xkeQIl5O0Ni3h5AoosuuuiiH0DezpCYtzMgQOtXCtT6lSBA+OCDDz74IEAFav1KgVohQBLzdobEvCFAH3zwwQcfIkAsBWr9SoEiQDmO4ziO4yJARRdddNFFI0BSoNavFKgjQF8pUOtXCiRAbLLJJptsJEB5O0Ni3s4kQIbEvJ0hMSVAk0022WSTJUCg1q8UqPUlQK1fKVDrVyZAuuiiiy66JkDHcRzHcRwnQNT6lQK1fidA4YMPPvjgJ0DtDIl5O0MoQPqVArV+pShABx988MEHKUAUqPUrBWopQCExb2dIzClALrrooosuKkA7Q2LezpAqQEjM2xkS8ypAVVVVVVVVK0Bi3s6QmLcrQG9nSMzbGSxAfPDBBx98LECJeTtDYt4sQJUCtX6lQC1AoosuuuiiLUCvFKj1KwUuQLydITFvZy5AySabbLLJLkDWrxSo9SsvQOM4juM4ji9A8MEHH3zwL0B+pUCtXykwQAVq/UqBWjBAjC666KKLMEAS83aGxLwwQJi3MyTm7TBAH3zwwQcfMUClQK1fKVAxQCwFav1KgTFAsskmm2yyMUA5juM4juMxQL9SoNavFDJARRdddNFFMkDM2xkS83YyQFKg1q8UqDJA2WSTTTbZMkBfKVDrVwozQObtDIl5OzNAbLLJJptsM0DzdobEvJ0zQHk7Q2LezjNAAAAAAAAANEA=",
          "dtype": "f8"
         },
         "xaxis": "x2",
         "y": [
          3,
          3,
          3,
          3,
          3,
          3,
          4,
          4,
          4,
          4,
          4,
          4,
          4,
          4,
          4,
          4,
          4,
          4,
          4,
          4,
          4,
          4,
          4,
          4,
          4,
          5,
          5,
          5,
          5,
          5,
          5,
          5,
          5,
          5,
          5,
          5,
          5,
          5,
          5,
          5,
          5,
          5,
          5,
          5,
          5,
          5,
          5,
          5,
          5,
          5,
          5,
          5,
          5,
          5,
          5,
          5,
          5,
          5,
          5,
          5,
          5,
          5,
          5,
          5,
          5,
          5,
          5,
          5,
          5,
          5,
          5,
          5,
          5,
          5,
          5,
          5,
          5,
          5,
          5,
          5,
          5,
          5,
          5,
          5,
          5,
          5,
          5,
          5,
          5,
          5,
          5,
          5,
          5,
          5,
          5,
          5,
          5,
          5,
          5,
          5
         ],
         "yaxis": "y2"
        },
        {
         "marker": {
          "color": "blue",
          "size": 10
         },
         "mode": "lines",
         "name": "TERT 1295250",
         "type": "scatter",
         "x": {
          "bdata": "AAAAAAAA8D9nSMzbGRLzP8+QmLczJPY/Ntlkk002+T+eITFvZ0j8PwVq/UqBWv8/Ntlkk002AUBq/UqBWr8CQJ4hMW9nSARA0UUXXXTRBUAFav1KgVoHQDmO4ziO4whAbLLJJptsCkCg1q8UqPULQNT6lQK1fg1ABx988MEHD0CeITFvZ0gQQLgzJObtDBFA0UUXXXTREUDrVwrU+pUSQAVq/UqBWhNAH3zwwQcfFEA5juM4juMUQFKg1q8UqBVAbLLJJptsFkCGxLydITEXQKDWrxSo9RdAuuiiiy66GEDU+pUCtX4ZQO0MiXk7QxpABx988MEHG0AhMW9nSMwbQDtDYt7OkBxAVVVVVVVVHUBvZ0jM2xkeQIl5O0Ni3h5AoosuuuiiH0DezpCYtzMgQOtXCtT6lSBA+OCDDz74IEAFav1KgVohQBLzdobEvCFAH3zwwQcfIkAsBWr9SoEiQDmO4ziO4yJARRdddNFFI0BSoNavFKgjQF8pUOtXCiRAbLLJJptsJEB5O0Ni3s4kQIbEvJ0hMSVAk0022WSTJUCg1q8UqPUlQK1fKVDrVyZAuuiiiy66JkDHcRzHcRwnQNT6lQK1fidA4YMPPvjgJ0DtDIl5O0MoQPqVArV+pShABx988MEHKUAUqPUrBWopQCExb2dIzClALrrooosuKkA7Q2LezpAqQEjM2xkS8ypAVVVVVVVVK0Bi3s6QmLcrQG9nSMzbGSxAfPDBBx98LECJeTtDYt4sQJUCtX6lQC1AoosuuuiiLUCvFKj1KwUuQLydITFvZy5AySabbLLJLkDWrxSo9SsvQOM4juM4ji9A8MEHH3zwL0B+pUCtXykwQAVq/UqBWjBAjC666KKLMEAS83aGxLwwQJi3MyTm7TBAH3zwwQcfMUClQK1fKVAxQCwFav1KgTFAsskmm2yyMUA5juM4juMxQL9SoNavFDJARRdddNFFMkDM2xkS83YyQFKg1q8UqDJA2WSTTTbZMkBfKVDrVwozQObtDIl5OzNAbLLJJptsM0DzdobEvJ0zQHk7Q2LezjNAAAAAAAAANEA=",
          "dtype": "f8"
         },
         "xaxis": "x",
         "y": [
          69,
          71,
          68,
          64,
          59,
          53,
          49,
          47,
          45,
          42,
          41,
          41,
          41,
          41,
          41,
          41,
          41,
          41,
          42,
          42,
          42,
          42,
          42,
          42,
          43,
          44,
          44,
          44,
          44,
          44,
          44,
          44,
          44,
          44,
          44,
          44,
          44,
          44,
          44,
          44,
          44,
          44,
          44,
          44,
          44,
          44,
          44,
          44,
          44,
          44,
          44,
          44,
          44,
          44,
          44,
          44,
          44,
          44,
          44,
          44,
          44,
          44,
          44,
          44,
          44,
          44,
          44,
          44,
          44,
          44,
          44,
          44,
          44,
          44,
          44,
          44,
          44,
          44,
          44,
          44,
          44,
          44,
          44,
          44,
          44,
          44,
          44,
          44,
          44,
          44,
          44,
          44,
          44,
          44,
          44,
          44,
          44,
          44,
          44,
          44
         ],
         "yaxis": "y"
        },
        {
         "marker": {
          "color": "blue",
          "size": 10
         },
         "mode": "lines",
         "name": "TERT 1295250",
         "showlegend": false,
         "type": "scatter",
         "x": {
          "bdata": "AAAAAAAA8D9nSMzbGRLzP8+QmLczJPY/Ntlkk002+T+eITFvZ0j8PwVq/UqBWv8/Ntlkk002AUBq/UqBWr8CQJ4hMW9nSARA0UUXXXTRBUAFav1KgVoHQDmO4ziO4whAbLLJJptsCkCg1q8UqPULQNT6lQK1fg1ABx988MEHD0CeITFvZ0gQQLgzJObtDBFA0UUXXXTREUDrVwrU+pUSQAVq/UqBWhNAH3zwwQcfFEA5juM4juMUQFKg1q8UqBVAbLLJJptsFkCGxLydITEXQKDWrxSo9RdAuuiiiy66GEDU+pUCtX4ZQO0MiXk7QxpABx988MEHG0AhMW9nSMwbQDtDYt7OkBxAVVVVVVVVHUBvZ0jM2xkeQIl5O0Ni3h5AoosuuuiiH0DezpCYtzMgQOtXCtT6lSBA+OCDDz74IEAFav1KgVohQBLzdobEvCFAH3zwwQcfIkAsBWr9SoEiQDmO4ziO4yJARRdddNFFI0BSoNavFKgjQF8pUOtXCiRAbLLJJptsJEB5O0Ni3s4kQIbEvJ0hMSVAk0022WSTJUCg1q8UqPUlQK1fKVDrVyZAuuiiiy66JkDHcRzHcRwnQNT6lQK1fidA4YMPPvjgJ0DtDIl5O0MoQPqVArV+pShABx988MEHKUAUqPUrBWopQCExb2dIzClALrrooosuKkA7Q2LezpAqQEjM2xkS8ypAVVVVVVVVK0Bi3s6QmLcrQG9nSMzbGSxAfPDBBx98LECJeTtDYt4sQJUCtX6lQC1AoosuuuiiLUCvFKj1KwUuQLydITFvZy5AySabbLLJLkDWrxSo9SsvQOM4juM4ji9A8MEHH3zwL0B+pUCtXykwQAVq/UqBWjBAjC666KKLMEAS83aGxLwwQJi3MyTm7TBAH3zwwQcfMUClQK1fKVAxQCwFav1KgTFAsskmm2yyMUA5juM4juMxQL9SoNavFDJARRdddNFFMkDM2xkS83YyQFKg1q8UqDJA2WSTTTbZMkBfKVDrVwozQObtDIl5OzNAbLLJJptsM0DzdobEvJ0zQHk7Q2LezjNAAAAAAAAANEA=",
          "dtype": "f8"
         },
         "xaxis": "x2",
         "y": [
          37,
          36,
          31,
          31,
          31,
          29,
          28,
          27,
          26,
          24,
          23,
          23,
          23,
          23,
          23,
          24,
          24,
          25,
          25,
          25,
          28,
          28,
          29,
          29,
          29,
          29,
          29,
          29,
          29,
          29,
          29,
          29,
          29,
          29,
          29,
          29,
          29,
          29,
          29,
          29,
          29,
          29,
          29,
          29,
          29,
          29,
          29,
          29,
          29,
          29,
          29,
          29,
          29,
          29,
          29,
          29,
          29,
          29,
          29,
          29,
          29,
          29,
          29,
          29,
          29,
          29,
          29,
          29,
          29,
          29,
          29,
          29,
          29,
          29,
          29,
          29,
          29,
          29,
          29,
          29,
          29,
          29,
          29,
          29,
          29,
          29,
          29,
          29,
          29,
          29,
          29,
          29,
          29,
          29,
          29,
          29,
          29,
          29,
          29,
          29
         ],
         "yaxis": "y2"
        },
        {
         "marker": {
          "color": "green",
          "size": 10
         },
         "mode": "lines",
         "name": "RALY 32580927",
         "type": "scatter",
         "x": {
          "bdata": "AAAAAAAA8D9nSMzbGRLzP8+QmLczJPY/Ntlkk002+T+eITFvZ0j8PwVq/UqBWv8/Ntlkk002AUBq/UqBWr8CQJ4hMW9nSARA0UUXXXTRBUAFav1KgVoHQDmO4ziO4whAbLLJJptsCkCg1q8UqPULQNT6lQK1fg1ABx988MEHD0CeITFvZ0gQQLgzJObtDBFA0UUXXXTREUDrVwrU+pUSQAVq/UqBWhNAH3zwwQcfFEA5juM4juMUQFKg1q8UqBVAbLLJJptsFkCGxLydITEXQKDWrxSo9RdAuuiiiy66GEDU+pUCtX4ZQO0MiXk7QxpABx988MEHG0AhMW9nSMwbQDtDYt7OkBxAVVVVVVVVHUBvZ0jM2xkeQIl5O0Ni3h5AoosuuuiiH0DezpCYtzMgQOtXCtT6lSBA+OCDDz74IEAFav1KgVohQBLzdobEvCFAH3zwwQcfIkAsBWr9SoEiQDmO4ziO4yJARRdddNFFI0BSoNavFKgjQF8pUOtXCiRAbLLJJptsJEB5O0Ni3s4kQIbEvJ0hMSVAk0022WSTJUCg1q8UqPUlQK1fKVDrVyZAuuiiiy66JkDHcRzHcRwnQNT6lQK1fidA4YMPPvjgJ0DtDIl5O0MoQPqVArV+pShABx988MEHKUAUqPUrBWopQCExb2dIzClALrrooosuKkA7Q2LezpAqQEjM2xkS8ypAVVVVVVVVK0Bi3s6QmLcrQG9nSMzbGSxAfPDBBx98LECJeTtDYt4sQJUCtX6lQC1AoosuuuiiLUCvFKj1KwUuQLydITFvZy5AySabbLLJLkDWrxSo9SsvQOM4juM4ji9A8MEHH3zwL0B+pUCtXykwQAVq/UqBWjBAjC666KKLMEAS83aGxLwwQJi3MyTm7TBAH3zwwQcfMUClQK1fKVAxQCwFav1KgTFAsskmm2yyMUA5juM4juMxQL9SoNavFDJARRdddNFFMkDM2xkS83YyQFKg1q8UqDJA2WSTTTbZMkBfKVDrVwozQObtDIl5OzNAbLLJJptsM0DzdobEvJ0zQHk7Q2LezjNAAAAAAAAANEA=",
          "dtype": "f8"
         },
         "xaxis": "x",
         "y": [
          210,
          208,
          202,
          196.5,
          191.5,
          185.5,
          175.5,
          167.5,
          164.5,
          162.5,
          155.5,
          151.5,
          152.5,
          148,
          147.5,
          147.5,
          147,
          147.5,
          148.5,
          150,
          151,
          152,
          153.5,
          155.5,
          155.5,
          155.5,
          158,
          158,
          158,
          158,
          158,
          158,
          158,
          158,
          158,
          158,
          158,
          158,
          158,
          158,
          158,
          158,
          158,
          158,
          158,
          158,
          158,
          158,
          158,
          158,
          158,
          158,
          158,
          158,
          158,
          158,
          158,
          158,
          158,
          158,
          158,
          158,
          158,
          158,
          158,
          158,
          158,
          158,
          158,
          158,
          158,
          158,
          158,
          158,
          158,
          158,
          158,
          158,
          158,
          158,
          158,
          158,
          158,
          158,
          158,
          158,
          158,
          158,
          158,
          158,
          158,
          158,
          158,
          158,
          158,
          158,
          158,
          158,
          158,
          158
         ],
         "yaxis": "y"
        },
        {
         "marker": {
          "color": "green",
          "size": 10
         },
         "mode": "lines",
         "name": "RALY 32580927",
         "showlegend": false,
         "type": "scatter",
         "x": {
          "bdata": "AAAAAAAA8D9nSMzbGRLzP8+QmLczJPY/Ntlkk002+T+eITFvZ0j8PwVq/UqBWv8/Ntlkk002AUBq/UqBWr8CQJ4hMW9nSARA0UUXXXTRBUAFav1KgVoHQDmO4ziO4whAbLLJJptsCkCg1q8UqPULQNT6lQK1fg1ABx988MEHD0CeITFvZ0gQQLgzJObtDBFA0UUXXXTREUDrVwrU+pUSQAVq/UqBWhNAH3zwwQcfFEA5juM4juMUQFKg1q8UqBVAbLLJJptsFkCGxLydITEXQKDWrxSo9RdAuuiiiy66GEDU+pUCtX4ZQO0MiXk7QxpABx988MEHG0AhMW9nSMwbQDtDYt7OkBxAVVVVVVVVHUBvZ0jM2xkeQIl5O0Ni3h5AoosuuuiiH0DezpCYtzMgQOtXCtT6lSBA+OCDDz74IEAFav1KgVohQBLzdobEvCFAH3zwwQcfIkAsBWr9SoEiQDmO4ziO4yJARRdddNFFI0BSoNavFKgjQF8pUOtXCiRAbLLJJptsJEB5O0Ni3s4kQIbEvJ0hMSVAk0022WSTJUCg1q8UqPUlQK1fKVDrVyZAuuiiiy66JkDHcRzHcRwnQNT6lQK1fidA4YMPPvjgJ0DtDIl5O0MoQPqVArV+pShABx988MEHKUAUqPUrBWopQCExb2dIzClALrrooosuKkA7Q2LezpAqQEjM2xkS8ypAVVVVVVVVK0Bi3s6QmLcrQG9nSMzbGSxAfPDBBx98LECJeTtDYt4sQJUCtX6lQC1AoosuuuiiLUCvFKj1KwUuQLydITFvZy5AySabbLLJLkDWrxSo9SsvQOM4juM4ji9A8MEHH3zwL0B+pUCtXykwQAVq/UqBWjBAjC666KKLMEAS83aGxLwwQJi3MyTm7TBAH3zwwQcfMUClQK1fKVAxQCwFav1KgTFAsskmm2yyMUA5juM4juMxQL9SoNavFDJARRdddNFFMkDM2xkS83YyQFKg1q8UqDJA2WSTTTbZMkBfKVDrVwozQObtDIl5OzNAbLLJJptsM0DzdobEvJ0zQHk7Q2LezjNAAAAAAAAANEA=",
          "dtype": "f8"
         },
         "xaxis": "x2",
         "y": [
          75,
          77,
          75,
          76,
          74,
          71,
          66,
          57,
          53,
          49,
          47,
          47,
          47,
          47,
          48,
          48,
          48,
          48,
          48,
          48,
          49,
          46,
          46,
          45,
          44,
          43,
          40,
          40,
          40,
          40,
          40,
          40,
          40,
          40,
          40,
          40,
          40,
          40,
          40,
          40,
          40,
          40,
          40,
          40,
          40,
          40,
          40,
          40,
          40,
          40,
          40,
          40,
          40,
          40,
          40,
          40,
          40,
          40,
          40,
          40,
          40,
          40,
          40,
          40,
          40,
          40,
          40,
          40,
          40,
          40,
          40,
          40,
          40,
          40,
          40,
          40,
          40,
          40,
          40,
          40,
          40,
          40,
          40,
          40,
          40,
          40,
          40,
          40,
          40,
          40,
          40,
          40,
          40,
          40,
          40,
          40,
          40,
          40,
          40,
          40
         ],
         "yaxis": "y2"
        },
        {
         "marker": {
          "color": "yellow",
          "size": 10
         },
         "mode": "lines",
         "name": "CDC20 43824529",
         "type": "scatter",
         "x": {
          "bdata": "AAAAAAAA8D9nSMzbGRLzP8+QmLczJPY/Ntlkk002+T+eITFvZ0j8PwVq/UqBWv8/Ntlkk002AUBq/UqBWr8CQJ4hMW9nSARA0UUXXXTRBUAFav1KgVoHQDmO4ziO4whAbLLJJptsCkCg1q8UqPULQNT6lQK1fg1ABx988MEHD0CeITFvZ0gQQLgzJObtDBFA0UUXXXTREUDrVwrU+pUSQAVq/UqBWhNAH3zwwQcfFEA5juM4juMUQFKg1q8UqBVAbLLJJptsFkCGxLydITEXQKDWrxSo9RdAuuiiiy66GEDU+pUCtX4ZQO0MiXk7QxpABx988MEHG0AhMW9nSMwbQDtDYt7OkBxAVVVVVVVVHUBvZ0jM2xkeQIl5O0Ni3h5AoosuuuiiH0DezpCYtzMgQOtXCtT6lSBA+OCDDz74IEAFav1KgVohQBLzdobEvCFAH3zwwQcfIkAsBWr9SoEiQDmO4ziO4yJARRdddNFFI0BSoNavFKgjQF8pUOtXCiRAbLLJJptsJEB5O0Ni3s4kQIbEvJ0hMSVAk0022WSTJUCg1q8UqPUlQK1fKVDrVyZAuuiiiy66JkDHcRzHcRwnQNT6lQK1fidA4YMPPvjgJ0DtDIl5O0MoQPqVArV+pShABx988MEHKUAUqPUrBWopQCExb2dIzClALrrooosuKkA7Q2LezpAqQEjM2xkS8ypAVVVVVVVVK0Bi3s6QmLcrQG9nSMzbGSxAfPDBBx98LECJeTtDYt4sQJUCtX6lQC1AoosuuuiiLUCvFKj1KwUuQLydITFvZy5AySabbLLJLkDWrxSo9SsvQOM4juM4ji9A8MEHH3zwL0B+pUCtXykwQAVq/UqBWjBAjC666KKLMEAS83aGxLwwQJi3MyTm7TBAH3zwwQcfMUClQK1fKVAxQCwFav1KgTFAsskmm2yyMUA5juM4juMxQL9SoNavFDJARRdddNFFMkDM2xkS83YyQFKg1q8UqDJA2WSTTTbZMkBfKVDrVwozQObtDIl5OzNAbLLJJptsM0DzdobEvJ0zQHk7Q2LezjNAAAAAAAAANEA=",
          "dtype": "f8"
         },
         "xaxis": "x",
         "y": [
          312,
          299,
          281,
          260,
          238,
          227,
          229,
          231,
          236,
          241,
          249,
          249,
          251,
          254,
          254,
          256,
          262,
          267,
          268,
          270,
          273,
          274,
          274,
          276,
          282,
          285,
          288,
          289,
          289,
          289,
          289,
          289,
          289,
          289,
          289,
          289,
          289,
          289,
          289,
          289,
          289,
          289,
          289,
          289,
          289,
          289,
          289,
          289,
          289,
          289,
          289,
          289,
          289,
          289,
          289,
          289,
          289,
          289,
          289,
          289,
          289,
          289,
          289,
          289,
          289,
          289,
          289,
          289,
          289,
          289,
          289,
          289,
          289,
          289,
          289,
          289,
          289,
          289,
          289,
          289,
          289,
          289,
          289,
          289,
          289,
          289,
          289,
          289,
          289,
          289,
          289,
          289,
          289,
          289,
          289,
          289,
          289,
          289,
          289,
          289
         ],
         "yaxis": "y"
        },
        {
         "marker": {
          "color": "yellow",
          "size": 10
         },
         "mode": "lines",
         "name": "CDC20 43824529",
         "showlegend": false,
         "type": "scatter",
         "x": {
          "bdata": "AAAAAAAA8D9nSMzbGRLzP8+QmLczJPY/Ntlkk002+T+eITFvZ0j8PwVq/UqBWv8/Ntlkk002AUBq/UqBWr8CQJ4hMW9nSARA0UUXXXTRBUAFav1KgVoHQDmO4ziO4whAbLLJJptsCkCg1q8UqPULQNT6lQK1fg1ABx988MEHD0CeITFvZ0gQQLgzJObtDBFA0UUXXXTREUDrVwrU+pUSQAVq/UqBWhNAH3zwwQcfFEA5juM4juMUQFKg1q8UqBVAbLLJJptsFkCGxLydITEXQKDWrxSo9RdAuuiiiy66GEDU+pUCtX4ZQO0MiXk7QxpABx988MEHG0AhMW9nSMwbQDtDYt7OkBxAVVVVVVVVHUBvZ0jM2xkeQIl5O0Ni3h5AoosuuuiiH0DezpCYtzMgQOtXCtT6lSBA+OCDDz74IEAFav1KgVohQBLzdobEvCFAH3zwwQcfIkAsBWr9SoEiQDmO4ziO4yJARRdddNFFI0BSoNavFKgjQF8pUOtXCiRAbLLJJptsJEB5O0Ni3s4kQIbEvJ0hMSVAk0022WSTJUCg1q8UqPUlQK1fKVDrVyZAuuiiiy66JkDHcRzHcRwnQNT6lQK1fidA4YMPPvjgJ0DtDIl5O0MoQPqVArV+pShABx988MEHKUAUqPUrBWopQCExb2dIzClALrrooosuKkA7Q2LezpAqQEjM2xkS8ypAVVVVVVVVK0Bi3s6QmLcrQG9nSMzbGSxAfPDBBx98LECJeTtDYt4sQJUCtX6lQC1AoosuuuiiLUCvFKj1KwUuQLydITFvZy5AySabbLLJLkDWrxSo9SsvQOM4juM4ji9A8MEHH3zwL0B+pUCtXykwQAVq/UqBWjBAjC666KKLMEAS83aGxLwwQJi3MyTm7TBAH3zwwQcfMUClQK1fKVAxQCwFav1KgTFAsskmm2yyMUA5juM4juMxQL9SoNavFDJARRdddNFFMkDM2xkS83YyQFKg1q8UqDJA2WSTTTbZMkBfKVDrVwozQObtDIl5OzNAbLLJJptsM0DzdobEvJ0zQHk7Q2LezjNAAAAAAAAANEA=",
          "dtype": "f8"
         },
         "xaxis": "x2",
         "y": [
          312,
          299,
          281,
          260,
          238,
          227,
          229,
          231,
          236,
          241,
          249,
          249,
          251,
          254,
          254,
          256,
          262,
          267,
          268,
          270,
          273,
          274,
          274,
          276,
          282,
          285,
          288,
          289,
          289,
          289,
          289,
          289,
          289,
          289,
          289,
          289,
          289,
          289,
          289,
          289,
          289,
          289,
          289,
          289,
          289,
          289,
          289,
          289,
          289,
          289,
          289,
          289,
          289,
          289,
          289,
          289,
          289,
          289,
          289,
          289,
          289,
          289,
          289,
          289,
          289,
          289,
          289,
          289,
          289,
          289,
          289,
          289,
          289,
          289,
          289,
          289,
          289,
          289,
          289,
          289,
          289,
          289,
          289,
          289,
          289,
          289,
          289,
          289,
          289,
          289,
          289,
          289,
          289,
          289,
          289,
          289,
          289,
          289,
          289,
          289
         ],
         "yaxis": "y2"
        }
       ],
       "layout": {
        "annotations": [
         {
          "font": {
           "size": 16
          },
          "showarrow": false,
          "text": "Min Rank",
          "x": 0.225,
          "xanchor": "center",
          "xref": "paper",
          "y": 1,
          "yanchor": "bottom",
          "yref": "paper"
         },
         {
          "font": {
           "size": 16
          },
          "showarrow": false,
          "text": "Median Rank",
          "x": 0.775,
          "xanchor": "center",
          "xref": "paper",
          "y": 1,
          "yanchor": "bottom",
          "yref": "paper"
         }
        ],
        "shapes": [
         {
          "line": {
           "color": "black",
           "dash": "dash",
           "width": 2
          },
          "type": "line",
          "x0": 2,
          "x1": 2,
          "xref": "x",
          "y0": 0,
          "y1": 1,
          "yref": "y domain"
         },
         {
          "line": {
           "color": "black",
           "dash": "dash",
           "width": 2
          },
          "type": "line",
          "x0": 2,
          "x1": 2,
          "xref": "x2",
          "y0": 0,
          "y1": 1,
          "yref": "y2 domain"
         }
        ],
        "template": {
         "data": {
          "bar": [
           {
            "error_x": {
             "color": "#2a3f5f"
            },
            "error_y": {
             "color": "#2a3f5f"
            },
            "marker": {
             "line": {
              "color": "#E5ECF6",
              "width": 0.5
             },
             "pattern": {
              "fillmode": "overlay",
              "size": 10,
              "solidity": 0.2
             }
            },
            "type": "bar"
           }
          ],
          "barpolar": [
           {
            "marker": {
             "line": {
              "color": "#E5ECF6",
              "width": 0.5
             },
             "pattern": {
              "fillmode": "overlay",
              "size": 10,
              "solidity": 0.2
             }
            },
            "type": "barpolar"
           }
          ],
          "carpet": [
           {
            "aaxis": {
             "endlinecolor": "#2a3f5f",
             "gridcolor": "white",
             "linecolor": "white",
             "minorgridcolor": "white",
             "startlinecolor": "#2a3f5f"
            },
            "baxis": {
             "endlinecolor": "#2a3f5f",
             "gridcolor": "white",
             "linecolor": "white",
             "minorgridcolor": "white",
             "startlinecolor": "#2a3f5f"
            },
            "type": "carpet"
           }
          ],
          "choropleth": [
           {
            "colorbar": {
             "outlinewidth": 0,
             "ticks": ""
            },
            "type": "choropleth"
           }
          ],
          "contour": [
           {
            "colorbar": {
             "outlinewidth": 0,
             "ticks": ""
            },
            "colorscale": [
             [
              0,
              "#0d0887"
             ],
             [
              0.1111111111111111,
              "#46039f"
             ],
             [
              0.2222222222222222,
              "#7201a8"
             ],
             [
              0.3333333333333333,
              "#9c179e"
             ],
             [
              0.4444444444444444,
              "#bd3786"
             ],
             [
              0.5555555555555556,
              "#d8576b"
             ],
             [
              0.6666666666666666,
              "#ed7953"
             ],
             [
              0.7777777777777778,
              "#fb9f3a"
             ],
             [
              0.8888888888888888,
              "#fdca26"
             ],
             [
              1,
              "#f0f921"
             ]
            ],
            "type": "contour"
           }
          ],
          "contourcarpet": [
           {
            "colorbar": {
             "outlinewidth": 0,
             "ticks": ""
            },
            "type": "contourcarpet"
           }
          ],
          "heatmap": [
           {
            "colorbar": {
             "outlinewidth": 0,
             "ticks": ""
            },
            "colorscale": [
             [
              0,
              "#0d0887"
             ],
             [
              0.1111111111111111,
              "#46039f"
             ],
             [
              0.2222222222222222,
              "#7201a8"
             ],
             [
              0.3333333333333333,
              "#9c179e"
             ],
             [
              0.4444444444444444,
              "#bd3786"
             ],
             [
              0.5555555555555556,
              "#d8576b"
             ],
             [
              0.6666666666666666,
              "#ed7953"
             ],
             [
              0.7777777777777778,
              "#fb9f3a"
             ],
             [
              0.8888888888888888,
              "#fdca26"
             ],
             [
              1,
              "#f0f921"
             ]
            ],
            "type": "heatmap"
           }
          ],
          "histogram": [
           {
            "marker": {
             "pattern": {
              "fillmode": "overlay",
              "size": 10,
              "solidity": 0.2
             }
            },
            "type": "histogram"
           }
          ],
          "histogram2d": [
           {
            "colorbar": {
             "outlinewidth": 0,
             "ticks": ""
            },
            "colorscale": [
             [
              0,
              "#0d0887"
             ],
             [
              0.1111111111111111,
              "#46039f"
             ],
             [
              0.2222222222222222,
              "#7201a8"
             ],
             [
              0.3333333333333333,
              "#9c179e"
             ],
             [
              0.4444444444444444,
              "#bd3786"
             ],
             [
              0.5555555555555556,
              "#d8576b"
             ],
             [
              0.6666666666666666,
              "#ed7953"
             ],
             [
              0.7777777777777778,
              "#fb9f3a"
             ],
             [
              0.8888888888888888,
              "#fdca26"
             ],
             [
              1,
              "#f0f921"
             ]
            ],
            "type": "histogram2d"
           }
          ],
          "histogram2dcontour": [
           {
            "colorbar": {
             "outlinewidth": 0,
             "ticks": ""
            },
            "colorscale": [
             [
              0,
              "#0d0887"
             ],
             [
              0.1111111111111111,
              "#46039f"
             ],
             [
              0.2222222222222222,
              "#7201a8"
             ],
             [
              0.3333333333333333,
              "#9c179e"
             ],
             [
              0.4444444444444444,
              "#bd3786"
             ],
             [
              0.5555555555555556,
              "#d8576b"
             ],
             [
              0.6666666666666666,
              "#ed7953"
             ],
             [
              0.7777777777777778,
              "#fb9f3a"
             ],
             [
              0.8888888888888888,
              "#fdca26"
             ],
             [
              1,
              "#f0f921"
             ]
            ],
            "type": "histogram2dcontour"
           }
          ],
          "mesh3d": [
           {
            "colorbar": {
             "outlinewidth": 0,
             "ticks": ""
            },
            "type": "mesh3d"
           }
          ],
          "parcoords": [
           {
            "line": {
             "colorbar": {
              "outlinewidth": 0,
              "ticks": ""
             }
            },
            "type": "parcoords"
           }
          ],
          "pie": [
           {
            "automargin": true,
            "type": "pie"
           }
          ],
          "scatter": [
           {
            "fillpattern": {
             "fillmode": "overlay",
             "size": 10,
             "solidity": 0.2
            },
            "type": "scatter"
           }
          ],
          "scatter3d": [
           {
            "line": {
             "colorbar": {
              "outlinewidth": 0,
              "ticks": ""
             }
            },
            "marker": {
             "colorbar": {
              "outlinewidth": 0,
              "ticks": ""
             }
            },
            "type": "scatter3d"
           }
          ],
          "scattercarpet": [
           {
            "marker": {
             "colorbar": {
              "outlinewidth": 0,
              "ticks": ""
             }
            },
            "type": "scattercarpet"
           }
          ],
          "scattergeo": [
           {
            "marker": {
             "colorbar": {
              "outlinewidth": 0,
              "ticks": ""
             }
            },
            "type": "scattergeo"
           }
          ],
          "scattergl": [
           {
            "marker": {
             "colorbar": {
              "outlinewidth": 0,
              "ticks": ""
             }
            },
            "type": "scattergl"
           }
          ],
          "scattermap": [
           {
            "marker": {
             "colorbar": {
              "outlinewidth": 0,
              "ticks": ""
             }
            },
            "type": "scattermap"
           }
          ],
          "scattermapbox": [
           {
            "marker": {
             "colorbar": {
              "outlinewidth": 0,
              "ticks": ""
             }
            },
            "type": "scattermapbox"
           }
          ],
          "scatterpolar": [
           {
            "marker": {
             "colorbar": {
              "outlinewidth": 0,
              "ticks": ""
             }
            },
            "type": "scatterpolar"
           }
          ],
          "scatterpolargl": [
           {
            "marker": {
             "colorbar": {
              "outlinewidth": 0,
              "ticks": ""
             }
            },
            "type": "scatterpolargl"
           }
          ],
          "scatterternary": [
           {
            "marker": {
             "colorbar": {
              "outlinewidth": 0,
              "ticks": ""
             }
            },
            "type": "scatterternary"
           }
          ],
          "surface": [
           {
            "colorbar": {
             "outlinewidth": 0,
             "ticks": ""
            },
            "colorscale": [
             [
              0,
              "#0d0887"
             ],
             [
              0.1111111111111111,
              "#46039f"
             ],
             [
              0.2222222222222222,
              "#7201a8"
             ],
             [
              0.3333333333333333,
              "#9c179e"
             ],
             [
              0.4444444444444444,
              "#bd3786"
             ],
             [
              0.5555555555555556,
              "#d8576b"
             ],
             [
              0.6666666666666666,
              "#ed7953"
             ],
             [
              0.7777777777777778,
              "#fb9f3a"
             ],
             [
              0.8888888888888888,
              "#fdca26"
             ],
             [
              1,
              "#f0f921"
             ]
            ],
            "type": "surface"
           }
          ],
          "table": [
           {
            "cells": {
             "fill": {
              "color": "#EBF0F8"
             },
             "line": {
              "color": "white"
             }
            },
            "header": {
             "fill": {
              "color": "#C8D4E3"
             },
             "line": {
              "color": "white"
             }
            },
            "type": "table"
           }
          ]
         },
         "layout": {
          "annotationdefaults": {
           "arrowcolor": "#2a3f5f",
           "arrowhead": 0,
           "arrowwidth": 1
          },
          "autotypenumbers": "strict",
          "coloraxis": {
           "colorbar": {
            "outlinewidth": 0,
            "ticks": ""
           }
          },
          "colorscale": {
           "diverging": [
            [
             0,
             "#8e0152"
            ],
            [
             0.1,
             "#c51b7d"
            ],
            [
             0.2,
             "#de77ae"
            ],
            [
             0.3,
             "#f1b6da"
            ],
            [
             0.4,
             "#fde0ef"
            ],
            [
             0.5,
             "#f7f7f7"
            ],
            [
             0.6,
             "#e6f5d0"
            ],
            [
             0.7,
             "#b8e186"
            ],
            [
             0.8,
             "#7fbc41"
            ],
            [
             0.9,
             "#4d9221"
            ],
            [
             1,
             "#276419"
            ]
           ],
           "sequential": [
            [
             0,
             "#0d0887"
            ],
            [
             0.1111111111111111,
             "#46039f"
            ],
            [
             0.2222222222222222,
             "#7201a8"
            ],
            [
             0.3333333333333333,
             "#9c179e"
            ],
            [
             0.4444444444444444,
             "#bd3786"
            ],
            [
             0.5555555555555556,
             "#d8576b"
            ],
            [
             0.6666666666666666,
             "#ed7953"
            ],
            [
             0.7777777777777778,
             "#fb9f3a"
            ],
            [
             0.8888888888888888,
             "#fdca26"
            ],
            [
             1,
             "#f0f921"
            ]
           ],
           "sequentialminus": [
            [
             0,
             "#0d0887"
            ],
            [
             0.1111111111111111,
             "#46039f"
            ],
            [
             0.2222222222222222,
             "#7201a8"
            ],
            [
             0.3333333333333333,
             "#9c179e"
            ],
            [
             0.4444444444444444,
             "#bd3786"
            ],
            [
             0.5555555555555556,
             "#d8576b"
            ],
            [
             0.6666666666666666,
             "#ed7953"
            ],
            [
             0.7777777777777778,
             "#fb9f3a"
            ],
            [
             0.8888888888888888,
             "#fdca26"
            ],
            [
             1,
             "#f0f921"
            ]
           ]
          },
          "colorway": [
           "#636efa",
           "#EF553B",
           "#00cc96",
           "#ab63fa",
           "#FFA15A",
           "#19d3f3",
           "#FF6692",
           "#B6E880",
           "#FF97FF",
           "#FECB52"
          ],
          "font": {
           "color": "#2a3f5f"
          },
          "geo": {
           "bgcolor": "white",
           "lakecolor": "white",
           "landcolor": "#E5ECF6",
           "showlakes": true,
           "showland": true,
           "subunitcolor": "white"
          },
          "hoverlabel": {
           "align": "left"
          },
          "hovermode": "closest",
          "mapbox": {
           "style": "light"
          },
          "paper_bgcolor": "white",
          "plot_bgcolor": "#E5ECF6",
          "polar": {
           "angularaxis": {
            "gridcolor": "white",
            "linecolor": "white",
            "ticks": ""
           },
           "bgcolor": "#E5ECF6",
           "radialaxis": {
            "gridcolor": "white",
            "linecolor": "white",
            "ticks": ""
           }
          },
          "scene": {
           "xaxis": {
            "backgroundcolor": "#E5ECF6",
            "gridcolor": "white",
            "gridwidth": 2,
            "linecolor": "white",
            "showbackground": true,
            "ticks": "",
            "zerolinecolor": "white"
           },
           "yaxis": {
            "backgroundcolor": "#E5ECF6",
            "gridcolor": "white",
            "gridwidth": 2,
            "linecolor": "white",
            "showbackground": true,
            "ticks": "",
            "zerolinecolor": "white"
           },
           "zaxis": {
            "backgroundcolor": "#E5ECF6",
            "gridcolor": "white",
            "gridwidth": 2,
            "linecolor": "white",
            "showbackground": true,
            "ticks": "",
            "zerolinecolor": "white"
           }
          },
          "shapedefaults": {
           "line": {
            "color": "#2a3f5f"
           }
          },
          "ternary": {
           "aaxis": {
            "gridcolor": "white",
            "linecolor": "white",
            "ticks": ""
           },
           "baxis": {
            "gridcolor": "white",
            "linecolor": "white",
            "ticks": ""
           },
           "bgcolor": "#E5ECF6",
           "caxis": {
            "gridcolor": "white",
            "linecolor": "white",
            "ticks": ""
           }
          },
          "title": {
           "x": 0.05
          },
          "xaxis": {
           "automargin": true,
           "gridcolor": "white",
           "linecolor": "white",
           "ticks": "",
           "title": {
            "standoff": 15
           },
           "zerolinecolor": "white",
           "zerolinewidth": 2
          },
          "yaxis": {
           "automargin": true,
           "gridcolor": "white",
           "linecolor": "white",
           "ticks": "",
           "title": {
            "standoff": 15
           },
           "zerolinecolor": "white",
           "zerolinewidth": 2
          }
         }
        },
        "title": {
         "text": "Transcription Factor Destruction Weight: Gene Rank Distributions"
        },
        "xaxis": {
         "anchor": "y",
         "domain": [
          0,
          0.45
         ]
        },
        "xaxis2": {
         "anchor": "y2",
         "domain": [
          0.55,
          1
         ]
        },
        "yaxis": {
         "anchor": "x",
         "domain": [
          0,
          1
         ],
         "range": [
          0,
          350
         ]
        },
        "yaxis2": {
         "anchor": "x2",
         "domain": [
          0,
          1
         ],
         "range": [
          0,
          350
         ]
        }
       }
      }
     },
     "metadata": {},
     "output_type": "display_data"
    },
    {
     "data": {
      "application/vnd.jupyter.widget-view+json": {
       "model_id": "a7fb88bb6aef476da302ba9f9682f165",
       "version_major": 2,
       "version_minor": 0
      },
      "text/plain": [
       "Allele Frequency Weight: TERT 1295228:   0%|          | 0/100 [00:00<?, ?it/s]"
      ]
     },
     "metadata": {},
     "output_type": "display_data"
    },
    {
     "data": {
      "application/vnd.jupyter.widget-view+json": {
       "model_id": "e84c106a5ae44c4a904365fc4e6f4223",
       "version_major": 2,
       "version_minor": 0
      },
      "text/plain": [
       "Allele Frequency Weight: TERT 1295250:   0%|          | 0/100 [00:00<?, ?it/s]"
      ]
     },
     "metadata": {},
     "output_type": "display_data"
    },
    {
     "data": {
      "application/vnd.jupyter.widget-view+json": {
       "model_id": "a781b194c3ca4fdabf869285f9783e91",
       "version_major": 2,
       "version_minor": 0
      },
      "text/plain": [
       "Allele Frequency Weight: RALY 32580927:   0%|          | 0/100 [00:00<?, ?it/s]"
      ]
     },
     "metadata": {},
     "output_type": "display_data"
    },
    {
     "data": {
      "application/vnd.jupyter.widget-view+json": {
       "model_id": "5c6092f2f76d46db98c6fb2dd337e2d1",
       "version_major": 2,
       "version_minor": 0
      },
      "text/plain": [
       "Allele Frequency Weight: CDC20 43824529:   0%|          | 0/100 [00:00<?, ?it/s]"
      ]
     },
     "metadata": {},
     "output_type": "display_data"
    },
    {
     "data": {
      "application/vnd.plotly.v1+json": {
       "config": {
        "plotlyServerURL": "https://plot.ly"
       },
       "data": [
        {
         "marker": {
          "color": "red",
          "size": 10
         },
         "mode": "lines",
         "name": "TERT 1295228",
         "type": "scatter",
         "x": {
          "bdata": "AAAAAAAA8D9BrV8pUOv3P4Jav1Kg1v8/4YMPPvjgA0CCWr9SoNYHQCIxb2dIzAtAwgcffPDBD0Ayb2dIzNsRQIJav1Kg1hNA0kUXXXTRFUAiMW9nSMwXQHIcx3EcxxlAwgcffPDBG0AS83aGxLwdQGPezpCYtx9A2mSTTTbZIECCWr9SoNYhQCpQ61cK1CJA0kUXXXTRI0B6O0Ni3s4kQCIxb2dIzCVAyiabbLLJJkByHMdxHMcnQBoS83aGxChAwgcffPDBKUBq/UqBWr8qQBLzdobEvCtAu+iiiy66LEBj3s6QmLctQAvU+pUCtS5As8kmm2yyL0CuXylQ61cwQIJav1Kg1jBAVlVVVVVVMUAqUOtXCtQxQP5KgVq/UjJA0kUXXXTRMkCmQK1fKVAzQHo7Q2LezjNATjbZZJNNNEAiMW9nSMw0QPYrBWr9SjVAyiabbLLJNUCeITFvZ0g2QHIcx3EcxzZARhdddNFFN0AaEvN2hsQ3QO4MiXk7QzhAwgcffPDBOECWArV+pUA5QGr9SoFavzlAPvjggw8+OkAS83aGxLw6QObtDIl5OztAu+iiiy66O0CP4ziO4zg8QGPezpCYtzxAN9lkk002PUAL1PqVArU9QN/OkJi3Mz5As8kmm2yyPkCHxLydITE/QFu/UqDWrz9AGF100UUXQECCWr9SoFZAQOxXCtT6lUBAVlVVVVXVQEDAUqDWrxRBQCpQ61cKVEFAlE022WSTQUD+SoFav9JBQGhIzNsZEkJA0kUXXXRRQkA8Q2LezpBCQKZArV8p0EJAED744IMPQ0B6O0Ni3k5DQOQ4juM4jkNATjbZZJPNQ0C4MyTm7QxEQCIxb2dITERAjC666KKLRED2KwVq/cpEQGApUOtXCkVAyiabbLJJRUA0JObtDIlFQJ4hMW9nyEVACB988MEHRkByHMdxHEdGQNwZEvN2hkZARhdddNHFRkCwFKj1KwVHQBoS83aGREdAhA8++OCDR0DuDIl5O8NHQFgK1PqVAkhAwgcffPBBSEAsBWr9SoFIQJYCtX6lwEhAAAAAAAAASUA=",
          "dtype": "f8"
         },
         "xaxis": "x",
         "y": [
          64.5,
          64.5,
          62,
          59.5,
          58.5,
          58.5,
          57.5,
          56.5,
          55.5,
          55.5,
          55.5,
          53.5,
          53.5,
          53.5,
          53.5,
          51.5,
          51.5,
          50.5,
          52.5,
          52.5,
          52.5,
          52.5,
          52.5,
          52,
          51.5,
          51.5,
          51.5,
          51.5,
          51.5,
          51.5,
          51.5,
          51.5,
          51.5,
          51.5,
          51.5,
          51,
          50.5,
          50.5,
          50.5,
          50.5,
          50.5,
          50.5,
          50.5,
          50.5,
          50.5,
          50.5,
          51.5,
          51.5,
          51.5,
          51.5,
          51.5,
          51.5,
          51.5,
          51.5,
          51.5,
          51.5,
          51.5,
          51.5,
          51.5,
          51.5,
          51.5,
          51.5,
          51.5,
          51.5,
          51.5,
          51.5,
          51.5,
          51.5,
          51.5,
          51.5,
          51.5,
          51.5,
          51.5,
          51.5,
          51.5,
          51.5,
          51.5,
          51.5,
          51.5,
          51.5,
          51.5,
          51.5,
          51.5,
          51.5,
          51.5,
          51.5,
          51.5,
          51.5,
          51.5,
          51.5,
          51.5,
          51.5,
          51.5,
          51.5,
          51.5,
          51.5,
          51.5,
          51.5,
          51.5,
          51.5
         ],
         "yaxis": "y"
        },
        {
         "marker": {
          "color": "red",
          "size": 10
         },
         "mode": "lines",
         "name": "TERT 1295228",
         "showlegend": false,
         "type": "scatter",
         "x": {
          "bdata": "AAAAAAAA8D9BrV8pUOv3P4Jav1Kg1v8/4YMPPvjgA0CCWr9SoNYHQCIxb2dIzAtAwgcffPDBD0Ayb2dIzNsRQIJav1Kg1hNA0kUXXXTRFUAiMW9nSMwXQHIcx3EcxxlAwgcffPDBG0AS83aGxLwdQGPezpCYtx9A2mSTTTbZIECCWr9SoNYhQCpQ61cK1CJA0kUXXXTRI0B6O0Ni3s4kQCIxb2dIzCVAyiabbLLJJkByHMdxHMcnQBoS83aGxChAwgcffPDBKUBq/UqBWr8qQBLzdobEvCtAu+iiiy66LEBj3s6QmLctQAvU+pUCtS5As8kmm2yyL0CuXylQ61cwQIJav1Kg1jBAVlVVVVVVMUAqUOtXCtQxQP5KgVq/UjJA0kUXXXTRMkCmQK1fKVAzQHo7Q2LezjNATjbZZJNNNEAiMW9nSMw0QPYrBWr9SjVAyiabbLLJNUCeITFvZ0g2QHIcx3EcxzZARhdddNFFN0AaEvN2hsQ3QO4MiXk7QzhAwgcffPDBOECWArV+pUA5QGr9SoFavzlAPvjggw8+OkAS83aGxLw6QObtDIl5OztAu+iiiy66O0CP4ziO4zg8QGPezpCYtzxAN9lkk002PUAL1PqVArU9QN/OkJi3Mz5As8kmm2yyPkCHxLydITE/QFu/UqDWrz9AGF100UUXQECCWr9SoFZAQOxXCtT6lUBAVlVVVVXVQEDAUqDWrxRBQCpQ61cKVEFAlE022WSTQUD+SoFav9JBQGhIzNsZEkJA0kUXXXRRQkA8Q2LezpBCQKZArV8p0EJAED744IMPQ0B6O0Ni3k5DQOQ4juM4jkNATjbZZJPNQ0C4MyTm7QxEQCIxb2dITERAjC666KKLRED2KwVq/cpEQGApUOtXCkVAyiabbLJJRUA0JObtDIlFQJ4hMW9nyEVACB988MEHRkByHMdxHEdGQNwZEvN2hkZARhdddNHFRkCwFKj1KwVHQBoS83aGREdAhA8++OCDR0DuDIl5O8NHQFgK1PqVAkhAwgcffPBBSEAsBWr9SoFIQJYCtX6lwEhAAAAAAAAASUA=",
          "dtype": "f8"
         },
         "xaxis": "x2",
         "y": [
          0,
          0,
          2,
          2,
          2,
          2,
          2,
          2,
          2,
          2,
          2,
          2,
          3,
          3,
          3,
          3,
          3,
          3,
          3,
          3,
          3,
          3,
          3,
          3,
          3,
          3,
          3,
          3,
          3,
          3,
          3,
          3,
          3,
          3,
          3,
          3,
          3,
          3,
          3,
          3,
          3,
          3,
          3,
          3,
          3,
          3,
          3,
          3,
          3,
          3,
          3,
          3,
          3,
          3,
          3,
          3,
          3,
          3,
          3,
          3,
          3,
          3,
          3,
          3,
          3,
          3,
          3,
          3,
          3,
          3,
          3,
          3,
          3,
          3,
          3,
          3,
          3,
          3,
          3,
          3,
          3,
          3,
          3,
          3,
          3,
          3,
          3,
          3,
          3,
          3,
          3,
          3,
          3,
          3,
          3,
          3,
          3,
          3,
          3,
          3
         ],
         "yaxis": "y2"
        },
        {
         "marker": {
          "color": "blue",
          "size": 10
         },
         "mode": "lines",
         "name": "TERT 1295250",
         "type": "scatter",
         "x": {
          "bdata": "AAAAAAAA8D9BrV8pUOv3P4Jav1Kg1v8/4YMPPvjgA0CCWr9SoNYHQCIxb2dIzAtAwgcffPDBD0Ayb2dIzNsRQIJav1Kg1hNA0kUXXXTRFUAiMW9nSMwXQHIcx3EcxxlAwgcffPDBG0AS83aGxLwdQGPezpCYtx9A2mSTTTbZIECCWr9SoNYhQCpQ61cK1CJA0kUXXXTRI0B6O0Ni3s4kQCIxb2dIzCVAyiabbLLJJkByHMdxHMcnQBoS83aGxChAwgcffPDBKUBq/UqBWr8qQBLzdobEvCtAu+iiiy66LEBj3s6QmLctQAvU+pUCtS5As8kmm2yyL0CuXylQ61cwQIJav1Kg1jBAVlVVVVVVMUAqUOtXCtQxQP5KgVq/UjJA0kUXXXTRMkCmQK1fKVAzQHo7Q2LezjNATjbZZJNNNEAiMW9nSMw0QPYrBWr9SjVAyiabbLLJNUCeITFvZ0g2QHIcx3EcxzZARhdddNFFN0AaEvN2hsQ3QO4MiXk7QzhAwgcffPDBOECWArV+pUA5QGr9SoFavzlAPvjggw8+OkAS83aGxLw6QObtDIl5OztAu+iiiy66O0CP4ziO4zg8QGPezpCYtzxAN9lkk002PUAL1PqVArU9QN/OkJi3Mz5As8kmm2yyPkCHxLydITE/QFu/UqDWrz9AGF100UUXQECCWr9SoFZAQOxXCtT6lUBAVlVVVVXVQEDAUqDWrxRBQCpQ61cKVEFAlE022WSTQUD+SoFav9JBQGhIzNsZEkJA0kUXXXRRQkA8Q2LezpBCQKZArV8p0EJAED744IMPQ0B6O0Ni3k5DQOQ4juM4jkNATjbZZJPNQ0C4MyTm7QxEQCIxb2dITERAjC666KKLRED2KwVq/cpEQGApUOtXCkVAyiabbLJJRUA0JObtDIlFQJ4hMW9nyEVACB988MEHRkByHMdxHEdGQNwZEvN2hkZARhdddNHFRkCwFKj1KwVHQBoS83aGREdAhA8++OCDR0DuDIl5O8NHQFgK1PqVAkhAwgcffPBBSEAsBWr9SoFIQJYCtX6lwEhAAAAAAAAASUA=",
          "dtype": "f8"
         },
         "xaxis": "x",
         "y": [
          73,
          70,
          66,
          64,
          62,
          62,
          61,
          60,
          59,
          59,
          59,
          57,
          57,
          57,
          57,
          56,
          55,
          54,
          53,
          53,
          53,
          53,
          53,
          52,
          52,
          52,
          52,
          52,
          52,
          52,
          52,
          52,
          52,
          52,
          52,
          52,
          51,
          51,
          51,
          51,
          51,
          51,
          51,
          51,
          51,
          51,
          50,
          50,
          50,
          50,
          50,
          50,
          50,
          50,
          50,
          50,
          50,
          50,
          50,
          50,
          50,
          50,
          50,
          50,
          50,
          50,
          50,
          50,
          50,
          50,
          50,
          50,
          50,
          50,
          50,
          50,
          50,
          50,
          50,
          50,
          50,
          50,
          50,
          50,
          50,
          50,
          50,
          50,
          50,
          50,
          50,
          50,
          50,
          50,
          50,
          50,
          50,
          50,
          50,
          50
         ],
         "yaxis": "y"
        },
        {
         "marker": {
          "color": "blue",
          "size": 10
         },
         "mode": "lines",
         "name": "TERT 1295250",
         "showlegend": false,
         "type": "scatter",
         "x": {
          "bdata": "AAAAAAAA8D9BrV8pUOv3P4Jav1Kg1v8/4YMPPvjgA0CCWr9SoNYHQCIxb2dIzAtAwgcffPDBD0Ayb2dIzNsRQIJav1Kg1hNA0kUXXXTRFUAiMW9nSMwXQHIcx3EcxxlAwgcffPDBG0AS83aGxLwdQGPezpCYtx9A2mSTTTbZIECCWr9SoNYhQCpQ61cK1CJA0kUXXXTRI0B6O0Ni3s4kQCIxb2dIzCVAyiabbLLJJkByHMdxHMcnQBoS83aGxChAwgcffPDBKUBq/UqBWr8qQBLzdobEvCtAu+iiiy66LEBj3s6QmLctQAvU+pUCtS5As8kmm2yyL0CuXylQ61cwQIJav1Kg1jBAVlVVVVVVMUAqUOtXCtQxQP5KgVq/UjJA0kUXXXTRMkCmQK1fKVAzQHo7Q2LezjNATjbZZJNNNEAiMW9nSMw0QPYrBWr9SjVAyiabbLLJNUCeITFvZ0g2QHIcx3EcxzZARhdddNFFN0AaEvN2hsQ3QO4MiXk7QzhAwgcffPDBOECWArV+pUA5QGr9SoFavzlAPvjggw8+OkAS83aGxLw6QObtDIl5OztAu+iiiy66O0CP4ziO4zg8QGPezpCYtzxAN9lkk002PUAL1PqVArU9QN/OkJi3Mz5As8kmm2yyPkCHxLydITE/QFu/UqDWrz9AGF100UUXQECCWr9SoFZAQOxXCtT6lUBAVlVVVVXVQEDAUqDWrxRBQCpQ61cKVEFAlE022WSTQUD+SoFav9JBQGhIzNsZEkJA0kUXXXRRQkA8Q2LezpBCQKZArV8p0EJAED744IMPQ0B6O0Ni3k5DQOQ4juM4jkNATjbZZJPNQ0C4MyTm7QxEQCIxb2dITERAjC666KKLRED2KwVq/cpEQGApUOtXCkVAyiabbLJJRUA0JObtDIlFQJ4hMW9nyEVACB988MEHRkByHMdxHEdGQNwZEvN2hkZARhdddNHFRkCwFKj1KwVHQBoS83aGREdAhA8++OCDR0DuDIl5O8NHQFgK1PqVAkhAwgcffPBBSEAsBWr9SoFIQJYCtX6lwEhAAAAAAAAASUA=",
          "dtype": "f8"
         },
         "xaxis": "x2",
         "y": [
          39,
          38,
          37,
          36,
          36,
          36,
          34,
          34,
          34,
          34,
          33,
          32,
          31,
          30,
          30,
          30,
          30,
          30,
          29,
          29,
          29,
          29,
          29,
          29,
          29,
          29,
          29,
          29,
          29,
          29,
          29,
          28,
          28,
          28,
          28,
          28,
          28,
          28,
          28,
          28,
          28,
          27,
          27,
          27,
          27,
          27,
          27,
          27,
          27,
          27,
          27,
          27,
          27,
          27,
          27,
          27,
          27,
          27,
          27,
          27,
          27,
          27,
          27,
          27,
          27,
          27,
          27,
          27,
          27,
          27,
          27,
          27,
          27,
          27,
          27,
          27,
          27,
          27,
          27,
          27,
          27,
          27,
          27,
          27,
          27,
          27,
          27,
          27,
          27,
          27,
          27,
          27,
          27,
          27,
          27,
          27,
          27,
          27,
          27,
          27
         ],
         "yaxis": "y2"
        },
        {
         "marker": {
          "color": "green",
          "size": 10
         },
         "mode": "lines",
         "name": "RALY 32580927",
         "type": "scatter",
         "x": {
          "bdata": "AAAAAAAA8D9BrV8pUOv3P4Jav1Kg1v8/4YMPPvjgA0CCWr9SoNYHQCIxb2dIzAtAwgcffPDBD0Ayb2dIzNsRQIJav1Kg1hNA0kUXXXTRFUAiMW9nSMwXQHIcx3EcxxlAwgcffPDBG0AS83aGxLwdQGPezpCYtx9A2mSTTTbZIECCWr9SoNYhQCpQ61cK1CJA0kUXXXTRI0B6O0Ni3s4kQCIxb2dIzCVAyiabbLLJJkByHMdxHMcnQBoS83aGxChAwgcffPDBKUBq/UqBWr8qQBLzdobEvCtAu+iiiy66LEBj3s6QmLctQAvU+pUCtS5As8kmm2yyL0CuXylQ61cwQIJav1Kg1jBAVlVVVVVVMUAqUOtXCtQxQP5KgVq/UjJA0kUXXXTRMkCmQK1fKVAzQHo7Q2LezjNATjbZZJNNNEAiMW9nSMw0QPYrBWr9SjVAyiabbLLJNUCeITFvZ0g2QHIcx3EcxzZARhdddNFFN0AaEvN2hsQ3QO4MiXk7QzhAwgcffPDBOECWArV+pUA5QGr9SoFavzlAPvjggw8+OkAS83aGxLw6QObtDIl5OztAu+iiiy66O0CP4ziO4zg8QGPezpCYtzxAN9lkk002PUAL1PqVArU9QN/OkJi3Mz5As8kmm2yyPkCHxLydITE/QFu/UqDWrz9AGF100UUXQECCWr9SoFZAQOxXCtT6lUBAVlVVVVXVQEDAUqDWrxRBQCpQ61cKVEFAlE022WSTQUD+SoFav9JBQGhIzNsZEkJA0kUXXXRRQkA8Q2LezpBCQKZArV8p0EJAED744IMPQ0B6O0Ni3k5DQOQ4juM4jkNATjbZZJPNQ0C4MyTm7QxEQCIxb2dITERAjC666KKLRED2KwVq/cpEQGApUOtXCkVAyiabbLJJRUA0JObtDIlFQJ4hMW9nyEVACB988MEHRkByHMdxHEdGQNwZEvN2hkZARhdddNHFRkCwFKj1KwVHQBoS83aGREdAhA8++OCDR0DuDIl5O8NHQFgK1PqVAkhAwgcffPBBSEAsBWr9SoFIQJYCtX6lwEhAAAAAAAAASUA=",
          "dtype": "f8"
         },
         "xaxis": "x",
         "y": [
          114,
          109.5,
          112.5,
          112.5,
          114.5,
          115,
          121.5,
          124,
          128,
          131.5,
          137.5,
          141,
          147.5,
          150,
          157.5,
          162.5,
          167,
          175,
          184.5,
          193.5,
          206.5,
          216,
          224,
          234,
          244,
          255,
          268.5,
          281,
          292,
          304,
          322,
          339.5,
          356.5,
          375,
          395,
          422.5,
          449.5,
          449.5,
          449.5,
          449,
          449,
          449,
          449,
          449,
          449,
          449,
          449,
          449,
          449,
          449,
          448.5,
          448.5,
          448.5,
          448.5,
          448.5,
          448.5,
          448.5,
          448.5,
          448.5,
          448.5,
          448.5,
          448.5,
          448.5,
          448.5,
          448.5,
          448.5,
          448.5,
          448.5,
          448.5,
          448.5,
          448.5,
          448.5,
          448.5,
          448.5,
          448.5,
          448.5,
          448.5,
          448.5,
          448.5,
          448.5,
          448.5,
          448.5,
          448.5,
          448.5,
          448.5,
          448.5,
          448.5,
          448.5,
          448.5,
          448.5,
          448.5,
          448.5,
          448.5,
          448.5,
          448.5,
          448.5,
          448.5,
          448.5,
          448.5,
          448.5
         ],
         "yaxis": "y"
        },
        {
         "marker": {
          "color": "green",
          "size": 10
         },
         "mode": "lines",
         "name": "RALY 32580927",
         "showlegend": false,
         "type": "scatter",
         "x": {
          "bdata": "AAAAAAAA8D9BrV8pUOv3P4Jav1Kg1v8/4YMPPvjgA0CCWr9SoNYHQCIxb2dIzAtAwgcffPDBD0Ayb2dIzNsRQIJav1Kg1hNA0kUXXXTRFUAiMW9nSMwXQHIcx3EcxxlAwgcffPDBG0AS83aGxLwdQGPezpCYtx9A2mSTTTbZIECCWr9SoNYhQCpQ61cK1CJA0kUXXXTRI0B6O0Ni3s4kQCIxb2dIzCVAyiabbLLJJkByHMdxHMcnQBoS83aGxChAwgcffPDBKUBq/UqBWr8qQBLzdobEvCtAu+iiiy66LEBj3s6QmLctQAvU+pUCtS5As8kmm2yyL0CuXylQ61cwQIJav1Kg1jBAVlVVVVVVMUAqUOtXCtQxQP5KgVq/UjJA0kUXXXTRMkCmQK1fKVAzQHo7Q2LezjNATjbZZJNNNEAiMW9nSMw0QPYrBWr9SjVAyiabbLLJNUCeITFvZ0g2QHIcx3EcxzZARhdddNFFN0AaEvN2hsQ3QO4MiXk7QzhAwgcffPDBOECWArV+pUA5QGr9SoFavzlAPvjggw8+OkAS83aGxLw6QObtDIl5OztAu+iiiy66O0CP4ziO4zg8QGPezpCYtzxAN9lkk002PUAL1PqVArU9QN/OkJi3Mz5As8kmm2yyPkCHxLydITE/QFu/UqDWrz9AGF100UUXQECCWr9SoFZAQOxXCtT6lUBAVlVVVVXVQEDAUqDWrxRBQCpQ61cKVEFAlE022WSTQUD+SoFav9JBQGhIzNsZEkJA0kUXXXRRQkA8Q2LezpBCQKZArV8p0EJAED744IMPQ0B6O0Ni3k5DQOQ4juM4jkNATjbZZJPNQ0C4MyTm7QxEQCIxb2dITERAjC666KKLRED2KwVq/cpEQGApUOtXCkVAyiabbLJJRUA0JObtDIlFQJ4hMW9nyEVACB988MEHRkByHMdxHEdGQNwZEvN2hkZARhdddNHFRkCwFKj1KwVHQBoS83aGREdAhA8++OCDR0DuDIl5O8NHQFgK1PqVAkhAwgcffPBBSEAsBWr9SoFIQJYCtX6lwEhAAAAAAAAASUA=",
          "dtype": "f8"
         },
         "xaxis": "x2",
         "y": [
          92,
          91,
          87,
          85,
          81,
          78,
          77,
          77,
          76,
          75,
          74,
          74,
          74,
          72,
          72,
          72,
          72,
          70,
          70,
          69,
          68,
          68,
          68,
          68,
          68,
          67,
          67,
          67,
          67,
          67,
          67,
          67,
          67,
          67,
          67,
          67,
          67,
          66,
          66,
          66,
          66,
          66,
          66,
          66,
          66,
          66,
          66,
          66,
          65,
          65,
          65,
          65,
          65,
          65,
          65,
          65,
          65,
          65,
          65,
          65,
          65,
          65,
          65,
          65,
          65,
          65,
          65,
          65,
          65,
          65,
          65,
          65,
          65,
          65,
          65,
          65,
          65,
          65,
          65,
          65,
          65,
          65,
          65,
          65,
          65,
          65,
          65,
          65,
          65,
          65,
          65,
          65,
          65,
          65,
          65,
          65,
          65,
          65,
          65,
          65
         ],
         "yaxis": "y2"
        },
        {
         "marker": {
          "color": "yellow",
          "size": 10
         },
         "mode": "lines",
         "name": "CDC20 43824529",
         "type": "scatter",
         "x": {
          "bdata": "AAAAAAAA8D9BrV8pUOv3P4Jav1Kg1v8/4YMPPvjgA0CCWr9SoNYHQCIxb2dIzAtAwgcffPDBD0Ayb2dIzNsRQIJav1Kg1hNA0kUXXXTRFUAiMW9nSMwXQHIcx3EcxxlAwgcffPDBG0AS83aGxLwdQGPezpCYtx9A2mSTTTbZIECCWr9SoNYhQCpQ61cK1CJA0kUXXXTRI0B6O0Ni3s4kQCIxb2dIzCVAyiabbLLJJkByHMdxHMcnQBoS83aGxChAwgcffPDBKUBq/UqBWr8qQBLzdobEvCtAu+iiiy66LEBj3s6QmLctQAvU+pUCtS5As8kmm2yyL0CuXylQ61cwQIJav1Kg1jBAVlVVVVVVMUAqUOtXCtQxQP5KgVq/UjJA0kUXXXTRMkCmQK1fKVAzQHo7Q2LezjNATjbZZJNNNEAiMW9nSMw0QPYrBWr9SjVAyiabbLLJNUCeITFvZ0g2QHIcx3EcxzZARhdddNFFN0AaEvN2hsQ3QO4MiXk7QzhAwgcffPDBOECWArV+pUA5QGr9SoFavzlAPvjggw8+OkAS83aGxLw6QObtDIl5OztAu+iiiy66O0CP4ziO4zg8QGPezpCYtzxAN9lkk002PUAL1PqVArU9QN/OkJi3Mz5As8kmm2yyPkCHxLydITE/QFu/UqDWrz9AGF100UUXQECCWr9SoFZAQOxXCtT6lUBAVlVVVVXVQEDAUqDWrxRBQCpQ61cKVEFAlE022WSTQUD+SoFav9JBQGhIzNsZEkJA0kUXXXRRQkA8Q2LezpBCQKZArV8p0EJAED744IMPQ0B6O0Ni3k5DQOQ4juM4jkNATjbZZJPNQ0C4MyTm7QxEQCIxb2dITERAjC666KKLRED2KwVq/cpEQGApUOtXCkVAyiabbLJJRUA0JObtDIlFQJ4hMW9nyEVACB988MEHRkByHMdxHEdGQNwZEvN2hkZARhdddNHFRkCwFKj1KwVHQBoS83aGREdAhA8++OCDR0DuDIl5O8NHQFgK1PqVAkhAwgcffPBBSEAsBWr9SoFIQJYCtX6lwEhAAAAAAAAASUA=",
          "dtype": "f8"
         },
         "xaxis": "x",
         "y": [
          376,
          363,
          351,
          341,
          328,
          316,
          308,
          300,
          281,
          271,
          265,
          261,
          252,
          250,
          247,
          243,
          231,
          230,
          227,
          222,
          220,
          217,
          217,
          216,
          215,
          214,
          213,
          213,
          213,
          211,
          211,
          211,
          211,
          209,
          209,
          208,
          207,
          207,
          207,
          207,
          207,
          206,
          206,
          206,
          206,
          206,
          206,
          206,
          206,
          206,
          206,
          206,
          206,
          205,
          205,
          205,
          205,
          205,
          205,
          205,
          205,
          205,
          205,
          205,
          204,
          204,
          204,
          204,
          204,
          204,
          204,
          204,
          204,
          204,
          204,
          204,
          204,
          204,
          204,
          204,
          204,
          204,
          204,
          204,
          204,
          204,
          204,
          204,
          204,
          204,
          204,
          204,
          204,
          204,
          204,
          204,
          204,
          204,
          204,
          204
         ],
         "yaxis": "y"
        },
        {
         "marker": {
          "color": "yellow",
          "size": 10
         },
         "mode": "lines",
         "name": "CDC20 43824529",
         "showlegend": false,
         "type": "scatter",
         "x": {
          "bdata": "AAAAAAAA8D9BrV8pUOv3P4Jav1Kg1v8/4YMPPvjgA0CCWr9SoNYHQCIxb2dIzAtAwgcffPDBD0Ayb2dIzNsRQIJav1Kg1hNA0kUXXXTRFUAiMW9nSMwXQHIcx3EcxxlAwgcffPDBG0AS83aGxLwdQGPezpCYtx9A2mSTTTbZIECCWr9SoNYhQCpQ61cK1CJA0kUXXXTRI0B6O0Ni3s4kQCIxb2dIzCVAyiabbLLJJkByHMdxHMcnQBoS83aGxChAwgcffPDBKUBq/UqBWr8qQBLzdobEvCtAu+iiiy66LEBj3s6QmLctQAvU+pUCtS5As8kmm2yyL0CuXylQ61cwQIJav1Kg1jBAVlVVVVVVMUAqUOtXCtQxQP5KgVq/UjJA0kUXXXTRMkCmQK1fKVAzQHo7Q2LezjNATjbZZJNNNEAiMW9nSMw0QPYrBWr9SjVAyiabbLLJNUCeITFvZ0g2QHIcx3EcxzZARhdddNFFN0AaEvN2hsQ3QO4MiXk7QzhAwgcffPDBOECWArV+pUA5QGr9SoFavzlAPvjggw8+OkAS83aGxLw6QObtDIl5OztAu+iiiy66O0CP4ziO4zg8QGPezpCYtzxAN9lkk002PUAL1PqVArU9QN/OkJi3Mz5As8kmm2yyPkCHxLydITE/QFu/UqDWrz9AGF100UUXQECCWr9SoFZAQOxXCtT6lUBAVlVVVVXVQEDAUqDWrxRBQCpQ61cKVEFAlE022WSTQUD+SoFav9JBQGhIzNsZEkJA0kUXXXRRQkA8Q2LezpBCQKZArV8p0EJAED744IMPQ0B6O0Ni3k5DQOQ4juM4jkNATjbZZJPNQ0C4MyTm7QxEQCIxb2dITERAjC666KKLRED2KwVq/cpEQGApUOtXCkVAyiabbLJJRUA0JObtDIlFQJ4hMW9nyEVACB988MEHRkByHMdxHEdGQNwZEvN2hkZARhdddNHFRkCwFKj1KwVHQBoS83aGREdAhA8++OCDR0DuDIl5O8NHQFgK1PqVAkhAwgcffPBBSEAsBWr9SoFIQJYCtX6lwEhAAAAAAAAASUA=",
          "dtype": "f8"
         },
         "xaxis": "x2",
         "y": [
          376,
          363,
          351,
          341,
          328,
          316,
          308,
          300,
          281,
          271,
          265,
          261,
          252,
          250,
          247,
          243,
          231,
          230,
          227,
          222,
          220,
          217,
          217,
          216,
          215,
          214,
          213,
          213,
          213,
          211,
          211,
          211,
          211,
          209,
          209,
          208,
          207,
          207,
          207,
          207,
          207,
          206,
          206,
          206,
          206,
          206,
          206,
          206,
          206,
          206,
          206,
          206,
          206,
          205,
          205,
          205,
          205,
          205,
          205,
          205,
          205,
          205,
          205,
          205,
          204,
          204,
          204,
          204,
          204,
          204,
          204,
          204,
          204,
          204,
          204,
          204,
          204,
          204,
          204,
          204,
          204,
          204,
          204,
          204,
          204,
          204,
          204,
          204,
          204,
          204,
          204,
          204,
          204,
          204,
          204,
          204,
          204,
          204,
          204,
          204
         ],
         "yaxis": "y2"
        }
       ],
       "layout": {
        "annotations": [
         {
          "font": {
           "size": 16
          },
          "showarrow": false,
          "text": "Min Rank",
          "x": 0.225,
          "xanchor": "center",
          "xref": "paper",
          "y": 1,
          "yanchor": "bottom",
          "yref": "paper"
         },
         {
          "font": {
           "size": 16
          },
          "showarrow": false,
          "text": "Median Rank",
          "x": 0.775,
          "xanchor": "center",
          "xref": "paper",
          "y": 1,
          "yanchor": "bottom",
          "yref": "paper"
         }
        ],
        "shapes": [
         {
          "line": {
           "color": "black",
           "dash": "dash",
           "width": 2
          },
          "type": "line",
          "x0": 10,
          "x1": 10,
          "xref": "x",
          "y0": 0,
          "y1": 1,
          "yref": "y domain"
         },
         {
          "line": {
           "color": "black",
           "dash": "dash",
           "width": 2
          },
          "type": "line",
          "x0": 10,
          "x1": 10,
          "xref": "x2",
          "y0": 0,
          "y1": 1,
          "yref": "y2 domain"
         }
        ],
        "template": {
         "data": {
          "bar": [
           {
            "error_x": {
             "color": "#2a3f5f"
            },
            "error_y": {
             "color": "#2a3f5f"
            },
            "marker": {
             "line": {
              "color": "#E5ECF6",
              "width": 0.5
             },
             "pattern": {
              "fillmode": "overlay",
              "size": 10,
              "solidity": 0.2
             }
            },
            "type": "bar"
           }
          ],
          "barpolar": [
           {
            "marker": {
             "line": {
              "color": "#E5ECF6",
              "width": 0.5
             },
             "pattern": {
              "fillmode": "overlay",
              "size": 10,
              "solidity": 0.2
             }
            },
            "type": "barpolar"
           }
          ],
          "carpet": [
           {
            "aaxis": {
             "endlinecolor": "#2a3f5f",
             "gridcolor": "white",
             "linecolor": "white",
             "minorgridcolor": "white",
             "startlinecolor": "#2a3f5f"
            },
            "baxis": {
             "endlinecolor": "#2a3f5f",
             "gridcolor": "white",
             "linecolor": "white",
             "minorgridcolor": "white",
             "startlinecolor": "#2a3f5f"
            },
            "type": "carpet"
           }
          ],
          "choropleth": [
           {
            "colorbar": {
             "outlinewidth": 0,
             "ticks": ""
            },
            "type": "choropleth"
           }
          ],
          "contour": [
           {
            "colorbar": {
             "outlinewidth": 0,
             "ticks": ""
            },
            "colorscale": [
             [
              0,
              "#0d0887"
             ],
             [
              0.1111111111111111,
              "#46039f"
             ],
             [
              0.2222222222222222,
              "#7201a8"
             ],
             [
              0.3333333333333333,
              "#9c179e"
             ],
             [
              0.4444444444444444,
              "#bd3786"
             ],
             [
              0.5555555555555556,
              "#d8576b"
             ],
             [
              0.6666666666666666,
              "#ed7953"
             ],
             [
              0.7777777777777778,
              "#fb9f3a"
             ],
             [
              0.8888888888888888,
              "#fdca26"
             ],
             [
              1,
              "#f0f921"
             ]
            ],
            "type": "contour"
           }
          ],
          "contourcarpet": [
           {
            "colorbar": {
             "outlinewidth": 0,
             "ticks": ""
            },
            "type": "contourcarpet"
           }
          ],
          "heatmap": [
           {
            "colorbar": {
             "outlinewidth": 0,
             "ticks": ""
            },
            "colorscale": [
             [
              0,
              "#0d0887"
             ],
             [
              0.1111111111111111,
              "#46039f"
             ],
             [
              0.2222222222222222,
              "#7201a8"
             ],
             [
              0.3333333333333333,
              "#9c179e"
             ],
             [
              0.4444444444444444,
              "#bd3786"
             ],
             [
              0.5555555555555556,
              "#d8576b"
             ],
             [
              0.6666666666666666,
              "#ed7953"
             ],
             [
              0.7777777777777778,
              "#fb9f3a"
             ],
             [
              0.8888888888888888,
              "#fdca26"
             ],
             [
              1,
              "#f0f921"
             ]
            ],
            "type": "heatmap"
           }
          ],
          "histogram": [
           {
            "marker": {
             "pattern": {
              "fillmode": "overlay",
              "size": 10,
              "solidity": 0.2
             }
            },
            "type": "histogram"
           }
          ],
          "histogram2d": [
           {
            "colorbar": {
             "outlinewidth": 0,
             "ticks": ""
            },
            "colorscale": [
             [
              0,
              "#0d0887"
             ],
             [
              0.1111111111111111,
              "#46039f"
             ],
             [
              0.2222222222222222,
              "#7201a8"
             ],
             [
              0.3333333333333333,
              "#9c179e"
             ],
             [
              0.4444444444444444,
              "#bd3786"
             ],
             [
              0.5555555555555556,
              "#d8576b"
             ],
             [
              0.6666666666666666,
              "#ed7953"
             ],
             [
              0.7777777777777778,
              "#fb9f3a"
             ],
             [
              0.8888888888888888,
              "#fdca26"
             ],
             [
              1,
              "#f0f921"
             ]
            ],
            "type": "histogram2d"
           }
          ],
          "histogram2dcontour": [
           {
            "colorbar": {
             "outlinewidth": 0,
             "ticks": ""
            },
            "colorscale": [
             [
              0,
              "#0d0887"
             ],
             [
              0.1111111111111111,
              "#46039f"
             ],
             [
              0.2222222222222222,
              "#7201a8"
             ],
             [
              0.3333333333333333,
              "#9c179e"
             ],
             [
              0.4444444444444444,
              "#bd3786"
             ],
             [
              0.5555555555555556,
              "#d8576b"
             ],
             [
              0.6666666666666666,
              "#ed7953"
             ],
             [
              0.7777777777777778,
              "#fb9f3a"
             ],
             [
              0.8888888888888888,
              "#fdca26"
             ],
             [
              1,
              "#f0f921"
             ]
            ],
            "type": "histogram2dcontour"
           }
          ],
          "mesh3d": [
           {
            "colorbar": {
             "outlinewidth": 0,
             "ticks": ""
            },
            "type": "mesh3d"
           }
          ],
          "parcoords": [
           {
            "line": {
             "colorbar": {
              "outlinewidth": 0,
              "ticks": ""
             }
            },
            "type": "parcoords"
           }
          ],
          "pie": [
           {
            "automargin": true,
            "type": "pie"
           }
          ],
          "scatter": [
           {
            "fillpattern": {
             "fillmode": "overlay",
             "size": 10,
             "solidity": 0.2
            },
            "type": "scatter"
           }
          ],
          "scatter3d": [
           {
            "line": {
             "colorbar": {
              "outlinewidth": 0,
              "ticks": ""
             }
            },
            "marker": {
             "colorbar": {
              "outlinewidth": 0,
              "ticks": ""
             }
            },
            "type": "scatter3d"
           }
          ],
          "scattercarpet": [
           {
            "marker": {
             "colorbar": {
              "outlinewidth": 0,
              "ticks": ""
             }
            },
            "type": "scattercarpet"
           }
          ],
          "scattergeo": [
           {
            "marker": {
             "colorbar": {
              "outlinewidth": 0,
              "ticks": ""
             }
            },
            "type": "scattergeo"
           }
          ],
          "scattergl": [
           {
            "marker": {
             "colorbar": {
              "outlinewidth": 0,
              "ticks": ""
             }
            },
            "type": "scattergl"
           }
          ],
          "scattermap": [
           {
            "marker": {
             "colorbar": {
              "outlinewidth": 0,
              "ticks": ""
             }
            },
            "type": "scattermap"
           }
          ],
          "scattermapbox": [
           {
            "marker": {
             "colorbar": {
              "outlinewidth": 0,
              "ticks": ""
             }
            },
            "type": "scattermapbox"
           }
          ],
          "scatterpolar": [
           {
            "marker": {
             "colorbar": {
              "outlinewidth": 0,
              "ticks": ""
             }
            },
            "type": "scatterpolar"
           }
          ],
          "scatterpolargl": [
           {
            "marker": {
             "colorbar": {
              "outlinewidth": 0,
              "ticks": ""
             }
            },
            "type": "scatterpolargl"
           }
          ],
          "scatterternary": [
           {
            "marker": {
             "colorbar": {
              "outlinewidth": 0,
              "ticks": ""
             }
            },
            "type": "scatterternary"
           }
          ],
          "surface": [
           {
            "colorbar": {
             "outlinewidth": 0,
             "ticks": ""
            },
            "colorscale": [
             [
              0,
              "#0d0887"
             ],
             [
              0.1111111111111111,
              "#46039f"
             ],
             [
              0.2222222222222222,
              "#7201a8"
             ],
             [
              0.3333333333333333,
              "#9c179e"
             ],
             [
              0.4444444444444444,
              "#bd3786"
             ],
             [
              0.5555555555555556,
              "#d8576b"
             ],
             [
              0.6666666666666666,
              "#ed7953"
             ],
             [
              0.7777777777777778,
              "#fb9f3a"
             ],
             [
              0.8888888888888888,
              "#fdca26"
             ],
             [
              1,
              "#f0f921"
             ]
            ],
            "type": "surface"
           }
          ],
          "table": [
           {
            "cells": {
             "fill": {
              "color": "#EBF0F8"
             },
             "line": {
              "color": "white"
             }
            },
            "header": {
             "fill": {
              "color": "#C8D4E3"
             },
             "line": {
              "color": "white"
             }
            },
            "type": "table"
           }
          ]
         },
         "layout": {
          "annotationdefaults": {
           "arrowcolor": "#2a3f5f",
           "arrowhead": 0,
           "arrowwidth": 1
          },
          "autotypenumbers": "strict",
          "coloraxis": {
           "colorbar": {
            "outlinewidth": 0,
            "ticks": ""
           }
          },
          "colorscale": {
           "diverging": [
            [
             0,
             "#8e0152"
            ],
            [
             0.1,
             "#c51b7d"
            ],
            [
             0.2,
             "#de77ae"
            ],
            [
             0.3,
             "#f1b6da"
            ],
            [
             0.4,
             "#fde0ef"
            ],
            [
             0.5,
             "#f7f7f7"
            ],
            [
             0.6,
             "#e6f5d0"
            ],
            [
             0.7,
             "#b8e186"
            ],
            [
             0.8,
             "#7fbc41"
            ],
            [
             0.9,
             "#4d9221"
            ],
            [
             1,
             "#276419"
            ]
           ],
           "sequential": [
            [
             0,
             "#0d0887"
            ],
            [
             0.1111111111111111,
             "#46039f"
            ],
            [
             0.2222222222222222,
             "#7201a8"
            ],
            [
             0.3333333333333333,
             "#9c179e"
            ],
            [
             0.4444444444444444,
             "#bd3786"
            ],
            [
             0.5555555555555556,
             "#d8576b"
            ],
            [
             0.6666666666666666,
             "#ed7953"
            ],
            [
             0.7777777777777778,
             "#fb9f3a"
            ],
            [
             0.8888888888888888,
             "#fdca26"
            ],
            [
             1,
             "#f0f921"
            ]
           ],
           "sequentialminus": [
            [
             0,
             "#0d0887"
            ],
            [
             0.1111111111111111,
             "#46039f"
            ],
            [
             0.2222222222222222,
             "#7201a8"
            ],
            [
             0.3333333333333333,
             "#9c179e"
            ],
            [
             0.4444444444444444,
             "#bd3786"
            ],
            [
             0.5555555555555556,
             "#d8576b"
            ],
            [
             0.6666666666666666,
             "#ed7953"
            ],
            [
             0.7777777777777778,
             "#fb9f3a"
            ],
            [
             0.8888888888888888,
             "#fdca26"
            ],
            [
             1,
             "#f0f921"
            ]
           ]
          },
          "colorway": [
           "#636efa",
           "#EF553B",
           "#00cc96",
           "#ab63fa",
           "#FFA15A",
           "#19d3f3",
           "#FF6692",
           "#B6E880",
           "#FF97FF",
           "#FECB52"
          ],
          "font": {
           "color": "#2a3f5f"
          },
          "geo": {
           "bgcolor": "white",
           "lakecolor": "white",
           "landcolor": "#E5ECF6",
           "showlakes": true,
           "showland": true,
           "subunitcolor": "white"
          },
          "hoverlabel": {
           "align": "left"
          },
          "hovermode": "closest",
          "mapbox": {
           "style": "light"
          },
          "paper_bgcolor": "white",
          "plot_bgcolor": "#E5ECF6",
          "polar": {
           "angularaxis": {
            "gridcolor": "white",
            "linecolor": "white",
            "ticks": ""
           },
           "bgcolor": "#E5ECF6",
           "radialaxis": {
            "gridcolor": "white",
            "linecolor": "white",
            "ticks": ""
           }
          },
          "scene": {
           "xaxis": {
            "backgroundcolor": "#E5ECF6",
            "gridcolor": "white",
            "gridwidth": 2,
            "linecolor": "white",
            "showbackground": true,
            "ticks": "",
            "zerolinecolor": "white"
           },
           "yaxis": {
            "backgroundcolor": "#E5ECF6",
            "gridcolor": "white",
            "gridwidth": 2,
            "linecolor": "white",
            "showbackground": true,
            "ticks": "",
            "zerolinecolor": "white"
           },
           "zaxis": {
            "backgroundcolor": "#E5ECF6",
            "gridcolor": "white",
            "gridwidth": 2,
            "linecolor": "white",
            "showbackground": true,
            "ticks": "",
            "zerolinecolor": "white"
           }
          },
          "shapedefaults": {
           "line": {
            "color": "#2a3f5f"
           }
          },
          "ternary": {
           "aaxis": {
            "gridcolor": "white",
            "linecolor": "white",
            "ticks": ""
           },
           "baxis": {
            "gridcolor": "white",
            "linecolor": "white",
            "ticks": ""
           },
           "bgcolor": "#E5ECF6",
           "caxis": {
            "gridcolor": "white",
            "linecolor": "white",
            "ticks": ""
           }
          },
          "title": {
           "x": 0.05
          },
          "xaxis": {
           "automargin": true,
           "gridcolor": "white",
           "linecolor": "white",
           "ticks": "",
           "title": {
            "standoff": 15
           },
           "zerolinecolor": "white",
           "zerolinewidth": 2
          },
          "yaxis": {
           "automargin": true,
           "gridcolor": "white",
           "linecolor": "white",
           "ticks": "",
           "title": {
            "standoff": 15
           },
           "zerolinecolor": "white",
           "zerolinewidth": 2
          }
         }
        },
        "title": {
         "text": "Allele Frequency Weight: Gene Rank Distributions"
        },
        "xaxis": {
         "anchor": "y",
         "domain": [
          0,
          0.45
         ]
        },
        "xaxis2": {
         "anchor": "y2",
         "domain": [
          0.55,
          1
         ]
        },
        "yaxis": {
         "anchor": "x",
         "domain": [
          0,
          1
         ],
         "range": [
          0,
          450
         ]
        },
        "yaxis2": {
         "anchor": "x2",
         "domain": [
          0,
          1
         ],
         "range": [
          0,
          450
         ]
        }
       }
      }
     },
     "metadata": {},
     "output_type": "display_data"
    },
    {
     "data": {
      "application/vnd.jupyter.widget-view+json": {
       "model_id": "2ee47dc524e84740a31e959bd39ae12e",
       "version_major": 2,
       "version_minor": 0
      },
      "text/plain": [
       "CGC Weight: TERT 1295228:   0%|          | 0/100 [00:00<?, ?it/s]"
      ]
     },
     "metadata": {},
     "output_type": "display_data"
    },
    {
     "data": {
      "application/vnd.jupyter.widget-view+json": {
       "model_id": "fe95f0af3e8e490b91ed261074bc853b",
       "version_major": 2,
       "version_minor": 0
      },
      "text/plain": [
       "CGC Weight: TERT 1295250:   0%|          | 0/100 [00:00<?, ?it/s]"
      ]
     },
     "metadata": {},
     "output_type": "display_data"
    },
    {
     "data": {
      "application/vnd.jupyter.widget-view+json": {
       "model_id": "330b82263826483d81d70ba54d6f07cc",
       "version_major": 2,
       "version_minor": 0
      },
      "text/plain": [
       "CGC Weight: RALY 32580927:   0%|          | 0/100 [00:00<?, ?it/s]"
      ]
     },
     "metadata": {},
     "output_type": "display_data"
    },
    {
     "data": {
      "application/vnd.jupyter.widget-view+json": {
       "model_id": "aec199b14fdc433593c7f6e6c6ed3259",
       "version_major": 2,
       "version_minor": 0
      },
      "text/plain": [
       "CGC Weight: CDC20 43824529:   0%|          | 0/100 [00:00<?, ?it/s]"
      ]
     },
     "metadata": {},
     "output_type": "display_data"
    },
    {
     "data": {
      "application/vnd.plotly.v1+json": {
       "config": {
        "plotlyServerURL": "https://plot.ly"
       },
       "data": [
        {
         "marker": {
          "color": "red",
          "size": 10
         },
         "mode": "lines",
         "name": "TERT 1295228",
         "type": "scatter",
         "x": {
          "bdata": "AAAAAAAA8D9BrV8pUOv3P4Jav1Kg1v8/4YMPPvjgA0CCWr9SoNYHQCIxb2dIzAtAwgcffPDBD0Ayb2dIzNsRQIJav1Kg1hNA0kUXXXTRFUAiMW9nSMwXQHIcx3EcxxlAwgcffPDBG0AS83aGxLwdQGPezpCYtx9A2mSTTTbZIECCWr9SoNYhQCpQ61cK1CJA0kUXXXTRI0B6O0Ni3s4kQCIxb2dIzCVAyiabbLLJJkByHMdxHMcnQBoS83aGxChAwgcffPDBKUBq/UqBWr8qQBLzdobEvCtAu+iiiy66LEBj3s6QmLctQAvU+pUCtS5As8kmm2yyL0CuXylQ61cwQIJav1Kg1jBAVlVVVVVVMUAqUOtXCtQxQP5KgVq/UjJA0kUXXXTRMkCmQK1fKVAzQHo7Q2LezjNATjbZZJNNNEAiMW9nSMw0QPYrBWr9SjVAyiabbLLJNUCeITFvZ0g2QHIcx3EcxzZARhdddNFFN0AaEvN2hsQ3QO4MiXk7QzhAwgcffPDBOECWArV+pUA5QGr9SoFavzlAPvjggw8+OkAS83aGxLw6QObtDIl5OztAu+iiiy66O0CP4ziO4zg8QGPezpCYtzxAN9lkk002PUAL1PqVArU9QN/OkJi3Mz5As8kmm2yyPkCHxLydITE/QFu/UqDWrz9AGF100UUXQECCWr9SoFZAQOxXCtT6lUBAVlVVVVXVQEDAUqDWrxRBQCpQ61cKVEFAlE022WSTQUD+SoFav9JBQGhIzNsZEkJA0kUXXXRRQkA8Q2LezpBCQKZArV8p0EJAED744IMPQ0B6O0Ni3k5DQOQ4juM4jkNATjbZZJPNQ0C4MyTm7QxEQCIxb2dITERAjC666KKLRED2KwVq/cpEQGApUOtXCkVAyiabbLJJRUA0JObtDIlFQJ4hMW9nyEVACB988MEHRkByHMdxHEdGQNwZEvN2hkZARhdddNHFRkCwFKj1KwVHQBoS83aGREdAhA8++OCDR0DuDIl5O8NHQFgK1PqVAkhAwgcffPBBSEAsBWr9SoFIQJYCtX6lwEhAAAAAAAAASUA=",
          "dtype": "f8"
         },
         "xaxis": "x",
         "y": [
          329,
          304.5,
          290,
          269.5,
          248,
          230.5,
          220,
          199.5,
          177,
          167,
          158,
          149,
          141,
          132.5,
          124.5,
          116,
          107,
          101,
          96.5,
          91,
          76.5,
          75,
          72,
          69.5,
          66,
          63,
          62,
          59,
          52.5,
          51,
          50.5,
          49.5,
          47,
          46.5,
          46.5,
          46.5,
          46,
          45,
          44.5,
          44.5,
          43,
          42.5,
          42.5,
          42.5,
          42.5,
          42.5,
          41.5,
          41.5,
          41.5,
          41.5,
          41.5,
          41.5,
          41.5,
          41.5,
          41.5,
          41.5,
          41.5,
          41.5,
          41.5,
          41.5,
          41.5,
          41.5,
          41.5,
          40.5,
          40.5,
          40.5,
          40.5,
          40.5,
          40.5,
          40.5,
          40.5,
          40.5,
          40.5,
          39.5,
          38.5,
          38.5,
          38.5,
          38.5,
          38.5,
          38.5,
          38.5,
          38.5,
          38.5,
          38.5,
          38.5,
          38.5,
          38.5,
          38.5,
          38.5,
          38.5,
          38.5,
          38.5,
          38.5,
          38.5,
          38.5,
          38.5,
          38.5,
          38.5,
          38.5,
          38.5
         ],
         "yaxis": "y"
        },
        {
         "marker": {
          "color": "red",
          "size": 10
         },
         "mode": "lines",
         "name": "TERT 1295228",
         "showlegend": false,
         "type": "scatter",
         "x": {
          "bdata": "AAAAAAAA8D9BrV8pUOv3P4Jav1Kg1v8/4YMPPvjgA0CCWr9SoNYHQCIxb2dIzAtAwgcffPDBD0Ayb2dIzNsRQIJav1Kg1hNA0kUXXXTRFUAiMW9nSMwXQHIcx3EcxxlAwgcffPDBG0AS83aGxLwdQGPezpCYtx9A2mSTTTbZIECCWr9SoNYhQCpQ61cK1CJA0kUXXXTRI0B6O0Ni3s4kQCIxb2dIzCVAyiabbLLJJkByHMdxHMcnQBoS83aGxChAwgcffPDBKUBq/UqBWr8qQBLzdobEvCtAu+iiiy66LEBj3s6QmLctQAvU+pUCtS5As8kmm2yyL0CuXylQ61cwQIJav1Kg1jBAVlVVVVVVMUAqUOtXCtQxQP5KgVq/UjJA0kUXXXTRMkCmQK1fKVAzQHo7Q2LezjNATjbZZJNNNEAiMW9nSMw0QPYrBWr9SjVAyiabbLLJNUCeITFvZ0g2QHIcx3EcxzZARhdddNFFN0AaEvN2hsQ3QO4MiXk7QzhAwgcffPDBOECWArV+pUA5QGr9SoFavzlAPvjggw8+OkAS83aGxLw6QObtDIl5OztAu+iiiy66O0CP4ziO4zg8QGPezpCYtzxAN9lkk002PUAL1PqVArU9QN/OkJi3Mz5As8kmm2yyPkCHxLydITE/QFu/UqDWrz9AGF100UUXQECCWr9SoFZAQOxXCtT6lUBAVlVVVVXVQEDAUqDWrxRBQCpQ61cKVEFAlE022WSTQUD+SoFav9JBQGhIzNsZEkJA0kUXXXRRQkA8Q2LezpBCQKZArV8p0EJAED744IMPQ0B6O0Ni3k5DQOQ4juM4jkNATjbZZJPNQ0C4MyTm7QxEQCIxb2dITERAjC666KKLRED2KwVq/cpEQGApUOtXCkVAyiabbLJJRUA0JObtDIlFQJ4hMW9nyEVACB988MEHRkByHMdxHEdGQNwZEvN2hkZARhdddNHFRkCwFKj1KwVHQBoS83aGREdAhA8++OCDR0DuDIl5O8NHQFgK1PqVAkhAwgcffPBBSEAsBWr9SoFIQJYCtX6lwEhAAAAAAAAASUA=",
          "dtype": "f8"
         },
         "xaxis": "x2",
         "y": [
          12,
          10,
          8,
          8,
          8,
          8,
          7,
          6,
          6,
          6,
          4,
          4,
          4,
          4,
          4,
          3,
          3,
          3,
          3,
          3,
          3,
          3,
          3,
          3,
          3,
          3,
          3,
          3,
          3,
          3,
          3,
          3,
          2,
          2,
          2,
          2,
          2,
          2,
          2,
          2,
          2,
          2,
          2,
          0,
          0,
          0,
          0,
          0,
          0,
          0,
          0,
          0,
          0,
          0,
          0,
          0,
          0,
          0,
          0,
          0,
          0,
          0,
          0,
          0,
          0,
          0,
          0,
          0,
          0,
          0,
          0,
          0,
          0,
          0,
          0,
          0,
          0,
          0,
          0,
          0,
          0,
          0,
          0,
          0,
          0,
          0,
          0,
          0,
          0,
          0,
          0,
          0,
          0,
          0,
          0,
          0,
          0,
          0,
          0,
          0
         ],
         "yaxis": "y2"
        },
        {
         "marker": {
          "color": "blue",
          "size": 10
         },
         "mode": "lines",
         "name": "TERT 1295250",
         "type": "scatter",
         "x": {
          "bdata": "AAAAAAAA8D9BrV8pUOv3P4Jav1Kg1v8/4YMPPvjgA0CCWr9SoNYHQCIxb2dIzAtAwgcffPDBD0Ayb2dIzNsRQIJav1Kg1hNA0kUXXXTRFUAiMW9nSMwXQHIcx3EcxxlAwgcffPDBG0AS83aGxLwdQGPezpCYtx9A2mSTTTbZIECCWr9SoNYhQCpQ61cK1CJA0kUXXXTRI0B6O0Ni3s4kQCIxb2dIzCVAyiabbLLJJkByHMdxHMcnQBoS83aGxChAwgcffPDBKUBq/UqBWr8qQBLzdobEvCtAu+iiiy66LEBj3s6QmLctQAvU+pUCtS5As8kmm2yyL0CuXylQ61cwQIJav1Kg1jBAVlVVVVVVMUAqUOtXCtQxQP5KgVq/UjJA0kUXXXTRMkCmQK1fKVAzQHo7Q2LezjNATjbZZJNNNEAiMW9nSMw0QPYrBWr9SjVAyiabbLLJNUCeITFvZ0g2QHIcx3EcxzZARhdddNFFN0AaEvN2hsQ3QO4MiXk7QzhAwgcffPDBOECWArV+pUA5QGr9SoFavzlAPvjggw8+OkAS83aGxLw6QObtDIl5OztAu+iiiy66O0CP4ziO4zg8QGPezpCYtzxAN9lkk002PUAL1PqVArU9QN/OkJi3Mz5As8kmm2yyPkCHxLydITE/QFu/UqDWrz9AGF100UUXQECCWr9SoFZAQOxXCtT6lUBAVlVVVVXVQEDAUqDWrxRBQCpQ61cKVEFAlE022WSTQUD+SoFav9JBQGhIzNsZEkJA0kUXXXRRQkA8Q2LezpBCQKZArV8p0EJAED744IMPQ0B6O0Ni3k5DQOQ4juM4jkNATjbZZJPNQ0C4MyTm7QxEQCIxb2dITERAjC666KKLRED2KwVq/cpEQGApUOtXCkVAyiabbLJJRUA0JObtDIlFQJ4hMW9nyEVACB988MEHRkByHMdxHEdGQNwZEvN2hkZARhdddNHFRkCwFKj1KwVHQBoS83aGREdAhA8++OCDR0DuDIl5O8NHQFgK1PqVAkhAwgcffPBBSEAsBWr9SoFIQJYCtX6lwEhAAAAAAAAASUA=",
          "dtype": "f8"
         },
         "xaxis": "x",
         "y": [
          328,
          305,
          289,
          273,
          249,
          231,
          222,
          202,
          178,
          168,
          160,
          150,
          141,
          133,
          126,
          117,
          107,
          103,
          96,
          92,
          77,
          75,
          72,
          70,
          66,
          63,
          62,
          59,
          53,
          52,
          51,
          50,
          47,
          47,
          47,
          47,
          47,
          45,
          45,
          45,
          43,
          43,
          43,
          43,
          43,
          43,
          42,
          42,
          42,
          42,
          42,
          42,
          42,
          42,
          42,
          42,
          42,
          42,
          42,
          42,
          42,
          42,
          42,
          41,
          41,
          41,
          41,
          41,
          41,
          41,
          41,
          41,
          41,
          40,
          39,
          39,
          39,
          39,
          39,
          39,
          39,
          39,
          39,
          39,
          39,
          39,
          39,
          39,
          39,
          39,
          39,
          39,
          39,
          39,
          39,
          39,
          39,
          39,
          39,
          39
         ],
         "yaxis": "y"
        },
        {
         "marker": {
          "color": "blue",
          "size": 10
         },
         "mode": "lines",
         "name": "TERT 1295250",
         "showlegend": false,
         "type": "scatter",
         "x": {
          "bdata": "AAAAAAAA8D9BrV8pUOv3P4Jav1Kg1v8/4YMPPvjgA0CCWr9SoNYHQCIxb2dIzAtAwgcffPDBD0Ayb2dIzNsRQIJav1Kg1hNA0kUXXXTRFUAiMW9nSMwXQHIcx3EcxxlAwgcffPDBG0AS83aGxLwdQGPezpCYtx9A2mSTTTbZIECCWr9SoNYhQCpQ61cK1CJA0kUXXXTRI0B6O0Ni3s4kQCIxb2dIzCVAyiabbLLJJkByHMdxHMcnQBoS83aGxChAwgcffPDBKUBq/UqBWr8qQBLzdobEvCtAu+iiiy66LEBj3s6QmLctQAvU+pUCtS5As8kmm2yyL0CuXylQ61cwQIJav1Kg1jBAVlVVVVVVMUAqUOtXCtQxQP5KgVq/UjJA0kUXXXTRMkCmQK1fKVAzQHo7Q2LezjNATjbZZJNNNEAiMW9nSMw0QPYrBWr9SjVAyiabbLLJNUCeITFvZ0g2QHIcx3EcxzZARhdddNFFN0AaEvN2hsQ3QO4MiXk7QzhAwgcffPDBOECWArV+pUA5QGr9SoFavzlAPvjggw8+OkAS83aGxLw6QObtDIl5OztAu+iiiy66O0CP4ziO4zg8QGPezpCYtzxAN9lkk002PUAL1PqVArU9QN/OkJi3Mz5As8kmm2yyPkCHxLydITE/QFu/UqDWrz9AGF100UUXQECCWr9SoFZAQOxXCtT6lUBAVlVVVVXVQEDAUqDWrxRBQCpQ61cKVEFAlE022WSTQUD+SoFav9JBQGhIzNsZEkJA0kUXXXRRQkA8Q2LezpBCQKZArV8p0EJAED744IMPQ0B6O0Ni3k5DQOQ4juM4jkNATjbZZJPNQ0C4MyTm7QxEQCIxb2dITERAjC666KKLRED2KwVq/cpEQGApUOtXCkVAyiabbLJJRUA0JObtDIlFQJ4hMW9nyEVACB988MEHRkByHMdxHEdGQNwZEvN2hkZARhdddNHFRkCwFKj1KwVHQBoS83aGREdAhA8++OCDR0DuDIl5O8NHQFgK1PqVAkhAwgcffPBBSEAsBWr9SoFIQJYCtX6lwEhAAAAAAAAASUA=",
          "dtype": "f8"
         },
         "xaxis": "x2",
         "y": [
          213,
          202,
          183,
          160,
          150,
          140,
          132,
          122,
          114,
          108,
          98,
          89,
          84,
          77,
          74,
          59,
          57,
          54,
          52,
          48,
          45,
          44,
          41,
          35,
          34,
          33,
          32,
          29,
          29,
          29,
          29,
          29,
          27,
          27,
          27,
          25,
          25,
          25,
          25,
          25,
          25,
          24,
          24,
          24,
          24,
          24,
          24,
          24,
          24,
          24,
          24,
          24,
          24,
          24,
          24,
          24,
          24,
          24,
          23,
          23,
          23,
          23,
          23,
          23,
          23,
          23,
          23,
          23,
          22,
          21,
          21,
          21,
          21,
          21,
          21,
          21,
          21,
          21,
          21,
          21,
          21,
          21,
          21,
          21,
          21,
          21,
          21,
          21,
          21,
          21,
          21,
          21,
          21,
          21,
          21,
          21,
          21,
          21,
          21,
          21
         ],
         "yaxis": "y2"
        },
        {
         "marker": {
          "color": "green",
          "size": 10
         },
         "mode": "lines",
         "name": "RALY 32580927",
         "type": "scatter",
         "x": {
          "bdata": "AAAAAAAA8D9BrV8pUOv3P4Jav1Kg1v8/4YMPPvjgA0CCWr9SoNYHQCIxb2dIzAtAwgcffPDBD0Ayb2dIzNsRQIJav1Kg1hNA0kUXXXTRFUAiMW9nSMwXQHIcx3EcxxlAwgcffPDBG0AS83aGxLwdQGPezpCYtx9A2mSTTTbZIECCWr9SoNYhQCpQ61cK1CJA0kUXXXTRI0B6O0Ni3s4kQCIxb2dIzCVAyiabbLLJJkByHMdxHMcnQBoS83aGxChAwgcffPDBKUBq/UqBWr8qQBLzdobEvCtAu+iiiy66LEBj3s6QmLctQAvU+pUCtS5As8kmm2yyL0CuXylQ61cwQIJav1Kg1jBAVlVVVVVVMUAqUOtXCtQxQP5KgVq/UjJA0kUXXXTRMkCmQK1fKVAzQHo7Q2LezjNATjbZZJNNNEAiMW9nSMw0QPYrBWr9SjVAyiabbLLJNUCeITFvZ0g2QHIcx3EcxzZARhdddNFFN0AaEvN2hsQ3QO4MiXk7QzhAwgcffPDBOECWArV+pUA5QGr9SoFavzlAPvjggw8+OkAS83aGxLw6QObtDIl5OztAu+iiiy66O0CP4ziO4zg8QGPezpCYtzxAN9lkk002PUAL1PqVArU9QN/OkJi3Mz5As8kmm2yyPkCHxLydITE/QFu/UqDWrz9AGF100UUXQECCWr9SoFZAQOxXCtT6lUBAVlVVVVXVQEDAUqDWrxRBQCpQ61cKVEFAlE022WSTQUD+SoFav9JBQGhIzNsZEkJA0kUXXXRRQkA8Q2LezpBCQKZArV8p0EJAED744IMPQ0B6O0Ni3k5DQOQ4juM4jkNATjbZZJPNQ0C4MyTm7QxEQCIxb2dITERAjC666KKLRED2KwVq/cpEQGApUOtXCkVAyiabbLJJRUA0JObtDIlFQJ4hMW9nyEVACB988MEHRkByHMdxHEdGQNwZEvN2hkZARhdddNHFRkCwFKj1KwVHQBoS83aGREdAhA8++OCDR0DuDIl5O8NHQFgK1PqVAkhAwgcffPBBSEAsBWr9SoFIQJYCtX6lwEhAAAAAAAAASUA=",
          "dtype": "f8"
         },
         "xaxis": "x",
         "y": [
          101,
          102,
          103.5,
          106,
          108.5,
          110.5,
          113,
          114.5,
          117.5,
          120.5,
          123.5,
          125,
          126.5,
          127.5,
          130.5,
          133,
          134,
          136.5,
          140,
          141,
          145,
          148.5,
          152,
          155,
          159.5,
          166,
          171.5,
          176.5,
          184,
          189,
          195.5,
          201,
          207,
          211,
          215.5,
          222,
          228,
          232,
          236,
          244,
          253,
          257,
          265,
          273.5,
          278.5,
          289.5,
          298,
          303,
          307,
          311.5,
          313.5,
          317.5,
          320,
          325,
          328.5,
          330,
          336,
          340,
          346.5,
          348,
          354.5,
          357,
          362,
          368,
          369.5,
          369.5,
          369.5,
          369.5,
          369.5,
          369.5,
          369.5,
          369.5,
          369.5,
          369.5,
          369.5,
          369.5,
          369.5,
          369.5,
          369.5,
          369.5,
          369.5,
          369.5,
          369.5,
          369.5,
          369.5,
          369.5,
          369.5,
          369.5,
          369.5,
          369.5,
          369.5,
          369.5,
          369.5,
          369.5,
          369.5,
          369.5,
          369.5,
          369.5,
          369.5,
          369.5
         ],
         "yaxis": "y"
        },
        {
         "marker": {
          "color": "green",
          "size": 10
         },
         "mode": "lines",
         "name": "RALY 32580927",
         "showlegend": false,
         "type": "scatter",
         "x": {
          "bdata": "AAAAAAAA8D9BrV8pUOv3P4Jav1Kg1v8/4YMPPvjgA0CCWr9SoNYHQCIxb2dIzAtAwgcffPDBD0Ayb2dIzNsRQIJav1Kg1hNA0kUXXXTRFUAiMW9nSMwXQHIcx3EcxxlAwgcffPDBG0AS83aGxLwdQGPezpCYtx9A2mSTTTbZIECCWr9SoNYhQCpQ61cK1CJA0kUXXXTRI0B6O0Ni3s4kQCIxb2dIzCVAyiabbLLJJkByHMdxHMcnQBoS83aGxChAwgcffPDBKUBq/UqBWr8qQBLzdobEvCtAu+iiiy66LEBj3s6QmLctQAvU+pUCtS5As8kmm2yyL0CuXylQ61cwQIJav1Kg1jBAVlVVVVVVMUAqUOtXCtQxQP5KgVq/UjJA0kUXXXTRMkCmQK1fKVAzQHo7Q2LezjNATjbZZJNNNEAiMW9nSMw0QPYrBWr9SjVAyiabbLLJNUCeITFvZ0g2QHIcx3EcxzZARhdddNFFN0AaEvN2hsQ3QO4MiXk7QzhAwgcffPDBOECWArV+pUA5QGr9SoFavzlAPvjggw8+OkAS83aGxLw6QObtDIl5OztAu+iiiy66O0CP4ziO4zg8QGPezpCYtzxAN9lkk002PUAL1PqVArU9QN/OkJi3Mz5As8kmm2yyPkCHxLydITE/QFu/UqDWrz9AGF100UUXQECCWr9SoFZAQOxXCtT6lUBAVlVVVVXVQEDAUqDWrxRBQCpQ61cKVEFAlE022WSTQUD+SoFav9JBQGhIzNsZEkJA0kUXXXRRQkA8Q2LezpBCQKZArV8p0EJAED744IMPQ0B6O0Ni3k5DQOQ4juM4jkNATjbZZJPNQ0C4MyTm7QxEQCIxb2dITERAjC666KKLRED2KwVq/cpEQGApUOtXCkVAyiabbLJJRUA0JObtDIlFQJ4hMW9nyEVACB988MEHRkByHMdxHEdGQNwZEvN2hkZARhdddNHFRkCwFKj1KwVHQBoS83aGREdAhA8++OCDR0DuDIl5O8NHQFgK1PqVAkhAwgcffPBBSEAsBWr9SoFIQJYCtX6lwEhAAAAAAAAASUA=",
          "dtype": "f8"
         },
         "xaxis": "x2",
         "y": [
          25,
          25,
          26,
          26,
          27,
          29,
          31,
          32,
          33,
          34,
          34,
          34,
          34,
          35,
          36,
          36,
          37,
          38,
          38,
          39,
          41,
          43,
          45,
          50,
          52,
          56,
          57,
          64,
          68,
          75,
          79,
          80,
          82,
          87,
          92,
          93,
          97,
          100,
          104,
          109,
          111,
          116,
          117,
          123,
          132,
          136,
          143,
          152,
          162,
          171,
          180,
          186,
          190,
          198,
          206,
          214,
          219,
          223,
          235,
          248,
          256,
          259,
          275,
          280,
          288,
          299,
          301,
          301,
          301,
          301,
          301,
          301,
          301,
          301,
          301,
          301,
          301,
          301,
          301,
          301,
          301,
          301,
          301,
          301,
          301,
          301,
          301,
          301,
          301,
          301,
          301,
          301,
          301,
          301,
          301,
          301,
          301,
          301,
          301,
          301
         ],
         "yaxis": "y2"
        },
        {
         "marker": {
          "color": "yellow",
          "size": 10
         },
         "mode": "lines",
         "name": "CDC20 43824529",
         "type": "scatter",
         "x": {
          "bdata": "AAAAAAAA8D9BrV8pUOv3P4Jav1Kg1v8/4YMPPvjgA0CCWr9SoNYHQCIxb2dIzAtAwgcffPDBD0Ayb2dIzNsRQIJav1Kg1hNA0kUXXXTRFUAiMW9nSMwXQHIcx3EcxxlAwgcffPDBG0AS83aGxLwdQGPezpCYtx9A2mSTTTbZIECCWr9SoNYhQCpQ61cK1CJA0kUXXXTRI0B6O0Ni3s4kQCIxb2dIzCVAyiabbLLJJkByHMdxHMcnQBoS83aGxChAwgcffPDBKUBq/UqBWr8qQBLzdobEvCtAu+iiiy66LEBj3s6QmLctQAvU+pUCtS5As8kmm2yyL0CuXylQ61cwQIJav1Kg1jBAVlVVVVVVMUAqUOtXCtQxQP5KgVq/UjJA0kUXXXTRMkCmQK1fKVAzQHo7Q2LezjNATjbZZJNNNEAiMW9nSMw0QPYrBWr9SjVAyiabbLLJNUCeITFvZ0g2QHIcx3EcxzZARhdddNFFN0AaEvN2hsQ3QO4MiXk7QzhAwgcffPDBOECWArV+pUA5QGr9SoFavzlAPvjggw8+OkAS83aGxLw6QObtDIl5OztAu+iiiy66O0CP4ziO4zg8QGPezpCYtzxAN9lkk002PUAL1PqVArU9QN/OkJi3Mz5As8kmm2yyPkCHxLydITE/QFu/UqDWrz9AGF100UUXQECCWr9SoFZAQOxXCtT6lUBAVlVVVVXVQEDAUqDWrxRBQCpQ61cKVEFAlE022WSTQUD+SoFav9JBQGhIzNsZEkJA0kUXXXRRQkA8Q2LezpBCQKZArV8p0EJAED744IMPQ0B6O0Ni3k5DQOQ4juM4jkNATjbZZJPNQ0C4MyTm7QxEQCIxb2dITERAjC666KKLRED2KwVq/cpEQGApUOtXCkVAyiabbLJJRUA0JObtDIlFQJ4hMW9nyEVACB988MEHRkByHMdxHEdGQNwZEvN2hkZARhdddNHFRkCwFKj1KwVHQBoS83aGREdAhA8++OCDR0DuDIl5O8NHQFgK1PqVAkhAwgcffPBBSEAsBWr9SoFIQJYCtX6lwEhAAAAAAAAASUA=",
          "dtype": "f8"
         },
         "xaxis": "x",
         "y": [
          131,
          131,
          132,
          133,
          135,
          137,
          139,
          143,
          145,
          149,
          150,
          158,
          161,
          168,
          172,
          173,
          175,
          181,
          185,
          186,
          190,
          193,
          198,
          203,
          204,
          209,
          211,
          217,
          226,
          230,
          236,
          246,
          256,
          264,
          274,
          281,
          283,
          292,
          300,
          308,
          312,
          317,
          329,
          341,
          350,
          353,
          368,
          374,
          382,
          393,
          395,
          394,
          394,
          395,
          394,
          394,
          394,
          394,
          394,
          394,
          394,
          395,
          394,
          394,
          394,
          394,
          394,
          394,
          394,
          394,
          394,
          394,
          394,
          394,
          394,
          394,
          394,
          394,
          394,
          394,
          394,
          394,
          394,
          394,
          395,
          395,
          395,
          395,
          395,
          395,
          395,
          395,
          395,
          395,
          395,
          395,
          394,
          394,
          395,
          395
         ],
         "yaxis": "y"
        },
        {
         "marker": {
          "color": "yellow",
          "size": 10
         },
         "mode": "lines",
         "name": "CDC20 43824529",
         "showlegend": false,
         "type": "scatter",
         "x": {
          "bdata": "AAAAAAAA8D9BrV8pUOv3P4Jav1Kg1v8/4YMPPvjgA0CCWr9SoNYHQCIxb2dIzAtAwgcffPDBD0Ayb2dIzNsRQIJav1Kg1hNA0kUXXXTRFUAiMW9nSMwXQHIcx3EcxxlAwgcffPDBG0AS83aGxLwdQGPezpCYtx9A2mSTTTbZIECCWr9SoNYhQCpQ61cK1CJA0kUXXXTRI0B6O0Ni3s4kQCIxb2dIzCVAyiabbLLJJkByHMdxHMcnQBoS83aGxChAwgcffPDBKUBq/UqBWr8qQBLzdobEvCtAu+iiiy66LEBj3s6QmLctQAvU+pUCtS5As8kmm2yyL0CuXylQ61cwQIJav1Kg1jBAVlVVVVVVMUAqUOtXCtQxQP5KgVq/UjJA0kUXXXTRMkCmQK1fKVAzQHo7Q2LezjNATjbZZJNNNEAiMW9nSMw0QPYrBWr9SjVAyiabbLLJNUCeITFvZ0g2QHIcx3EcxzZARhdddNFFN0AaEvN2hsQ3QO4MiXk7QzhAwgcffPDBOECWArV+pUA5QGr9SoFavzlAPvjggw8+OkAS83aGxLw6QObtDIl5OztAu+iiiy66O0CP4ziO4zg8QGPezpCYtzxAN9lkk002PUAL1PqVArU9QN/OkJi3Mz5As8kmm2yyPkCHxLydITE/QFu/UqDWrz9AGF100UUXQECCWr9SoFZAQOxXCtT6lUBAVlVVVVXVQEDAUqDWrxRBQCpQ61cKVEFAlE022WSTQUD+SoFav9JBQGhIzNsZEkJA0kUXXXRRQkA8Q2LezpBCQKZArV8p0EJAED744IMPQ0B6O0Ni3k5DQOQ4juM4jkNATjbZZJPNQ0C4MyTm7QxEQCIxb2dITERAjC666KKLRED2KwVq/cpEQGApUOtXCkVAyiabbLJJRUA0JObtDIlFQJ4hMW9nyEVACB988MEHRkByHMdxHEdGQNwZEvN2hkZARhdddNHFRkCwFKj1KwVHQBoS83aGREdAhA8++OCDR0DuDIl5O8NHQFgK1PqVAkhAwgcffPBBSEAsBWr9SoFIQJYCtX6lwEhAAAAAAAAASUA=",
          "dtype": "f8"
         },
         "xaxis": "x2",
         "y": [
          131,
          131,
          132,
          133,
          135,
          137,
          139,
          143,
          145,
          149,
          150,
          158,
          161,
          168,
          172,
          173,
          175,
          181,
          185,
          186,
          190,
          193,
          198,
          203,
          204,
          209,
          211,
          217,
          226,
          230,
          236,
          246,
          256,
          264,
          274,
          281,
          283,
          292,
          300,
          308,
          312,
          317,
          329,
          341,
          350,
          353,
          368,
          374,
          382,
          393,
          395,
          394,
          394,
          395,
          394,
          394,
          394,
          394,
          394,
          394,
          394,
          395,
          394,
          394,
          394,
          394,
          394,
          394,
          394,
          394,
          394,
          394,
          394,
          394,
          394,
          394,
          394,
          394,
          394,
          394,
          394,
          394,
          394,
          394,
          395,
          395,
          395,
          395,
          395,
          395,
          395,
          395,
          395,
          395,
          395,
          395,
          394,
          394,
          395,
          395
         ],
         "yaxis": "y2"
        }
       ],
       "layout": {
        "annotations": [
         {
          "font": {
           "size": 16
          },
          "showarrow": false,
          "text": "Min Rank",
          "x": 0.225,
          "xanchor": "center",
          "xref": "paper",
          "y": 1,
          "yanchor": "bottom",
          "yref": "paper"
         },
         {
          "font": {
           "size": 16
          },
          "showarrow": false,
          "text": "Median Rank",
          "x": 0.775,
          "xanchor": "center",
          "xref": "paper",
          "y": 1,
          "yanchor": "bottom",
          "yref": "paper"
         }
        ],
        "shapes": [
         {
          "line": {
           "color": "black",
           "dash": "dash",
           "width": 2
          },
          "type": "line",
          "x0": 15,
          "x1": 15,
          "xref": "x",
          "y0": 0,
          "y1": 1,
          "yref": "y domain"
         },
         {
          "line": {
           "color": "black",
           "dash": "dash",
           "width": 2
          },
          "type": "line",
          "x0": 15,
          "x1": 15,
          "xref": "x2",
          "y0": 0,
          "y1": 1,
          "yref": "y2 domain"
         }
        ],
        "template": {
         "data": {
          "bar": [
           {
            "error_x": {
             "color": "#2a3f5f"
            },
            "error_y": {
             "color": "#2a3f5f"
            },
            "marker": {
             "line": {
              "color": "#E5ECF6",
              "width": 0.5
             },
             "pattern": {
              "fillmode": "overlay",
              "size": 10,
              "solidity": 0.2
             }
            },
            "type": "bar"
           }
          ],
          "barpolar": [
           {
            "marker": {
             "line": {
              "color": "#E5ECF6",
              "width": 0.5
             },
             "pattern": {
              "fillmode": "overlay",
              "size": 10,
              "solidity": 0.2
             }
            },
            "type": "barpolar"
           }
          ],
          "carpet": [
           {
            "aaxis": {
             "endlinecolor": "#2a3f5f",
             "gridcolor": "white",
             "linecolor": "white",
             "minorgridcolor": "white",
             "startlinecolor": "#2a3f5f"
            },
            "baxis": {
             "endlinecolor": "#2a3f5f",
             "gridcolor": "white",
             "linecolor": "white",
             "minorgridcolor": "white",
             "startlinecolor": "#2a3f5f"
            },
            "type": "carpet"
           }
          ],
          "choropleth": [
           {
            "colorbar": {
             "outlinewidth": 0,
             "ticks": ""
            },
            "type": "choropleth"
           }
          ],
          "contour": [
           {
            "colorbar": {
             "outlinewidth": 0,
             "ticks": ""
            },
            "colorscale": [
             [
              0,
              "#0d0887"
             ],
             [
              0.1111111111111111,
              "#46039f"
             ],
             [
              0.2222222222222222,
              "#7201a8"
             ],
             [
              0.3333333333333333,
              "#9c179e"
             ],
             [
              0.4444444444444444,
              "#bd3786"
             ],
             [
              0.5555555555555556,
              "#d8576b"
             ],
             [
              0.6666666666666666,
              "#ed7953"
             ],
             [
              0.7777777777777778,
              "#fb9f3a"
             ],
             [
              0.8888888888888888,
              "#fdca26"
             ],
             [
              1,
              "#f0f921"
             ]
            ],
            "type": "contour"
           }
          ],
          "contourcarpet": [
           {
            "colorbar": {
             "outlinewidth": 0,
             "ticks": ""
            },
            "type": "contourcarpet"
           }
          ],
          "heatmap": [
           {
            "colorbar": {
             "outlinewidth": 0,
             "ticks": ""
            },
            "colorscale": [
             [
              0,
              "#0d0887"
             ],
             [
              0.1111111111111111,
              "#46039f"
             ],
             [
              0.2222222222222222,
              "#7201a8"
             ],
             [
              0.3333333333333333,
              "#9c179e"
             ],
             [
              0.4444444444444444,
              "#bd3786"
             ],
             [
              0.5555555555555556,
              "#d8576b"
             ],
             [
              0.6666666666666666,
              "#ed7953"
             ],
             [
              0.7777777777777778,
              "#fb9f3a"
             ],
             [
              0.8888888888888888,
              "#fdca26"
             ],
             [
              1,
              "#f0f921"
             ]
            ],
            "type": "heatmap"
           }
          ],
          "histogram": [
           {
            "marker": {
             "pattern": {
              "fillmode": "overlay",
              "size": 10,
              "solidity": 0.2
             }
            },
            "type": "histogram"
           }
          ],
          "histogram2d": [
           {
            "colorbar": {
             "outlinewidth": 0,
             "ticks": ""
            },
            "colorscale": [
             [
              0,
              "#0d0887"
             ],
             [
              0.1111111111111111,
              "#46039f"
             ],
             [
              0.2222222222222222,
              "#7201a8"
             ],
             [
              0.3333333333333333,
              "#9c179e"
             ],
             [
              0.4444444444444444,
              "#bd3786"
             ],
             [
              0.5555555555555556,
              "#d8576b"
             ],
             [
              0.6666666666666666,
              "#ed7953"
             ],
             [
              0.7777777777777778,
              "#fb9f3a"
             ],
             [
              0.8888888888888888,
              "#fdca26"
             ],
             [
              1,
              "#f0f921"
             ]
            ],
            "type": "histogram2d"
           }
          ],
          "histogram2dcontour": [
           {
            "colorbar": {
             "outlinewidth": 0,
             "ticks": ""
            },
            "colorscale": [
             [
              0,
              "#0d0887"
             ],
             [
              0.1111111111111111,
              "#46039f"
             ],
             [
              0.2222222222222222,
              "#7201a8"
             ],
             [
              0.3333333333333333,
              "#9c179e"
             ],
             [
              0.4444444444444444,
              "#bd3786"
             ],
             [
              0.5555555555555556,
              "#d8576b"
             ],
             [
              0.6666666666666666,
              "#ed7953"
             ],
             [
              0.7777777777777778,
              "#fb9f3a"
             ],
             [
              0.8888888888888888,
              "#fdca26"
             ],
             [
              1,
              "#f0f921"
             ]
            ],
            "type": "histogram2dcontour"
           }
          ],
          "mesh3d": [
           {
            "colorbar": {
             "outlinewidth": 0,
             "ticks": ""
            },
            "type": "mesh3d"
           }
          ],
          "parcoords": [
           {
            "line": {
             "colorbar": {
              "outlinewidth": 0,
              "ticks": ""
             }
            },
            "type": "parcoords"
           }
          ],
          "pie": [
           {
            "automargin": true,
            "type": "pie"
           }
          ],
          "scatter": [
           {
            "fillpattern": {
             "fillmode": "overlay",
             "size": 10,
             "solidity": 0.2
            },
            "type": "scatter"
           }
          ],
          "scatter3d": [
           {
            "line": {
             "colorbar": {
              "outlinewidth": 0,
              "ticks": ""
             }
            },
            "marker": {
             "colorbar": {
              "outlinewidth": 0,
              "ticks": ""
             }
            },
            "type": "scatter3d"
           }
          ],
          "scattercarpet": [
           {
            "marker": {
             "colorbar": {
              "outlinewidth": 0,
              "ticks": ""
             }
            },
            "type": "scattercarpet"
           }
          ],
          "scattergeo": [
           {
            "marker": {
             "colorbar": {
              "outlinewidth": 0,
              "ticks": ""
             }
            },
            "type": "scattergeo"
           }
          ],
          "scattergl": [
           {
            "marker": {
             "colorbar": {
              "outlinewidth": 0,
              "ticks": ""
             }
            },
            "type": "scattergl"
           }
          ],
          "scattermap": [
           {
            "marker": {
             "colorbar": {
              "outlinewidth": 0,
              "ticks": ""
             }
            },
            "type": "scattermap"
           }
          ],
          "scattermapbox": [
           {
            "marker": {
             "colorbar": {
              "outlinewidth": 0,
              "ticks": ""
             }
            },
            "type": "scattermapbox"
           }
          ],
          "scatterpolar": [
           {
            "marker": {
             "colorbar": {
              "outlinewidth": 0,
              "ticks": ""
             }
            },
            "type": "scatterpolar"
           }
          ],
          "scatterpolargl": [
           {
            "marker": {
             "colorbar": {
              "outlinewidth": 0,
              "ticks": ""
             }
            },
            "type": "scatterpolargl"
           }
          ],
          "scatterternary": [
           {
            "marker": {
             "colorbar": {
              "outlinewidth": 0,
              "ticks": ""
             }
            },
            "type": "scatterternary"
           }
          ],
          "surface": [
           {
            "colorbar": {
             "outlinewidth": 0,
             "ticks": ""
            },
            "colorscale": [
             [
              0,
              "#0d0887"
             ],
             [
              0.1111111111111111,
              "#46039f"
             ],
             [
              0.2222222222222222,
              "#7201a8"
             ],
             [
              0.3333333333333333,
              "#9c179e"
             ],
             [
              0.4444444444444444,
              "#bd3786"
             ],
             [
              0.5555555555555556,
              "#d8576b"
             ],
             [
              0.6666666666666666,
              "#ed7953"
             ],
             [
              0.7777777777777778,
              "#fb9f3a"
             ],
             [
              0.8888888888888888,
              "#fdca26"
             ],
             [
              1,
              "#f0f921"
             ]
            ],
            "type": "surface"
           }
          ],
          "table": [
           {
            "cells": {
             "fill": {
              "color": "#EBF0F8"
             },
             "line": {
              "color": "white"
             }
            },
            "header": {
             "fill": {
              "color": "#C8D4E3"
             },
             "line": {
              "color": "white"
             }
            },
            "type": "table"
           }
          ]
         },
         "layout": {
          "annotationdefaults": {
           "arrowcolor": "#2a3f5f",
           "arrowhead": 0,
           "arrowwidth": 1
          },
          "autotypenumbers": "strict",
          "coloraxis": {
           "colorbar": {
            "outlinewidth": 0,
            "ticks": ""
           }
          },
          "colorscale": {
           "diverging": [
            [
             0,
             "#8e0152"
            ],
            [
             0.1,
             "#c51b7d"
            ],
            [
             0.2,
             "#de77ae"
            ],
            [
             0.3,
             "#f1b6da"
            ],
            [
             0.4,
             "#fde0ef"
            ],
            [
             0.5,
             "#f7f7f7"
            ],
            [
             0.6,
             "#e6f5d0"
            ],
            [
             0.7,
             "#b8e186"
            ],
            [
             0.8,
             "#7fbc41"
            ],
            [
             0.9,
             "#4d9221"
            ],
            [
             1,
             "#276419"
            ]
           ],
           "sequential": [
            [
             0,
             "#0d0887"
            ],
            [
             0.1111111111111111,
             "#46039f"
            ],
            [
             0.2222222222222222,
             "#7201a8"
            ],
            [
             0.3333333333333333,
             "#9c179e"
            ],
            [
             0.4444444444444444,
             "#bd3786"
            ],
            [
             0.5555555555555556,
             "#d8576b"
            ],
            [
             0.6666666666666666,
             "#ed7953"
            ],
            [
             0.7777777777777778,
             "#fb9f3a"
            ],
            [
             0.8888888888888888,
             "#fdca26"
            ],
            [
             1,
             "#f0f921"
            ]
           ],
           "sequentialminus": [
            [
             0,
             "#0d0887"
            ],
            [
             0.1111111111111111,
             "#46039f"
            ],
            [
             0.2222222222222222,
             "#7201a8"
            ],
            [
             0.3333333333333333,
             "#9c179e"
            ],
            [
             0.4444444444444444,
             "#bd3786"
            ],
            [
             0.5555555555555556,
             "#d8576b"
            ],
            [
             0.6666666666666666,
             "#ed7953"
            ],
            [
             0.7777777777777778,
             "#fb9f3a"
            ],
            [
             0.8888888888888888,
             "#fdca26"
            ],
            [
             1,
             "#f0f921"
            ]
           ]
          },
          "colorway": [
           "#636efa",
           "#EF553B",
           "#00cc96",
           "#ab63fa",
           "#FFA15A",
           "#19d3f3",
           "#FF6692",
           "#B6E880",
           "#FF97FF",
           "#FECB52"
          ],
          "font": {
           "color": "#2a3f5f"
          },
          "geo": {
           "bgcolor": "white",
           "lakecolor": "white",
           "landcolor": "#E5ECF6",
           "showlakes": true,
           "showland": true,
           "subunitcolor": "white"
          },
          "hoverlabel": {
           "align": "left"
          },
          "hovermode": "closest",
          "mapbox": {
           "style": "light"
          },
          "paper_bgcolor": "white",
          "plot_bgcolor": "#E5ECF6",
          "polar": {
           "angularaxis": {
            "gridcolor": "white",
            "linecolor": "white",
            "ticks": ""
           },
           "bgcolor": "#E5ECF6",
           "radialaxis": {
            "gridcolor": "white",
            "linecolor": "white",
            "ticks": ""
           }
          },
          "scene": {
           "xaxis": {
            "backgroundcolor": "#E5ECF6",
            "gridcolor": "white",
            "gridwidth": 2,
            "linecolor": "white",
            "showbackground": true,
            "ticks": "",
            "zerolinecolor": "white"
           },
           "yaxis": {
            "backgroundcolor": "#E5ECF6",
            "gridcolor": "white",
            "gridwidth": 2,
            "linecolor": "white",
            "showbackground": true,
            "ticks": "",
            "zerolinecolor": "white"
           },
           "zaxis": {
            "backgroundcolor": "#E5ECF6",
            "gridcolor": "white",
            "gridwidth": 2,
            "linecolor": "white",
            "showbackground": true,
            "ticks": "",
            "zerolinecolor": "white"
           }
          },
          "shapedefaults": {
           "line": {
            "color": "#2a3f5f"
           }
          },
          "ternary": {
           "aaxis": {
            "gridcolor": "white",
            "linecolor": "white",
            "ticks": ""
           },
           "baxis": {
            "gridcolor": "white",
            "linecolor": "white",
            "ticks": ""
           },
           "bgcolor": "#E5ECF6",
           "caxis": {
            "gridcolor": "white",
            "linecolor": "white",
            "ticks": ""
           }
          },
          "title": {
           "x": 0.05
          },
          "xaxis": {
           "automargin": true,
           "gridcolor": "white",
           "linecolor": "white",
           "ticks": "",
           "title": {
            "standoff": 15
           },
           "zerolinecolor": "white",
           "zerolinewidth": 2
          },
          "yaxis": {
           "automargin": true,
           "gridcolor": "white",
           "linecolor": "white",
           "ticks": "",
           "title": {
            "standoff": 15
           },
           "zerolinecolor": "white",
           "zerolinewidth": 2
          }
         }
        },
        "title": {
         "text": "CGC Weight: Gene Rank Distributions"
        },
        "xaxis": {
         "anchor": "y",
         "domain": [
          0,
          0.45
         ]
        },
        "xaxis2": {
         "anchor": "y2",
         "domain": [
          0.55,
          1
         ]
        },
        "yaxis": {
         "anchor": "x",
         "domain": [
          0,
          1
         ],
         "range": [
          0,
          400
         ]
        },
        "yaxis2": {
         "anchor": "x2",
         "domain": [
          0,
          1
         ],
         "range": [
          0,
          400
         ]
        }
       }
      }
     },
     "metadata": {},
     "output_type": "display_data"
    },
    {
     "data": {
      "application/vnd.jupyter.widget-view+json": {
       "model_id": "b3d1aaf0f5634472adcaf1e6f438ae06",
       "version_major": 2,
       "version_minor": 0
      },
      "text/plain": [
       "Open Chromatin Weight: TERT 1295228:   0%|          | 0/100 [00:00<?, ?it/s]"
      ]
     },
     "metadata": {},
     "output_type": "display_data"
    },
    {
     "data": {
      "application/vnd.jupyter.widget-view+json": {
       "model_id": "13366d1a26df49868e3a594e322d6924",
       "version_major": 2,
       "version_minor": 0
      },
      "text/plain": [
       "Open Chromatin Weight: TERT 1295250:   0%|          | 0/100 [00:00<?, ?it/s]"
      ]
     },
     "metadata": {},
     "output_type": "display_data"
    },
    {
     "data": {
      "application/vnd.jupyter.widget-view+json": {
       "model_id": "50a2cc9a00f74f67b44690f92fcd6f02",
       "version_major": 2,
       "version_minor": 0
      },
      "text/plain": [
       "Open Chromatin Weight: RALY 32580927:   0%|          | 0/100 [00:00<?, ?it/s]"
      ]
     },
     "metadata": {},
     "output_type": "display_data"
    },
    {
     "data": {
      "application/vnd.jupyter.widget-view+json": {
       "model_id": "756fc682a8bc48dc836a413f1c3337a0",
       "version_major": 2,
       "version_minor": 0
      },
      "text/plain": [
       "Open Chromatin Weight: CDC20 43824529:   0%|          | 0/100 [00:00<?, ?it/s]"
      ]
     },
     "metadata": {},
     "output_type": "display_data"
    },
    {
     "data": {
      "application/vnd.plotly.v1+json": {
       "config": {
        "plotlyServerURL": "https://plot.ly"
       },
       "data": [
        {
         "marker": {
          "color": "red",
          "size": 10
         },
         "mode": "lines",
         "name": "TERT 1295228",
         "type": "scatter",
         "x": {
          "bdata": "AAAAAAAA8D9BrV8pUOv3P4Jav1Kg1v8/4YMPPvjgA0CCWr9SoNYHQCIxb2dIzAtAwgcffPDBD0Ayb2dIzNsRQIJav1Kg1hNA0kUXXXTRFUAiMW9nSMwXQHIcx3EcxxlAwgcffPDBG0AS83aGxLwdQGPezpCYtx9A2mSTTTbZIECCWr9SoNYhQCpQ61cK1CJA0kUXXXTRI0B6O0Ni3s4kQCIxb2dIzCVAyiabbLLJJkByHMdxHMcnQBoS83aGxChAwgcffPDBKUBq/UqBWr8qQBLzdobEvCtAu+iiiy66LEBj3s6QmLctQAvU+pUCtS5As8kmm2yyL0CuXylQ61cwQIJav1Kg1jBAVlVVVVVVMUAqUOtXCtQxQP5KgVq/UjJA0kUXXXTRMkCmQK1fKVAzQHo7Q2LezjNATjbZZJNNNEAiMW9nSMw0QPYrBWr9SjVAyiabbLLJNUCeITFvZ0g2QHIcx3EcxzZARhdddNFFN0AaEvN2hsQ3QO4MiXk7QzhAwgcffPDBOECWArV+pUA5QGr9SoFavzlAPvjggw8+OkAS83aGxLw6QObtDIl5OztAu+iiiy66O0CP4ziO4zg8QGPezpCYtzxAN9lkk002PUAL1PqVArU9QN/OkJi3Mz5As8kmm2yyPkCHxLydITE/QFu/UqDWrz9AGF100UUXQECCWr9SoFZAQOxXCtT6lUBAVlVVVVXVQEDAUqDWrxRBQCpQ61cKVEFAlE022WSTQUD+SoFav9JBQGhIzNsZEkJA0kUXXXRRQkA8Q2LezpBCQKZArV8p0EJAED744IMPQ0B6O0Ni3k5DQOQ4juM4jkNATjbZZJPNQ0C4MyTm7QxEQCIxb2dITERAjC666KKLRED2KwVq/cpEQGApUOtXCkVAyiabbLJJRUA0JObtDIlFQJ4hMW9nyEVACB988MEHRkByHMdxHEdGQNwZEvN2hkZARhdddNHFRkCwFKj1KwVHQBoS83aGREdAhA8++OCDR0DuDIl5O8NHQFgK1PqVAkhAwgcffPBBSEAsBWr9SoFIQJYCtX6lwEhAAAAAAAAASUA=",
          "dtype": "f8"
         },
         "xaxis": "x",
         "y": [
          20.5,
          20.5,
          20.5,
          20.5,
          20.5,
          21.5,
          21.5,
          21.5,
          22,
          22.5,
          22.5,
          22.5,
          22.5,
          22.5,
          22.5,
          22.5,
          23.5,
          24.5,
          24.5,
          24.5,
          25.5,
          26.5,
          27.5,
          27.5,
          27.5,
          27.5,
          28.5,
          30.5,
          31.5,
          31.5,
          32.5,
          33.5,
          35.5,
          36.5,
          39.5,
          43.5,
          47.5,
          50.5,
          52,
          55.5,
          62.5,
          65.5,
          69.5,
          75,
          78,
          86,
          91.5,
          100,
          111,
          121.5,
          128.5,
          138.5,
          148.5,
          163,
          170,
          186,
          200.5,
          213,
          229,
          248.5,
          280.5,
          309.5,
          326,
          346,
          373.5,
          400,
          426,
          458.5,
          505.5,
          531.5,
          561.5,
          600.5,
          641.5,
          679.5,
          727.5,
          776.5,
          827.5,
          900,
          910.5,
          910.5,
          910.5,
          910.5,
          910.5,
          910.5,
          910.5,
          910.5,
          910.5,
          910.5,
          910.5,
          910.5,
          910.5,
          910.5,
          910.5,
          910.5,
          910.5,
          910.5,
          910.5,
          910.5,
          910.5,
          910.5
         ],
         "yaxis": "y"
        },
        {
         "marker": {
          "color": "red",
          "size": 10
         },
         "mode": "lines",
         "name": "TERT 1295228",
         "showlegend": false,
         "type": "scatter",
         "x": {
          "bdata": "AAAAAAAA8D9BrV8pUOv3P4Jav1Kg1v8/4YMPPvjgA0CCWr9SoNYHQCIxb2dIzAtAwgcffPDBD0Ayb2dIzNsRQIJav1Kg1hNA0kUXXXTRFUAiMW9nSMwXQHIcx3EcxxlAwgcffPDBG0AS83aGxLwdQGPezpCYtx9A2mSTTTbZIECCWr9SoNYhQCpQ61cK1CJA0kUXXXTRI0B6O0Ni3s4kQCIxb2dIzCVAyiabbLLJJkByHMdxHMcnQBoS83aGxChAwgcffPDBKUBq/UqBWr8qQBLzdobEvCtAu+iiiy66LEBj3s6QmLctQAvU+pUCtS5As8kmm2yyL0CuXylQ61cwQIJav1Kg1jBAVlVVVVVVMUAqUOtXCtQxQP5KgVq/UjJA0kUXXXTRMkCmQK1fKVAzQHo7Q2LezjNATjbZZJNNNEAiMW9nSMw0QPYrBWr9SjVAyiabbLLJNUCeITFvZ0g2QHIcx3EcxzZARhdddNFFN0AaEvN2hsQ3QO4MiXk7QzhAwgcffPDBOECWArV+pUA5QGr9SoFavzlAPvjggw8+OkAS83aGxLw6QObtDIl5OztAu+iiiy66O0CP4ziO4zg8QGPezpCYtzxAN9lkk002PUAL1PqVArU9QN/OkJi3Mz5As8kmm2yyPkCHxLydITE/QFu/UqDWrz9AGF100UUXQECCWr9SoFZAQOxXCtT6lUBAVlVVVVXVQEDAUqDWrxRBQCpQ61cKVEFAlE022WSTQUD+SoFav9JBQGhIzNsZEkJA0kUXXXRRQkA8Q2LezpBCQKZArV8p0EJAED744IMPQ0B6O0Ni3k5DQOQ4juM4jkNATjbZZJPNQ0C4MyTm7QxEQCIxb2dITERAjC666KKLRED2KwVq/cpEQGApUOtXCkVAyiabbLJJRUA0JObtDIlFQJ4hMW9nyEVACB988MEHRkByHMdxHEdGQNwZEvN2hkZARhdddNHFRkCwFKj1KwVHQBoS83aGREdAhA8++OCDR0DuDIl5O8NHQFgK1PqVAkhAwgcffPBBSEAsBWr9SoFIQJYCtX6lwEhAAAAAAAAASUA=",
          "dtype": "f8"
         },
         "xaxis": "x2",
         "y": [
          0,
          0,
          0,
          0,
          0,
          0,
          0,
          0,
          0,
          0,
          0,
          0,
          0,
          0,
          0,
          0,
          0,
          0,
          0,
          0,
          0,
          0,
          0,
          0,
          0,
          2,
          2,
          2,
          2,
          2,
          2,
          2,
          2,
          2,
          2,
          2,
          3,
          3,
          3,
          4,
          4,
          4,
          4,
          4,
          4,
          4,
          4,
          5,
          6,
          6,
          7,
          7,
          8,
          9,
          9,
          9,
          9,
          10,
          13,
          13,
          13,
          14,
          16,
          17,
          19,
          23,
          27,
          30,
          32,
          34,
          41,
          46,
          47,
          52,
          59,
          60,
          69,
          74,
          88,
          96,
          105,
          114,
          125,
          132,
          147,
          157,
          173,
          185,
          201,
          216,
          245,
          272,
          295,
          316,
          342,
          366,
          388,
          421,
          472,
          498
         ],
         "yaxis": "y2"
        },
        {
         "marker": {
          "color": "blue",
          "size": 10
         },
         "mode": "lines",
         "name": "TERT 1295250",
         "type": "scatter",
         "x": {
          "bdata": "AAAAAAAA8D9BrV8pUOv3P4Jav1Kg1v8/4YMPPvjgA0CCWr9SoNYHQCIxb2dIzAtAwgcffPDBD0Ayb2dIzNsRQIJav1Kg1hNA0kUXXXTRFUAiMW9nSMwXQHIcx3EcxxlAwgcffPDBG0AS83aGxLwdQGPezpCYtx9A2mSTTTbZIECCWr9SoNYhQCpQ61cK1CJA0kUXXXTRI0B6O0Ni3s4kQCIxb2dIzCVAyiabbLLJJkByHMdxHMcnQBoS83aGxChAwgcffPDBKUBq/UqBWr8qQBLzdobEvCtAu+iiiy66LEBj3s6QmLctQAvU+pUCtS5As8kmm2yyL0CuXylQ61cwQIJav1Kg1jBAVlVVVVVVMUAqUOtXCtQxQP5KgVq/UjJA0kUXXXTRMkCmQK1fKVAzQHo7Q2LezjNATjbZZJNNNEAiMW9nSMw0QPYrBWr9SjVAyiabbLLJNUCeITFvZ0g2QHIcx3EcxzZARhdddNFFN0AaEvN2hsQ3QO4MiXk7QzhAwgcffPDBOECWArV+pUA5QGr9SoFavzlAPvjggw8+OkAS83aGxLw6QObtDIl5OztAu+iiiy66O0CP4ziO4zg8QGPezpCYtzxAN9lkk002PUAL1PqVArU9QN/OkJi3Mz5As8kmm2yyPkCHxLydITE/QFu/UqDWrz9AGF100UUXQECCWr9SoFZAQOxXCtT6lUBAVlVVVVXVQEDAUqDWrxRBQCpQ61cKVEFAlE022WSTQUD+SoFav9JBQGhIzNsZEkJA0kUXXXRRQkA8Q2LezpBCQKZArV8p0EJAED744IMPQ0B6O0Ni3k5DQOQ4juM4jkNATjbZZJPNQ0C4MyTm7QxEQCIxb2dITERAjC666KKLRED2KwVq/cpEQGApUOtXCkVAyiabbLJJRUA0JObtDIlFQJ4hMW9nyEVACB988MEHRkByHMdxHEdGQNwZEvN2hkZARhdddNHFRkCwFKj1KwVHQBoS83aGREdAhA8++OCDR0DuDIl5O8NHQFgK1PqVAkhAwgcffPBBSEAsBWr9SoFIQJYCtX6lwEhAAAAAAAAASUA=",
          "dtype": "f8"
         },
         "xaxis": "x",
         "y": [
          21,
          21,
          21,
          21,
          21,
          22,
          22,
          22,
          22,
          23,
          23,
          23,
          23,
          23,
          23,
          23,
          24,
          25,
          25,
          25,
          26,
          27,
          28,
          28,
          28,
          28,
          29,
          32,
          32,
          32,
          33,
          34,
          36,
          38,
          40,
          45,
          49,
          51,
          52,
          57,
          63,
          66,
          71,
          76,
          78,
          86,
          92,
          95,
          113,
          122,
          129,
          138,
          149,
          164,
          171,
          187,
          201,
          213,
          230,
          247,
          280,
          309,
          326,
          347,
          376,
          402,
          423,
          460,
          505,
          530,
          564,
          603,
          641,
          679,
          728,
          777,
          826,
          897,
          911,
          911,
          911,
          911,
          911,
          911,
          911,
          911,
          911,
          911,
          911,
          911,
          911,
          911,
          911,
          911,
          911,
          911,
          911,
          911,
          911,
          911
         ],
         "yaxis": "y"
        },
        {
         "marker": {
          "color": "blue",
          "size": 10
         },
         "mode": "lines",
         "name": "TERT 1295250",
         "showlegend": false,
         "type": "scatter",
         "x": {
          "bdata": "AAAAAAAA8D9BrV8pUOv3P4Jav1Kg1v8/4YMPPvjgA0CCWr9SoNYHQCIxb2dIzAtAwgcffPDBD0Ayb2dIzNsRQIJav1Kg1hNA0kUXXXTRFUAiMW9nSMwXQHIcx3EcxxlAwgcffPDBG0AS83aGxLwdQGPezpCYtx9A2mSTTTbZIECCWr9SoNYhQCpQ61cK1CJA0kUXXXTRI0B6O0Ni3s4kQCIxb2dIzCVAyiabbLLJJkByHMdxHMcnQBoS83aGxChAwgcffPDBKUBq/UqBWr8qQBLzdobEvCtAu+iiiy66LEBj3s6QmLctQAvU+pUCtS5As8kmm2yyL0CuXylQ61cwQIJav1Kg1jBAVlVVVVVVMUAqUOtXCtQxQP5KgVq/UjJA0kUXXXTRMkCmQK1fKVAzQHo7Q2LezjNATjbZZJNNNEAiMW9nSMw0QPYrBWr9SjVAyiabbLLJNUCeITFvZ0g2QHIcx3EcxzZARhdddNFFN0AaEvN2hsQ3QO4MiXk7QzhAwgcffPDBOECWArV+pUA5QGr9SoFavzlAPvjggw8+OkAS83aGxLw6QObtDIl5OztAu+iiiy66O0CP4ziO4zg8QGPezpCYtzxAN9lkk002PUAL1PqVArU9QN/OkJi3Mz5As8kmm2yyPkCHxLydITE/QFu/UqDWrz9AGF100UUXQECCWr9SoFZAQOxXCtT6lUBAVlVVVVXVQEDAUqDWrxRBQCpQ61cKVEFAlE022WSTQUD+SoFav9JBQGhIzNsZEkJA0kUXXXRRQkA8Q2LezpBCQKZArV8p0EJAED744IMPQ0B6O0Ni3k5DQOQ4juM4jkNATjbZZJPNQ0C4MyTm7QxEQCIxb2dITERAjC666KKLRED2KwVq/cpEQGApUOtXCkVAyiabbLJJRUA0JObtDIlFQJ4hMW9nyEVACB988MEHRkByHMdxHEdGQNwZEvN2hkZARhdddNHFRkCwFKj1KwVHQBoS83aGREdAhA8++OCDR0DuDIl5O8NHQFgK1PqVAkhAwgcffPBBSEAsBWr9SoFIQJYCtX6lwEhAAAAAAAAASUA=",
          "dtype": "f8"
         },
         "xaxis": "x2",
         "y": [
          12,
          12,
          12,
          12,
          12,
          12,
          12,
          12,
          12,
          12,
          13,
          13,
          13,
          13,
          14,
          14,
          14,
          14,
          14,
          14,
          14,
          15,
          16,
          16,
          16,
          17,
          18,
          19,
          19,
          19,
          19,
          20,
          22,
          23,
          23,
          24,
          25,
          27,
          29,
          30,
          36,
          40,
          42,
          43,
          48,
          53,
          57,
          62,
          64,
          69,
          77,
          83,
          86,
          103,
          112,
          120,
          128,
          140,
          155,
          161,
          177,
          192,
          204,
          221,
          236,
          271,
          300,
          317,
          338,
          364,
          391,
          414,
          451,
          496,
          521,
          554,
          591,
          631,
          670,
          716,
          767,
          816,
          885,
          902,
          902,
          902,
          902,
          902,
          902,
          902,
          902,
          902,
          902,
          902,
          902,
          902,
          902,
          902,
          902,
          902
         ],
         "yaxis": "y2"
        },
        {
         "marker": {
          "color": "green",
          "size": 10
         },
         "mode": "lines",
         "name": "RALY 32580927",
         "type": "scatter",
         "x": {
          "bdata": "AAAAAAAA8D9BrV8pUOv3P4Jav1Kg1v8/4YMPPvjgA0CCWr9SoNYHQCIxb2dIzAtAwgcffPDBD0Ayb2dIzNsRQIJav1Kg1hNA0kUXXXTRFUAiMW9nSMwXQHIcx3EcxxlAwgcffPDBG0AS83aGxLwdQGPezpCYtx9A2mSTTTbZIECCWr9SoNYhQCpQ61cK1CJA0kUXXXTRI0B6O0Ni3s4kQCIxb2dIzCVAyiabbLLJJkByHMdxHMcnQBoS83aGxChAwgcffPDBKUBq/UqBWr8qQBLzdobEvCtAu+iiiy66LEBj3s6QmLctQAvU+pUCtS5As8kmm2yyL0CuXylQ61cwQIJav1Kg1jBAVlVVVVVVMUAqUOtXCtQxQP5KgVq/UjJA0kUXXXTRMkCmQK1fKVAzQHo7Q2LezjNATjbZZJNNNEAiMW9nSMw0QPYrBWr9SjVAyiabbLLJNUCeITFvZ0g2QHIcx3EcxzZARhdddNFFN0AaEvN2hsQ3QO4MiXk7QzhAwgcffPDBOECWArV+pUA5QGr9SoFavzlAPvjggw8+OkAS83aGxLw6QObtDIl5OztAu+iiiy66O0CP4ziO4zg8QGPezpCYtzxAN9lkk002PUAL1PqVArU9QN/OkJi3Mz5As8kmm2yyPkCHxLydITE/QFu/UqDWrz9AGF100UUXQECCWr9SoFZAQOxXCtT6lUBAVlVVVVXVQEDAUqDWrxRBQCpQ61cKVEFAlE022WSTQUD+SoFav9JBQGhIzNsZEkJA0kUXXXRRQkA8Q2LezpBCQKZArV8p0EJAED744IMPQ0B6O0Ni3k5DQOQ4juM4jkNATjbZZJPNQ0C4MyTm7QxEQCIxb2dITERAjC666KKLRED2KwVq/cpEQGApUOtXCkVAyiabbLJJRUA0JObtDIlFQJ4hMW9nyEVACB988MEHRkByHMdxHEdGQNwZEvN2hkZARhdddNHFRkCwFKj1KwVHQBoS83aGREdAhA8++OCDR0DuDIl5O8NHQFgK1PqVAkhAwgcffPBBSEAsBWr9SoFIQJYCtX6lwEhAAAAAAAAASUA=",
          "dtype": "f8"
         },
         "xaxis": "x",
         "y": [
          255.5,
          255.5,
          255.5,
          255.5,
          254.5,
          249,
          244.5,
          243,
          240.5,
          239.5,
          234.5,
          232,
          230,
          229,
          227.5,
          227,
          227,
          226.5,
          226,
          225.5,
          224,
          223.5,
          219.5,
          213,
          211.5,
          207,
          206,
          201.5,
          199.5,
          195,
          194.5,
          192,
          191,
          191,
          190,
          189,
          187.5,
          186,
          186,
          184.5,
          182,
          180.5,
          177,
          174.5,
          173.5,
          173,
          172.5,
          171.5,
          171,
          170.5,
          170,
          169,
          168.5,
          168,
          167.5,
          167.5,
          166.5,
          165.5,
          163,
          161.5,
          158.5,
          157.5,
          156.5,
          156,
          155,
          154,
          154,
          154,
          153,
          152.5,
          152,
          152,
          152,
          151,
          151,
          151,
          151,
          151,
          151,
          151,
          150,
          149.5,
          149,
          149,
          149,
          148.5,
          148.5,
          148.5,
          148,
          148,
          147.5,
          147.5,
          147.5,
          147.5,
          147.5,
          147.5,
          147.5,
          147.5,
          147.5,
          147.5
         ],
         "yaxis": "y"
        },
        {
         "marker": {
          "color": "green",
          "size": 10
         },
         "mode": "lines",
         "name": "RALY 32580927",
         "showlegend": false,
         "type": "scatter",
         "x": {
          "bdata": "AAAAAAAA8D9BrV8pUOv3P4Jav1Kg1v8/4YMPPvjgA0CCWr9SoNYHQCIxb2dIzAtAwgcffPDBD0Ayb2dIzNsRQIJav1Kg1hNA0kUXXXTRFUAiMW9nSMwXQHIcx3EcxxlAwgcffPDBG0AS83aGxLwdQGPezpCYtx9A2mSTTTbZIECCWr9SoNYhQCpQ61cK1CJA0kUXXXTRI0B6O0Ni3s4kQCIxb2dIzCVAyiabbLLJJkByHMdxHMcnQBoS83aGxChAwgcffPDBKUBq/UqBWr8qQBLzdobEvCtAu+iiiy66LEBj3s6QmLctQAvU+pUCtS5As8kmm2yyL0CuXylQ61cwQIJav1Kg1jBAVlVVVVVVMUAqUOtXCtQxQP5KgVq/UjJA0kUXXXTRMkCmQK1fKVAzQHo7Q2LezjNATjbZZJNNNEAiMW9nSMw0QPYrBWr9SjVAyiabbLLJNUCeITFvZ0g2QHIcx3EcxzZARhdddNFFN0AaEvN2hsQ3QO4MiXk7QzhAwgcffPDBOECWArV+pUA5QGr9SoFavzlAPvjggw8+OkAS83aGxLw6QObtDIl5OztAu+iiiy66O0CP4ziO4zg8QGPezpCYtzxAN9lkk002PUAL1PqVArU9QN/OkJi3Mz5As8kmm2yyPkCHxLydITE/QFu/UqDWrz9AGF100UUXQECCWr9SoFZAQOxXCtT6lUBAVlVVVVXVQEDAUqDWrxRBQCpQ61cKVEFAlE022WSTQUD+SoFav9JBQGhIzNsZEkJA0kUXXXRRQkA8Q2LezpBCQKZArV8p0EJAED744IMPQ0B6O0Ni3k5DQOQ4juM4jkNATjbZZJPNQ0C4MyTm7QxEQCIxb2dITERAjC666KKLRED2KwVq/cpEQGApUOtXCkVAyiabbLJJRUA0JObtDIlFQJ4hMW9nyEVACB988MEHRkByHMdxHEdGQNwZEvN2hkZARhdddNHFRkCwFKj1KwVHQBoS83aGREdAhA8++OCDR0DuDIl5O8NHQFgK1PqVAkhAwgcffPBBSEAsBWr9SoFIQJYCtX6lwEhAAAAAAAAASUA=",
          "dtype": "f8"
         },
         "xaxis": "x2",
         "y": [
          153,
          153,
          152,
          146,
          133,
          131,
          125,
          123,
          113,
          110,
          102,
          101,
          98,
          96,
          96,
          96,
          95,
          93,
          90,
          90,
          88,
          88,
          88,
          85,
          84,
          84,
          84,
          83,
          83,
          81,
          81,
          81,
          79,
          79,
          78,
          77,
          77,
          76,
          73,
          69,
          66,
          60,
          58,
          57,
          57,
          56,
          55,
          55,
          55,
          54,
          53,
          53,
          53,
          53,
          52,
          52,
          52,
          52,
          52,
          52,
          52,
          50,
          49,
          48,
          48,
          48,
          47,
          47,
          46,
          46,
          46,
          45,
          45,
          45,
          45,
          45,
          45,
          45,
          45,
          45,
          45,
          45,
          45,
          45,
          45,
          45,
          45,
          45,
          45,
          45,
          45,
          45,
          45,
          45,
          45,
          45,
          45,
          45,
          45,
          45
         ],
         "yaxis": "y2"
        },
        {
         "marker": {
          "color": "yellow",
          "size": 10
         },
         "mode": "lines",
         "name": "CDC20 43824529",
         "type": "scatter",
         "x": {
          "bdata": "AAAAAAAA8D9BrV8pUOv3P4Jav1Kg1v8/4YMPPvjgA0CCWr9SoNYHQCIxb2dIzAtAwgcffPDBD0Ayb2dIzNsRQIJav1Kg1hNA0kUXXXTRFUAiMW9nSMwXQHIcx3EcxxlAwgcffPDBG0AS83aGxLwdQGPezpCYtx9A2mSTTTbZIECCWr9SoNYhQCpQ61cK1CJA0kUXXXTRI0B6O0Ni3s4kQCIxb2dIzCVAyiabbLLJJkByHMdxHMcnQBoS83aGxChAwgcffPDBKUBq/UqBWr8qQBLzdobEvCtAu+iiiy66LEBj3s6QmLctQAvU+pUCtS5As8kmm2yyL0CuXylQ61cwQIJav1Kg1jBAVlVVVVVVMUAqUOtXCtQxQP5KgVq/UjJA0kUXXXTRMkCmQK1fKVAzQHo7Q2LezjNATjbZZJNNNEAiMW9nSMw0QPYrBWr9SjVAyiabbLLJNUCeITFvZ0g2QHIcx3EcxzZARhdddNFFN0AaEvN2hsQ3QO4MiXk7QzhAwgcffPDBOECWArV+pUA5QGr9SoFavzlAPvjggw8+OkAS83aGxLw6QObtDIl5OztAu+iiiy66O0CP4ziO4zg8QGPezpCYtzxAN9lkk002PUAL1PqVArU9QN/OkJi3Mz5As8kmm2yyPkCHxLydITE/QFu/UqDWrz9AGF100UUXQECCWr9SoFZAQOxXCtT6lUBAVlVVVVXVQEDAUqDWrxRBQCpQ61cKVEFAlE022WSTQUD+SoFav9JBQGhIzNsZEkJA0kUXXXRRQkA8Q2LezpBCQKZArV8p0EJAED744IMPQ0B6O0Ni3k5DQOQ4juM4jkNATjbZZJPNQ0C4MyTm7QxEQCIxb2dITERAjC666KKLRED2KwVq/cpEQGApUOtXCkVAyiabbLJJRUA0JObtDIlFQJ4hMW9nyEVACB988MEHRkByHMdxHEdGQNwZEvN2hkZARhdddNHFRkCwFKj1KwVHQBoS83aGREdAhA8++OCDR0DuDIl5O8NHQFgK1PqVAkhAwgcffPBBSEAsBWr9SoFIQJYCtX6lwEhAAAAAAAAASUA=",
          "dtype": "f8"
         },
         "xaxis": "x",
         "y": [
          47,
          47,
          48,
          49,
          50,
          50,
          50,
          50,
          51,
          52,
          54,
          54,
          54,
          56,
          58,
          58,
          61,
          65,
          69,
          73,
          74,
          75,
          84,
          88,
          91,
          95,
          100,
          108,
          113,
          116,
          132,
          143,
          150,
          158,
          170,
          184,
          192,
          205,
          221,
          233,
          249,
          266,
          300,
          330,
          343,
          366,
          392,
          419,
          440,
          473,
          525,
          548,
          582,
          615,
          657,
          694,
          742,
          790,
          839,
          912,
          933,
          933,
          933,
          933,
          933,
          933,
          933,
          933,
          933,
          933,
          933,
          933,
          933,
          933,
          933,
          933,
          933,
          933,
          933,
          933,
          933,
          933,
          933,
          933,
          933,
          933,
          933,
          933,
          933,
          933,
          933,
          933,
          933,
          933,
          933,
          933,
          933,
          933,
          933,
          933
         ],
         "yaxis": "y"
        },
        {
         "marker": {
          "color": "yellow",
          "size": 10
         },
         "mode": "lines",
         "name": "CDC20 43824529",
         "showlegend": false,
         "type": "scatter",
         "x": {
          "bdata": "AAAAAAAA8D9BrV8pUOv3P4Jav1Kg1v8/4YMPPvjgA0CCWr9SoNYHQCIxb2dIzAtAwgcffPDBD0Ayb2dIzNsRQIJav1Kg1hNA0kUXXXTRFUAiMW9nSMwXQHIcx3EcxxlAwgcffPDBG0AS83aGxLwdQGPezpCYtx9A2mSTTTbZIECCWr9SoNYhQCpQ61cK1CJA0kUXXXTRI0B6O0Ni3s4kQCIxb2dIzCVAyiabbLLJJkByHMdxHMcnQBoS83aGxChAwgcffPDBKUBq/UqBWr8qQBLzdobEvCtAu+iiiy66LEBj3s6QmLctQAvU+pUCtS5As8kmm2yyL0CuXylQ61cwQIJav1Kg1jBAVlVVVVVVMUAqUOtXCtQxQP5KgVq/UjJA0kUXXXTRMkCmQK1fKVAzQHo7Q2LezjNATjbZZJNNNEAiMW9nSMw0QPYrBWr9SjVAyiabbLLJNUCeITFvZ0g2QHIcx3EcxzZARhdddNFFN0AaEvN2hsQ3QO4MiXk7QzhAwgcffPDBOECWArV+pUA5QGr9SoFavzlAPvjggw8+OkAS83aGxLw6QObtDIl5OztAu+iiiy66O0CP4ziO4zg8QGPezpCYtzxAN9lkk002PUAL1PqVArU9QN/OkJi3Mz5As8kmm2yyPkCHxLydITE/QFu/UqDWrz9AGF100UUXQECCWr9SoFZAQOxXCtT6lUBAVlVVVVXVQEDAUqDWrxRBQCpQ61cKVEFAlE022WSTQUD+SoFav9JBQGhIzNsZEkJA0kUXXXRRQkA8Q2LezpBCQKZArV8p0EJAED744IMPQ0B6O0Ni3k5DQOQ4juM4jkNATjbZZJPNQ0C4MyTm7QxEQCIxb2dITERAjC666KKLRED2KwVq/cpEQGApUOtXCkVAyiabbLJJRUA0JObtDIlFQJ4hMW9nyEVACB988MEHRkByHMdxHEdGQNwZEvN2hkZARhdddNHFRkCwFKj1KwVHQBoS83aGREdAhA8++OCDR0DuDIl5O8NHQFgK1PqVAkhAwgcffPBBSEAsBWr9SoFIQJYCtX6lwEhAAAAAAAAASUA=",
          "dtype": "f8"
         },
         "xaxis": "x2",
         "y": [
          47,
          47,
          48,
          49,
          50,
          50,
          50,
          50,
          51,
          52,
          54,
          54,
          54,
          56,
          58,
          58,
          61,
          65,
          69,
          73,
          74,
          75,
          84,
          88,
          91,
          95,
          100,
          108,
          113,
          116,
          132,
          143,
          150,
          158,
          170,
          184,
          192,
          205,
          221,
          233,
          249,
          266,
          300,
          330,
          343,
          366,
          392,
          419,
          440,
          473,
          525,
          548,
          582,
          615,
          657,
          694,
          742,
          790,
          839,
          912,
          933,
          933,
          933,
          933,
          933,
          933,
          933,
          933,
          933,
          933,
          933,
          933,
          933,
          933,
          933,
          933,
          933,
          933,
          933,
          933,
          933,
          933,
          933,
          933,
          933,
          933,
          933,
          933,
          933,
          933,
          933,
          933,
          933,
          933,
          933,
          933,
          933,
          933,
          933,
          933
         ],
         "yaxis": "y2"
        }
       ],
       "layout": {
        "annotations": [
         {
          "font": {
           "size": 16
          },
          "showarrow": false,
          "text": "Min Rank",
          "x": 0.225,
          "xanchor": "center",
          "xref": "paper",
          "y": 1,
          "yanchor": "bottom",
          "yref": "paper"
         },
         {
          "font": {
           "size": 16
          },
          "showarrow": false,
          "text": "Median Rank",
          "x": 0.775,
          "xanchor": "center",
          "xref": "paper",
          "y": 1,
          "yanchor": "bottom",
          "yref": "paper"
         }
        ],
        "shapes": [
         {
          "line": {
           "color": "black",
           "dash": "dash",
           "width": 2
          },
          "type": "line",
          "x0": 20,
          "x1": 20,
          "xref": "x",
          "y0": 0,
          "y1": 1,
          "yref": "y domain"
         },
         {
          "line": {
           "color": "black",
           "dash": "dash",
           "width": 2
          },
          "type": "line",
          "x0": 20,
          "x1": 20,
          "xref": "x2",
          "y0": 0,
          "y1": 1,
          "yref": "y2 domain"
         }
        ],
        "template": {
         "data": {
          "bar": [
           {
            "error_x": {
             "color": "#2a3f5f"
            },
            "error_y": {
             "color": "#2a3f5f"
            },
            "marker": {
             "line": {
              "color": "#E5ECF6",
              "width": 0.5
             },
             "pattern": {
              "fillmode": "overlay",
              "size": 10,
              "solidity": 0.2
             }
            },
            "type": "bar"
           }
          ],
          "barpolar": [
           {
            "marker": {
             "line": {
              "color": "#E5ECF6",
              "width": 0.5
             },
             "pattern": {
              "fillmode": "overlay",
              "size": 10,
              "solidity": 0.2
             }
            },
            "type": "barpolar"
           }
          ],
          "carpet": [
           {
            "aaxis": {
             "endlinecolor": "#2a3f5f",
             "gridcolor": "white",
             "linecolor": "white",
             "minorgridcolor": "white",
             "startlinecolor": "#2a3f5f"
            },
            "baxis": {
             "endlinecolor": "#2a3f5f",
             "gridcolor": "white",
             "linecolor": "white",
             "minorgridcolor": "white",
             "startlinecolor": "#2a3f5f"
            },
            "type": "carpet"
           }
          ],
          "choropleth": [
           {
            "colorbar": {
             "outlinewidth": 0,
             "ticks": ""
            },
            "type": "choropleth"
           }
          ],
          "contour": [
           {
            "colorbar": {
             "outlinewidth": 0,
             "ticks": ""
            },
            "colorscale": [
             [
              0,
              "#0d0887"
             ],
             [
              0.1111111111111111,
              "#46039f"
             ],
             [
              0.2222222222222222,
              "#7201a8"
             ],
             [
              0.3333333333333333,
              "#9c179e"
             ],
             [
              0.4444444444444444,
              "#bd3786"
             ],
             [
              0.5555555555555556,
              "#d8576b"
             ],
             [
              0.6666666666666666,
              "#ed7953"
             ],
             [
              0.7777777777777778,
              "#fb9f3a"
             ],
             [
              0.8888888888888888,
              "#fdca26"
             ],
             [
              1,
              "#f0f921"
             ]
            ],
            "type": "contour"
           }
          ],
          "contourcarpet": [
           {
            "colorbar": {
             "outlinewidth": 0,
             "ticks": ""
            },
            "type": "contourcarpet"
           }
          ],
          "heatmap": [
           {
            "colorbar": {
             "outlinewidth": 0,
             "ticks": ""
            },
            "colorscale": [
             [
              0,
              "#0d0887"
             ],
             [
              0.1111111111111111,
              "#46039f"
             ],
             [
              0.2222222222222222,
              "#7201a8"
             ],
             [
              0.3333333333333333,
              "#9c179e"
             ],
             [
              0.4444444444444444,
              "#bd3786"
             ],
             [
              0.5555555555555556,
              "#d8576b"
             ],
             [
              0.6666666666666666,
              "#ed7953"
             ],
             [
              0.7777777777777778,
              "#fb9f3a"
             ],
             [
              0.8888888888888888,
              "#fdca26"
             ],
             [
              1,
              "#f0f921"
             ]
            ],
            "type": "heatmap"
           }
          ],
          "histogram": [
           {
            "marker": {
             "pattern": {
              "fillmode": "overlay",
              "size": 10,
              "solidity": 0.2
             }
            },
            "type": "histogram"
           }
          ],
          "histogram2d": [
           {
            "colorbar": {
             "outlinewidth": 0,
             "ticks": ""
            },
            "colorscale": [
             [
              0,
              "#0d0887"
             ],
             [
              0.1111111111111111,
              "#46039f"
             ],
             [
              0.2222222222222222,
              "#7201a8"
             ],
             [
              0.3333333333333333,
              "#9c179e"
             ],
             [
              0.4444444444444444,
              "#bd3786"
             ],
             [
              0.5555555555555556,
              "#d8576b"
             ],
             [
              0.6666666666666666,
              "#ed7953"
             ],
             [
              0.7777777777777778,
              "#fb9f3a"
             ],
             [
              0.8888888888888888,
              "#fdca26"
             ],
             [
              1,
              "#f0f921"
             ]
            ],
            "type": "histogram2d"
           }
          ],
          "histogram2dcontour": [
           {
            "colorbar": {
             "outlinewidth": 0,
             "ticks": ""
            },
            "colorscale": [
             [
              0,
              "#0d0887"
             ],
             [
              0.1111111111111111,
              "#46039f"
             ],
             [
              0.2222222222222222,
              "#7201a8"
             ],
             [
              0.3333333333333333,
              "#9c179e"
             ],
             [
              0.4444444444444444,
              "#bd3786"
             ],
             [
              0.5555555555555556,
              "#d8576b"
             ],
             [
              0.6666666666666666,
              "#ed7953"
             ],
             [
              0.7777777777777778,
              "#fb9f3a"
             ],
             [
              0.8888888888888888,
              "#fdca26"
             ],
             [
              1,
              "#f0f921"
             ]
            ],
            "type": "histogram2dcontour"
           }
          ],
          "mesh3d": [
           {
            "colorbar": {
             "outlinewidth": 0,
             "ticks": ""
            },
            "type": "mesh3d"
           }
          ],
          "parcoords": [
           {
            "line": {
             "colorbar": {
              "outlinewidth": 0,
              "ticks": ""
             }
            },
            "type": "parcoords"
           }
          ],
          "pie": [
           {
            "automargin": true,
            "type": "pie"
           }
          ],
          "scatter": [
           {
            "fillpattern": {
             "fillmode": "overlay",
             "size": 10,
             "solidity": 0.2
            },
            "type": "scatter"
           }
          ],
          "scatter3d": [
           {
            "line": {
             "colorbar": {
              "outlinewidth": 0,
              "ticks": ""
             }
            },
            "marker": {
             "colorbar": {
              "outlinewidth": 0,
              "ticks": ""
             }
            },
            "type": "scatter3d"
           }
          ],
          "scattercarpet": [
           {
            "marker": {
             "colorbar": {
              "outlinewidth": 0,
              "ticks": ""
             }
            },
            "type": "scattercarpet"
           }
          ],
          "scattergeo": [
           {
            "marker": {
             "colorbar": {
              "outlinewidth": 0,
              "ticks": ""
             }
            },
            "type": "scattergeo"
           }
          ],
          "scattergl": [
           {
            "marker": {
             "colorbar": {
              "outlinewidth": 0,
              "ticks": ""
             }
            },
            "type": "scattergl"
           }
          ],
          "scattermap": [
           {
            "marker": {
             "colorbar": {
              "outlinewidth": 0,
              "ticks": ""
             }
            },
            "type": "scattermap"
           }
          ],
          "scattermapbox": [
           {
            "marker": {
             "colorbar": {
              "outlinewidth": 0,
              "ticks": ""
             }
            },
            "type": "scattermapbox"
           }
          ],
          "scatterpolar": [
           {
            "marker": {
             "colorbar": {
              "outlinewidth": 0,
              "ticks": ""
             }
            },
            "type": "scatterpolar"
           }
          ],
          "scatterpolargl": [
           {
            "marker": {
             "colorbar": {
              "outlinewidth": 0,
              "ticks": ""
             }
            },
            "type": "scatterpolargl"
           }
          ],
          "scatterternary": [
           {
            "marker": {
             "colorbar": {
              "outlinewidth": 0,
              "ticks": ""
             }
            },
            "type": "scatterternary"
           }
          ],
          "surface": [
           {
            "colorbar": {
             "outlinewidth": 0,
             "ticks": ""
            },
            "colorscale": [
             [
              0,
              "#0d0887"
             ],
             [
              0.1111111111111111,
              "#46039f"
             ],
             [
              0.2222222222222222,
              "#7201a8"
             ],
             [
              0.3333333333333333,
              "#9c179e"
             ],
             [
              0.4444444444444444,
              "#bd3786"
             ],
             [
              0.5555555555555556,
              "#d8576b"
             ],
             [
              0.6666666666666666,
              "#ed7953"
             ],
             [
              0.7777777777777778,
              "#fb9f3a"
             ],
             [
              0.8888888888888888,
              "#fdca26"
             ],
             [
              1,
              "#f0f921"
             ]
            ],
            "type": "surface"
           }
          ],
          "table": [
           {
            "cells": {
             "fill": {
              "color": "#EBF0F8"
             },
             "line": {
              "color": "white"
             }
            },
            "header": {
             "fill": {
              "color": "#C8D4E3"
             },
             "line": {
              "color": "white"
             }
            },
            "type": "table"
           }
          ]
         },
         "layout": {
          "annotationdefaults": {
           "arrowcolor": "#2a3f5f",
           "arrowhead": 0,
           "arrowwidth": 1
          },
          "autotypenumbers": "strict",
          "coloraxis": {
           "colorbar": {
            "outlinewidth": 0,
            "ticks": ""
           }
          },
          "colorscale": {
           "diverging": [
            [
             0,
             "#8e0152"
            ],
            [
             0.1,
             "#c51b7d"
            ],
            [
             0.2,
             "#de77ae"
            ],
            [
             0.3,
             "#f1b6da"
            ],
            [
             0.4,
             "#fde0ef"
            ],
            [
             0.5,
             "#f7f7f7"
            ],
            [
             0.6,
             "#e6f5d0"
            ],
            [
             0.7,
             "#b8e186"
            ],
            [
             0.8,
             "#7fbc41"
            ],
            [
             0.9,
             "#4d9221"
            ],
            [
             1,
             "#276419"
            ]
           ],
           "sequential": [
            [
             0,
             "#0d0887"
            ],
            [
             0.1111111111111111,
             "#46039f"
            ],
            [
             0.2222222222222222,
             "#7201a8"
            ],
            [
             0.3333333333333333,
             "#9c179e"
            ],
            [
             0.4444444444444444,
             "#bd3786"
            ],
            [
             0.5555555555555556,
             "#d8576b"
            ],
            [
             0.6666666666666666,
             "#ed7953"
            ],
            [
             0.7777777777777778,
             "#fb9f3a"
            ],
            [
             0.8888888888888888,
             "#fdca26"
            ],
            [
             1,
             "#f0f921"
            ]
           ],
           "sequentialminus": [
            [
             0,
             "#0d0887"
            ],
            [
             0.1111111111111111,
             "#46039f"
            ],
            [
             0.2222222222222222,
             "#7201a8"
            ],
            [
             0.3333333333333333,
             "#9c179e"
            ],
            [
             0.4444444444444444,
             "#bd3786"
            ],
            [
             0.5555555555555556,
             "#d8576b"
            ],
            [
             0.6666666666666666,
             "#ed7953"
            ],
            [
             0.7777777777777778,
             "#fb9f3a"
            ],
            [
             0.8888888888888888,
             "#fdca26"
            ],
            [
             1,
             "#f0f921"
            ]
           ]
          },
          "colorway": [
           "#636efa",
           "#EF553B",
           "#00cc96",
           "#ab63fa",
           "#FFA15A",
           "#19d3f3",
           "#FF6692",
           "#B6E880",
           "#FF97FF",
           "#FECB52"
          ],
          "font": {
           "color": "#2a3f5f"
          },
          "geo": {
           "bgcolor": "white",
           "lakecolor": "white",
           "landcolor": "#E5ECF6",
           "showlakes": true,
           "showland": true,
           "subunitcolor": "white"
          },
          "hoverlabel": {
           "align": "left"
          },
          "hovermode": "closest",
          "mapbox": {
           "style": "light"
          },
          "paper_bgcolor": "white",
          "plot_bgcolor": "#E5ECF6",
          "polar": {
           "angularaxis": {
            "gridcolor": "white",
            "linecolor": "white",
            "ticks": ""
           },
           "bgcolor": "#E5ECF6",
           "radialaxis": {
            "gridcolor": "white",
            "linecolor": "white",
            "ticks": ""
           }
          },
          "scene": {
           "xaxis": {
            "backgroundcolor": "#E5ECF6",
            "gridcolor": "white",
            "gridwidth": 2,
            "linecolor": "white",
            "showbackground": true,
            "ticks": "",
            "zerolinecolor": "white"
           },
           "yaxis": {
            "backgroundcolor": "#E5ECF6",
            "gridcolor": "white",
            "gridwidth": 2,
            "linecolor": "white",
            "showbackground": true,
            "ticks": "",
            "zerolinecolor": "white"
           },
           "zaxis": {
            "backgroundcolor": "#E5ECF6",
            "gridcolor": "white",
            "gridwidth": 2,
            "linecolor": "white",
            "showbackground": true,
            "ticks": "",
            "zerolinecolor": "white"
           }
          },
          "shapedefaults": {
           "line": {
            "color": "#2a3f5f"
           }
          },
          "ternary": {
           "aaxis": {
            "gridcolor": "white",
            "linecolor": "white",
            "ticks": ""
           },
           "baxis": {
            "gridcolor": "white",
            "linecolor": "white",
            "ticks": ""
           },
           "bgcolor": "#E5ECF6",
           "caxis": {
            "gridcolor": "white",
            "linecolor": "white",
            "ticks": ""
           }
          },
          "title": {
           "x": 0.05
          },
          "xaxis": {
           "automargin": true,
           "gridcolor": "white",
           "linecolor": "white",
           "ticks": "",
           "title": {
            "standoff": 15
           },
           "zerolinecolor": "white",
           "zerolinewidth": 2
          },
          "yaxis": {
           "automargin": true,
           "gridcolor": "white",
           "linecolor": "white",
           "ticks": "",
           "title": {
            "standoff": 15
           },
           "zerolinecolor": "white",
           "zerolinewidth": 2
          }
         }
        },
        "title": {
         "text": "Open Chromatin Weight: Gene Rank Distributions"
        },
        "xaxis": {
         "anchor": "y",
         "domain": [
          0,
          0.45
         ]
        },
        "xaxis2": {
         "anchor": "y2",
         "domain": [
          0.55,
          1
         ]
        },
        "yaxis": {
         "anchor": "x",
         "domain": [
          0,
          1
         ],
         "range": [
          0,
          950
         ]
        },
        "yaxis2": {
         "anchor": "x2",
         "domain": [
          0,
          1
         ],
         "range": [
          0,
          950
         ]
        }
       }
      }
     },
     "metadata": {},
     "output_type": "display_data"
    }
   ],
   "source": [
    "# Iterate through the recurrence scoring.\n",
    "\n",
    "# Define the colors\n",
    "colors = {\n",
    "    \"TERT\": {\n",
    "        1295228: \"red\",\n",
    "        1295250: \"blue\"\n",
    "    },\n",
    "    \"RALY\": {\n",
    "        32580927: \"green\"\n",
    "    },\n",
    "    \"CDC20\": {\n",
    "        43824529: \"yellow\"\n",
    "    }\n",
    "}\n",
    "\n",
    "# Load in the original scoring weights. These will be changed for each iteration.\n",
    "with open(\"../../examples/results/configuration_file.json\", \"r\") as f:\n",
    "    scoring_weights = json.load(f)\n",
    "    scoring_weights = scoring_weights[\"REMIND-Cancer_scoring_weights\"]\n",
    "\n",
    "# Iterate through the weight mapping and create subplots for each weight.\n",
    "figs = []\n",
    "for name in weight_mapping:\n",
    "    # Initialize the figure for the subplots.\n",
    "    fig = go.Figure()\n",
    "\n",
    "    # Initialize dictionaries to store means, medians, mins, and maxes for each gene and position.\n",
    "    means = {}\n",
    "    medians = {}\n",
    "    mins = {}\n",
    "    maxes = {}\n",
    "\n",
    "    # Iterate through the genes and positions of interest.\n",
    "    for gene, position, color in [\n",
    "        (\"TERT\", 1295228, \"red\"), \n",
    "        (\"TERT\", 1295250, \"blue\"), \n",
    "        (\"RALY\", 32580927, \"green\"), \n",
    "        (\"CDC20\", 43824529, \"yellow\")\n",
    "    ]:\n",
    "        # Initialize the dictionaries for each gene and position.\n",
    "        if gene not in means:\n",
    "            means[gene] = {}\n",
    "            medians[gene] = {}\n",
    "            mins[gene] = {}\n",
    "            maxes[gene] = {}\n",
    "        \n",
    "        if position not in means[gene]:\n",
    "            means[gene][position] = []\n",
    "            medians[gene][position] = []\n",
    "            mins[gene][position] = []\n",
    "            maxes[gene][position] = []\n",
    "\n",
    "        # Initialize the x-axis range, which is just the range of the weight.\n",
    "        x_axis_scoring_range = weight_mapping[name][\"range\"]\n",
    "\n",
    "        # Initialize the y-axis score list.\n",
    "        y_axis_score = []\n",
    "\n",
    "        # Iterate through the x-axis scoring range and calculate the scores.\n",
    "        for x in tqdm(x_axis_scoring_range, desc=f\"{name}: {gene} {position}\"):\n",
    "            # Create a temporary copy of the scoring weights to modify.\n",
    "            scoring_weights_temp = deepcopy(scoring_weights)\n",
    "\n",
    "            # Update the scoring weights with the current x value.\n",
    "            # Ex: scoring_weights_temp[\"genomic\"][\"recurrence\"][\"weight_per_recurrent_mutation\"] = 1\n",
    "            scoring_weights_temp[\n",
    "                weight_mapping[name][\"attribute\"][0]\n",
    "            ][\n",
    "                weight_mapping[name][\"attribute\"][1]\n",
    "            ][\n",
    "                weight_mapping[name][\"attribute\"][2]\n",
    "            ] = x\n",
    "\n",
    "            # Calculate the scores using the modified scoring weights.\n",
    "            data_temp = _add_remind_cancer_score(\n",
    "                dataframe=data.copy(),\n",
    "                remind_cancer_scoring_weights=scoring_weights_temp,\n",
    "                ge_column=\"FPKM_Z_score\"\n",
    "            )\n",
    "\n",
    "            # Since data_temp now has the new scores as `score_v2`, sort it.\n",
    "            data_temp = data_temp.sort_values(\"score_v2\", ascending=False, inplace=False)\n",
    "\n",
    "            # Reset the index of the data_temp DataFrame to have the ranks.\n",
    "            data_temp = data_temp.reset_index(drop=True)\n",
    "\n",
    "            # Get the median rank by filtering the data_temp DataFrame for the current gene and position and \n",
    "            # then getting the index, which represents the rank.\n",
    "            median = np.median(\n",
    "                list(\n",
    "                    data_temp[(data_temp[\"GENE\"] == gene) & (data_temp[\"POS\"] == position)].index\n",
    "                )\n",
    "            )\n",
    "\n",
    "            # Get the mean, min, and max ranks for the current gene and position with the same idea.\n",
    "            mean = np.mean(list(data_temp[(data_temp[\"GENE\"] == gene) & (data_temp[\"POS\"] == position)].index))\n",
    "            min = np.min(list(data_temp[(data_temp[\"GENE\"] == gene) & (data_temp[\"POS\"] == position)].index))\n",
    "            max = np.max(list(data_temp[(data_temp[\"GENE\"] == gene) & (data_temp[\"POS\"] == position)].index))\n",
    "\n",
    "            # Append the mean, median, min, and max ranks to the respective lists.\n",
    "            means[gene][position].append(mean)\n",
    "            medians[gene][position].append(median)\n",
    "            mins[gene][position].append(min)\n",
    "            maxes[gene][position].append(max)\n",
    "\n",
    "    ##### PLOTTING #######\n",
    "    # Define the 1x2 grid for the subplots.\n",
    "    fig = _create_min_and_median_plots(\n",
    "        medians=medians,\n",
    "        mins=mins,\n",
    "        name=name,\n",
    "        colors=colors,\n",
    "        weight_mapping=weight_mapping\n",
    "    )\n",
    "    fig.show()\n",
    "    figs.append(fig)"
   ]
  },
  {
   "cell_type": "code",
   "execution_count": 13,
   "id": "392e40df",
   "metadata": {},
   "outputs": [
    {
     "data": {
      "application/vnd.plotly.v1+json": {
       "config": {
        "plotlyServerURL": "https://plot.ly"
       },
       "data": [
        {
         "marker": {
          "color": "red",
          "size": 10
         },
         "mode": "lines",
         "name": "TERT 1295228",
         "type": "scatter",
         "x": {
          "bdata": "AAAAAAAA8D9BrV8pUOv3P4Jav1Kg1v8/4YMPPvjgA0CCWr9SoNYHQCIxb2dIzAtAwgcffPDBD0Ayb2dIzNsRQIJav1Kg1hNA0kUXXXTRFUAiMW9nSMwXQHIcx3EcxxlAwgcffPDBG0AS83aGxLwdQGPezpCYtx9A2mSTTTbZIECCWr9SoNYhQCpQ61cK1CJA0kUXXXTRI0B6O0Ni3s4kQCIxb2dIzCVAyiabbLLJJkByHMdxHMcnQBoS83aGxChAwgcffPDBKUBq/UqBWr8qQBLzdobEvCtAu+iiiy66LEBj3s6QmLctQAvU+pUCtS5As8kmm2yyL0CuXylQ61cwQIJav1Kg1jBAVlVVVVVVMUAqUOtXCtQxQP5KgVq/UjJA0kUXXXTRMkCmQK1fKVAzQHo7Q2LezjNATjbZZJNNNEAiMW9nSMw0QPYrBWr9SjVAyiabbLLJNUCeITFvZ0g2QHIcx3EcxzZARhdddNFFN0AaEvN2hsQ3QO4MiXk7QzhAwgcffPDBOECWArV+pUA5QGr9SoFavzlAPvjggw8+OkAS83aGxLw6QObtDIl5OztAu+iiiy66O0CP4ziO4zg8QGPezpCYtzxAN9lkk002PUAL1PqVArU9QN/OkJi3Mz5As8kmm2yyPkCHxLydITE/QFu/UqDWrz9AGF100UUXQECCWr9SoFZAQOxXCtT6lUBAVlVVVVXVQEDAUqDWrxRBQCpQ61cKVEFAlE022WSTQUD+SoFav9JBQGhIzNsZEkJA0kUXXXRRQkA8Q2LezpBCQKZArV8p0EJAED744IMPQ0B6O0Ni3k5DQOQ4juM4jkNATjbZZJPNQ0C4MyTm7QxEQCIxb2dITERAjC666KKLRED2KwVq/cpEQGApUOtXCkVAyiabbLJJRUA0JObtDIlFQJ4hMW9nyEVACB988MEHRkByHMdxHEdGQNwZEvN2hkZARhdddNHFRkCwFKj1KwVHQBoS83aGREdAhA8++OCDR0DuDIl5O8NHQFgK1PqVAkhAwgcffPBBSEAsBWr9SoFIQJYCtX6lwEhAAAAAAAAASUA=",
          "dtype": "f8"
         },
         "xaxis": "x",
         "y": [
          20.5,
          20.5,
          20.5,
          20.5,
          20.5,
          21.5,
          21.5,
          21.5,
          22,
          22.5,
          22.5,
          22.5,
          22.5,
          22.5,
          22.5,
          22.5,
          23.5,
          24.5,
          24.5,
          24.5,
          25.5,
          26.5,
          27.5,
          27.5,
          27.5,
          27.5,
          28.5,
          30.5,
          31.5,
          31.5,
          32.5,
          33.5,
          35.5,
          36.5,
          39.5,
          43.5,
          47.5,
          50.5,
          52,
          55.5,
          62.5,
          65.5,
          69.5,
          75,
          78,
          86,
          91.5,
          100,
          111,
          121.5,
          128.5,
          138.5,
          148.5,
          163,
          170,
          186,
          200.5,
          213,
          229,
          248.5,
          280.5,
          309.5,
          326,
          346,
          373.5,
          400,
          426,
          458.5,
          505.5,
          531.5,
          561.5,
          600.5,
          641.5,
          679.5,
          727.5,
          776.5,
          827.5,
          900,
          910.5,
          910.5,
          910.5,
          910.5,
          910.5,
          910.5,
          910.5,
          910.5,
          910.5,
          910.5,
          910.5,
          910.5,
          910.5,
          910.5,
          910.5,
          910.5,
          910.5,
          910.5,
          910.5,
          910.5,
          910.5,
          910.5
         ],
         "yaxis": "y"
        },
        {
         "marker": {
          "color": "red",
          "size": 10
         },
         "mode": "lines",
         "name": "TERT 1295228",
         "showlegend": false,
         "type": "scatter",
         "x": {
          "bdata": "AAAAAAAA8D9BrV8pUOv3P4Jav1Kg1v8/4YMPPvjgA0CCWr9SoNYHQCIxb2dIzAtAwgcffPDBD0Ayb2dIzNsRQIJav1Kg1hNA0kUXXXTRFUAiMW9nSMwXQHIcx3EcxxlAwgcffPDBG0AS83aGxLwdQGPezpCYtx9A2mSTTTbZIECCWr9SoNYhQCpQ61cK1CJA0kUXXXTRI0B6O0Ni3s4kQCIxb2dIzCVAyiabbLLJJkByHMdxHMcnQBoS83aGxChAwgcffPDBKUBq/UqBWr8qQBLzdobEvCtAu+iiiy66LEBj3s6QmLctQAvU+pUCtS5As8kmm2yyL0CuXylQ61cwQIJav1Kg1jBAVlVVVVVVMUAqUOtXCtQxQP5KgVq/UjJA0kUXXXTRMkCmQK1fKVAzQHo7Q2LezjNATjbZZJNNNEAiMW9nSMw0QPYrBWr9SjVAyiabbLLJNUCeITFvZ0g2QHIcx3EcxzZARhdddNFFN0AaEvN2hsQ3QO4MiXk7QzhAwgcffPDBOECWArV+pUA5QGr9SoFavzlAPvjggw8+OkAS83aGxLw6QObtDIl5OztAu+iiiy66O0CP4ziO4zg8QGPezpCYtzxAN9lkk002PUAL1PqVArU9QN/OkJi3Mz5As8kmm2yyPkCHxLydITE/QFu/UqDWrz9AGF100UUXQECCWr9SoFZAQOxXCtT6lUBAVlVVVVXVQEDAUqDWrxRBQCpQ61cKVEFAlE022WSTQUD+SoFav9JBQGhIzNsZEkJA0kUXXXRRQkA8Q2LezpBCQKZArV8p0EJAED744IMPQ0B6O0Ni3k5DQOQ4juM4jkNATjbZZJPNQ0C4MyTm7QxEQCIxb2dITERAjC666KKLRED2KwVq/cpEQGApUOtXCkVAyiabbLJJRUA0JObtDIlFQJ4hMW9nyEVACB988MEHRkByHMdxHEdGQNwZEvN2hkZARhdddNHFRkCwFKj1KwVHQBoS83aGREdAhA8++OCDR0DuDIl5O8NHQFgK1PqVAkhAwgcffPBBSEAsBWr9SoFIQJYCtX6lwEhAAAAAAAAASUA=",
          "dtype": "f8"
         },
         "xaxis": "x2",
         "y": [
          0,
          0,
          0,
          0,
          0,
          0,
          0,
          0,
          0,
          0,
          0,
          0,
          0,
          0,
          0,
          0,
          0,
          0,
          0,
          0,
          0,
          0,
          0,
          0,
          0,
          2,
          2,
          2,
          2,
          2,
          2,
          2,
          2,
          2,
          2,
          2,
          3,
          3,
          3,
          4,
          4,
          4,
          4,
          4,
          4,
          4,
          4,
          5,
          6,
          6,
          7,
          7,
          8,
          9,
          9,
          9,
          9,
          10,
          13,
          13,
          13,
          14,
          16,
          17,
          19,
          23,
          27,
          30,
          32,
          34,
          41,
          46,
          47,
          52,
          59,
          60,
          69,
          74,
          88,
          96,
          105,
          114,
          125,
          132,
          147,
          157,
          173,
          185,
          201,
          216,
          245,
          272,
          295,
          316,
          342,
          366,
          388,
          421,
          472,
          498
         ],
         "yaxis": "y2"
        },
        {
         "marker": {
          "color": "blue",
          "size": 10
         },
         "mode": "lines",
         "name": "TERT 1295250",
         "type": "scatter",
         "x": {
          "bdata": "AAAAAAAA8D9BrV8pUOv3P4Jav1Kg1v8/4YMPPvjgA0CCWr9SoNYHQCIxb2dIzAtAwgcffPDBD0Ayb2dIzNsRQIJav1Kg1hNA0kUXXXTRFUAiMW9nSMwXQHIcx3EcxxlAwgcffPDBG0AS83aGxLwdQGPezpCYtx9A2mSTTTbZIECCWr9SoNYhQCpQ61cK1CJA0kUXXXTRI0B6O0Ni3s4kQCIxb2dIzCVAyiabbLLJJkByHMdxHMcnQBoS83aGxChAwgcffPDBKUBq/UqBWr8qQBLzdobEvCtAu+iiiy66LEBj3s6QmLctQAvU+pUCtS5As8kmm2yyL0CuXylQ61cwQIJav1Kg1jBAVlVVVVVVMUAqUOtXCtQxQP5KgVq/UjJA0kUXXXTRMkCmQK1fKVAzQHo7Q2LezjNATjbZZJNNNEAiMW9nSMw0QPYrBWr9SjVAyiabbLLJNUCeITFvZ0g2QHIcx3EcxzZARhdddNFFN0AaEvN2hsQ3QO4MiXk7QzhAwgcffPDBOECWArV+pUA5QGr9SoFavzlAPvjggw8+OkAS83aGxLw6QObtDIl5OztAu+iiiy66O0CP4ziO4zg8QGPezpCYtzxAN9lkk002PUAL1PqVArU9QN/OkJi3Mz5As8kmm2yyPkCHxLydITE/QFu/UqDWrz9AGF100UUXQECCWr9SoFZAQOxXCtT6lUBAVlVVVVXVQEDAUqDWrxRBQCpQ61cKVEFAlE022WSTQUD+SoFav9JBQGhIzNsZEkJA0kUXXXRRQkA8Q2LezpBCQKZArV8p0EJAED744IMPQ0B6O0Ni3k5DQOQ4juM4jkNATjbZZJPNQ0C4MyTm7QxEQCIxb2dITERAjC666KKLRED2KwVq/cpEQGApUOtXCkVAyiabbLJJRUA0JObtDIlFQJ4hMW9nyEVACB988MEHRkByHMdxHEdGQNwZEvN2hkZARhdddNHFRkCwFKj1KwVHQBoS83aGREdAhA8++OCDR0DuDIl5O8NHQFgK1PqVAkhAwgcffPBBSEAsBWr9SoFIQJYCtX6lwEhAAAAAAAAASUA=",
          "dtype": "f8"
         },
         "xaxis": "x",
         "y": [
          21,
          21,
          21,
          21,
          21,
          22,
          22,
          22,
          22,
          23,
          23,
          23,
          23,
          23,
          23,
          23,
          24,
          25,
          25,
          25,
          26,
          27,
          28,
          28,
          28,
          28,
          29,
          32,
          32,
          32,
          33,
          34,
          36,
          38,
          40,
          45,
          49,
          51,
          52,
          57,
          63,
          66,
          71,
          76,
          78,
          86,
          92,
          95,
          113,
          122,
          129,
          138,
          149,
          164,
          171,
          187,
          201,
          213,
          230,
          247,
          280,
          309,
          326,
          347,
          376,
          402,
          423,
          460,
          505,
          530,
          564,
          603,
          641,
          679,
          728,
          777,
          826,
          897,
          911,
          911,
          911,
          911,
          911,
          911,
          911,
          911,
          911,
          911,
          911,
          911,
          911,
          911,
          911,
          911,
          911,
          911,
          911,
          911,
          911,
          911
         ],
         "yaxis": "y"
        },
        {
         "marker": {
          "color": "blue",
          "size": 10
         },
         "mode": "lines",
         "name": "TERT 1295250",
         "showlegend": false,
         "type": "scatter",
         "x": {
          "bdata": "AAAAAAAA8D9BrV8pUOv3P4Jav1Kg1v8/4YMPPvjgA0CCWr9SoNYHQCIxb2dIzAtAwgcffPDBD0Ayb2dIzNsRQIJav1Kg1hNA0kUXXXTRFUAiMW9nSMwXQHIcx3EcxxlAwgcffPDBG0AS83aGxLwdQGPezpCYtx9A2mSTTTbZIECCWr9SoNYhQCpQ61cK1CJA0kUXXXTRI0B6O0Ni3s4kQCIxb2dIzCVAyiabbLLJJkByHMdxHMcnQBoS83aGxChAwgcffPDBKUBq/UqBWr8qQBLzdobEvCtAu+iiiy66LEBj3s6QmLctQAvU+pUCtS5As8kmm2yyL0CuXylQ61cwQIJav1Kg1jBAVlVVVVVVMUAqUOtXCtQxQP5KgVq/UjJA0kUXXXTRMkCmQK1fKVAzQHo7Q2LezjNATjbZZJNNNEAiMW9nSMw0QPYrBWr9SjVAyiabbLLJNUCeITFvZ0g2QHIcx3EcxzZARhdddNFFN0AaEvN2hsQ3QO4MiXk7QzhAwgcffPDBOECWArV+pUA5QGr9SoFavzlAPvjggw8+OkAS83aGxLw6QObtDIl5OztAu+iiiy66O0CP4ziO4zg8QGPezpCYtzxAN9lkk002PUAL1PqVArU9QN/OkJi3Mz5As8kmm2yyPkCHxLydITE/QFu/UqDWrz9AGF100UUXQECCWr9SoFZAQOxXCtT6lUBAVlVVVVXVQEDAUqDWrxRBQCpQ61cKVEFAlE022WSTQUD+SoFav9JBQGhIzNsZEkJA0kUXXXRRQkA8Q2LezpBCQKZArV8p0EJAED744IMPQ0B6O0Ni3k5DQOQ4juM4jkNATjbZZJPNQ0C4MyTm7QxEQCIxb2dITERAjC666KKLRED2KwVq/cpEQGApUOtXCkVAyiabbLJJRUA0JObtDIlFQJ4hMW9nyEVACB988MEHRkByHMdxHEdGQNwZEvN2hkZARhdddNHFRkCwFKj1KwVHQBoS83aGREdAhA8++OCDR0DuDIl5O8NHQFgK1PqVAkhAwgcffPBBSEAsBWr9SoFIQJYCtX6lwEhAAAAAAAAASUA=",
          "dtype": "f8"
         },
         "xaxis": "x2",
         "y": [
          12,
          12,
          12,
          12,
          12,
          12,
          12,
          12,
          12,
          12,
          13,
          13,
          13,
          13,
          14,
          14,
          14,
          14,
          14,
          14,
          14,
          15,
          16,
          16,
          16,
          17,
          18,
          19,
          19,
          19,
          19,
          20,
          22,
          23,
          23,
          24,
          25,
          27,
          29,
          30,
          36,
          40,
          42,
          43,
          48,
          53,
          57,
          62,
          64,
          69,
          77,
          83,
          86,
          103,
          112,
          120,
          128,
          140,
          155,
          161,
          177,
          192,
          204,
          221,
          236,
          271,
          300,
          317,
          338,
          364,
          391,
          414,
          451,
          496,
          521,
          554,
          591,
          631,
          670,
          716,
          767,
          816,
          885,
          902,
          902,
          902,
          902,
          902,
          902,
          902,
          902,
          902,
          902,
          902,
          902,
          902,
          902,
          902,
          902,
          902
         ],
         "yaxis": "y2"
        },
        {
         "marker": {
          "color": "green",
          "size": 10
         },
         "mode": "lines",
         "name": "RALY 32580927",
         "type": "scatter",
         "x": {
          "bdata": "AAAAAAAA8D9BrV8pUOv3P4Jav1Kg1v8/4YMPPvjgA0CCWr9SoNYHQCIxb2dIzAtAwgcffPDBD0Ayb2dIzNsRQIJav1Kg1hNA0kUXXXTRFUAiMW9nSMwXQHIcx3EcxxlAwgcffPDBG0AS83aGxLwdQGPezpCYtx9A2mSTTTbZIECCWr9SoNYhQCpQ61cK1CJA0kUXXXTRI0B6O0Ni3s4kQCIxb2dIzCVAyiabbLLJJkByHMdxHMcnQBoS83aGxChAwgcffPDBKUBq/UqBWr8qQBLzdobEvCtAu+iiiy66LEBj3s6QmLctQAvU+pUCtS5As8kmm2yyL0CuXylQ61cwQIJav1Kg1jBAVlVVVVVVMUAqUOtXCtQxQP5KgVq/UjJA0kUXXXTRMkCmQK1fKVAzQHo7Q2LezjNATjbZZJNNNEAiMW9nSMw0QPYrBWr9SjVAyiabbLLJNUCeITFvZ0g2QHIcx3EcxzZARhdddNFFN0AaEvN2hsQ3QO4MiXk7QzhAwgcffPDBOECWArV+pUA5QGr9SoFavzlAPvjggw8+OkAS83aGxLw6QObtDIl5OztAu+iiiy66O0CP4ziO4zg8QGPezpCYtzxAN9lkk002PUAL1PqVArU9QN/OkJi3Mz5As8kmm2yyPkCHxLydITE/QFu/UqDWrz9AGF100UUXQECCWr9SoFZAQOxXCtT6lUBAVlVVVVXVQEDAUqDWrxRBQCpQ61cKVEFAlE022WSTQUD+SoFav9JBQGhIzNsZEkJA0kUXXXRRQkA8Q2LezpBCQKZArV8p0EJAED744IMPQ0B6O0Ni3k5DQOQ4juM4jkNATjbZZJPNQ0C4MyTm7QxEQCIxb2dITERAjC666KKLRED2KwVq/cpEQGApUOtXCkVAyiabbLJJRUA0JObtDIlFQJ4hMW9nyEVACB988MEHRkByHMdxHEdGQNwZEvN2hkZARhdddNHFRkCwFKj1KwVHQBoS83aGREdAhA8++OCDR0DuDIl5O8NHQFgK1PqVAkhAwgcffPBBSEAsBWr9SoFIQJYCtX6lwEhAAAAAAAAASUA=",
          "dtype": "f8"
         },
         "xaxis": "x",
         "y": [
          255.5,
          255.5,
          255.5,
          255.5,
          254.5,
          249,
          244.5,
          243,
          240.5,
          239.5,
          234.5,
          232,
          230,
          229,
          227.5,
          227,
          227,
          226.5,
          226,
          225.5,
          224,
          223.5,
          219.5,
          213,
          211.5,
          207,
          206,
          201.5,
          199.5,
          195,
          194.5,
          192,
          191,
          191,
          190,
          189,
          187.5,
          186,
          186,
          184.5,
          182,
          180.5,
          177,
          174.5,
          173.5,
          173,
          172.5,
          171.5,
          171,
          170.5,
          170,
          169,
          168.5,
          168,
          167.5,
          167.5,
          166.5,
          165.5,
          163,
          161.5,
          158.5,
          157.5,
          156.5,
          156,
          155,
          154,
          154,
          154,
          153,
          152.5,
          152,
          152,
          152,
          151,
          151,
          151,
          151,
          151,
          151,
          151,
          150,
          149.5,
          149,
          149,
          149,
          148.5,
          148.5,
          148.5,
          148,
          148,
          147.5,
          147.5,
          147.5,
          147.5,
          147.5,
          147.5,
          147.5,
          147.5,
          147.5,
          147.5
         ],
         "yaxis": "y"
        },
        {
         "marker": {
          "color": "green",
          "size": 10
         },
         "mode": "lines",
         "name": "RALY 32580927",
         "showlegend": false,
         "type": "scatter",
         "x": {
          "bdata": "AAAAAAAA8D9BrV8pUOv3P4Jav1Kg1v8/4YMPPvjgA0CCWr9SoNYHQCIxb2dIzAtAwgcffPDBD0Ayb2dIzNsRQIJav1Kg1hNA0kUXXXTRFUAiMW9nSMwXQHIcx3EcxxlAwgcffPDBG0AS83aGxLwdQGPezpCYtx9A2mSTTTbZIECCWr9SoNYhQCpQ61cK1CJA0kUXXXTRI0B6O0Ni3s4kQCIxb2dIzCVAyiabbLLJJkByHMdxHMcnQBoS83aGxChAwgcffPDBKUBq/UqBWr8qQBLzdobEvCtAu+iiiy66LEBj3s6QmLctQAvU+pUCtS5As8kmm2yyL0CuXylQ61cwQIJav1Kg1jBAVlVVVVVVMUAqUOtXCtQxQP5KgVq/UjJA0kUXXXTRMkCmQK1fKVAzQHo7Q2LezjNATjbZZJNNNEAiMW9nSMw0QPYrBWr9SjVAyiabbLLJNUCeITFvZ0g2QHIcx3EcxzZARhdddNFFN0AaEvN2hsQ3QO4MiXk7QzhAwgcffPDBOECWArV+pUA5QGr9SoFavzlAPvjggw8+OkAS83aGxLw6QObtDIl5OztAu+iiiy66O0CP4ziO4zg8QGPezpCYtzxAN9lkk002PUAL1PqVArU9QN/OkJi3Mz5As8kmm2yyPkCHxLydITE/QFu/UqDWrz9AGF100UUXQECCWr9SoFZAQOxXCtT6lUBAVlVVVVXVQEDAUqDWrxRBQCpQ61cKVEFAlE022WSTQUD+SoFav9JBQGhIzNsZEkJA0kUXXXRRQkA8Q2LezpBCQKZArV8p0EJAED744IMPQ0B6O0Ni3k5DQOQ4juM4jkNATjbZZJPNQ0C4MyTm7QxEQCIxb2dITERAjC666KKLRED2KwVq/cpEQGApUOtXCkVAyiabbLJJRUA0JObtDIlFQJ4hMW9nyEVACB988MEHRkByHMdxHEdGQNwZEvN2hkZARhdddNHFRkCwFKj1KwVHQBoS83aGREdAhA8++OCDR0DuDIl5O8NHQFgK1PqVAkhAwgcffPBBSEAsBWr9SoFIQJYCtX6lwEhAAAAAAAAASUA=",
          "dtype": "f8"
         },
         "xaxis": "x2",
         "y": [
          153,
          153,
          152,
          146,
          133,
          131,
          125,
          123,
          113,
          110,
          102,
          101,
          98,
          96,
          96,
          96,
          95,
          93,
          90,
          90,
          88,
          88,
          88,
          85,
          84,
          84,
          84,
          83,
          83,
          81,
          81,
          81,
          79,
          79,
          78,
          77,
          77,
          76,
          73,
          69,
          66,
          60,
          58,
          57,
          57,
          56,
          55,
          55,
          55,
          54,
          53,
          53,
          53,
          53,
          52,
          52,
          52,
          52,
          52,
          52,
          52,
          50,
          49,
          48,
          48,
          48,
          47,
          47,
          46,
          46,
          46,
          45,
          45,
          45,
          45,
          45,
          45,
          45,
          45,
          45,
          45,
          45,
          45,
          45,
          45,
          45,
          45,
          45,
          45,
          45,
          45,
          45,
          45,
          45,
          45,
          45,
          45,
          45,
          45,
          45
         ],
         "yaxis": "y2"
        },
        {
         "marker": {
          "color": "yellow",
          "size": 10
         },
         "mode": "lines",
         "name": "CDC20 43824529",
         "type": "scatter",
         "x": {
          "bdata": "AAAAAAAA8D9BrV8pUOv3P4Jav1Kg1v8/4YMPPvjgA0CCWr9SoNYHQCIxb2dIzAtAwgcffPDBD0Ayb2dIzNsRQIJav1Kg1hNA0kUXXXTRFUAiMW9nSMwXQHIcx3EcxxlAwgcffPDBG0AS83aGxLwdQGPezpCYtx9A2mSTTTbZIECCWr9SoNYhQCpQ61cK1CJA0kUXXXTRI0B6O0Ni3s4kQCIxb2dIzCVAyiabbLLJJkByHMdxHMcnQBoS83aGxChAwgcffPDBKUBq/UqBWr8qQBLzdobEvCtAu+iiiy66LEBj3s6QmLctQAvU+pUCtS5As8kmm2yyL0CuXylQ61cwQIJav1Kg1jBAVlVVVVVVMUAqUOtXCtQxQP5KgVq/UjJA0kUXXXTRMkCmQK1fKVAzQHo7Q2LezjNATjbZZJNNNEAiMW9nSMw0QPYrBWr9SjVAyiabbLLJNUCeITFvZ0g2QHIcx3EcxzZARhdddNFFN0AaEvN2hsQ3QO4MiXk7QzhAwgcffPDBOECWArV+pUA5QGr9SoFavzlAPvjggw8+OkAS83aGxLw6QObtDIl5OztAu+iiiy66O0CP4ziO4zg8QGPezpCYtzxAN9lkk002PUAL1PqVArU9QN/OkJi3Mz5As8kmm2yyPkCHxLydITE/QFu/UqDWrz9AGF100UUXQECCWr9SoFZAQOxXCtT6lUBAVlVVVVXVQEDAUqDWrxRBQCpQ61cKVEFAlE022WSTQUD+SoFav9JBQGhIzNsZEkJA0kUXXXRRQkA8Q2LezpBCQKZArV8p0EJAED744IMPQ0B6O0Ni3k5DQOQ4juM4jkNATjbZZJPNQ0C4MyTm7QxEQCIxb2dITERAjC666KKLRED2KwVq/cpEQGApUOtXCkVAyiabbLJJRUA0JObtDIlFQJ4hMW9nyEVACB988MEHRkByHMdxHEdGQNwZEvN2hkZARhdddNHFRkCwFKj1KwVHQBoS83aGREdAhA8++OCDR0DuDIl5O8NHQFgK1PqVAkhAwgcffPBBSEAsBWr9SoFIQJYCtX6lwEhAAAAAAAAASUA=",
          "dtype": "f8"
         },
         "xaxis": "x",
         "y": [
          47,
          47,
          48,
          49,
          50,
          50,
          50,
          50,
          51,
          52,
          54,
          54,
          54,
          56,
          58,
          58,
          61,
          65,
          69,
          73,
          74,
          75,
          84,
          88,
          91,
          95,
          100,
          108,
          113,
          116,
          132,
          143,
          150,
          158,
          170,
          184,
          192,
          205,
          221,
          233,
          249,
          266,
          300,
          330,
          343,
          366,
          392,
          419,
          440,
          473,
          525,
          548,
          582,
          615,
          657,
          694,
          742,
          790,
          839,
          912,
          933,
          933,
          933,
          933,
          933,
          933,
          933,
          933,
          933,
          933,
          933,
          933,
          933,
          933,
          933,
          933,
          933,
          933,
          933,
          933,
          933,
          933,
          933,
          933,
          933,
          933,
          933,
          933,
          933,
          933,
          933,
          933,
          933,
          933,
          933,
          933,
          933,
          933,
          933,
          933
         ],
         "yaxis": "y"
        },
        {
         "marker": {
          "color": "yellow",
          "size": 10
         },
         "mode": "lines",
         "name": "CDC20 43824529",
         "showlegend": false,
         "type": "scatter",
         "x": {
          "bdata": "AAAAAAAA8D9BrV8pUOv3P4Jav1Kg1v8/4YMPPvjgA0CCWr9SoNYHQCIxb2dIzAtAwgcffPDBD0Ayb2dIzNsRQIJav1Kg1hNA0kUXXXTRFUAiMW9nSMwXQHIcx3EcxxlAwgcffPDBG0AS83aGxLwdQGPezpCYtx9A2mSTTTbZIECCWr9SoNYhQCpQ61cK1CJA0kUXXXTRI0B6O0Ni3s4kQCIxb2dIzCVAyiabbLLJJkByHMdxHMcnQBoS83aGxChAwgcffPDBKUBq/UqBWr8qQBLzdobEvCtAu+iiiy66LEBj3s6QmLctQAvU+pUCtS5As8kmm2yyL0CuXylQ61cwQIJav1Kg1jBAVlVVVVVVMUAqUOtXCtQxQP5KgVq/UjJA0kUXXXTRMkCmQK1fKVAzQHo7Q2LezjNATjbZZJNNNEAiMW9nSMw0QPYrBWr9SjVAyiabbLLJNUCeITFvZ0g2QHIcx3EcxzZARhdddNFFN0AaEvN2hsQ3QO4MiXk7QzhAwgcffPDBOECWArV+pUA5QGr9SoFavzlAPvjggw8+OkAS83aGxLw6QObtDIl5OztAu+iiiy66O0CP4ziO4zg8QGPezpCYtzxAN9lkk002PUAL1PqVArU9QN/OkJi3Mz5As8kmm2yyPkCHxLydITE/QFu/UqDWrz9AGF100UUXQECCWr9SoFZAQOxXCtT6lUBAVlVVVVXVQEDAUqDWrxRBQCpQ61cKVEFAlE022WSTQUD+SoFav9JBQGhIzNsZEkJA0kUXXXRRQkA8Q2LezpBCQKZArV8p0EJAED744IMPQ0B6O0Ni3k5DQOQ4juM4jkNATjbZZJPNQ0C4MyTm7QxEQCIxb2dITERAjC666KKLRED2KwVq/cpEQGApUOtXCkVAyiabbLJJRUA0JObtDIlFQJ4hMW9nyEVACB988MEHRkByHMdxHEdGQNwZEvN2hkZARhdddNHFRkCwFKj1KwVHQBoS83aGREdAhA8++OCDR0DuDIl5O8NHQFgK1PqVAkhAwgcffPBBSEAsBWr9SoFIQJYCtX6lwEhAAAAAAAAASUA=",
          "dtype": "f8"
         },
         "xaxis": "x2",
         "y": [
          47,
          47,
          48,
          49,
          50,
          50,
          50,
          50,
          51,
          52,
          54,
          54,
          54,
          56,
          58,
          58,
          61,
          65,
          69,
          73,
          74,
          75,
          84,
          88,
          91,
          95,
          100,
          108,
          113,
          116,
          132,
          143,
          150,
          158,
          170,
          184,
          192,
          205,
          221,
          233,
          249,
          266,
          300,
          330,
          343,
          366,
          392,
          419,
          440,
          473,
          525,
          548,
          582,
          615,
          657,
          694,
          742,
          790,
          839,
          912,
          933,
          933,
          933,
          933,
          933,
          933,
          933,
          933,
          933,
          933,
          933,
          933,
          933,
          933,
          933,
          933,
          933,
          933,
          933,
          933,
          933,
          933,
          933,
          933,
          933,
          933,
          933,
          933,
          933,
          933,
          933,
          933,
          933,
          933,
          933,
          933,
          933,
          933,
          933,
          933
         ],
         "yaxis": "y2"
        }
       ],
       "layout": {
        "annotations": [
         {
          "font": {
           "size": 16
          },
          "showarrow": false,
          "text": "Min Rank",
          "x": 0.225,
          "xanchor": "center",
          "xref": "paper",
          "y": 1,
          "yanchor": "bottom",
          "yref": "paper"
         },
         {
          "font": {
           "size": 16
          },
          "showarrow": false,
          "text": "Median Rank",
          "x": 0.775,
          "xanchor": "center",
          "xref": "paper",
          "y": 1,
          "yanchor": "bottom",
          "yref": "paper"
         }
        ],
        "shapes": [
         {
          "line": {
           "color": "black",
           "dash": "dash",
           "width": 2
          },
          "type": "line",
          "x0": 20,
          "x1": 20,
          "xref": "x",
          "y0": 0,
          "y1": 1,
          "yref": "y domain"
         },
         {
          "line": {
           "color": "black",
           "dash": "dash",
           "width": 2
          },
          "type": "line",
          "x0": 20,
          "x1": 20,
          "xref": "x2",
          "y0": 0,
          "y1": 1,
          "yref": "y2 domain"
         }
        ],
        "template": {
         "data": {
          "bar": [
           {
            "error_x": {
             "color": "#2a3f5f"
            },
            "error_y": {
             "color": "#2a3f5f"
            },
            "marker": {
             "line": {
              "color": "#E5ECF6",
              "width": 0.5
             },
             "pattern": {
              "fillmode": "overlay",
              "size": 10,
              "solidity": 0.2
             }
            },
            "type": "bar"
           }
          ],
          "barpolar": [
           {
            "marker": {
             "line": {
              "color": "#E5ECF6",
              "width": 0.5
             },
             "pattern": {
              "fillmode": "overlay",
              "size": 10,
              "solidity": 0.2
             }
            },
            "type": "barpolar"
           }
          ],
          "carpet": [
           {
            "aaxis": {
             "endlinecolor": "#2a3f5f",
             "gridcolor": "white",
             "linecolor": "white",
             "minorgridcolor": "white",
             "startlinecolor": "#2a3f5f"
            },
            "baxis": {
             "endlinecolor": "#2a3f5f",
             "gridcolor": "white",
             "linecolor": "white",
             "minorgridcolor": "white",
             "startlinecolor": "#2a3f5f"
            },
            "type": "carpet"
           }
          ],
          "choropleth": [
           {
            "colorbar": {
             "outlinewidth": 0,
             "ticks": ""
            },
            "type": "choropleth"
           }
          ],
          "contour": [
           {
            "colorbar": {
             "outlinewidth": 0,
             "ticks": ""
            },
            "colorscale": [
             [
              0,
              "#0d0887"
             ],
             [
              0.1111111111111111,
              "#46039f"
             ],
             [
              0.2222222222222222,
              "#7201a8"
             ],
             [
              0.3333333333333333,
              "#9c179e"
             ],
             [
              0.4444444444444444,
              "#bd3786"
             ],
             [
              0.5555555555555556,
              "#d8576b"
             ],
             [
              0.6666666666666666,
              "#ed7953"
             ],
             [
              0.7777777777777778,
              "#fb9f3a"
             ],
             [
              0.8888888888888888,
              "#fdca26"
             ],
             [
              1,
              "#f0f921"
             ]
            ],
            "type": "contour"
           }
          ],
          "contourcarpet": [
           {
            "colorbar": {
             "outlinewidth": 0,
             "ticks": ""
            },
            "type": "contourcarpet"
           }
          ],
          "heatmap": [
           {
            "colorbar": {
             "outlinewidth": 0,
             "ticks": ""
            },
            "colorscale": [
             [
              0,
              "#0d0887"
             ],
             [
              0.1111111111111111,
              "#46039f"
             ],
             [
              0.2222222222222222,
              "#7201a8"
             ],
             [
              0.3333333333333333,
              "#9c179e"
             ],
             [
              0.4444444444444444,
              "#bd3786"
             ],
             [
              0.5555555555555556,
              "#d8576b"
             ],
             [
              0.6666666666666666,
              "#ed7953"
             ],
             [
              0.7777777777777778,
              "#fb9f3a"
             ],
             [
              0.8888888888888888,
              "#fdca26"
             ],
             [
              1,
              "#f0f921"
             ]
            ],
            "type": "heatmap"
           }
          ],
          "histogram": [
           {
            "marker": {
             "pattern": {
              "fillmode": "overlay",
              "size": 10,
              "solidity": 0.2
             }
            },
            "type": "histogram"
           }
          ],
          "histogram2d": [
           {
            "colorbar": {
             "outlinewidth": 0,
             "ticks": ""
            },
            "colorscale": [
             [
              0,
              "#0d0887"
             ],
             [
              0.1111111111111111,
              "#46039f"
             ],
             [
              0.2222222222222222,
              "#7201a8"
             ],
             [
              0.3333333333333333,
              "#9c179e"
             ],
             [
              0.4444444444444444,
              "#bd3786"
             ],
             [
              0.5555555555555556,
              "#d8576b"
             ],
             [
              0.6666666666666666,
              "#ed7953"
             ],
             [
              0.7777777777777778,
              "#fb9f3a"
             ],
             [
              0.8888888888888888,
              "#fdca26"
             ],
             [
              1,
              "#f0f921"
             ]
            ],
            "type": "histogram2d"
           }
          ],
          "histogram2dcontour": [
           {
            "colorbar": {
             "outlinewidth": 0,
             "ticks": ""
            },
            "colorscale": [
             [
              0,
              "#0d0887"
             ],
             [
              0.1111111111111111,
              "#46039f"
             ],
             [
              0.2222222222222222,
              "#7201a8"
             ],
             [
              0.3333333333333333,
              "#9c179e"
             ],
             [
              0.4444444444444444,
              "#bd3786"
             ],
             [
              0.5555555555555556,
              "#d8576b"
             ],
             [
              0.6666666666666666,
              "#ed7953"
             ],
             [
              0.7777777777777778,
              "#fb9f3a"
             ],
             [
              0.8888888888888888,
              "#fdca26"
             ],
             [
              1,
              "#f0f921"
             ]
            ],
            "type": "histogram2dcontour"
           }
          ],
          "mesh3d": [
           {
            "colorbar": {
             "outlinewidth": 0,
             "ticks": ""
            },
            "type": "mesh3d"
           }
          ],
          "parcoords": [
           {
            "line": {
             "colorbar": {
              "outlinewidth": 0,
              "ticks": ""
             }
            },
            "type": "parcoords"
           }
          ],
          "pie": [
           {
            "automargin": true,
            "type": "pie"
           }
          ],
          "scatter": [
           {
            "fillpattern": {
             "fillmode": "overlay",
             "size": 10,
             "solidity": 0.2
            },
            "type": "scatter"
           }
          ],
          "scatter3d": [
           {
            "line": {
             "colorbar": {
              "outlinewidth": 0,
              "ticks": ""
             }
            },
            "marker": {
             "colorbar": {
              "outlinewidth": 0,
              "ticks": ""
             }
            },
            "type": "scatter3d"
           }
          ],
          "scattercarpet": [
           {
            "marker": {
             "colorbar": {
              "outlinewidth": 0,
              "ticks": ""
             }
            },
            "type": "scattercarpet"
           }
          ],
          "scattergeo": [
           {
            "marker": {
             "colorbar": {
              "outlinewidth": 0,
              "ticks": ""
             }
            },
            "type": "scattergeo"
           }
          ],
          "scattergl": [
           {
            "marker": {
             "colorbar": {
              "outlinewidth": 0,
              "ticks": ""
             }
            },
            "type": "scattergl"
           }
          ],
          "scattermap": [
           {
            "marker": {
             "colorbar": {
              "outlinewidth": 0,
              "ticks": ""
             }
            },
            "type": "scattermap"
           }
          ],
          "scattermapbox": [
           {
            "marker": {
             "colorbar": {
              "outlinewidth": 0,
              "ticks": ""
             }
            },
            "type": "scattermapbox"
           }
          ],
          "scatterpolar": [
           {
            "marker": {
             "colorbar": {
              "outlinewidth": 0,
              "ticks": ""
             }
            },
            "type": "scatterpolar"
           }
          ],
          "scatterpolargl": [
           {
            "marker": {
             "colorbar": {
              "outlinewidth": 0,
              "ticks": ""
             }
            },
            "type": "scatterpolargl"
           }
          ],
          "scatterternary": [
           {
            "marker": {
             "colorbar": {
              "outlinewidth": 0,
              "ticks": ""
             }
            },
            "type": "scatterternary"
           }
          ],
          "surface": [
           {
            "colorbar": {
             "outlinewidth": 0,
             "ticks": ""
            },
            "colorscale": [
             [
              0,
              "#0d0887"
             ],
             [
              0.1111111111111111,
              "#46039f"
             ],
             [
              0.2222222222222222,
              "#7201a8"
             ],
             [
              0.3333333333333333,
              "#9c179e"
             ],
             [
              0.4444444444444444,
              "#bd3786"
             ],
             [
              0.5555555555555556,
              "#d8576b"
             ],
             [
              0.6666666666666666,
              "#ed7953"
             ],
             [
              0.7777777777777778,
              "#fb9f3a"
             ],
             [
              0.8888888888888888,
              "#fdca26"
             ],
             [
              1,
              "#f0f921"
             ]
            ],
            "type": "surface"
           }
          ],
          "table": [
           {
            "cells": {
             "fill": {
              "color": "#EBF0F8"
             },
             "line": {
              "color": "white"
             }
            },
            "header": {
             "fill": {
              "color": "#C8D4E3"
             },
             "line": {
              "color": "white"
             }
            },
            "type": "table"
           }
          ]
         },
         "layout": {
          "annotationdefaults": {
           "arrowcolor": "#2a3f5f",
           "arrowhead": 0,
           "arrowwidth": 1
          },
          "autotypenumbers": "strict",
          "coloraxis": {
           "colorbar": {
            "outlinewidth": 0,
            "ticks": ""
           }
          },
          "colorscale": {
           "diverging": [
            [
             0,
             "#8e0152"
            ],
            [
             0.1,
             "#c51b7d"
            ],
            [
             0.2,
             "#de77ae"
            ],
            [
             0.3,
             "#f1b6da"
            ],
            [
             0.4,
             "#fde0ef"
            ],
            [
             0.5,
             "#f7f7f7"
            ],
            [
             0.6,
             "#e6f5d0"
            ],
            [
             0.7,
             "#b8e186"
            ],
            [
             0.8,
             "#7fbc41"
            ],
            [
             0.9,
             "#4d9221"
            ],
            [
             1,
             "#276419"
            ]
           ],
           "sequential": [
            [
             0,
             "#0d0887"
            ],
            [
             0.1111111111111111,
             "#46039f"
            ],
            [
             0.2222222222222222,
             "#7201a8"
            ],
            [
             0.3333333333333333,
             "#9c179e"
            ],
            [
             0.4444444444444444,
             "#bd3786"
            ],
            [
             0.5555555555555556,
             "#d8576b"
            ],
            [
             0.6666666666666666,
             "#ed7953"
            ],
            [
             0.7777777777777778,
             "#fb9f3a"
            ],
            [
             0.8888888888888888,
             "#fdca26"
            ],
            [
             1,
             "#f0f921"
            ]
           ],
           "sequentialminus": [
            [
             0,
             "#0d0887"
            ],
            [
             0.1111111111111111,
             "#46039f"
            ],
            [
             0.2222222222222222,
             "#7201a8"
            ],
            [
             0.3333333333333333,
             "#9c179e"
            ],
            [
             0.4444444444444444,
             "#bd3786"
            ],
            [
             0.5555555555555556,
             "#d8576b"
            ],
            [
             0.6666666666666666,
             "#ed7953"
            ],
            [
             0.7777777777777778,
             "#fb9f3a"
            ],
            [
             0.8888888888888888,
             "#fdca26"
            ],
            [
             1,
             "#f0f921"
            ]
           ]
          },
          "colorway": [
           "#636efa",
           "#EF553B",
           "#00cc96",
           "#ab63fa",
           "#FFA15A",
           "#19d3f3",
           "#FF6692",
           "#B6E880",
           "#FF97FF",
           "#FECB52"
          ],
          "font": {
           "color": "#2a3f5f"
          },
          "geo": {
           "bgcolor": "white",
           "lakecolor": "white",
           "landcolor": "#E5ECF6",
           "showlakes": true,
           "showland": true,
           "subunitcolor": "white"
          },
          "hoverlabel": {
           "align": "left"
          },
          "hovermode": "closest",
          "mapbox": {
           "style": "light"
          },
          "paper_bgcolor": "white",
          "plot_bgcolor": "#E5ECF6",
          "polar": {
           "angularaxis": {
            "gridcolor": "white",
            "linecolor": "white",
            "ticks": ""
           },
           "bgcolor": "#E5ECF6",
           "radialaxis": {
            "gridcolor": "white",
            "linecolor": "white",
            "ticks": ""
           }
          },
          "scene": {
           "xaxis": {
            "backgroundcolor": "#E5ECF6",
            "gridcolor": "white",
            "gridwidth": 2,
            "linecolor": "white",
            "showbackground": true,
            "ticks": "",
            "zerolinecolor": "white"
           },
           "yaxis": {
            "backgroundcolor": "#E5ECF6",
            "gridcolor": "white",
            "gridwidth": 2,
            "linecolor": "white",
            "showbackground": true,
            "ticks": "",
            "zerolinecolor": "white"
           },
           "zaxis": {
            "backgroundcolor": "#E5ECF6",
            "gridcolor": "white",
            "gridwidth": 2,
            "linecolor": "white",
            "showbackground": true,
            "ticks": "",
            "zerolinecolor": "white"
           }
          },
          "shapedefaults": {
           "line": {
            "color": "#2a3f5f"
           }
          },
          "ternary": {
           "aaxis": {
            "gridcolor": "white",
            "linecolor": "white",
            "ticks": ""
           },
           "baxis": {
            "gridcolor": "white",
            "linecolor": "white",
            "ticks": ""
           },
           "bgcolor": "#E5ECF6",
           "caxis": {
            "gridcolor": "white",
            "linecolor": "white",
            "ticks": ""
           }
          },
          "title": {
           "x": 0.05
          },
          "xaxis": {
           "automargin": true,
           "gridcolor": "white",
           "linecolor": "white",
           "ticks": "",
           "title": {
            "standoff": 15
           },
           "zerolinecolor": "white",
           "zerolinewidth": 2
          },
          "yaxis": {
           "automargin": true,
           "gridcolor": "white",
           "linecolor": "white",
           "ticks": "",
           "title": {
            "standoff": 15
           },
           "zerolinecolor": "white",
           "zerolinewidth": 2
          }
         }
        },
        "title": {
         "text": "Open Chromatin Weight: Gene Rank Distributions"
        },
        "xaxis": {
         "anchor": "y",
         "domain": [
          0,
          0.45
         ]
        },
        "xaxis2": {
         "anchor": "y2",
         "domain": [
          0.55,
          1
         ]
        },
        "yaxis": {
         "anchor": "x",
         "domain": [
          0,
          1
         ],
         "range": [
          0,
          950
         ]
        },
        "yaxis2": {
         "anchor": "x2",
         "domain": [
          0,
          1
         ],
         "range": [
          0,
          950
         ]
        }
       }
      }
     },
     "metadata": {},
     "output_type": "display_data"
    }
   ],
   "source": [
    "from plotly.subplots import make_subplots    \n",
    "fig = _create_min_and_median_plots(\n",
    "        medians=medians,\n",
    "        mins=mins,\n",
    "        name=name,\n",
    "        colors=colors,\n",
    "        weight_mapping=weight_mapping\n",
    "    )\n",
    "fig.show()"
   ]
  },
  {
   "cell_type": "code",
   "execution_count": null,
   "id": "456ef7af",
   "metadata": {},
   "outputs": [],
   "source": []
  }
 ],
 "metadata": {
  "kernelspec": {
   "display_name": ".venv (3.12.10)",
   "language": "python",
   "name": "python3"
  },
  "language_info": {
   "codemirror_mode": {
    "name": "ipython",
    "version": 3
   },
   "file_extension": ".py",
   "mimetype": "text/x-python",
   "name": "python",
   "nbconvert_exporter": "python",
   "pygments_lexer": "ipython3",
   "version": "3.12.10"
  }
 },
 "nbformat": 4,
 "nbformat_minor": 5
}
