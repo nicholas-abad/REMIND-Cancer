{
 "cells": [
  {
   "cell_type": "code",
   "execution_count": null,
   "metadata": {},
   "outputs": [],
   "source": [
    "import numpy as np\n",
    "import pandas as pd\n",
    "from scipy.stats import ttest_1samp\n",
    "from statsmodels.stats.multitest import multipletests\n",
    "\n",
    "import pandas as pd\n",
    "from tqdm import tqdm as tqdm\n",
    "\n",
    "import plotly.express as px\n",
    "import plotly.graph_objects as go\n",
    "\n",
    "from scipy import stats\n",
    "\n"
   ]
  },
  {
   "cell_type": "code",
   "execution_count": 2,
   "metadata": {},
   "outputs": [],
   "source": [
    "pcawg_additional_batch = [\n",
    "    \"ANKRD53\",\n",
    "    \"MYB\",\n",
    "]\n",
    "\n",
    "pcawg_first_batch = [\n",
    "    \"EGR1\", \"TRMT10C\", \"SECISBP2\", \n",
    "    \"RALY\", \"ZC3H10\", \n",
    "    \"CDC20\", \"PRKCB\"\n",
    "]\n",
    "\n",
    "pcawg_second_batch = [\n",
    "    \"MAP2K4\", \"TBX3\", \"FBXW7\", \n",
    "    \"MAP1S\", \"MECOM\", \"FAM83B\", \"TFEB\"\n",
    "]\n",
    "\n",
    "pcawg_genes = pcawg_additional_batch + pcawg_first_batch + pcawg_second_batch"
   ]
  },
  {
   "cell_type": "code",
   "execution_count": 8,
   "metadata": {},
   "outputs": [],
   "source": [
    "data = pd.read_excel(\"./supplement/SupplementalTable9_luciferase_assay_percentage_of_regulation_results.xlsx\", skiprows=1)\n",
    "\n",
    "data = data[[col for col in list(data.columns) if col in pcawg_genes]]"
   ]
  },
  {
   "cell_type": "code",
   "execution_count": 9,
   "metadata": {},
   "outputs": [
    {
     "data": {
      "text/html": [
       "<div>\n",
       "<style scoped>\n",
       "    .dataframe tbody tr th:only-of-type {\n",
       "        vertical-align: middle;\n",
       "    }\n",
       "\n",
       "    .dataframe tbody tr th {\n",
       "        vertical-align: top;\n",
       "    }\n",
       "\n",
       "    .dataframe thead th {\n",
       "        text-align: right;\n",
       "    }\n",
       "</style>\n",
       "<table border=\"1\" class=\"dataframe\">\n",
       "  <thead>\n",
       "    <tr style=\"text-align: right;\">\n",
       "      <th></th>\n",
       "      <th>EGR1</th>\n",
       "      <th>TRMT10C</th>\n",
       "      <th>ZC3H10</th>\n",
       "      <th>SECISBP2</th>\n",
       "      <th>CDC20</th>\n",
       "      <th>RALY</th>\n",
       "      <th>PRKCB</th>\n",
       "      <th>MAP2K4</th>\n",
       "      <th>TBX3</th>\n",
       "      <th>FBXW7</th>\n",
       "      <th>MAP1S</th>\n",
       "      <th>MECOM</th>\n",
       "      <th>FAM83B</th>\n",
       "      <th>TFEB</th>\n",
       "      <th>MYB</th>\n",
       "    </tr>\n",
       "  </thead>\n",
       "  <tbody>\n",
       "    <tr>\n",
       "      <th>0</th>\n",
       "      <td>55.327002</td>\n",
       "      <td>130.766596</td>\n",
       "      <td>-24.375915</td>\n",
       "      <td>34.312209</td>\n",
       "      <td>94.847966</td>\n",
       "      <td>94.617600</td>\n",
       "      <td>50.771472</td>\n",
       "      <td>-51.224685</td>\n",
       "      <td>-97.012982</td>\n",
       "      <td>8.586133</td>\n",
       "      <td>-61.840825</td>\n",
       "      <td>-37.970300</td>\n",
       "      <td>-57.810895</td>\n",
       "      <td>42.468618</td>\n",
       "      <td>14.309724</td>\n",
       "    </tr>\n",
       "    <tr>\n",
       "      <th>1</th>\n",
       "      <td>31.220727</td>\n",
       "      <td>166.928547</td>\n",
       "      <td>-42.583962</td>\n",
       "      <td>-3.436165</td>\n",
       "      <td>72.219366</td>\n",
       "      <td>159.150859</td>\n",
       "      <td>69.615632</td>\n",
       "      <td>-23.032898</td>\n",
       "      <td>-70.297272</td>\n",
       "      <td>-34.866946</td>\n",
       "      <td>-38.719930</td>\n",
       "      <td>-23.844694</td>\n",
       "      <td>21.021898</td>\n",
       "      <td>54.052072</td>\n",
       "      <td>75.584404</td>\n",
       "    </tr>\n",
       "    <tr>\n",
       "      <th>2</th>\n",
       "      <td>92.731010</td>\n",
       "      <td>8.607706</td>\n",
       "      <td>-24.522597</td>\n",
       "      <td>4.172270</td>\n",
       "      <td>136.206475</td>\n",
       "      <td>37.444499</td>\n",
       "      <td>107.170089</td>\n",
       "      <td>-3.663856</td>\n",
       "      <td>-44.391790</td>\n",
       "      <td>3.558465</td>\n",
       "      <td>-22.477861</td>\n",
       "      <td>-10.885964</td>\n",
       "      <td>3.753059</td>\n",
       "      <td>55.933174</td>\n",
       "      <td>59.199466</td>\n",
       "    </tr>\n",
       "    <tr>\n",
       "      <th>3</th>\n",
       "      <td>34.327014</td>\n",
       "      <td>-15.233936</td>\n",
       "      <td>NaN</td>\n",
       "      <td>NaN</td>\n",
       "      <td>559.366393</td>\n",
       "      <td>29.604207</td>\n",
       "      <td>18.013577</td>\n",
       "      <td>-5.242065</td>\n",
       "      <td>-65.063343</td>\n",
       "      <td>5.039517</td>\n",
       "      <td>-30.288488</td>\n",
       "      <td>-66.383766</td>\n",
       "      <td>6.162148</td>\n",
       "      <td>25.950080</td>\n",
       "      <td>102.760917</td>\n",
       "    </tr>\n",
       "    <tr>\n",
       "      <th>4</th>\n",
       "      <td>355.813041</td>\n",
       "      <td>-18.990553</td>\n",
       "      <td>NaN</td>\n",
       "      <td>NaN</td>\n",
       "      <td>484.658707</td>\n",
       "      <td>90.365988</td>\n",
       "      <td>16.475494</td>\n",
       "      <td>NaN</td>\n",
       "      <td>NaN</td>\n",
       "      <td>NaN</td>\n",
       "      <td>NaN</td>\n",
       "      <td>NaN</td>\n",
       "      <td>NaN</td>\n",
       "      <td>73.238115</td>\n",
       "      <td>143.076161</td>\n",
       "    </tr>\n",
       "    <tr>\n",
       "      <th>5</th>\n",
       "      <td>220.742466</td>\n",
       "      <td>NaN</td>\n",
       "      <td>NaN</td>\n",
       "      <td>NaN</td>\n",
       "      <td>556.506122</td>\n",
       "      <td>84.400519</td>\n",
       "      <td>6.748845</td>\n",
       "      <td>NaN</td>\n",
       "      <td>NaN</td>\n",
       "      <td>NaN</td>\n",
       "      <td>NaN</td>\n",
       "      <td>NaN</td>\n",
       "      <td>NaN</td>\n",
       "      <td>156.583531</td>\n",
       "      <td>165.440355</td>\n",
       "    </tr>\n",
       "    <tr>\n",
       "      <th>6</th>\n",
       "      <td>230.170140</td>\n",
       "      <td>NaN</td>\n",
       "      <td>NaN</td>\n",
       "      <td>NaN</td>\n",
       "      <td>105.619240</td>\n",
       "      <td>13.044525</td>\n",
       "      <td>14.561382</td>\n",
       "      <td>NaN</td>\n",
       "      <td>NaN</td>\n",
       "      <td>NaN</td>\n",
       "      <td>NaN</td>\n",
       "      <td>NaN</td>\n",
       "      <td>NaN</td>\n",
       "      <td>180.663840</td>\n",
       "      <td>242.981033</td>\n",
       "    </tr>\n",
       "    <tr>\n",
       "      <th>7</th>\n",
       "      <td>79.131973</td>\n",
       "      <td>NaN</td>\n",
       "      <td>NaN</td>\n",
       "      <td>NaN</td>\n",
       "      <td>171.292184</td>\n",
       "      <td>3.723505</td>\n",
       "      <td>24.355095</td>\n",
       "      <td>NaN</td>\n",
       "      <td>NaN</td>\n",
       "      <td>NaN</td>\n",
       "      <td>NaN</td>\n",
       "      <td>NaN</td>\n",
       "      <td>NaN</td>\n",
       "      <td>157.822582</td>\n",
       "      <td>134.717610</td>\n",
       "    </tr>\n",
       "    <tr>\n",
       "      <th>8</th>\n",
       "      <td>275.725056</td>\n",
       "      <td>NaN</td>\n",
       "      <td>NaN</td>\n",
       "      <td>NaN</td>\n",
       "      <td>42.928454</td>\n",
       "      <td>53.679108</td>\n",
       "      <td>26.027870</td>\n",
       "      <td>NaN</td>\n",
       "      <td>NaN</td>\n",
       "      <td>NaN</td>\n",
       "      <td>NaN</td>\n",
       "      <td>NaN</td>\n",
       "      <td>NaN</td>\n",
       "      <td>41.488731</td>\n",
       "      <td>102.568368</td>\n",
       "    </tr>\n",
       "    <tr>\n",
       "      <th>9</th>\n",
       "      <td>216.516594</td>\n",
       "      <td>NaN</td>\n",
       "      <td>NaN</td>\n",
       "      <td>NaN</td>\n",
       "      <td>NaN</td>\n",
       "      <td>21.847661</td>\n",
       "      <td>28.524796</td>\n",
       "      <td>NaN</td>\n",
       "      <td>NaN</td>\n",
       "      <td>NaN</td>\n",
       "      <td>NaN</td>\n",
       "      <td>NaN</td>\n",
       "      <td>NaN</td>\n",
       "      <td>65.124837</td>\n",
       "      <td>158.345001</td>\n",
       "    </tr>\n",
       "    <tr>\n",
       "      <th>10</th>\n",
       "      <td>NaN</td>\n",
       "      <td>NaN</td>\n",
       "      <td>NaN</td>\n",
       "      <td>NaN</td>\n",
       "      <td>NaN</td>\n",
       "      <td>42.328208</td>\n",
       "      <td>22.869647</td>\n",
       "      <td>NaN</td>\n",
       "      <td>NaN</td>\n",
       "      <td>NaN</td>\n",
       "      <td>NaN</td>\n",
       "      <td>NaN</td>\n",
       "      <td>NaN</td>\n",
       "      <td>53.119188</td>\n",
       "      <td>NaN</td>\n",
       "    </tr>\n",
       "    <tr>\n",
       "      <th>11</th>\n",
       "      <td>NaN</td>\n",
       "      <td>NaN</td>\n",
       "      <td>NaN</td>\n",
       "      <td>NaN</td>\n",
       "      <td>NaN</td>\n",
       "      <td>33.189917</td>\n",
       "      <td>25.993321</td>\n",
       "      <td>NaN</td>\n",
       "      <td>NaN</td>\n",
       "      <td>NaN</td>\n",
       "      <td>NaN</td>\n",
       "      <td>NaN</td>\n",
       "      <td>NaN</td>\n",
       "      <td>NaN</td>\n",
       "      <td>NaN</td>\n",
       "    </tr>\n",
       "  </tbody>\n",
       "</table>\n",
       "</div>"
      ],
      "text/plain": [
       "          EGR1     TRMT10C     ZC3H10   SECISBP2       CDC20        RALY  \\\n",
       "0    55.327002  130.766596 -24.375915  34.312209   94.847966   94.617600   \n",
       "1    31.220727  166.928547 -42.583962  -3.436165   72.219366  159.150859   \n",
       "2    92.731010    8.607706 -24.522597   4.172270  136.206475   37.444499   \n",
       "3    34.327014  -15.233936        NaN        NaN  559.366393   29.604207   \n",
       "4   355.813041  -18.990553        NaN        NaN  484.658707   90.365988   \n",
       "5   220.742466         NaN        NaN        NaN  556.506122   84.400519   \n",
       "6   230.170140         NaN        NaN        NaN  105.619240   13.044525   \n",
       "7    79.131973         NaN        NaN        NaN  171.292184    3.723505   \n",
       "8   275.725056         NaN        NaN        NaN   42.928454   53.679108   \n",
       "9   216.516594         NaN        NaN        NaN         NaN   21.847661   \n",
       "10         NaN         NaN        NaN        NaN         NaN   42.328208   \n",
       "11         NaN         NaN        NaN        NaN         NaN   33.189917   \n",
       "\n",
       "         PRKCB     MAP2K4       TBX3      FBXW7      MAP1S      MECOM  \\\n",
       "0    50.771472 -51.224685 -97.012982   8.586133 -61.840825 -37.970300   \n",
       "1    69.615632 -23.032898 -70.297272 -34.866946 -38.719930 -23.844694   \n",
       "2   107.170089  -3.663856 -44.391790   3.558465 -22.477861 -10.885964   \n",
       "3    18.013577  -5.242065 -65.063343   5.039517 -30.288488 -66.383766   \n",
       "4    16.475494        NaN        NaN        NaN        NaN        NaN   \n",
       "5     6.748845        NaN        NaN        NaN        NaN        NaN   \n",
       "6    14.561382        NaN        NaN        NaN        NaN        NaN   \n",
       "7    24.355095        NaN        NaN        NaN        NaN        NaN   \n",
       "8    26.027870        NaN        NaN        NaN        NaN        NaN   \n",
       "9    28.524796        NaN        NaN        NaN        NaN        NaN   \n",
       "10   22.869647        NaN        NaN        NaN        NaN        NaN   \n",
       "11   25.993321        NaN        NaN        NaN        NaN        NaN   \n",
       "\n",
       "       FAM83B        TFEB         MYB  \n",
       "0  -57.810895   42.468618   14.309724  \n",
       "1   21.021898   54.052072   75.584404  \n",
       "2    3.753059   55.933174   59.199466  \n",
       "3    6.162148   25.950080  102.760917  \n",
       "4         NaN   73.238115  143.076161  \n",
       "5         NaN  156.583531  165.440355  \n",
       "6         NaN  180.663840  242.981033  \n",
       "7         NaN  157.822582  134.717610  \n",
       "8         NaN   41.488731  102.568368  \n",
       "9         NaN   65.124837  158.345001  \n",
       "10        NaN   53.119188         NaN  \n",
       "11        NaN         NaN         NaN  "
      ]
     },
     "execution_count": 9,
     "metadata": {},
     "output_type": "execute_result"
    }
   ],
   "source": [
    "data"
   ]
  },
  {
   "cell_type": "code",
   "execution_count": 22,
   "metadata": {},
   "outputs": [],
   "source": [
    "# Rename the genes to have the proper notation.\n",
    "results = pd.read_excel(\n",
    "    \"./supplement/SupplementalTable1_pSNV_acronyms_and_positions.xlsx\",\n",
    "    skiprows=1,\n",
    ")\n",
    "\n",
    "gene_naming = {}\n",
    "for idx, row in results.iterrows():\n",
    "    gene = row[\"Associated Gene\"]\n",
    "    pos = str(row[\"Position\"])[-3:]\n",
    "    ref = row[\"Reference Nucleotide\"]\n",
    "    alt = row[\"Alternative Nucleotide\"]\n",
    "    \n",
    "    gene_naming[gene] = f\"{gene}<sub>{ref}{pos}{alt}</sub>\"\n",
    "\n",
    "\n",
    "data = data.rename(gene_naming, axis=1)"
   ]
  },
  {
   "cell_type": "code",
   "execution_count": null,
   "metadata": {},
   "outputs": [
    {
     "data": {
      "text/html": [
       "<div>\n",
       "<style scoped>\n",
       "    .dataframe tbody tr th:only-of-type {\n",
       "        vertical-align: middle;\n",
       "    }\n",
       "\n",
       "    .dataframe tbody tr th {\n",
       "        vertical-align: top;\n",
       "    }\n",
       "\n",
       "    .dataframe thead th {\n",
       "        text-align: right;\n",
       "    }\n",
       "</style>\n",
       "<table border=\"1\" class=\"dataframe\">\n",
       "  <thead>\n",
       "    <tr style=\"text-align: right;\">\n",
       "      <th></th>\n",
       "      <th>EGR1&lt;sub&gt;C049T&lt;/sub&gt;</th>\n",
       "      <th>TRMT10C&lt;sub&gt;T976G&lt;/sub&gt;</th>\n",
       "      <th>ZC3H10&lt;sub&gt;G026C&lt;/sub&gt;</th>\n",
       "      <th>SECISBP2&lt;sub&gt;G357A&lt;/sub&gt;</th>\n",
       "      <th>CDC20&lt;sub&gt;G528A&lt;/sub&gt;</th>\n",
       "      <th>RALY&lt;sub&gt;C916T&lt;/sub&gt;</th>\n",
       "      <th>PRKCB&lt;sub&gt;C963T&lt;/sub&gt;</th>\n",
       "      <th>MAP2K4&lt;sub&gt;G099A&lt;/sub&gt;</th>\n",
       "      <th>TBX3&lt;sub&gt;G045A&lt;/sub&gt;</th>\n",
       "      <th>FBXW7&lt;sub&gt;G413A&lt;/sub&gt;</th>\n",
       "      <th>MAP1S&lt;sub&gt;C242T&lt;/sub&gt;</th>\n",
       "      <th>MECOM&lt;sub&gt;C249T&lt;/sub&gt;</th>\n",
       "      <th>FAM83B&lt;sub&gt;C199T&lt;/sub&gt;</th>\n",
       "      <th>TFEB&lt;sub&gt;T989G&lt;/sub&gt;</th>\n",
       "      <th>MYB&lt;sub&gt;C964A&lt;/sub&gt;</th>\n",
       "    </tr>\n",
       "  </thead>\n",
       "  <tbody>\n",
       "    <tr>\n",
       "      <th>0</th>\n",
       "      <td>55.327002</td>\n",
       "      <td>130.766596</td>\n",
       "      <td>-24.375915</td>\n",
       "      <td>34.312209</td>\n",
       "      <td>94.847966</td>\n",
       "      <td>94.617600</td>\n",
       "      <td>50.771472</td>\n",
       "      <td>-51.224685</td>\n",
       "      <td>-97.012982</td>\n",
       "      <td>8.586133</td>\n",
       "      <td>-61.840825</td>\n",
       "      <td>-37.970300</td>\n",
       "      <td>-57.810895</td>\n",
       "      <td>42.468618</td>\n",
       "      <td>14.309724</td>\n",
       "    </tr>\n",
       "    <tr>\n",
       "      <th>1</th>\n",
       "      <td>31.220727</td>\n",
       "      <td>166.928547</td>\n",
       "      <td>-42.583962</td>\n",
       "      <td>-3.436165</td>\n",
       "      <td>72.219366</td>\n",
       "      <td>159.150859</td>\n",
       "      <td>69.615632</td>\n",
       "      <td>-23.032898</td>\n",
       "      <td>-70.297272</td>\n",
       "      <td>-34.866946</td>\n",
       "      <td>-38.719930</td>\n",
       "      <td>-23.844694</td>\n",
       "      <td>21.021898</td>\n",
       "      <td>54.052072</td>\n",
       "      <td>75.584404</td>\n",
       "    </tr>\n",
       "    <tr>\n",
       "      <th>2</th>\n",
       "      <td>92.731010</td>\n",
       "      <td>8.607706</td>\n",
       "      <td>-24.522597</td>\n",
       "      <td>4.172270</td>\n",
       "      <td>136.206475</td>\n",
       "      <td>37.444499</td>\n",
       "      <td>107.170089</td>\n",
       "      <td>-3.663856</td>\n",
       "      <td>-44.391790</td>\n",
       "      <td>3.558465</td>\n",
       "      <td>-22.477861</td>\n",
       "      <td>-10.885964</td>\n",
       "      <td>3.753059</td>\n",
       "      <td>55.933174</td>\n",
       "      <td>59.199466</td>\n",
       "    </tr>\n",
       "    <tr>\n",
       "      <th>3</th>\n",
       "      <td>34.327014</td>\n",
       "      <td>-15.233936</td>\n",
       "      <td>NaN</td>\n",
       "      <td>NaN</td>\n",
       "      <td>559.366393</td>\n",
       "      <td>29.604207</td>\n",
       "      <td>18.013577</td>\n",
       "      <td>-5.242065</td>\n",
       "      <td>-65.063343</td>\n",
       "      <td>5.039517</td>\n",
       "      <td>-30.288488</td>\n",
       "      <td>-66.383766</td>\n",
       "      <td>6.162148</td>\n",
       "      <td>25.950080</td>\n",
       "      <td>102.760917</td>\n",
       "    </tr>\n",
       "    <tr>\n",
       "      <th>4</th>\n",
       "      <td>355.813041</td>\n",
       "      <td>-18.990553</td>\n",
       "      <td>NaN</td>\n",
       "      <td>NaN</td>\n",
       "      <td>484.658707</td>\n",
       "      <td>90.365988</td>\n",
       "      <td>16.475494</td>\n",
       "      <td>NaN</td>\n",
       "      <td>NaN</td>\n",
       "      <td>NaN</td>\n",
       "      <td>NaN</td>\n",
       "      <td>NaN</td>\n",
       "      <td>NaN</td>\n",
       "      <td>73.238115</td>\n",
       "      <td>143.076161</td>\n",
       "    </tr>\n",
       "    <tr>\n",
       "      <th>5</th>\n",
       "      <td>220.742466</td>\n",
       "      <td>NaN</td>\n",
       "      <td>NaN</td>\n",
       "      <td>NaN</td>\n",
       "      <td>556.506122</td>\n",
       "      <td>84.400519</td>\n",
       "      <td>6.748845</td>\n",
       "      <td>NaN</td>\n",
       "      <td>NaN</td>\n",
       "      <td>NaN</td>\n",
       "      <td>NaN</td>\n",
       "      <td>NaN</td>\n",
       "      <td>NaN</td>\n",
       "      <td>156.583531</td>\n",
       "      <td>165.440355</td>\n",
       "    </tr>\n",
       "    <tr>\n",
       "      <th>6</th>\n",
       "      <td>230.170140</td>\n",
       "      <td>NaN</td>\n",
       "      <td>NaN</td>\n",
       "      <td>NaN</td>\n",
       "      <td>105.619240</td>\n",
       "      <td>13.044525</td>\n",
       "      <td>14.561382</td>\n",
       "      <td>NaN</td>\n",
       "      <td>NaN</td>\n",
       "      <td>NaN</td>\n",
       "      <td>NaN</td>\n",
       "      <td>NaN</td>\n",
       "      <td>NaN</td>\n",
       "      <td>180.663840</td>\n",
       "      <td>242.981033</td>\n",
       "    </tr>\n",
       "    <tr>\n",
       "      <th>7</th>\n",
       "      <td>79.131973</td>\n",
       "      <td>NaN</td>\n",
       "      <td>NaN</td>\n",
       "      <td>NaN</td>\n",
       "      <td>171.292184</td>\n",
       "      <td>3.723505</td>\n",
       "      <td>24.355095</td>\n",
       "      <td>NaN</td>\n",
       "      <td>NaN</td>\n",
       "      <td>NaN</td>\n",
       "      <td>NaN</td>\n",
       "      <td>NaN</td>\n",
       "      <td>NaN</td>\n",
       "      <td>157.822582</td>\n",
       "      <td>134.717610</td>\n",
       "    </tr>\n",
       "    <tr>\n",
       "      <th>8</th>\n",
       "      <td>275.725056</td>\n",
       "      <td>NaN</td>\n",
       "      <td>NaN</td>\n",
       "      <td>NaN</td>\n",
       "      <td>42.928454</td>\n",
       "      <td>53.679108</td>\n",
       "      <td>26.027870</td>\n",
       "      <td>NaN</td>\n",
       "      <td>NaN</td>\n",
       "      <td>NaN</td>\n",
       "      <td>NaN</td>\n",
       "      <td>NaN</td>\n",
       "      <td>NaN</td>\n",
       "      <td>41.488731</td>\n",
       "      <td>102.568368</td>\n",
       "    </tr>\n",
       "    <tr>\n",
       "      <th>9</th>\n",
       "      <td>216.516594</td>\n",
       "      <td>NaN</td>\n",
       "      <td>NaN</td>\n",
       "      <td>NaN</td>\n",
       "      <td>NaN</td>\n",
       "      <td>21.847661</td>\n",
       "      <td>28.524796</td>\n",
       "      <td>NaN</td>\n",
       "      <td>NaN</td>\n",
       "      <td>NaN</td>\n",
       "      <td>NaN</td>\n",
       "      <td>NaN</td>\n",
       "      <td>NaN</td>\n",
       "      <td>65.124837</td>\n",
       "      <td>158.345001</td>\n",
       "    </tr>\n",
       "    <tr>\n",
       "      <th>10</th>\n",
       "      <td>NaN</td>\n",
       "      <td>NaN</td>\n",
       "      <td>NaN</td>\n",
       "      <td>NaN</td>\n",
       "      <td>NaN</td>\n",
       "      <td>42.328208</td>\n",
       "      <td>22.869647</td>\n",
       "      <td>NaN</td>\n",
       "      <td>NaN</td>\n",
       "      <td>NaN</td>\n",
       "      <td>NaN</td>\n",
       "      <td>NaN</td>\n",
       "      <td>NaN</td>\n",
       "      <td>53.119188</td>\n",
       "      <td>NaN</td>\n",
       "    </tr>\n",
       "    <tr>\n",
       "      <th>11</th>\n",
       "      <td>NaN</td>\n",
       "      <td>NaN</td>\n",
       "      <td>NaN</td>\n",
       "      <td>NaN</td>\n",
       "      <td>NaN</td>\n",
       "      <td>33.189917</td>\n",
       "      <td>25.993321</td>\n",
       "      <td>NaN</td>\n",
       "      <td>NaN</td>\n",
       "      <td>NaN</td>\n",
       "      <td>NaN</td>\n",
       "      <td>NaN</td>\n",
       "      <td>NaN</td>\n",
       "      <td>NaN</td>\n",
       "      <td>NaN</td>\n",
       "    </tr>\n",
       "  </tbody>\n",
       "</table>\n",
       "</div>"
      ],
      "text/plain": [
       "    EGR1<sub>C049T</sub>  TRMT10C<sub>T976G</sub>  ZC3H10<sub>G026C</sub>  \\\n",
       "0              55.327002               130.766596              -24.375915   \n",
       "1              31.220727               166.928547              -42.583962   \n",
       "2              92.731010                 8.607706              -24.522597   \n",
       "3              34.327014               -15.233936                     NaN   \n",
       "4             355.813041               -18.990553                     NaN   \n",
       "5             220.742466                      NaN                     NaN   \n",
       "6             230.170140                      NaN                     NaN   \n",
       "7              79.131973                      NaN                     NaN   \n",
       "8             275.725056                      NaN                     NaN   \n",
       "9             216.516594                      NaN                     NaN   \n",
       "10                   NaN                      NaN                     NaN   \n",
       "11                   NaN                      NaN                     NaN   \n",
       "\n",
       "    SECISBP2<sub>G357A</sub>  CDC20<sub>G528A</sub>  RALY<sub>C916T</sub>  \\\n",
       "0                  34.312209              94.847966             94.617600   \n",
       "1                  -3.436165              72.219366            159.150859   \n",
       "2                   4.172270             136.206475             37.444499   \n",
       "3                        NaN             559.366393             29.604207   \n",
       "4                        NaN             484.658707             90.365988   \n",
       "5                        NaN             556.506122             84.400519   \n",
       "6                        NaN             105.619240             13.044525   \n",
       "7                        NaN             171.292184              3.723505   \n",
       "8                        NaN              42.928454             53.679108   \n",
       "9                        NaN                    NaN             21.847661   \n",
       "10                       NaN                    NaN             42.328208   \n",
       "11                       NaN                    NaN             33.189917   \n",
       "\n",
       "    PRKCB<sub>C963T</sub>  MAP2K4<sub>G099A</sub>  TBX3<sub>G045A</sub>  \\\n",
       "0               50.771472              -51.224685            -97.012982   \n",
       "1               69.615632              -23.032898            -70.297272   \n",
       "2              107.170089               -3.663856            -44.391790   \n",
       "3               18.013577               -5.242065            -65.063343   \n",
       "4               16.475494                     NaN                   NaN   \n",
       "5                6.748845                     NaN                   NaN   \n",
       "6               14.561382                     NaN                   NaN   \n",
       "7               24.355095                     NaN                   NaN   \n",
       "8               26.027870                     NaN                   NaN   \n",
       "9               28.524796                     NaN                   NaN   \n",
       "10              22.869647                     NaN                   NaN   \n",
       "11              25.993321                     NaN                   NaN   \n",
       "\n",
       "    FBXW7<sub>G413A</sub>  MAP1S<sub>C242T</sub>  MECOM<sub>C249T</sub>  \\\n",
       "0                8.586133             -61.840825             -37.970300   \n",
       "1              -34.866946             -38.719930             -23.844694   \n",
       "2                3.558465             -22.477861             -10.885964   \n",
       "3                5.039517             -30.288488             -66.383766   \n",
       "4                     NaN                    NaN                    NaN   \n",
       "5                     NaN                    NaN                    NaN   \n",
       "6                     NaN                    NaN                    NaN   \n",
       "7                     NaN                    NaN                    NaN   \n",
       "8                     NaN                    NaN                    NaN   \n",
       "9                     NaN                    NaN                    NaN   \n",
       "10                    NaN                    NaN                    NaN   \n",
       "11                    NaN                    NaN                    NaN   \n",
       "\n",
       "    FAM83B<sub>C199T</sub>  TFEB<sub>T989G</sub>  MYB<sub>C964A</sub>  \n",
       "0               -57.810895             42.468618            14.309724  \n",
       "1                21.021898             54.052072            75.584404  \n",
       "2                 3.753059             55.933174            59.199466  \n",
       "3                 6.162148             25.950080           102.760917  \n",
       "4                      NaN             73.238115           143.076161  \n",
       "5                      NaN            156.583531           165.440355  \n",
       "6                      NaN            180.663840           242.981033  \n",
       "7                      NaN            157.822582           134.717610  \n",
       "8                      NaN             41.488731           102.568368  \n",
       "9                      NaN             65.124837           158.345001  \n",
       "10                     NaN             53.119188                  NaN  \n",
       "11                     NaN                   NaN                  NaN  "
      ]
     },
     "execution_count": 24,
     "metadata": {},
     "output_type": "execute_result"
    }
   ],
   "source": [
    "data"
   ]
  },
  {
   "cell_type": "code",
   "execution_count": 25,
   "metadata": {},
   "outputs": [],
   "source": [
    "def _caclulate_effect_size(values: list):\n",
    "    \"\"\"Cohen's d (one-sided)\n",
    "    \n",
    "    d = ((x_mean) - (mu)) / s\n",
    "    \n",
    "    x_mean = sample mean\n",
    "    mu = mean under the null hypothesis, which is 0 (i.e. no difference)\n",
    "    s = sample standard deviation\n",
    "\n",
    "    Parameters\n",
    "    ----------\n",
    "    values : list\n",
    "        List of replicate values.\n",
    "    \"\"\"\n",
    "    x_mean = np.mean(values)\n",
    "    mu = 0\n",
    "    s = np.std(values, ddof=1) # Use 1 to denote sample std rather than population\n",
    "    \n",
    "    return (x_mean - mu) / s\n",
    "    "
   ]
  },
  {
   "cell_type": "code",
   "execution_count": 26,
   "metadata": {},
   "outputs": [],
   "source": [
    "pval_dataframe = pd.DataFrame()\n",
    "\n",
    "for idx, gene_name in enumerate(data.columns):\n",
    "    values = [i for i in data[gene_name] if not np.isnan(i)]\n",
    "    pval = ttest_1samp(values, popmean=0, alternative=\"greater\").pvalue\n",
    "    t_stat = ttest_1samp(values, popmean=0, alternative=\"greater\").statistic\n",
    "    pval_dataframe.loc[idx, \"gene_name\"] = gene_name\n",
    "    pval_dataframe.loc[idx, \"num_replicates\"] = len(values)\n",
    "    pval_dataframe.loc[idx, \"p-value\"] = pval\n",
    "    pval_dataframe.loc[idx, \"p-value_significant\"] = pval <= 0.05\n",
    "    pval_dataframe.loc[idx, \"test_statistic\"] = t_stat\n",
    "\n",
    "    pval_dataframe.loc[idx, \"effect_size\"] = _caclulate_effect_size(values)\n",
    "    \n"
   ]
  },
  {
   "cell_type": "code",
   "execution_count": 27,
   "metadata": {},
   "outputs": [],
   "source": [
    "adjusted_results = multipletests(pval_dataframe['p-value'], method='fdr_bh')  # Benjamini-Hochberg\n",
    "pval_dataframe[\"q-value\"] = adjusted_results[1]\n",
    "pval_dataframe[\"q-value_significant\"] = adjusted_results[0]\n"
   ]
  },
  {
   "cell_type": "markdown",
   "metadata": {},
   "source": [
    "## Figures"
   ]
  },
  {
   "cell_type": "code",
   "execution_count": 29,
   "metadata": {},
   "outputs": [
    {
     "data": {
      "text/html": [
       "<div>\n",
       "<style scoped>\n",
       "    .dataframe tbody tr th:only-of-type {\n",
       "        vertical-align: middle;\n",
       "    }\n",
       "\n",
       "    .dataframe tbody tr th {\n",
       "        vertical-align: top;\n",
       "    }\n",
       "\n",
       "    .dataframe thead th {\n",
       "        text-align: right;\n",
       "    }\n",
       "</style>\n",
       "<table border=\"1\" class=\"dataframe\">\n",
       "  <thead>\n",
       "    <tr style=\"text-align: right;\">\n",
       "      <th></th>\n",
       "      <th>gene_names</th>\n",
       "      <th>percentage_of_upregulation</th>\n",
       "      <th>replicate</th>\n",
       "    </tr>\n",
       "  </thead>\n",
       "  <tbody>\n",
       "    <tr>\n",
       "      <th>0</th>\n",
       "      <td>EGR1&lt;sub&gt;C049T&lt;/sub&gt;</td>\n",
       "      <td>55.327002</td>\n",
       "      <td>Replicate 1</td>\n",
       "    </tr>\n",
       "    <tr>\n",
       "      <th>1</th>\n",
       "      <td>EGR1&lt;sub&gt;C049T&lt;/sub&gt;</td>\n",
       "      <td>31.220727</td>\n",
       "      <td>Replicate 2</td>\n",
       "    </tr>\n",
       "    <tr>\n",
       "      <th>2</th>\n",
       "      <td>EGR1&lt;sub&gt;C049T&lt;/sub&gt;</td>\n",
       "      <td>92.731010</td>\n",
       "      <td>Replicate 3</td>\n",
       "    </tr>\n",
       "    <tr>\n",
       "      <th>3</th>\n",
       "      <td>EGR1&lt;sub&gt;C049T&lt;/sub&gt;</td>\n",
       "      <td>34.327014</td>\n",
       "      <td>Replicate 4</td>\n",
       "    </tr>\n",
       "    <tr>\n",
       "      <th>4</th>\n",
       "      <td>EGR1&lt;sub&gt;C049T&lt;/sub&gt;</td>\n",
       "      <td>355.813041</td>\n",
       "      <td>Replicate 5</td>\n",
       "    </tr>\n",
       "    <tr>\n",
       "      <th>...</th>\n",
       "      <td>...</td>\n",
       "      <td>...</td>\n",
       "      <td>...</td>\n",
       "    </tr>\n",
       "    <tr>\n",
       "      <th>94</th>\n",
       "      <td>MYB&lt;sub&gt;C964A&lt;/sub&gt;</td>\n",
       "      <td>165.440355</td>\n",
       "      <td>Replicate 6</td>\n",
       "    </tr>\n",
       "    <tr>\n",
       "      <th>95</th>\n",
       "      <td>MYB&lt;sub&gt;C964A&lt;/sub&gt;</td>\n",
       "      <td>242.981033</td>\n",
       "      <td>Replicate 7</td>\n",
       "    </tr>\n",
       "    <tr>\n",
       "      <th>96</th>\n",
       "      <td>MYB&lt;sub&gt;C964A&lt;/sub&gt;</td>\n",
       "      <td>134.717610</td>\n",
       "      <td>Replicate 8</td>\n",
       "    </tr>\n",
       "    <tr>\n",
       "      <th>97</th>\n",
       "      <td>MYB&lt;sub&gt;C964A&lt;/sub&gt;</td>\n",
       "      <td>102.568368</td>\n",
       "      <td>Replicate 9</td>\n",
       "    </tr>\n",
       "    <tr>\n",
       "      <th>98</th>\n",
       "      <td>MYB&lt;sub&gt;C964A&lt;/sub&gt;</td>\n",
       "      <td>158.345001</td>\n",
       "      <td>Replicate 10</td>\n",
       "    </tr>\n",
       "  </tbody>\n",
       "</table>\n",
       "<p>99 rows × 3 columns</p>\n",
       "</div>"
      ],
      "text/plain": [
       "              gene_names  percentage_of_upregulation     replicate\n",
       "0   EGR1<sub>C049T</sub>                   55.327002   Replicate 1\n",
       "1   EGR1<sub>C049T</sub>                   31.220727   Replicate 2\n",
       "2   EGR1<sub>C049T</sub>                   92.731010   Replicate 3\n",
       "3   EGR1<sub>C049T</sub>                   34.327014   Replicate 4\n",
       "4   EGR1<sub>C049T</sub>                  355.813041   Replicate 5\n",
       "..                   ...                         ...           ...\n",
       "94   MYB<sub>C964A</sub>                  165.440355   Replicate 6\n",
       "95   MYB<sub>C964A</sub>                  242.981033   Replicate 7\n",
       "96   MYB<sub>C964A</sub>                  134.717610   Replicate 8\n",
       "97   MYB<sub>C964A</sub>                  102.568368   Replicate 9\n",
       "98   MYB<sub>C964A</sub>                  158.345001  Replicate 10\n",
       "\n",
       "[99 rows x 3 columns]"
      ]
     },
     "execution_count": 29,
     "metadata": {},
     "output_type": "execute_result"
    }
   ],
   "source": [
    "replicate_dataframe = pd.DataFrame()\n",
    "\n",
    "counter = 0\n",
    "for column in data.columns:\n",
    "    for idx, val in enumerate([i for i in list(data[column]) if not np.isnan(i)]):\n",
    "        replicate_dataframe.loc[counter, \"gene_names\"] = column\n",
    "        replicate_dataframe.loc[counter, \"percentage_of_upregulation\"] = val\n",
    "        replicate_dataframe.loc[counter, \"replicate\"] = f\"Replicate {idx+1}\"\n",
    "        counter += 1\n",
    "        \n",
    "replicate_dataframe"
   ]
  },
  {
   "cell_type": "code",
   "execution_count": null,
   "metadata": {},
   "outputs": [],
   "source": [
    "\n",
    "def _plot_percentage_upregulation_v1(\n",
    "    dataframe: pd.DataFrame,\n",
    "    title_text: str=\"Percentage Upregulation for Chosen Candidates\",\n",
    "    fdr: bool=True,\n",
    "    only_positives: bool=True\n",
    "):\n",
    "    if only_positives:\n",
    "        positives_genes = list(pval_dataframe[(pval_dataframe[\"p-value_significant_after_fdr_bh\"] == True)][\"gene_name\"])\n",
    "        dataframe = dataframe[dataframe[\"gene_names\"].isin(positives_genes)].reset_index(drop=False)\n",
    "    \n",
    "    fig = go.Figure()\n",
    "    \n",
    "    # Add all replicates.\n",
    "    fig = px.strip(\n",
    "        dataframe, \n",
    "        x=\"gene_names\", \n",
    "        y=\"percentage_of_upregulation\",\n",
    "    )\n",
    "    \n",
    "\n",
    "    fig.update_xaxes(\n",
    "        showgrid=True, \n",
    "        ticks=\"outside\", \n",
    "        tickson=\"boundaries\",\n",
    "        tickangle=45\n",
    "    )\n",
    "    \n",
    "    fig.update_traces(jitter=0.2)\n",
    "    fig.update_traces({'marker': {'size': 10, 'color': 'lightgrey', \"opacity\": 1}})\n",
    "\n",
    "    # Add average value.\n",
    "    averages = []\n",
    "    for idx, gene in enumerate(dataframe.gene_names.unique()):\n",
    "        avg = np.mean(dataframe[dataframe[\"gene_names\"] == gene][\"percentage_of_upregulation\"])\n",
    "        averages.append((gene, avg))\n",
    "        fig.add_trace(\n",
    "            go.Scatter(\n",
    "                x = [gene],\n",
    "                y = [avg],\n",
    "                mode=\"markers\",\n",
    "                marker=dict(\n",
    "                    color='#e8926c',\n",
    "                    size=20,\n",
    "                    line=dict(\n",
    "                        color='black',\n",
    "                        width=1\n",
    "                    ),\n",
    "                    symbol=17\n",
    "                ),\n",
    "                name=\"Average\",\n",
    "                showlegend=True if idx==0 else False\n",
    "            )\n",
    "        )\n",
    "        \n",
    "    fig.update_yaxes(\n",
    "        title = \"Percentage of Upregulation\",\n",
    "        # dtick = 20\n",
    "    )\n",
    "\n",
    "    fig.update_xaxes(\n",
    "        title=\"Name of Validated Gene\",\n",
    "    )\n",
    "\n",
    "    # Add p-values.\n",
    "    pvalue_dict = {}\n",
    "    for idx, gene in enumerate(dataframe.gene_names.unique()):\n",
    "        percentage_upregulated = [value for value in list(dataframe[dataframe[\"gene_names\"] == gene][\"percentage_of_upregulation\"]) if not np.isnan(value)]\n",
    "        \n",
    "        if not fdr:\n",
    "            pval = stats.ttest_1samp(percentage_upregulated, popmean=0, alternative=\"greater\").pvalue\n",
    "        else:\n",
    "            pval = pval_dataframe[pval_dataframe[\"gene_name\"] == gene][\"q-value\"].iloc[0]\n",
    "            \n",
    "        text = np.round(float(pval), 3)\n",
    "\n",
    "        pvalue_dict[gene] = f\"q-value={text}\"\n",
    "\n",
    "    # Order by average percentage upregulation.\n",
    "    order = sorted(\n",
    "        averages,\n",
    "        key=lambda x: x[1],\n",
    "        reverse=True\n",
    "    )\n",
    "    \n",
    "    # Order alphabetically.\n",
    "    order = sorted(\n",
    "        averages,\n",
    "        key=lambda x: x[0],\n",
    "    )\n",
    "\n",
    "    for idx, gene_and_val in enumerate(order):\n",
    "        gene, val = gene_and_val\n",
    "        fig.add_annotation(\n",
    "            dict(\n",
    "                font=dict(color=\"black\",size=12),\n",
    "                x=idx,\n",
    "                y=1.07,\n",
    "                showarrow=False,\n",
    "                text=pvalue_dict[gene],\n",
    "                textangle=0,\n",
    "                xref=\"x\",\n",
    "                yref=\"paper\"\n",
    "            )\n",
    "        )\n",
    "\n",
    "    fig.update_xaxes(\n",
    "        categoryorder=\"array\",\n",
    "        categoryarray=[gene_name for gene_name, perc in order]\n",
    "    )\n",
    "\n",
    "    # Add horizontal line at 0.\n",
    "    # fig.add_hline(\n",
    "    #     y=0, line_dash=\"dot\", opacity=0.8,\n",
    "    #     annotation_text=\"No regulation\", \n",
    "    #     annotation_position=\"top right\"\n",
    "    # )\n",
    "\n",
    "    fig.update_layout(\n",
    "        title_text=title_text\n",
    "    )\n",
    "\n",
    "    fig.update_layout(\n",
    "        yaxis = {\n",
    "            \"ticksuffix\": \"%\"\n",
    "        }\n",
    "    )\n",
    "    \n",
    "    fig.update_layout(\n",
    "        plot_bgcolor='white'\n",
    "    )\n",
    "\n",
    "    fig.update_xaxes(\n",
    "        mirror=True,\n",
    "        ticks='inside',\n",
    "        showline=True,\n",
    "        linecolor='black',\n",
    "        gridcolor='lightgrey',\n",
    "        linewidth=1\n",
    "    )\n",
    "\n",
    "    fig.update_yaxes(\n",
    "        mirror=True,\n",
    "        ticks='outside',\n",
    "        showline=True,\n",
    "        linecolor='black',\n",
    "        gridcolor='lightgrey',\n",
    "        linewidth=1\n",
    "    )\n",
    "    \n",
    "    return fig, order"
   ]
  },
  {
   "cell_type": "code",
   "execution_count": 34,
   "metadata": {},
   "outputs": [],
   "source": [
    "def _plot_percentage_upregulation_v2(\n",
    "    dataframe: pd.DataFrame,\n",
    "    title_text: str=\"Percentage Upregulation for Chosen Candidates\",\n",
    "    fdr: bool=True,\n",
    "    only_positives: bool=True\n",
    "):\n",
    "    \"\"\"\n",
    "    Generates a scatter plot of percentage upregulation for validated genes.\n",
    "\n",
    "    Args:\n",
    "        dataframe (pd.DataFrame): Input data with gene names and percentage upregulation.\n",
    "        title_text (str): Title of the plot.\n",
    "        fdr (bool): Whether to use False Discovery Rate adjusted p-values.\n",
    "        only_positives (bool): Whether to filter only significant genes.\n",
    "\n",
    "    Returns:\n",
    "        fig (go.Figure): Plotly figure object.\n",
    "        order (list): Sorted list of genes based on upregulation percentage.\n",
    "    \"\"\"\n",
    "    \n",
    "    # Filter only significant genes\n",
    "    if only_positives:\n",
    "        significant_genes = pval_dataframe.loc[pval_dataframe[\"p-value_significant_after_fdr_bh\"], \"gene_name\"]\n",
    "        dataframe = dataframe[dataframe[\"gene_names\"].isin(significant_genes)].reset_index(drop=True)\n",
    "\n",
    "    fig = go.Figure()\n",
    "\n",
    "    # Scatter plot of all replicates\n",
    "    fig = px.strip(\n",
    "        dataframe, \n",
    "        x=\"gene_names\", \n",
    "        y=\"percentage_of_upregulation\",\n",
    "    )\n",
    "\n",
    "    fig.update_xaxes(\n",
    "        showgrid=True, \n",
    "        ticks=\"outside\", \n",
    "        tickson=\"boundaries\",\n",
    "        tickangle=45\n",
    "    )\n",
    "\n",
    "    fig.update_traces(jitter=0.2)\n",
    "    fig.update_traces({'marker': {'size': 10, 'color': 'lightgrey', \"opacity\": 1}})\n",
    "\n",
    "    # Compute averages for each gene\n",
    "    averages = {\n",
    "        gene: np.mean(dataframe[dataframe[\"gene_names\"] == gene][\"percentage_of_upregulation\"])\n",
    "        for gene in dataframe[\"gene_names\"].unique()\n",
    "    }\n",
    "\n",
    "    # Add average markers\n",
    "    for idx, (gene, avg) in enumerate(averages.items()):\n",
    "        fig.add_trace(\n",
    "            go.Scatter(\n",
    "                x=[gene],\n",
    "                y=[avg],\n",
    "                mode=\"markers\",\n",
    "                marker=dict(\n",
    "                    color='#e8926c',\n",
    "                    size=20,\n",
    "                    line=dict(color='black', width=1),\n",
    "                    symbol=17\n",
    "                ),\n",
    "                name=\"Average\",\n",
    "                showlegend=(idx == 0)\n",
    "            )\n",
    "        )\n",
    "\n",
    "    # Compute p-values\n",
    "    pvalue_dict = {}\n",
    "    for gene in dataframe[\"gene_names\"].unique():\n",
    "        values = dataframe.loc[dataframe[\"gene_names\"] == gene, \"percentage_of_upregulation\"].dropna()\n",
    "\n",
    "        pval = (\n",
    "            stats.ttest_1samp(values, popmean=0, alternative=\"greater\").pvalue\n",
    "            if not fdr else\n",
    "            pval_dataframe.loc[pval_dataframe[\"gene_name\"] == gene, \"q-value\"].iloc[0]\n",
    "        )\n",
    "\n",
    "        pvalue_dict[gene] = f\"q-value=<br>{np.round(float(pval), 3)}\"\n",
    "\n",
    "    # Order genes: first by avg percentage upregulation (descending), then alphabetically\n",
    "    order = sorted(averages.items(), key=lambda x: (-x[1], x[0]))\n",
    "\n",
    "    # Add annotations for p-values\n",
    "    for idx, (gene, _) in enumerate(order):\n",
    "        fig.add_annotation(\n",
    "            font=dict(color=\"black\", size=12),\n",
    "            x=idx,\n",
    "            y=1.13,\n",
    "            showarrow=False,\n",
    "            text=pvalue_dict[gene],\n",
    "            textangle=0,\n",
    "            xref=\"x\",\n",
    "            yref=\"paper\"\n",
    "        )\n",
    "\n",
    "    # Update x-axis order\n",
    "    fig.update_xaxes(\n",
    "        categoryorder=\"array\",\n",
    "        categoryarray=[gene for gene, _ in order]\n",
    "    )\n",
    "\n",
    "    # Update layout and styling\n",
    "    fig.update_layout(\n",
    "        title_text=title_text,\n",
    "        plot_bgcolor='white',\n",
    "        xaxis=dict(\n",
    "            mirror=True,\n",
    "            ticks='inside',\n",
    "            showline=True,\n",
    "            linecolor='black',\n",
    "            gridcolor='lightgrey',\n",
    "            linewidth=1\n",
    "        ),\n",
    "        yaxis=dict(\n",
    "            ticksuffix = \"%\",\n",
    "            mirror=True,\n",
    "            ticks='outside',\n",
    "            showline=True,\n",
    "            linecolor='black',\n",
    "            gridcolor='lightgrey',\n",
    "            linewidth=1\n",
    "        )\n",
    "    )\n",
    "    \n",
    "    return fig, order"
   ]
  },
  {
   "cell_type": "code",
   "execution_count": 35,
   "metadata": {},
   "outputs": [
    {
     "data": {
      "application/vnd.plotly.v1+json": {
       "config": {
        "plotlyServerURL": "https://plot.ly"
       },
       "data": [
        {
         "alignmentgroup": "True",
         "boxpoints": "all",
         "fillcolor": "rgba(255,255,255,0)",
         "hoveron": "points",
         "hovertemplate": "gene_names=%{x}<br>percentage_of_upregulation=%{y}<extra></extra>",
         "jitter": 0.2,
         "legendgroup": "",
         "line": {
          "color": "rgba(255,255,255,0)"
         },
         "marker": {
          "color": "lightgrey",
          "opacity": 1,
          "size": 10
         },
         "name": "",
         "offsetgroup": "",
         "orientation": "v",
         "pointpos": 0,
         "showlegend": false,
         "type": "box",
         "x": [
          "EGR1<sub>C049T</sub>",
          "EGR1<sub>C049T</sub>",
          "EGR1<sub>C049T</sub>",
          "EGR1<sub>C049T</sub>",
          "EGR1<sub>C049T</sub>",
          "EGR1<sub>C049T</sub>",
          "EGR1<sub>C049T</sub>",
          "EGR1<sub>C049T</sub>",
          "EGR1<sub>C049T</sub>",
          "EGR1<sub>C049T</sub>",
          "TRMT10C<sub>T976G</sub>",
          "TRMT10C<sub>T976G</sub>",
          "TRMT10C<sub>T976G</sub>",
          "TRMT10C<sub>T976G</sub>",
          "TRMT10C<sub>T976G</sub>",
          "ZC3H10<sub>G026C</sub>",
          "ZC3H10<sub>G026C</sub>",
          "ZC3H10<sub>G026C</sub>",
          "SECISBP2<sub>G357A</sub>",
          "SECISBP2<sub>G357A</sub>",
          "SECISBP2<sub>G357A</sub>",
          "CDC20<sub>G528A</sub>",
          "CDC20<sub>G528A</sub>",
          "CDC20<sub>G528A</sub>",
          "CDC20<sub>G528A</sub>",
          "CDC20<sub>G528A</sub>",
          "CDC20<sub>G528A</sub>",
          "CDC20<sub>G528A</sub>",
          "CDC20<sub>G528A</sub>",
          "CDC20<sub>G528A</sub>",
          "RALY<sub>C916T</sub>",
          "RALY<sub>C916T</sub>",
          "RALY<sub>C916T</sub>",
          "RALY<sub>C916T</sub>",
          "RALY<sub>C916T</sub>",
          "RALY<sub>C916T</sub>",
          "RALY<sub>C916T</sub>",
          "RALY<sub>C916T</sub>",
          "RALY<sub>C916T</sub>",
          "RALY<sub>C916T</sub>",
          "RALY<sub>C916T</sub>",
          "RALY<sub>C916T</sub>",
          "PRKCB<sub>C963T</sub>",
          "PRKCB<sub>C963T</sub>",
          "PRKCB<sub>C963T</sub>",
          "PRKCB<sub>C963T</sub>",
          "PRKCB<sub>C963T</sub>",
          "PRKCB<sub>C963T</sub>",
          "PRKCB<sub>C963T</sub>",
          "PRKCB<sub>C963T</sub>",
          "PRKCB<sub>C963T</sub>",
          "PRKCB<sub>C963T</sub>",
          "PRKCB<sub>C963T</sub>",
          "PRKCB<sub>C963T</sub>",
          "MAP2K4<sub>G099A</sub>",
          "MAP2K4<sub>G099A</sub>",
          "MAP2K4<sub>G099A</sub>",
          "MAP2K4<sub>G099A</sub>",
          "TBX3<sub>G045A</sub>",
          "TBX3<sub>G045A</sub>",
          "TBX3<sub>G045A</sub>",
          "TBX3<sub>G045A</sub>",
          "FBXW7<sub>G413A</sub>",
          "FBXW7<sub>G413A</sub>",
          "FBXW7<sub>G413A</sub>",
          "FBXW7<sub>G413A</sub>",
          "MAP1S<sub>C242T</sub>",
          "MAP1S<sub>C242T</sub>",
          "MAP1S<sub>C242T</sub>",
          "MAP1S<sub>C242T</sub>",
          "MECOM<sub>C249T</sub>",
          "MECOM<sub>C249T</sub>",
          "MECOM<sub>C249T</sub>",
          "MECOM<sub>C249T</sub>",
          "FAM83B<sub>C199T</sub>",
          "FAM83B<sub>C199T</sub>",
          "FAM83B<sub>C199T</sub>",
          "FAM83B<sub>C199T</sub>",
          "TFEB<sub>T989G</sub>",
          "TFEB<sub>T989G</sub>",
          "TFEB<sub>T989G</sub>",
          "TFEB<sub>T989G</sub>",
          "TFEB<sub>T989G</sub>",
          "TFEB<sub>T989G</sub>",
          "TFEB<sub>T989G</sub>",
          "TFEB<sub>T989G</sub>",
          "TFEB<sub>T989G</sub>",
          "TFEB<sub>T989G</sub>",
          "TFEB<sub>T989G</sub>",
          "MYB<sub>C964A</sub>",
          "MYB<sub>C964A</sub>",
          "MYB<sub>C964A</sub>",
          "MYB<sub>C964A</sub>",
          "MYB<sub>C964A</sub>",
          "MYB<sub>C964A</sub>",
          "MYB<sub>C964A</sub>",
          "MYB<sub>C964A</sub>",
          "MYB<sub>C964A</sub>",
          "MYB<sub>C964A</sub>"
         ],
         "x0": " ",
         "xaxis": "x",
         "y": [
          55.3270015082433,
          31.2207266162053,
          92.7310095531339,
          34.3270141961048,
          355.813040794377,
          220.742465521907,
          230.170139647846,
          79.1319733607808,
          275.725055740873,
          216.516594122913,
          130.766596000537,
          166.928547056927,
          8.60770605681466,
          -15.2339363040613,
          -18.9905528158731,
          -24.3759145543459,
          -42.5839624645186,
          -24.522596832732,
          34.3122091828642,
          -3.43616500010549,
          4.17226985309792,
          94.8479664068015,
          72.2193657445706,
          136.206474751754,
          559.366392611913,
          484.658707239189,
          556.506121742401,
          105.619240386135,
          171.292184492428,
          42.9284542182908,
          94.6175997356593,
          159.150858522799,
          37.4444988969787,
          29.6042074712336,
          90.3659875531779,
          84.4005187989432,
          13.044524754529,
          3.723504929146,
          53.6791083871248,
          21.8476606689096,
          42.32820787953,
          33.1899173509259,
          50.7714715634303,
          69.6156323317978,
          107.17008916583,
          18.0135771890502,
          16.475494143198,
          6.74884513661565,
          14.5613824189919,
          24.3550948558751,
          26.0278695483311,
          28.5247957752938,
          22.8696468969524,
          25.9933210792027,
          -51.2246850921213,
          -23.0328982238193,
          -3.66385608607186,
          -5.24206476157206,
          -97.0129821285345,
          -70.2972716285311,
          -44.391789974616,
          -65.0633428617953,
          8.58613286584498,
          -34.8669463642834,
          3.55846533199096,
          5.03951655586748,
          -61.8408249301832,
          -38.7199295071918,
          -22.4778606402442,
          -30.2884877166529,
          -37.9703002674171,
          -23.8446940121384,
          -10.8859639119187,
          -66.3837661707417,
          -57.8108953088103,
          21.0218980089011,
          3.75305932378126,
          6.16214791922707,
          42.4686183490097,
          54.0520724945522,
          55.9331736327336,
          25.9500798165365,
          73.2381150641275,
          156.583530893043,
          180.66384047893,
          157.822582288736,
          41.4887310414617,
          65.1248370971128,
          53.1191879736338,
          14.3097239926461,
          75.5844038585617,
          59.1994660596007,
          102.760917395131,
          143.076160681455,
          165.440355398532,
          242.981032659412,
          134.717609565488,
          102.568367618697,
          158.345001431902
         ],
         "y0": " ",
         "yaxis": "y"
        },
        {
         "marker": {
          "color": "#e8926c",
          "line": {
           "color": "black",
           "width": 1
          },
          "size": 20,
          "symbol": 17
         },
         "mode": "markers",
         "name": "Average",
         "showlegend": true,
         "type": "scatter",
         "x": [
          "EGR1<sub>C049T</sub>"
         ],
         "y": [
          159.1705021062384
         ]
        },
        {
         "marker": {
          "color": "#e8926c",
          "line": {
           "color": "black",
           "width": 1
          },
          "size": 20,
          "symbol": 17
         },
         "mode": "markers",
         "name": "Average",
         "showlegend": false,
         "type": "scatter",
         "x": [
          "TRMT10C<sub>T976G</sub>"
         ],
         "y": [
          54.415671998868845
         ]
        },
        {
         "marker": {
          "color": "#e8926c",
          "line": {
           "color": "black",
           "width": 1
          },
          "size": 20,
          "symbol": 17
         },
         "mode": "markers",
         "name": "Average",
         "showlegend": false,
         "type": "scatter",
         "x": [
          "ZC3H10<sub>G026C</sub>"
         ],
         "y": [
          -30.494157950532166
         ]
        },
        {
         "marker": {
          "color": "#e8926c",
          "line": {
           "color": "black",
           "width": 1
          },
          "size": 20,
          "symbol": 17
         },
         "mode": "markers",
         "name": "Average",
         "showlegend": false,
         "type": "scatter",
         "x": [
          "SECISBP2<sub>G357A</sub>"
         ],
         "y": [
          11.682771345285545
         ]
        },
        {
         "marker": {
          "color": "#e8926c",
          "line": {
           "color": "black",
           "width": 1
          },
          "size": 20,
          "symbol": 17
         },
         "mode": "markers",
         "name": "Average",
         "showlegend": false,
         "type": "scatter",
         "x": [
          "CDC20<sub>G528A</sub>"
         ],
         "y": [
          247.07165639927587
         ]
        },
        {
         "marker": {
          "color": "#e8926c",
          "line": {
           "color": "black",
           "width": 1
          },
          "size": 20,
          "symbol": 17
         },
         "mode": "markers",
         "name": "Average",
         "showlegend": false,
         "type": "scatter",
         "x": [
          "RALY<sub>C916T</sub>"
         ],
         "y": [
          55.28304957907975
         ]
        },
        {
         "marker": {
          "color": "#e8926c",
          "line": {
           "color": "black",
           "width": 1
          },
          "size": 20,
          "symbol": 17
         },
         "mode": "markers",
         "name": "Average",
         "showlegend": false,
         "type": "scatter",
         "x": [
          "PRKCB<sub>C963T</sub>"
         ],
         "y": [
          34.26060167538075
         ]
        },
        {
         "marker": {
          "color": "#e8926c",
          "line": {
           "color": "black",
           "width": 1
          },
          "size": 20,
          "symbol": 17
         },
         "mode": "markers",
         "name": "Average",
         "showlegend": false,
         "type": "scatter",
         "x": [
          "MAP2K4<sub>G099A</sub>"
         ],
         "y": [
          -20.79087604089613
         ]
        },
        {
         "marker": {
          "color": "#e8926c",
          "line": {
           "color": "black",
           "width": 1
          },
          "size": 20,
          "symbol": 17
         },
         "mode": "markers",
         "name": "Average",
         "showlegend": false,
         "type": "scatter",
         "x": [
          "TBX3<sub>G045A</sub>"
         ],
         "y": [
          -69.19134664836923
         ]
        },
        {
         "marker": {
          "color": "#e8926c",
          "line": {
           "color": "black",
           "width": 1
          },
          "size": 20,
          "symbol": 17
         },
         "mode": "markers",
         "name": "Average",
         "showlegend": false,
         "type": "scatter",
         "x": [
          "FBXW7<sub>G413A</sub>"
         ],
         "y": [
          -4.420707902644995
         ]
        },
        {
         "marker": {
          "color": "#e8926c",
          "line": {
           "color": "black",
           "width": 1
          },
          "size": 20,
          "symbol": 17
         },
         "mode": "markers",
         "name": "Average",
         "showlegend": false,
         "type": "scatter",
         "x": [
          "MAP1S<sub>C242T</sub>"
         ],
         "y": [
          -38.33177569856803
         ]
        },
        {
         "marker": {
          "color": "#e8926c",
          "line": {
           "color": "black",
           "width": 1
          },
          "size": 20,
          "symbol": 17
         },
         "mode": "markers",
         "name": "Average",
         "showlegend": false,
         "type": "scatter",
         "x": [
          "MECOM<sub>C249T</sub>"
         ],
         "y": [
          -34.77118109055397
         ]
        },
        {
         "marker": {
          "color": "#e8926c",
          "line": {
           "color": "black",
           "width": 1
          },
          "size": 20,
          "symbol": 17
         },
         "mode": "markers",
         "name": "Average",
         "showlegend": false,
         "type": "scatter",
         "x": [
          "FAM83B<sub>C199T</sub>"
         ],
         "y": [
          -6.718447514225217
         ]
        },
        {
         "marker": {
          "color": "#e8926c",
          "line": {
           "color": "black",
           "width": 1
          },
          "size": 20,
          "symbol": 17
         },
         "mode": "markers",
         "name": "Average",
         "showlegend": false,
         "type": "scatter",
         "x": [
          "TFEB<sub>T989G</sub>"
         ],
         "y": [
          82.4040699208979
         ]
        },
        {
         "marker": {
          "color": "#e8926c",
          "line": {
           "color": "black",
           "width": 1
          },
          "size": 20,
          "symbol": 17
         },
         "mode": "markers",
         "name": "Average",
         "showlegend": false,
         "type": "scatter",
         "x": [
          "MYB<sub>C964A</sub>"
         ],
         "y": [
          119.89830386614253
         ]
        }
       ],
       "layout": {
        "annotations": [
         {
          "font": {
           "color": "black",
           "size": 12
          },
          "showarrow": false,
          "text": "q-value=<br>0.012",
          "textangle": 0,
          "x": 0,
          "xref": "x",
          "y": 1.13,
          "yref": "paper"
         },
         {
          "font": {
           "color": "black",
           "size": 12
          },
          "showarrow": false,
          "text": "q-value=<br>0.003",
          "textangle": 0,
          "x": 1,
          "xref": "x",
          "y": 1.13,
          "yref": "paper"
         },
         {
          "font": {
           "color": "black",
           "size": 12
          },
          "showarrow": false,
          "text": "q-value=<br>0.002",
          "textangle": 0,
          "x": 2,
          "xref": "x",
          "y": 1.13,
          "yref": "paper"
         },
         {
          "font": {
           "color": "black",
           "size": 12
          },
          "showarrow": false,
          "text": "q-value=<br>0.002",
          "textangle": 0,
          "x": 3,
          "xref": "x",
          "y": 1.13,
          "yref": "paper"
         },
         {
          "font": {
           "color": "black",
           "size": 12
          },
          "showarrow": false,
          "text": "q-value=<br>0.003",
          "textangle": 0,
          "x": 4,
          "xref": "x",
          "y": 1.13,
          "yref": "paper"
         },
         {
          "font": {
           "color": "black",
           "size": 12
          },
          "showarrow": false,
          "text": "q-value=<br>0.255",
          "textangle": 0,
          "x": 5,
          "xref": "x",
          "y": 1.13,
          "yref": "paper"
         },
         {
          "font": {
           "color": "black",
           "size": 12
          },
          "showarrow": false,
          "text": "q-value=<br>0.003",
          "textangle": 0,
          "x": 6,
          "xref": "x",
          "y": 1.13,
          "yref": "paper"
         },
         {
          "font": {
           "color": "black",
           "size": 12
          },
          "showarrow": false,
          "text": "q-value=<br>0.391",
          "textangle": 0,
          "x": 7,
          "xref": "x",
          "y": 1.13,
          "yref": "paper"
         },
         {
          "font": {
           "color": "black",
           "size": 12
          },
          "showarrow": false,
          "text": "q-value=<br>0.979",
          "textangle": 0,
          "x": 8,
          "xref": "x",
          "y": 1.13,
          "yref": "paper"
         },
         {
          "font": {
           "color": "black",
           "size": 12
          },
          "showarrow": false,
          "text": "q-value=<br>0.979",
          "textangle": 0,
          "x": 9,
          "xref": "x",
          "y": 1.13,
          "yref": "paper"
         },
         {
          "font": {
           "color": "black",
           "size": 12
          },
          "showarrow": false,
          "text": "q-value=<br>0.996",
          "textangle": 0,
          "x": 10,
          "xref": "x",
          "y": 1.13,
          "yref": "paper"
         },
         {
          "font": {
           "color": "black",
           "size": 12
          },
          "showarrow": false,
          "text": "q-value=<br>0.996",
          "textangle": 0,
          "x": 11,
          "xref": "x",
          "y": 1.13,
          "yref": "paper"
         },
         {
          "font": {
           "color": "black",
           "size": 12
          },
          "showarrow": false,
          "text": "q-value=<br>0.996",
          "textangle": 0,
          "x": 12,
          "xref": "x",
          "y": 1.13,
          "yref": "paper"
         },
         {
          "font": {
           "color": "black",
           "size": 12
          },
          "showarrow": false,
          "text": "q-value=<br>0.996",
          "textangle": 0,
          "x": 13,
          "xref": "x",
          "y": 1.13,
          "yref": "paper"
         },
         {
          "font": {
           "color": "black",
           "size": 12
          },
          "showarrow": false,
          "text": "q-value=<br>0.996",
          "textangle": 0,
          "x": 14,
          "xref": "x",
          "y": 1.13,
          "yref": "paper"
         }
        ],
        "boxmode": "group",
        "legend": {
         "tracegroupgap": 0
        },
        "margin": {
         "t": 60
        },
        "plot_bgcolor": "white",
        "template": {
         "data": {
          "bar": [
           {
            "error_x": {
             "color": "#2a3f5f"
            },
            "error_y": {
             "color": "#2a3f5f"
            },
            "marker": {
             "line": {
              "color": "#E5ECF6",
              "width": 0.5
             },
             "pattern": {
              "fillmode": "overlay",
              "size": 10,
              "solidity": 0.2
             }
            },
            "type": "bar"
           }
          ],
          "barpolar": [
           {
            "marker": {
             "line": {
              "color": "#E5ECF6",
              "width": 0.5
             },
             "pattern": {
              "fillmode": "overlay",
              "size": 10,
              "solidity": 0.2
             }
            },
            "type": "barpolar"
           }
          ],
          "carpet": [
           {
            "aaxis": {
             "endlinecolor": "#2a3f5f",
             "gridcolor": "white",
             "linecolor": "white",
             "minorgridcolor": "white",
             "startlinecolor": "#2a3f5f"
            },
            "baxis": {
             "endlinecolor": "#2a3f5f",
             "gridcolor": "white",
             "linecolor": "white",
             "minorgridcolor": "white",
             "startlinecolor": "#2a3f5f"
            },
            "type": "carpet"
           }
          ],
          "choropleth": [
           {
            "colorbar": {
             "outlinewidth": 0,
             "ticks": ""
            },
            "type": "choropleth"
           }
          ],
          "contour": [
           {
            "colorbar": {
             "outlinewidth": 0,
             "ticks": ""
            },
            "colorscale": [
             [
              0,
              "#0d0887"
             ],
             [
              0.1111111111111111,
              "#46039f"
             ],
             [
              0.2222222222222222,
              "#7201a8"
             ],
             [
              0.3333333333333333,
              "#9c179e"
             ],
             [
              0.4444444444444444,
              "#bd3786"
             ],
             [
              0.5555555555555556,
              "#d8576b"
             ],
             [
              0.6666666666666666,
              "#ed7953"
             ],
             [
              0.7777777777777778,
              "#fb9f3a"
             ],
             [
              0.8888888888888888,
              "#fdca26"
             ],
             [
              1,
              "#f0f921"
             ]
            ],
            "type": "contour"
           }
          ],
          "contourcarpet": [
           {
            "colorbar": {
             "outlinewidth": 0,
             "ticks": ""
            },
            "type": "contourcarpet"
           }
          ],
          "heatmap": [
           {
            "colorbar": {
             "outlinewidth": 0,
             "ticks": ""
            },
            "colorscale": [
             [
              0,
              "#0d0887"
             ],
             [
              0.1111111111111111,
              "#46039f"
             ],
             [
              0.2222222222222222,
              "#7201a8"
             ],
             [
              0.3333333333333333,
              "#9c179e"
             ],
             [
              0.4444444444444444,
              "#bd3786"
             ],
             [
              0.5555555555555556,
              "#d8576b"
             ],
             [
              0.6666666666666666,
              "#ed7953"
             ],
             [
              0.7777777777777778,
              "#fb9f3a"
             ],
             [
              0.8888888888888888,
              "#fdca26"
             ],
             [
              1,
              "#f0f921"
             ]
            ],
            "type": "heatmap"
           }
          ],
          "heatmapgl": [
           {
            "colorbar": {
             "outlinewidth": 0,
             "ticks": ""
            },
            "colorscale": [
             [
              0,
              "#0d0887"
             ],
             [
              0.1111111111111111,
              "#46039f"
             ],
             [
              0.2222222222222222,
              "#7201a8"
             ],
             [
              0.3333333333333333,
              "#9c179e"
             ],
             [
              0.4444444444444444,
              "#bd3786"
             ],
             [
              0.5555555555555556,
              "#d8576b"
             ],
             [
              0.6666666666666666,
              "#ed7953"
             ],
             [
              0.7777777777777778,
              "#fb9f3a"
             ],
             [
              0.8888888888888888,
              "#fdca26"
             ],
             [
              1,
              "#f0f921"
             ]
            ],
            "type": "heatmapgl"
           }
          ],
          "histogram": [
           {
            "marker": {
             "pattern": {
              "fillmode": "overlay",
              "size": 10,
              "solidity": 0.2
             }
            },
            "type": "histogram"
           }
          ],
          "histogram2d": [
           {
            "colorbar": {
             "outlinewidth": 0,
             "ticks": ""
            },
            "colorscale": [
             [
              0,
              "#0d0887"
             ],
             [
              0.1111111111111111,
              "#46039f"
             ],
             [
              0.2222222222222222,
              "#7201a8"
             ],
             [
              0.3333333333333333,
              "#9c179e"
             ],
             [
              0.4444444444444444,
              "#bd3786"
             ],
             [
              0.5555555555555556,
              "#d8576b"
             ],
             [
              0.6666666666666666,
              "#ed7953"
             ],
             [
              0.7777777777777778,
              "#fb9f3a"
             ],
             [
              0.8888888888888888,
              "#fdca26"
             ],
             [
              1,
              "#f0f921"
             ]
            ],
            "type": "histogram2d"
           }
          ],
          "histogram2dcontour": [
           {
            "colorbar": {
             "outlinewidth": 0,
             "ticks": ""
            },
            "colorscale": [
             [
              0,
              "#0d0887"
             ],
             [
              0.1111111111111111,
              "#46039f"
             ],
             [
              0.2222222222222222,
              "#7201a8"
             ],
             [
              0.3333333333333333,
              "#9c179e"
             ],
             [
              0.4444444444444444,
              "#bd3786"
             ],
             [
              0.5555555555555556,
              "#d8576b"
             ],
             [
              0.6666666666666666,
              "#ed7953"
             ],
             [
              0.7777777777777778,
              "#fb9f3a"
             ],
             [
              0.8888888888888888,
              "#fdca26"
             ],
             [
              1,
              "#f0f921"
             ]
            ],
            "type": "histogram2dcontour"
           }
          ],
          "mesh3d": [
           {
            "colorbar": {
             "outlinewidth": 0,
             "ticks": ""
            },
            "type": "mesh3d"
           }
          ],
          "parcoords": [
           {
            "line": {
             "colorbar": {
              "outlinewidth": 0,
              "ticks": ""
             }
            },
            "type": "parcoords"
           }
          ],
          "pie": [
           {
            "automargin": true,
            "type": "pie"
           }
          ],
          "scatter": [
           {
            "fillpattern": {
             "fillmode": "overlay",
             "size": 10,
             "solidity": 0.2
            },
            "type": "scatter"
           }
          ],
          "scatter3d": [
           {
            "line": {
             "colorbar": {
              "outlinewidth": 0,
              "ticks": ""
             }
            },
            "marker": {
             "colorbar": {
              "outlinewidth": 0,
              "ticks": ""
             }
            },
            "type": "scatter3d"
           }
          ],
          "scattercarpet": [
           {
            "marker": {
             "colorbar": {
              "outlinewidth": 0,
              "ticks": ""
             }
            },
            "type": "scattercarpet"
           }
          ],
          "scattergeo": [
           {
            "marker": {
             "colorbar": {
              "outlinewidth": 0,
              "ticks": ""
             }
            },
            "type": "scattergeo"
           }
          ],
          "scattergl": [
           {
            "marker": {
             "colorbar": {
              "outlinewidth": 0,
              "ticks": ""
             }
            },
            "type": "scattergl"
           }
          ],
          "scattermapbox": [
           {
            "marker": {
             "colorbar": {
              "outlinewidth": 0,
              "ticks": ""
             }
            },
            "type": "scattermapbox"
           }
          ],
          "scatterpolar": [
           {
            "marker": {
             "colorbar": {
              "outlinewidth": 0,
              "ticks": ""
             }
            },
            "type": "scatterpolar"
           }
          ],
          "scatterpolargl": [
           {
            "marker": {
             "colorbar": {
              "outlinewidth": 0,
              "ticks": ""
             }
            },
            "type": "scatterpolargl"
           }
          ],
          "scatterternary": [
           {
            "marker": {
             "colorbar": {
              "outlinewidth": 0,
              "ticks": ""
             }
            },
            "type": "scatterternary"
           }
          ],
          "surface": [
           {
            "colorbar": {
             "outlinewidth": 0,
             "ticks": ""
            },
            "colorscale": [
             [
              0,
              "#0d0887"
             ],
             [
              0.1111111111111111,
              "#46039f"
             ],
             [
              0.2222222222222222,
              "#7201a8"
             ],
             [
              0.3333333333333333,
              "#9c179e"
             ],
             [
              0.4444444444444444,
              "#bd3786"
             ],
             [
              0.5555555555555556,
              "#d8576b"
             ],
             [
              0.6666666666666666,
              "#ed7953"
             ],
             [
              0.7777777777777778,
              "#fb9f3a"
             ],
             [
              0.8888888888888888,
              "#fdca26"
             ],
             [
              1,
              "#f0f921"
             ]
            ],
            "type": "surface"
           }
          ],
          "table": [
           {
            "cells": {
             "fill": {
              "color": "#EBF0F8"
             },
             "line": {
              "color": "white"
             }
            },
            "header": {
             "fill": {
              "color": "#C8D4E3"
             },
             "line": {
              "color": "white"
             }
            },
            "type": "table"
           }
          ]
         },
         "layout": {
          "annotationdefaults": {
           "arrowcolor": "#2a3f5f",
           "arrowhead": 0,
           "arrowwidth": 1
          },
          "autotypenumbers": "strict",
          "coloraxis": {
           "colorbar": {
            "outlinewidth": 0,
            "ticks": ""
           }
          },
          "colorscale": {
           "diverging": [
            [
             0,
             "#8e0152"
            ],
            [
             0.1,
             "#c51b7d"
            ],
            [
             0.2,
             "#de77ae"
            ],
            [
             0.3,
             "#f1b6da"
            ],
            [
             0.4,
             "#fde0ef"
            ],
            [
             0.5,
             "#f7f7f7"
            ],
            [
             0.6,
             "#e6f5d0"
            ],
            [
             0.7,
             "#b8e186"
            ],
            [
             0.8,
             "#7fbc41"
            ],
            [
             0.9,
             "#4d9221"
            ],
            [
             1,
             "#276419"
            ]
           ],
           "sequential": [
            [
             0,
             "#0d0887"
            ],
            [
             0.1111111111111111,
             "#46039f"
            ],
            [
             0.2222222222222222,
             "#7201a8"
            ],
            [
             0.3333333333333333,
             "#9c179e"
            ],
            [
             0.4444444444444444,
             "#bd3786"
            ],
            [
             0.5555555555555556,
             "#d8576b"
            ],
            [
             0.6666666666666666,
             "#ed7953"
            ],
            [
             0.7777777777777778,
             "#fb9f3a"
            ],
            [
             0.8888888888888888,
             "#fdca26"
            ],
            [
             1,
             "#f0f921"
            ]
           ],
           "sequentialminus": [
            [
             0,
             "#0d0887"
            ],
            [
             0.1111111111111111,
             "#46039f"
            ],
            [
             0.2222222222222222,
             "#7201a8"
            ],
            [
             0.3333333333333333,
             "#9c179e"
            ],
            [
             0.4444444444444444,
             "#bd3786"
            ],
            [
             0.5555555555555556,
             "#d8576b"
            ],
            [
             0.6666666666666666,
             "#ed7953"
            ],
            [
             0.7777777777777778,
             "#fb9f3a"
            ],
            [
             0.8888888888888888,
             "#fdca26"
            ],
            [
             1,
             "#f0f921"
            ]
           ]
          },
          "colorway": [
           "#636efa",
           "#EF553B",
           "#00cc96",
           "#ab63fa",
           "#FFA15A",
           "#19d3f3",
           "#FF6692",
           "#B6E880",
           "#FF97FF",
           "#FECB52"
          ],
          "font": {
           "color": "#2a3f5f"
          },
          "geo": {
           "bgcolor": "white",
           "lakecolor": "white",
           "landcolor": "#E5ECF6",
           "showlakes": true,
           "showland": true,
           "subunitcolor": "white"
          },
          "hoverlabel": {
           "align": "left"
          },
          "hovermode": "closest",
          "mapbox": {
           "style": "light"
          },
          "paper_bgcolor": "white",
          "plot_bgcolor": "#E5ECF6",
          "polar": {
           "angularaxis": {
            "gridcolor": "white",
            "linecolor": "white",
            "ticks": ""
           },
           "bgcolor": "#E5ECF6",
           "radialaxis": {
            "gridcolor": "white",
            "linecolor": "white",
            "ticks": ""
           }
          },
          "scene": {
           "xaxis": {
            "backgroundcolor": "#E5ECF6",
            "gridcolor": "white",
            "gridwidth": 2,
            "linecolor": "white",
            "showbackground": true,
            "ticks": "",
            "zerolinecolor": "white"
           },
           "yaxis": {
            "backgroundcolor": "#E5ECF6",
            "gridcolor": "white",
            "gridwidth": 2,
            "linecolor": "white",
            "showbackground": true,
            "ticks": "",
            "zerolinecolor": "white"
           },
           "zaxis": {
            "backgroundcolor": "#E5ECF6",
            "gridcolor": "white",
            "gridwidth": 2,
            "linecolor": "white",
            "showbackground": true,
            "ticks": "",
            "zerolinecolor": "white"
           }
          },
          "shapedefaults": {
           "line": {
            "color": "#2a3f5f"
           }
          },
          "ternary": {
           "aaxis": {
            "gridcolor": "white",
            "linecolor": "white",
            "ticks": ""
           },
           "baxis": {
            "gridcolor": "white",
            "linecolor": "white",
            "ticks": ""
           },
           "bgcolor": "#E5ECF6",
           "caxis": {
            "gridcolor": "white",
            "linecolor": "white",
            "ticks": ""
           }
          },
          "title": {
           "x": 0.05
          },
          "xaxis": {
           "automargin": true,
           "gridcolor": "white",
           "linecolor": "white",
           "ticks": "",
           "title": {
            "standoff": 15
           },
           "zerolinecolor": "white",
           "zerolinewidth": 2
          },
          "yaxis": {
           "automargin": true,
           "gridcolor": "white",
           "linecolor": "white",
           "ticks": "",
           "title": {
            "standoff": 15
           },
           "zerolinecolor": "white",
           "zerolinewidth": 2
          }
         }
        },
        "width": 1400,
        "xaxis": {
         "anchor": "y",
         "categoryarray": [
          "CDC20<sub>G528A</sub>",
          "EGR1<sub>C049T</sub>",
          "MYB<sub>C964A</sub>",
          "TFEB<sub>T989G</sub>",
          "RALY<sub>C916T</sub>",
          "TRMT10C<sub>T976G</sub>",
          "PRKCB<sub>C963T</sub>",
          "SECISBP2<sub>G357A</sub>",
          "FBXW7<sub>G413A</sub>",
          "FAM83B<sub>C199T</sub>",
          "MAP2K4<sub>G099A</sub>",
          "ZC3H10<sub>G026C</sub>",
          "MECOM<sub>C249T</sub>",
          "MAP1S<sub>C242T</sub>",
          "TBX3<sub>G045A</sub>"
         ],
         "categoryorder": "array",
         "domain": [
          0,
          1
         ],
         "gridcolor": "lightgrey",
         "linecolor": "black",
         "linewidth": 1,
         "mirror": true,
         "showgrid": true,
         "showline": true,
         "tickangle": 45,
         "ticks": "inside",
         "tickson": "boundaries",
         "title": {
          "text": "gene_names"
         }
        },
        "yaxis": {
         "anchor": "x",
         "domain": [
          0,
          1
         ],
         "gridcolor": "lightgrey",
         "linecolor": "black",
         "linewidth": 1,
         "mirror": true,
         "showline": true,
         "ticks": "outside",
         "ticksuffix": "%",
         "title": {
          "text": "percentage_of_upregulation"
         }
        }
       }
      }
     },
     "metadata": {},
     "output_type": "display_data"
    }
   ],
   "source": [
    "# Plot all candidates.\n",
    "all_candidates_plot, order = _plot_percentage_upregulation_v2(\n",
    "    dataframe=replicate_dataframe,\n",
    "    title_text=None,\n",
    "    only_positives=False\n",
    ")\n",
    "all_candidates_plot.update_layout(\n",
    "    width=1400\n",
    ")\n",
    "all_candidates_plot.show()"
   ]
  }
 ],
 "metadata": {
  "kernelspec": {
   "display_name": "psnv-hunter",
   "language": "python",
   "name": "python3"
  },
  "language_info": {
   "codemirror_mode": {
    "name": "ipython",
    "version": 3
   },
   "file_extension": ".py",
   "mimetype": "text/x-python",
   "name": "python",
   "nbconvert_exporter": "python",
   "pygments_lexer": "ipython3",
   "version": "3.11.11"
  }
 },
 "nbformat": 4,
 "nbformat_minor": 2
}
