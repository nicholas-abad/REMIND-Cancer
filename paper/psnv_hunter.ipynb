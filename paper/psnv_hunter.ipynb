{
 "cells": [
  {
   "cell_type": "code",
   "execution_count": 2,
   "metadata": {},
   "outputs": [
    {
     "data": {
      "text/html": [
       "        <script type=\"text/javascript\">\n",
       "        window.PlotlyConfig = {MathJaxConfig: 'local'};\n",
       "        if (window.MathJax && window.MathJax.Hub && window.MathJax.Hub.Config) {window.MathJax.Hub.Config({SVG: {font: \"STIX-Web\"}});}\n",
       "        if (typeof require !== 'undefined') {\n",
       "        require.undef(\"plotly\");\n",
       "        requirejs.config({\n",
       "            paths: {\n",
       "                'plotly': ['https://cdn.plot.ly/plotly-2.35.2.min']\n",
       "            }\n",
       "        });\n",
       "        require(['plotly'], function(Plotly) {\n",
       "            window._Plotly = Plotly;\n",
       "        });\n",
       "        }\n",
       "        </script>\n",
       "        "
      ]
     },
     "metadata": {},
     "output_type": "display_data"
    }
   ],
   "source": [
    "import pandas as pd\n",
    "import plotly.graph_objects as go\n",
    "from plotly.offline import init_notebook_mode\n",
    "\n",
    "import numpy as np\n",
    "import ast\n",
    "\n",
    "init_notebook_mode(connected=True)"
   ]
  },
  {
   "cell_type": "code",
   "execution_count": 3,
   "metadata": {},
   "outputs": [
    {
     "data": {
      "text/html": [
       "<div>\n",
       "<style scoped>\n",
       "    .dataframe tbody tr th:only-of-type {\n",
       "        vertical-align: middle;\n",
       "    }\n",
       "\n",
       "    .dataframe tbody tr th {\n",
       "        vertical-align: top;\n",
       "    }\n",
       "\n",
       "    .dataframe thead th {\n",
       "        text-align: right;\n",
       "    }\n",
       "</style>\n",
       "<table border=\"1\" class=\"dataframe\">\n",
       "  <thead>\n",
       "    <tr style=\"text-align: right;\">\n",
       "      <th></th>\n",
       "      <th>score</th>\n",
       "      <th>pid</th>\n",
       "      <th>cohort</th>\n",
       "      <th>#CHROM</th>\n",
       "      <th>POS</th>\n",
       "      <th>GENE</th>\n",
       "      <th>REF</th>\n",
       "      <th>ALT</th>\n",
       "      <th>strand</th>\n",
       "      <th>FPKM</th>\n",
       "      <th>...</th>\n",
       "      <th>num_promoter_mutations</th>\n",
       "      <th>num_recurrent_mutations</th>\n",
       "      <th>expression_traces</th>\n",
       "      <th>tf_summary</th>\n",
       "      <th>ncbi_gene_summary</th>\n",
       "      <th>ncbi_url</th>\n",
       "      <th>in_old_results</th>\n",
       "      <th>cn_score.1</th>\n",
       "      <th>cn_file_of_score</th>\n",
       "      <th>ICGC_Estimated_Purity.1</th>\n",
       "    </tr>\n",
       "  </thead>\n",
       "  <tbody>\n",
       "    <tr>\n",
       "      <th>0</th>\n",
       "      <td>93.45</td>\n",
       "      <td>45a7949d-e63f-4956-866c-df51257032de</td>\n",
       "      <td>BLCA-US</td>\n",
       "      <td>2</td>\n",
       "      <td>71204529</td>\n",
       "      <td>ANKRD53</td>\n",
       "      <td>G</td>\n",
       "      <td>A</td>\n",
       "      <td>+</td>\n",
       "      <td>1.428501</td>\n",
       "      <td>...</td>\n",
       "      <td>284</td>\n",
       "      <td>5.0</td>\n",
       "      <td>{'ANKRD53': {'BLCA-US': {'raw': [0.13674067793...</td>\n",
       "      <td>{'REL': {'summary': \"This gene encodes a prote...</td>\n",
       "      <td>Involved in mitotic metaphase plate congressio...</td>\n",
       "      <td>https://www.ncbi.nlm.nih.gov/gene/79998</td>\n",
       "      <td>True</td>\n",
       "      <td>3</td>\n",
       "      <td>not_available</td>\n",
       "      <td>0.938</td>\n",
       "    </tr>\n",
       "    <tr>\n",
       "      <th>1</th>\n",
       "      <td>93.41</td>\n",
       "      <td>6c884037-49f9-41c3-b0e5-9cbcd545aeb7</td>\n",
       "      <td>SKCM-US</td>\n",
       "      <td>9</td>\n",
       "      <td>91933357</td>\n",
       "      <td>SECISBP2</td>\n",
       "      <td>G</td>\n",
       "      <td>A</td>\n",
       "      <td>+</td>\n",
       "      <td>15.079190</td>\n",
       "      <td>...</td>\n",
       "      <td>879</td>\n",
       "      <td>6.0</td>\n",
       "      <td>{'SECISBP2': {'SKCM-US': {'raw': [5.0687620882...</td>\n",
       "      <td>{'ELK4': {'summary': 'This gene is a member of...</td>\n",
       "      <td>The protein encoded by this gene is one of the...</td>\n",
       "      <td>https://www.ncbi.nlm.nih.gov/gene/79048</td>\n",
       "      <td>True</td>\n",
       "      <td>6</td>\n",
       "      <td>not_available</td>\n",
       "      <td>0.78</td>\n",
       "    </tr>\n",
       "    <tr>\n",
       "      <th>2</th>\n",
       "      <td>88.10</td>\n",
       "      <td>49dec0c2-8e75-4f44-a253-82b2ea605890</td>\n",
       "      <td>LUAD-US</td>\n",
       "      <td>2</td>\n",
       "      <td>71204529</td>\n",
       "      <td>ANKRD53</td>\n",
       "      <td>G</td>\n",
       "      <td>A</td>\n",
       "      <td>+</td>\n",
       "      <td>1.764278</td>\n",
       "      <td>...</td>\n",
       "      <td>436</td>\n",
       "      <td>5.0</td>\n",
       "      <td>{'ANKRD53': {'LUAD-US': {'raw': [0.73980555761...</td>\n",
       "      <td>{'REL': {'summary': \"This gene encodes a prote...</td>\n",
       "      <td>Involved in mitotic metaphase plate congressio...</td>\n",
       "      <td>https://www.ncbi.nlm.nih.gov/gene/79998</td>\n",
       "      <td>True</td>\n",
       "      <td>4</td>\n",
       "      <td>not_available</td>\n",
       "      <td>0.5</td>\n",
       "    </tr>\n",
       "    <tr>\n",
       "      <th>3</th>\n",
       "      <td>86.45</td>\n",
       "      <td>d692ecd0-2433-426b-9af2-a30c44a80f7c</td>\n",
       "      <td>THCA-US</td>\n",
       "      <td>5</td>\n",
       "      <td>1295228</td>\n",
       "      <td>TERT</td>\n",
       "      <td>G</td>\n",
       "      <td>A</td>\n",
       "      <td>-</td>\n",
       "      <td>0.380236</td>\n",
       "      <td>...</td>\n",
       "      <td>20</td>\n",
       "      <td>95.0</td>\n",
       "      <td>{'TERT': {'THCA-US': {'raw': [0.0, 0.006731104...</td>\n",
       "      <td>{'ELK4': {'summary': 'This gene is a member of...</td>\n",
       "      <td>Telomerase is a ribonucleoprotein polymerase t...</td>\n",
       "      <td>https://www.ncbi.nlm.nih.gov/gene/7015</td>\n",
       "      <td>True</td>\n",
       "      <td>3</td>\n",
       "      <td>not_available</td>\n",
       "      <td>0.589</td>\n",
       "    </tr>\n",
       "    <tr>\n",
       "      <th>4</th>\n",
       "      <td>86.30</td>\n",
       "      <td>9988eb07-01f6-4f83-8699-bb63e0525f08</td>\n",
       "      <td>HNSC-US</td>\n",
       "      <td>7</td>\n",
       "      <td>145813786</td>\n",
       "      <td>CNTNAP2</td>\n",
       "      <td>C</td>\n",
       "      <td>A</td>\n",
       "      <td>+</td>\n",
       "      <td>21.329213</td>\n",
       "      <td>...</td>\n",
       "      <td>459</td>\n",
       "      <td>0.0</td>\n",
       "      <td>{'CNTNAP2': {'HNSC-US': {'raw': [0.38939713831...</td>\n",
       "      <td>{'ZEB1': {'summary': 'This gene encodes a zinc...</td>\n",
       "      <td>This gene encodes a member of the neurexin fam...</td>\n",
       "      <td>https://www.ncbi.nlm.nih.gov/gene/26047</td>\n",
       "      <td>False</td>\n",
       "      <td>9</td>\n",
       "      <td>not_available</td>\n",
       "      <td>0.489</td>\n",
       "    </tr>\n",
       "  </tbody>\n",
       "</table>\n",
       "<p>5 rows × 166 columns</p>\n",
       "</div>"
      ],
      "text/plain": [
       "   score                                   pid   cohort #CHROM        POS  \\\n",
       "0  93.45  45a7949d-e63f-4956-866c-df51257032de  BLCA-US      2   71204529   \n",
       "1  93.41  6c884037-49f9-41c3-b0e5-9cbcd545aeb7  SKCM-US      9   91933357   \n",
       "2  88.10  49dec0c2-8e75-4f44-a253-82b2ea605890  LUAD-US      2   71204529   \n",
       "3  86.45  d692ecd0-2433-426b-9af2-a30c44a80f7c  THCA-US      5    1295228   \n",
       "4  86.30  9988eb07-01f6-4f83-8699-bb63e0525f08  HNSC-US      7  145813786   \n",
       "\n",
       "       GENE REF ALT strand       FPKM  ... num_promoter_mutations  \\\n",
       "0   ANKRD53   G   A      +   1.428501  ...                    284   \n",
       "1  SECISBP2   G   A      +  15.079190  ...                    879   \n",
       "2   ANKRD53   G   A      +   1.764278  ...                    436   \n",
       "3      TERT   G   A      -   0.380236  ...                     20   \n",
       "4   CNTNAP2   C   A      +  21.329213  ...                    459   \n",
       "\n",
       "  num_recurrent_mutations                                  expression_traces  \\\n",
       "0                     5.0  {'ANKRD53': {'BLCA-US': {'raw': [0.13674067793...   \n",
       "1                     6.0  {'SECISBP2': {'SKCM-US': {'raw': [5.0687620882...   \n",
       "2                     5.0  {'ANKRD53': {'LUAD-US': {'raw': [0.73980555761...   \n",
       "3                    95.0  {'TERT': {'THCA-US': {'raw': [0.0, 0.006731104...   \n",
       "4                     0.0  {'CNTNAP2': {'HNSC-US': {'raw': [0.38939713831...   \n",
       "\n",
       "                                          tf_summary  \\\n",
       "0  {'REL': {'summary': \"This gene encodes a prote...   \n",
       "1  {'ELK4': {'summary': 'This gene is a member of...   \n",
       "2  {'REL': {'summary': \"This gene encodes a prote...   \n",
       "3  {'ELK4': {'summary': 'This gene is a member of...   \n",
       "4  {'ZEB1': {'summary': 'This gene encodes a zinc...   \n",
       "\n",
       "                                   ncbi_gene_summary  \\\n",
       "0  Involved in mitotic metaphase plate congressio...   \n",
       "1  The protein encoded by this gene is one of the...   \n",
       "2  Involved in mitotic metaphase plate congressio...   \n",
       "3  Telomerase is a ribonucleoprotein polymerase t...   \n",
       "4  This gene encodes a member of the neurexin fam...   \n",
       "\n",
       "                                  ncbi_url in_old_results cn_score.1  \\\n",
       "0  https://www.ncbi.nlm.nih.gov/gene/79998           True          3   \n",
       "1  https://www.ncbi.nlm.nih.gov/gene/79048           True          6   \n",
       "2  https://www.ncbi.nlm.nih.gov/gene/79998           True          4   \n",
       "3   https://www.ncbi.nlm.nih.gov/gene/7015           True          3   \n",
       "4  https://www.ncbi.nlm.nih.gov/gene/26047          False          9   \n",
       "\n",
       "  cn_file_of_score  ICGC_Estimated_Purity.1  \n",
       "0    not_available                    0.938  \n",
       "1    not_available                     0.78  \n",
       "2    not_available                      0.5  \n",
       "3    not_available                    0.589  \n",
       "4    not_available                    0.489  \n",
       "\n",
       "[5 rows x 166 columns]"
      ]
     },
     "execution_count": 3,
     "metadata": {},
     "output_type": "execute_result"
    }
   ],
   "source": [
    "data = pd.read_csv(\"/Users/nicholasabad/Desktop/workspace/REMIND-Cancer-visualization/my_data/top200.vcf\", delimiter=\"\\t\")\n",
    "data.head()"
   ]
  },
  {
   "cell_type": "code",
   "execution_count": 3,
   "metadata": {},
   "outputs": [
    {
     "name": "stdout",
     "output_type": "stream",
     "text": [
      "\n",
      "    _write_figure_to_pdf(\n",
      "        fig: object,\n",
      "        name_of_plot: str,\n",
      "        notes: str=\"\",\n",
      "        output_location: str=\"/Users/nicholasabad/Desktop/workspace/phd-thesis/data/images\",\n",
      "        path_to_image_metadata_file: str=\"/Users/nicholasabad/Desktop/workspace/phd-thesis/data/images/metadata.json\",\n",
      "        overwrite: bool=False,\n",
      "    )\n",
      "    \n"
     ]
    }
   ],
   "source": [
    "%run /Users/nicholasabad/Desktop/workspace/phd-thesis/utils.ipynb\n"
   ]
  },
  {
   "cell_type": "markdown",
   "metadata": {},
   "source": [
    "# b. Transcription factor"
   ]
  },
  {
   "cell_type": "code",
   "execution_count": 4,
   "metadata": {},
   "outputs": [],
   "source": [
    "def tf_expression_violin_plot(\n",
    "    row: pd.Series,\n",
    "    chosen_tf_name: str,\n",
    "    name_of_expression_traces_column: str=\"expression_traces\",\n",
    "    name_of_cohort_column: str=\"cohort\",\n",
    "    name_of_tfbs_column: str=\"JASPAR2020_CORE_vertebrates_non_redundant(tf_name,binding_affinity,seq1,seq2,raw,zscore,log,tf_sequence_logo)\",\n",
    "    name_of_pid_column: str=\"pid\",\n",
    "):\n",
    "    expression_trace = ast.literal_eval(row[name_of_expression_traces_column])\n",
    "\n",
    "    fig = go.Figure()\n",
    "\n",
    "    for selection in [\"zscore\", \"raw\", \"log\"]:\n",
    "        if selection == \"zscore\":\n",
    "            legend_title = \"Z-Score\"\n",
    "        elif selection == \"raw\":\n",
    "            legend_title = \"Raw\"\n",
    "        else:\n",
    "            legend_title = \"Log\"\n",
    "\n",
    "        # Add background traces.\n",
    "        cohort = row[name_of_cohort_column]\n",
    "        n = len(expression_trace[chosen_tf_name][cohort][selection])\n",
    "\n",
    "        fig.add_trace(\n",
    "            go.Violin(\n",
    "                y=expression_trace[chosen_tf_name][cohort][selection],\n",
    "                name=f\"<b>{cohort}</b><br>(n={n})\",\n",
    "                box_visible=True,\n",
    "                meanline_visible=True,\n",
    "                marker_color=\"lightgrey\",\n",
    "                legendgroup=selection,\n",
    "                legendgrouptitle_text=legend_title,\n",
    "                visible=True if selection == \"raw\" else \"legendonly\",\n",
    "                opacity=0.6,\n",
    "                line_color=\"black\",\n",
    "                points=\"all\"\n",
    "            )\n",
    "        )\n",
    "        # Add scatter plot.\n",
    "        if row[name_of_tfbs_column] == \".\":\n",
    "            continue\n",
    "\n",
    "        for entry in row[name_of_tfbs_column].split(\";\"):\n",
    "            tf_name = entry.split(\",\")[0]\n",
    "            if tf_name == chosen_tf_name:\n",
    "                binding_affinity = entry.split(\",\")[1]\n",
    "                raw, zscore, log = entry.split(\",\")[4:7]\n",
    "        if selection == \"zscore\":\n",
    "            score = zscore\n",
    "        elif selection == \"raw\":\n",
    "            score = raw\n",
    "        else:\n",
    "            score = log\n",
    "\n",
    "        fig.add_trace(\n",
    "            go.Scatter(\n",
    "                mode=\"markers\",\n",
    "                x=[f\"<b>{cohort}</b><br>(n={n})\"],\n",
    "                y=[score],\n",
    "                marker_size=13,\n",
    "                marker_line_width=1,\n",
    "                marker_color=\"red\",\n",
    "                text=[\"Current Gene\"],\n",
    "                legendgroup=selection,\n",
    "                visible=True if selection == \"raw\" else \"legendonly\",\n",
    "                name=f'{row[name_of_pid_column][:8]}'\n",
    "            )\n",
    "        )\n",
    "\n",
    "    fig.update_layout(\n",
    "        title={\n",
    "            \"text\": f\"<b>Gene Expression for {chosen_tf_name}</b> <br>(Binding Affinity {binding_affinity})\",\n",
    "            \"y\": 0.9,\n",
    "            \"x\": 0.5,\n",
    "            \"xanchor\": \"center\",\n",
    "            \"yanchor\": \"top\",\n",
    "        },\n",
    "        yaxis_title = \"Expression\"\n",
    "    )\n",
    "    \n",
    "    fig.update_layout(\n",
    "        plot_bgcolor='white',  # Set plotting area background to white\n",
    "        paper_bgcolor='white',  # Set overall figure background to white\n",
    "        xaxis=dict(\n",
    "            showline=True,  # Show axis lines\n",
    "            linecolor='black',  # Color of axis lines\n",
    "            linewidth=1  # Width of axis lines\n",
    "        ),\n",
    "        yaxis=dict(\n",
    "            showline=True,  # Show axis lines\n",
    "            linecolor='black',  # Color of axis lines\n",
    "            linewidth=1,  # Width of axis lines\n",
    "            ticks='outside',  # Display ticks outside the axis\n",
    "            tickcolor='black',  # Color of ticks\n",
    "            tickwidth=2  # Width of ticks\n",
    "        )\n",
    "    )\n",
    "    \n",
    "    return fig\n"
   ]
  },
  {
   "cell_type": "markdown",
   "metadata": {},
   "source": [
    "### Gold-standard: TERT and ELK4"
   ]
  },
  {
   "cell_type": "code",
   "execution_count": null,
   "metadata": {},
   "outputs": [],
   "source": [
    "tert_row = data.iloc[3]"
   ]
  },
  {
   "cell_type": "code",
   "execution_count": 6,
   "metadata": {},
   "outputs": [
    {
     "name": "stdout",
     "output_type": "stream",
     "text": [
      "Saving image to: /Users/nicholasabad/Desktop/workspace/REMIND-Cancer/paper_figures/grid/tf_gold_standard_tert_elk4.pdf.pdf\n"
     ]
    }
   ],
   "source": [
    "tf_tert = tf_expression_violin_plot(\n",
    "    row=tert_row,\n",
    "    chosen_tf_name=\"ELK4\"\n",
    ")\n",
    "\n",
    "_write_figure_to_pdf(\n",
    "    fig = tf_tert,\n",
    "    name_of_plot = \"tf_gold_standard_tert_elk4.pdf\",\n",
    "    output_location = \"/Users/nicholasabad/Desktop/workspace/REMIND-Cancer/paper_figures/grid\",\n",
    ")"
   ]
  },
  {
   "cell_type": "markdown",
   "metadata": {},
   "source": [
    "### Good: ANKRD53"
   ]
  },
  {
   "cell_type": "code",
   "execution_count": 7,
   "metadata": {},
   "outputs": [
    {
     "name": "stdout",
     "output_type": "stream",
     "text": [
      "Saving image to: /Users/nicholasabad/Desktop/workspace/REMIND-Cancer/paper_figures/grid/tf_good_ankrd53_rela.pdf.pdf\n"
     ]
    }
   ],
   "source": [
    "tf_plot_ankrd = tf_expression_violin_plot(\n",
    "    row=data.iloc[0],\n",
    "    chosen_tf_name=\"RELA\"\n",
    ")\n",
    "\n",
    "_write_figure_to_pdf(\n",
    "    fig = tf_plot_ankrd,\n",
    "    name_of_plot = \"tf_good_ankrd53_rela.pdf\",\n",
    "    output_location = \"/Users/nicholasabad/Desktop/workspace/REMIND-Cancer/paper_figures/grid\",\n",
    ")"
   ]
  },
  {
   "cell_type": "markdown",
   "metadata": {},
   "source": [
    "### Bad: NF2"
   ]
  },
  {
   "cell_type": "code",
   "execution_count": 15,
   "metadata": {},
   "outputs": [
    {
     "data": {
      "text/plain": [
       "'IKZF1'"
      ]
     },
     "execution_count": 15,
     "metadata": {},
     "output_type": "execute_result"
    }
   ],
   "source": [
    "data.iloc[54][\"created_tfs_passing_tf_expression_threshold\"]"
   ]
  },
  {
   "cell_type": "code",
   "execution_count": 5,
   "metadata": {},
   "outputs": [
    {
     "data": {
      "text/plain": [
       "REF    G\n",
       "ALT    A\n",
       "Name: 54, dtype: object"
      ]
     },
     "execution_count": 5,
     "metadata": {},
     "output_type": "execute_result"
    }
   ],
   "source": [
    "data.iloc[54][['REF', 'ALT']]"
   ]
  },
  {
   "cell_type": "code",
   "execution_count": 16,
   "metadata": {},
   "outputs": [
    {
     "name": "stdout",
     "output_type": "stream",
     "text": [
      "Saving image to: /Users/nicholasabad/Desktop/workspace/REMIND-Cancer/paper_figures/grid/tf_good_rpl36al_IKZF1.pdf.pdf\n"
     ]
    }
   ],
   "source": [
    "tf_plot_rpl36al = tf_expression_violin_plot(\n",
    "    row=data.iloc[54],\n",
    "    chosen_tf_name=\"IKZF1\"\n",
    ")\n",
    "\n",
    "_write_figure_to_pdf(\n",
    "    fig = tf_plot_rpl36al,\n",
    "    name_of_plot = \"tf_good_rpl36al_IKZF1.pdf\",\n",
    "    output_location = \"/Users/nicholasabad/Desktop/workspace/REMIND-Cancer/paper_figures/grid\",\n",
    ")"
   ]
  },
  {
   "cell_type": "markdown",
   "metadata": {},
   "source": [
    "# c. TFBS Logo Plot"
   ]
  },
  {
   "cell_type": "markdown",
   "metadata": {},
   "source": [
    "# d. DeepPileup"
   ]
  },
  {
   "cell_type": "code",
   "execution_count": 18,
   "metadata": {},
   "outputs": [],
   "source": [
    "def af_greater_than_25_scatterplot(\n",
    "    path_to_overview_file: str, \n",
    "    only_relevant: bool = True\n",
    "):\n",
    "    data = pd.read_csv(path_to_overview_file, delimiter=\"\\t\")\n",
    "\n",
    "    gene_name = path_to_overview_file.split(\"/\")[-5]\n",
    "    position = path_to_overview_file.split(\"/\")[-4]\n",
    "\n",
    "    cohorts = {}\n",
    "    for idx, row in data.iterrows():\n",
    "        cohort_file = row[\"Cohort_File\"]\n",
    "        af = float(row[\"SNPs_AF>25_%\"])\n",
    "\n",
    "        cohort = cohort_file.split(\"_\")[2]\n",
    "        if cohort not in cohorts:\n",
    "            cohorts[cohort] = {\"tumor\": -1, \"control\": -1}\n",
    "        if \"control\" in cohort_file:\n",
    "            cohorts[cohort][\"control\"] = float(af)\n",
    "        else:\n",
    "            cohorts[cohort][\"tumor\"] = float(af)\n",
    "\n",
    "    num_original_cohorts = len(cohorts.keys())\n",
    "\n",
    "    if only_relevant:\n",
    "        cohorts_to_remove = []\n",
    "        for cohort in cohorts:\n",
    "            control_value = cohorts[cohort][\"control\"]\n",
    "            tumor_value = cohorts[cohort][\"tumor\"]\n",
    "            if control_value == 0 and tumor_value == 0:\n",
    "                cohorts_to_remove.append(cohort)\n",
    "        for cohort in cohorts_to_remove:\n",
    "            cohorts.pop(cohort, None)\n",
    "\n",
    "    x_axis = list(cohorts.keys())\n",
    "\n",
    "    num_current_cohorts = len(x_axis)\n",
    "\n",
    "    if len(x_axis) == 0:\n",
    "        return af_greater_than_25_scatterplot(path_to_overview_file, False)\n",
    "\n",
    "    else:\n",
    "        fig = go.Figure()\n",
    "\n",
    "        fig.add_trace(\n",
    "            go.Scatter(\n",
    "                x=x_axis,\n",
    "                y=[cohorts[cohort][\"tumor\"] for cohort in x_axis],\n",
    "                mode=\"markers\",\n",
    "                marker_color=\"red\",\n",
    "                marker={\"size\": 10},\n",
    "                name=\"Tumor\",\n",
    "            )\n",
    "        )\n",
    "        fig.add_trace(\n",
    "            go.Scatter(\n",
    "                x=x_axis,\n",
    "                y=[cohorts[cohort][\"control\"] for cohort in x_axis],\n",
    "                mode=\"markers\",\n",
    "                marker_color=\"green\",\n",
    "                marker={\"symbol\": \"circle-x-open\", \"size\": 10},\n",
    "                name=\"Control\",\n",
    "            )\n",
    "        )\n",
    "\n",
    "        fig.update_layout(\n",
    "            title=f\"<b>Patients with a minor allele frequency > 25%</b><br><sup>Gene Name: {gene_name} / Position: {position} / Displaying {num_current_cohorts} of {num_original_cohorts} cohorts\",\n",
    "            xaxis_title=\"Cohorts\",\n",
    "            yaxis_title=\"Percent of Patients\",\n",
    "            # yaxis_range=[-2, 100],\n",
    "        )\n",
    "        \n",
    "        fig.update_layout(\n",
    "            plot_bgcolor='white',  # Set plotting area background to white\n",
    "            paper_bgcolor='white',  # Set overall figure background to white\n",
    "            xaxis=dict(\n",
    "                showline=True,  # Show axis lines\n",
    "                linecolor='black',  # Color of axis lines\n",
    "                linewidth=1  # Width of axis lines\n",
    "            ),\n",
    "            yaxis=dict(\n",
    "                showline=True,  # Show axis lines\n",
    "                linecolor='black',  # Color of axis lines\n",
    "                linewidth=1,  # Width of axis lines\n",
    "                ticks='outside',  # Display ticks outside the axis\n",
    "                tickcolor='black',  # Color of ticks\n",
    "                tickwidth=2  # Width of ticks\n",
    "            )\n",
    "        )\n",
    "\n",
    "        fig.update_xaxes(tickangle=45)\n",
    "\n",
    "        return fig"
   ]
  },
  {
   "cell_type": "markdown",
   "metadata": {},
   "source": [
    "### Gold standard: TERT"
   ]
  },
  {
   "cell_type": "code",
   "execution_count": 23,
   "metadata": {},
   "outputs": [
    {
     "name": "stdout",
     "output_type": "stream",
     "text": [
      "Saving image to: /Users/nicholasabad/Desktop/workspace/REMIND-Cancer/paper_figures/grid/dp_tert.pdf.pdf\n"
     ]
    }
   ],
   "source": [
    "dp_tert = af_greater_than_25_scatterplot(\n",
    "    path_to_overview_file=\"/Users/nicholasabad/Desktop/workspace/data/deep_pileup/pcawg/TERT/chr5:1295228/Overview.tsv\"\n",
    ")\n",
    "\n",
    "_write_figure_to_pdf(\n",
    "    fig = dp_tert,\n",
    "    name_of_plot = \"dp_tert.pdf\",\n",
    "    output_location = \"/Users/nicholasabad/Desktop/workspace/REMIND-Cancer/paper_figures/grid\",\n",
    ")"
   ]
  },
  {
   "cell_type": "markdown",
   "metadata": {},
   "source": [
    "### Good: ANKRD53"
   ]
  },
  {
   "cell_type": "code",
   "execution_count": 24,
   "metadata": {},
   "outputs": [
    {
     "name": "stdout",
     "output_type": "stream",
     "text": [
      "Saving image to: /Users/nicholasabad/Desktop/workspace/REMIND-Cancer/paper_figures/grid/dp_ankrd53.pdf.pdf\n"
     ]
    }
   ],
   "source": [
    "dp_ankrd53 = af_greater_than_25_scatterplot(\n",
    "    path_to_overview_file=\"/Users/nicholasabad/Desktop/workspace/data/deep_pileup/pcawg/ANKRD53/chr2:71204529/Overview.tsv\"\n",
    ")\n",
    "\n",
    "_write_figure_to_pdf(\n",
    "    fig = dp_ankrd53,\n",
    "    name_of_plot = \"dp_ankrd53.pdf\",\n",
    "    output_location = \"/Users/nicholasabad/Desktop/workspace/REMIND-Cancer/paper_figures/grid\",\n",
    ")"
   ]
  },
  {
   "cell_type": "markdown",
   "metadata": {},
   "source": [
    "### Bad: NF2"
   ]
  },
  {
   "cell_type": "code",
   "execution_count": 25,
   "metadata": {},
   "outputs": [
    {
     "name": "stdout",
     "output_type": "stream",
     "text": [
      "Saving image to: /Users/nicholasabad/Desktop/workspace/REMIND-Cancer/paper_figures/grid/dp_nf2.pdf.pdf\n"
     ]
    }
   ],
   "source": [
    "dp_nf2 = af_greater_than_25_scatterplot(\n",
    "    path_to_overview_file=\"/Users/nicholasabad/Desktop/workspace/data/deep_pileup/pcawg/NF2/chr22:29999735/Overview.tsv\"\n",
    ")\n",
    "\n",
    "_write_figure_to_pdf(\n",
    "    fig = dp_nf2,\n",
    "    name_of_plot = \"dp_nf2.pdf\",\n",
    "    output_location = \"/Users/nicholasabad/Desktop/workspace/REMIND-Cancer/paper_figures/grid\",\n",
    ")"
   ]
  },
  {
   "cell_type": "markdown",
   "metadata": {},
   "source": [
    "# e. Genome Tornado Plot"
   ]
  },
  {
   "cell_type": "code",
   "execution_count": 26,
   "metadata": {},
   "outputs": [],
   "source": [
    "import shutil"
   ]
  },
  {
   "cell_type": "markdown",
   "metadata": {},
   "source": [
    "### Gold standard: TERT"
   ]
  },
  {
   "cell_type": "code",
   "execution_count": 27,
   "metadata": {},
   "outputs": [
    {
     "data": {
      "text/plain": [
       "'/Users/nicholasabad/Desktop/workspace/REMIND-Cancer/paper_figures/grid/gtp_TERT.png'"
      ]
     },
     "execution_count": 27,
     "metadata": {},
     "output_type": "execute_result"
    }
   ],
   "source": [
    "shutil.copy(\n",
    "    \"/Users/nicholasabad/Desktop/workspace/REMIND-Cancer-visualization/example_data/tornado_plots/chr5/chr5_TERT_zoomed.png\",\n",
    "    \"/Users/nicholasabad/Desktop/workspace/REMIND-Cancer/paper_figures/grid/gtp_TERT.png\"\n",
    ")"
   ]
  },
  {
   "cell_type": "markdown",
   "metadata": {},
   "source": [
    "### Good: Ankrd53"
   ]
  },
  {
   "cell_type": "code",
   "execution_count": 28,
   "metadata": {},
   "outputs": [
    {
     "data": {
      "text/plain": [
       "'/Users/nicholasabad/Desktop/workspace/REMIND-Cancer/paper_figures/grid/gtp_ANKRD53.png'"
      ]
     },
     "execution_count": 28,
     "metadata": {},
     "output_type": "execute_result"
    }
   ],
   "source": [
    "shutil.copy(\n",
    "    \"/Users/nicholasabad/Desktop/workspace/REMIND-Cancer-visualization/example_data/tornado_plots/chr2/chr2_ANKRD53_zoomed.png\",\n",
    "    \"/Users/nicholasabad/Desktop/workspace/REMIND-Cancer/paper_figures/grid/gtp_ANKRD53.png\"\n",
    ")"
   ]
  },
  {
   "cell_type": "markdown",
   "metadata": {},
   "source": [
    "### Bad: PRDM2"
   ]
  },
  {
   "cell_type": "code",
   "execution_count": 30,
   "metadata": {},
   "outputs": [
    {
     "data": {
      "text/plain": [
       "score                                                       76.92\n",
       "pid                          66d312fc-809d-428b-98e3-a29d211db35c\n",
       "cohort                                                    SKCM-US\n",
       "#CHROM                                                          1\n",
       "POS                                                      14026387\n",
       "                                            ...                  \n",
       "ncbi_url                   https://www.ncbi.nlm.nih.gov/gene/7799\n",
       "in_old_results                                              False\n",
       "cn_score.1                                          not_available\n",
       "cn_file_of_score                                    not_available\n",
       "ICGC_Estimated_Purity.1                                      0.82\n",
       "Name: 24, Length: 166, dtype: object"
      ]
     },
     "execution_count": 30,
     "metadata": {},
     "output_type": "execute_result"
    }
   ],
   "source": [
    "data.iloc[24]"
   ]
  },
  {
   "cell_type": "code",
   "execution_count": 31,
   "metadata": {},
   "outputs": [
    {
     "data": {
      "text/plain": [
       "'/Users/nicholasabad/Desktop/workspace/REMIND-Cancer/paper_figures/grid/gtp_PRDM2.png'"
      ]
     },
     "execution_count": 31,
     "metadata": {},
     "output_type": "execute_result"
    }
   ],
   "source": [
    "shutil.copy(\n",
    "    \"/Users/nicholasabad/Desktop/workspace/REMIND-Cancer-visualization/example_data/tornado_plots/chr1/chr1_PRDM2_zoomed.png\",\n",
    "    \"/Users/nicholasabad/Desktop/workspace/REMIND-Cancer/paper_figures/grid/gtp_PRDM2.png\"\n",
    ")"
   ]
  }
 ],
 "metadata": {
  "kernelspec": {
   "display_name": "psnv-hunter",
   "language": "python",
   "name": "python3"
  },
  "language_info": {
   "codemirror_mode": {
    "name": "ipython",
    "version": 3
   },
   "file_extension": ".py",
   "mimetype": "text/x-python",
   "name": "python",
   "nbconvert_exporter": "python",
   "pygments_lexer": "ipython3",
   "version": "3.11.11"
  }
 },
 "nbformat": 4,
 "nbformat_minor": 2
}
